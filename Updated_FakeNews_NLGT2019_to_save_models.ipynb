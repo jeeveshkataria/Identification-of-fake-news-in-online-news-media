{
  "cells": [
    {
      "cell_type": "markdown",
      "source": [
        "# Perform Necessary Imports"
      ],
      "metadata": {}
    },
    {
      "cell_type": "code",
      "source": [
        "import pandas as pd\n",
        "import xgboost\n",
        "import re\n",
        "import numpy as np\n",
        "from sklearn import model_selection, preprocessing, linear_model, naive_bayes, metrics, svm\n",
        "from sklearn.feature_extraction.text import TfidfVectorizer, CountVectorizer\n",
        "from sklearn import decomposition, ensemble\n",
        "from sklearn.metrics import f1_score\n",
        "import pickle"
      ],
      "outputs": [],
      "execution_count": 20,
      "metadata": {
        "gather": {
          "logged": 1604068701336
        }
      }
    },
    {
      "cell_type": "code",
      "source": [
        "# !pip install xgboost numpy scikit-learn"
      ],
      "outputs": [],
      "execution_count": 2,
      "metadata": {
        "gather": {
          "logged": 1604067962913
        }
      }
    },
    {
      "cell_type": "markdown",
      "source": [
        "# Read filtered Dataset"
      ],
      "metadata": {}
    },
    {
      "cell_type": "code",
      "source": [
        "totalData = pd.read_csv('nela10.csv')"
      ],
      "outputs": [],
      "execution_count": 5,
      "metadata": {
        "gather": {
          "logged": 1604067990570
        }
      }
    },
    {
      "cell_type": "markdown",
      "source": [
        "# How it looks like?"
      ],
      "metadata": {}
    },
    {
      "cell_type": "code",
      "source": [
        "totalData\r\n"
      ],
      "outputs": [
        {
          "output_type": "execute_result",
          "execution_count": 6,
          "data": {
            "text/plain": "                                                      id        date  \\\n0      abcnews--2019-01-30--Who is Stacey Abrams the ...  2019-01-30   \n1      abcnews--2019-01-30--Ban government shutdowns ...  2019-01-30   \n2      abcnews--2019-01-30--Democrats renew push for ...  2019-01-30   \n3      abcnews--2019-01-30--Trump attacks intel chief...  2019-01-30   \n4      abcnews--2019-01-30--Border security battle be...  2019-01-30   \n...                                                  ...         ...   \n57152  zerohedge--2019-11-01--Hong Kong Officer Faces...  2019-11-01   \n57153  zerohedge--2019-11-01--Enough \"Quid Pro Quo\" G...  2019-11-01   \n57154  zerohedge--2019-11-01--\"Born For This? I Don't...  2019-11-01   \n57155  zerohedge--2019-11-01--How Iran Used Google To...  2019-11-01   \n57156  zerohedge--2019-11-01--Malaysia Rejects Goldma...  2019-11-01   \n\n          source                                              title  \\\n0        abcnews  Who is Stacey Abrams, the Democrat who will re...   \n1        abcnews  Ban government shutdowns? Some Republicans and...   \n2        abcnews  Democrats renew push for equal pay for equal work   \n3        abcnews  Trump attacks intel chiefs after they contradi...   \n4        abcnews  Border security battle begins as Congress grap...   \n...          ...                                                ...   \n57152  zerohedge  Hong Kong Officer Faces Death Threats After Fi...   \n57153  zerohedge                 Enough \"Quid Pro Quo\" Gaslighting!   \n57154  zerohedge  \"Born For This? I Don't Think So\" - Trump Mock...   \n57155  zerohedge  How Iran Used Google To Disrupt 5% Of Global O...   \n57156  zerohedge  Malaysia Rejects Goldman's Offer Of \"Less Than...   \n\n                                                 content  \\\n0      Last November, Stacey Abrams, a Democrat who r...   \n1      As lawmakers scramble to negotiate a border se...   \n2      Ten years after President Barack Obama signed ...   \n3      President Donald Trump on Wednesday declared \"...   \n4      Republicans and Democrats on the exclusive com...   \n...                                                  ...   \n57152  It's unclear exactly when it happened (the BBG...   \n57153  Horse trading is the oxygen of politics; it is...   \n57154  Having plunged from over 10% to just 1% in the...   \n57155  Officials at Saudi Aramco believe that Iran us...   \n57156  In an interview with the Financial Times, Mala...   \n\n                                   author  \\\n0                        Cheyenne Haslett   \n1        Benjamin Siegel,\\nTrish Turner\\n   \n2                          John Parkinson   \n3                         Meridith Mcgraw   \n4      John Parkinson,\\nBenjamin Siegel\\n   \n...                                   ...   \n57152                        Tyler Durden   \n57153                        Tyler Durden   \n57154                        Tyler Durden   \n57155                        Tyler Durden   \n57156                        Tyler Durden   \n\n                                                     url  \\\n0      https://abcnews.go.com/Politics/stacey-abrams-...   \n1      https://abcnews.go.com/Politics/ban-government...   \n2      https://abcnews.go.com/Politics/dems-renew-pus...   \n3      https://abcnews.go.com/Politics/trump-attacks-...   \n4      https://abcnews.go.com/Politics/border-securit...   \n...                                                  ...   \n57152  http://feedproxy.google.com/~r/zerohedge/feed/...   \n57153  http://feedproxy.google.com/~r/zerohedge/feed/...   \n57154  http://feedproxy.google.com/~r/zerohedge/feed/...   \n57155  http://feedproxy.google.com/~r/zerohedge/feed/...   \n57156  http://feedproxy.google.com/~r/zerohedge/feed/...   \n\n                             published  published_utc  collection_utc  \\\n0            2019-01-30 19:10:47+00:00     1548893447      1567550233   \n1            2019-01-30 17:29:04+00:00     1548887344      1567550233   \n2            2019-01-30 21:35:45+00:00     1548902145      1567550233   \n3            2019-01-30 17:03:40+00:00     1548885820      1567550233   \n4            2019-01-30 15:09:47+00:00     1548878987      1567550233   \n...                                ...            ...             ...   \n57152  Fri, 01 Nov 2019 22:45:00 +0000     1572662700      1572648625   \n57153  Fri, 01 Nov 2019 22:25:00 +0000     1572661500      1572648625   \n57154  Fri, 01 Nov 2019 21:56:35 +0000     1572659795      1572648626   \n57155  Fri, 01 Nov 2019 21:45:00 +0000     1572659100      1572648627   \n57156  Fri, 01 Nov 2019 21:25:00 +0000     1572657900      1572648625   \n\n       Reliability  \n0                0  \n1                0  \n2                0  \n3                0  \n4                0  \n...            ...  \n57152            2  \n57153            2  \n57154            2  \n57155            2  \n57156            2  \n\n[57157 rows x 11 columns]",
            "text/html": "<div>\n<style scoped>\n    .dataframe tbody tr th:only-of-type {\n        vertical-align: middle;\n    }\n\n    .dataframe tbody tr th {\n        vertical-align: top;\n    }\n\n    .dataframe thead th {\n        text-align: right;\n    }\n</style>\n<table border=\"1\" class=\"dataframe\">\n  <thead>\n    <tr style=\"text-align: right;\">\n      <th></th>\n      <th>id</th>\n      <th>date</th>\n      <th>source</th>\n      <th>title</th>\n      <th>content</th>\n      <th>author</th>\n      <th>url</th>\n      <th>published</th>\n      <th>published_utc</th>\n      <th>collection_utc</th>\n      <th>Reliability</th>\n    </tr>\n  </thead>\n  <tbody>\n    <tr>\n      <th>0</th>\n      <td>abcnews--2019-01-30--Who is Stacey Abrams the ...</td>\n      <td>2019-01-30</td>\n      <td>abcnews</td>\n      <td>Who is Stacey Abrams, the Democrat who will re...</td>\n      <td>Last November, Stacey Abrams, a Democrat who r...</td>\n      <td>Cheyenne Haslett</td>\n      <td>https://abcnews.go.com/Politics/stacey-abrams-...</td>\n      <td>2019-01-30 19:10:47+00:00</td>\n      <td>1548893447</td>\n      <td>1567550233</td>\n      <td>0</td>\n    </tr>\n    <tr>\n      <th>1</th>\n      <td>abcnews--2019-01-30--Ban government shutdowns ...</td>\n      <td>2019-01-30</td>\n      <td>abcnews</td>\n      <td>Ban government shutdowns? Some Republicans and...</td>\n      <td>As lawmakers scramble to negotiate a border se...</td>\n      <td>Benjamin Siegel,\\nTrish Turner\\n</td>\n      <td>https://abcnews.go.com/Politics/ban-government...</td>\n      <td>2019-01-30 17:29:04+00:00</td>\n      <td>1548887344</td>\n      <td>1567550233</td>\n      <td>0</td>\n    </tr>\n    <tr>\n      <th>2</th>\n      <td>abcnews--2019-01-30--Democrats renew push for ...</td>\n      <td>2019-01-30</td>\n      <td>abcnews</td>\n      <td>Democrats renew push for equal pay for equal work</td>\n      <td>Ten years after President Barack Obama signed ...</td>\n      <td>John Parkinson</td>\n      <td>https://abcnews.go.com/Politics/dems-renew-pus...</td>\n      <td>2019-01-30 21:35:45+00:00</td>\n      <td>1548902145</td>\n      <td>1567550233</td>\n      <td>0</td>\n    </tr>\n    <tr>\n      <th>3</th>\n      <td>abcnews--2019-01-30--Trump attacks intel chief...</td>\n      <td>2019-01-30</td>\n      <td>abcnews</td>\n      <td>Trump attacks intel chiefs after they contradi...</td>\n      <td>President Donald Trump on Wednesday declared \"...</td>\n      <td>Meridith Mcgraw</td>\n      <td>https://abcnews.go.com/Politics/trump-attacks-...</td>\n      <td>2019-01-30 17:03:40+00:00</td>\n      <td>1548885820</td>\n      <td>1567550233</td>\n      <td>0</td>\n    </tr>\n    <tr>\n      <th>4</th>\n      <td>abcnews--2019-01-30--Border security battle be...</td>\n      <td>2019-01-30</td>\n      <td>abcnews</td>\n      <td>Border security battle begins as Congress grap...</td>\n      <td>Republicans and Democrats on the exclusive com...</td>\n      <td>John Parkinson,\\nBenjamin Siegel\\n</td>\n      <td>https://abcnews.go.com/Politics/border-securit...</td>\n      <td>2019-01-30 15:09:47+00:00</td>\n      <td>1548878987</td>\n      <td>1567550233</td>\n      <td>0</td>\n    </tr>\n    <tr>\n      <th>...</th>\n      <td>...</td>\n      <td>...</td>\n      <td>...</td>\n      <td>...</td>\n      <td>...</td>\n      <td>...</td>\n      <td>...</td>\n      <td>...</td>\n      <td>...</td>\n      <td>...</td>\n      <td>...</td>\n    </tr>\n    <tr>\n      <th>57152</th>\n      <td>zerohedge--2019-11-01--Hong Kong Officer Faces...</td>\n      <td>2019-11-01</td>\n      <td>zerohedge</td>\n      <td>Hong Kong Officer Faces Death Threats After Fi...</td>\n      <td>It's unclear exactly when it happened (the BBG...</td>\n      <td>Tyler Durden</td>\n      <td>http://feedproxy.google.com/~r/zerohedge/feed/...</td>\n      <td>Fri, 01 Nov 2019 22:45:00 +0000</td>\n      <td>1572662700</td>\n      <td>1572648625</td>\n      <td>2</td>\n    </tr>\n    <tr>\n      <th>57153</th>\n      <td>zerohedge--2019-11-01--Enough \"Quid Pro Quo\" G...</td>\n      <td>2019-11-01</td>\n      <td>zerohedge</td>\n      <td>Enough \"Quid Pro Quo\" Gaslighting!</td>\n      <td>Horse trading is the oxygen of politics; it is...</td>\n      <td>Tyler Durden</td>\n      <td>http://feedproxy.google.com/~r/zerohedge/feed/...</td>\n      <td>Fri, 01 Nov 2019 22:25:00 +0000</td>\n      <td>1572661500</td>\n      <td>1572648625</td>\n      <td>2</td>\n    </tr>\n    <tr>\n      <th>57154</th>\n      <td>zerohedge--2019-11-01--\"Born For This? I Don't...</td>\n      <td>2019-11-01</td>\n      <td>zerohedge</td>\n      <td>\"Born For This? I Don't Think So\" - Trump Mock...</td>\n      <td>Having plunged from over 10% to just 1% in the...</td>\n      <td>Tyler Durden</td>\n      <td>http://feedproxy.google.com/~r/zerohedge/feed/...</td>\n      <td>Fri, 01 Nov 2019 21:56:35 +0000</td>\n      <td>1572659795</td>\n      <td>1572648626</td>\n      <td>2</td>\n    </tr>\n    <tr>\n      <th>57155</th>\n      <td>zerohedge--2019-11-01--How Iran Used Google To...</td>\n      <td>2019-11-01</td>\n      <td>zerohedge</td>\n      <td>How Iran Used Google To Disrupt 5% Of Global O...</td>\n      <td>Officials at Saudi Aramco believe that Iran us...</td>\n      <td>Tyler Durden</td>\n      <td>http://feedproxy.google.com/~r/zerohedge/feed/...</td>\n      <td>Fri, 01 Nov 2019 21:45:00 +0000</td>\n      <td>1572659100</td>\n      <td>1572648627</td>\n      <td>2</td>\n    </tr>\n    <tr>\n      <th>57156</th>\n      <td>zerohedge--2019-11-01--Malaysia Rejects Goldma...</td>\n      <td>2019-11-01</td>\n      <td>zerohedge</td>\n      <td>Malaysia Rejects Goldman's Offer Of \"Less Than...</td>\n      <td>In an interview with the Financial Times, Mala...</td>\n      <td>Tyler Durden</td>\n      <td>http://feedproxy.google.com/~r/zerohedge/feed/...</td>\n      <td>Fri, 01 Nov 2019 21:25:00 +0000</td>\n      <td>1572657900</td>\n      <td>1572648625</td>\n      <td>2</td>\n    </tr>\n  </tbody>\n</table>\n<p>57157 rows × 11 columns</p>\n</div>"
          },
          "metadata": {}
        }
      ],
      "execution_count": 6,
      "metadata": {
        "gather": {
          "logged": 1604067999236
        }
      }
    },
    {
      "cell_type": "markdown",
      "source": [
        "# Keep only content, Reliability as columns"
      ],
      "metadata": {}
    },
    {
      "cell_type": "code",
      "source": [
        "#Keep only content, Reliability as columns\n",
        "totalData = totalData.drop(['id','date','source','title','author','url','published','published_utc','collection_utc'],axis=1)"
      ],
      "outputs": [],
      "execution_count": 7,
      "metadata": {
        "gather": {
          "logged": 1604068000734
        }
      }
    },
    {
      "cell_type": "code",
      "source": [
        "totalData"
      ],
      "outputs": [
        {
          "output_type": "execute_result",
          "execution_count": 8,
          "data": {
            "text/plain": "                                                 content  Reliability\n0      Last November, Stacey Abrams, a Democrat who r...            0\n1      As lawmakers scramble to negotiate a border se...            0\n2      Ten years after President Barack Obama signed ...            0\n3      President Donald Trump on Wednesday declared \"...            0\n4      Republicans and Democrats on the exclusive com...            0\n...                                                  ...          ...\n57152  It's unclear exactly when it happened (the BBG...            2\n57153  Horse trading is the oxygen of politics; it is...            2\n57154  Having plunged from over 10% to just 1% in the...            2\n57155  Officials at Saudi Aramco believe that Iran us...            2\n57156  In an interview with the Financial Times, Mala...            2\n\n[57157 rows x 2 columns]",
            "text/html": "<div>\n<style scoped>\n    .dataframe tbody tr th:only-of-type {\n        vertical-align: middle;\n    }\n\n    .dataframe tbody tr th {\n        vertical-align: top;\n    }\n\n    .dataframe thead th {\n        text-align: right;\n    }\n</style>\n<table border=\"1\" class=\"dataframe\">\n  <thead>\n    <tr style=\"text-align: right;\">\n      <th></th>\n      <th>content</th>\n      <th>Reliability</th>\n    </tr>\n  </thead>\n  <tbody>\n    <tr>\n      <th>0</th>\n      <td>Last November, Stacey Abrams, a Democrat who r...</td>\n      <td>0</td>\n    </tr>\n    <tr>\n      <th>1</th>\n      <td>As lawmakers scramble to negotiate a border se...</td>\n      <td>0</td>\n    </tr>\n    <tr>\n      <th>2</th>\n      <td>Ten years after President Barack Obama signed ...</td>\n      <td>0</td>\n    </tr>\n    <tr>\n      <th>3</th>\n      <td>President Donald Trump on Wednesday declared \"...</td>\n      <td>0</td>\n    </tr>\n    <tr>\n      <th>4</th>\n      <td>Republicans and Democrats on the exclusive com...</td>\n      <td>0</td>\n    </tr>\n    <tr>\n      <th>...</th>\n      <td>...</td>\n      <td>...</td>\n    </tr>\n    <tr>\n      <th>57152</th>\n      <td>It's unclear exactly when it happened (the BBG...</td>\n      <td>2</td>\n    </tr>\n    <tr>\n      <th>57153</th>\n      <td>Horse trading is the oxygen of politics; it is...</td>\n      <td>2</td>\n    </tr>\n    <tr>\n      <th>57154</th>\n      <td>Having plunged from over 10% to just 1% in the...</td>\n      <td>2</td>\n    </tr>\n    <tr>\n      <th>57155</th>\n      <td>Officials at Saudi Aramco believe that Iran us...</td>\n      <td>2</td>\n    </tr>\n    <tr>\n      <th>57156</th>\n      <td>In an interview with the Financial Times, Mala...</td>\n      <td>2</td>\n    </tr>\n  </tbody>\n</table>\n<p>57157 rows × 2 columns</p>\n</div>"
          },
          "metadata": {}
        }
      ],
      "execution_count": 8,
      "metadata": {
        "gather": {
          "logged": 1604068003309
        }
      }
    },
    {
      "cell_type": "code",
      "source": [
        "#find out unique Reliability labels type\n",
        "totalData.Reliability.unique()"
      ],
      "outputs": [
        {
          "output_type": "execute_result",
          "execution_count": 9,
          "data": {
            "text/plain": "array([0, 2])"
          },
          "metadata": {}
        }
      ],
      "execution_count": 9,
      "metadata": {
        "gather": {
          "logged": 1604068008037
        }
      }
    },
    {
      "cell_type": "code",
      "source": [
        "#Drop off mixed reliability(label=1) type\n",
        "totalData = totalData[totalData.Reliability != 1]"
      ],
      "outputs": [],
      "execution_count": 10,
      "metadata": {
        "gather": {
          "logged": 1604068035855
        }
      }
    },
    {
      "cell_type": "code",
      "source": [
        "#find out unique Reliability labels type\n",
        "totalData.Reliability.unique()"
      ],
      "outputs": [
        {
          "output_type": "execute_result",
          "execution_count": 11,
          "data": {
            "text/plain": "array([0, 2])"
          },
          "metadata": {}
        }
      ],
      "execution_count": 11,
      "metadata": {
        "gather": {
          "logged": 1604068054774
        }
      }
    },
    {
      "cell_type": "code",
      "source": [
        "def save_model(model_name, model_in):\r\n",
        "    with open(model_name + \".pkl\", 'wb') as file:\r\n",
        "        pickle.dump(model_in, file)"
      ],
      "outputs": [],
      "execution_count": 33,
      "metadata": {
        "collapsed": true,
        "jupyter": {
          "source_hidden": false,
          "outputs_hidden": false
        },
        "nteract": {
          "transient": {
            "deleting": false
          }
        },
        "gather": {
          "logged": 1604074698623
        }
      }
    },
    {
      "cell_type": "markdown",
      "source": [
        "# Cleaning dataset"
      ],
      "metadata": {}
    },
    {
      "cell_type": "code",
      "source": [
        "totalData = totalData.reset_index(drop=True)\n",
        "REPLACE_BY_SPACE_RE = re.compile('[/(){}\\[\\]\\|@,;]')\n",
        "BAD_SYMBOLS_RE = re.compile('[^0-9a-z #+_]')\n",
        "STOPWORDS = []\n",
        "\n",
        "def clean_text(text):\n",
        "    \"\"\"\n",
        "        text: a string\n",
        "        \n",
        "        return: modified initial string\n",
        "    \"\"\"\n",
        "    text = text.lower() # lowercase text\n",
        "    text = REPLACE_BY_SPACE_RE.sub(' ', text) # replace REPLACE_BY_SPACE_RE symbols by space in text. substitute the matched string in REPLACE_BY_SPACE_RE with space.\n",
        "    text = BAD_SYMBOLS_RE.sub('', text) # remove symbols which are in BAD_SYMBOLS_RE from text. substitute the matched string in BAD_SYMBOLS_RE with nothing. \n",
        "#    text = re.sub(r'\\W+', '', text)\n",
        "    text = ' '.join(word for word in text.split() if word not in STOPWORDS) # remove stopwors from text\n",
        "    return text\n",
        "totalData.content = totalData.content.apply(clean_text)\n",
        "totalData.content = totalData.content.str.replace('\\d+', '')"
      ],
      "outputs": [],
      "execution_count": 12,
      "metadata": {
        "gather": {
          "logged": 1604068080882
        }
      }
    },
    {
      "cell_type": "code",
      "source": [
        "totalData.content.sample(10)"
      ],
      "outputs": [
        {
          "output_type": "execute_result",
          "execution_count": 28,
          "data": {
            "text/plain": "55762    struggling presidential candidate rep tim ryan...\n32378    a cold winters day is the perfect opportunity ...\n883      washington dc american civil rights groups hav...\n29621    walk down any uk high street and you may do a ...\n47439    a republican congressman in a rare move had so...\n9491     maurizio sarris chelsea face the first of a se...\n27486    i recently ordered makeup from revolution beau...\n29186    debt collectors are almost universally recogni...\n31598    sam allardyce has been criticised for his awfu...\n30274    a website offering a student essaywriting serv...\nName: content, dtype: object"
          },
          "metadata": {}
        }
      ],
      "execution_count": 28,
      "metadata": {}
    },
    {
      "cell_type": "markdown",
      "source": [
        "# Perform test train split"
      ],
      "metadata": {}
    },
    {
      "cell_type": "code",
      "source": [
        "# split the dataset into training and validation datasets \n",
        "from sklearn.model_selection import train_test_split\n",
        "# train_x, valid_x, train_y, valid_y = model_selection.train_test_split(train['tweet'], train['label'])\n",
        "train_x, valid_x, train_y, valid_y = train_test_split(totalData['content'], totalData['Reliability'], test_size=0.20)"
      ],
      "outputs": [],
      "execution_count": 14,
      "metadata": {
        "gather": {
          "logged": 1604068094970
        }
      }
    },
    {
      "cell_type": "code",
      "source": [],
      "outputs": [],
      "execution_count": null,
      "metadata": {
        "collapsed": true,
        "jupyter": {
          "source_hidden": false,
          "outputs_hidden": false
        },
        "nteract": {
          "transient": {
            "deleting": false
          }
        }
      }
    },
    {
      "cell_type": "code",
      "source": [
        "save_model('valid_x', valid_x)\r\n",
        "save_model('valid_y', valid_y)"
      ],
      "outputs": [],
      "execution_count": null,
      "metadata": {
        "collapsed": true,
        "jupyter": {
          "source_hidden": false,
          "outputs_hidden": false
        },
        "nteract": {
          "transient": {
            "deleting": false
          }
        }
      }
    },
    {
      "cell_type": "markdown",
      "source": [
        "# Develop Unigram and Bigram Tf-Idf feature vectors from data"
      ],
      "metadata": {}
    },
    {
      "cell_type": "code",
      "source": [
        "# unigram level tf-idf\n",
        "tfidf_vect = TfidfVectorizer(analyzer='word', token_pattern=r'\\w{1,}', max_features=None)\n",
        "tfidf_vect.fit(totalData['content'])\n",
        "xtrain_tfidf_unigram =  tfidf_vect.transform(train_x)\n",
        "xvalid_tfidf_unigram =  tfidf_vect.transform(valid_x)\n",
        "\n",
        "# bigram level tf-idf (bigram in this case)\n",
        "tfidf_vect_ngram = TfidfVectorizer(analyzer='word', token_pattern=r'\\w{1,}', ngram_range=(2,2), max_features=None)\n",
        "tfidf_vect_ngram.fit(totalData['content'])\n",
        "xtrain_tfidf_bigram =  tfidf_vect_ngram.transform(train_x)\n",
        "xvalid_tfidf_bigram =  tfidf_vect_ngram.transform(valid_x)\n"
      ],
      "outputs": [],
      "execution_count": 15,
      "metadata": {
        "gather": {
          "logged": 1604068257177
        }
      }
    },
    {
      "cell_type": "code",
      "source": [
        "save_model(\"tfidf_vect\", tfidf_vect)\r\n",
        "save_model(\"tfidf_vect_ngram\", tfidf_vect_ngram)"
      ],
      "outputs": [],
      "execution_count": 34,
      "metadata": {
        "collapsed": true,
        "jupyter": {
          "source_hidden": false,
          "outputs_hidden": false
        },
        "nteract": {
          "transient": {
            "deleting": false
          }
        },
        "gather": {
          "logged": 1604074779165
        }
      }
    },
    {
      "cell_type": "markdown",
      "source": [
        "# Build Model functions"
      ],
      "metadata": {}
    },
    {
      "cell_type": "code",
      "source": [
        "def train_model(classifier, feature_vector_train, label,  feature_vector_valid, valid_y,is_neural_net=False):\n",
        "    # fit the training dataset on the classifier\n",
        "    classifier.fit(feature_vector_train, label)    \n",
        "    # predict the labels on validation dataset\n",
        "    predictions = classifier.predict(feature_vector_valid)\n",
        "    \n",
        "    if is_neural_net:\n",
        "        predictions = predictions.argmax(axis=-1)\n",
        "    \n",
        "    #print(\"In Validation Data\",metrics.accuracy_score(predictions, valid_y))\n",
        "    print(\"f1 score: \",f1_score(valid_y,predictions,average='weighted'))        \n",
        "    return metrics.accuracy_score(valid_y,predictions), classifier\n",
        "    "
      ],
      "outputs": [],
      "execution_count": 17,
      "metadata": {
        "gather": {
          "logged": 1604068612963
        }
      }
    },
    {
      "cell_type": "markdown",
      "source": [
        "# Base Line Model Used\n",
        "## 1. Naive Bayes\n",
        "## 2. Linear Classifier\n",
        "## 3. Bagging\n",
        "## 4. Boosting\n",
        "## 5. SVM"
      ],
      "metadata": {}
    },
    {
      "cell_type": "markdown",
      "source": [
        "#  Naive Bayes Model "
      ],
      "metadata": {}
    },
    {
      "cell_type": "code",
      "source": [],
      "outputs": [],
      "execution_count": 26,
      "metadata": {
        "collapsed": true,
        "jupyter": {
          "source_hidden": false,
          "outputs_hidden": false
        },
        "nteract": {
          "transient": {
            "deleting": false
          }
        },
        "gather": {
          "logged": 1604068963600
        }
      }
    },
    {
      "cell_type": "code",
      "source": [
        "# Naive Bayes on Word Level TF IDF Vectors\n",
        "print(\"For Unigram Tf-IDF features vectors using Naive Bayes\")\n",
        "accuracy, model= train_model(naive_bayes.MultinomialNB(), xtrain_tfidf_unigram, train_y, xvalid_tfidf_unigram, valid_y)\n",
        "print (\"Accuracy: \", accuracy)\n",
        "save_model(\"Naive_bayes_word_level\", model)"
      ],
      "outputs": [
        {
          "output_type": "stream",
          "name": "stdout",
          "text": [
            "For Unigram Tf-IDF features vectors using Naive Bayes\n",
            "f1 score:  0.6908281126919321\n",
            "Accuracy:  0.7821028691392582\n"
          ]
        }
      ],
      "execution_count": 27,
      "metadata": {
        "gather": {
          "logged": 1604068965851
        }
      }
    },
    {
      "cell_type": "code",
      "source": [
        "# Naive Bayes on Ngram Level TF IDF Vectors\r\n",
        "print(\"For Bigram Tf-IDF features vectors using Naive Bayes\")\r\n",
        "accuracy, model = train_model(naive_bayes.MultinomialNB(), xtrain_tfidf_bigram, train_y, xvalid_tfidf_bigram, valid_y)\r\n",
        "print (\"Accuracy: \", accuracy)\r\n",
        "save_model(\"Naive_bayes_ngram\", model)"
      ],
      "outputs": [
        {
          "output_type": "stream",
          "name": "stdout",
          "text": [
            "For Bigram Tf-IDF features vectors using Naive Bayes\n",
            "f1 score:  0.7025183236545448\n",
            "Accuracy:  0.7872638208537439\n"
          ]
        }
      ],
      "execution_count": 28,
      "metadata": {
        "collapsed": true,
        "jupyter": {
          "source_hidden": false,
          "outputs_hidden": false
        },
        "nteract": {
          "transient": {
            "deleting": false
          }
        },
        "gather": {
          "logged": 1604069025377
        }
      }
    },
    {
      "cell_type": "markdown",
      "source": [
        "# Linear Classifier"
      ],
      "metadata": {}
    },
    {
      "cell_type": "code",
      "source": [
        "# Linear Classifier on Word Level TF IDF Vectors\n",
        "print(\"For Unigram TF-Idf feature vectors using Logistic Regression\")\n",
        "accuracy,model = train_model(linear_model.LogisticRegression(max_iter=500), xtrain_tfidf_unigram, train_y, xvalid_tfidf_unigram, valid_y)\n",
        "print(\"accuracy: \", accuracy)\n",
        "save_model(\"linear_classifier_word_level\", model)\n",
        "\n",
        "# Linear Classifier on Ngram Level TF IDF Vectors\n",
        "print(\"For Biigram TF-Idf feature vectors using Logistic Regression\")\n",
        "accuracy,model = train_model(linear_model.LogisticRegression(max_iter=500),  xtrain_tfidf_bigram, train_y, xvalid_tfidf_bigram, valid_y)\n",
        "print(\"Accuracy: \", accuracy)\n",
        "save_model(\"linear_classifier_ngram\", model)"
      ],
      "outputs": [
        {
          "output_type": "stream",
          "name": "stdout",
          "text": [
            "For Unigram TF-Idf feature vectors using Logistic Regression\n",
            "f1 score:  0.8733573332903743\n",
            "accuracy:  0.8836599020293912\n",
            "For Biigram TF-Idf feature vectors using Logistic Regression\n",
            "f1 score:  0.8167309361588776\n",
            "Accuracy:  0.8477081875437369\n"
          ]
        }
      ],
      "execution_count": 29,
      "metadata": {
        "gather": {
          "logged": 1604069311906
        }
      }
    },
    {
      "cell_type": "markdown",
      "source": [
        "# Bagging Model"
      ],
      "metadata": {}
    },
    {
      "cell_type": "code",
      "source": [
        "# RF on Word Level TF IDF Vectors\n",
        "print(\"For Unigram Tf-Idf feature vectors using Random Forest Classifier\")\n",
        "accuracy,model = train_model(ensemble.RandomForestClassifier(n_jobs = -1), xtrain_tfidf_unigram, train_y, xvalid_tfidf_unigram, valid_y)\n",
        "print (\"Accuracy: \", accuracy)\n",
        "save_model(\"Bagging_word_level\", model)\n",
        "# RF on ngram Level TF IDF Vectors\n",
        "print(\"For Bigram Tf-Idf feature vectors using Random Forest Classifier\")\n",
        "accuracy,model = train_model(ensemble.RandomForestClassifier(n_jobs = -1), xtrain_tfidf_bigram, train_y, xvalid_tfidf_bigram, valid_y)\n",
        "print (\"Accuracy: \", accuracy)\n",
        "save_model(\"Bagging_ngram\", model)"
      ],
      "outputs": [
        {
          "output_type": "stream",
          "name": "stdout",
          "text": [
            "For Unigram Tf-Idf feature vectors using Random Forest Classifier\n",
            "f1 score:  0.7833724814724495\n",
            "Accuracy:  0.8284639608117564\n",
            "For Bigram Tf-Idf feature vectors using Random Forest Classifier\n",
            "f1 score:  0.8101724162214172\n",
            "Accuracy:  0.8444716585024493\n"
          ]
        }
      ],
      "execution_count": 31,
      "metadata": {
        "gather": {
          "logged": 1604074506146
        }
      }
    },
    {
      "cell_type": "markdown",
      "source": [
        "# Boosting Model"
      ],
      "metadata": {}
    },
    {
      "cell_type": "code",
      "source": [
        "print(\"For Unigram Tf-Idf feature vectors using Extreme Gradient Boosting\")\n",
        "# Extereme Gradient Boosting on Word Level TF IDF Vectors\n",
        "accuracy,model = train_model(xgboost.XGBClassifier(), xtrain_tfidf_unigram.tocsc(), train_y, xvalid_tfidf_unigram.tocsc(), valid_y)\n",
        "print(\"Accuracy: \", accuracy)\n",
        "save_model(\"Boosting_word_level\", model)\n",
        "\n",
        "# Extereme Gradient Boosting on ngram Level TF IDF Vectors\n",
        "print(\"For Bigram Tf-Idf feature vectors using Extreme Gradient Boosting\")\n",
        "accuracy, model = train_model(xgboost.XGBClassifier(), xtrain_tfidf_bigram.tocsc(), train_y, xvalid_tfidf_bigram.tocsc(), valid_y)\n",
        "print(\"Accuracy: \", accuracy)\n",
        "save_model(\"Boosting_ngram\", model)"
      ],
      "outputs": [
        {
          "output_type": "stream",
          "name": "stdout",
          "text": [
            "For Unigram Tf-Idf feature vectors using Extreme Gradient Boosting\n",
            "f1 score:  0.8301802275473487\n",
            "Accuracy:  0.854706088173548\n",
            "For Bigram Tf-Idf feature vectors using Extreme Gradient Boosting\n",
            "f1 score:  0.8313766026023136\n",
            "Accuracy:  0.8573303009097271\n"
          ]
        }
      ],
      "execution_count": 35,
      "metadata": {
        "gather": {
          "logged": 1604076746373
        }
      }
    },
    {
      "cell_type": "markdown",
      "source": [
        "# SVM Model"
      ],
      "metadata": {}
    },
    {
      "cell_type": "code",
      "source": [
        "print(\"For Unigram Tf-Idf feature vectors using SVM\")\n",
        "#SVM Model on Unigram TF-IDF\n",
        "accuracy, model = train_model(svm.SVC(), xtrain_tfidf_unigram.tocsc(), train_y, xvalid_tfidf_unigram.tocsc(), valid_y)\n",
        "print(\"Accuracy: \", accuracy)\n",
        "save_model(\"SVM_word_level\", model)\n",
        "\n",
        "# SVM Model on Bigram TF-IDF\n",
        "print(\"For Bigram Tf-Idf feature vectors using SVM\")\n",
        "accuracy, model = train_model(svm.SVC(), xtrain_tfidf_bigram.tocsc(), train_y, xvalid_tfidf_bigram.tocsc(), valid_y)\n",
        "print(\"Accuracy: \", accuracy)\n",
        "save_model(\"SVM_ngram\", model)"
      ],
      "outputs": [
        {
          "output_type": "stream",
          "name": "stdout",
          "text": [
            "For Unigram Tf-Idf feature vectors using SVM\n"
          ]
        }
      ],
      "execution_count": 36,
      "metadata": {}
    },
    {
      "cell_type": "markdown",
      "source": [
        "# Using Tf-idf features of Title and the Body of data and predictions using Multi Layer Perceptron"
      ],
      "metadata": {}
    },
    {
      "cell_type": "markdown",
      "source": [
        "# Read Data again"
      ],
      "metadata": {}
    },
    {
      "cell_type": "code",
      "source": [
        "data = pd.read_csv('../datasets/nela10.csv')"
      ],
      "outputs": [],
      "execution_count": 2,
      "metadata": {}
    },
    {
      "cell_type": "markdown",
      "source": [
        "# Keep only title,body and reliability as columns "
      ],
      "metadata": {}
    },
    {
      "cell_type": "code",
      "source": [
        "data = data.drop(['id','date','source','author','url','published','published_utc','collection_utc'],axis=1)"
      ],
      "outputs": [],
      "execution_count": 3,
      "metadata": {}
    },
    {
      "cell_type": "markdown",
      "source": [
        "# Now, how it looks like"
      ],
      "metadata": {}
    },
    {
      "cell_type": "code",
      "source": [
        "data"
      ],
      "outputs": [
        {
          "output_type": "execute_result",
          "execution_count": 4,
          "data": {
            "text/html": "<div>\n<style scoped>\n    .dataframe tbody tr th:only-of-type {\n        vertical-align: middle;\n    }\n\n    .dataframe tbody tr th {\n        vertical-align: top;\n    }\n\n    .dataframe thead th {\n        text-align: right;\n    }\n</style>\n<table border=\"1\" class=\"dataframe\">\n  <thead>\n    <tr style=\"text-align: right;\">\n      <th></th>\n      <th>title</th>\n      <th>content</th>\n      <th>Reliability</th>\n    </tr>\n  </thead>\n  <tbody>\n    <tr>\n      <th>0</th>\n      <td>Who is Stacey Abrams, the Democrat who will re...</td>\n      <td>Last November, Stacey Abrams, a Democrat who r...</td>\n      <td>0</td>\n    </tr>\n    <tr>\n      <th>1</th>\n      <td>Ban government shutdowns? Some Republicans and...</td>\n      <td>As lawmakers scramble to negotiate a border se...</td>\n      <td>0</td>\n    </tr>\n    <tr>\n      <th>2</th>\n      <td>Democrats renew push for equal pay for equal work</td>\n      <td>Ten years after President Barack Obama signed ...</td>\n      <td>0</td>\n    </tr>\n    <tr>\n      <th>3</th>\n      <td>Trump attacks intel chiefs after they contradi...</td>\n      <td>President Donald Trump on Wednesday declared \"...</td>\n      <td>0</td>\n    </tr>\n    <tr>\n      <th>4</th>\n      <td>Border security battle begins as Congress grap...</td>\n      <td>Republicans and Democrats on the exclusive com...</td>\n      <td>0</td>\n    </tr>\n    <tr>\n      <th>...</th>\n      <td>...</td>\n      <td>...</td>\n      <td>...</td>\n    </tr>\n    <tr>\n      <th>57152</th>\n      <td>Hong Kong Officer Faces Death Threats After Fi...</td>\n      <td>It's unclear exactly when it happened (the BBG...</td>\n      <td>2</td>\n    </tr>\n    <tr>\n      <th>57153</th>\n      <td>Enough \"Quid Pro Quo\" Gaslighting!</td>\n      <td>Horse trading is the oxygen of politics; it is...</td>\n      <td>2</td>\n    </tr>\n    <tr>\n      <th>57154</th>\n      <td>\"Born For This? I Don't Think So\" - Trump Mock...</td>\n      <td>Having plunged from over 10% to just 1% in the...</td>\n      <td>2</td>\n    </tr>\n    <tr>\n      <th>57155</th>\n      <td>How Iran Used Google To Disrupt 5% Of Global O...</td>\n      <td>Officials at Saudi Aramco believe that Iran us...</td>\n      <td>2</td>\n    </tr>\n    <tr>\n      <th>57156</th>\n      <td>Malaysia Rejects Goldman's Offer Of \"Less Than...</td>\n      <td>In an interview with the Financial Times, Mala...</td>\n      <td>2</td>\n    </tr>\n  </tbody>\n</table>\n<p>57157 rows × 3 columns</p>\n</div>",
            "text/plain": "                                                   title  \\\n0      Who is Stacey Abrams, the Democrat who will re...   \n1      Ban government shutdowns? Some Republicans and...   \n2      Democrats renew push for equal pay for equal work   \n3      Trump attacks intel chiefs after they contradi...   \n4      Border security battle begins as Congress grap...   \n...                                                  ...   \n57152  Hong Kong Officer Faces Death Threats After Fi...   \n57153                 Enough \"Quid Pro Quo\" Gaslighting!   \n57154  \"Born For This? I Don't Think So\" - Trump Mock...   \n57155  How Iran Used Google To Disrupt 5% Of Global O...   \n57156  Malaysia Rejects Goldman's Offer Of \"Less Than...   \n\n                                                 content  Reliability  \n0      Last November, Stacey Abrams, a Democrat who r...            0  \n1      As lawmakers scramble to negotiate a border se...            0  \n2      Ten years after President Barack Obama signed ...            0  \n3      President Donald Trump on Wednesday declared \"...            0  \n4      Republicans and Democrats on the exclusive com...            0  \n...                                                  ...          ...  \n57152  It's unclear exactly when it happened (the BBG...            2  \n57153  Horse trading is the oxygen of politics; it is...            2  \n57154  Having plunged from over 10% to just 1% in the...            2  \n57155  Officials at Saudi Aramco believe that Iran us...            2  \n57156  In an interview with the Financial Times, Mala...            2  \n\n[57157 rows x 3 columns]"
          },
          "metadata": {}
        }
      ],
      "execution_count": 4,
      "metadata": {}
    },
    {
      "cell_type": "markdown",
      "source": [
        "# Drop off mixed reliability types"
      ],
      "metadata": {}
    },
    {
      "cell_type": "code",
      "source": [
        "data = data[data.Reliability != 1]"
      ],
      "outputs": [],
      "execution_count": 5,
      "metadata": {}
    },
    {
      "cell_type": "code",
      "source": [
        "#find out unique Reliability labels type\n",
        "data.Reliability.unique()"
      ],
      "outputs": [
        {
          "output_type": "execute_result",
          "execution_count": 6,
          "data": {
            "text/plain": "array([0, 2])"
          },
          "metadata": {}
        }
      ],
      "execution_count": 6,
      "metadata": {}
    },
    {
      "cell_type": "markdown",
      "source": [
        "# Clean data "
      ],
      "metadata": {}
    },
    {
      "cell_type": "code",
      "source": [
        "data = data.reset_index(drop=True)\n",
        "REPLACE_BY_SPACE_RE = re.compile('[/(){}\\[\\]\\|@,;]')\n",
        "BAD_SYMBOLS_RE = re.compile('[^0-9a-z #+_]')\n",
        "STOPWORDS = []\n",
        "\n",
        "def clean_text(text):\n",
        "    \"\"\"\n",
        "        text: a string\n",
        "        \n",
        "        return: modified initial string\n",
        "    \"\"\"\n",
        "    text = text.lower() # lowercase text\n",
        "    text = REPLACE_BY_SPACE_RE.sub(' ', text) # replace REPLACE_BY_SPACE_RE symbols by space in text. substitute the matched string in REPLACE_BY_SPACE_RE with space.\n",
        "    text = BAD_SYMBOLS_RE.sub('', text) # remove symbols which are in BAD_SYMBOLS_RE from text. substitute the matched string in BAD_SYMBOLS_RE with nothing. \n",
        "#    text = re.sub(r'\\W+', '', text)\n",
        "    text = ' '.join(word for word in text.split() if word not in STOPWORDS) # remove stopwors from text\n",
        "    return text\n",
        "data.content = data.content.apply(clean_text)\n",
        "data.content = data.content.str.replace('\\d+', '')\n"
      ],
      "outputs": [],
      "execution_count": 8,
      "metadata": {}
    },
    {
      "cell_type": "code",
      "source": [
        "data['title']=data['title'].astype(str)"
      ],
      "outputs": [],
      "execution_count": 13,
      "metadata": {}
    },
    {
      "cell_type": "code",
      "source": [
        "data.title = data.title.apply(clean_text)\n",
        "data.title = data.title.str.replace('\\d+', '')"
      ],
      "outputs": [],
      "execution_count": 14,
      "metadata": {}
    },
    {
      "cell_type": "code",
      "source": [
        "#Cleaned data\n",
        "data"
      ],
      "outputs": [
        {
          "output_type": "execute_result",
          "execution_count": 16,
          "data": {
            "text/html": "<div>\n<style scoped>\n    .dataframe tbody tr th:only-of-type {\n        vertical-align: middle;\n    }\n\n    .dataframe tbody tr th {\n        vertical-align: top;\n    }\n\n    .dataframe thead th {\n        text-align: right;\n    }\n</style>\n<table border=\"1\" class=\"dataframe\">\n  <thead>\n    <tr style=\"text-align: right;\">\n      <th></th>\n      <th>title</th>\n      <th>content</th>\n      <th>Reliability</th>\n    </tr>\n  </thead>\n  <tbody>\n    <tr>\n      <th>0</th>\n      <td>who is stacey abrams the democrat who will res...</td>\n      <td>last november stacey abrams a democrat who ran...</td>\n      <td>0</td>\n    </tr>\n    <tr>\n      <th>1</th>\n      <td>ban government shutdowns some republicans and ...</td>\n      <td>as lawmakers scramble to negotiate a border se...</td>\n      <td>0</td>\n    </tr>\n    <tr>\n      <th>2</th>\n      <td>democrats renew push for equal pay for equal work</td>\n      <td>ten years after president barack obama signed ...</td>\n      <td>0</td>\n    </tr>\n    <tr>\n      <th>3</th>\n      <td>trump attacks intel chiefs after they contradi...</td>\n      <td>president donald trump on wednesday declared t...</td>\n      <td>0</td>\n    </tr>\n    <tr>\n      <th>4</th>\n      <td>border security battle begins as congress grap...</td>\n      <td>republicans and democrats on the exclusive com...</td>\n      <td>0</td>\n    </tr>\n    <tr>\n      <th>...</th>\n      <td>...</td>\n      <td>...</td>\n      <td>...</td>\n    </tr>\n    <tr>\n      <th>57152</th>\n      <td>hong kong officer faces death threats after fi...</td>\n      <td>its unclear exactly when it happened the bbg s...</td>\n      <td>2</td>\n    </tr>\n    <tr>\n      <th>57153</th>\n      <td>enough quid pro quo gaslighting</td>\n      <td>horse trading is the oxygen of politics it is ...</td>\n      <td>2</td>\n    </tr>\n    <tr>\n      <th>57154</th>\n      <td>born for this i dont think so trump mocks beto...</td>\n      <td>having plunged from over to just in the predic...</td>\n      <td>2</td>\n    </tr>\n    <tr>\n      <th>57155</th>\n      <td>how iran used google to disrupt  of global oil...</td>\n      <td>officials at saudi aramco believe that iran us...</td>\n      <td>2</td>\n    </tr>\n    <tr>\n      <th>57156</th>\n      <td>malaysia rejects goldmans offer of less than  ...</td>\n      <td>in an interview with the financial times malay...</td>\n      <td>2</td>\n    </tr>\n  </tbody>\n</table>\n<p>57157 rows × 3 columns</p>\n</div>",
            "text/plain": "                                                   title  \\\n0      who is stacey abrams the democrat who will res...   \n1      ban government shutdowns some republicans and ...   \n2      democrats renew push for equal pay for equal work   \n3      trump attacks intel chiefs after they contradi...   \n4      border security battle begins as congress grap...   \n...                                                  ...   \n57152  hong kong officer faces death threats after fi...   \n57153                    enough quid pro quo gaslighting   \n57154  born for this i dont think so trump mocks beto...   \n57155  how iran used google to disrupt  of global oil...   \n57156  malaysia rejects goldmans offer of less than  ...   \n\n                                                 content  Reliability  \n0      last november stacey abrams a democrat who ran...            0  \n1      as lawmakers scramble to negotiate a border se...            0  \n2      ten years after president barack obama signed ...            0  \n3      president donald trump on wednesday declared t...            0  \n4      republicans and democrats on the exclusive com...            0  \n...                                                  ...          ...  \n57152  its unclear exactly when it happened the bbg s...            2  \n57153  horse trading is the oxygen of politics it is ...            2  \n57154  having plunged from over to just in the predic...            2  \n57155  officials at saudi aramco believe that iran us...            2  \n57156  in an interview with the financial times malay...            2  \n\n[57157 rows x 3 columns]"
          },
          "metadata": {}
        }
      ],
      "execution_count": 16,
      "metadata": {}
    },
    {
      "cell_type": "markdown",
      "source": [
        "# Developing Tf-Idf features for title and content"
      ],
      "metadata": {}
    },
    {
      "cell_type": "code",
      "source": [
        "# unigram level tf-idf\n",
        "tfidf_vect1 = TfidfVectorizer(analyzer='word', token_pattern=r'\\w{1,}', max_features=None)\n",
        "tfidf_vect1.fit(data['content'])\n",
        "tfidf_vect2 = TfidfVectorizer(analyzer='word', token_pattern=r'\\w{1,}', max_features=None)\n",
        "tfidf_vect2.fit(data['title'])\n",
        "content_tfidf_unigram =  tfidf_vect1.transform(data['content'])\n",
        "title_tfidf_unigram = tfidf_vect2.transform(data['title'])\n",
        "\n",
        "# bigram level tf-idf (bigram in this case)\n",
        "tfidf_vect_ngram1 = TfidfVectorizer(analyzer='word', token_pattern=r'\\w{1,}', ngram_range=(2,2), max_features=None)\n",
        "tfidf_vect_ngram1.fit(data['content'])\n",
        "tfidf_vect_ngram2 = TfidfVectorizer(analyzer='word', token_pattern=r'\\w{1,}', ngram_range=(2,2), max_features=None)\n",
        "tfidf_vect_ngram2.fit(data['title'])\n",
        "content_tfidf_bigram =  tfidf_vect_ngram1.transform(data['content'])\n",
        "title_tfidf_bigram = tfidf_vect_ngram2.transform(data['title'])"
      ],
      "outputs": [],
      "execution_count": 19,
      "metadata": {}
    },
    {
      "cell_type": "code",
      "source": [
        "#Check dimenstions\n",
        "print(content_tfidf_unigram.shape)\n",
        "print(title_tfidf_unigram.shape)\n",
        "print(content_tfidf_bigram.shape)\n",
        "print(title_tfidf_bigram.shape)"
      ],
      "outputs": [
        {
          "output_type": "stream",
          "name": "stdout",
          "text": [
            "(57157, 737804)\n",
            "(57157, 43040)\n",
            "(57157, 6115724)\n",
            "(57157, 311055)\n"
          ]
        }
      ],
      "execution_count": 22,
      "metadata": {}
    },
    {
      "cell_type": "code",
      "source": [
        "fullData_unigram = np.empty((57157,780844))\n",
        "fullData_bigram = np.empty((57157,6426779))"
      ],
      "outputs": [
        {
          "output_type": "error",
          "ename": "MemoryError",
          "evalue": "Unable to allocate 333. GiB for an array with shape (57157, 780844) and data type float64",
          "traceback": [
            "\u001b[0;31m---------------------------------------------------------------------------\u001b[0m",
            "\u001b[0;31mMemoryError\u001b[0m                               Traceback (most recent call last)",
            "\u001b[0;32m<ipython-input-25-782e38b971ff>\u001b[0m in \u001b[0;36m<module>\u001b[0;34m\u001b[0m\n\u001b[0;32m----> 1\u001b[0;31m \u001b[0mfullData_unigram\u001b[0m \u001b[0;34m=\u001b[0m \u001b[0mnp\u001b[0m\u001b[0;34m.\u001b[0m\u001b[0mempty\u001b[0m\u001b[0;34m(\u001b[0m\u001b[0;34m(\u001b[0m\u001b[0;36m57157\u001b[0m\u001b[0;34m,\u001b[0m\u001b[0;36m780844\u001b[0m\u001b[0;34m)\u001b[0m\u001b[0;34m)\u001b[0m\u001b[0;34m\u001b[0m\u001b[0;34m\u001b[0m\u001b[0m\n\u001b[0m\u001b[1;32m      2\u001b[0m \u001b[0mfullData_bigram\u001b[0m \u001b[0;34m=\u001b[0m \u001b[0mnp\u001b[0m\u001b[0;34m.\u001b[0m\u001b[0mempty\u001b[0m\u001b[0;34m(\u001b[0m\u001b[0;34m(\u001b[0m\u001b[0;36m57157\u001b[0m\u001b[0;34m,\u001b[0m\u001b[0;36m6426779\u001b[0m\u001b[0;34m)\u001b[0m\u001b[0;34m)\u001b[0m\u001b[0;34m\u001b[0m\u001b[0;34m\u001b[0m\u001b[0m\n",
            "\u001b[0;31mMemoryError\u001b[0m: Unable to allocate 333. GiB for an array with shape (57157, 780844) and data type float64"
          ]
        }
      ],
      "execution_count": 25,
      "metadata": {}
    },
    {
      "cell_type": "code",
      "source": [],
      "outputs": [],
      "execution_count": null,
      "metadata": {}
    }
  ],
  "metadata": {
    "kernelspec": {
      "name": "python3",
      "language": "python",
      "display_name": "Python 3"
    },
    "language_info": {
      "name": "python",
      "version": "3.6.9",
      "mimetype": "text/x-python",
      "codemirror_mode": {
        "name": "ipython",
        "version": 3
      },
      "pygments_lexer": "ipython3",
      "nbconvert_exporter": "python",
      "file_extension": ".py"
    },
    "kernel_info": {
      "name": "python3"
    },
    "nteract": {
      "version": "nteract-front-end@1.0.0"
    }
  },
  "nbformat": 4,
  "nbformat_minor": 4
}