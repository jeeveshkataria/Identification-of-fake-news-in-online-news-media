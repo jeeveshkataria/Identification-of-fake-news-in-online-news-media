{
 "cells": [
  {
   "cell_type": "markdown",
   "metadata": {},
   "source": [
    "# Perform Necessary Imports"
   ]
  },
  {
   "cell_type": "code",
   "execution_count": 1,
   "metadata": {
    "execution": {
     "iopub.execute_input": "2020-10-30T20:50:40.165012Z",
     "iopub.status.busy": "2020-10-30T20:50:40.164738Z",
     "iopub.status.idle": "2020-10-30T20:50:47.292617Z",
     "shell.execute_reply": "2020-10-30T20:50:47.291432Z",
     "shell.execute_reply.started": "2020-10-30T20:50:40.164937Z"
    }
   },
   "outputs": [],
   "source": [
    "import pandas as pd\n",
    "import xgboost\n",
    "import re\n",
    "import numpy as np\n",
    "from sklearn import model_selection, preprocessing, linear_model, naive_bayes, metrics, svm\n",
    "from sklearn.feature_extraction.text import TfidfVectorizer, CountVectorizer\n",
    "from sklearn import decomposition, ensemble\n",
    "from sklearn.metrics import f1_score\n"
   ]
  },
  {
   "cell_type": "markdown",
   "metadata": {},
   "source": [
    "# Read filtered Dataset"
   ]
  },
  {
   "cell_type": "code",
   "execution_count": 3,
   "metadata": {
    "execution": {
     "iopub.execute_input": "2020-10-30T20:51:06.401852Z",
     "iopub.status.busy": "2020-10-30T20:51:06.401620Z",
     "iopub.status.idle": "2020-10-30T20:51:09.572506Z",
     "shell.execute_reply": "2020-10-30T20:51:09.571419Z",
     "shell.execute_reply.started": "2020-10-30T20:51:06.401825Z"
    }
   },
   "outputs": [],
   "source": [
    "totalData = pd.read_csv('../datasets/nela-gt/nela10.csv')"
   ]
  },
  {
   "cell_type": "markdown",
   "metadata": {},
   "source": [
    "# How it looks like?"
   ]
  },
  {
   "cell_type": "code",
   "execution_count": 4,
   "metadata": {
    "execution": {
     "iopub.execute_input": "2020-10-30T20:51:09.573926Z",
     "iopub.status.busy": "2020-10-30T20:51:09.573757Z",
     "iopub.status.idle": "2020-10-30T20:51:09.599225Z",
     "shell.execute_reply": "2020-10-30T20:51:09.598798Z",
     "shell.execute_reply.started": "2020-10-30T20:51:09.573903Z"
    }
   },
   "outputs": [
    {
     "data": {
      "text/html": [
       "<div>\n",
       "<style scoped>\n",
       "    .dataframe tbody tr th:only-of-type {\n",
       "        vertical-align: middle;\n",
       "    }\n",
       "\n",
       "    .dataframe tbody tr th {\n",
       "        vertical-align: top;\n",
       "    }\n",
       "\n",
       "    .dataframe thead th {\n",
       "        text-align: right;\n",
       "    }\n",
       "</style>\n",
       "<table border=\"1\" class=\"dataframe\">\n",
       "  <thead>\n",
       "    <tr style=\"text-align: right;\">\n",
       "      <th></th>\n",
       "      <th>id</th>\n",
       "      <th>date</th>\n",
       "      <th>source</th>\n",
       "      <th>title</th>\n",
       "      <th>content</th>\n",
       "      <th>author</th>\n",
       "      <th>url</th>\n",
       "      <th>published</th>\n",
       "      <th>published_utc</th>\n",
       "      <th>collection_utc</th>\n",
       "      <th>Reliability</th>\n",
       "    </tr>\n",
       "  </thead>\n",
       "  <tbody>\n",
       "    <tr>\n",
       "      <th>0</th>\n",
       "      <td>abcnews--2019-01-30--Who is Stacey Abrams the ...</td>\n",
       "      <td>2019-01-30</td>\n",
       "      <td>abcnews</td>\n",
       "      <td>Who is Stacey Abrams, the Democrat who will re...</td>\n",
       "      <td>Last November, Stacey Abrams, a Democrat who r...</td>\n",
       "      <td>Cheyenne Haslett</td>\n",
       "      <td>https://abcnews.go.com/Politics/stacey-abrams-...</td>\n",
       "      <td>2019-01-30 19:10:47+00:00</td>\n",
       "      <td>1548893447</td>\n",
       "      <td>1567550233</td>\n",
       "      <td>0</td>\n",
       "    </tr>\n",
       "    <tr>\n",
       "      <th>1</th>\n",
       "      <td>abcnews--2019-01-30--Ban government shutdowns ...</td>\n",
       "      <td>2019-01-30</td>\n",
       "      <td>abcnews</td>\n",
       "      <td>Ban government shutdowns? Some Republicans and...</td>\n",
       "      <td>As lawmakers scramble to negotiate a border se...</td>\n",
       "      <td>Benjamin Siegel,\\nTrish Turner\\n</td>\n",
       "      <td>https://abcnews.go.com/Politics/ban-government...</td>\n",
       "      <td>2019-01-30 17:29:04+00:00</td>\n",
       "      <td>1548887344</td>\n",
       "      <td>1567550233</td>\n",
       "      <td>0</td>\n",
       "    </tr>\n",
       "    <tr>\n",
       "      <th>2</th>\n",
       "      <td>abcnews--2019-01-30--Democrats renew push for ...</td>\n",
       "      <td>2019-01-30</td>\n",
       "      <td>abcnews</td>\n",
       "      <td>Democrats renew push for equal pay for equal work</td>\n",
       "      <td>Ten years after President Barack Obama signed ...</td>\n",
       "      <td>John Parkinson</td>\n",
       "      <td>https://abcnews.go.com/Politics/dems-renew-pus...</td>\n",
       "      <td>2019-01-30 21:35:45+00:00</td>\n",
       "      <td>1548902145</td>\n",
       "      <td>1567550233</td>\n",
       "      <td>0</td>\n",
       "    </tr>\n",
       "    <tr>\n",
       "      <th>3</th>\n",
       "      <td>abcnews--2019-01-30--Trump attacks intel chief...</td>\n",
       "      <td>2019-01-30</td>\n",
       "      <td>abcnews</td>\n",
       "      <td>Trump attacks intel chiefs after they contradi...</td>\n",
       "      <td>President Donald Trump on Wednesday declared \"...</td>\n",
       "      <td>Meridith Mcgraw</td>\n",
       "      <td>https://abcnews.go.com/Politics/trump-attacks-...</td>\n",
       "      <td>2019-01-30 17:03:40+00:00</td>\n",
       "      <td>1548885820</td>\n",
       "      <td>1567550233</td>\n",
       "      <td>0</td>\n",
       "    </tr>\n",
       "    <tr>\n",
       "      <th>4</th>\n",
       "      <td>abcnews--2019-01-30--Border security battle be...</td>\n",
       "      <td>2019-01-30</td>\n",
       "      <td>abcnews</td>\n",
       "      <td>Border security battle begins as Congress grap...</td>\n",
       "      <td>Republicans and Democrats on the exclusive com...</td>\n",
       "      <td>John Parkinson,\\nBenjamin Siegel\\n</td>\n",
       "      <td>https://abcnews.go.com/Politics/border-securit...</td>\n",
       "      <td>2019-01-30 15:09:47+00:00</td>\n",
       "      <td>1548878987</td>\n",
       "      <td>1567550233</td>\n",
       "      <td>0</td>\n",
       "    </tr>\n",
       "    <tr>\n",
       "      <th>...</th>\n",
       "      <td>...</td>\n",
       "      <td>...</td>\n",
       "      <td>...</td>\n",
       "      <td>...</td>\n",
       "      <td>...</td>\n",
       "      <td>...</td>\n",
       "      <td>...</td>\n",
       "      <td>...</td>\n",
       "      <td>...</td>\n",
       "      <td>...</td>\n",
       "      <td>...</td>\n",
       "    </tr>\n",
       "    <tr>\n",
       "      <th>57152</th>\n",
       "      <td>zerohedge--2019-11-01--Hong Kong Officer Faces...</td>\n",
       "      <td>2019-11-01</td>\n",
       "      <td>zerohedge</td>\n",
       "      <td>Hong Kong Officer Faces Death Threats After Fi...</td>\n",
       "      <td>It's unclear exactly when it happened (the BBG...</td>\n",
       "      <td>Tyler Durden</td>\n",
       "      <td>http://feedproxy.google.com/~r/zerohedge/feed/...</td>\n",
       "      <td>Fri, 01 Nov 2019 22:45:00 +0000</td>\n",
       "      <td>1572662700</td>\n",
       "      <td>1572648625</td>\n",
       "      <td>2</td>\n",
       "    </tr>\n",
       "    <tr>\n",
       "      <th>57153</th>\n",
       "      <td>zerohedge--2019-11-01--Enough \"Quid Pro Quo\" G...</td>\n",
       "      <td>2019-11-01</td>\n",
       "      <td>zerohedge</td>\n",
       "      <td>Enough \"Quid Pro Quo\" Gaslighting!</td>\n",
       "      <td>Horse trading is the oxygen of politics; it is...</td>\n",
       "      <td>Tyler Durden</td>\n",
       "      <td>http://feedproxy.google.com/~r/zerohedge/feed/...</td>\n",
       "      <td>Fri, 01 Nov 2019 22:25:00 +0000</td>\n",
       "      <td>1572661500</td>\n",
       "      <td>1572648625</td>\n",
       "      <td>2</td>\n",
       "    </tr>\n",
       "    <tr>\n",
       "      <th>57154</th>\n",
       "      <td>zerohedge--2019-11-01--\"Born For This? I Don't...</td>\n",
       "      <td>2019-11-01</td>\n",
       "      <td>zerohedge</td>\n",
       "      <td>\"Born For This? I Don't Think So\" - Trump Mock...</td>\n",
       "      <td>Having plunged from over 10% to just 1% in the...</td>\n",
       "      <td>Tyler Durden</td>\n",
       "      <td>http://feedproxy.google.com/~r/zerohedge/feed/...</td>\n",
       "      <td>Fri, 01 Nov 2019 21:56:35 +0000</td>\n",
       "      <td>1572659795</td>\n",
       "      <td>1572648626</td>\n",
       "      <td>2</td>\n",
       "    </tr>\n",
       "    <tr>\n",
       "      <th>57155</th>\n",
       "      <td>zerohedge--2019-11-01--How Iran Used Google To...</td>\n",
       "      <td>2019-11-01</td>\n",
       "      <td>zerohedge</td>\n",
       "      <td>How Iran Used Google To Disrupt 5% Of Global O...</td>\n",
       "      <td>Officials at Saudi Aramco believe that Iran us...</td>\n",
       "      <td>Tyler Durden</td>\n",
       "      <td>http://feedproxy.google.com/~r/zerohedge/feed/...</td>\n",
       "      <td>Fri, 01 Nov 2019 21:45:00 +0000</td>\n",
       "      <td>1572659100</td>\n",
       "      <td>1572648627</td>\n",
       "      <td>2</td>\n",
       "    </tr>\n",
       "    <tr>\n",
       "      <th>57156</th>\n",
       "      <td>zerohedge--2019-11-01--Malaysia Rejects Goldma...</td>\n",
       "      <td>2019-11-01</td>\n",
       "      <td>zerohedge</td>\n",
       "      <td>Malaysia Rejects Goldman's Offer Of \"Less Than...</td>\n",
       "      <td>In an interview with the Financial Times, Mala...</td>\n",
       "      <td>Tyler Durden</td>\n",
       "      <td>http://feedproxy.google.com/~r/zerohedge/feed/...</td>\n",
       "      <td>Fri, 01 Nov 2019 21:25:00 +0000</td>\n",
       "      <td>1572657900</td>\n",
       "      <td>1572648625</td>\n",
       "      <td>2</td>\n",
       "    </tr>\n",
       "  </tbody>\n",
       "</table>\n",
       "<p>57157 rows × 11 columns</p>\n",
       "</div>"
      ],
      "text/plain": [
       "                                                      id        date  \\\n",
       "0      abcnews--2019-01-30--Who is Stacey Abrams the ...  2019-01-30   \n",
       "1      abcnews--2019-01-30--Ban government shutdowns ...  2019-01-30   \n",
       "2      abcnews--2019-01-30--Democrats renew push for ...  2019-01-30   \n",
       "3      abcnews--2019-01-30--Trump attacks intel chief...  2019-01-30   \n",
       "4      abcnews--2019-01-30--Border security battle be...  2019-01-30   \n",
       "...                                                  ...         ...   \n",
       "57152  zerohedge--2019-11-01--Hong Kong Officer Faces...  2019-11-01   \n",
       "57153  zerohedge--2019-11-01--Enough \"Quid Pro Quo\" G...  2019-11-01   \n",
       "57154  zerohedge--2019-11-01--\"Born For This? I Don't...  2019-11-01   \n",
       "57155  zerohedge--2019-11-01--How Iran Used Google To...  2019-11-01   \n",
       "57156  zerohedge--2019-11-01--Malaysia Rejects Goldma...  2019-11-01   \n",
       "\n",
       "          source                                              title  \\\n",
       "0        abcnews  Who is Stacey Abrams, the Democrat who will re...   \n",
       "1        abcnews  Ban government shutdowns? Some Republicans and...   \n",
       "2        abcnews  Democrats renew push for equal pay for equal work   \n",
       "3        abcnews  Trump attacks intel chiefs after they contradi...   \n",
       "4        abcnews  Border security battle begins as Congress grap...   \n",
       "...          ...                                                ...   \n",
       "57152  zerohedge  Hong Kong Officer Faces Death Threats After Fi...   \n",
       "57153  zerohedge                 Enough \"Quid Pro Quo\" Gaslighting!   \n",
       "57154  zerohedge  \"Born For This? I Don't Think So\" - Trump Mock...   \n",
       "57155  zerohedge  How Iran Used Google To Disrupt 5% Of Global O...   \n",
       "57156  zerohedge  Malaysia Rejects Goldman's Offer Of \"Less Than...   \n",
       "\n",
       "                                                 content  \\\n",
       "0      Last November, Stacey Abrams, a Democrat who r...   \n",
       "1      As lawmakers scramble to negotiate a border se...   \n",
       "2      Ten years after President Barack Obama signed ...   \n",
       "3      President Donald Trump on Wednesday declared \"...   \n",
       "4      Republicans and Democrats on the exclusive com...   \n",
       "...                                                  ...   \n",
       "57152  It's unclear exactly when it happened (the BBG...   \n",
       "57153  Horse trading is the oxygen of politics; it is...   \n",
       "57154  Having plunged from over 10% to just 1% in the...   \n",
       "57155  Officials at Saudi Aramco believe that Iran us...   \n",
       "57156  In an interview with the Financial Times, Mala...   \n",
       "\n",
       "                                   author  \\\n",
       "0                        Cheyenne Haslett   \n",
       "1        Benjamin Siegel,\\nTrish Turner\\n   \n",
       "2                          John Parkinson   \n",
       "3                         Meridith Mcgraw   \n",
       "4      John Parkinson,\\nBenjamin Siegel\\n   \n",
       "...                                   ...   \n",
       "57152                        Tyler Durden   \n",
       "57153                        Tyler Durden   \n",
       "57154                        Tyler Durden   \n",
       "57155                        Tyler Durden   \n",
       "57156                        Tyler Durden   \n",
       "\n",
       "                                                     url  \\\n",
       "0      https://abcnews.go.com/Politics/stacey-abrams-...   \n",
       "1      https://abcnews.go.com/Politics/ban-government...   \n",
       "2      https://abcnews.go.com/Politics/dems-renew-pus...   \n",
       "3      https://abcnews.go.com/Politics/trump-attacks-...   \n",
       "4      https://abcnews.go.com/Politics/border-securit...   \n",
       "...                                                  ...   \n",
       "57152  http://feedproxy.google.com/~r/zerohedge/feed/...   \n",
       "57153  http://feedproxy.google.com/~r/zerohedge/feed/...   \n",
       "57154  http://feedproxy.google.com/~r/zerohedge/feed/...   \n",
       "57155  http://feedproxy.google.com/~r/zerohedge/feed/...   \n",
       "57156  http://feedproxy.google.com/~r/zerohedge/feed/...   \n",
       "\n",
       "                             published  published_utc  collection_utc  \\\n",
       "0            2019-01-30 19:10:47+00:00     1548893447      1567550233   \n",
       "1            2019-01-30 17:29:04+00:00     1548887344      1567550233   \n",
       "2            2019-01-30 21:35:45+00:00     1548902145      1567550233   \n",
       "3            2019-01-30 17:03:40+00:00     1548885820      1567550233   \n",
       "4            2019-01-30 15:09:47+00:00     1548878987      1567550233   \n",
       "...                                ...            ...             ...   \n",
       "57152  Fri, 01 Nov 2019 22:45:00 +0000     1572662700      1572648625   \n",
       "57153  Fri, 01 Nov 2019 22:25:00 +0000     1572661500      1572648625   \n",
       "57154  Fri, 01 Nov 2019 21:56:35 +0000     1572659795      1572648626   \n",
       "57155  Fri, 01 Nov 2019 21:45:00 +0000     1572659100      1572648627   \n",
       "57156  Fri, 01 Nov 2019 21:25:00 +0000     1572657900      1572648625   \n",
       "\n",
       "       Reliability  \n",
       "0                0  \n",
       "1                0  \n",
       "2                0  \n",
       "3                0  \n",
       "4                0  \n",
       "...            ...  \n",
       "57152            2  \n",
       "57153            2  \n",
       "57154            2  \n",
       "57155            2  \n",
       "57156            2  \n",
       "\n",
       "[57157 rows x 11 columns]"
      ]
     },
     "execution_count": 4,
     "metadata": {},
     "output_type": "execute_result"
    }
   ],
   "source": [
    "totalData"
   ]
  },
  {
   "cell_type": "markdown",
   "metadata": {},
   "source": [
    "# Keep only content, Reliability as columns"
   ]
  },
  {
   "cell_type": "code",
   "execution_count": 5,
   "metadata": {
    "execution": {
     "iopub.execute_input": "2020-10-30T20:51:10.240681Z",
     "iopub.status.busy": "2020-10-30T20:51:10.240475Z",
     "iopub.status.idle": "2020-10-30T20:51:10.246423Z",
     "shell.execute_reply": "2020-10-30T20:51:10.245915Z",
     "shell.execute_reply.started": "2020-10-30T20:51:10.240659Z"
    }
   },
   "outputs": [],
   "source": [
    "#Keep only content, Reliability as columns\n",
    "totalData = totalData.drop(['id','date','source','title','author','url','published','published_utc','collection_utc'],axis=1)"
   ]
  },
  {
   "cell_type": "code",
   "execution_count": 6,
   "metadata": {
    "execution": {
     "iopub.execute_input": "2020-10-30T20:51:15.464345Z",
     "iopub.status.busy": "2020-10-30T20:51:15.464115Z",
     "iopub.status.idle": "2020-10-30T20:51:15.474224Z",
     "shell.execute_reply": "2020-10-30T20:51:15.473668Z",
     "shell.execute_reply.started": "2020-10-30T20:51:15.464317Z"
    }
   },
   "outputs": [
    {
     "data": {
      "text/html": [
       "<div>\n",
       "<style scoped>\n",
       "    .dataframe tbody tr th:only-of-type {\n",
       "        vertical-align: middle;\n",
       "    }\n",
       "\n",
       "    .dataframe tbody tr th {\n",
       "        vertical-align: top;\n",
       "    }\n",
       "\n",
       "    .dataframe thead th {\n",
       "        text-align: right;\n",
       "    }\n",
       "</style>\n",
       "<table border=\"1\" class=\"dataframe\">\n",
       "  <thead>\n",
       "    <tr style=\"text-align: right;\">\n",
       "      <th></th>\n",
       "      <th>content</th>\n",
       "      <th>Reliability</th>\n",
       "    </tr>\n",
       "  </thead>\n",
       "  <tbody>\n",
       "    <tr>\n",
       "      <th>0</th>\n",
       "      <td>Last November, Stacey Abrams, a Democrat who r...</td>\n",
       "      <td>0</td>\n",
       "    </tr>\n",
       "    <tr>\n",
       "      <th>1</th>\n",
       "      <td>As lawmakers scramble to negotiate a border se...</td>\n",
       "      <td>0</td>\n",
       "    </tr>\n",
       "    <tr>\n",
       "      <th>2</th>\n",
       "      <td>Ten years after President Barack Obama signed ...</td>\n",
       "      <td>0</td>\n",
       "    </tr>\n",
       "    <tr>\n",
       "      <th>3</th>\n",
       "      <td>President Donald Trump on Wednesday declared \"...</td>\n",
       "      <td>0</td>\n",
       "    </tr>\n",
       "    <tr>\n",
       "      <th>4</th>\n",
       "      <td>Republicans and Democrats on the exclusive com...</td>\n",
       "      <td>0</td>\n",
       "    </tr>\n",
       "    <tr>\n",
       "      <th>...</th>\n",
       "      <td>...</td>\n",
       "      <td>...</td>\n",
       "    </tr>\n",
       "    <tr>\n",
       "      <th>57152</th>\n",
       "      <td>It's unclear exactly when it happened (the BBG...</td>\n",
       "      <td>2</td>\n",
       "    </tr>\n",
       "    <tr>\n",
       "      <th>57153</th>\n",
       "      <td>Horse trading is the oxygen of politics; it is...</td>\n",
       "      <td>2</td>\n",
       "    </tr>\n",
       "    <tr>\n",
       "      <th>57154</th>\n",
       "      <td>Having plunged from over 10% to just 1% in the...</td>\n",
       "      <td>2</td>\n",
       "    </tr>\n",
       "    <tr>\n",
       "      <th>57155</th>\n",
       "      <td>Officials at Saudi Aramco believe that Iran us...</td>\n",
       "      <td>2</td>\n",
       "    </tr>\n",
       "    <tr>\n",
       "      <th>57156</th>\n",
       "      <td>In an interview with the Financial Times, Mala...</td>\n",
       "      <td>2</td>\n",
       "    </tr>\n",
       "  </tbody>\n",
       "</table>\n",
       "<p>57157 rows × 2 columns</p>\n",
       "</div>"
      ],
      "text/plain": [
       "                                                 content  Reliability\n",
       "0      Last November, Stacey Abrams, a Democrat who r...            0\n",
       "1      As lawmakers scramble to negotiate a border se...            0\n",
       "2      Ten years after President Barack Obama signed ...            0\n",
       "3      President Donald Trump on Wednesday declared \"...            0\n",
       "4      Republicans and Democrats on the exclusive com...            0\n",
       "...                                                  ...          ...\n",
       "57152  It's unclear exactly when it happened (the BBG...            2\n",
       "57153  Horse trading is the oxygen of politics; it is...            2\n",
       "57154  Having plunged from over 10% to just 1% in the...            2\n",
       "57155  Officials at Saudi Aramco believe that Iran us...            2\n",
       "57156  In an interview with the Financial Times, Mala...            2\n",
       "\n",
       "[57157 rows x 2 columns]"
      ]
     },
     "execution_count": 6,
     "metadata": {},
     "output_type": "execute_result"
    }
   ],
   "source": [
    "totalData"
   ]
  },
  {
   "cell_type": "code",
   "execution_count": 7,
   "metadata": {
    "execution": {
     "iopub.execute_input": "2020-10-30T20:51:15.780827Z",
     "iopub.status.busy": "2020-10-30T20:51:15.780666Z",
     "iopub.status.idle": "2020-10-30T20:51:15.784308Z",
     "shell.execute_reply": "2020-10-30T20:51:15.783819Z",
     "shell.execute_reply.started": "2020-10-30T20:51:15.780808Z"
    }
   },
   "outputs": [
    {
     "data": {
      "text/plain": [
       "array([0, 2])"
      ]
     },
     "execution_count": 7,
     "metadata": {},
     "output_type": "execute_result"
    }
   ],
   "source": [
    "#find out unique Reliability labels type\n",
    "totalData.Reliability.unique()"
   ]
  },
  {
   "cell_type": "code",
   "execution_count": 8,
   "metadata": {
    "execution": {
     "iopub.execute_input": "2020-10-30T20:51:19.422756Z",
     "iopub.status.busy": "2020-10-30T20:51:19.422582Z",
     "iopub.status.idle": "2020-10-30T20:51:19.538757Z",
     "shell.execute_reply": "2020-10-30T20:51:19.538258Z",
     "shell.execute_reply.started": "2020-10-30T20:51:19.422736Z"
    }
   },
   "outputs": [],
   "source": [
    "#Drop off mixed reliability(label=1) type\n",
    "totalData = totalData[totalData.Reliability != 1]"
   ]
  },
  {
   "cell_type": "code",
   "execution_count": 9,
   "metadata": {
    "execution": {
     "iopub.execute_input": "2020-10-30T20:51:19.922116Z",
     "iopub.status.busy": "2020-10-30T20:51:19.921966Z",
     "iopub.status.idle": "2020-10-30T20:51:19.925710Z",
     "shell.execute_reply": "2020-10-30T20:51:19.925238Z",
     "shell.execute_reply.started": "2020-10-30T20:51:19.922097Z"
    }
   },
   "outputs": [
    {
     "data": {
      "text/plain": [
       "array([0, 2])"
      ]
     },
     "execution_count": 9,
     "metadata": {},
     "output_type": "execute_result"
    }
   ],
   "source": [
    "#find out unique Reliability labels type\n",
    "totalData.Reliability.unique()"
   ]
  },
  {
   "cell_type": "markdown",
   "metadata": {},
   "source": [
    "# Cleaning dataset"
   ]
  },
  {
   "cell_type": "code",
   "execution_count": 10,
   "metadata": {
    "execution": {
     "iopub.execute_input": "2020-10-30T20:51:23.518048Z",
     "iopub.status.busy": "2020-10-30T20:51:23.517885Z",
     "iopub.status.idle": "2020-10-30T20:51:35.603320Z",
     "shell.execute_reply": "2020-10-30T20:51:35.602576Z",
     "shell.execute_reply.started": "2020-10-30T20:51:23.518029Z"
    }
   },
   "outputs": [],
   "source": [
    "totalData = totalData.reset_index(drop=True)\n",
    "REPLACE_BY_SPACE_RE = re.compile('[/(){}\\[\\]\\|@,;]')\n",
    "BAD_SYMBOLS_RE = re.compile('[^0-9a-z #+_]')\n",
    "STOPWORDS = []\n",
    "\n",
    "def clean_text(text):\n",
    "    \"\"\"\n",
    "        text: a string\n",
    "        \n",
    "        return: modified initial string\n",
    "    \"\"\"\n",
    "    text = text.lower() # lowercase text\n",
    "    text = REPLACE_BY_SPACE_RE.sub(' ', text) # replace REPLACE_BY_SPACE_RE symbols by space in text. substitute the matched string in REPLACE_BY_SPACE_RE with space.\n",
    "    text = BAD_SYMBOLS_RE.sub('', text) # remove symbols which are in BAD_SYMBOLS_RE from text. substitute the matched string in BAD_SYMBOLS_RE with nothing. \n",
    "#    text = re.sub(r'\\W+', '', text)\n",
    "    text = ' '.join(word for word in text.split() if word not in STOPWORDS) # remove stopwors from text\n",
    "    return text\n",
    "totalData.content = totalData.content.apply(clean_text)\n",
    "totalData.content = totalData.content.str.replace('\\d+', '')"
   ]
  },
  {
   "cell_type": "code",
   "execution_count": 35,
   "metadata": {
    "execution": {
     "iopub.execute_input": "2020-10-30T21:56:59.982206Z",
     "iopub.status.busy": "2020-10-30T21:56:59.981899Z",
     "iopub.status.idle": "2020-10-30T21:56:59.993606Z",
     "shell.execute_reply": "2020-10-30T21:56:59.993067Z",
     "shell.execute_reply.started": "2020-10-30T21:56:59.982176Z"
    }
   },
   "outputs": [
    {
     "data": {
      "text/html": [
       "<div>\n",
       "<style scoped>\n",
       "    .dataframe tbody tr th:only-of-type {\n",
       "        vertical-align: middle;\n",
       "    }\n",
       "\n",
       "    .dataframe tbody tr th {\n",
       "        vertical-align: top;\n",
       "    }\n",
       "\n",
       "    .dataframe thead th {\n",
       "        text-align: right;\n",
       "    }\n",
       "</style>\n",
       "<table border=\"1\" class=\"dataframe\">\n",
       "  <thead>\n",
       "    <tr style=\"text-align: right;\">\n",
       "      <th></th>\n",
       "      <th>content</th>\n",
       "      <th>Reliability</th>\n",
       "    </tr>\n",
       "  </thead>\n",
       "  <tbody>\n",
       "    <tr>\n",
       "      <th>32637</th>\n",
       "      <td>the governments flagship eu settlementstatus s...</td>\n",
       "      <td>0</td>\n",
       "    </tr>\n",
       "    <tr>\n",
       "      <th>12968</th>\n",
       "      <td>uc san diego professor shirley mengs laborator...</td>\n",
       "      <td>0</td>\n",
       "    </tr>\n",
       "    <tr>\n",
       "      <th>16019</th>\n",
       "      <td>footballer collin martin who came out as gay l...</td>\n",
       "      <td>0</td>\n",
       "    </tr>\n",
       "    <tr>\n",
       "      <th>25692</th>\n",
       "      <td>torrential rain forces authorities to open ros...</td>\n",
       "      <td>0</td>\n",
       "    </tr>\n",
       "    <tr>\n",
       "      <th>30719</th>\n",
       "      <td>atletico madrid and the spanish authorities ar...</td>\n",
       "      <td>0</td>\n",
       "    </tr>\n",
       "    <tr>\n",
       "      <th>32800</th>\n",
       "      <td>at the moment it seems as if you cant go onlin...</td>\n",
       "      <td>0</td>\n",
       "    </tr>\n",
       "    <tr>\n",
       "      <th>46948</th>\n",
       "      <td>january    am est</td>\n",
       "      <td>2</td>\n",
       "    </tr>\n",
       "    <tr>\n",
       "      <th>52730</th>\n",
       "      <td>turkish leader recep tayyip erdogan has once a...</td>\n",
       "      <td>2</td>\n",
       "    </tr>\n",
       "    <tr>\n",
       "      <th>43756</th>\n",
       "      <td>hoda muthana was born in the us in  as a yearo...</td>\n",
       "      <td>0</td>\n",
       "    </tr>\n",
       "    <tr>\n",
       "      <th>3093</th>\n",
       "      <td>there should be a strong conservative influenc...</td>\n",
       "      <td>0</td>\n",
       "    </tr>\n",
       "  </tbody>\n",
       "</table>\n",
       "</div>"
      ],
      "text/plain": [
       "                                                 content  Reliability\n",
       "32637  the governments flagship eu settlementstatus s...            0\n",
       "12968  uc san diego professor shirley mengs laborator...            0\n",
       "16019  footballer collin martin who came out as gay l...            0\n",
       "25692  torrential rain forces authorities to open ros...            0\n",
       "30719  atletico madrid and the spanish authorities ar...            0\n",
       "32800  at the moment it seems as if you cant go onlin...            0\n",
       "46948                                  january    am est            2\n",
       "52730  turkish leader recep tayyip erdogan has once a...            2\n",
       "43756  hoda muthana was born in the us in  as a yearo...            0\n",
       "3093   there should be a strong conservative influenc...            0"
      ]
     },
     "execution_count": 35,
     "metadata": {},
     "output_type": "execute_result"
    }
   ],
   "source": [
    "totalData.sample(10)"
   ]
  },
  {
   "cell_type": "markdown",
   "metadata": {},
   "source": [
    "# Perform test train split"
   ]
  },
  {
   "cell_type": "code",
   "execution_count": 12,
   "metadata": {
    "execution": {
     "iopub.execute_input": "2020-10-30T20:51:45.129529Z",
     "iopub.status.busy": "2020-10-30T20:51:45.129295Z",
     "iopub.status.idle": "2020-10-30T20:51:45.148078Z",
     "shell.execute_reply": "2020-10-30T20:51:45.147210Z",
     "shell.execute_reply.started": "2020-10-30T20:51:45.129503Z"
    }
   },
   "outputs": [],
   "source": [
    "# split the dataset into training and validation datasets \n",
    "from sklearn.model_selection import train_test_split\n",
    "# train_x, valid_x, train_y, valid_y = model_selection.train_test_split(train['tweet'], train['label'])\n",
    "train_x, valid_x, train_y, valid_y = train_test_split(totalData['content'], totalData['Reliability'], test_size=0.20)"
   ]
  },
  {
   "cell_type": "markdown",
   "metadata": {},
   "source": [
    "# Develop Unigram and Bigram Tf-Idf feature vectors from data"
   ]
  },
  {
   "cell_type": "code",
   "execution_count": 13,
   "metadata": {
    "execution": {
     "iopub.execute_input": "2020-10-30T20:52:17.638690Z",
     "iopub.status.busy": "2020-10-30T20:52:17.638467Z",
     "iopub.status.idle": "2020-10-30T20:54:28.003486Z",
     "shell.execute_reply": "2020-10-30T20:54:28.002688Z",
     "shell.execute_reply.started": "2020-10-30T20:52:17.638667Z"
    }
   },
   "outputs": [],
   "source": [
    "# unigram level tf-idf\n",
    "tfidf_vect = TfidfVectorizer(analyzer='word', token_pattern=r'\\w{1,}', max_features=None)\n",
    "tfidf_vect.fit(totalData['content'])\n",
    "xtrain_tfidf_unigram =  tfidf_vect.transform(train_x)\n",
    "xvalid_tfidf_unigram =  tfidf_vect.transform(valid_x)\n",
    "\n",
    "# bigram level tf-idf (bigram in this case)\n",
    "tfidf_vect_ngram = TfidfVectorizer(analyzer='word', token_pattern=r'\\w{1,}', ngram_range=(2,2), max_features=None)\n",
    "tfidf_vect_ngram.fit(totalData['content'])\n",
    "xtrain_tfidf_bigram =  tfidf_vect_ngram.transform(train_x)\n",
    "xvalid_tfidf_bigram =  tfidf_vect_ngram.transform(valid_x)\n"
   ]
  },
  {
   "cell_type": "code",
   "execution_count": 23,
   "metadata": {
    "execution": {
     "iopub.execute_input": "2020-10-30T21:00:28.348270Z",
     "iopub.status.busy": "2020-10-30T21:00:28.347929Z",
     "iopub.status.idle": "2020-10-30T21:00:31.533267Z",
     "shell.execute_reply": "2020-10-30T21:00:31.532480Z",
     "shell.execute_reply.started": "2020-10-30T21:00:28.348239Z"
    }
   },
   "outputs": [],
   "source": [
    "import pickle\n",
    "with open('/scratch/tathagataraha/nela-gt-tfidf-uni.pkl', 'wb+') as f:\n",
    "    pickle.dump(tfidf_vect, f)\n",
    "with open('/scratch/tathagataraha/nela-gt-tfidf-bi.pkl', 'wb+') as f:\n",
    "    pickle.dump(tfidf_vect_ngram, f)"
   ]
  },
  {
   "cell_type": "markdown",
   "metadata": {},
   "source": [
    "# Build Model functions"
   ]
  },
  {
   "cell_type": "code",
   "execution_count": 30,
   "metadata": {
    "execution": {
     "iopub.execute_input": "2020-10-30T21:42:18.473603Z",
     "iopub.status.busy": "2020-10-30T21:42:18.467576Z",
     "iopub.status.idle": "2020-10-30T21:42:18.479360Z",
     "shell.execute_reply": "2020-10-30T21:42:18.478521Z",
     "shell.execute_reply.started": "2020-10-30T21:42:18.473566Z"
    }
   },
   "outputs": [],
   "source": [
    "def train_model(classifier, feature_vector_train, label,  feature_vector_valid, valid_y,is_neural_net=False):\n",
    "    # fit the training dataset on the classifier\n",
    "    classifier.fit(feature_vector_train, label)    \n",
    "    # predict the labels on validation dataset\n",
    "    predictions = classifier.predict(feature_vector_valid)\n",
    "    \n",
    "    if is_neural_net:\n",
    "        predictions = predictions.argmax(axis=-1)\n",
    "    \n",
    "    #print(\"In Validation Data\",metrics.accuracy_score(predictions, valid_y))\n",
    "    print(\"f1 score: \",f1_score(valid_y,predictions,average='weighted'))        \n",
    "    return classifier, metrics.accuracy_score(valid_y,predictions)\n",
    "    "
   ]
  },
  {
   "cell_type": "markdown",
   "metadata": {},
   "source": [
    "# Base Line Model Used\n",
    "## 1. Naive Bayes\n",
    "## 2. Linear Classifier\n",
    "## 3. Bagging\n",
    "## 4. Boosting\n",
    "## 5. SVM"
   ]
  },
  {
   "cell_type": "markdown",
   "metadata": {},
   "source": [
    "#  Naive Bayes Model "
   ]
  },
  {
   "cell_type": "code",
   "execution_count": 25,
   "metadata": {
    "execution": {
     "iopub.execute_input": "2020-10-30T21:02:15.391911Z",
     "iopub.status.busy": "2020-10-30T21:02:15.391737Z",
     "iopub.status.idle": "2020-10-30T21:02:16.547959Z",
     "shell.execute_reply": "2020-10-30T21:02:16.547425Z",
     "shell.execute_reply.started": "2020-10-30T21:02:15.391892Z"
    }
   },
   "outputs": [
    {
     "name": "stdout",
     "output_type": "stream",
     "text": [
      "For Unigram Tf-IDF features vectors using Naive Bayes\n",
      "f1 score:  0.6913070889811321\n",
      "Accuracy:  0.7824527641707488\n",
      "For Bigram Tf-IDF features vectors using Naive Bayes\n",
      "f1 score:  0.7026079809424893\n",
      "Accuracy:  0.7874387683694891\n"
     ]
    }
   ],
   "source": [
    "# Naive Bayes on Word Level TF IDF Vectors\n",
    "print(\"For Unigram Tf-IDF features vectors using Naive Bayes\")\n",
    "model, accuracy = train_model(naive_bayes.MultinomialNB(), xtrain_tfidf_unigram, train_y, xvalid_tfidf_unigram, valid_y)\n",
    "print (\"Accuracy: \", accuracy)\n",
    "\n",
    "# Naive Bayes on Ngram Level TF IDF Vectors\n",
    "print(\"For Bigram Tf-IDF features vectors using Naive Bayes\")\n",
    "model, accuracy = train_model(naive_bayes.MultinomialNB(), xtrain_tfidf_bigram, train_y, xvalid_tfidf_bigram, valid_y)\n",
    "print (\"Accuracy: \", accuracy)"
   ]
  },
  {
   "cell_type": "markdown",
   "metadata": {},
   "source": [
    "# Linear Classifier"
   ]
  },
  {
   "cell_type": "code",
   "execution_count": 31,
   "metadata": {
    "execution": {
     "iopub.execute_input": "2020-10-30T21:42:22.965887Z",
     "iopub.status.busy": "2020-10-30T21:42:22.965574Z",
     "iopub.status.idle": "2020-10-30T21:44:39.104051Z",
     "shell.execute_reply": "2020-10-30T21:44:39.103321Z",
     "shell.execute_reply.started": "2020-10-30T21:42:22.965858Z"
    }
   },
   "outputs": [
    {
     "name": "stdout",
     "output_type": "stream",
     "text": [
      "For Unigram TF-Idf feature vectors using Logistic Regression\n",
      "f1 score:  0.8676557517790607\n",
      "accuracy:  0.8788488453463961\n",
      "For Biigram TF-Idf feature vectors using Logistic Regression\n",
      "f1 score:  0.8122216671036123\n",
      "Accuracy:  0.8449090272918125\n"
     ]
    }
   ],
   "source": [
    "# Linear Classifier on Word Level TF IDF Vectors\n",
    "print(\"For Unigram TF-Idf feature vectors using Logistic Regression\")\n",
    "model, accuracy = train_model(linear_model.LogisticRegression(max_iter=500), xtrain_tfidf_unigram, train_y, xvalid_tfidf_unigram, valid_y)\n",
    "print(\"accuracy: \", accuracy)\n",
    "with open('/scratch/tathagataraha/nela-gt-linear-uni.pkl', 'wb+') as f:\n",
    "    pickle.dump(model, f)\n",
    "# Linear Classifier on Ngram Level TF IDF Vectors\n",
    "print(\"For Biigram TF-Idf feature vectors using Logistic Regression\")\n",
    "model, accuracy = train_model(linear_model.LogisticRegression(max_iter=500),  xtrain_tfidf_bigram, train_y, xvalid_tfidf_bigram, valid_y)\n",
    "print(\"Accuracy: \", accuracy)\n",
    "with open('/scratch/tathagataraha/nela-gt-linear-bi.pkl', 'wb+') as f:\n",
    "    pickle.dump(model, f)"
   ]
  },
  {
   "cell_type": "code",
   "execution_count": 34,
   "metadata": {
    "execution": {
     "iopub.execute_input": "2020-10-30T21:49:39.205228Z",
     "iopub.status.busy": "2020-10-30T21:49:39.205008Z",
     "iopub.status.idle": "2020-10-30T21:49:39.351964Z",
     "shell.execute_reply": "2020-10-30T21:49:39.351491Z",
     "shell.execute_reply.started": "2020-10-30T21:49:39.205202Z"
    }
   },
   "outputs": [
    {
     "data": {
      "text/plain": [
       "array([0, 0])"
      ]
     },
     "execution_count": 34,
     "metadata": {},
     "output_type": "execute_result"
    }
   ],
   "source": [
    "model.predict(tfidf_vect_ngram.transform(['i am a good boy', 'i am a bad boy']))"
   ]
  },
  {
   "cell_type": "markdown",
   "metadata": {},
   "source": [
    "# Bagging Model"
   ]
  },
  {
   "cell_type": "code",
   "execution_count": 27,
   "metadata": {
    "execution": {
     "iopub.execute_input": "2020-10-30T21:04:45.280180Z",
     "iopub.status.busy": "2020-10-30T21:04:45.279880Z",
     "iopub.status.idle": "2020-10-30T21:35:47.566889Z",
     "shell.execute_reply": "2020-10-30T21:35:47.565819Z",
     "shell.execute_reply.started": "2020-10-30T21:04:45.280138Z"
    }
   },
   "outputs": [
    {
     "name": "stdout",
     "output_type": "stream",
     "text": [
      "For Unigram Tf-Idf feature vectors using Random Forest Classifier\n",
      "f1 score:  0.7824865699144518\n",
      "Accuracy:  0.8279391182645206\n",
      "For Bigram Tf-Idf feature vectors using Random Forest Classifier\n"
     ]
    },
    {
     "ename": "KeyboardInterrupt",
     "evalue": "",
     "output_type": "error",
     "traceback": [
      "\u001b[0;31m---------------------------------------------------------------------------\u001b[0m",
      "\u001b[0;31mKeyboardInterrupt\u001b[0m                         Traceback (most recent call last)",
      "\u001b[0;32m<ipython-input-27-c717a686a457>\u001b[0m in \u001b[0;36m<module>\u001b[0;34m\u001b[0m\n\u001b[1;32m      6\u001b[0m \u001b[0;31m# RF on ngram Level TF IDF Vectors\u001b[0m\u001b[0;34m\u001b[0m\u001b[0;34m\u001b[0m\u001b[0;34m\u001b[0m\u001b[0m\n\u001b[1;32m      7\u001b[0m \u001b[0mprint\u001b[0m\u001b[0;34m(\u001b[0m\u001b[0;34m\"For Bigram Tf-Idf feature vectors using Random Forest Classifier\"\u001b[0m\u001b[0;34m)\u001b[0m\u001b[0;34m\u001b[0m\u001b[0;34m\u001b[0m\u001b[0m\n\u001b[0;32m----> 8\u001b[0;31m \u001b[0maccuracy\u001b[0m \u001b[0;34m=\u001b[0m \u001b[0mtrain_model\u001b[0m\u001b[0;34m(\u001b[0m\u001b[0mensemble\u001b[0m\u001b[0;34m.\u001b[0m\u001b[0mRandomForestClassifier\u001b[0m\u001b[0;34m(\u001b[0m\u001b[0;34m)\u001b[0m\u001b[0;34m,\u001b[0m \u001b[0mxtrain_tfidf_bigram\u001b[0m\u001b[0;34m,\u001b[0m \u001b[0mtrain_y\u001b[0m\u001b[0;34m,\u001b[0m \u001b[0mxvalid_tfidf_bigram\u001b[0m\u001b[0;34m,\u001b[0m \u001b[0mvalid_y\u001b[0m\u001b[0;34m)\u001b[0m\u001b[0;34m\u001b[0m\u001b[0;34m\u001b[0m\u001b[0m\n\u001b[0m\u001b[1;32m      9\u001b[0m \u001b[0mprint\u001b[0m \u001b[0;34m(\u001b[0m\u001b[0;34m\"Accuracy: \"\u001b[0m\u001b[0;34m,\u001b[0m \u001b[0maccuracy\u001b[0m\u001b[0;34m)\u001b[0m\u001b[0;34m\u001b[0m\u001b[0;34m\u001b[0m\u001b[0m\n",
      "\u001b[0;32m<ipython-input-24-e8ca0745cdf5>\u001b[0m in \u001b[0;36mtrain_model\u001b[0;34m(classifier, feature_vector_train, label, feature_vector_valid, valid_y, is_neural_net)\u001b[0m\n\u001b[1;32m      1\u001b[0m \u001b[0;32mdef\u001b[0m \u001b[0mtrain_model\u001b[0m\u001b[0;34m(\u001b[0m\u001b[0mclassifier\u001b[0m\u001b[0;34m,\u001b[0m \u001b[0mfeature_vector_train\u001b[0m\u001b[0;34m,\u001b[0m \u001b[0mlabel\u001b[0m\u001b[0;34m,\u001b[0m  \u001b[0mfeature_vector_valid\u001b[0m\u001b[0;34m,\u001b[0m \u001b[0mvalid_y\u001b[0m\u001b[0;34m,\u001b[0m\u001b[0mis_neural_net\u001b[0m\u001b[0;34m=\u001b[0m\u001b[0;32mFalse\u001b[0m\u001b[0;34m)\u001b[0m\u001b[0;34m:\u001b[0m\u001b[0;34m\u001b[0m\u001b[0;34m\u001b[0m\u001b[0m\n\u001b[1;32m      2\u001b[0m     \u001b[0;31m# fit the training dataset on the classifier\u001b[0m\u001b[0;34m\u001b[0m\u001b[0;34m\u001b[0m\u001b[0;34m\u001b[0m\u001b[0m\n\u001b[0;32m----> 3\u001b[0;31m     \u001b[0mclassifier\u001b[0m\u001b[0;34m.\u001b[0m\u001b[0mfit\u001b[0m\u001b[0;34m(\u001b[0m\u001b[0mfeature_vector_train\u001b[0m\u001b[0;34m,\u001b[0m \u001b[0mlabel\u001b[0m\u001b[0;34m)\u001b[0m\u001b[0;34m\u001b[0m\u001b[0;34m\u001b[0m\u001b[0m\n\u001b[0m\u001b[1;32m      4\u001b[0m     \u001b[0;31m# predict the labels on validation dataset\u001b[0m\u001b[0;34m\u001b[0m\u001b[0;34m\u001b[0m\u001b[0;34m\u001b[0m\u001b[0m\n\u001b[1;32m      5\u001b[0m     \u001b[0mpredictions\u001b[0m \u001b[0;34m=\u001b[0m \u001b[0mclassifier\u001b[0m\u001b[0;34m.\u001b[0m\u001b[0mpredict\u001b[0m\u001b[0;34m(\u001b[0m\u001b[0mfeature_vector_valid\u001b[0m\u001b[0;34m)\u001b[0m\u001b[0;34m\u001b[0m\u001b[0;34m\u001b[0m\u001b[0m\n",
      "\u001b[0;32m~/miniconda3/envs/fastai/lib/python3.8/site-packages/sklearn/ensemble/_forest.py\u001b[0m in \u001b[0;36mfit\u001b[0;34m(self, X, y, sample_weight)\u001b[0m\n\u001b[1;32m    384\u001b[0m             \u001b[0;31m# parallel_backend contexts set at a higher level,\u001b[0m\u001b[0;34m\u001b[0m\u001b[0;34m\u001b[0m\u001b[0;34m\u001b[0m\u001b[0m\n\u001b[1;32m    385\u001b[0m             \u001b[0;31m# since correctness does not rely on using threads.\u001b[0m\u001b[0;34m\u001b[0m\u001b[0;34m\u001b[0m\u001b[0;34m\u001b[0m\u001b[0m\n\u001b[0;32m--> 386\u001b[0;31m             trees = Parallel(n_jobs=self.n_jobs, verbose=self.verbose,\n\u001b[0m\u001b[1;32m    387\u001b[0m                              \u001b[0;34m**\u001b[0m\u001b[0m_joblib_parallel_args\u001b[0m\u001b[0;34m(\u001b[0m\u001b[0mprefer\u001b[0m\u001b[0;34m=\u001b[0m\u001b[0;34m'threads'\u001b[0m\u001b[0;34m)\u001b[0m\u001b[0;34m)\u001b[0m\u001b[0;34m(\u001b[0m\u001b[0;34m\u001b[0m\u001b[0;34m\u001b[0m\u001b[0m\n\u001b[1;32m    388\u001b[0m                 delayed(_parallel_build_trees)(\n",
      "\u001b[0;32m~/miniconda3/envs/fastai/lib/python3.8/site-packages/joblib/parallel.py\u001b[0m in \u001b[0;36m__call__\u001b[0;34m(self, iterable)\u001b[0m\n\u001b[1;32m   1030\u001b[0m                 \u001b[0mself\u001b[0m\u001b[0;34m.\u001b[0m\u001b[0m_iterating\u001b[0m \u001b[0;34m=\u001b[0m \u001b[0mself\u001b[0m\u001b[0;34m.\u001b[0m\u001b[0m_original_iterator\u001b[0m \u001b[0;32mis\u001b[0m \u001b[0;32mnot\u001b[0m \u001b[0;32mNone\u001b[0m\u001b[0;34m\u001b[0m\u001b[0;34m\u001b[0m\u001b[0m\n\u001b[1;32m   1031\u001b[0m \u001b[0;34m\u001b[0m\u001b[0m\n\u001b[0;32m-> 1032\u001b[0;31m             \u001b[0;32mwhile\u001b[0m \u001b[0mself\u001b[0m\u001b[0;34m.\u001b[0m\u001b[0mdispatch_one_batch\u001b[0m\u001b[0;34m(\u001b[0m\u001b[0miterator\u001b[0m\u001b[0;34m)\u001b[0m\u001b[0;34m:\u001b[0m\u001b[0;34m\u001b[0m\u001b[0;34m\u001b[0m\u001b[0m\n\u001b[0m\u001b[1;32m   1033\u001b[0m                 \u001b[0;32mpass\u001b[0m\u001b[0;34m\u001b[0m\u001b[0;34m\u001b[0m\u001b[0m\n\u001b[1;32m   1034\u001b[0m \u001b[0;34m\u001b[0m\u001b[0m\n",
      "\u001b[0;32m~/miniconda3/envs/fastai/lib/python3.8/site-packages/joblib/parallel.py\u001b[0m in \u001b[0;36mdispatch_one_batch\u001b[0;34m(self, iterator)\u001b[0m\n\u001b[1;32m    845\u001b[0m                 \u001b[0;32mreturn\u001b[0m \u001b[0;32mFalse\u001b[0m\u001b[0;34m\u001b[0m\u001b[0;34m\u001b[0m\u001b[0m\n\u001b[1;32m    846\u001b[0m             \u001b[0;32melse\u001b[0m\u001b[0;34m:\u001b[0m\u001b[0;34m\u001b[0m\u001b[0;34m\u001b[0m\u001b[0m\n\u001b[0;32m--> 847\u001b[0;31m                 \u001b[0mself\u001b[0m\u001b[0;34m.\u001b[0m\u001b[0m_dispatch\u001b[0m\u001b[0;34m(\u001b[0m\u001b[0mtasks\u001b[0m\u001b[0;34m)\u001b[0m\u001b[0;34m\u001b[0m\u001b[0;34m\u001b[0m\u001b[0m\n\u001b[0m\u001b[1;32m    848\u001b[0m                 \u001b[0;32mreturn\u001b[0m \u001b[0;32mTrue\u001b[0m\u001b[0;34m\u001b[0m\u001b[0;34m\u001b[0m\u001b[0m\n\u001b[1;32m    849\u001b[0m \u001b[0;34m\u001b[0m\u001b[0m\n",
      "\u001b[0;32m~/miniconda3/envs/fastai/lib/python3.8/site-packages/joblib/parallel.py\u001b[0m in \u001b[0;36m_dispatch\u001b[0;34m(self, batch)\u001b[0m\n\u001b[1;32m    763\u001b[0m         \u001b[0;32mwith\u001b[0m \u001b[0mself\u001b[0m\u001b[0;34m.\u001b[0m\u001b[0m_lock\u001b[0m\u001b[0;34m:\u001b[0m\u001b[0;34m\u001b[0m\u001b[0;34m\u001b[0m\u001b[0m\n\u001b[1;32m    764\u001b[0m             \u001b[0mjob_idx\u001b[0m \u001b[0;34m=\u001b[0m \u001b[0mlen\u001b[0m\u001b[0;34m(\u001b[0m\u001b[0mself\u001b[0m\u001b[0;34m.\u001b[0m\u001b[0m_jobs\u001b[0m\u001b[0;34m)\u001b[0m\u001b[0;34m\u001b[0m\u001b[0;34m\u001b[0m\u001b[0m\n\u001b[0;32m--> 765\u001b[0;31m             \u001b[0mjob\u001b[0m \u001b[0;34m=\u001b[0m \u001b[0mself\u001b[0m\u001b[0;34m.\u001b[0m\u001b[0m_backend\u001b[0m\u001b[0;34m.\u001b[0m\u001b[0mapply_async\u001b[0m\u001b[0;34m(\u001b[0m\u001b[0mbatch\u001b[0m\u001b[0;34m,\u001b[0m \u001b[0mcallback\u001b[0m\u001b[0;34m=\u001b[0m\u001b[0mcb\u001b[0m\u001b[0;34m)\u001b[0m\u001b[0;34m\u001b[0m\u001b[0;34m\u001b[0m\u001b[0m\n\u001b[0m\u001b[1;32m    766\u001b[0m             \u001b[0;31m# A job can complete so quickly than its callback is\u001b[0m\u001b[0;34m\u001b[0m\u001b[0;34m\u001b[0m\u001b[0;34m\u001b[0m\u001b[0m\n\u001b[1;32m    767\u001b[0m             \u001b[0;31m# called before we get here, causing self._jobs to\u001b[0m\u001b[0;34m\u001b[0m\u001b[0;34m\u001b[0m\u001b[0;34m\u001b[0m\u001b[0m\n",
      "\u001b[0;32m~/miniconda3/envs/fastai/lib/python3.8/site-packages/joblib/_parallel_backends.py\u001b[0m in \u001b[0;36mapply_async\u001b[0;34m(self, func, callback)\u001b[0m\n\u001b[1;32m    206\u001b[0m     \u001b[0;32mdef\u001b[0m \u001b[0mapply_async\u001b[0m\u001b[0;34m(\u001b[0m\u001b[0mself\u001b[0m\u001b[0;34m,\u001b[0m \u001b[0mfunc\u001b[0m\u001b[0;34m,\u001b[0m \u001b[0mcallback\u001b[0m\u001b[0;34m=\u001b[0m\u001b[0;32mNone\u001b[0m\u001b[0;34m)\u001b[0m\u001b[0;34m:\u001b[0m\u001b[0;34m\u001b[0m\u001b[0;34m\u001b[0m\u001b[0m\n\u001b[1;32m    207\u001b[0m         \u001b[0;34m\"\"\"Schedule a func to be run\"\"\"\u001b[0m\u001b[0;34m\u001b[0m\u001b[0;34m\u001b[0m\u001b[0m\n\u001b[0;32m--> 208\u001b[0;31m         \u001b[0mresult\u001b[0m \u001b[0;34m=\u001b[0m \u001b[0mImmediateResult\u001b[0m\u001b[0;34m(\u001b[0m\u001b[0mfunc\u001b[0m\u001b[0;34m)\u001b[0m\u001b[0;34m\u001b[0m\u001b[0;34m\u001b[0m\u001b[0m\n\u001b[0m\u001b[1;32m    209\u001b[0m         \u001b[0;32mif\u001b[0m \u001b[0mcallback\u001b[0m\u001b[0;34m:\u001b[0m\u001b[0;34m\u001b[0m\u001b[0;34m\u001b[0m\u001b[0m\n\u001b[1;32m    210\u001b[0m             \u001b[0mcallback\u001b[0m\u001b[0;34m(\u001b[0m\u001b[0mresult\u001b[0m\u001b[0;34m)\u001b[0m\u001b[0;34m\u001b[0m\u001b[0;34m\u001b[0m\u001b[0m\n",
      "\u001b[0;32m~/miniconda3/envs/fastai/lib/python3.8/site-packages/joblib/_parallel_backends.py\u001b[0m in \u001b[0;36m__init__\u001b[0;34m(self, batch)\u001b[0m\n\u001b[1;32m    570\u001b[0m         \u001b[0;31m# Don't delay the application, to avoid keeping the input\u001b[0m\u001b[0;34m\u001b[0m\u001b[0;34m\u001b[0m\u001b[0;34m\u001b[0m\u001b[0m\n\u001b[1;32m    571\u001b[0m         \u001b[0;31m# arguments in memory\u001b[0m\u001b[0;34m\u001b[0m\u001b[0;34m\u001b[0m\u001b[0;34m\u001b[0m\u001b[0m\n\u001b[0;32m--> 572\u001b[0;31m         \u001b[0mself\u001b[0m\u001b[0;34m.\u001b[0m\u001b[0mresults\u001b[0m \u001b[0;34m=\u001b[0m \u001b[0mbatch\u001b[0m\u001b[0;34m(\u001b[0m\u001b[0;34m)\u001b[0m\u001b[0;34m\u001b[0m\u001b[0;34m\u001b[0m\u001b[0m\n\u001b[0m\u001b[1;32m    573\u001b[0m \u001b[0;34m\u001b[0m\u001b[0m\n\u001b[1;32m    574\u001b[0m     \u001b[0;32mdef\u001b[0m \u001b[0mget\u001b[0m\u001b[0;34m(\u001b[0m\u001b[0mself\u001b[0m\u001b[0;34m)\u001b[0m\u001b[0;34m:\u001b[0m\u001b[0;34m\u001b[0m\u001b[0;34m\u001b[0m\u001b[0m\n",
      "\u001b[0;32m~/miniconda3/envs/fastai/lib/python3.8/site-packages/joblib/parallel.py\u001b[0m in \u001b[0;36m__call__\u001b[0;34m(self)\u001b[0m\n\u001b[1;32m    250\u001b[0m         \u001b[0;31m# change the default number of processes to -1\u001b[0m\u001b[0;34m\u001b[0m\u001b[0;34m\u001b[0m\u001b[0;34m\u001b[0m\u001b[0m\n\u001b[1;32m    251\u001b[0m         \u001b[0;32mwith\u001b[0m \u001b[0mparallel_backend\u001b[0m\u001b[0;34m(\u001b[0m\u001b[0mself\u001b[0m\u001b[0;34m.\u001b[0m\u001b[0m_backend\u001b[0m\u001b[0;34m,\u001b[0m \u001b[0mn_jobs\u001b[0m\u001b[0;34m=\u001b[0m\u001b[0mself\u001b[0m\u001b[0;34m.\u001b[0m\u001b[0m_n_jobs\u001b[0m\u001b[0;34m)\u001b[0m\u001b[0;34m:\u001b[0m\u001b[0;34m\u001b[0m\u001b[0;34m\u001b[0m\u001b[0m\n\u001b[0;32m--> 252\u001b[0;31m             return [func(*args, **kwargs)\n\u001b[0m\u001b[1;32m    253\u001b[0m                     for func, args, kwargs in self.items]\n\u001b[1;32m    254\u001b[0m \u001b[0;34m\u001b[0m\u001b[0m\n",
      "\u001b[0;32m~/miniconda3/envs/fastai/lib/python3.8/site-packages/joblib/parallel.py\u001b[0m in \u001b[0;36m<listcomp>\u001b[0;34m(.0)\u001b[0m\n\u001b[1;32m    250\u001b[0m         \u001b[0;31m# change the default number of processes to -1\u001b[0m\u001b[0;34m\u001b[0m\u001b[0;34m\u001b[0m\u001b[0;34m\u001b[0m\u001b[0m\n\u001b[1;32m    251\u001b[0m         \u001b[0;32mwith\u001b[0m \u001b[0mparallel_backend\u001b[0m\u001b[0;34m(\u001b[0m\u001b[0mself\u001b[0m\u001b[0;34m.\u001b[0m\u001b[0m_backend\u001b[0m\u001b[0;34m,\u001b[0m \u001b[0mn_jobs\u001b[0m\u001b[0;34m=\u001b[0m\u001b[0mself\u001b[0m\u001b[0;34m.\u001b[0m\u001b[0m_n_jobs\u001b[0m\u001b[0;34m)\u001b[0m\u001b[0;34m:\u001b[0m\u001b[0;34m\u001b[0m\u001b[0;34m\u001b[0m\u001b[0m\n\u001b[0;32m--> 252\u001b[0;31m             return [func(*args, **kwargs)\n\u001b[0m\u001b[1;32m    253\u001b[0m                     for func, args, kwargs in self.items]\n\u001b[1;32m    254\u001b[0m \u001b[0;34m\u001b[0m\u001b[0m\n",
      "\u001b[0;32m~/miniconda3/envs/fastai/lib/python3.8/site-packages/sklearn/ensemble/_forest.py\u001b[0m in \u001b[0;36m_parallel_build_trees\u001b[0;34m(tree, forest, X, y, sample_weight, tree_idx, n_trees, verbose, class_weight, n_samples_bootstrap)\u001b[0m\n\u001b[1;32m    166\u001b[0m                                                         indices=indices)\n\u001b[1;32m    167\u001b[0m \u001b[0;34m\u001b[0m\u001b[0m\n\u001b[0;32m--> 168\u001b[0;31m         \u001b[0mtree\u001b[0m\u001b[0;34m.\u001b[0m\u001b[0mfit\u001b[0m\u001b[0;34m(\u001b[0m\u001b[0mX\u001b[0m\u001b[0;34m,\u001b[0m \u001b[0my\u001b[0m\u001b[0;34m,\u001b[0m \u001b[0msample_weight\u001b[0m\u001b[0;34m=\u001b[0m\u001b[0mcurr_sample_weight\u001b[0m\u001b[0;34m,\u001b[0m \u001b[0mcheck_input\u001b[0m\u001b[0;34m=\u001b[0m\u001b[0;32mFalse\u001b[0m\u001b[0;34m)\u001b[0m\u001b[0;34m\u001b[0m\u001b[0;34m\u001b[0m\u001b[0m\n\u001b[0m\u001b[1;32m    169\u001b[0m     \u001b[0;32melse\u001b[0m\u001b[0;34m:\u001b[0m\u001b[0;34m\u001b[0m\u001b[0;34m\u001b[0m\u001b[0m\n\u001b[1;32m    170\u001b[0m         \u001b[0mtree\u001b[0m\u001b[0;34m.\u001b[0m\u001b[0mfit\u001b[0m\u001b[0;34m(\u001b[0m\u001b[0mX\u001b[0m\u001b[0;34m,\u001b[0m \u001b[0my\u001b[0m\u001b[0;34m,\u001b[0m \u001b[0msample_weight\u001b[0m\u001b[0;34m=\u001b[0m\u001b[0msample_weight\u001b[0m\u001b[0;34m,\u001b[0m \u001b[0mcheck_input\u001b[0m\u001b[0;34m=\u001b[0m\u001b[0;32mFalse\u001b[0m\u001b[0;34m)\u001b[0m\u001b[0;34m\u001b[0m\u001b[0;34m\u001b[0m\u001b[0m\n",
      "\u001b[0;32m~/miniconda3/envs/fastai/lib/python3.8/site-packages/sklearn/tree/_classes.py\u001b[0m in \u001b[0;36mfit\u001b[0;34m(self, X, y, sample_weight, check_input, X_idx_sorted)\u001b[0m\n\u001b[1;32m    888\u001b[0m         \"\"\"\n\u001b[1;32m    889\u001b[0m \u001b[0;34m\u001b[0m\u001b[0m\n\u001b[0;32m--> 890\u001b[0;31m         super().fit(\n\u001b[0m\u001b[1;32m    891\u001b[0m             \u001b[0mX\u001b[0m\u001b[0;34m,\u001b[0m \u001b[0my\u001b[0m\u001b[0;34m,\u001b[0m\u001b[0;34m\u001b[0m\u001b[0;34m\u001b[0m\u001b[0m\n\u001b[1;32m    892\u001b[0m             \u001b[0msample_weight\u001b[0m\u001b[0;34m=\u001b[0m\u001b[0msample_weight\u001b[0m\u001b[0;34m,\u001b[0m\u001b[0;34m\u001b[0m\u001b[0;34m\u001b[0m\u001b[0m\n",
      "\u001b[0;32m~/miniconda3/envs/fastai/lib/python3.8/site-packages/sklearn/tree/_classes.py\u001b[0m in \u001b[0;36mfit\u001b[0;34m(self, X, y, sample_weight, check_input, X_idx_sorted)\u001b[0m\n\u001b[1;32m    373\u001b[0m                                            min_impurity_split)\n\u001b[1;32m    374\u001b[0m \u001b[0;34m\u001b[0m\u001b[0m\n\u001b[0;32m--> 375\u001b[0;31m         \u001b[0mbuilder\u001b[0m\u001b[0;34m.\u001b[0m\u001b[0mbuild\u001b[0m\u001b[0;34m(\u001b[0m\u001b[0mself\u001b[0m\u001b[0;34m.\u001b[0m\u001b[0mtree_\u001b[0m\u001b[0;34m,\u001b[0m \u001b[0mX\u001b[0m\u001b[0;34m,\u001b[0m \u001b[0my\u001b[0m\u001b[0;34m,\u001b[0m \u001b[0msample_weight\u001b[0m\u001b[0;34m,\u001b[0m \u001b[0mX_idx_sorted\u001b[0m\u001b[0;34m)\u001b[0m\u001b[0;34m\u001b[0m\u001b[0;34m\u001b[0m\u001b[0m\n\u001b[0m\u001b[1;32m    376\u001b[0m \u001b[0;34m\u001b[0m\u001b[0m\n\u001b[1;32m    377\u001b[0m         \u001b[0;32mif\u001b[0m \u001b[0mself\u001b[0m\u001b[0;34m.\u001b[0m\u001b[0mn_outputs_\u001b[0m \u001b[0;34m==\u001b[0m \u001b[0;36m1\u001b[0m \u001b[0;32mand\u001b[0m \u001b[0mis_classifier\u001b[0m\u001b[0;34m(\u001b[0m\u001b[0mself\u001b[0m\u001b[0;34m)\u001b[0m\u001b[0;34m:\u001b[0m\u001b[0;34m\u001b[0m\u001b[0;34m\u001b[0m\u001b[0m\n",
      "\u001b[0;31mKeyboardInterrupt\u001b[0m: "
     ]
    }
   ],
   "source": [
    "# RF on Word Level TF IDF Vectors\n",
    "print(\"For Unigram Tf-Idf feature vectors using Random Forest Classifier\")\n",
    "accuracy = train_model(ensemble.RandomForestClassifier(), xtrain_tfidf_unigram, train_y, xvalid_tfidf_unigram, valid_y)\n",
    "print (\"Accuracy: \", accuracy)\n",
    "\n",
    "# RF on ngram Level TF IDF Vectors\n",
    "print(\"For Bigram Tf-Idf feature vectors using Random Forest Classifier\")\n",
    "accuracy = train_model(ensemble.RandomForestClassifier(), xtrain_tfidf_bigram, train_y, xvalid_tfidf_bigram, valid_y)\n",
    "print (\"Accuracy: \", accuracy)"
   ]
  },
  {
   "cell_type": "markdown",
   "metadata": {},
   "source": [
    "# Boosting Model"
   ]
  },
  {
   "cell_type": "code",
   "execution_count": 49,
   "metadata": {},
   "outputs": [
    {
     "name": "stdout",
     "output_type": "stream",
     "text": [
      "For Unigram Tf-Idf feature vectors using Extreme Gradient Boosting\n",
      "f1 score:  0.8889110797087082\n",
      "Accuracy:  0.8964310706787963\n",
      "For Bigram Tf-Idf feature vectors using Extreme Gradient Boosting\n",
      "f1 score:  0.8775083946497313\n",
      "Accuracy:  0.8889958012596221\n"
     ]
    }
   ],
   "source": [
    "print(\"For Unigram Tf-Idf feature vectors using Extreme Gradient Boosting\")\n",
    "# Extereme Gradient Boosting on Word Level TF IDF Vectors\n",
    "accuracy = train_model(xgboost.XGBClassifier(), xtrain_tfidf_unigram.tocsc(), train_y, xvalid_tfidf_unigram.tocsc(), valid_y)\n",
    "print(\"Accuracy: \", accuracy)\n",
    "\n",
    "# Extereme Gradient Boosting on ngram Level TF IDF Vectors\n",
    "print(\"For Bigram Tf-Idf feature vectors using Extreme Gradient Boosting\")\n",
    "accuracy = train_model(xgboost.XGBClassifier(), xtrain_tfidf_bigram.tocsc(), train_y, xvalid_tfidf_bigram.tocsc(), valid_y)\n",
    "print(\"Accuracy: \", accuracy)"
   ]
  },
  {
   "cell_type": "markdown",
   "metadata": {},
   "source": [
    "# SVM Model"
   ]
  },
  {
   "cell_type": "code",
   "execution_count": 50,
   "metadata": {},
   "outputs": [
    {
     "name": "stdout",
     "output_type": "stream",
     "text": [
      "For Unigram Tf-Idf feature vectors using SVM\n",
      "f1 score:  0.9001589355399741\n",
      "Accuracy:  0.9065780265920224\n",
      "For Bigram Tf-Idf feature vectors using SVM\n",
      "f1 score:  0.84919268919277\n",
      "Accuracy:  0.8704513645906228\n"
     ]
    }
   ],
   "source": [
    "print(\"For Unigram Tf-Idf feature vectors using SVM\")\n",
    "#SVM Model on Unigram TF-IDF\n",
    "accuracy = train_model(svm.SVC(), xtrain_tfidf_unigram.tocsc(), train_y, xvalid_tfidf_unigram.tocsc(), valid_y)\n",
    "print(\"Accuracy: \", accuracy)\n",
    "\n",
    "# SVM Model on Bigram TF-IDF\n",
    "print(\"For Bigram Tf-Idf feature vectors using SVM\")\n",
    "accuracy = train_model(svm.SVC(), xtrain_tfidf_bigram.tocsc(), train_y, xvalid_tfidf_bigram.tocsc(), valid_y)\n",
    "print(\"Accuracy: \", accuracy)"
   ]
  },
  {
   "cell_type": "markdown",
   "metadata": {},
   "source": [
    "# Using Tf-idf features of Title and the Body of data and predictions using Multi Layer Perceptron"
   ]
  },
  {
   "cell_type": "markdown",
   "metadata": {},
   "source": [
    "# Read Data again"
   ]
  },
  {
   "cell_type": "code",
   "execution_count": 2,
   "metadata": {},
   "outputs": [],
   "source": [
    "data = pd.read_csv('../datasets/nela10.csv')"
   ]
  },
  {
   "cell_type": "markdown",
   "metadata": {},
   "source": [
    "# Keep only title,body and reliability as columns "
   ]
  },
  {
   "cell_type": "code",
   "execution_count": 3,
   "metadata": {},
   "outputs": [],
   "source": [
    "data = data.drop(['id','date','source','author','url','published','published_utc','collection_utc'],axis=1)"
   ]
  },
  {
   "cell_type": "markdown",
   "metadata": {},
   "source": [
    "# Now, how it looks like"
   ]
  },
  {
   "cell_type": "code",
   "execution_count": 4,
   "metadata": {},
   "outputs": [
    {
     "data": {
      "text/html": [
       "<div>\n",
       "<style scoped>\n",
       "    .dataframe tbody tr th:only-of-type {\n",
       "        vertical-align: middle;\n",
       "    }\n",
       "\n",
       "    .dataframe tbody tr th {\n",
       "        vertical-align: top;\n",
       "    }\n",
       "\n",
       "    .dataframe thead th {\n",
       "        text-align: right;\n",
       "    }\n",
       "</style>\n",
       "<table border=\"1\" class=\"dataframe\">\n",
       "  <thead>\n",
       "    <tr style=\"text-align: right;\">\n",
       "      <th></th>\n",
       "      <th>title</th>\n",
       "      <th>content</th>\n",
       "      <th>Reliability</th>\n",
       "    </tr>\n",
       "  </thead>\n",
       "  <tbody>\n",
       "    <tr>\n",
       "      <th>0</th>\n",
       "      <td>Who is Stacey Abrams, the Democrat who will re...</td>\n",
       "      <td>Last November, Stacey Abrams, a Democrat who r...</td>\n",
       "      <td>0</td>\n",
       "    </tr>\n",
       "    <tr>\n",
       "      <th>1</th>\n",
       "      <td>Ban government shutdowns? Some Republicans and...</td>\n",
       "      <td>As lawmakers scramble to negotiate a border se...</td>\n",
       "      <td>0</td>\n",
       "    </tr>\n",
       "    <tr>\n",
       "      <th>2</th>\n",
       "      <td>Democrats renew push for equal pay for equal work</td>\n",
       "      <td>Ten years after President Barack Obama signed ...</td>\n",
       "      <td>0</td>\n",
       "    </tr>\n",
       "    <tr>\n",
       "      <th>3</th>\n",
       "      <td>Trump attacks intel chiefs after they contradi...</td>\n",
       "      <td>President Donald Trump on Wednesday declared \"...</td>\n",
       "      <td>0</td>\n",
       "    </tr>\n",
       "    <tr>\n",
       "      <th>4</th>\n",
       "      <td>Border security battle begins as Congress grap...</td>\n",
       "      <td>Republicans and Democrats on the exclusive com...</td>\n",
       "      <td>0</td>\n",
       "    </tr>\n",
       "    <tr>\n",
       "      <th>...</th>\n",
       "      <td>...</td>\n",
       "      <td>...</td>\n",
       "      <td>...</td>\n",
       "    </tr>\n",
       "    <tr>\n",
       "      <th>57152</th>\n",
       "      <td>Hong Kong Officer Faces Death Threats After Fi...</td>\n",
       "      <td>It's unclear exactly when it happened (the BBG...</td>\n",
       "      <td>2</td>\n",
       "    </tr>\n",
       "    <tr>\n",
       "      <th>57153</th>\n",
       "      <td>Enough \"Quid Pro Quo\" Gaslighting!</td>\n",
       "      <td>Horse trading is the oxygen of politics; it is...</td>\n",
       "      <td>2</td>\n",
       "    </tr>\n",
       "    <tr>\n",
       "      <th>57154</th>\n",
       "      <td>\"Born For This? I Don't Think So\" - Trump Mock...</td>\n",
       "      <td>Having plunged from over 10% to just 1% in the...</td>\n",
       "      <td>2</td>\n",
       "    </tr>\n",
       "    <tr>\n",
       "      <th>57155</th>\n",
       "      <td>How Iran Used Google To Disrupt 5% Of Global O...</td>\n",
       "      <td>Officials at Saudi Aramco believe that Iran us...</td>\n",
       "      <td>2</td>\n",
       "    </tr>\n",
       "    <tr>\n",
       "      <th>57156</th>\n",
       "      <td>Malaysia Rejects Goldman's Offer Of \"Less Than...</td>\n",
       "      <td>In an interview with the Financial Times, Mala...</td>\n",
       "      <td>2</td>\n",
       "    </tr>\n",
       "  </tbody>\n",
       "</table>\n",
       "<p>57157 rows × 3 columns</p>\n",
       "</div>"
      ],
      "text/plain": [
       "                                                   title  \\\n",
       "0      Who is Stacey Abrams, the Democrat who will re...   \n",
       "1      Ban government shutdowns? Some Republicans and...   \n",
       "2      Democrats renew push for equal pay for equal work   \n",
       "3      Trump attacks intel chiefs after they contradi...   \n",
       "4      Border security battle begins as Congress grap...   \n",
       "...                                                  ...   \n",
       "57152  Hong Kong Officer Faces Death Threats After Fi...   \n",
       "57153                 Enough \"Quid Pro Quo\" Gaslighting!   \n",
       "57154  \"Born For This? I Don't Think So\" - Trump Mock...   \n",
       "57155  How Iran Used Google To Disrupt 5% Of Global O...   \n",
       "57156  Malaysia Rejects Goldman's Offer Of \"Less Than...   \n",
       "\n",
       "                                                 content  Reliability  \n",
       "0      Last November, Stacey Abrams, a Democrat who r...            0  \n",
       "1      As lawmakers scramble to negotiate a border se...            0  \n",
       "2      Ten years after President Barack Obama signed ...            0  \n",
       "3      President Donald Trump on Wednesday declared \"...            0  \n",
       "4      Republicans and Democrats on the exclusive com...            0  \n",
       "...                                                  ...          ...  \n",
       "57152  It's unclear exactly when it happened (the BBG...            2  \n",
       "57153  Horse trading is the oxygen of politics; it is...            2  \n",
       "57154  Having plunged from over 10% to just 1% in the...            2  \n",
       "57155  Officials at Saudi Aramco believe that Iran us...            2  \n",
       "57156  In an interview with the Financial Times, Mala...            2  \n",
       "\n",
       "[57157 rows x 3 columns]"
      ]
     },
     "execution_count": 4,
     "metadata": {},
     "output_type": "execute_result"
    }
   ],
   "source": [
    "data"
   ]
  },
  {
   "cell_type": "markdown",
   "metadata": {},
   "source": [
    "# Drop off mixed reliability types"
   ]
  },
  {
   "cell_type": "code",
   "execution_count": 5,
   "metadata": {},
   "outputs": [],
   "source": [
    "data = data[data.Reliability != 1]"
   ]
  },
  {
   "cell_type": "code",
   "execution_count": 6,
   "metadata": {},
   "outputs": [
    {
     "data": {
      "text/plain": [
       "array([0, 2])"
      ]
     },
     "execution_count": 6,
     "metadata": {},
     "output_type": "execute_result"
    }
   ],
   "source": [
    "#find out unique Reliability labels type\n",
    "data.Reliability.unique()"
   ]
  },
  {
   "cell_type": "markdown",
   "metadata": {},
   "source": [
    "# Clean data "
   ]
  },
  {
   "cell_type": "code",
   "execution_count": 8,
   "metadata": {},
   "outputs": [],
   "source": [
    "data = data.reset_index(drop=True)\n",
    "REPLACE_BY_SPACE_RE = re.compile('[/(){}\\[\\]\\|@,;]')\n",
    "BAD_SYMBOLS_RE = re.compile('[^0-9a-z #+_]')\n",
    "STOPWORDS = []\n",
    "\n",
    "def clean_text(text):\n",
    "    \"\"\"\n",
    "        text: a string\n",
    "        \n",
    "        return: modified initial string\n",
    "    \"\"\"\n",
    "    text = text.lower() # lowercase text\n",
    "    text = REPLACE_BY_SPACE_RE.sub(' ', text) # replace REPLACE_BY_SPACE_RE symbols by space in text. substitute the matched string in REPLACE_BY_SPACE_RE with space.\n",
    "    text = BAD_SYMBOLS_RE.sub('', text) # remove symbols which are in BAD_SYMBOLS_RE from text. substitute the matched string in BAD_SYMBOLS_RE with nothing. \n",
    "#    text = re.sub(r'\\W+', '', text)\n",
    "    text = ' '.join(word for word in text.split() if word not in STOPWORDS) # remove stopwors from text\n",
    "    return text\n",
    "data.content = data.content.apply(clean_text)\n",
    "data.content = data.content.str.replace('\\d+', '')\n"
   ]
  },
  {
   "cell_type": "code",
   "execution_count": 13,
   "metadata": {},
   "outputs": [],
   "source": [
    "data['title']=data['title'].astype(str)"
   ]
  },
  {
   "cell_type": "code",
   "execution_count": 14,
   "metadata": {},
   "outputs": [],
   "source": [
    "data.title = data.title.apply(clean_text)\n",
    "data.title = data.title.str.replace('\\d+', '')"
   ]
  },
  {
   "cell_type": "code",
   "execution_count": 16,
   "metadata": {},
   "outputs": [
    {
     "data": {
      "text/html": [
       "<div>\n",
       "<style scoped>\n",
       "    .dataframe tbody tr th:only-of-type {\n",
       "        vertical-align: middle;\n",
       "    }\n",
       "\n",
       "    .dataframe tbody tr th {\n",
       "        vertical-align: top;\n",
       "    }\n",
       "\n",
       "    .dataframe thead th {\n",
       "        text-align: right;\n",
       "    }\n",
       "</style>\n",
       "<table border=\"1\" class=\"dataframe\">\n",
       "  <thead>\n",
       "    <tr style=\"text-align: right;\">\n",
       "      <th></th>\n",
       "      <th>title</th>\n",
       "      <th>content</th>\n",
       "      <th>Reliability</th>\n",
       "    </tr>\n",
       "  </thead>\n",
       "  <tbody>\n",
       "    <tr>\n",
       "      <th>0</th>\n",
       "      <td>who is stacey abrams the democrat who will res...</td>\n",
       "      <td>last november stacey abrams a democrat who ran...</td>\n",
       "      <td>0</td>\n",
       "    </tr>\n",
       "    <tr>\n",
       "      <th>1</th>\n",
       "      <td>ban government shutdowns some republicans and ...</td>\n",
       "      <td>as lawmakers scramble to negotiate a border se...</td>\n",
       "      <td>0</td>\n",
       "    </tr>\n",
       "    <tr>\n",
       "      <th>2</th>\n",
       "      <td>democrats renew push for equal pay for equal work</td>\n",
       "      <td>ten years after president barack obama signed ...</td>\n",
       "      <td>0</td>\n",
       "    </tr>\n",
       "    <tr>\n",
       "      <th>3</th>\n",
       "      <td>trump attacks intel chiefs after they contradi...</td>\n",
       "      <td>president donald trump on wednesday declared t...</td>\n",
       "      <td>0</td>\n",
       "    </tr>\n",
       "    <tr>\n",
       "      <th>4</th>\n",
       "      <td>border security battle begins as congress grap...</td>\n",
       "      <td>republicans and democrats on the exclusive com...</td>\n",
       "      <td>0</td>\n",
       "    </tr>\n",
       "    <tr>\n",
       "      <th>...</th>\n",
       "      <td>...</td>\n",
       "      <td>...</td>\n",
       "      <td>...</td>\n",
       "    </tr>\n",
       "    <tr>\n",
       "      <th>57152</th>\n",
       "      <td>hong kong officer faces death threats after fi...</td>\n",
       "      <td>its unclear exactly when it happened the bbg s...</td>\n",
       "      <td>2</td>\n",
       "    </tr>\n",
       "    <tr>\n",
       "      <th>57153</th>\n",
       "      <td>enough quid pro quo gaslighting</td>\n",
       "      <td>horse trading is the oxygen of politics it is ...</td>\n",
       "      <td>2</td>\n",
       "    </tr>\n",
       "    <tr>\n",
       "      <th>57154</th>\n",
       "      <td>born for this i dont think so trump mocks beto...</td>\n",
       "      <td>having plunged from over to just in the predic...</td>\n",
       "      <td>2</td>\n",
       "    </tr>\n",
       "    <tr>\n",
       "      <th>57155</th>\n",
       "      <td>how iran used google to disrupt  of global oil...</td>\n",
       "      <td>officials at saudi aramco believe that iran us...</td>\n",
       "      <td>2</td>\n",
       "    </tr>\n",
       "    <tr>\n",
       "      <th>57156</th>\n",
       "      <td>malaysia rejects goldmans offer of less than  ...</td>\n",
       "      <td>in an interview with the financial times malay...</td>\n",
       "      <td>2</td>\n",
       "    </tr>\n",
       "  </tbody>\n",
       "</table>\n",
       "<p>57157 rows × 3 columns</p>\n",
       "</div>"
      ],
      "text/plain": [
       "                                                   title  \\\n",
       "0      who is stacey abrams the democrat who will res...   \n",
       "1      ban government shutdowns some republicans and ...   \n",
       "2      democrats renew push for equal pay for equal work   \n",
       "3      trump attacks intel chiefs after they contradi...   \n",
       "4      border security battle begins as congress grap...   \n",
       "...                                                  ...   \n",
       "57152  hong kong officer faces death threats after fi...   \n",
       "57153                    enough quid pro quo gaslighting   \n",
       "57154  born for this i dont think so trump mocks beto...   \n",
       "57155  how iran used google to disrupt  of global oil...   \n",
       "57156  malaysia rejects goldmans offer of less than  ...   \n",
       "\n",
       "                                                 content  Reliability  \n",
       "0      last november stacey abrams a democrat who ran...            0  \n",
       "1      as lawmakers scramble to negotiate a border se...            0  \n",
       "2      ten years after president barack obama signed ...            0  \n",
       "3      president donald trump on wednesday declared t...            0  \n",
       "4      republicans and democrats on the exclusive com...            0  \n",
       "...                                                  ...          ...  \n",
       "57152  its unclear exactly when it happened the bbg s...            2  \n",
       "57153  horse trading is the oxygen of politics it is ...            2  \n",
       "57154  having plunged from over to just in the predic...            2  \n",
       "57155  officials at saudi aramco believe that iran us...            2  \n",
       "57156  in an interview with the financial times malay...            2  \n",
       "\n",
       "[57157 rows x 3 columns]"
      ]
     },
     "execution_count": 16,
     "metadata": {},
     "output_type": "execute_result"
    }
   ],
   "source": [
    "#Cleaned data\n",
    "data"
   ]
  },
  {
   "cell_type": "markdown",
   "metadata": {},
   "source": [
    "# Developing Tf-Idf features for title and content"
   ]
  },
  {
   "cell_type": "code",
   "execution_count": 19,
   "metadata": {},
   "outputs": [],
   "source": [
    "# unigram level tf-idf\n",
    "tfidf_vect1 = TfidfVectorizer(analyzer='word', token_pattern=r'\\w{1,}', max_features=None)\n",
    "tfidf_vect1.fit(data['content'])\n",
    "tfidf_vect2 = TfidfVectorizer(analyzer='word', token_pattern=r'\\w{1,}', max_features=None)\n",
    "tfidf_vect2.fit(data['title'])\n",
    "content_tfidf_unigram =  tfidf_vect1.transform(data['content'])\n",
    "title_tfidf_unigram = tfidf_vect2.transform(data['title'])\n",
    "\n",
    "# bigram level tf-idf (bigram in this case)\n",
    "tfidf_vect_ngram1 = TfidfVectorizer(analyzer='word', token_pattern=r'\\w{1,}', ngram_range=(2,2), max_features=None)\n",
    "tfidf_vect_ngram1.fit(data['content'])\n",
    "tfidf_vect_ngram2 = TfidfVectorizer(analyzer='word', token_pattern=r'\\w{1,}', ngram_range=(2,2), max_features=None)\n",
    "tfidf_vect_ngram2.fit(data['title'])\n",
    "content_tfidf_bigram =  tfidf_vect_ngram1.transform(data['content'])\n",
    "title_tfidf_bigram = tfidf_vect_ngram2.transform(data['title'])"
   ]
  },
  {
   "cell_type": "code",
   "execution_count": 22,
   "metadata": {},
   "outputs": [
    {
     "name": "stdout",
     "output_type": "stream",
     "text": [
      "(57157, 737804)\n",
      "(57157, 43040)\n",
      "(57157, 6115724)\n",
      "(57157, 311055)\n"
     ]
    }
   ],
   "source": [
    "#Check dimenstions\n",
    "print(content_tfidf_unigram.shape)\n",
    "print(title_tfidf_unigram.shape)\n",
    "print(content_tfidf_bigram.shape)\n",
    "print(title_tfidf_bigram.shape)"
   ]
  },
  {
   "cell_type": "code",
   "execution_count": 25,
   "metadata": {},
   "outputs": [
    {
     "ename": "MemoryError",
     "evalue": "Unable to allocate 333. GiB for an array with shape (57157, 780844) and data type float64",
     "output_type": "error",
     "traceback": [
      "\u001b[0;31m---------------------------------------------------------------------------\u001b[0m",
      "\u001b[0;31mMemoryError\u001b[0m                               Traceback (most recent call last)",
      "\u001b[0;32m<ipython-input-25-782e38b971ff>\u001b[0m in \u001b[0;36m<module>\u001b[0;34m\u001b[0m\n\u001b[0;32m----> 1\u001b[0;31m \u001b[0mfullData_unigram\u001b[0m \u001b[0;34m=\u001b[0m \u001b[0mnp\u001b[0m\u001b[0;34m.\u001b[0m\u001b[0mempty\u001b[0m\u001b[0;34m(\u001b[0m\u001b[0;34m(\u001b[0m\u001b[0;36m57157\u001b[0m\u001b[0;34m,\u001b[0m\u001b[0;36m780844\u001b[0m\u001b[0;34m)\u001b[0m\u001b[0;34m)\u001b[0m\u001b[0;34m\u001b[0m\u001b[0;34m\u001b[0m\u001b[0m\n\u001b[0m\u001b[1;32m      2\u001b[0m \u001b[0mfullData_bigram\u001b[0m \u001b[0;34m=\u001b[0m \u001b[0mnp\u001b[0m\u001b[0;34m.\u001b[0m\u001b[0mempty\u001b[0m\u001b[0;34m(\u001b[0m\u001b[0;34m(\u001b[0m\u001b[0;36m57157\u001b[0m\u001b[0;34m,\u001b[0m\u001b[0;36m6426779\u001b[0m\u001b[0;34m)\u001b[0m\u001b[0;34m)\u001b[0m\u001b[0;34m\u001b[0m\u001b[0;34m\u001b[0m\u001b[0m\n",
      "\u001b[0;31mMemoryError\u001b[0m: Unable to allocate 333. GiB for an array with shape (57157, 780844) and data type float64"
     ]
    }
   ],
   "source": [
    "fullData_unigram = np.empty((57157,780844))\n",
    "fullData_bigram = np.empty((57157,6426779))"
   ]
  },
  {
   "cell_type": "code",
   "execution_count": null,
   "metadata": {},
   "outputs": [],
   "source": []
  }
 ],
 "metadata": {
  "kernelspec": {
   "display_name": "Python 3",
   "language": "python",
   "name": "python3"
  },
  "language_info": {
   "codemirror_mode": {
    "name": "ipython",
    "version": 3
   },
   "file_extension": ".py",
   "mimetype": "text/x-python",
   "name": "python",
   "nbconvert_exporter": "python",
   "pygments_lexer": "ipython3",
   "version": "3.8.5"
  }
 },
 "nbformat": 4,
 "nbformat_minor": 4
}
