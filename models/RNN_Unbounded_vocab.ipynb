{
  "nbformat": 4,
  "nbformat_minor": 0,
  "metadata": {
    "colab": {
      "name": "RNN.ipynb",
      "provenance": [],
      "collapsed_sections": [],
      "toc_visible": true,
      "include_colab_link": true
    },
    "kernelspec": {
      "name": "python3",
      "display_name": "Python 3"
    },
    "accelerator": "GPU"
  },
  "cells": [
    {
      "cell_type": "markdown",
      "metadata": {
        "id": "view-in-github",
        "colab_type": "text"
      },
      "source": [
        "<a href=\"https://colab.research.google.com/github/pramud/100DaysOfKotlinAndVertx/blob/Day%231/RNN_Unbounded_vocab.ipynb\" target=\"_parent\"><img src=\"https://colab.research.google.com/assets/colab-badge.svg\" alt=\"Open In Colab\"/></a>"
      ]
    },
    {
      "cell_type": "code",
      "metadata": {
        "id": "1RleMPLyoDGY"
      },
      "source": [
        "# !ln -sf /opt/bin/nvidia-smi /usr/bin/nvidia-smi\n",
        "# !pip install gputil\n",
        "# !pip install psutil\n",
        "# !pip install humanize\n",
        "# !pip install tensorflow-addons\n"
      ],
      "execution_count": null,
      "outputs": []
    },
    {
      "cell_type": "code",
      "metadata": {
        "id": "H0QrXUq1VRxF",
        "colab": {
          "base_uri": "https://localhost:8080/"
        },
        "outputId": "01e0e321-f8b1-46d8-f381-c577f8961d14"
      },
      "source": [
        "import numpy as np\n",
        "import tensorflow as tf\n",
        "import pandas as pd\n",
        "from sklearn.model_selection import train_test_split\n",
        "import tensorflow_addons as tfa\n",
        "\n",
        "# import psutil\n",
        "# import humanize\n",
        "# import os, time\n",
        "# import GPUtil as GPU\n",
        "\n",
        "print(tf.__version__)"
      ],
      "execution_count": null,
      "outputs": [
        {
          "output_type": "stream",
          "text": [
            "2.3.0\n"
          ],
          "name": "stdout"
        }
      ]
    },
    {
      "cell_type": "code",
      "metadata": {
        "id": "TSUWBWD4wU5x"
      },
      "source": [
        "# GPUs = GPU.getGPUs()\n",
        "# # only one GPU on Colab and isn’t guaranteed\n",
        "# gpu = GPUs[0]\n",
        "# def worker():\n",
        "#   while True:\n",
        "#     process = psutil.Process(os.getpid())\n",
        "#     print(\"Gen RAM Free: \" + humanize.naturalsize( psutil.virtual_memory().available ), \" I Proc size: \" + humanize.naturalsize( process.memory_info().rss))\n",
        "#     print(\"GPU RAM Free: {0:.0f}MB | Used: {1:.0f}MB | Util {2:3.0f}% | Total {3:.0f}MB\".format(gpu.memoryFree, gpu.memoryUsed, gpu.memoryUtil*100, gpu.memoryTotal))\n",
        "#     time.sleep(6)\n",
        "\n",
        "# import threading\n",
        "# t = threading.Thread(target=worker, name='Monitor')\n",
        "# t.start()"
      ],
      "execution_count": null,
      "outputs": []
    },
    {
      "cell_type": "code",
      "metadata": {
        "id": "Z8c5aFb38yHs"
      },
      "source": [
        "# import os\n",
        "# os.environ[\"TF_FORCE_GPU_ALLOW_GROWTH\"]=\"true\""
      ],
      "execution_count": null,
      "outputs": []
    },
    {
      "cell_type": "code",
      "metadata": {
        "id": "T7hP3VByVZPw"
      },
      "source": [
        "import matplotlib.pyplot as plt\n",
        "def plot_graphs(history, metric):\n",
        "  plt.plot(history.history[metric])\n",
        "  plt.plot(history.history['val_'+metric], '')\n",
        "  plt.xlabel(\"Epochs\")\n",
        "  plt.ylabel(metric)\n",
        "  plt.legend([metric, 'val_'+metric])"
      ],
      "execution_count": null,
      "outputs": []
    },
    {
      "cell_type": "code",
      "metadata": {
        "id": "adRStEm-cYgk"
      },
      "source": [
        "data_df = pd.read_csv(\"/content/drive/My Drive/Colab_Notebooks/nela10.csv\")"
      ],
      "execution_count": null,
      "outputs": []
    },
    {
      "cell_type": "code",
      "metadata": {
        "id": "IbdnpQga3gfY"
      },
      "source": [
        ""
      ],
      "execution_count": null,
      "outputs": []
    },
    {
      "cell_type": "code",
      "metadata": {
        "id": "XkaTA1ZGz5Xn",
        "colab": {
          "base_uri": "https://localhost:8080/"
        },
        "outputId": "176dcde1-d31f-4700-b926-cd1223af8bee"
      },
      "source": [
        "data_df.Reliability.value_counts()"
      ],
      "execution_count": null,
      "outputs": [
        {
          "output_type": "execute_result",
          "data": {
            "text/plain": [
              "0    44582\n",
              "2    12575\n",
              "Name: Reliability, dtype: int64"
            ]
          },
          "metadata": {
            "tags": []
          },
          "execution_count": 38
        }
      ]
    },
    {
      "cell_type": "code",
      "metadata": {
        "id": "WnTkuQRL0Jqy"
      },
      "source": [
        "data_df.Reliability = data_df.Reliability.map({0:0, 2:1})"
      ],
      "execution_count": null,
      "outputs": []
    },
    {
      "cell_type": "code",
      "metadata": {
        "id": "r2fnabmcalTb",
        "colab": {
          "base_uri": "https://localhost:8080/"
        },
        "outputId": "f05accff-d8c9-40ef-f63c-8daac2d809f4"
      },
      "source": [
        "data_df.shape"
      ],
      "execution_count": null,
      "outputs": [
        {
          "output_type": "execute_result",
          "data": {
            "text/plain": [
              "(57157, 11)"
            ]
          },
          "metadata": {
            "tags": []
          },
          "execution_count": 40
        }
      ]
    },
    {
      "cell_type": "code",
      "metadata": {
        "id": "q5wl0-CBaoGf",
        "colab": {
          "base_uri": "https://localhost:8080/"
        },
        "outputId": "d83654d6-598b-4a4d-fae0-95a554d9bc07"
      },
      "source": [
        "data_df.content.drop_duplicates().shape"
      ],
      "execution_count": null,
      "outputs": [
        {
          "output_type": "execute_result",
          "data": {
            "text/plain": [
              "(54823,)"
            ]
          },
          "metadata": {
            "tags": []
          },
          "execution_count": 41
        }
      ]
    },
    {
      "cell_type": "code",
      "metadata": {
        "id": "tbkpCudlauKw"
      },
      "source": [
        "data_df['content'] = data_df['content'].str.replace('\\n', ' ').str.strip()"
      ],
      "execution_count": null,
      "outputs": []
    },
    {
      "cell_type": "code",
      "metadata": {
        "id": "_G9xePoyn4Sb",
        "colab": {
          "base_uri": "https://localhost:8080/",
          "height": 914
        },
        "outputId": "462f93ec-a687-4c57-c870-149d534c7067"
      },
      "source": [
        "data_df[(data_df.content.str.len()> 0) & (data_df.content.str.len()< 30)][['content','Reliability']]"
      ],
      "execution_count": null,
      "outputs": [
        {
          "output_type": "execute_result",
          "data": {
            "text/html": [
              "<div>\n",
              "<style scoped>\n",
              "    .dataframe tbody tr th:only-of-type {\n",
              "        vertical-align: middle;\n",
              "    }\n",
              "\n",
              "    .dataframe tbody tr th {\n",
              "        vertical-align: top;\n",
              "    }\n",
              "\n",
              "    .dataframe thead th {\n",
              "        text-align: right;\n",
              "    }\n",
              "</style>\n",
              "<table border=\"1\" class=\"dataframe\">\n",
              "  <thead>\n",
              "    <tr style=\"text-align: right;\">\n",
              "      <th></th>\n",
              "      <th>content</th>\n",
              "      <th>Reliability</th>\n",
              "    </tr>\n",
              "  </thead>\n",
              "  <tbody>\n",
              "    <tr>\n",
              "      <th>4399</th>\n",
              "      <td># Rod Rosenstein to step down</td>\n",
              "      <td>0</td>\n",
              "    </tr>\n",
              "    <tr>\n",
              "      <th>4623</th>\n",
              "      <td># Veteran being held in Iran</td>\n",
              "      <td>0</td>\n",
              "    </tr>\n",
              "    <tr>\n",
              "      <th>16909</th>\n",
              "      <td># Democrats Without Clothes</td>\n",
              "      <td>0</td>\n",
              "    </tr>\n",
              "    <tr>\n",
              "      <th>17054</th>\n",
              "      <td>Visit the post for more.</td>\n",
              "      <td>0</td>\n",
              "    </tr>\n",
              "    <tr>\n",
              "      <th>17059</th>\n",
              "      <td># The Making of Amazon Prime</td>\n",
              "      <td>0</td>\n",
              "    </tr>\n",
              "    <tr>\n",
              "      <th>17109</th>\n",
              "      <td>Visit the post for more.</td>\n",
              "      <td>0</td>\n",
              "    </tr>\n",
              "    <tr>\n",
              "      <th>17133</th>\n",
              "      <td># End the War in Afghanistan</td>\n",
              "      <td>0</td>\n",
              "    </tr>\n",
              "    <tr>\n",
              "      <th>17354</th>\n",
              "      <td>The State of the Shutdown</td>\n",
              "      <td>0</td>\n",
              "    </tr>\n",
              "    <tr>\n",
              "      <th>17441</th>\n",
              "      <td># Trump's Not-So-Bully Pulpit</td>\n",
              "      <td>0</td>\n",
              "    </tr>\n",
              "    <tr>\n",
              "      <th>17534</th>\n",
              "      <td>The Art of the Fail?</td>\n",
              "      <td>0</td>\n",
              "    </tr>\n",
              "    <tr>\n",
              "      <th>17716</th>\n",
              "      <td>There Is No Coup in Venezuela</td>\n",
              "      <td>0</td>\n",
              "    </tr>\n",
              "    <tr>\n",
              "      <th>24880</th>\n",
              "      <td>We are all trying to be brave</td>\n",
              "      <td>0</td>\n",
              "    </tr>\n",
              "    <tr>\n",
              "      <th>28285</th>\n",
              "      <td>Clare fails to keep it snappy</td>\n",
              "      <td>0</td>\n",
              "    </tr>\n",
              "    <tr>\n",
              "      <th>29478</th>\n",
              "      <td># 403 - Forbidden</td>\n",
              "      <td>0</td>\n",
              "    </tr>\n",
              "    <tr>\n",
              "      <th>42570</th>\n",
              "      <td>Skip to main content</td>\n",
              "      <td>0</td>\n",
              "    </tr>\n",
              "    <tr>\n",
              "      <th>46453</th>\n",
              "      <td>read more at NewsBusters here</td>\n",
              "      <td>1</td>\n",
              "    </tr>\n",
              "    <tr>\n",
              "      <th>46660</th>\n",
              "      <td>Read more at NewsBusters here</td>\n",
              "      <td>1</td>\n",
              "    </tr>\n",
              "    <tr>\n",
              "      <th>46689</th>\n",
              "      <td>read more at NewsBusters here</td>\n",
              "      <td>1</td>\n",
              "    </tr>\n",
              "    <tr>\n",
              "      <th>46734</th>\n",
              "      <td>read more at NewsBusters here</td>\n",
              "      <td>1</td>\n",
              "    </tr>\n",
              "    <tr>\n",
              "      <th>46927</th>\n",
              "      <td>January 8, 2019 | 8:27 PM EST</td>\n",
              "      <td>1</td>\n",
              "    </tr>\n",
              "    <tr>\n",
              "      <th>46934</th>\n",
              "      <td>January 9, 2019 | 8:05 AM EST</td>\n",
              "      <td>1</td>\n",
              "    </tr>\n",
              "    <tr>\n",
              "      <th>46952</th>\n",
              "      <td>January 9, 2019 | 8:00 AM EST</td>\n",
              "      <td>1</td>\n",
              "    </tr>\n",
              "    <tr>\n",
              "      <th>46953</th>\n",
              "      <td>January 9, 2019 | 4:15 PM EST</td>\n",
              "      <td>1</td>\n",
              "    </tr>\n",
              "    <tr>\n",
              "      <th>46955</th>\n",
              "      <td>January 9, 2019 | 2:28 PM EST</td>\n",
              "      <td>1</td>\n",
              "    </tr>\n",
              "    <tr>\n",
              "      <th>46956</th>\n",
              "      <td>January 9, 2019 | 9:16 AM EST</td>\n",
              "      <td>1</td>\n",
              "    </tr>\n",
              "    <tr>\n",
              "      <th>46957</th>\n",
              "      <td>January 9, 2019 | 1:52 PM EST</td>\n",
              "      <td>1</td>\n",
              "    </tr>\n",
              "    <tr>\n",
              "      <th>47024</th>\n",
              "      <td>read more at NewsBusters here</td>\n",
              "      <td>1</td>\n",
              "    </tr>\n",
              "    <tr>\n",
              "      <th>47662</th>\n",
              "      <td>Copyright 2016 | DC Gazette</td>\n",
              "      <td>1</td>\n",
              "    </tr>\n",
              "  </tbody>\n",
              "</table>\n",
              "</div>"
            ],
            "text/plain": [
              "                             content  Reliability\n",
              "4399   # Rod Rosenstein to step down            0\n",
              "4623    # Veteran being held in Iran            0\n",
              "16909    # Democrats Without Clothes            0\n",
              "17054       Visit the post for more.            0\n",
              "17059   # The Making of Amazon Prime            0\n",
              "17109       Visit the post for more.            0\n",
              "17133   # End the War in Afghanistan            0\n",
              "17354      The State of the Shutdown            0\n",
              "17441  # Trump's Not-So-Bully Pulpit            0\n",
              "17534           The Art of the Fail?            0\n",
              "17716  There Is No Coup in Venezuela            0\n",
              "24880  We are all trying to be brave            0\n",
              "28285  Clare fails to keep it snappy            0\n",
              "29478              # 403 - Forbidden            0\n",
              "42570           Skip to main content            0\n",
              "46453  read more at NewsBusters here            1\n",
              "46660  Read more at NewsBusters here            1\n",
              "46689  read more at NewsBusters here            1\n",
              "46734  read more at NewsBusters here            1\n",
              "46927  January 8, 2019 | 8:27 PM EST            1\n",
              "46934  January 9, 2019 | 8:05 AM EST            1\n",
              "46952  January 9, 2019 | 8:00 AM EST            1\n",
              "46953  January 9, 2019 | 4:15 PM EST            1\n",
              "46955  January 9, 2019 | 2:28 PM EST            1\n",
              "46956  January 9, 2019 | 9:16 AM EST            1\n",
              "46957  January 9, 2019 | 1:52 PM EST            1\n",
              "47024  read more at NewsBusters here            1\n",
              "47662    Copyright 2016 | DC Gazette            1"
            ]
          },
          "metadata": {
            "tags": []
          },
          "execution_count": 43
        }
      ]
    },
    {
      "cell_type": "code",
      "metadata": {
        "id": "UMUikG0udB3-"
      },
      "source": [
        "data_df.drop( data_df[data_df.content.str.len() < 30].index, inplace=True)"
      ],
      "execution_count": null,
      "outputs": []
    },
    {
      "cell_type": "code",
      "metadata": {
        "id": "0DrxPfASeAHV",
        "colab": {
          "base_uri": "https://localhost:8080/",
          "height": 305
        },
        "outputId": "f12f65d7-7e3f-4271-973f-1c79653488e8"
      },
      "source": [
        "data_df.head()"
      ],
      "execution_count": null,
      "outputs": [
        {
          "output_type": "execute_result",
          "data": {
            "text/html": [
              "<div>\n",
              "<style scoped>\n",
              "    .dataframe tbody tr th:only-of-type {\n",
              "        vertical-align: middle;\n",
              "    }\n",
              "\n",
              "    .dataframe tbody tr th {\n",
              "        vertical-align: top;\n",
              "    }\n",
              "\n",
              "    .dataframe thead th {\n",
              "        text-align: right;\n",
              "    }\n",
              "</style>\n",
              "<table border=\"1\" class=\"dataframe\">\n",
              "  <thead>\n",
              "    <tr style=\"text-align: right;\">\n",
              "      <th></th>\n",
              "      <th>id</th>\n",
              "      <th>date</th>\n",
              "      <th>source</th>\n",
              "      <th>title</th>\n",
              "      <th>content</th>\n",
              "      <th>author</th>\n",
              "      <th>url</th>\n",
              "      <th>published</th>\n",
              "      <th>published_utc</th>\n",
              "      <th>collection_utc</th>\n",
              "      <th>Reliability</th>\n",
              "    </tr>\n",
              "  </thead>\n",
              "  <tbody>\n",
              "    <tr>\n",
              "      <th>0</th>\n",
              "      <td>abcnews--2019-01-30--Who is Stacey Abrams the ...</td>\n",
              "      <td>2019-01-30</td>\n",
              "      <td>abcnews</td>\n",
              "      <td>Who is Stacey Abrams, the Democrat who will re...</td>\n",
              "      <td>Last November, Stacey Abrams, a Democrat who r...</td>\n",
              "      <td>Cheyenne Haslett</td>\n",
              "      <td>https://abcnews.go.com/Politics/stacey-abrams-...</td>\n",
              "      <td>2019-01-30 19:10:47+00:00</td>\n",
              "      <td>1548893447</td>\n",
              "      <td>1567550233</td>\n",
              "      <td>0</td>\n",
              "    </tr>\n",
              "    <tr>\n",
              "      <th>1</th>\n",
              "      <td>abcnews--2019-01-30--Ban government shutdowns ...</td>\n",
              "      <td>2019-01-30</td>\n",
              "      <td>abcnews</td>\n",
              "      <td>Ban government shutdowns? Some Republicans and...</td>\n",
              "      <td>As lawmakers scramble to negotiate a border se...</td>\n",
              "      <td>Benjamin Siegel,\\nTrish Turner\\n</td>\n",
              "      <td>https://abcnews.go.com/Politics/ban-government...</td>\n",
              "      <td>2019-01-30 17:29:04+00:00</td>\n",
              "      <td>1548887344</td>\n",
              "      <td>1567550233</td>\n",
              "      <td>0</td>\n",
              "    </tr>\n",
              "    <tr>\n",
              "      <th>2</th>\n",
              "      <td>abcnews--2019-01-30--Democrats renew push for ...</td>\n",
              "      <td>2019-01-30</td>\n",
              "      <td>abcnews</td>\n",
              "      <td>Democrats renew push for equal pay for equal work</td>\n",
              "      <td>Ten years after President Barack Obama signed ...</td>\n",
              "      <td>John Parkinson</td>\n",
              "      <td>https://abcnews.go.com/Politics/dems-renew-pus...</td>\n",
              "      <td>2019-01-30 21:35:45+00:00</td>\n",
              "      <td>1548902145</td>\n",
              "      <td>1567550233</td>\n",
              "      <td>0</td>\n",
              "    </tr>\n",
              "    <tr>\n",
              "      <th>3</th>\n",
              "      <td>abcnews--2019-01-30--Trump attacks intel chief...</td>\n",
              "      <td>2019-01-30</td>\n",
              "      <td>abcnews</td>\n",
              "      <td>Trump attacks intel chiefs after they contradi...</td>\n",
              "      <td>President Donald Trump on Wednesday declared \"...</td>\n",
              "      <td>Meridith Mcgraw</td>\n",
              "      <td>https://abcnews.go.com/Politics/trump-attacks-...</td>\n",
              "      <td>2019-01-30 17:03:40+00:00</td>\n",
              "      <td>1548885820</td>\n",
              "      <td>1567550233</td>\n",
              "      <td>0</td>\n",
              "    </tr>\n",
              "    <tr>\n",
              "      <th>4</th>\n",
              "      <td>abcnews--2019-01-30--Border security battle be...</td>\n",
              "      <td>2019-01-30</td>\n",
              "      <td>abcnews</td>\n",
              "      <td>Border security battle begins as Congress grap...</td>\n",
              "      <td>Republicans and Democrats on the exclusive com...</td>\n",
              "      <td>John Parkinson,\\nBenjamin Siegel\\n</td>\n",
              "      <td>https://abcnews.go.com/Politics/border-securit...</td>\n",
              "      <td>2019-01-30 15:09:47+00:00</td>\n",
              "      <td>1548878987</td>\n",
              "      <td>1567550233</td>\n",
              "      <td>0</td>\n",
              "    </tr>\n",
              "  </tbody>\n",
              "</table>\n",
              "</div>"
            ],
            "text/plain": [
              "                                                  id  ... Reliability\n",
              "0  abcnews--2019-01-30--Who is Stacey Abrams the ...  ...           0\n",
              "1  abcnews--2019-01-30--Ban government shutdowns ...  ...           0\n",
              "2  abcnews--2019-01-30--Democrats renew push for ...  ...           0\n",
              "3  abcnews--2019-01-30--Trump attacks intel chief...  ...           0\n",
              "4  abcnews--2019-01-30--Border security battle be...  ...           0\n",
              "\n",
              "[5 rows x 11 columns]"
            ]
          },
          "metadata": {
            "tags": []
          },
          "execution_count": 45
        }
      ]
    },
    {
      "cell_type": "code",
      "metadata": {
        "id": "OliuCEEZecq8"
      },
      "source": [
        "#Keep only content, Reliability as columns\n",
        "data_df = data_df.drop(['id','date','source','title','author','url','published','published_utc','collection_utc'],axis=1)"
      ],
      "execution_count": null,
      "outputs": []
    },
    {
      "cell_type": "code",
      "metadata": {
        "id": "dz0MN3rChTiP",
        "colab": {
          "base_uri": "https://localhost:8080/",
          "height": 203
        },
        "outputId": "fca45d4e-9a10-4777-a79f-4586cbefefaa"
      },
      "source": [
        "data_df.head()"
      ],
      "execution_count": null,
      "outputs": [
        {
          "output_type": "execute_result",
          "data": {
            "text/html": [
              "<div>\n",
              "<style scoped>\n",
              "    .dataframe tbody tr th:only-of-type {\n",
              "        vertical-align: middle;\n",
              "    }\n",
              "\n",
              "    .dataframe tbody tr th {\n",
              "        vertical-align: top;\n",
              "    }\n",
              "\n",
              "    .dataframe thead th {\n",
              "        text-align: right;\n",
              "    }\n",
              "</style>\n",
              "<table border=\"1\" class=\"dataframe\">\n",
              "  <thead>\n",
              "    <tr style=\"text-align: right;\">\n",
              "      <th></th>\n",
              "      <th>content</th>\n",
              "      <th>Reliability</th>\n",
              "    </tr>\n",
              "  </thead>\n",
              "  <tbody>\n",
              "    <tr>\n",
              "      <th>0</th>\n",
              "      <td>Last November, Stacey Abrams, a Democrat who r...</td>\n",
              "      <td>0</td>\n",
              "    </tr>\n",
              "    <tr>\n",
              "      <th>1</th>\n",
              "      <td>As lawmakers scramble to negotiate a border se...</td>\n",
              "      <td>0</td>\n",
              "    </tr>\n",
              "    <tr>\n",
              "      <th>2</th>\n",
              "      <td>Ten years after President Barack Obama signed ...</td>\n",
              "      <td>0</td>\n",
              "    </tr>\n",
              "    <tr>\n",
              "      <th>3</th>\n",
              "      <td>President Donald Trump on Wednesday declared \"...</td>\n",
              "      <td>0</td>\n",
              "    </tr>\n",
              "    <tr>\n",
              "      <th>4</th>\n",
              "      <td>Republicans and Democrats on the exclusive com...</td>\n",
              "      <td>0</td>\n",
              "    </tr>\n",
              "  </tbody>\n",
              "</table>\n",
              "</div>"
            ],
            "text/plain": [
              "                                             content  Reliability\n",
              "0  Last November, Stacey Abrams, a Democrat who r...            0\n",
              "1  As lawmakers scramble to negotiate a border se...            0\n",
              "2  Ten years after President Barack Obama signed ...            0\n",
              "3  President Donald Trump on Wednesday declared \"...            0\n",
              "4  Republicans and Democrats on the exclusive com...            0"
            ]
          },
          "metadata": {
            "tags": []
          },
          "execution_count": 47
        }
      ]
    },
    {
      "cell_type": "code",
      "metadata": {
        "id": "7X9m_klY4e4A"
      },
      "source": [
        "# split the dataset into training and validation datasets \n",
        "train_x, valid_x, train_y, valid_y = train_test_split(data_df['content'], data_df['Reliability'], test_size=0.20, random_state=42)"
      ],
      "execution_count": null,
      "outputs": []
    },
    {
      "cell_type": "code",
      "metadata": {
        "id": "kXgA6bdBzhcG",
        "colab": {
          "base_uri": "https://localhost:8080/"
        },
        "outputId": "265e12d6-7c11-4670-9516-ef96a98b669d"
      },
      "source": [
        "train_y.value_counts(), valid_y.value_counts()"
      ],
      "execution_count": null,
      "outputs": [
        {
          "output_type": "execute_result",
          "data": {
            "text/plain": [
              "(0    35609\n",
              " 1    10023\n",
              " Name: Reliability, dtype: int64, 0    8869\n",
              " 1    2539\n",
              " Name: Reliability, dtype: int64)"
            ]
          },
          "metadata": {
            "tags": []
          },
          "execution_count": 49
        }
      ]
    },
    {
      "cell_type": "code",
      "metadata": {
        "id": "qJldBnpL3913"
      },
      "source": [
        "train_dataset = tf.data.Dataset.from_tensor_slices((train_x.values, train_y.values))\n",
        "test_dataset = tf.data.Dataset.from_tensor_slices((valid_x.values, valid_y.values))"
      ],
      "execution_count": null,
      "outputs": []
    },
    {
      "cell_type": "code",
      "metadata": {
        "id": "kxVWMY9r4L_E",
        "colab": {
          "base_uri": "https://localhost:8080/"
        },
        "outputId": "d405eae4-693c-4185-af33-f94705d810d9"
      },
      "source": [
        "for feat, targ in train_dataset.take(5):\n",
        "  print ('Features: {}, Target: {}'.format(feat, targ))"
      ],
      "execution_count": null,
      "outputs": [
        {
          "output_type": "stream",
          "text": [
            "Features: b'Thousands of festival-goers at Glastonbury formed Extinction Rebellion\\'s hourglass symbol in a bid to draw attention to climate change issues.  The protest group joined forces with long-time event partner Greenpeace in a call to join a climate-climate rebellion.  The campaigners marched through Worthy Farm led by Extinction Rebellion\\'s pink \"Tell the Truth\" boat, which was last seen in London\\'s Oxford Circus when the group brought parts of the British capital to a standstill in April.  They called on ordinary people to join a youth strike planned for September, which they said aimed to force government and business to take the climate emergency seriously.  Activist Lizzy Haughton said while sitting in the middle of the symbol: \"I think people are finally beginning to realise that, in order to tackle the climate and ecological emergency, we are going to have to be radical.\"  Gail Bradbrook, Extinction Rebellion co-founder, said the demonstration had been made particularly memorable by the presence of leaders from indigenous communities worldwide, such as Ecuadorian shaman Kurikindi.  She said that she hoped all corners of the festival, which was in full swing on Thursday ahead of the start of the main performances on Friday, would heed the protesters\\' message.  \"I\\'m hoping they hear this prayer,\" she said. \"There\\'s limited juiciness in hedonistic indifference. There\\'s something better on offer.\"  The event, a collaboration between Extinction Rebellion and Greenpeace, began at the Park Stage with speeches from 4pm.  Crowds with placards and flags, accompanied by models of insects and other species, made their way to the Stone Circle.  There they formed a large human sculpture of an hourglass to symbolise extinction, with music by folk singer Nick Mulvey.  Temperatures at the Somerset site, which spans 900 acres, reached 26C by Thursday afternoon.  Many taking part in the march wore hats or held umbrellas to shield themselves from the sunshine, while others stripped off to sunbathe.  Forecasters have warned that tents could become uncomfortably hot on Thursday night, as aerial images revealed how Worthy Farm has been transformed into a temporary city of 200,000 people  Student Ruairi Brogan from Belfast attended the march with a group of friends  \"I followed the ER procession and we thought it was important to show our support and be part of something we felt would make a mark on Glastonbury and history,\" Mr Brogan said.  \"I think it will be remembered as the start of something, of change.\"  Ashleigh Hodges, 28, from London, came to the Stone Circle after having a hand-fasting ceremony with her partner at Glastonbury Festival.  \"I missed this protest in London because I was working away and I was gutted so when I heard it was happening here I wanted to come,\" she said.  \"It\\'s been so lovely and its nice to see everyone connected for the right reasons and pushing for beautiful things to happen.  \"Everyone wants to save the world - it\\'s a really lovely thing.\"  Daryl Haines, 21, said that going to a festival could make people realise they did not need plastic bottles or cutlery or to shower every day.  \"People need to be taught that we can change. I think people really were listening today.  \"I hope the image of people standing in the Extinction Rebellion sign will really get that message across.\"  On Sunday, Extinction Rebellion will also join forces with the Wisdom Keepers to hold a minute silence on the Pyramid Stage, in memory of Make Ecocide Law founder Polly Jenkins.  Extinction Rebellion also has set up a \\xe2\\x80\\x9cRebel Rebel\\xe2\\x80\\x9d tent in the Green Futures field for the weekend with a program of talks on the \\xe2\\x80\\x9cclimate emergency\\xe2\\x80\\x9d.  Dr Gail Bradbrook said before the event: \\xe2\\x80\\x9cThe climate emergency is the most dangerous threat currently facing all life on earth.\"  \\xe2\\x80\\x9cIt is also important to acknowledge the people who have been standing up for us and for our planet for years,\\xe2\\x80\\x9d she added.  Organisers said more than 100,000 ticket holders were on site by\\xc2\\xa08am\\xc2\\xa0on Thursday morning, slightly up on the same time in 2017 when the festival was last held.  The main stages open on Friday, when\\xc2\\xa0Lauryn\\xc2\\xa0Hill and George Ezra are due to play the Pyramid stage before first headliner British rapper\\xc2\\xa0Stormzy.', Target: 0\n",
            "Features: b'A long anticipated map of mobile phone coverage blackspots across the State has been published by the Commission for Communications Regulation (ComReg).  The map, which is available at comreg.ie, will allow phone users to quickly establish the level of coverage where they work or live and will help them make more informed choices based on predicted coverage availability in their area.  Phone users can search and zoom into particular areas or addresses using either eircodes or local addresses with the zoom function allowing people to narrow down their search of a selected location to 10x10 metres.  The map has been generated using data provided by the all the mobile network operators \\xe2\\x80\\x93 Eir, Three Ireland and Vodafone. It also includes data for the mobile virtual network operators 48, Lycamobile, Postmobile, Tesco Mobile and Virgin Media.  Customers using 48, Tesco, Lycamobile and Virgin should check the Three Network. Post Mobile customers should check the Vodafone Network.  It is set out in a colour-coded format with dark brown showing very good coverage through to beige which shows fringe coverage.  It shows signal strength for all mobile service providers ranging from very good, good, fair, fringe and no coverage. It also offers the ability to check 2G (Voice), 3G (Data and Voice) and 4G (Data and Voice) coverage.  ComReg said it would update the map on a regular basis to reflect changes in coverage as operators expand their networks. ComReg will also launch a mobile phone app for the coverage map in due course.  \\xe2\\x80\\x9cComReg\\xe2\\x80\\x99s mobile phone coverage map gives users independent and consistent information about the coverage they can expect from different mobile networks at different locations,\\xe2\\x80\\x9d said ComReg Commissioner Jeremy Godfrey.  \\xe2\\x80\\x9cWe all have different requirements for coverage, depending on where we live, work, study and spend our leisure time. The map will enable users to identify providers that can best meet their individual needs. It will also strengthen the competitive advantage that operators can gain from expanding their coverage\\xe2\\x80\\x9d.', Target: 0\n",
            "Features: b'ST. CLAIRSVILLE, Ohio \\xe2\\x80\\x94 One thing you learn traveling through the Upper Midwest is that the various components of the oil and gas industries \\xe2\\x80\\x94 the pipelines, the storage wells \\xe2\\x80\\x94 often have gorgeously evocative names: Mountain Valley, Falcon, Plains, Atlantic Sunrise. These names are a kind of beautification project, like trees planted to obscure a municipal dump. A plant in Pennsboro, W.Va., called Clearwater treats fracking wastewater,\\xc2\\xa0which can remain radioactive even after treatment.  Skyhawk is the soaring name given to a smoothed-over patch of gravel at 67657 Clark Road in St. Clairsville, Ohio. On an overcast day last spring, it was nothing but an empty enclosure surrounded by heavy plastic fencing the height of a two-story building. Soon, the emptiness would be filled by wells that shoot high-pressure water and\\xc2\\xa0chemicals\\xc2\\xa0into the ground, forcing up reservoirs of natural gas and other valuable compounds. Skyhawk is a fracking pad.  The effects of hydraulic fracturing \\xe2\\x80\\x94 as fracking is formally known \\xe2\\x80\\x94 on human health are not yet fully known, but what is known so far is\\xc2\\xa0not terribly encouraging. The process seems especially damaging to expectant mothers, as well as to young children, with a 2017 study linking pollution from fracking wells to\\xc2\\xa0poor brain development. Asthma is another possible problem. So is cancer.  Only a few feet from Skyhawk\\xe2\\x80\\x99s edge stood another building, a low structure, with an outdoor area enclosed by chicken-wire fencing. Inside the fencing some plastic toys were visible. The building is home to Creative Learning Daycare and Preschool.  \\xe2\\x80\\x9cThat wall isn\\xe2\\x80\\x99t going to stop s***,\\xe2\\x80\\x9d says Bev Reed, activist from the Concerned Ohio River Residents.  Fracking and its associated industries \\xe2\\x80\\x94 some of which are potentially more hazardous to human health than fracking itself \\xe2\\x80\\x94 have taken over Appalachia. A facility to handle fracking waste stands next to a school in Belmont, Ohio. A few miles away, on a ridge above town, a fracking well looms over an Amish homestead. Children play in its long, ominous shadow.  On Tuesday, President Trump will visit Monaca, Pa., to tout the next step in fracking\\xe2\\x80\\x99s takeover of West Virginia, eastern Ohio and western Pennsylvania. The president will be visiting a plastics plant now rising on the banks of the Ohio River. That plant, being built by Shell, is the most advanced facet of an even bigger project known as the Appalachian Storage Hub, or ASH. A \\xe2\\x80\\x9cpetrochemical supermarket,\\xe2\\x80\\x9d as supporters call it, ASH will graft an entirely new industry \\xe2\\x80\\x94 plastics \\xe2\\x80\\x94 on a landscape already crowded with fracking pads like Skyhawk, not to mention a spreading spiderweb of pipelines and refineries.  To be an environmental activist in Appalachia has never been easy. Perhaps it has never been harder than in the age of Trump. \\xe2\\x80\\x9cWe\\xe2\\x80\\x99re surrounded,\\xe2\\x80\\x9d concluded Reed, a taciturn woman in her 20s. She is a native of Bridgeport, a scrappy little settlement on the western bank of the Ohio River. There, she works at a bike shop that her father opened in 1973, during the oil crisis. The store, expertly curated, would not look out of place in some pristine San Francisco suburb. But you are not in California. On the hillside above Reed\\xe2\\x80\\x99s store, coal mine runoff trickling down the street was a disconcertingly bright orange, with streaks of equally disconcerting white.  Another activist, Ted Auch of the FracTracker Alliance, sent a drone whizzing into the air. Many cottage industries have thrived in Appalachia since fracking took hold here about a decade ago.\\xc2\\xa0One of them is prostitution. Another is the mapping of fracking infrastructure onto the landscape, which is typically done with drones because the enormity of the infrastructure is hard to otherwise grasp. The effort is noble but ultimately frustrating, like trying to track a runaway cancer in the final, deadly stages of metastasis.  The drone disappeared into the sky, returning a few minutes later with images of the fracking pad and, virtually right next to it, the preschool. From above, the two seemed even closer than they did from the ground.  People who are perturbed by the fracking revolution are routinely reminded that as late as 2011, when the housing crisis was over for much of the country, Belmont County was still struggling with nearly 12 percent unemployment. It is nearly half that now. Just down the road from the Skyhawk site is an oil and gas safety supply store. It is decorated with an American flag mural on which are superimposed two black derricks spewing oil.  The promise of ASH is tremendous: 100,000 jobs, supporters claim, along with brighter prospects for West Virginia, the poorest state in the nation, and its struggling neighbors, the counties of eastern Ohio and western Pennsylvania. In a clear sign of the project\\xe2\\x80\\x99s significance, the Chinese have agreed to invest $84 billion in West Virginia, a secretive arrangement that remains both tantalizing and unrealized.  Critics say that ASH is closer to Appalachia\\xe2\\x80\\x99s death knell than its savior, that it will devastate the region even more thoroughly than coal did in decades past. They argue that the promise of 100,000 jobs is wildly inflated, the product of an industry study meant to sell the government on the plan. And they say that in the rush to secure Chinese funding and start building, the Trump administration could be endangering the very people it has promised to save.  Another concern for critics of the plan is that it represents an investment in fossil fuels at a time when climate science says the country should be divesting from them. \\xe2\\x80\\x9cThe climate crisis is getting untenable,\\xe2\\x80\\x9d says Varshini Prakash, a founder of the Sunrise Movement, a\\xc2\\xa0climate change\\xc2\\xa0advocacy group, and architect of the\\xc2\\xa0Green New Deal, an ambitious plan sponsored by Rep. Alexandria Ocasio-Cortez, D-N.Y.  Politicians from the region are divided. West Virginia Sen. Joe Manchin, a Democrat, thinks ASH is exactly what Appalachia needs. Ohio Sen. Sherrod Brown, also a Democrat, pointed to the \\xe2\\x80\\x9cmany questions about this project\\xe2\\x80\\x9d in a circumspect statement to Yahoo News. \\xe2\\x80\\x9cIf President Trump wants to support Appalachia,\\xe2\\x80\\x9d Brown said, \\xe2\\x80\\x9che should invest in rural broadband, good roads and the Appalachian Regional Commission, and stop threatening to take away Ohioans\\xe2\\x80\\x99 health care.\\xe2\\x80\\x9d Yet he did not condemn ASH outright.  Not everyone is so ambiguous. One supporter of fracking and the associated petrochemical industry is Rep. Bill Johnson, a Republican who represents eastern Ohio. In a recent conversation at his Capitol Hill office, he imagined a scenario in which American \\xe2\\x80\\x9cenergy diplomacy\\xe2\\x80\\x9d would see liquified natural gas used to exert pressure on adversaries like North Korea and Iran.  \\xe2\\x80\\x9cWhy not get into that market?\\xe2\\x80\\x9d Johnson said of those two countries, and of Russia, all of which are currently under U.S. and international sanctions.  Trump recently boosted the project\\xe2\\x80\\x99s prospects with\\xc2\\xa0an executive order on \\xe2\\x80\\x9cpromoting energy infrastructure,\\xe2\\x80\\x9d\\xc2\\xa0which he signed on April 10. The order gave the Department of Energy six months to produce a report \\xe2\\x80\\x9cdescribing opportunities, through the Federal Government or otherwise, to promote economic growth of the Appalachian region, including growth of petrochemical and other industries.\\xe2\\x80\\x9d  This was regarded by energy analysts as an effort to speed up the hub\\xe2\\x80\\x99s construction. As one such analyst\\xc2\\xa0told industry news site Kallanish Energy, the Department of Energy \\xe2\\x80\\x9chas definitely been given its marching orders.\\xe2\\x80\\x9d And those orders are to make ASH a reality soon, especially with Ohio and Pennsylvania among the most coveted prizes in the 2020 presidential election.  The scope of ASH is difficult to describe and just as difficult to understate. While a \\xe2\\x80\\x9cstorage hub\\xe2\\x80\\x9d sounds like it might be something small and innocuous \\xe2\\x80\\x94 a windowless warehouse, gleaming steel tanks \\xe2\\x80\\x94 ASH is anything but. ASH will feed into six new \\xe2\\x80\\x9ccracker\\xe2\\x80\\x9d plants, immense factories that turn fracking byproducts called natural gas liquids (also called \\xe2\\x80\\x9cwet gas,\\xe2\\x80\\x9d and not to be confused with \\xe2\\x80\\x9cdry\\xe2\\x80\\x9d natural gas, fracking\\xe2\\x80\\x99s main product) into plastic pellets. Those pellets in turn become many of the plastic goods ubiquitous in Americans\\xe2\\x80\\x99 lives.  About 500 miles of pipeline would bring those natural gas liquids from the fracking fields of the Marcellus and Utica Shale plays to cracker plants like the one now rising in Monaca, the one Trump is slated to visit on Tuesday. Some of the liquids would be stored in facilities that could hold a total of 3 million barrels. The storage chambers will be adjacent to, or right under, the Ohio River, one of the largest waterways in the United States.  ASH will turn the Ohio River Valley into the epicenter of the American petrochemical industry, whose operations are closely tied to the well-established but still-expanding fracking sector. This is what Trump promised when he promised to save Appalachia, even if there are some in Appalachia who do not want to be saved, at least not on what will amount to an immense raft of cheap plastic.  St. Clairsville is in the very eastern part of Ohio, where West Virginia\\xe2\\x80\\x99s northern panhandle pushes like a wedge toward the Great Lakes, and where the hills and hollows of Appalachia start to smooth out into the plains of the Midwest. Donald Trump came here on June 28, 2016, when he had all but eliminated his competition to become the Republican nominee for president. He spoke on the campus of Ohio University Eastern, a few miles from the Skyhawk fracking pad. Near the campus sit the headquarters of the Murray Energy Corporation, an energy company whose founder, Bob Murray, was and remains\\xc2\\xa0a significant Trump supporter and adviser.  Hillary Clinton had committed one of her worst rhetorical mistakes of the campaign when she\\xc2\\xa0told CNN\\xc2\\xa0that she would put coal miners out of work (she intended to move them into the renewable-energy sector, but that context\\xc2\\xa0was quickly stripped away\\xc2\\xa0by Trump and some media outlets). Trump was going to do the opposite for these \\xe2\\x80\\x9camazing people,\\xe2\\x80\\x9d as he called them. He described traveling through New England and the Midwest. \\xe2\\x80\\x9cThere\\xe2\\x80\\x99s no expansion,\\xe2\\x80\\x9d he said. \\xe2\\x80\\x9cWe\\xe2\\x80\\x99re getting the hell beat out of us. And it\\xe2\\x80\\x99s gonna stop.\\xe2\\x80\\x9d  Almost three years later, Trump seems to be making good on his promise to the people of the Ohio River Valley, as the unceasing construction in the region visibly suggests. ASH represents his most audacious and conspicuous bid to beat back what he calls \\xe2\\x80\\x9cthe war on coal\\xe2\\x80\\x9d and keep fossil fuels at the center of the American economy.  ASH appears to have had its origins in 2015, not long before the Army Corps of Engineers division in Omaha, Neb.,\\xc2\\xa0announced details\\xc2\\xa0of a plan to install a pipeline across the Missouri River in North Dakota, on the edge of the Sioux reservation of Standing Rock. That pipeline, Dakota Access, became the target of a prolonged protest that attracted international attention.  At the same time, a project of significantly greater scope than Dakota Access was taking shape in Appalachia, virtually without any public protest. By the time objections to ASH started to receive attention, several years later, it would be nearly too late.  In October of that year, officials from West Virginia, Ohio and Pennsylvania convened for the first Tri-State Shale Summit. Their goal was to \\xe2\\x80\\x9cmarket the region to petrochemical and other industries that can use shale gas for manufacturing,\\xe2\\x80\\x9d as a report from energy-related news site StateImpact Pennsylvania put it. The boosterism was truly bipartisan: among the speakers, by video, was Tom Wolf, the new Democratic governor of Pennsylvania. Appalachia, still reeling from the divestment of coal, would be the virgin soil for the petrochemical industry, which has historically been based along the Gulf of Mexico.  Industry took notice. Shell announced that it was building a cracker plant in Monaca in July 2016. The following month, a trade publication called Natural Gas Intelligence wondered, \\xe2\\x80\\x9cCan a revived petrochemical industry in the Appalachian Basin actually compete with the more established juggernaut on the Gulf Coast? Will this spark development of a chemical and plastics hub?\\xe2\\x80\\x9d  Nobody seemed to be working harder to make that happen than Brian J. Anderson, former director of the Energy Institute at West Virginia University and an endowed professor in plastics manufacturing. The latter position is funded by General Electric. According to\\xc2\\xa0reporting by Steve Horn of the DeSmog blog, an environmental news site, Anderson had also once worked for the Appalachian Development Group, the very same concern that now stands to potentially receive the $1.9 billion loan from the federal Department of Energy.  Anderson provided the scientific justification for the project, even as he appeared to stand to potentially benefit from the project\\xe2\\x80\\x99s realization (Anderson refused repeated requests to comment for this article).\\xc2\\xa0In a 2017 presentation, he argued that Appalachia could renew its economic prospects by focusing on the liquids that are the byproducts of fracking. These were the feedstock of the plastics industry, and they were being shipped to the Gulf Coast, a costly and inefficient enterprise. Anderson argued that the fracking byproducts should stay in Appalachia.  Some of the figures Anderson used in the 2017 presentation came from the American Chemistry Council, a lobbying group for the petrochemical industry that\\xc2\\xa0has had several strong links to the Trump administration. That same year, the council published a report that claimed, in what would prove its most widely publicized conclusion, that ASH would add 100,000 permanent jobs in the region. It would also \\xe2\\x80\\x9cmaximize America\\xe2\\x80\\x99s domestic energy and manufacturing potential,\\xe2\\x80\\x9d according to a press release from the council.  The promise of 100,000 jobs \\xe2\\x80\\x94 repeated by Anderson and many in the Trump administration \\xe2\\x80\\x94 has been central to the argument for ASH and is used to override concerns about human and environmental health. Cancer may be a possibility, but poverty is real. And how else was Appalachia going to climb out of its long slide into destitution? That is the argument you frequently hear.  The seemingly impressive employment number comes from IMPLAN, an algorithmic tool that allows users to calculate the economic impact of a potential project. IMPLAN models are often deployed by supporters of new sports arenas and other developments that need to be sold to a potentially skeptical taxpaying public. The promise of jobs always does the trick.  And yet,\\xc2\\xa0critics like Stanford economist Roger Noll argue\\xc2\\xa0that the sports arenas and entertainment complexes never seem to create many jobs beyond construction and, once those inevitably wind down, low-wage service work of the kind already available elsewhere.  IMPLAN and similar models use simplified input-output tables that radically distort the benefit of every dollar spent,\\xc2\\xa0according to a critique\\xc2\\xa0of economic impact models by the John Locke Foundation. The model, this critique argues, ignores the very real possibility \\xe2\\x80\\x94 the opportunity cost \\xe2\\x80\\x94 of that very same dollar being better spent in some other, potentially more publicly beneficial fashion.The model by design exaggerates the benefits of a projects while minimizing the benefit of doing something else \\xe2\\x80\\x94 or even nothing at all.  The author of that analysis, Locke Foundation senior economist Roy Cordato, says IMPLAN is an inherently \\xe2\\x80\\x9cpolitical model,\\xe2\\x80\\x9d one that is \\xe2\\x80\\x9cbiased\\xe2\\x80\\x9d in favor of job creation. \\xe2\\x80\\x9cEveryone knows it\\xe2\\x80\\x99s good for special interests,\\xe2\\x80\\x9d he said. \\xe2\\x80\\x9cIt misses very fundamental questions of economics.\\xe2\\x80\\x9d  In other words, IMPLAN is inherently sunny, which is why it is beloved by developers. It always give them the answer they want.  Another critic, sports economist Donald A. Coffin, has called IMPLAN models \\xe2\\x80\\x9cwildly unreasonable\\xe2\\x80\\x9d because of the \\xe2\\x80\\x9cmultiplier effects\\xe2\\x80\\x9d they predict as huge, inevitable benefits, not the incremental gains they usually turn out to be. Coffin has called IMPLAN \\xe2\\x80\\x9ca \\xe2\\x80\\x98model\\xe2\\x80\\x99 designed to generate large impact numbers to please a client who wants to lobby someone.\\xe2\\x80\\x9d The American Chemistry Council was precisely such a lobby. The \\xe2\\x80\\x9csomeone\\xe2\\x80\\x9d it sought to influence included public officials all over Appalachia, as well as the Trump administration.  In an interview, American Chemistry Council economist Martha Moore said she wasn\\xe2\\x80\\x99t sure how the much-touted 100,000 figure came to be, since she was relying on the model\\xe2\\x80\\x99s algorithms. \\xe2\\x80\\x9cI just used what IMPLAN provided,\\xe2\\x80\\x9d Moore said, explaining that the program has a \\xe2\\x80\\x9chuge back end\\xe2\\x80\\x9d that does much of the work.  Even a cursory knowledge of how the petrochemical industry works makes clear how the 100,000 figure simply doesn\\xe2\\x80\\x99t hold. A fully operational cracker plant doesn\\xe2\\x80\\x99t employ more than 600 or so people, at least according to what has been reported about the Shell facility in Monaca. As for pipelines and storage caverns, they will need minimal human staffing once fully built. That means that, at the very most, ASH would create around 4,000 jobs, just a little more than\\xc2\\xa0two Amazon warehouses recently opened in Ohio.  Of course, to claim 100,000 jobs is immensely tantalizing. And if the figure isn\\xe2\\x80\\x99t credible, it at least has the veneer of credibility, which in the age of \\xe2\\x80\\x9calternative facts\\xe2\\x80\\x9d is more than enough. The claim is also politically expedient. The president is widely beloved in West Virginia, but he will need to win the more difficult states of Ohio and Pennsylvania in 2020 to remain in the White House for four more years. ASH has proven a potent means of steering money to those states.  In the summer of 2017, Trump traveled to China, where he signed an $84 billion memorandum of understanding, or MOU, with the Chinese focused on the Appalachian Storage Hub. The MOU would \\xe2\\x80\\x9cextend over a 20-year period, covering projects for power generation, chemical manufacturing and the underground storage of liquefied natural gas,\\xe2\\x80\\x9d according to\\xc2\\xa0a Reuters report\\xc2\\xa0based on a West Virginia Department of Commerce statement.  The nature of the understanding spelled out in the memorandum is unclear, because the administration has not made that memorandum public. As the president continues with his anti-China trade campaign, there have been suggestions that the deal might be off. It seems to be on for now, part of $250 billion in arrangements Trump has made with China, even as he has decried that nation\\xe2\\x80\\x99s increasing economic influence.  There are other sources of funds, of course. The Department of Energy\\xc2\\xa0announced it was considering $1.9 billion in loan guarantees for ASH. The money came from\\xc2\\xa0Title XVII, an Obama-era program that was intended for clean energy projects. Rick Perry, Trump\\xe2\\x80\\x99s energy secretary, has refashioned it to bolster an \\xe2\\x80\\x9call-of-the-above energy portfolio,\\xe2\\x80\\x9d code for supporting fossil fuels.  Rep. Ilhan Omar, D-Minn., meanwhile,\\xc2\\xa0has moved to stop that loan, which has not been definitely approved. Her amendment recently passed the House, but is unlikely to pass in a GOP-controlled Senate.  But while the Chinese investment \\xe2\\x80\\x94 which extends to projects beyond ASH \\xe2\\x80\\x94 isn\\xe2\\x80\\x99t necessary, it is highly coveted, and officials in West Virginia are getting impatient for the promised billions to finally arrive. Jim Justice, the Republican governor of West Virginia, and a close Trump ally,\\xc2\\xa0said in January\\xc2\\xa0that ASH is his \\xe2\\x80\\x9cNo. 1 economic focus.\\xe2\\x80\\x9d Since then, the project\\xe2\\x80\\x99s critics have only grown louder, attracting critical scrutiny from outlets like\\xc2\\xa0ProPublica\\xc2\\xa0and CNBC.  In testimony before Congress earlier this spring, Perry complained about the pace with which ASH was coming together. \\xe2\\x80\\x9cIt\\xe2\\x80\\x99s not happening as fast as I\\xe2\\x80\\x99d like to see it,\\xe2\\x80\\x9d the energy secretary admitted.  The executive order Trump signed this spring was supposed to put the project into overdrive. The report from the Department of Energy \\xe2\\x80\\x94 which will almost certainly conclude that the project is feasible, considering the department has been open to making loan guarantees toward its completion \\xe2\\x80\\x94 will arrive near the end of 2019, as Trump\\xe2\\x80\\x99s reelection campaign begins in earnest.  Still, the sense that things are taking too long remains. At a Senate hearing in July, Manchin of West Virginia said that ASH could augur a \\xe2\\x80\\x9crenaissance in the chemical industry\\xe2\\x80\\x9d \\xe2\\x80\\x94 if only it were ever built. He asked one of the witnesses, a Department of Energy official, for \\xe2\\x80\\x9cany type of an update.\\xe2\\x80\\x9d He looked and sounded anxious.  That official, Shawn Bennett, is a former fossil fuel lobbyist. He is now the deputy assistant for oil and natural gas at the Department of Energy. Bennett assured Manchin that he was \\xe2\\x80\\x9chard at work\\xe2\\x80\\x9d on Trump\\xe2\\x80\\x99s executive order, promising a report in August. When Manchin complained about Chinese influence on the project, Bennett wisely ignored it.  But even as officials in Ohio, Pennsylvania and West Virginia \\xe2\\x80\\x94 as well as in Washington, D.C.\\xe2\\x80\\x94 push for final approval of the sprawling project\\xe2\\x80\\x99s constituent parts, critics think they can halt ASH. Their central argument is that Trump\\xe2\\x80\\x99s bid to save Appalachia will only hasten its demise.  To see the future of the Ohio River Valley, it is useful to travel down another river: the Mississippi, in particular where it winds and wends between Baton Rouge, La., and New Orleans before emptying into the Gulf Coast. This is sometimes called the nation\\xe2\\x80\\x99s \\xe2\\x80\\x9cpetrochemical corridor\\xe2\\x80\\x9d for its impressively dense concentration of oil refineries and chemical plants. Environmentalists, and some locals, have a different name for the place: Cancer Alley.  Approaching New Orleans, vast contraptions of steel rise on either side of the road. Chimneys spew smoke; trucks raise dust. There is evidence of immense activity, but few people visible. Small towns sit squeezed between the plants: Willow Glen, White Castle. These are so-called fenceline communities, which like their counterparts in West Virginia directly experience the pollution wealthier people have the privilege of avoiding.  In a disconcerting juxtaposition, old plantation manors stud the industrial landscape, faded vestiges of a past that refuses to fade away. They have been superseded by factories, which like the plantations, are corporate enterprises where brutal toil benefits the few.  Yet supporters of the plans for Appalachia, like Mark W. Menezes, an undersecretary at the Department of Energy, point to this region as a model. \\xe2\\x80\\x9cWhen you talk to people down there, they\\xe2\\x80\\x99re so appreciate of the high-paying jobs,\\xe2\\x80\\x9d he said of the Gulf region. \\xe2\\x80\\x9cThey revitalize whole communities.\\xe2\\x80\\x9d  Environmental activists call such revitalization efforts bribes, and dangerous ones at that. As an example, they took me to a warehouse in Martins Ferry, Ohio, that stored and processed radioactive fracking waste. Almost right next door was a new field for the local high school football team.  \\xe2\\x80\\x9cTheir quality of life has never been higher,\\xe2\\x80\\x9d Menezes said of Louisiana. The state ranks No. 42 in quality of life,\\xc2\\xa0at least according to one survey. That\\xe2\\x80\\x99s not exactly spectacular, but Pennsylvania and West Virginia are both even lower. Menezes would like to change that. \\xe2\\x80\\x9cIt just makes perfect sense to develop it there,\\xe2\\x80\\x9d he says of ASH.  True to its name, Cancer Alley has some of the worst health outcomes in the United States. Last year, a study of the Louisiana Tumor Registry found significantly elevated cancer rates\\xc2\\xa0along various parts of Cancer Alley. People who live there have suspected as much for years, but cancer clusters are notoriously difficult to prove (people move, as do toxins, which muddles the lines of causation). Each plant seems to bring its own potential ill: the carcinogen glyphosate from a Monsanto plant in St. Charles Parish, the carcinogen chloroprene from a Denka plant in St. John the Baptist Parish.  However dire the public health crisis is here, it is overshadowed by the one in Appalachia. Even as cancer rates across the rest of the nation are falling, they are rising in rural Appalachia, according to\\xc2\\xa0a 2016 research paper by University of Virginia epidemiologists. The reasons for this are many, and they are complex. Poverty is foremost among them. But industry also has its role.  Aaron Yao, one of the scientists responsible for the 2016 paper, said he did not blame industry for the elevated cancer risks, but he also refused to exculpate it. Asked if he would live in Appalachia, the cancer scholar answered frankly: \\xe2\\x80\\x9cI would say no.\\xe2\\x80\\x9d  Cancer Valley is what activists have already begun calling the Ohio River Valley, where, ironically enough,\\xc2\\xa0American winemaking got its start in the early 19th century. There are still a few wineries in the hills above the river, but they are far outnumbered by fracking pads. Even without the full Appalachian Storage Hub, oil and gas have taken over the landscape. Pipelines look like enormous pythons as they run up and down the hills that have been stripped of vegetation.  Jill Antares Hunkler, a local activist who has been fighting ASH, remembered when, several years ago, her sister saw a Halliburton truck rolling through Barnesville, Ohio. She promptly began to cry. \\xe2\\x80\\x9cYou know you\\xe2\\x80\\x99re in trouble when you see Halliburton trucks in your tiny little town,\\xe2\\x80\\x9d Hunkler explained.  Hunkler, who is partly Native American, grew up in southeastern Ohio. In a reflective essay she shared with me, she calls herself \\xe2\\x80\\x9ca fracking refugee. My home at the headwaters of the historically pristine Captina Creek watershed is now surrounded by oil and gas wells \\xe2\\x80\\x94 78 within a five-mile radius,\\xe2\\x80\\x9d Hunkler writes.  \\xe2\\x80\\x9cI never imagined my quiet, country, healthy way of life would disappear.\\xe2\\x80\\x9d  If the Gulf Coast already has a petrochemical empire, why build another in the Ohio River Valley? Supporters dance around this issue, but the logic can be teased out of a 2018 report by the Department of Energy,\\xc2\\xa0which argued for the necessity of building ASH. The report cites the need for \\xe2\\x80\\x9cgeographic diversity of petrochemical supply, which would be able to supply markets in case of supply interruptions in other regions.\\xe2\\x80\\x9d A little later, the same report references \\xe2\\x80\\x9cdisruptions caused by hurricanes.\\xe2\\x80\\x9d  In other words, the petrochemical industry is worried about climate change, which makes storms more frequent, more ferocious and less predictable. Rep. Johnson, the eastern Ohio congressman, was blunt about this. \\xe2\\x80\\x9cImagine what would happen if a hurricane \\xe2\\x80\\x94 like a\\xc2\\xa0Hurricane Michael, a Category 5 \\xe2\\x80\\x94 were to come through there and take our refining, importing-exporting, processing capability,\\xe2\\x80\\x9d Johnson said. \\xe2\\x80\\x9cIt can have devastating effects on America\\xe2\\x80\\x99s economy.\\xe2\\x80\\x9d  But there is some evidence that Appalachia could prove unsuitable for a project of this scope and size. It is relatively easy to lay pipeline across the flatlands of Texas and Oklahoma, much harder to do so across the hills and valleys of Appalachia, where the ground is less stable. That instability combined with the combustibility of what flows through those pipes can be a dangerous combination.  Last September, Chuck Belczyk woke up to an enormous explosion somewhere outside his hilltop house on Ivy Lane in Center Township, Pa., outside of Pittsburgh. An orange fireball blossomed in his backyard. Belczyk, who works in aviation, thought a jet had crashed. But this was another type of accident: the explosion of the Revolution pipeline behind the Belczyks\\xe2\\x80\\x99 house.  \\xe2\\x80\\x9cThe fire shot up 150 feet in the air, damaged power lines, and sent neighbors scrambling out of their homes,\\xe2\\x80\\x9d\\xc2\\xa0a report said at the time. Twenty-five homes had to be evacuated. Many months later, the hilltop remains scorched, the scar on the land visible from far away.  To keep the land under the pipelines from eroding, pipeline companies have been dusting the ground with pellets of EarthGuard, which is meant to stabilize soil. However,\\xc2\\xa0the pellets also contain acrylamide, a known human carcinogen.  It is not clear that storing natural gas liquids under the Ohio River is a good idea, either. The Ohio is\\xc2\\xa0already known as the nation\\xe2\\x80\\x99s dirtiest river, even as it provides drinking water to some 5 million people in the area, including to the residents of Cincinnati. The natural gas liquids would be stored in salt caverns along the river\\xe2\\x80\\x99s banks. The method, which is not new, is not quite as foolproof as supporters claim. Seven years ago, a salt cavern collapsed in Bayou Corne, La.,\\xc2\\xa0opening up a massive sinkhole that has effectively swallowed up the town. It was quickly discovered that\\xc2\\xa012 other salt caverns across Louisiana\\xc2\\xa0also had walls that were in danger of collapse.  Nobody wants cancer clusters and sinkholes; neither, however, do local communities want unemployment and rampant opioid addiction. But there are real questions about whether the Appalachian Storage Hub can fulfill the promises Trump and others have made to people in Ohio, West Virginia and Pennsylvania.  For one, a petrochemical industry in Appalachia only makes sense if the fracking industry remains as robust as it has been. It may, especially if it continues to receive support from a Republican Party eager to maintain a hold on the Upper Midwest. The irony of Trump\\xe2\\x80\\x99s \\xe2\\x80\\x9cenergy independence\\xe2\\x80\\x9d stance is that it makes the United States ever more dependent on fossil fuels.  Another irony is that, much as Trump derided \\xe2\\x80\\x9chedge fund guys\\xe2\\x80\\x9d during his presidential campaign for making money without adding value, the fracking industry has been propped up by financial speculators. Last year,\\xc2\\xa0an analysis for the Financial Times\\xc2\\xa0described fracking as \\xe2\\x80\\x9ca debt-fuelled pursuit of growth at any price,\\xe2\\x80\\x9d which sounded rather like a description of the U.S. housing market right before it collapsed in 2007 and \\xe2\\x80\\x9908.  And then there\\xe2\\x80\\x99s the plastics industry. Supporters of ASH and its associated project talk about petrochemicals, generally downplaying that the end product of their efforts will be more plastic, whose use is facing increasing opposition. According to Carroll Muffett of the Center for International Environmental Law, plastics will account for 56 gigatons of carbon emissions in the next 30 years. \\xe2\\x80\\x9cThe plastics crisis is a climate crisis hiding in plain sight,\\xe2\\x80\\x9d\\xc2\\xa0he recently told NPR.  That view is becoming consensus. One hundred twenty-seven countries\\xc2\\xa0have moved to regulate single-use plastic\\xc2\\xa0of the kind that would be churned out of Appalachia. Even Russia, where environmental regulation is infamously nonexistent,\\xc2\\xa0is considering banning plastic bags, while across the United States, plastic straws are becoming the new cigarettes a movement against plastics is building.  Johnson, the congressional representative from eastern Ohio, dismissed these concerns, estimating that support for ASH in his district runs as high as 90 percent, if not higher. He dismissed those who don\\xe2\\x80\\x99t support the project as agitators from somewhere else. \\xe2\\x80\\x9cIn many, many cases, when protesters show up, they\\xe2\\x80\\x99re not from our state, they\\xe2\\x80\\x99re not from our communities,\\xe2\\x80\\x9d he said.  Dustin White\\xe2\\x80\\x99s family has been in West Virginia for 11 generations. On his mother\\xe2\\x80\\x99s side, he is a descendant of John Cooke, who fought in the Revolutionary War and later became, with his wife, Nellie, the first European settler in what would come to be Wyoming County, in the southwestern part of West Virginia.  \\xe2\\x80\\x9cI grew up with a family of coal miners,\\xe2\\x80\\x9d White said. \\xe2\\x80\\x9cMost of the men in my direct family line have, at some point, worked in the industry.\\xe2\\x80\\x9d He estimates that that has been the case for the last five or six generations. And it was a tradition that ended with him.  White\\xe2\\x80\\x99s father gave his life to the Eastern Associated Coal mine. Coal broke his father, even as it sustained his family. \\xe2\\x80\\x9cIf it didn\\xe2\\x80\\x99t make you sick, it would cripple you,\\xe2\\x80\\x9d White says. His father died at 65 from bladder cancer,\\xc2\\xa0a common affliction for those who work in the coal industry. White had promised his father that he would graduate from college, which he did. But he did not want to leave West Virginia, returning home after finishing school. He became an activist only after a coal mining company tried to remove an ancestral cemetery on Cooke Mountain (the clash of funereal and corporate concerns\\xc2\\xa0is common in West Virginia).  During the fight to save the cemetery \\xe2\\x80\\x94 which was successful \\xe2\\x80\\x94 White and his mother took a helicopter trip over West Virginia\\xe2\\x80\\x99s coal country. The mountaintop mines looked like \\xe2\\x80\\x9cbig cancer clusters on the land,\\xe2\\x80\\x9d White recalls. Looking momentarily away from the scene, he saw that his mother, sitting next to him, was crying. \\xe2\\x80\\x9cI can no longer support this industry,\\xe2\\x80\\x9d he concluded. \\xe2\\x80\\x9cI\\xe2\\x80\\x99ve got to fight it.\\xe2\\x80\\x9d  In March, White and another Ohio Valley Environmental Coalition activist, Alex Cole, attending a meeting in New Martinsville, W.Va. On the agenda was an air quality permit for a chemical plant in nearby Natrium. Although the plant did not technically belong to the Appalachian Storage Hub, it was part of the broader petrochemical family the activists want to expel.  White had posted about the meeting on Facebook and hoped for a strong showing from activists. But when they showed up in the New Martinsville municipal chambers where the meeting was to be held, the room was virtually empty. A handful of public officials sat facing rows of unoccupied chairs. A projector was propped up on a board game.  Joe Kessler, a state air quality engineer, went through his presentation. The corporation had filed all the necessary paperwork. That paperwork had been vetted by the state. The whole thing was a done deal, and there was nothing he could do. Kessler spoke efficiently and without emotion. Perhaps everyone could still make it home in time for dinner.  There was time for public comment. \\xe2\\x80\\x9cPlease do not approve this permit,\\xe2\\x80\\x9d White said. Cole also spoke, concluding his remarks with a disgusted wave of the hand at the public officials. An older man, a local gadfly, then stood and began to rail against in what seemed like a hopeful development for the activists. But his argument was with a seemingly minor procedural matter of the hearing \\xe2\\x80\\x94 he thought the hearing had strayed from its published agenda \\xe2\\x80\\x94 not with the content itself. The public officials were used to this. They let the graying objector have his say, and the matter was concluded. The project would move forward.  \\xe2\\x80\\x9cI was really hoping we\\xe2\\x80\\x99d have more folks here,\\xe2\\x80\\x9d White said after the meeting adjourned. \\xe2\\x80\\x9cI\\xe2\\x80\\x99m very disappointed.\\xe2\\x80\\x9d At the same time, he did not fault people for not wanting to spend a spring evening listening about air quality permits. He understood why, when some people heard about the Appalachian Storage Hub, they wondered what the big deal was. Some people thought cracker plants made Saltines.  Later, at an outdoor bar, the two vented, as one does over beer. The beer was local, artisanal. The bar that purveyed those beers would not have been out of place in Brooklyn or any other place where young people with money congregate, but it seemed out of place here, in West Virginia, which is\\xc2\\xa0only one of two states\\xc2\\xa0that have seen a total population decline in the last decade. The other is Michigan. These states represent the 20th century economy, the economy that built the middle class but then steadily sputtered out. Trump won both.  West Virginia has increasingly marketed itself as a tourist destination. Driving there, you could see why. You could see how, in another world, West Virginia would have a Napa and Sonoma of its own, while Northern California would have coal mines and petrochemical refineries.  West Virginia was just recovering from coal and here was another industry, arriving from out of state, coming with promises, and leaving the mess for future generations to clean up. There was disgust in Cole\\xe2\\x80\\x99s voice as he spoke about the storage hub, and also resignation.  \\xe2\\x80\\x9cWhat a stupid place to put this thing,\\xe2\\x80\\x9d he said.  This article has been updated to more accurately reflect Rep. Johnson\\xe2\\x80\\x99s comments on energy diplomacy.  Download the Yahoo News app to customize your experience.', Target: 0\n",
            "Features: b'KHARTOUM, Sudan (AP) \\xe2\\x80\\x94 Sudan\\xe2\\x80\\x99s protesters are threatening a civil disobedience campaign if the ruling military refuses to hand over power to civilians.  The threat comes after a two-day strike meant to pressure the military showed no tangible effects.  The coalition representing the protesters and opposition groups \\xe2\\x80\\x94 known as Forces for the Declaration of Freedom and Change \\xe2\\x80\\x94 claims the strike was a success.  It also chastised the security forces for intimidating the strikers by firing warning shots. Gunfire killed a female street vendor late on Wednesday.  Saddiq Farouk, head of the Sudanese Professional Association that\\xe2\\x80\\x99s been behind the protests that drove longtime ruler Omar al-Bashir from power last month, said the military\\xe2\\x80\\x99s stand would lead to \\xe2\\x80\\x9cmore escalation.\\xe2\\x80\\x9d  Negotiations between the protesters and the military about the handover of power have stalled.', Target: 0\n",
            "Features: b'Claudio Ranieri has warned Fulham it is crucial they to sign an experienced defender and \\xe2\\x80\\x9ca leader\\xe2\\x80\\x9d during the January window as they targets a move for Gary Cahill.  Fulham want to sign Cahill from Chelsea and the Blues are willing to let the 32-year-old leave this month.  \\xe2\\x80\\x9cI need somebody who can help us,\\xe2\\x80\\x9d said Ranieri. \\xe2\\x80\\x9cWe have a very good team but without experience. We need somebody who has experience, is a leader, has good character, personality and then we can improve our team.\\xe2\\x80\\x9d  Fulham\\xe2\\x80\\x99s need for a new centre has intensified because Alfie Mawson is set for a spell out with a knee injury. Mawson is still being assessed by Fulham before they put a timescale on when he will be able to return.  Ranieri has warned Fulham they must sign reinforcements this month if they are to get out of trouble and avoid relegation in the Premier League.  \\xe2\\x80\\x9cWe have to bring somebody to survive,\\xe2\\x80\\x9d said the Italian, speaking ahead of Saturday\\xe2\\x80\\x99s crunch trip to Burnley. \\xe2\\x80\\x9cIt would be a very good boost for all of my players.  \"We are looking in every direction and we will see what happens. The transfer market is open and we are ready to take something that can help Fulham.\"  Ranieri also confirmed that Timothy Fosu-Mensah is set to return to Manchester United with Fulham set to cut short his loan deal at Craven Cottage.', Target: 0\n"
          ],
          "name": "stdout"
        }
      ]
    },
    {
      "cell_type": "code",
      "metadata": {
        "id": "s6fYR3fP4QTe"
      },
      "source": [
        "BUFFER_SIZE = 10000\n",
        "BATCH_SIZE = 64"
      ],
      "execution_count": null,
      "outputs": []
    },
    {
      "cell_type": "code",
      "metadata": {
        "id": "eDsGt1JfhVOD"
      },
      "source": [
        "train_dataset = train_dataset.shuffle(BUFFER_SIZE).batch(BATCH_SIZE).prefetch(tf.data.experimental.AUTOTUNE)\n",
        "test_dataset = test_dataset.batch(BATCH_SIZE).prefetch(tf.data.experimental.AUTOTUNE)"
      ],
      "execution_count": null,
      "outputs": []
    },
    {
      "cell_type": "code",
      "metadata": {
        "id": "DfNe4pP76FkY",
        "colab": {
          "base_uri": "https://localhost:8080/"
        },
        "outputId": "96b9dc13-b1d0-4397-de48-b228d4416e03"
      },
      "source": [
        "for example, label in train_dataset.take(1):\n",
        "  print('texts: ', example.numpy()[:3])\n",
        "  print()\n",
        "  print('labels: ', label.numpy()[:3])"
      ],
      "execution_count": null,
      "outputs": [
        {
          "output_type": "stream",
          "text": [
            "texts:  [b\"I witnessed the Republican Party become increasingly hostile to centrists. Now I'm seeing the same thing happening on the left.\"\n",
            " b'The United States has issued satellite images and cited intelligence to back its allegation Iran was behind attacks on major Saudi oil facilities.  Iran denies involvement in Saturday\\'s air attacks, which were claimed by Iran-aligned Houthi rebels in Yemen.  But unnamed US officials speaking to US and international media say the direction and extent of the attacks cast doubt on Houthi involvement.  The incident has cut global oil supplies by 5% and prices have soared.  Secretary of State Mike Pompeo blamed Iran at the weekend, without providing any evidence, prompting Tehran to accuse Washington of deceit.  Tweeting on Sunday, President Donald Trump stopped short of directly accusing Iran, but suggested possible military action once the perpetrator was known.  Unnamed US officials have been speaking to the New York Times, ABC and Reuters.  One official said there were 19 points of impact on the targets and the attacks had come from a west-north-west direction - not Houthi-controlled territory in Yemen, which lies to the south-west of the Saudi oil facilities.  The officials said that could suggest launch sites in the northern Gulf, Iran or Iraq.  A Saudi-led coalition fighting in Yemen has accused Iran of providing the weapons.  A close-up image of damaged tanks at the Abqaiq processing plant (included above) appeared to show impact points on the western side.  Other images seem to show damage at the Khurais oilfield, which is located further west.  Iraq denied at the weekend that the attacks were launched from its territory. Prime Minister Adel Abdul Mahdi said Mr Pompeo had assured him in a phone call on Monday that the US backed Iraq\\'s position.  Officials quoted by the New York Times said a mix of drones and cruise missiles might have been deployed, but that not all had hit their targets at Abqaiq and Khurais.  China and the European Union have, separately, urged restraint.  UN Yemen envoy Martin Griffiths told the Security Council on Monday it was \"not entirely clear\" who was behind the strike but he said it had increased the chances of a regional conflict.  In the UK, Foreign Secretary Dominic Raab also said it was not yet clear who was responsible, but called the act a \"wanton violation of international law\".  The oil price has seen the biggest one-day rise since the 1991 Gulf War, rising 20% but falling back later.  The international benchmark used by traders, Brent crude, jumped to $71.95 (\\xc2\\xa357.53) a barrel at one point.  Prices eased after President Trump authorised a possible release of US reserves.  US Energy Secretary Rick Perry told business channel CNBC that it was too early to tell if this would be necessary. He also blamed Iran for the attack.  There are concerns that higher prices could continue if tensions worsen further.  Earlier Mr Perry insisted the oil market \"is resilient and will respond positively\".  Iranian Foreign Minister Javad Zarif tweeted on Sunday to deride Mr Pompeo, saying that \"having failed at max pressure, Sec Pompeo\\'s turning to max deceit\".  He was referring to the Trump administration\\'s stated \"maximum pressure campaign\", which has targeted Iran with sanctions since Washington pulled out of an international agreement to limit the scope of Iran\\'s nuclear programme.  The attacks targeted Abqaiq, the site of the world\\'s largest oil processing plant, run by the Saudi state oil company, Aramco, and the Khurais oilfield.  Khurais is the closest of the targets to the Yemen border - still a considerable 770km (480 miles) away.  Saudi Arabia said drones had carried out the attacks, which began at 04:00 (01:00 GMT) and sent huge clouds of thick, black smoke into the air.  The Houthi movement said its forces had sent 10 drones towards the facilities and have since warned of further attacks.  There were no reports of injuries, but the extent of the damage to the facilities is still not entirely clear.  Why Saudi Arabia and Iran are bitter rivals  Saudi Arabia and Iran are locked in a fierce struggle for regional dominance.  The decades-old feud is exacerbated by religious differences. They each follow one of the two main branches of Islam - Iran is largely Shia Muslim, while Saudi Arabia sees itself as the leading Sunni Muslim power.  The two countries are not directly fighting but they are engaged in a variety of proxy wars (conflicts where they support rival sides and militias) around the region.  Saudi Arabia is fighting against the rebel Houthi movement in neighbouring Yemen, in part to stem perceived Iranian influence there.  Iran has denied accusations that it is supporting the Houthis militarily, though successive reports from a panel of UN experts have demonstrated significant assistance for the Houthis from Tehran in terms of both technology and weaponry.  The Houthis have repeatedly launched rockets, missiles and drones at populated areas in Saudi Arabia. The attacks have left at least four civilians dead.  The Yemen conflict escalated in March 2015, when the Houthis seized control of much of the west of the country and forced President Abdrabbuh Mansour Hadi to flee abroad.  Saudi Arabia and allies then began an air campaign aimed at restoring Mr Hadi\\'s government.  The UN says the conflict has claimed the lives of at least 7,290 civilians and left 80% of the population - 24 million people - in need of humanitarian assistance or protection, including 10 million who rely on food aid to survive.'\n",
            " b'The neo-Nazi terrorist who takes credit for murdering 50 people in Christchurch, New Zealand, on March 15 released a manifesto. One of the claims inside it is that he did very well investing in cryptocurrency\\xe2\\x80\\x94specifically, a collapsed Ponzi scheme called Bitconnect.  Like much of the shooter\\xe2\\x80\\x99s manifesto, the claim about cryptocurrency is almost certainly nonsense\\xe2\\x80\\x94thrown in to get the media to chase their tails as they try to make sense of a deliberately confusing stew of alt-right memes and neo-Nazi in-jokes.  The reason it works as an in-joke is exactly because cryptocurrencies have become a favorite resource for the far-right\\xe2\\x80\\x94if rarely a successful one. White nationalists were known to be getting into cryptocurrencies during the 2017 bitcoin bubble, because PayPal kept cutting them off. The further joke is that Bitconnect is best known not for having helped its investors succeed but for taking them for millions, if not billions, of dollars. And Bitconnect started in 2016\\xe2\\x80\\x94but the shooter claimed to have made the money before he went traveling in 2010 or so.  Bitcoin is a somewhat-decentralized payment system, with its own digital currency. You can speculate on the price of the currency\\xe2\\x80\\x94it peaked at just under $20,000 a bitcoin in December 2017, though the current price in March is wobbling around $4,000\\xe2\\x80\\x94but you can also send bitcoin payments to anyone, with no one being able to stop you from doing so.  The far-right became interested in bitcoin as its members were cut off from more conventional payment channels. After neo-Nazis gathered from across the United States for the violent and bloody Unite the Right rally in Charlottesville, Virginia, in August 2017, many alt-right figures were cut off by PayPal and credit card processors. They began touting bitcoin as a payment alternative\\xe2\\x80\\x94helped by the cryptocurrency bubble still riding on its upward slope. The white nationalist Richard Spencer, always keen to jump to the front of a crowd, proclaimed bitcoin \\xe2\\x80\\x9cthe currency of the alt-right\\xe2\\x80\\x9d\\xe2\\x80\\x94though he admitted he hadn\\xe2\\x80\\x99t bought in himself.  Yet there were ideological ties, as well as practical considerations, that may have helped push neo-Nazis toward bitcoin. Bitcoin advocates\\xe2\\x80\\x94who are very ideologically committed to cryptocurrency\\xe2\\x80\\x94were, for the most part, as horrified by last week\\xe2\\x80\\x99s Islamophobic and racist murder as any reasonable human and have nothing but contempt for neo-Nazis.  Bitcoin ideology is not a neo-Nazi ideology. However, bitcoin\\xe2\\x80\\x99s right-libertarian anarcho-capitalism is very much in range of far-right extremism, particularly in the degree to which both propagate \\xe2\\x80\\x9cinternational banker\\xe2\\x80\\x9d and Rothschild-style conspiracy theories, and there are social spaces where the two cross directly, such as the /biz/ cryptocurrency forum on 4chan.  David Golumbia is the author of the 2016 book The Politics of Bitcoin: Software as Right-Wing Extremism. He documents the history of the ideas that went into bitcoin\\xe2\\x80\\x94such as long-running anti-Semitic conspiracy theories about \\xe2\\x80\\x9cinternational,\\xe2\\x80\\x9d i.e., Jewish, bankers\\xe2\\x80\\x94and how these extremist ideas are propagated by the subculture, even as present-day enthusiasts would utterly repudiate the ideas\\xe2\\x80\\x99 origins.  \\xe2\\x80\\x9cI think only a small number of cryptocurrency users are out-and-out fascists or Nazis,\\xe2\\x80\\x9d Golumbia told Foreign Policy. \\xe2\\x80\\x9cBut I also suspect that the proportion of fascists in that world is higher than it is in the general population. That\\xe2\\x80\\x99s due to the widespread presence of conspiratorial ideas in cryptocurrency communities. Many in cryptocurrency actively promote ignorance about what should be clear and uncontroversial facts about the world.\\xe2\\x80\\x9d  Bitcoiners are, understandably, in some denial as to how cozy the two strains can get\\xe2\\x80\\x94nobody wants to think of their friends and associates as holding these vicious views. But the crossovers started early. Timothy C. May was an anarcho-capitalist and cryptographer who wrote the hugely influential \\xe2\\x80\\x9cCrypto Anarchist Manifesto\\xe2\\x80\\x9d in 1988, which sets out many of the demands and expectations that the bitcoin subculture started from 20 years later. May was lauded as a respected elder philosopher of bitcoin before his death in 2018.  At this point, May\\xe2\\x80\\x99s writings in the intervening decades came to greater public notice\\xe2\\x80\\x94such as the text in which he advocated \\xe2\\x80\\x9ca trip up the chimneys\\xe2\\x80\\x9d for 40 million Jewish, black, and Hispanic Americans. His bitcoin friends claimed May was just being a \\xe2\\x80\\x9ctroll\\xe2\\x80\\x9d\\xe2\\x80\\x94in which case, he had not broken comedic character in his \\xe2\\x80\\x9ctrolling\\xe2\\x80\\x9d in 30 years or more. The neo-Nazis themselves were delighted to embrace May with a laudatory obituary on the white nationalist site the Daily Stormer.  At the peak of the 2017 bitcoin bubble, many worried that neo-Nazis who had bought into bitcoin were now rich and well-resourced.  That wealth, however, wasn\\xe2\\x80\\x99t as invisible as the far-right would like. Bitcoin is pseudonymous, not anonymous, and carries a public ledger of all transactions\\xe2\\x80\\x94so there are multiple sites that track payments to known bitcoin addresses for far-right and so-called alt-lite figures. The \\xe2\\x80\\x9cNeonazi BTC Tracker\\xe2\\x80\\x9d on Twitter (@neonaziwallets), run by John Bambenek of the computer security service ThreatSTOP, documents the flow of cryptocurrency funds within the white nationalist subculture. Bambenek has also worked with the Southern Poverty Law Center on monitoring these groups.  \\xe2\\x80\\x9cBitcoin provides these neo-Nazi terror groups\\xe2\\x80\\x94and they are terror groups\\xe2\\x80\\x94the ability to raise and spend money in a way that\\xe2\\x80\\x99s hard to disrupt,\\xe2\\x80\\x9d Bambenek told Foreign Policy. \\xe2\\x80\\x9cBut it also provides an intelligence analyst like me unfettered ability to surveil them, because they surrender all their privacy rights by using it\\xe2\\x80\\x94because bitcoin\\xe2\\x80\\x99s ledger is public.\\xe2\\x80\\x9d  Cashing out your bitcoins can be tricky. There are only a few cryptocurrency exchanges that one can get U.S. dollars out of with any trust or reliability, and banks are reluctant to touch money from cryptos. \\xe2\\x80\\x9cBitcoin only means something if you can turn it into actual money or stuff,\\xe2\\x80\\x9d Bambenek said. \\xe2\\x80\\x9cThat can only happen in a few hundred places\\xe2\\x80\\x94and many of those places have been immensely helpful [to the anti-Nazi cause].\\xe2\\x80\\x9d  Coinbase, the most popular U.S. bitcoin exchange, has stated that it actively seeks and removes violent extremists from its platform. Coinbase also removes the platforms used by the extremists\\xe2\\x80\\x94it removed the far-right Twitter clone Gab after the Pittsburgh synagogue shooting suspect Robert Bowers allegedly planned his mass murder there, his last Gab post being: \\xe2\\x80\\x9cScrew your optics, I\\xe2\\x80\\x99m going in.\\xe2\\x80\\x9d  It helps Bambenek\\xe2\\x80\\x99s work that neo-Nazis lack the self-restraint not to publicly reveal themselves\\xe2\\x80\\x94for example, one recent transaction sent 0.001488 bitcoins (about $5.93 at the time) to the Daily Stormer. \\xe2\\x80\\x9c1488\\xe2\\x80\\x9d is a number that is used as a signal between neo-Nazis\\xe2\\x80\\x94\\xe2\\x80\\x9c14\\xe2\\x80\\x9d is for the white supremacist slogan known as \\xe2\\x80\\x9cthe fourteen words\\xe2\\x80\\x9d (\\xe2\\x80\\x9cWe must secure the existence of our people and a future for white children\\xe2\\x80\\x9d), and \\xe2\\x80\\x9c88\\xe2\\x80\\x9d is for \\xe2\\x80\\x9cHeil Hitler.\\xe2\\x80\\x9d  \\xe2\\x80\\x9cThese guys can\\xe2\\x80\\x99t help but identify themselves,\\xe2\\x80\\x9d Bambenek said. \\xe2\\x80\\x9cIt surprises me they are such an odd combination of arrogance and incompetence.\\xe2\\x80\\x9d  As of 2019, the online alt-right is less interested in bitcoin, said Daniel Harper, a researcher for the podcast I Don\\xe2\\x80\\x99t Speak German, which covers the online alt-right and white nationalist sphere. Aside from being ridiculously traceable, bitcoin just isn\\xe2\\x80\\x99t a good payment network.  \\xe2\\x80\\x9cBitcoin was always a means to an end\\xe2\\x80\\x94it was a way of evading some of the scrutiny of pushing cash around,\\xe2\\x80\\x9d Harper said.  The white nationalist podcast network, desperate for a funding channel after being cut off from the conventional financial system, strongly advocated bitcoin and cryptocurrencies in 2017. \\xe2\\x80\\x9cThere were a couple of guys who saw the Federal Reserve as inherently Jewish and inflating money. But they mainly just used it as a tool, more than an ideological commitment.\\xe2\\x80\\x9d  Bitcoin also failed for the neo-Nazis as a funding channel, because cryptocurrency is still too hard to use. \\xe2\\x80\\x9cNobody would go to the effort to get a bitcoin wallet to give them the 10 bucks a month that they were more than happy to give them.\\xe2\\x80\\x9d One neo-Nazi podcaster found a credit card processor that was fine with the content of his show but said he was untouchable for another reason: He was considered a money laundering risk because he dealt in cryptocurrency.  In 2019, white nationalist podcasts barely mention bitcoin. \\xe2\\x80\\x9cThe numbers aren\\xe2\\x80\\x99t going up, so they\\xe2\\x80\\x99re not telling people to invest in it,\\xe2\\x80\\x9d Harper said. \\xe2\\x80\\x9cThey all still have bitcoin wallets, so you can still donate to them by bitcoin\\xe2\\x80\\x94but it\\xe2\\x80\\x99s just not a big deal for them anymore.\\xe2\\x80\\x9d For the Christchurch terrorist, dreams of being a cryptocurrency millionaire were probably just another cold joke.']\n",
            "\n",
            "labels:  [0 0 0]\n"
          ],
          "name": "stdout"
        }
      ]
    },
    {
      "cell_type": "markdown",
      "metadata": {
        "id": "_PSKNqtaiq1Y"
      },
      "source": [
        "**Create the text encoder**"
      ]
    },
    {
      "cell_type": "code",
      "metadata": {
        "id": "Pi8fZwPXjA1P"
      },
      "source": [
        "# VOCAB_SIZE=1000\n",
        "encoder = tf.keras.layers.experimental.preprocessing.TextVectorization()\n",
        "encoder.adapt(train_dataset.map(lambda text, label: text))"
      ],
      "execution_count": null,
      "outputs": []
    },
    {
      "cell_type": "markdown",
      "metadata": {
        "id": "f9VCxRz3llqy"
      },
      "source": [
        "The .adapt method sets the layer's vocabulary. Here are the first 20 tokens. After the padding and unknown tokens they're sorted by frequency:"
      ]
    },
    {
      "cell_type": "code",
      "metadata": {
        "id": "OALVdLVxlW4e",
        "colab": {
          "base_uri": "https://localhost:8080/"
        },
        "outputId": "23909af9-167d-419b-b3bf-c8fe37ed6ad3"
      },
      "source": [
        "vocab = np.array(encoder.get_vocabulary())\n",
        "vocab[:20]"
      ],
      "execution_count": null,
      "outputs": [
        {
          "output_type": "execute_result",
          "data": {
            "text/plain": [
              "array(['', '[UNK]', 'the', 'to', 'of', 'and', 'a', 'in', 'that', 'for',\n",
              "       'is', 'on', 'with', 'was', 'it', 'as', 'he', 'said', 'at', 'be'],\n",
              "      dtype='<U2647')"
            ]
          },
          "metadata": {
            "tags": []
          },
          "execution_count": 56
        }
      ]
    },
    {
      "cell_type": "markdown",
      "metadata": {
        "id": "tHjLhmenl6w4"
      },
      "source": [
        "Once the vocabulary is set, the layer can encode text into indices. The tensors of indices are 0-padded to the longest sequence in the batch (unless you set a fixed output_sequence_length):"
      ]
    },
    {
      "cell_type": "code",
      "metadata": {
        "id": "wgz7O-WVl7a2",
        "colab": {
          "base_uri": "https://localhost:8080/"
        },
        "outputId": "83af45fa-aafd-4df7-ff06-8dfe512a6438"
      },
      "source": [
        "encoded_example = encoder(train_x.to_list()[1])[:3].numpy()\n",
        "encoded_example"
      ],
      "execution_count": null,
      "outputs": [
        {
          "output_type": "execute_result",
          "data": {
            "text/plain": [
              "array([   6,  203, 5567])"
            ]
          },
          "metadata": {
            "tags": []
          },
          "execution_count": 57
        }
      ]
    },
    {
      "cell_type": "code",
      "metadata": {
        "id": "r_1vHL7nl-Jy"
      },
      "source": [
        "model = tf.keras.Sequential([\n",
        "    encoder,\n",
        "    tf.keras.layers.Embedding(\n",
        "        input_dim=len(encoder.get_vocabulary()),\n",
        "        output_dim=64,\n",
        "        # Use masking to handle the variable sequence lengths\n",
        "        mask_zero=True),\n",
        "    tf.keras.layers.Bidirectional(tf.keras.layers.LSTM(64)),\n",
        "    tf.keras.layers.Dense(64, activation='relu'),\n",
        "    tf.keras.layers.Dense(1)\n",
        "])"
      ],
      "execution_count": null,
      "outputs": []
    },
    {
      "cell_type": "code",
      "metadata": {
        "id": "v68mAufw8_VB"
      },
      "source": [
        ""
      ],
      "execution_count": null,
      "outputs": []
    },
    {
      "cell_type": "code",
      "metadata": {
        "id": "kxPWgWzu6i0b",
        "colab": {
          "base_uri": "https://localhost:8080/"
        },
        "outputId": "6e3834cb-5d95-42c3-b72a-486816929c5a"
      },
      "source": [
        "print([layer.supports_masking for layer in model.layers])"
      ],
      "execution_count": null,
      "outputs": [
        {
          "output_type": "stream",
          "text": [
            "[False, True, True, True, True]\n"
          ],
          "name": "stdout"
        }
      ]
    },
    {
      "cell_type": "code",
      "metadata": {
        "id": "nAwHmPFM6rpS"
      },
      "source": [
        "model.compile(loss=tf.keras.losses.BinaryCrossentropy(from_logits=True),\n",
        "              optimizer=tf.keras.optimizers.Adam(1e-4),\n",
        "              metrics=['accuracy', tfa.metrics.F1Score(num_classes=2, average=\"micro\", threshold=0.5 )])"
      ],
      "execution_count": null,
      "outputs": []
    },
    {
      "cell_type": "code",
      "metadata": {
        "id": "qwTd3YL79GBi"
      },
      "source": [
        ""
      ],
      "execution_count": null,
      "outputs": []
    },
    {
      "cell_type": "code",
      "metadata": {
        "id": "zVrzxto9mfQ6",
        "colab": {
          "base_uri": "https://localhost:8080/"
        },
        "outputId": "fc6e567d-a6b5-41c9-946c-a6d65603599b"
      },
      "source": [
        "history = model.fit(train_dataset, epochs=10,\n",
        "                    validation_data=test_dataset, \n",
        "                    validation_steps=30)"
      ],
      "execution_count": null,
      "outputs": [
        {
          "output_type": "stream",
          "text": [
            "Epoch 1/10\n",
            "713/713 [==============================] - 327s 458ms/step - loss: 0.4277 - accuracy: 0.8005 - f1_score: 0.1773 - val_loss: 0.2961 - val_accuracy: 0.8672 - val_f1_score: 0.6154\n",
            "Epoch 2/10\n",
            "713/713 [==============================] - 325s 455ms/step - loss: 0.2178 - accuracy: 0.9061 - f1_score: 0.7555 - val_loss: 0.2437 - val_accuracy: 0.9057 - val_f1_score: 0.7735\n",
            "Epoch 3/10\n",
            "713/713 [==============================] - 326s 457ms/step - loss: 0.1152 - accuracy: 0.9563 - f1_score: 0.8965 - val_loss: 0.2548 - val_accuracy: 0.9109 - val_f1_score: 0.7952\n",
            "Epoch 4/10\n",
            "713/713 [==============================] - 319s 447ms/step - loss: 0.0528 - accuracy: 0.9827 - f1_score: 0.9600 - val_loss: 0.3199 - val_accuracy: 0.9026 - val_f1_score: 0.7612\n",
            "Epoch 5/10\n",
            "713/713 [==============================] - 314s 440ms/step - loss: 0.0239 - accuracy: 0.9935 - f1_score: 0.9851 - val_loss: 0.3459 - val_accuracy: 0.9010 - val_f1_score: 0.7826\n",
            "Epoch 6/10\n",
            "713/713 [==============================] - 320s 449ms/step - loss: 0.0127 - accuracy: 0.9966 - f1_score: 0.9923 - val_loss: 0.3976 - val_accuracy: 0.9078 - val_f1_score: 0.7785\n",
            "Epoch 7/10\n",
            "713/713 [==============================] - 321s 450ms/step - loss: 0.0067 - accuracy: 0.9985 - f1_score: 0.9965 - val_loss: 0.4726 - val_accuracy: 0.9089 - val_f1_score: 0.7853\n",
            "Epoch 8/10\n",
            "713/713 [==============================] - 323s 453ms/step - loss: 0.0064 - accuracy: 0.9982 - f1_score: 0.9960 - val_loss: 0.5449 - val_accuracy: 0.8995 - val_f1_score: 0.7457\n",
            "Epoch 9/10\n",
            "713/713 [==============================] - 324s 454ms/step - loss: 0.0050 - accuracy: 0.9988 - f1_score: 0.9972 - val_loss: 0.5443 - val_accuracy: 0.9047 - val_f1_score: 0.7793\n",
            "Epoch 10/10\n",
            "713/713 [==============================] - 325s 456ms/step - loss: 0.0038 - accuracy: 0.9991 - f1_score: 0.9979 - val_loss: 0.5150 - val_accuracy: 0.9073 - val_f1_score: 0.7835\n"
          ],
          "name": "stdout"
        }
      ]
    },
    {
      "cell_type": "code",
      "metadata": {
        "id": "eLhZQt3Dj3cm",
        "colab": {
          "base_uri": "https://localhost:8080/"
        },
        "outputId": "002cdc27-2ad5-4295-aeb8-d4f881f9f8fa"
      },
      "source": [
        "test_loss, test_acc, test_f1_score = model.evaluate(test_dataset)\n",
        "\n",
        "print('Test Loss: {}'.format(test_loss))\n",
        "print('Test Accuracy: {}'.format(test_acc))"
      ],
      "execution_count": null,
      "outputs": [
        {
          "output_type": "stream",
          "text": [
            "179/179 [==============================] - 24s 135ms/step - loss: 0.5080 - accuracy: 0.9057 - f1_score: 0.7756\n",
            "Test Loss: 0.5079890489578247\n",
            "Test Accuracy: 0.905680239200592\n"
          ],
          "name": "stdout"
        }
      ]
    },
    {
      "cell_type": "code",
      "metadata": {
        "id": "L9RfBeDJj37x",
        "colab": {
          "base_uri": "https://localhost:8080/",
          "height": 518
        },
        "outputId": "ed1c872d-b7c2-48a3-c806-ed7682ce3127"
      },
      "source": [
        "plt.figure(figsize=(16,8))\n",
        "plt.subplot(1,2,1)\n",
        "plot_graphs(history, 'accuracy')\n",
        "plt.ylim(None,1)\n",
        "plt.subplot(1,2,2)\n",
        "plot_graphs(history, 'loss')\n",
        "plt.ylim(0,None)"
      ],
      "execution_count": null,
      "outputs": [
        {
          "output_type": "execute_result",
          "data": {
            "text/plain": [
              "(0.0, 0.571923783281818)"
            ]
          },
          "metadata": {
            "tags": []
          },
          "execution_count": 63
        },
        {
          "output_type": "display_data",
          "data": {
            "image/png": "[encoded data removed]",
            "text/plain": [
              "<Figure size 1152x576 with 2 Axes>"
            ]
          },
          "metadata": {
            "tags": [],
            "needs_background": "light"
          }
        }
      ]
    },
    {
      "cell_type": "code",
      "metadata": {
        "id": "cP10fKeBkBjz",
        "colab": {
          "base_uri": "https://localhost:8080/"
        },
        "outputId": "dd748a17-eaf4-4b76-cede-cf7c3a72cfa4"
      },
      "source": [
        "#saving a model in HDF5 format\n",
        "#model is a tf.keras.Model object created using any of the above methods\n",
        "model.save(\"/content/drive/My Drive/Colab_Notebooks/rnn_lstm_v1.tf\", save_format='tf')"
      ],
      "execution_count": null,
      "outputs": [
        {
          "output_type": "stream",
          "text": [
            "WARNING:tensorflow:From /usr/local/lib/python3.6/dist-packages/tensorflow/python/training/tracking/tracking.py:111: Model.state_updates (from tensorflow.python.keras.engine.training) is deprecated and will be removed in a future version.\n",
            "Instructions for updating:\n",
            "This property should not be used in TensorFlow 2.0, as updates are applied automatically.\n",
            "WARNING:tensorflow:From /usr/local/lib/python3.6/dist-packages/tensorflow/python/training/tracking/tracking.py:111: Layer.updates (from tensorflow.python.keras.engine.base_layer) is deprecated and will be removed in a future version.\n",
            "Instructions for updating:\n",
            "This property should not be used in TensorFlow 2.0, as updates are applied automatically.\n",
            "INFO:tensorflow:Assets written to: /content/drive/My Drive/Colab_Notebooks/rnn_lstm_v1.tf/assets\n"
          ],
          "name": "stdout"
        }
      ]
    },
    {
      "cell_type": "code",
      "metadata": {
        "id": "zwIMhpYBooeq",
        "colab": {
          "base_uri": "https://localhost:8080/",
          "height": 35
        },
        "outputId": "5cade076-1315-4aad-c968-441f52399735"
      },
      "source": [
        "tf.__version__"
      ],
      "execution_count": null,
      "outputs": [
        {
          "output_type": "execute_result",
          "data": {
            "application/vnd.google.colaboratory.intrinsic+json": {
              "type": "string"
            },
            "text/plain": [
              "'2.3.0'"
            ]
          },
          "metadata": {
            "tags": []
          },
          "execution_count": 65
        }
      ]
    },
    {
      "cell_type": "code",
      "metadata": {
        "id": "WoutmX1lMuH3",
        "colab": {
          "base_uri": "https://localhost:8080/"
        },
        "outputId": "ccf6c9ab-5c26-43d5-c9bc-452e2c896322"
      },
      "source": [
        "history = model.fit(train_dataset, epochs=10,\n",
        "                    validation_data=test_dataset, \n",
        "                    validation_steps=30)"
      ],
      "execution_count": null,
      "outputs": [
        {
          "output_type": "stream",
          "text": [
            "Epoch 1/10\n",
            "713/713 [==============================] - 333s 467ms/step - loss: 0.0019 - accuracy: 0.9995 - f1_score: 0.9989 - val_loss: 0.5447 - val_accuracy: 0.9021 - val_f1_score: 0.7656\n",
            "Epoch 2/10\n",
            "713/713 [==============================] - 333s 467ms/step - loss: 0.0022 - accuracy: 0.9995 - f1_score: 0.9988 - val_loss: 0.5959 - val_accuracy: 0.9042 - val_f1_score: 0.7683\n",
            "Epoch 3/10\n",
            " 48/713 [=>............................] - ETA: 4:55 - loss: 0.0019 - accuracy: 0.9997 - f1_score: 0.9992"
          ],
          "name": "stdout"
        }
      ]
    },
    {
      "cell_type": "code",
      "metadata": {
        "id": "zXWma97sM0c-",
        "colab": {
          "base_uri": "https://localhost:8080/"
        },
        "outputId": "aa307a13-cb9c-489b-bb42-fb78ea1e4ae8"
      },
      "source": [
        "test_loss, test_acc, test_f1_score = model.evaluate(test_dataset)\n",
        "\n",
        "print('Test Loss: {}'.format(test_loss))\n",
        "print('Test Accuracy: {}'.format(test_acc))"
      ],
      "execution_count": null,
      "outputs": [
        {
          "output_type": "stream",
          "text": [
            "179/179 [==============================] - 24s 133ms/step - loss: 0.6065 - accuracy: 0.8985 - f1_score: 0.7738\n",
            "Test Loss: 0.6064867377281189\n",
            "Test Accuracy: 0.8984922766685486\n"
          ],
          "name": "stdout"
        }
      ]
    },
    {
      "cell_type": "code",
      "metadata": {
        "id": "OKQY5E7bM2rj",
        "colab": {
          "base_uri": "https://localhost:8080/",
          "height": 518
        },
        "outputId": "ce7a7e46-5a18-419a-f12a-44fb9b0d860f"
      },
      "source": [
        "plt.figure(figsize=(16,8))\n",
        "plt.subplot(1,2,1)\n",
        "plot_graphs(history, 'accuracy')\n",
        "plt.ylim(None,1)\n",
        "plt.subplot(1,2,2)\n",
        "plot_graphs(history, 'loss')\n",
        "plt.ylim(0,None)"
      ],
      "execution_count": null,
      "outputs": [
        {
          "output_type": "execute_result",
          "data": {
            "text/plain": [
              "(0.0, 0.6729472430131864)"
            ]
          },
          "metadata": {
            "tags": []
          },
          "execution_count": 68
        },
        {
          "output_type": "display_data",
          "data": {
            "image/png": "[encoded data removed]",
            "text/plain": [
              "<Figure size 1152x576 with 2 Axes>"
            ]
          },
          "metadata": {
            "tags": [],
            "needs_background": "light"
          }
        }
      ]
    },
    {
      "cell_type": "markdown",
      "metadata": {
        "id": "lxGt1Vy_qlVu"
      },
      "source": [
        "**Stacking more LSTM layers**"
      ]
    },
    {
      "cell_type": "code",
      "metadata": {
        "id": "r5AWIag8qRWj"
      },
      "source": [
        "model2 = tf.keras.Sequential([\n",
        "    encoder,\n",
        "    tf.keras.layers.Embedding(len(encoder.get_vocabulary()), 64, mask_zero=True),\n",
        "    tf.keras.layers.Bidirectional(tf.keras.layers.LSTM(64,  return_sequences=True)),\n",
        "    tf.keras.layers.Bidirectional(tf.keras.layers.LSTM(32)),\n",
        "    tf.keras.layers.Dense(64, activation='relu'),\n",
        "    tf.keras.layers.Dropout(0.5),\n",
        "    tf.keras.layers.Dense(1)\n",
        "])"
      ],
      "execution_count": null,
      "outputs": []
    },
    {
      "cell_type": "code",
      "metadata": {
        "id": "sBLwM7pMqtd_"
      },
      "source": [
        "model2.compile(loss=tf.keras.losses.BinaryCrossentropy(from_logits=True),\n",
        "              optimizer=tf.keras.optimizers.Adam(1e-4),\n",
        "              metrics=['accuracy', tfa.metrics.F1Score(num_classes=2, average=\"micro\", threshold=0.5 )])"
      ],
      "execution_count": null,
      "outputs": []
    },
    {
      "cell_type": "code",
      "metadata": {
        "id": "Iup3oqb4qyPn",
        "colab": {
          "base_uri": "https://localhost:8080/"
        },
        "outputId": "4080ad90-0e3c-443a-fe67-2a0698602213"
      },
      "source": [
        "history2 = model2.fit(train_dataset, epochs=10,\n",
        "                    validation_data=test_dataset,\n",
        "                    validation_steps=30)"
      ],
      "execution_count": null,
      "outputs": [
        {
          "output_type": "stream",
          "text": [
            "Epoch 1/10\n",
            "713/713 [==============================] - 454s 637ms/step - loss: 0.4381 - accuracy: 0.8078 - f1_score: 0.2425 - val_loss: 0.3060 - val_accuracy: 0.8833 - val_f1_score: 0.6981\n",
            "Epoch 2/10\n",
            "713/713 [==============================] - 461s 646ms/step - loss: 0.2501 - accuracy: 0.8989 - f1_score: 0.7313 - val_loss: 0.2597 - val_accuracy: 0.9021 - val_f1_score: 0.7584\n",
            "Epoch 3/10\n",
            "713/713 [==============================] - 453s 636ms/step - loss: 0.1459 - accuracy: 0.9450 - f1_score: 0.8657 - val_loss: 0.2601 - val_accuracy: 0.9010 - val_f1_score: 0.7683\n",
            "Epoch 4/10\n",
            "713/713 [==============================] - 463s 649ms/step - loss: 0.0784 - accuracy: 0.9736 - f1_score: 0.9380 - val_loss: 0.3234 - val_accuracy: 0.8984 - val_f1_score: 0.7787\n",
            "Epoch 5/10\n",
            "713/713 [==============================] - 463s 649ms/step - loss: 0.0403 - accuracy: 0.9878 - f1_score: 0.9719 - val_loss: 0.3558 - val_accuracy: 0.9026 - val_f1_score: 0.7739\n",
            "Epoch 6/10\n",
            "713/713 [==============================] - 464s 651ms/step - loss: 0.0223 - accuracy: 0.9940 - f1_score: 0.9862 - val_loss: 0.4889 - val_accuracy: 0.8979 - val_f1_score: 0.7803\n",
            "Epoch 7/10\n",
            "713/713 [==============================] - 471s 661ms/step - loss: 0.0126 - accuracy: 0.9971 - f1_score: 0.9933 - val_loss: 0.6161 - val_accuracy: 0.8953 - val_f1_score: 0.7744\n",
            "Epoch 8/10\n",
            "713/713 [==============================] - 470s 660ms/step - loss: 0.0115 - accuracy: 0.9969 - f1_score: 0.9928 - val_loss: 0.5605 - val_accuracy: 0.9026 - val_f1_score: 0.7744\n",
            "Epoch 9/10\n",
            "713/713 [==============================] - 470s 659ms/step - loss: 0.0080 - accuracy: 0.9979 - f1_score: 0.9952 - val_loss: 0.5814 - val_accuracy: 0.9010 - val_f1_score: 0.7493\n",
            "Epoch 10/10\n",
            "713/713 [==============================] - 464s 651ms/step - loss: 0.0058 - accuracy: 0.9987 - f1_score: 0.9971 - val_loss: 0.6330 - val_accuracy: 0.9026 - val_f1_score: 0.7792\n"
          ],
          "name": "stdout"
        }
      ]
    },
    {
      "cell_type": "code",
      "metadata": {
        "id": "1vf4DL7mrA18",
        "colab": {
          "base_uri": "https://localhost:8080/"
        },
        "outputId": "3a9fcdaf-6a66-4ba9-9556-f289f54bc5e6"
      },
      "source": [
        "test_loss, test_acc, test_f1_score = model2.evaluate(test_dataset)\n",
        "\n",
        "print('Test Loss: {}'.format(test_loss))\n",
        "print('Test Accuracy: {}'.format(test_acc))"
      ],
      "execution_count": null,
      "outputs": [
        {
          "output_type": "stream",
          "text": [
            "179/179 [==============================] - 44s 246ms/step - loss: 0.5861 - accuracy: 0.9109 - f1_score: 0.7925\n",
            "Test Loss: 0.5861338973045349\n",
            "Test Accuracy: 0.9109396934509277\n"
          ],
          "name": "stdout"
        }
      ]
    },
    {
      "cell_type": "code",
      "metadata": {
        "id": "yXNLXTV14cd0",
        "colab": {
          "base_uri": "https://localhost:8080/"
        },
        "outputId": "c001809d-4eb6-4c13-f5b8-fb87f5dc2982"
      },
      "source": [
        "plt.figure(figsize=(16,8))\n",
        "plt.subplot(1,2,1)\n",
        "plot_graphs(history2, 'accuracy')\n",
        "plt.ylim(None,1)\n",
        "plt.subplot(1,2,2)\n",
        "plot_graphs(history2, 'loss')\n",
        "plt.ylim(0,None)"
      ],
      "execution_count": null,
      "outputs": [
        {
          "output_type": "execute_result",
          "data": {
            "text/plain": [
              "(0.0, 0.6643943425267935)"
            ]
          },
          "metadata": {
            "tags": []
          },
          "execution_count": 73
        },
        {
          "output_type": "display_data",
          "data": {
            "image/png": "[encoded data removed]",
            "text/plain": [
              "<Figure size 1152x576 with 2 Axes>"
            ]
          },
          "metadata": {
            "tags": [],
            "needs_background": "light"
          }
        }
      ]
    },
    {
      "cell_type": "code",
      "metadata": {
        "id": "jkpsq_Ym4-70",
        "colab": {
          "base_uri": "https://localhost:8080/"
        },
        "outputId": "961a6a4e-0334-4b03-a814-5325ce79bed3"
      },
      "source": [
        "#saving a model in HDF5 format\n",
        "#model is a tf.keras.Model object created using any of the above methods\n",
        "model.save(\"/content/drive/My Drive/Colab_Notebooks/rnn_lstm2_v1.tf\", save_format='tf')"
      ],
      "execution_count": null,
      "outputs": [
        {
          "output_type": "stream",
          "text": [
            "INFO:tensorflow:Assets written to: /content/drive/My Drive/Colab_Notebooks/rnn_lstm2_v1.tf/assets\n"
          ],
          "name": "stdout"
        }
      ]
    },
    {
      "cell_type": "code",
      "metadata": {
        "id": "_F0tXzhe5J1F"
      },
      "source": [
        ""
      ],
      "execution_count": null,
      "outputs": []
    },
    {
      "cell_type": "markdown",
      "metadata": {
        "id": "5hwJEg3Kkth2"
      },
      "source": [
        "**GRU**"
      ]
    },
    {
      "cell_type": "code",
      "metadata": {
        "id": "8mSRjpBikxPa"
      },
      "source": [
        ""
      ],
      "execution_count": null,
      "outputs": []
    }
  ]
}