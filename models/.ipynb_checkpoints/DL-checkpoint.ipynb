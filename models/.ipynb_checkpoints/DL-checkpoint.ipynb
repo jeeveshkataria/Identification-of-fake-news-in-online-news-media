{
 "cells": [
  {
   "cell_type": "code",
   "execution_count": 1,
   "metadata": {},
   "outputs": [
    {
     "name": "stdout",
     "output_type": "stream",
     "text": [
      "2.3.1\n"
     ]
    }
   ],
   "source": [
    "\n",
    "import tensorflow as tf\n",
    "import pandas as pd\n",
    "print(tf.__version__)\n",
    "\n",
    "import csv\n",
    "import re\n",
    "import tensorflow as tf\n",
    "import numpy as np\n",
    "from tensorflow.keras.preprocessing.text import Tokenizer\n",
    "from tensorflow.keras.preprocessing.sequence import pad_sequences\n",
    "from nltk.corpus import stopwords\n",
    "STOPWORDS = set(stopwords.words('english'))\n",
    "# fix random seed for reproducibility\n",
    "np.random.seed(42)"
   ]
  },
  {
   "cell_type": "code",
   "execution_count": 2,
   "metadata": {},
   "outputs": [],
   "source": [
    "vocab_size = 5000\n",
    "embedding_dim = 64\n",
    "max_length = 200\n",
    "trunc_type = 'post'\n",
    "padding_type = 'post'\n",
    "oov_tok = '<OOV>'\n",
    "training_portion = .8"
   ]
  },
  {
   "cell_type": "code",
   "execution_count": 3,
   "metadata": {},
   "outputs": [],
   "source": [
    "totalData = pd.read_csv('C:\\\\Users\\\\vabommak\\\\Documents\\\\Projects\\\\FakeNewsDetection\\\\Identification-of-fake-news-in-online-news-media/datasets/nela10.csv')"
   ]
  },
  {
   "cell_type": "code",
   "execution_count": 4,
   "metadata": {},
   "outputs": [],
   "source": [
    "#Keep only content, Reliability as columns\n",
    "totalData = totalData.drop(['id','date','source','title','author','url','published','published_utc','collection_utc'],axis=1)"
   ]
  },
  {
   "cell_type": "code",
   "execution_count": 5,
   "metadata": {},
   "outputs": [
    {
     "name": "stdout",
     "output_type": "stream",
     "text": [
      "Wall time: 45.2 s\n"
     ]
    }
   ],
   "source": [
    "%%time\n",
    "totalData = totalData.reset_index(drop=True)\n",
    "REPLACE_BY_SPACE_RE = re.compile('[/(){}\\[\\]\\|@,;]')\n",
    "BAD_SYMBOLS_RE = re.compile('[^0-9a-z #+_]')\n",
    "# STOPWORDS = []\n",
    "\n",
    "def clean_text(text):\n",
    "    \"\"\"\n",
    "        text: a string\n",
    "        \n",
    "        return: modified initial string\n",
    "    \"\"\"\n",
    "    text = text.lower() # lowercase text\n",
    "    text = REPLACE_BY_SPACE_RE.sub(' ', text) # replace REPLACE_BY_SPACE_RE symbols by space in text. substitute the matched string in REPLACE_BY_SPACE_RE with space.\n",
    "    text = BAD_SYMBOLS_RE.sub('', text) # remove symbols which are in BAD_SYMBOLS_RE from text. substitute the matched string in BAD_SYMBOLS_RE with nothing. \n",
    "#    text = re.sub(r'\\W+', '', text)\n",
    "    text = ' '.join(word for word in text.split() if word not in STOPWORDS) # remove stopwors from text\n",
    "    return text\n",
    "totalData.content = totalData.content.apply(clean_text)\n",
    "totalData.content = totalData.content.str.replace('\\d+', '')"
   ]
  },
  {
   "cell_type": "code",
   "execution_count": 35,
   "metadata": {},
   "outputs": [],
   "source": [
    "totalData['Reliability'] = totalData['Reliability'].map({0:0, 2:1})"
   ]
  },
  {
   "cell_type": "code",
   "execution_count": 36,
   "metadata": {},
   "outputs": [
    {
     "name": "stdout",
     "output_type": "stream",
     "text": [
      "45725\n",
      "45725\n",
      "45725\n",
      "11432\n",
      "11432\n"
     ]
    }
   ],
   "source": [
    "train_size = int(totalData.shape[0] * training_portion)\n",
    "\n",
    "train_articles = totalData['content'][0: train_size]\n",
    "train_labels = totalData['Reliability'][0: train_size]\n",
    "\n",
    "validation_articles = totalData['content'][train_size:]\n",
    "validation_labels = totalData['Reliability'][train_size:]\n",
    "\n",
    "print(train_size)\n",
    "print(len(train_articles))\n",
    "print(len(train_labels))\n",
    "print(len(validation_articles))\n",
    "print(len(validation_labels))"
   ]
  },
  {
   "cell_type": "code",
   "execution_count": 38,
   "metadata": {},
   "outputs": [
    {
     "name": "stdout",
     "output_type": "stream",
     "text": [
      "Wall time: 14 s\n"
     ]
    }
   ],
   "source": [
    "%%time\n",
    "tokenizer = Tokenizer(num_words = vocab_size, oov_token=oov_tok)\n",
    "tokenizer.fit_on_texts(train_articles)\n",
    "word_index = tokenizer.word_index"
   ]
  },
  {
   "cell_type": "code",
   "execution_count": 39,
   "metadata": {},
   "outputs": [
    {
     "data": {
      "text/plain": [
       "{'<OOV>': 1,\n",
       " 'said': 2,\n",
       " 'would': 3,\n",
       " 'one': 4,\n",
       " 'trump': 5,\n",
       " 'us': 6,\n",
       " 'people': 7,\n",
       " 'also': 8,\n",
       " 'new': 9,\n",
       " 'president': 10}"
      ]
     },
     "execution_count": 39,
     "metadata": {},
     "output_type": "execute_result"
    }
   ],
   "source": [
    "dict(list(word_index.items())[0:10])"
   ]
  },
  {
   "cell_type": "code",
   "execution_count": 40,
   "metadata": {},
   "outputs": [
    {
     "name": "stdout",
     "output_type": "stream",
     "text": [
      "Wall time: 8.7 s\n"
     ]
    }
   ],
   "source": [
    "%%time\n",
    "train_sequences = tokenizer.texts_to_sequences(train_articles)"
   ]
  },
  {
   "cell_type": "code",
   "execution_count": 41,
   "metadata": {},
   "outputs": [
    {
     "name": "stdout",
     "output_type": "stream",
     "text": [
      "[1, 305, 349, 1072, 219, 1, 1117, 4395, 397, 4083, 4914, 1, 46, 91, 1, 3939, 1, 1013, 230, 1, 67, 1072, 1, 3207, 2536, 173, 1, 2273, 2928, 1, 355, 2027, 173, 1072, 691, 1, 3717, 1, 1345, 1279, 984, 1913, 1368, 3992, 156, 1, 205, 1, 266, 41, 1627, 120, 1072, 1117, 4395, 380, 1, 1904, 1, 1494, 19, 2730, 1, 3032, 880, 15, 1436, 363, 2278, 505, 1456, 324, 2711, 4432, 1, 1208, 640, 2604, 2189, 363, 1, 13, 1, 1057, 59, 1072, 388, 4549, 305, 349, 331, 3403, 1, 3184, 1, 1, 1, 1, 58, 1, 1494, 3317, 708, 2629, 142, 1, 1979, 2995, 1, 2485, 1, 59, 3207, 1, 1, 4, 14, 1, 6, 305, 349, 1, 2838, 1904, 1, 1, 204, 1072, 848, 1, 1, 1, 1225, 214, 1, 315, 1072, 1392, 1, 1979, 1, 1, 305, 349, 1072, 460, 1, 4727, 8, 1, 2233, 2485, 2119, 2264, 994, 186, 333, 3207, 2536, 173, 3508, 1, 1, 1, 50, 1, 1, 2434, 90, 2912]\n"
     ]
    }
   ],
   "source": [
    "print(train_sequences[10])"
   ]
  },
  {
   "cell_type": "code",
   "execution_count": 42,
   "metadata": {},
   "outputs": [],
   "source": [
    "train_padded = pad_sequences(train_sequences, maxlen=max_length, padding=padding_type, truncating=trunc_type)"
   ]
  },
  {
   "cell_type": "code",
   "execution_count": 43,
   "metadata": {},
   "outputs": [
    {
     "name": "stdout",
     "output_type": "stream",
     "text": [
      "432\n",
      "200\n",
      "580\n",
      "200\n",
      "170\n",
      "200\n"
     ]
    }
   ],
   "source": [
    "print(len(train_sequences[0]))\n",
    "print(len(train_padded[0]))\n",
    "\n",
    "print(len(train_sequences[1]))\n",
    "print(len(train_padded[1]))\n",
    "\n",
    "print(len(train_sequences[10]))\n",
    "print(len(train_padded[10]))"
   ]
  },
  {
   "cell_type": "code",
   "execution_count": 44,
   "metadata": {},
   "outputs": [
    {
     "name": "stdout",
     "output_type": "stream",
     "text": [
      "[1, 305, 349, 1072, 219, 1, 1117, 4395, 397, 4083, 4914, 1, 46, 91, 1, 3939, 1, 1013, 230, 1, 67, 1072, 1, 3207, 2536, 173, 1, 2273, 2928, 1, 355, 2027, 173, 1072, 691, 1, 3717, 1, 1345, 1279, 984, 1913, 1368, 3992, 156, 1, 205, 1, 266, 41, 1627, 120, 1072, 1117, 4395, 380, 1, 1904, 1, 1494, 19, 2730, 1, 3032, 880, 15, 1436, 363, 2278, 505, 1456, 324, 2711, 4432, 1, 1208, 640, 2604, 2189, 363, 1, 13, 1, 1057, 59, 1072, 388, 4549, 305, 349, 331, 3403, 1, 3184, 1, 1, 1, 1, 58, 1, 1494, 3317, 708, 2629, 142, 1, 1979, 2995, 1, 2485, 1, 59, 3207, 1, 1, 4, 14, 1, 6, 305, 349, 1, 2838, 1904, 1, 1, 204, 1072, 848, 1, 1, 1, 1225, 214, 1, 315, 1072, 1392, 1, 1979, 1, 1, 305, 349, 1072, 460, 1, 4727, 8, 1, 2233, 2485, 2119, 2264, 994, 186, 333, 3207, 2536, 173, 3508, 1, 1, 1, 50, 1, 1, 2434, 90, 2912]\n"
     ]
    }
   ],
   "source": [
    "print(train_sequences[10])"
   ]
  },
  {
   "cell_type": "code",
   "execution_count": 45,
   "metadata": {},
   "outputs": [
    {
     "name": "stdout",
     "output_type": "stream",
     "text": [
      "[   1  305  349 1072  219    1 1117 4395  397 4083 4914    1   46   91\n",
      "    1 3939    1 1013  230    1   67 1072    1 3207 2536  173    1 2273\n",
      " 2928    1  355 2027  173 1072  691    1 3717    1 1345 1279  984 1913\n",
      " 1368 3992  156    1  205    1  266   41 1627  120 1072 1117 4395  380\n",
      "    1 1904    1 1494   19 2730    1 3032  880   15 1436  363 2278  505\n",
      " 1456  324 2711 4432    1 1208  640 2604 2189  363    1   13    1 1057\n",
      "   59 1072  388 4549  305  349  331 3403    1 3184    1    1    1    1\n",
      "   58    1 1494 3317  708 2629  142    1 1979 2995    1 2485    1   59\n",
      " 3207    1    1    4   14    1    6  305  349    1 2838 1904    1    1\n",
      "  204 1072  848    1    1    1 1225  214    1  315 1072 1392    1 1979\n",
      "    1    1  305  349 1072  460    1 4727    8    1 2233 2485 2119 2264\n",
      "  994  186  333 3207 2536  173 3508    1    1    1   50    1    1 2434\n",
      "   90 2912    0    0    0    0    0    0    0    0    0    0    0    0\n",
      "    0    0    0    0    0    0    0    0    0    0    0    0    0    0\n",
      "    0    0    0    0]\n"
     ]
    }
   ],
   "source": [
    "print(train_padded[10])"
   ]
  },
  {
   "cell_type": "code",
   "execution_count": 46,
   "metadata": {},
   "outputs": [
    {
     "name": "stdout",
     "output_type": "stream",
     "text": [
      "11432\n",
      "(11432, 200)\n"
     ]
    }
   ],
   "source": [
    "validation_sequences = tokenizer.texts_to_sequences(validation_articles)\n",
    "validation_padded = pad_sequences(validation_sequences, maxlen=max_length, padding=padding_type, truncating=trunc_type)\n",
    "\n",
    "print(len(validation_sequences))\n",
    "print(validation_padded.shape)"
   ]
  },
  {
   "cell_type": "code",
   "execution_count": 47,
   "metadata": {},
   "outputs": [
    {
     "name": "stdout",
     "output_type": "stream",
     "text": [
      "<OOV> air force base north <OOV> fully operational despite arctic blast <OOV> much american <OOV> northeast <OOV> hour south <OOV> border base <OOV> degrees zero wednesday <OOV> degree wind <OOV> series tweets wednesday base showed <OOV> normally <OOV> cold weather caused commercial flight delays school <OOV> several <OOV> reported work normal times base fully operational staff <OOV> b <OOV> smith told abc <OOV> operate conditions like prepared plans equipment allow mission continue usual engine <OOV> aircraft example detailed route plans <OOV> time <OOV> moving around base name addedthe air force issues guidance <OOV> properly <OOV> <OOV> <OOV> <OOV> part <OOV> smith stressed safety personnel top <OOV> winter overnight <OOV> regularly <OOV> around degrees <OOV> <OOV> one two <OOV> us air force <OOV> hosts b <OOV> <OOV> tuesday base tweeted <OOV> <OOV> <OOV> writing call <OOV> theyre base faces <OOV> winter <OOV> <OOV> air force base near <OOV> alaska also <OOV> operating regularly negative temperatures average high january degrees zero wednesday temperature <OOV> <OOV> <OOV> news <OOV> <OOV> contributed report pentagon ? ? ? ? ? ? ? ? ? ? ? ? ? ? ? ? ? ? ? ? ? ? ? ? ? ? ? ? ? ?\n",
      "---\n",
      "minot air force base north dakota fully operational despite arctic blast gripped much american midwest northeast weeklocated hour south uscanada border base chilly  degrees zero wednesday minus  degree wind chills series tweets wednesday base showed functioning normally brutally cold weather caused commercial flight delays school cancellations several deathsairmen reported work normal times base fully operational staff sgt b eli smith told abc newsto operate conditions like prepared plans equipment allow mission continue usual engine heaters aircraft example detailed route plans minimize time outdoors moving around base name addedthe air force issues guidance airmen properly incorporate jackets fleeces parkas part uniform smith stressed safety personnel top priorityaverage winter overnight lows regularly hover around  degrees fahrenheit minot one two continental us air force bases hosts b stratofortress bomberson tuesday base tweeted impending polar vortex writing call tuesdayand theyre base faces frigid winter temperaturesairmen eielson air force base near fairbanks alaska also accustomed operating regularly negative temperatures average high january  degrees zero wednesday temperature eielson balmy  degreesabc news luis martinez contributed report pentagon\n"
     ]
    }
   ],
   "source": [
    "reverse_word_index = dict([(value, key) for (key, value) in word_index.items()])\n",
    "\n",
    "def decode_article(text):\n",
    "    return ' '.join([reverse_word_index.get(i, '?') for i in text])\n",
    "print(decode_article(train_padded[10]))\n",
    "print('---')\n",
    "print(train_articles[10])"
   ]
  },
  {
   "cell_type": "code",
   "execution_count": 48,
   "metadata": {},
   "outputs": [
    {
     "name": "stdout",
     "output_type": "stream",
     "text": [
      "Model: \"sequential_2\"\n",
      "_________________________________________________________________\n",
      "Layer (type)                 Output Shape              Param #   \n",
      "=================================================================\n",
      "embedding_2 (Embedding)      (None, None, 64)          320000    \n",
      "_________________________________________________________________\n",
      "bidirectional_2 (Bidirection (None, 128)               66048     \n",
      "_________________________________________________________________\n",
      "dense_4 (Dense)              (None, 64)                8256      \n",
      "_________________________________________________________________\n",
      "dense_5 (Dense)              (None, 2)                 130       \n",
      "=================================================================\n",
      "Total params: 394,434\n",
      "Trainable params: 394,434\n",
      "Non-trainable params: 0\n",
      "_________________________________________________________________\n"
     ]
    }
   ],
   "source": [
    "model = tf.keras.Sequential([\n",
    "    # Add an Embedding layer expecting input vocab of size 5000, and output embedding dimension of size 64 we set at the top\n",
    "    tf.keras.layers.Embedding(vocab_size, embedding_dim),\n",
    "    tf.keras.layers.Bidirectional(tf.keras.layers.LSTM(embedding_dim)),\n",
    "#    tf.keras.layers.Bidirectional(tf.keras.layers.LSTM(32)),\n",
    "    # use ReLU in place of tanh function since they are very good alternatives of each other.\n",
    "    tf.keras.layers.Dense(embedding_dim, activation='relu'),\n",
    "    # Add a Dense layer with 2 units and softmax activation.\n",
    "    # When we have multiple outputs, softmax convert outputs layers into a probability distribution.\n",
    "    tf.keras.layers.Dense(2, activation='softmax')\n",
    "])\n",
    "model.summary()"
   ]
  },
  {
   "cell_type": "code",
   "execution_count": 51,
   "metadata": {},
   "outputs": [],
   "source": [
    "model.compile(loss='binary_crossentropy', optimizer='adam', metrics=['accuracy'])"
   ]
  },
  {
   "cell_type": "code",
   "execution_count": 52,
   "metadata": {},
   "outputs": [
    {
     "name": "stdout",
     "output_type": "stream",
     "text": [
      "Epoch 1/10\n",
      "1429/1429 - 156s - loss: 0.6965 - accuracy: 0.5022 - val_loss: 0.6931 - val_accuracy: 0.4184\n",
      "Epoch 2/10\n",
      "1429/1429 - 182s - loss: 0.6932 - accuracy: 0.4972 - val_loss: 0.6931 - val_accuracy: 0.3230\n",
      "Epoch 3/10\n",
      "1429/1429 - 170s - loss: 0.6932 - accuracy: 0.4968 - val_loss: 0.6931 - val_accuracy: 0.6165\n",
      "Epoch 4/10\n",
      "1429/1429 - 179s - loss: 0.6932 - accuracy: 0.4963 - val_loss: 0.6931 - val_accuracy: 0.6728\n",
      "Epoch 5/10\n",
      "1429/1429 - 171s - loss: 0.6932 - accuracy: 0.4992 - val_loss: 0.6931 - val_accuracy: 0.6434\n",
      "Epoch 6/10\n",
      "1429/1429 - 162s - loss: 0.6932 - accuracy: 0.4970 - val_loss: 0.6931 - val_accuracy: 0.2426\n",
      "Epoch 7/10\n",
      "1429/1429 - 160s - loss: 0.6932 - accuracy: 0.4947 - val_loss: 0.6931 - val_accuracy: 0.6747\n",
      "Epoch 8/10\n",
      "1429/1429 - 159s - loss: 0.6932 - accuracy: 0.5002 - val_loss: 0.6931 - val_accuracy: 0.7964\n",
      "Epoch 9/10\n",
      "1429/1429 - 204s - loss: 0.6932 - accuracy: 0.5068 - val_loss: 0.6931 - val_accuracy: 0.9691\n",
      "Epoch 10/10\n",
      "1429/1429 - 189s - loss: 0.6932 - accuracy: 0.4990 - val_loss: 0.6931 - val_accuracy: 0.0021\n"
     ]
    }
   ],
   "source": [
    "num_epochs = 10\n",
    "history = model.fit(train_padded, train_labels, epochs=num_epochs, validation_data=(validation_padded, validation_labels), verbose=2)"
   ]
  },
  {
   "cell_type": "code",
   "execution_count": 53,
   "metadata": {},
   "outputs": [],
   "source": [
    "import matplotlib.pyplot as plt"
   ]
  },
  {
   "cell_type": "code",
   "execution_count": 54,
   "metadata": {},
   "outputs": [
    {
     "data": {
      "image/png": "[encoded data removed]",
      "text/plain": [
       "<Figure size 432x288 with 1 Axes>"
      ]
     },
     "metadata": {
      "needs_background": "light"
     },
     "output_type": "display_data"
    },
    {
     "data": {
      "image/png": "[encoded data removed]",
      "text/plain": [
       "<Figure size 432x288 with 1 Axes>"
      ]
     },
     "metadata": {
      "needs_background": "light"
     },
     "output_type": "display_data"
    }
   ],
   "source": [
    "def plot_graphs(history, string):\n",
    "  plt.plot(history.history[string])\n",
    "  plt.plot(history.history['val_'+string])\n",
    "  plt.xlabel(\"Epochs\")\n",
    "  plt.ylabel(string)\n",
    "  plt.legend([string, 'val_'+string])\n",
    "  plt.show()\n",
    "  \n",
    "plot_graphs(history, \"accuracy\")\n",
    "plot_graphs(history, \"loss\")"
   ]
  },
  {
   "cell_type": "code",
   "execution_count": null,
   "metadata": {},
   "outputs": [],
   "source": []
  }
 ],
 "metadata": {
  "kernelspec": {
   "display_name": "Python 3",
   "language": "python",
   "name": "python3"
  },
  "language_info": {
   "codemirror_mode": {
    "name": "ipython",
    "version": 3
   },
   "file_extension": ".py",
   "mimetype": "text/x-python",
   "name": "python",
   "nbconvert_exporter": "python",
   "pygments_lexer": "ipython3",
   "version": "3.8.5"
  }
 },
 "nbformat": 4,
 "nbformat_minor": 4
}
