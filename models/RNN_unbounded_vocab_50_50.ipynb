{
  "nbformat": 4,
  "nbformat_minor": 0,
  "metadata": {
    "colab": {
      "name": "RNN.ipynb",
      "provenance": [],
      "collapsed_sections": [],
      "include_colab_link": true
    },
    "kernelspec": {
      "name": "python3",
      "display_name": "Python 3"
    },
    "accelerator": "GPU"
  },
  "cells": [
    {
      "cell_type": "markdown",
      "metadata": {
        "id": "view-in-github",
        "colab_type": "text"
      },
      "source": [
        "<a href=\"https://colab.research.google.com/github/pramud/100DaysOfKotlinAndVertx/blob/Day%231/RNN_unbounded_vocab_50_50.ipynb\" target=\"_parent\"><img src=\"https://colab.research.google.com/assets/colab-badge.svg\" alt=\"Open In Colab\"/></a>"
      ]
    },
    {
      "cell_type": "code",
      "metadata": {
        "id": "1RleMPLyoDGY"
      },
      "source": [
        "# !ln -sf /opt/bin/nvidia-smi /usr/bin/nvidia-smi\n",
        "# !pip install gputil\n",
        "# !pip install psutil\n",
        "# !pip install humanize\n",
        "# !pip install tensorflow-addons\n"
      ],
      "execution_count": 1,
      "outputs": []
    },
    {
      "cell_type": "code",
      "metadata": {
        "id": "H0QrXUq1VRxF",
        "colab": {
          "base_uri": "https://localhost:8080/"
        },
        "outputId": "28bd4323-0280-4804-fd1f-9e80b6503cd4"
      },
      "source": [
        "import numpy as np\n",
        "import tensorflow as tf\n",
        "import pandas as pd\n",
        "from sklearn.model_selection import train_test_split\n",
        "import tensorflow_addons as tfa\n",
        "\n",
        "# import psutil\n",
        "# import humanize\n",
        "# import os, time\n",
        "# import GPUtil as GPU\n",
        "\n",
        "print(tf.__version__)"
      ],
      "execution_count": 2,
      "outputs": [
        {
          "output_type": "stream",
          "text": [
            "2.3.0\n"
          ],
          "name": "stdout"
        }
      ]
    },
    {
      "cell_type": "code",
      "metadata": {
        "id": "TSUWBWD4wU5x"
      },
      "source": [
        "# GPUs = GPU.getGPUs()\n",
        "# # only one GPU on Colab and isn’t guaranteed\n",
        "# gpu = GPUs[0]\n",
        "# def worker():\n",
        "#   while True:\n",
        "#     process = psutil.Process(os.getpid())\n",
        "#     print(\"Gen RAM Free: \" + humanize.naturalsize( psutil.virtual_memory().available ), \" I Proc size: \" + humanize.naturalsize( process.memory_info().rss))\n",
        "#     print(\"GPU RAM Free: {0:.0f}MB | Used: {1:.0f}MB | Util {2:3.0f}% | Total {3:.0f}MB\".format(gpu.memoryFree, gpu.memoryUsed, gpu.memoryUtil*100, gpu.memoryTotal))\n",
        "#     time.sleep(6)\n",
        "\n",
        "# import threading\n",
        "# t = threading.Thread(target=worker, name='Monitor')\n",
        "# t.start()"
      ],
      "execution_count": 3,
      "outputs": []
    },
    {
      "cell_type": "code",
      "metadata": {
        "id": "Z8c5aFb38yHs"
      },
      "source": [
        "# import os\n",
        "# os.environ[\"TF_FORCE_GPU_ALLOW_GROWTH\"]=\"true\""
      ],
      "execution_count": 4,
      "outputs": []
    },
    {
      "cell_type": "code",
      "metadata": {
        "id": "T7hP3VByVZPw"
      },
      "source": [
        "import matplotlib.pyplot as plt\n",
        "def plot_graphs(history, metric):\n",
        "  plt.plot(history.history[metric])\n",
        "  plt.plot(history.history['val_'+metric], '')\n",
        "  plt.xlabel(\"Epochs\")\n",
        "  plt.ylabel(metric)\n",
        "  plt.legend([metric, 'val_'+metric])"
      ],
      "execution_count": 5,
      "outputs": []
    },
    {
      "cell_type": "code",
      "metadata": {
        "id": "adRStEm-cYgk"
      },
      "source": [
        "data_df = pd.read_csv(\"/content/drive/My Drive/Colab_Notebooks/new.csv\")"
      ],
      "execution_count": 8,
      "outputs": []
    },
    {
      "cell_type": "code",
      "metadata": {
        "colab": {
          "base_uri": "https://localhost:8080/"
        },
        "id": "nSzGUjdKk7R0",
        "outputId": "fa6e52c6-3ea0-4f3d-926b-a0e20e18ea92"
      },
      "source": [
        "from google.colab import drive\n",
        "drive.mount('/content/drive')"
      ],
      "execution_count": 7,
      "outputs": [
        {
          "output_type": "stream",
          "text": [
            "Mounted at /content/drive\n"
          ],
          "name": "stdout"
        }
      ]
    },
    {
      "cell_type": "code",
      "metadata": {
        "id": "BzB1APLej-XC"
      },
      "source": [
        ""
      ],
      "execution_count": null,
      "outputs": []
    },
    {
      "cell_type": "code",
      "metadata": {
        "id": "IbdnpQga3gfY"
      },
      "source": [
        ""
      ],
      "execution_count": null,
      "outputs": []
    },
    {
      "cell_type": "code",
      "metadata": {
        "id": "XkaTA1ZGz5Xn",
        "colab": {
          "base_uri": "https://localhost:8080/"
        },
        "outputId": "37796664-6323-464c-adb0-2a45acd38e81"
      },
      "source": [
        "data_df.Reliability.value_counts()"
      ],
      "execution_count": 9,
      "outputs": [
        {
          "output_type": "execute_result",
          "data": {
            "text/plain": [
              "2    50000\n",
              "0    50000\n",
              "Name: Reliability, dtype: int64"
            ]
          },
          "metadata": {
            "tags": []
          },
          "execution_count": 9
        }
      ]
    },
    {
      "cell_type": "code",
      "metadata": {
        "id": "WnTkuQRL0Jqy"
      },
      "source": [
        "data_df.Reliability = data_df.Reliability.map({0:0, 2:1})"
      ],
      "execution_count": 10,
      "outputs": []
    },
    {
      "cell_type": "code",
      "metadata": {
        "id": "r2fnabmcalTb",
        "colab": {
          "base_uri": "https://localhost:8080/"
        },
        "outputId": "bc143841-d6d9-4d6f-8c16-881126518e29"
      },
      "source": [
        "data_df.shape"
      ],
      "execution_count": 11,
      "outputs": [
        {
          "output_type": "execute_result",
          "data": {
            "text/plain": [
              "(100000, 12)"
            ]
          },
          "metadata": {
            "tags": []
          },
          "execution_count": 11
        }
      ]
    },
    {
      "cell_type": "code",
      "metadata": {
        "id": "q5wl0-CBaoGf",
        "colab": {
          "base_uri": "https://localhost:8080/"
        },
        "outputId": "22e88e68-564e-4630-8503-0f95ce27c9d7"
      },
      "source": [
        "data_df.content.drop_duplicates().shape"
      ],
      "execution_count": 12,
      "outputs": [
        {
          "output_type": "execute_result",
          "data": {
            "text/plain": [
              "(96517,)"
            ]
          },
          "metadata": {
            "tags": []
          },
          "execution_count": 12
        }
      ]
    },
    {
      "cell_type": "code",
      "metadata": {
        "id": "tbkpCudlauKw"
      },
      "source": [
        "data_df['content'] = data_df['content'].str.replace('\\n', ' ').str.strip()"
      ],
      "execution_count": 13,
      "outputs": []
    },
    {
      "cell_type": "code",
      "metadata": {
        "id": "_G9xePoyn4Sb",
        "colab": {
          "base_uri": "https://localhost:8080/",
          "height": 416
        },
        "outputId": "c00b4962-244e-455b-a746-3a12a25c6439"
      },
      "source": [
        "data_df[(data_df.content.str.len()> 0) & (data_df.content.str.len()< 40)][['content','Reliability']]"
      ],
      "execution_count": 14,
      "outputs": [
        {
          "output_type": "execute_result",
          "data": {
            "text/html": [
              "<div>\n",
              "<style scoped>\n",
              "    .dataframe tbody tr th:only-of-type {\n",
              "        vertical-align: middle;\n",
              "    }\n",
              "\n",
              "    .dataframe tbody tr th {\n",
              "        vertical-align: top;\n",
              "    }\n",
              "\n",
              "    .dataframe thead th {\n",
              "        text-align: right;\n",
              "    }\n",
              "</style>\n",
              "<table border=\"1\" class=\"dataframe\">\n",
              "  <thead>\n",
              "    <tr style=\"text-align: right;\">\n",
              "      <th></th>\n",
              "      <th>content</th>\n",
              "      <th>Reliability</th>\n",
              "    </tr>\n",
              "  </thead>\n",
              "  <tbody>\n",
              "    <tr>\n",
              "      <th>155</th>\n",
              "      <td>January 30, 2019 | 8:34 AM EST</td>\n",
              "      <td>1</td>\n",
              "    </tr>\n",
              "    <tr>\n",
              "      <th>194</th>\n",
              "      <td>January 19, 2019 | 11:39 AM EST</td>\n",
              "      <td>1</td>\n",
              "    </tr>\n",
              "    <tr>\n",
              "      <th>322</th>\n",
              "      <td>read more at NewsBusters here</td>\n",
              "      <td>1</td>\n",
              "    </tr>\n",
              "    <tr>\n",
              "      <th>515</th>\n",
              "      <td>February 13, 2019 | 1:05 AM EST</td>\n",
              "      <td>1</td>\n",
              "    </tr>\n",
              "    <tr>\n",
              "      <th>547</th>\n",
              "      <td>January 28, 2019 | 3:34 PM EST</td>\n",
              "      <td>1</td>\n",
              "    </tr>\n",
              "    <tr>\n",
              "      <th>...</th>\n",
              "      <td>...</td>\n",
              "      <td>...</td>\n",
              "    </tr>\n",
              "    <tr>\n",
              "      <th>93012</th>\n",
              "      <td>Boris Johnson Needs to Get Serious</td>\n",
              "      <td>0</td>\n",
              "    </tr>\n",
              "    <tr>\n",
              "      <th>94080</th>\n",
              "      <td>Go to a Cheap College--or None at All</td>\n",
              "      <td>0</td>\n",
              "    </tr>\n",
              "    <tr>\n",
              "      <th>94479</th>\n",
              "      <td>Skip to main content</td>\n",
              "      <td>0</td>\n",
              "    </tr>\n",
              "    <tr>\n",
              "      <th>94634</th>\n",
              "      <td># New state laws kick in for 2019</td>\n",
              "      <td>0</td>\n",
              "    </tr>\n",
              "    <tr>\n",
              "      <th>99979</th>\n",
              "      <td># The People vs. Donald J. Trump</td>\n",
              "      <td>0</td>\n",
              "    </tr>\n",
              "  </tbody>\n",
              "</table>\n",
              "<p>311 rows × 2 columns</p>\n",
              "</div>"
            ],
            "text/plain": [
              "                                     content  Reliability\n",
              "155           January 30, 2019 | 8:34 AM EST            1\n",
              "194          January 19, 2019 | 11:39 AM EST            1\n",
              "322            read more at NewsBusters here            1\n",
              "515          February 13, 2019 | 1:05 AM EST            1\n",
              "547           January 28, 2019 | 3:34 PM EST            1\n",
              "...                                      ...          ...\n",
              "93012     Boris Johnson Needs to Get Serious            0\n",
              "94080  Go to a Cheap College--or None at All            0\n",
              "94479                   Skip to main content            0\n",
              "94634      # New state laws kick in for 2019            0\n",
              "99979       # The People vs. Donald J. Trump            0\n",
              "\n",
              "[311 rows x 2 columns]"
            ]
          },
          "metadata": {
            "tags": []
          },
          "execution_count": 14
        }
      ]
    },
    {
      "cell_type": "code",
      "metadata": {
        "id": "UMUikG0udB3-"
      },
      "source": [
        "data_df.drop( data_df[data_df.content.str.len() < 50].index, inplace=True)"
      ],
      "execution_count": 15,
      "outputs": []
    },
    {
      "cell_type": "code",
      "metadata": {
        "colab": {
          "base_uri": "https://localhost:8080/",
          "height": 49
        },
        "id": "HioYzvYApHPK",
        "outputId": "32fbcf1d-db05-474e-fda4-fb78915374e1"
      },
      "source": [
        "data_df[data_df.content.str.len() < 40]"
      ],
      "execution_count": 16,
      "outputs": [
        {
          "output_type": "execute_result",
          "data": {
            "text/html": [
              "<div>\n",
              "<style scoped>\n",
              "    .dataframe tbody tr th:only-of-type {\n",
              "        vertical-align: middle;\n",
              "    }\n",
              "\n",
              "    .dataframe tbody tr th {\n",
              "        vertical-align: top;\n",
              "    }\n",
              "\n",
              "    .dataframe thead th {\n",
              "        text-align: right;\n",
              "    }\n",
              "</style>\n",
              "<table border=\"1\" class=\"dataframe\">\n",
              "  <thead>\n",
              "    <tr style=\"text-align: right;\">\n",
              "      <th></th>\n",
              "      <th>Unnamed: 0</th>\n",
              "      <th>id</th>\n",
              "      <th>date</th>\n",
              "      <th>source</th>\n",
              "      <th>title</th>\n",
              "      <th>content</th>\n",
              "      <th>author</th>\n",
              "      <th>url</th>\n",
              "      <th>published</th>\n",
              "      <th>published_utc</th>\n",
              "      <th>collection_utc</th>\n",
              "      <th>Reliability</th>\n",
              "    </tr>\n",
              "  </thead>\n",
              "  <tbody>\n",
              "  </tbody>\n",
              "</table>\n",
              "</div>"
            ],
            "text/plain": [
              "Empty DataFrame\n",
              "Columns: [Unnamed: 0, id, date, source, title, content, author, url, published, published_utc, collection_utc, Reliability]\n",
              "Index: []"
            ]
          },
          "metadata": {
            "tags": []
          },
          "execution_count": 16
        }
      ]
    },
    {
      "cell_type": "code",
      "metadata": {
        "id": "owpVfe5spzJd"
      },
      "source": [
        "# from collections import Counter\n",
        "# alphabet_counter = lambda x: sum(list(Counter(c for c in x if c.isalpha()).values()))\n",
        "# data_df[\"alpha_counts\"] = data_df.content.apply(alphabet_counter)"
      ],
      "execution_count": 17,
      "outputs": []
    },
    {
      "cell_type": "code",
      "metadata": {
        "id": "J3YkIau8rU4p"
      },
      "source": [
        "# data_df[(data_df.alpha_counts< 13)][['content','Reliability']]"
      ],
      "execution_count": 18,
      "outputs": []
    },
    {
      "cell_type": "code",
      "metadata": {
        "colab": {
          "base_uri": "https://localhost:8080/"
        },
        "id": "w9dafxKiorEa",
        "outputId": "7d21a3e4-039d-46d2-b847-637e10d9f492"
      },
      "source": [
        "data_df.isnull().sum()"
      ],
      "execution_count": 19,
      "outputs": [
        {
          "output_type": "execute_result",
          "data": {
            "text/plain": [
              "Unnamed: 0            0\n",
              "id                    0\n",
              "date                  0\n",
              "source                0\n",
              "title                 5\n",
              "content               0\n",
              "author            24459\n",
              "url                   0\n",
              "published            10\n",
              "published_utc         0\n",
              "collection_utc        0\n",
              "Reliability           0\n",
              "dtype: int64"
            ]
          },
          "metadata": {
            "tags": []
          },
          "execution_count": 19
        }
      ]
    },
    {
      "cell_type": "code",
      "metadata": {
        "id": "0DrxPfASeAHV",
        "colab": {
          "base_uri": "https://localhost:8080/",
          "height": 202
        },
        "outputId": "5dbdf38c-759d-437b-a5ac-cc67e88edddc"
      },
      "source": [
        "data_df.head()"
      ],
      "execution_count": 20,
      "outputs": [
        {
          "output_type": "execute_result",
          "data": {
            "text/html": [
              "<div>\n",
              "<style scoped>\n",
              "    .dataframe tbody tr th:only-of-type {\n",
              "        vertical-align: middle;\n",
              "    }\n",
              "\n",
              "    .dataframe tbody tr th {\n",
              "        vertical-align: top;\n",
              "    }\n",
              "\n",
              "    .dataframe thead th {\n",
              "        text-align: right;\n",
              "    }\n",
              "</style>\n",
              "<table border=\"1\" class=\"dataframe\">\n",
              "  <thead>\n",
              "    <tr style=\"text-align: right;\">\n",
              "      <th></th>\n",
              "      <th>Unnamed: 0</th>\n",
              "      <th>id</th>\n",
              "      <th>date</th>\n",
              "      <th>source</th>\n",
              "      <th>title</th>\n",
              "      <th>content</th>\n",
              "      <th>author</th>\n",
              "      <th>url</th>\n",
              "      <th>published</th>\n",
              "      <th>published_utc</th>\n",
              "      <th>collection_utc</th>\n",
              "      <th>Reliability</th>\n",
              "    </tr>\n",
              "  </thead>\n",
              "  <tbody>\n",
              "    <tr>\n",
              "      <th>0</th>\n",
              "      <td>0</td>\n",
              "      <td>truepundit--2019-04-28--A Harvard Conference K...</td>\n",
              "      <td>2019-04-28</td>\n",
              "      <td>truepundit</td>\n",
              "      <td>A Harvard Conference Keynote Speaker Has Writt...</td>\n",
              "      <td>esHarvard University’s Faculty of Arts &amp; Scien...</td>\n",
              "      <td>admin</td>\n",
              "      <td>https://truepundit.com/a-harvard-conference-ke...</td>\n",
              "      <td>2019-04-28 19:18:21+00:00</td>\n",
              "      <td>1556493501</td>\n",
              "      <td>1567541811</td>\n",
              "      <td>1</td>\n",
              "    </tr>\n",
              "    <tr>\n",
              "      <th>1</th>\n",
              "      <td>1</td>\n",
              "      <td>dailystormer--2019-01-07--PewDiePie is Going t...</td>\n",
              "      <td>2019-01-07</td>\n",
              "      <td>dailystormer</td>\n",
              "      <td>PewDiePie is Going to be Banned From YouTube N...</td>\n",
              "      <td>PewDiePie is Going to be Banned From YouTube N...</td>\n",
              "      <td>Andrew Anglin</td>\n",
              "      <td>https://dailystormer.name/pewdiepie-is-going-t...</td>\n",
              "      <td>2019-01-07 05:48:11+00:00</td>\n",
              "      <td>1546858091</td>\n",
              "      <td>1567553650</td>\n",
              "      <td>1</td>\n",
              "    </tr>\n",
              "    <tr>\n",
              "      <th>2</th>\n",
              "      <td>2</td>\n",
              "      <td>frontpagemagazine--2019-05-14--US Denies Visa ...</td>\n",
              "      <td>2019-05-14</td>\n",
              "      <td>frontpagemagazine</td>\n",
              "      <td>US Denies Visa to Terror Apologist Hanan Ashrawi</td>\n",
              "      <td>We've gone from one administration that had an...</td>\n",
              "      <td>Daniel Greenfield</td>\n",
              "      <td>https://www.frontpagemag.com/point/273770/us-d...</td>\n",
              "      <td>2019-05-14 04:28:45+00:00</td>\n",
              "      <td>1557822525</td>\n",
              "      <td>1567540763</td>\n",
              "      <td>1</td>\n",
              "    </tr>\n",
              "    <tr>\n",
              "      <th>3</th>\n",
              "      <td>3</td>\n",
              "      <td>rt--2019-02-02--Wasnt me I wore blackface on a...</td>\n",
              "      <td>2019-02-02</td>\n",
              "      <td>rt</td>\n",
              "      <td>‘Wasn’t me, I wore blackface on another occasi...</td>\n",
              "      <td>Ralph Northam, who is under pressure to resign...</td>\n",
              "      <td>RT</td>\n",
              "      <td>https://www.rt.com/usa/450445-northam-racist-p...</td>\n",
              "      <td>2019-02-02 23:10:00+00:00</td>\n",
              "      <td>1549167000</td>\n",
              "      <td>1567549838</td>\n",
              "      <td>1</td>\n",
              "    </tr>\n",
              "    <tr>\n",
              "      <th>4</th>\n",
              "      <td>4</td>\n",
              "      <td>cnsnews--2019-08-12--Nancy Pelosi We Prayed fo...</td>\n",
              "      <td>2019-08-12</td>\n",
              "      <td>cnsnews</td>\n",
              "      <td>Nancy Pelosi: ‘We Prayed for Those…Whose Digni...</td>\n",
              "      <td>(CNSNews.com) - House Speaker Nancy Pelosi iss...</td>\n",
              "      <td>CNSNews.com Staff</td>\n",
              "      <td>https://www.cnsnews.com/news/article/cnsnewsco...</td>\n",
              "      <td>2019-08-12 16:37:07+00:00</td>\n",
              "      <td>1565642227</td>\n",
              "      <td>1567534336</td>\n",
              "      <td>1</td>\n",
              "    </tr>\n",
              "  </tbody>\n",
              "</table>\n",
              "</div>"
            ],
            "text/plain": [
              "   Unnamed: 0  ... Reliability\n",
              "0           0  ...           1\n",
              "1           1  ...           1\n",
              "2           2  ...           1\n",
              "3           3  ...           1\n",
              "4           4  ...           1\n",
              "\n",
              "[5 rows x 12 columns]"
            ]
          },
          "metadata": {
            "tags": []
          },
          "execution_count": 20
        }
      ]
    },
    {
      "cell_type": "code",
      "metadata": {
        "id": "OliuCEEZecq8"
      },
      "source": [
        "#Keep only content, Reliability as columns\n",
        "data_df = data_df.drop(['id','date','source','title','author','url','published','published_utc','collection_utc'],axis=1)"
      ],
      "execution_count": 21,
      "outputs": []
    },
    {
      "cell_type": "code",
      "metadata": {
        "id": "dz0MN3rChTiP",
        "colab": {
          "base_uri": "https://localhost:8080/",
          "height": 202
        },
        "outputId": "d2d3faab-7e2d-4216-d98b-e6f757ee86f2"
      },
      "source": [
        "data_df.head()"
      ],
      "execution_count": 22,
      "outputs": [
        {
          "output_type": "execute_result",
          "data": {
            "text/html": [
              "<div>\n",
              "<style scoped>\n",
              "    .dataframe tbody tr th:only-of-type {\n",
              "        vertical-align: middle;\n",
              "    }\n",
              "\n",
              "    .dataframe tbody tr th {\n",
              "        vertical-align: top;\n",
              "    }\n",
              "\n",
              "    .dataframe thead th {\n",
              "        text-align: right;\n",
              "    }\n",
              "</style>\n",
              "<table border=\"1\" class=\"dataframe\">\n",
              "  <thead>\n",
              "    <tr style=\"text-align: right;\">\n",
              "      <th></th>\n",
              "      <th>Unnamed: 0</th>\n",
              "      <th>content</th>\n",
              "      <th>Reliability</th>\n",
              "    </tr>\n",
              "  </thead>\n",
              "  <tbody>\n",
              "    <tr>\n",
              "      <th>0</th>\n",
              "      <td>0</td>\n",
              "      <td>esHarvard University’s Faculty of Arts &amp; Scien...</td>\n",
              "      <td>1</td>\n",
              "    </tr>\n",
              "    <tr>\n",
              "      <th>1</th>\n",
              "      <td>1</td>\n",
              "      <td>PewDiePie is Going to be Banned From YouTube N...</td>\n",
              "      <td>1</td>\n",
              "    </tr>\n",
              "    <tr>\n",
              "      <th>2</th>\n",
              "      <td>2</td>\n",
              "      <td>We've gone from one administration that had an...</td>\n",
              "      <td>1</td>\n",
              "    </tr>\n",
              "    <tr>\n",
              "      <th>3</th>\n",
              "      <td>3</td>\n",
              "      <td>Ralph Northam, who is under pressure to resign...</td>\n",
              "      <td>1</td>\n",
              "    </tr>\n",
              "    <tr>\n",
              "      <th>4</th>\n",
              "      <td>4</td>\n",
              "      <td>(CNSNews.com) - House Speaker Nancy Pelosi iss...</td>\n",
              "      <td>1</td>\n",
              "    </tr>\n",
              "  </tbody>\n",
              "</table>\n",
              "</div>"
            ],
            "text/plain": [
              "   Unnamed: 0                                            content  Reliability\n",
              "0           0  esHarvard University’s Faculty of Arts & Scien...            1\n",
              "1           1  PewDiePie is Going to be Banned From YouTube N...            1\n",
              "2           2  We've gone from one administration that had an...            1\n",
              "3           3  Ralph Northam, who is under pressure to resign...            1\n",
              "4           4  (CNSNews.com) - House Speaker Nancy Pelosi iss...            1"
            ]
          },
          "metadata": {
            "tags": []
          },
          "execution_count": 22
        }
      ]
    },
    {
      "cell_type": "code",
      "metadata": {
        "id": "7X9m_klY4e4A"
      },
      "source": [
        "# split the dataset into training and validation datasets \n",
        "train_x, valid_x, train_y, valid_y = train_test_split(data_df['content'], data_df['Reliability'], test_size=0.20, random_state=42)"
      ],
      "execution_count": 23,
      "outputs": []
    },
    {
      "cell_type": "code",
      "metadata": {
        "id": "kXgA6bdBzhcG",
        "colab": {
          "base_uri": "https://localhost:8080/"
        },
        "outputId": "a2710e28-e5a1-4ff0-ad93-10f349539ec1"
      },
      "source": [
        "train_y.value_counts(), valid_y.value_counts()"
      ],
      "execution_count": 24,
      "outputs": [
        {
          "output_type": "execute_result",
          "data": {
            "text/plain": [
              "(0    39840\n",
              " 1    39537\n",
              " Name: Reliability, dtype: int64, 1    10014\n",
              " 0     9831\n",
              " Name: Reliability, dtype: int64)"
            ]
          },
          "metadata": {
            "tags": []
          },
          "execution_count": 24
        }
      ]
    },
    {
      "cell_type": "code",
      "metadata": {
        "id": "qJldBnpL3913"
      },
      "source": [
        "train_dataset = tf.data.Dataset.from_tensor_slices((train_x.values, train_y.values))\n",
        "test_dataset = tf.data.Dataset.from_tensor_slices((valid_x.values, valid_y.values))"
      ],
      "execution_count": 25,
      "outputs": []
    },
    {
      "cell_type": "code",
      "metadata": {
        "id": "kxVWMY9r4L_E",
        "colab": {
          "base_uri": "https://localhost:8080/"
        },
        "outputId": "027d7526-8a50-4bdf-a9df-394d78307747"
      },
      "source": [
        "for feat, targ in train_dataset.take(5):\n",
        "  print ('Features: {}, Target: {}'.format(feat, targ))"
      ],
      "execution_count": null,
      "outputs": [
        {
          "output_type": "stream",
          "text": [
            "Features: b\"Welcome to the Evening Standard\\xe2\\x80\\x99s LIVE blog dedicated to the latest\\xc2\\xa0transfer news and rumours.  Chelsea will demand more than \\xc2\\xa3100m if Eden Hazard tells the club he wants to join Real Madrid, according to the Telegraph.  Ole Gunnar Solskjaer has moved into pole position to become Manchester United's next permanent boss, reports The Sun.  David de Gea wants to commit his long-term future to Manchester United but is awaiting a suitable offer, according to The Mail.  Jonjo Shelvey has been told he is staying at Newcastle amid interest from West Ham, reports The Mirror.  Meanwhile, Alvaro Morata is in talks with Atletico Madrid ahead of a move back to Spain, according to The Sun.  Marca in Spain say the striker is willing to take a pay cut to join Atleti.  We\\xe2\\x80\\x99ll bring you today's football gossip and the latest from\\xc2\\xa0Arsenal,\\xc2\\xa0Man Utd,\\xc2\\xa0Chelsea,\\xc2\\xa0Liverpool,\\xc2\\xa0Tottenham,\\xc2\\xa0West Ham,\\xc2\\xa0Man City\\xc2\\xa0and more over the course of the window\\xe2\\x80\\xa6  Can't see the transfer news, rumours LIVE blog? Click here to access our desktop page.  Standard Sport understands Chelsea have made an opening \\xc2\\xa326.8m offer to\\xc2\\xa0Zenit\\xc2\\xa0St Petersburg for midfielder\\xc2\\xa0Leandro\\xc2\\xa0Paredes.  Unai\\xc2\\xa0Emery wants Arsenal to offload\\xc2\\xa0Mesut\\xc2\\xa0Ozil\\xc2\\xa0in January to free up funds before the window shuts, according to the Daily Mail.  Wolves will rival Chelsea for the signature of striker\\xc2\\xa0Callum\\xc2\\xa0Wilson, reports the Birmingham Mail.  Former Manchester United striker Andy Cole is set to join Sol Campbell at Macclesfield Town as a coach, according to the Daily Mail.  Meanwhile, Watford midfielder\\xc2\\xa0Abdoulaye\\xc2\\xa0Doucoure\\xc2\\xa0has told a French TV said he wants to leave Vicarage Road amid interest from PSG.  England\\xc2\\xa0boss\\xc2\\xa0Gareth Southgate\\xc2\\xa0has emerged as a potential candidate for the\\xc2\\xa0Man Utd\\xc2\\xa0job, according to reports this morning.  The\\xc2\\xa0Sunday Telegraph\\xc2\\xa0claim that officials at\\xc2\\xa0Old Trafford\\xc2\\xa0are growing concerned that\\xc2\\xa0Tottenham\\xc2\\xa0boss\\xc2\\xa0Mauricio Pochettino\\xc2\\xa0will remain at Spurs, forcing them to rethink their plans.  Meanwhile,\\xc2\\xa0AC Milan\\xc2\\xa0coach\\xc2\\xa0Gennaro Gattuso\\xc2\\xa0hinted that striker\\xc2\\xa0Gonzalo Higuain\\xc2\\xa0wants to leave the club amid interest from\\xc2\\xa0Chelsea.  Staying in\\xc2\\xa0Serie A, and\\xc2\\xa0Arsenal\\xc2\\xa0are said to have quoted\\xc2\\xa0Juventus\\xc2\\xa0a fee of \\xc2\\xa318million\\xc2\\xa0should they wish to sign\\xc2\\xa0Aaron Ramsey\\xc2\\xa0this month, according to the\\xc2\\xa0Sunday Mirror.  Chelsea, according to the\\xc2\\xa0Sun on Sunday, are said to be considering a move to re-sign\\xc2\\xa0Nathan Ake\\xc2\\xa0for\\xc2\\xa0Bournemouth.  The Dutch defender moved to the South Coast from\\xc2\\xa0Stamford Bridge\\xc2\\xa0in 2017 following a successful spell on loan there, and Chelsea are said to retain a \\xc2\\xa340m\\xc2\\xa0buy-back clause from that deal.  Finally,\\xc2\\xa0Real Madrid\\xe2\\x80\\x99s interest in\\xc2\\xa0Christian Eriksen\\xc2\\xa0could see\\xc2\\xa0Tottenham\\xc2\\xa0reignite theirs in\\xc2\\xa0Ajax\\xc2\\xa0wonderkid\\xc2\\xa0Frenkie de Jong, according to the\\xc2\\xa0Sunday Mirror.  Spurs are understood to be long-time admirers of the 21-year-old, but would face stiff competition from the likes of\\xc2\\xa0Man City\\xc2\\xa0and\\xc2\\xa0Barcelona.  Barcelona have joined the race for Chelsea striker\\xc2\\xa0Alvaro Morata, reports The Sun.  Juventus\\xc2\\xa0are planning a summer swoop for Real Madrid outcast\\xc2\\xa0Isco, according to The Mail.  Manchester United and Arsenal have joined the race to sign Porto star\\xc2\\xa0Yacine Brahimi, reports The Mirror.  Chelsea have agreed in principle deals with\\xc2\\xa0Leandro Paredes\\xc2\\xa0and\\xc2\\xa0Nicola Barella, according to The Telegraph.  Monaco manager Thierry Henry is set to offer\\xc2\\xa0Michy\\xc2\\xa0Batshuayi\\xc2\\xa0an escape route out of Chelsea, reports The Sun.  Fulham have rejected a \\xc2\\xa350m\\xc2\\xa0bid for star striker\\xc2\\xa0Aleksandar Mitrovic\\xc2\\xa0from an unnamed Chinese club, reports The Sun.  Bayern Munich hope to beat Barcelona for the signature of Paris Saint-Germain midfielder\\xc2\\xa0Adrien Rabiot, according to The Sun.  Crystal Palace and Fulham have been put on alert after\\xc2\\xa0Michy Batshuayi's loan spell at Valencia was cut short, according to The Mirror.  The Daily Telegraph reports Chelsea have rejected Barcelona's offer to swap\\xc2\\xa0Willian\\xc2\\xa0for\\xc2\\xa0Malcom\\xc2\\xa0plus cash.  England winger\\xc2\\xa0Jadon Sancho\\xc2\\xa0wants to stay at\\xc2\\xa0Borussia\\xc2\\xa0Dortmund despite reports linking him with a Premier League move, reports The Mail.  Tottenham want to sign\\xc2\\xa0Hoffenheim\\xc2\\xa0and Austria midfielder\\xc2\\xa0Florian Grillitsch, according to Sky Sports.  West Ham\\xc2\\xa0face a battle to keep hold of star striker\\xc2\\xa0Marko Arnautovic\\xc2\\xa0after his brother and agent declared he 'wants to go' amid talk of a lucrative offer from an unknown Chinese Super League club.  Gonzalo Higuain\\xe2\\x80\\x99s agent is in London with\\xc2\\xa0Chelsea\\xc2\\xa0keen to buy the striker.  Standard Sport understands that Nicolas\\xc2\\xa0Higuain, the forward\\xe2\\x80\\x99s brother,\\xc2\\xa0arrived on Thursday morning and is expected to meet with Chelsea officials to sound out their interest.  Meanwhile, contrary to reports, we understand that\\xc2\\xa0Aaron Ramsey\\xc2\\xa0has not yet agreed to join\\xc2\\xa0Juventus\\xc2\\xa0with his\\xc2\\xa0agent due to speak with other clubs.  The\\xc2\\xa0Serie\\xc2\\xa0A side are in pole position to secure the services of the\\xc2\\xa0Arsenal\\xc2\\xa0star this summer, but Inter Milan, AC Milan, Bayern Munich and Paris Saint-Germain are also interested.  Elsewhere,\\xc2\\xa0Barcelona\\xc2\\xa0could sell\\xc2\\xa0Philippe Coutinho to fund deal to bring Neymar back to Camp Nou.  Chelsea want to sign\\xc2\\xa0Andre Silva\\xc2\\xa0but any deal hinges on\\xc2\\xa0Alvaro Morata\\xc2\\xa0replacing the striker at\\xc2\\xa0Sevilla, reports The Sun.  Ander Herrera\\xc2\\xa0is set to sign a new deal for Manchester United after\\xc2\\xa0Ole\\xc2\\xa0Gunnar\\xc2\\xa0Solskjaer\\xc2\\xa0convinced him to stay, according to The Sun.  Arsenal have asked about Chelsea target\\xc2\\xa0Nicolo Barella\\xc2\\xa0and could make a late bid to hijack the deal, reports The Daily Mail.  The Sun reports Inter Milan are planning a summer swoop for\\xc2\\xa0Luka Modric\\xc2\\xa0and could sell\\xc2\\xa0Ivan Perisic\\xc2\\xa0to Manchester United to help raise funds.  Real Madrid want either\\xc2\\xa0Christian Eriksen\\xc2\\xa0or\\xc2\\xa0Eden Hazard\\xc2\\xa0to be their new playmaker as they plan an overhaul of the squad this summer, reports The Independent.  Standard Sport understands that\\xc2\\xa0Chelsea\\xc2\\xa0have put\\xc2\\xa0Cesc Fabregas\\xe2\\x80\\x99 proposed move to Monaco on hold until they can bring in a replacement for the Spaniard.  The Blues have identified two possible replacements in\\xc2\\xa0Cagliari\\xc2\\xa0star\\xc2\\xa0Nicolo\\xc2\\xa0Barrera\\xc2\\xa0and\\xc2\\xa0Zenit\\xc2\\xa0St Petersburg's\\xc2\\xa0Leandro\\xc2\\xa0Paredes\\xc2\\xa0and will not sanction\\xc2\\xa0Fabregas\\xe2\\x80\\x99 move to\\xc2\\xa0Ligue\\xc2\\xa01 until one of those deals is agreed.  According to AS,\\xc2\\xa0Morata\\xe2\\x80\\x99s agent\\xc2\\xa0Juanma\\xc2\\xa0Lopez has travelled to the Andalusian city to hold talks with\\xc2\\xa0Sevilla\\xc2\\xa0director of football Joaquin\\xc2\\xa0Caparros\\xc2\\xa0over the possibility of a loan move.  Real\\xc2\\xa0Betis\\xc2\\xa0meanwhile are interested in signing\\xc2\\xa0West Ham\\xc2\\xa0striker Lucas Perez on loan. The Hammers could still hold onto the former Arsenal man until the end of the season if they are unable to bring in a replacement.  Arsenal\\xc2\\xa0are exploring the possibility of making former midfielder\\xc2\\xa0Edu\\xc2\\xa0the club\\xe2\\x80\\x99s new director of football.  The Gunners are keen to add further expertise to their first-team operations as part of a restructuring which began when\\xc2\\xa0Arsene\\xc2\\xa0Wenger was in charge and continued this season with chief executive Ivan\\xc2\\xa0Gazidis\\xe2\\x80\\x99s departure to AC Milan.  Barcelona\\xc2\\xa0are reluctant to let\\xc2\\xa0Arsenal\\xc2\\xa0target Denis Suarez leave on loan this month ahead of a proposed permanent move in the summer, according to the Mirror.  Lazio\\xc2\\xa0have had a \\xc2\\xa313million\\xc2\\xa0bid for\\xc2\\xa0Chelsea\\xc2\\xa0full-back\\xc2\\xa0Davide Zappacosta\\xc2\\xa0accepted, according to The Sun.  Chelsea want \\xc2\\xa310million\\xc2\\xa0for\\xc2\\xa0Cesc Fabregas\\xc2\\xa0as the midfielder flies south for talks following his farewell performance at Stamford Bridge on Saturday, report the Mirror.  Manchester United\\xc2\\xa0face a battle with Liverpool and Real Madrid for Porto right-back\\xc2\\xa0Eder Militao, according to The Sun.  Meanwhile, The Sun reports\\xc2\\xa0Fulham\\xc2\\xa0goalkeeper\\xc2\\xa0Fabri\\xc2\\xa0is set to return to\\xc2\\xa0Besiktas\\xc2\\xa0just six months after leaving the club to move to west London.  And Frank\\xc2\\xa0Lampard\\xc2\\xa0has given up hope of signing Chelsea teenager\\xc2\\xa0Ethan Ampadu\\xc2\\xa0on loan.  Chelsea will make a \\xc2\\xa350m\\xc2\\xa0bid to try and sign PSG striker\\xc2\\xa0Edinson Cavani\\xc2\\xa0to solve their woes up front.  The Sunday Express\\xc2\\xa0report\\xc2\\xa0Maurizio\\xc2\\xa0Sarri\\xc2\\xa0wants the Uruguay international to lead his attack with\\xc2\\xa0Alvaro\\xc2\\xa0Morata\\xc2\\xa0and Olivier\\xc2\\xa0Giroud\\xc2\\xa0failing to fulfil that role under the Italian.  Arsenal meanwhile have opened talks with Barcelona over a move for Spanish midfielder\\xc2\\xa0Denis Suarez.\\xc2\\xa0The Guardian\\xc2\\xa0claim the Spaniard is available for around \\xc2\\xa320m\\xc2\\xa0with\\xc2\\xa0Unai\\xc2\\xa0Emery keen to bring in a player he has previously worked with at\\xc2\\xa0Sevilla.  Fulham will offer \\xc2\\xa315m\\xc2\\xa0for Liverpool forward\\xc2\\xa0Divock Origi\\xc2\\xa0to help their Premier League survival bid,\\xc2\\xa0according to the Mirror.  But after offloading Dominic\\xc2\\xa0Solanke\\xc2\\xa0to Bournemouth,\\xc2\\xa0Jurgen\\xc2\\xa0Klopp\\xc2\\xa0may be wary of letting another backup forward leave the club ahead of their title run in.  Chelsea\\xc2\\xa0are said to be close to sealing a complicated loan agreement which will bring\\xc2\\xa0Gonzalo Higuain\\xc2\\xa0to Stamford Bridge.  Sky Sports\\xc2\\xa0say\\xc2\\xa0Tottenham\\xc2\\xa0and\\xc2\\xa0Man City\\xc2\\xa0are on alert after young\\xc2\\xa0Sunderland\\xc2\\xa0striker\\xc2\\xa0Josh Maja\\xc2\\xa0rejected a new contract with the Black Cats.  Meanwhile,\\xc2\\xa0West Ham\\xe2\\x80\\x99s\\xc2\\xa0Reece Oxford\\xc2\\xa0is said to be holding out for a move to\\xc2\\xa0Arsenal\\xc2\\xa0and will reject an offer to return to\\xc2\\xa0Borussia Monchengladbach\\xc2\\xa0this month, according to\\xc2\\xa0the Mirror.  Arsenal are today linked with a\\xc2\\xa0Serie\\xc2\\xa0A star, with manager\\xc2\\xa0Unai\\xc2\\xa0Emery wanting to sign Torino defender Nicolas N\\xe2\\x80\\x99Koulou, according to reports in Italy.  Chelsea have until January 14 to recall Tammy Abraham from his loan spell at Aston Villa, according to the Guardian.  The terms of the deal mean the Blues can cut short his season-long stint at Villa Park if they trigger a recall option in the first two weeks of the window.  Tottenham have activated an extension clause in Toby\\xc2\\xa0Alderweireld's\\xc2\\xa0contract which will keep him at the club till 2020, but also includes that infamous \\xc2\\xa325million\\xc2\\xa0transfer clause.  Chelsea have decided against a January move for\\xc2\\xa0Gonzalo\\xc2\\xa0Higuain, who is on loan at\\xc2\\xa0AC Milan\\xc2\\xa0from\\xc2\\xa0Juventus, according to Goal.  Meanwhile, Crystal Palace midfielder Jason Puncheon is today on the verge of joining Huddersfield while Jonny Williams have completed a move to Charlton Athletic.  Manchester United will only spend big in January if the opportunity to sign a leading centre-back arises, reports The Independent.  Thierry Henry's Monaco have identified Crystal Palace defender\\xc2\\xa0Mamadou\\xc2\\xa0Sakho\\xc2\\xa0as a priority target but the Eagles have not intention of letting him leave, according to The Mail.  Chelsea are adamant the signing of Christian\\xc2\\xa0Pulisic\\xc2\\xa0from\\xc2\\xa0Borussia\\xc2\\xa0Dortmund is not related to Eden Hazard's contract situation. The Blues are still determined to agree a new deal with the Belgium international, according to The Sun.  Meanwhile, The Sun reports Huddersfield\\xc2\\xa0 are set to complete a loan deal for Crystal Palace midfielder Jason Puncheon until the end of the season.  Sport in Spain say Arsenal have made a \\xc2\\xa314m\\xc2\\xa0offer to sign Real Madrid goalkeeper\\xc2\\xa0Keylor\\xc2\\xa0Navas, who hinted at his imminent departure on social media on Wednesday.\", Target: 0\n",
            "Features: b'A shooting at a bowling alley in Torrance, California has resulted in \\xe2\\x80\\x9cmultiple victims,\\xe2\\x80\\x9d local police have said, adding that locals should stay away from the area as an investigation is still underway.  The Torrance Police Department confirmed in a tweet that there were \\xe2\\x80\\x9creports of shots fired with multiple victims down\\xe2\\x80\\x9d at Gable House Bowl. The tweet made no mention of whether any suspects had been apprehended, but said that an investigation is underway and urged people to \\xe2\\x80\\x9cstay away from the area.\\xe2\\x80\\x9d  Torrance is a located about 20 miles (32 kilometers) from Los Angeles.  A local reporter who arrived at the scene said\\xc2\\xa0that a fight at the bowling alley escalated into a shooting.\\xc2\\xa0A video taken in the parking lot of the bowling alley shows people screaming and crying.  A witness interviewed\\xc2\\xa0by the Los Angeles Times said he hid for 15 minutes behind a bar after hearing gunfire.  \"We heard there was a big fight before that. We just ran into the bar and we just took cover because after the fight we heard pop pop,\" Jesus Perez told the paper.\\xc2\\xa0He said he heard around four gunshots.', Target: 1\n",
            "Features: b'(Natural News) Coffee is one of the most commonly consumed drinks in the world and it has been shown to have health benefits. Researchers from India evaluated the anticancer properties of chlorogenic acid complex, an active compound in green coffee beans. Their findings appeared in the\\xc2\\xa0Food Science and Human Wellness\\xc2\\xa0journal.  Chlorogenic acid (CGA) is the main ingredient in coffee beans. It has been studied for its therapeutic effects, but\\xc2\\xa0there are limited studies\\xc2\\xa0that have investigated\\xc2\\xa0its anticancer properties.  The researchers of the present study used chlorogenic acid complex (CGA7), a standardized decaffeinated water-soluble green coffee bean extract and evaluated its cytotoxic effect on human and mouse cancer cell lines.  The researchers cultured human cervical (HeLa), liver (HepG2), breast (MCF7), and colon cancer (HCT-15, HCT-116) cell lines and mouse B16-F1, EAC, normal cell line MEF (STO).  The researchers found that\\xc2\\xa0CGA7 treatment induces\\xc2\\xa0dose- and time-dependent apoptosis or cell death in different cancer cell lines.  The CGA7-induced apoptosis was characterized by DNA fragmentation,\\xc2\\xa0PARP-1 cleavage, caspase-9 activation, and downregulation of Bcl-2 \\xe2\\x80\\x94\\xc2\\xa0an anti-apoptotic protein \\xe2\\x80\\x94 and upregulation of pro-apoptotic protein BAX.  The findings indicated that CGA7 in green coffee beans is a potent anticancer compound that could be a safe bioactive ingredient for the prevention of cancer. (Related:\\xc2\\xa0Six cancer fighting beverages proven to kill cancer cells!)  CGA is a natural compound primarily found in green coffee beans. Studies have shown that it can\\xc2\\xa0reduce the risk of\\xc2\\xa0diseases such as diabetes and cancer, as well as\\xc2\\xa0stimulate weight loss, reduce blood pressure, and improve mood. CGA\\xc2\\xa0is most commonly supplemented in the form of green coffee extract.  The power of the elements: Discover Colloidal Silver Mouthwash with quality, natural ingredients like Sangre de Drago sap, black walnut hulls, menthol crystals and more. Zero artificial sweeteners, colors or alcohol. Learn more at the Health Ranger Store and help support this news site.  In a study which appeared in the European Journal of Nutrition, participants with stage 1 hypertension were supplemented with green coffee bean extract. Researchers found that CGA effectively reduced blood pressure and improved blood vessel dilation. In another study published in the Clinical and Experimental Hypertension journal, they found that isolated CGA reduced blood pressure in 28 hypertensive patients.  Multiple studies published in The Journal of International Medical Research and Diabetes Care\\xc2\\xa0showed that CGA can reduce insulin and glucose spikes following a meal, resulting in weight and body fat loss. In a study which appeared in the journal Diabetes, Metabolic Syndrome and Obesity: Targets and Therapy, 16 obese participants were supplemented with green coffee extract for 22 weeks. At the end of the study, the extract reduced the participants\\xe2\\x80\\x99 weight, body mass index (BMI), and body fat percentage.  In a study published in Nutrition & Diabetes, CGA was found to reduce the levels of blood glucose and fasting\\xc2\\xa0HbA1c \\xe2\\x80\\x93 which is an indicator of diabetes \\xe2\\x80\\x93 in 57 healthy females.  CGA was also found to improve mood, particularly in older people. A study which appeared in Psychopharmacology suggested that three\\xc2\\xa0cups of decaffeinated coffee enriched with\\xc2\\xa0CGA improved mood and attention in 39 older participants. Another study involving 60 older adults reported reduced feelings of exhaustion, jitteriness and headaches after supplementing with isolated CGA.  Besides green coffee beans, CGA can also be found in\\xc2\\xa0apples, pears, eggplant, blueberries, tomatoes, strawberries, and potatoes and even bamboo and hawthorn.  Visit\\xc2\\xa0SuperfoodsNews.com\\xc2\\xa0for more news stories on the health benefits of chlorogenic-rich foods like green coffee.', Target: 1\n",
            "Features: b'Standing with Trump at McLean Bible Church in Vienna, pastor David Platt said Sunday that \\xe2\\x80\\x9cfools despise wisdom and instruction.\\xe2\\x80\\x9d  VIENNA, Va. - The pastor of a Virginia church has asked God to give President Donald Trump wisdom to lead the country.  Trump made an unannounced stop at the church after leaving his private golf club in Sterling, Virginia. The president bowed his head as Platt led the congregation in audible prayer. The president did not address the congregation but mouthed \\xe2\\x80\\x9cthank you\\xe2\\x80\\x9d as he left the stage.  The White House said Trump stopped at the church to visit with the pastor and pray for the victims of Friday\\xe2\\x80\\x99s deadly mass shooting in Virginia Beach, Virginia.  The Rev. Franklin Graham called for a nationwide day of prayer Sunday for Trump.', Target: 0\n",
            "Features: b'Democrats, hopping mad about former Starbucks CEO Howard Schultz\\xe2\\x80\\x99s possible third-party bid in general, are particularly steamed at Bill Burton, one of President Barack Obama\\xe2\\x80\\x99s earliest campaign staffers and deputy press secretary who is now working for Schultz.  According to a Monday CNN report, Burton defended himself by saying to beat President Donald Trump you need a \\xe2\\x80\\x9ccreative\\xe2\\x80\\x9d and \\xe2\\x80\\x9cimaginative\\xe2\\x80\\x9d option.  His fellow Obama alumni and other peers aren\\xe2\\x80\\x99t buying it.  From former chief strategist for Obama\\xe2\\x80\\x99s campaigns and senior adviser in the White House:  And a reminder from a biographer of the Obama years:', Target: 0\n"
          ],
          "name": "stdout"
        }
      ]
    },
    {
      "cell_type": "code",
      "metadata": {
        "id": "s6fYR3fP4QTe"
      },
      "source": [
        "BUFFER_SIZE = 10000\n",
        "BATCH_SIZE = 64"
      ],
      "execution_count": 26,
      "outputs": []
    },
    {
      "cell_type": "code",
      "metadata": {
        "id": "eDsGt1JfhVOD"
      },
      "source": [
        "train_dataset = train_dataset.shuffle(BUFFER_SIZE).batch(BATCH_SIZE).prefetch(tf.data.experimental.AUTOTUNE)\n",
        "test_dataset = test_dataset.batch(BATCH_SIZE).prefetch(tf.data.experimental.AUTOTUNE)"
      ],
      "execution_count": 27,
      "outputs": []
    },
    {
      "cell_type": "code",
      "metadata": {
        "id": "DfNe4pP76FkY",
        "colab": {
          "base_uri": "https://localhost:8080/"
        },
        "outputId": "b74af1d5-43aa-4168-a39e-ac94be6aed74"
      },
      "source": [
        "for example, label in train_dataset.take(1):\n",
        "  print('texts: ', example.numpy()[:3])\n",
        "  print()\n",
        "  print('labels: ', label.numpy()[:3])"
      ],
      "execution_count": 28,
      "outputs": [
        {
          "output_type": "stream",
          "text": [
            "texts:  [b'Two goals from Jamie Vardy helped Leicester City extend their unbeaten start to the season in a match that brought a fresh VAR controversy.  Vardy scored early in the first half and a points-clincher 17 minutes from the end. Youri Tielemans tapped in his first of the season in between and provided the assist for the third.  Yet it could be argued the Belgian was lucky still to be on the field after getting the benefit of the doubt following a VAR review of a studs-first challenge on Callum Wilson early in the second half with the score at 2-1.  Tielemans connected with the England striker\\xe2\\x80\\x99s right ankle, which buckled on impact. It looked bad but, after consulting the VAR team referee Peter Bankes took no action. Happily, Wilson was able to resume after treatment, although he said later in an interview that \\xe2\\x80\\x9che almost broke my ankle\\xe2\\x80\\x9d.  \\xe2\\x80\\x9cWatching it live, it looked over the top and he missed the ball,\\xe2\\x80\\x9d Bournemouth manager Eddie Howe, said. \\xe2\\x80\\x9cIt looked dangerous and reckless and I don\\xe2\\x80\\x99t know what VAR is thinking in terms of why they haven\\xe2\\x80\\x99t acted on it.\\xe2\\x80\\x9d'\n",
            " b\"A car rigged with explosive detonated in the Syrian town of Tell Abyad near the Turkish border, killing three and injuring 26, Ankara said.Photos and videos on social media allegedly show the aftermath of the blast on Saturday.A vehicle is seen engulfed in flames and covered in smoke, as locals rush to clear the rubble from the damaged building nearby.The Turkish Defense Ministry said that three people were killed and more than 20 wounded. Local media, meanwhile, had reported earlier that there'd been at least 14 fatalities.but Ankara said that Kurdish paramilitaries were behind the blast.\"\n",
            " b'### Turkish President Recep Tayyip Erdogan  \\xc2\\xa9\\xc2\\xa0EPA-EFE/SERGEI CHIRIKOV/POOL  ANKARA, February 16. /TASS/. Turkish President Recep Tayyip Erdogan has reiterated that Ankara has no plans to renege on the purchase of S-400 surface-to-air missile systems from Russai despite the US pressure, according to Hurriyet Daily News.  \"We have entered into an agreement with Russia on S-400. We have no intention to abandon it. We are working to make sure that S-400 systems are supplied in July as we were promised,\" the Turkish leader was quoted as saying after the trilateral summit on Syria in Sochi.  The news about the Russian-Turkish talks on the purchase of S-400 systems first came in November 2016. The Russian side confirmed that the contract had been signed on September 12, 2017. Concurrently, Turkish President Recep Tayyip Erdogan announced that Ankara had made an advance payment. Turkey is going to become the first NATO member-state to purchase an air defense weapon of this class from Russia.  In other media']\n",
            "\n",
            "labels:  [0 1 1]\n"
          ],
          "name": "stdout"
        }
      ]
    },
    {
      "cell_type": "markdown",
      "metadata": {
        "id": "_PSKNqtaiq1Y"
      },
      "source": [
        "**Create the text encoder**"
      ]
    },
    {
      "cell_type": "code",
      "metadata": {
        "id": "Pi8fZwPXjA1P"
      },
      "source": [
        "# VOCAB_SIZE=1000\n",
        "encoder = tf.keras.layers.experimental.preprocessing.TextVectorization()\n",
        "encoder.adapt(train_dataset.map(lambda text, label: text))"
      ],
      "execution_count": 29,
      "outputs": []
    },
    {
      "cell_type": "markdown",
      "metadata": {
        "id": "f9VCxRz3llqy"
      },
      "source": [
        "The .adapt method sets the layer's vocabulary. Here are the first 20 tokens. After the padding and unknown tokens they're sorted by frequency:"
      ]
    },
    {
      "cell_type": "code",
      "metadata": {
        "id": "OALVdLVxlW4e",
        "colab": {
          "base_uri": "https://localhost:8080/"
        },
        "outputId": "30317404-d25c-46d1-db19-5251ebef9064"
      },
      "source": [
        "vocab = np.array(encoder.get_vocabulary())\n",
        "vocab[:20]"
      ],
      "execution_count": 30,
      "outputs": [
        {
          "output_type": "execute_result",
          "data": {
            "text/plain": [
              "array(['', '[UNK]', 'the', 'to', 'of', 'and', 'a', 'in', 'that', 'is',\n",
              "       'for', 'on', 'with', 'was', 'it', 'as', 'he', 'by', 'be', 'are'],\n",
              "      dtype='<U971')"
            ]
          },
          "metadata": {
            "tags": []
          },
          "execution_count": 30
        }
      ]
    },
    {
      "cell_type": "markdown",
      "metadata": {
        "id": "tHjLhmenl6w4"
      },
      "source": [
        "Once the vocabulary is set, the layer can encode text into indices. The tensors of indices are 0-padded to the longest sequence in the batch (unless you set a fixed output_sequence_length):"
      ]
    },
    {
      "cell_type": "code",
      "metadata": {
        "id": "wgz7O-WVl7a2",
        "colab": {
          "base_uri": "https://localhost:8080/"
        },
        "outputId": "abb18f2d-035a-4270-ea82-914499acd832"
      },
      "source": [
        "encoded_example = encoder(train_x.to_list()[1])[:3].numpy()\n",
        "encoded_example"
      ],
      "execution_count": 31,
      "outputs": [
        {
          "output_type": "execute_result",
          "data": {
            "text/plain": [
              "array([  6, 990,  21])"
            ]
          },
          "metadata": {
            "tags": []
          },
          "execution_count": 31
        }
      ]
    },
    {
      "cell_type": "code",
      "metadata": {
        "id": "r_1vHL7nl-Jy"
      },
      "source": [
        "model = tf.keras.Sequential([\n",
        "    encoder,\n",
        "    tf.keras.layers.Embedding(\n",
        "        input_dim=len(encoder.get_vocabulary()),\n",
        "        output_dim=64,\n",
        "        # Use masking to handle the variable sequence lengths\n",
        "        mask_zero=True),\n",
        "    tf.keras.layers.Bidirectional(tf.keras.layers.LSTM(64)),\n",
        "    tf.keras.layers.Dense(64, activation='relu'),\n",
        "    tf.keras.layers.Dense(1)\n",
        "])"
      ],
      "execution_count": null,
      "outputs": []
    },
    {
      "cell_type": "code",
      "metadata": {
        "id": "v68mAufw8_VB"
      },
      "source": [
        ""
      ],
      "execution_count": null,
      "outputs": []
    },
    {
      "cell_type": "code",
      "metadata": {
        "id": "kxPWgWzu6i0b",
        "colab": {
          "base_uri": "https://localhost:8080/"
        },
        "outputId": "9b47b713-2fed-4575-8866-2fc8000e8308"
      },
      "source": [
        "print([layer.supports_masking for layer in model.layers])"
      ],
      "execution_count": null,
      "outputs": [
        {
          "output_type": "stream",
          "text": [
            "[False, True, True, True, True]\n"
          ],
          "name": "stdout"
        }
      ]
    },
    {
      "cell_type": "code",
      "metadata": {
        "id": "nAwHmPFM6rpS"
      },
      "source": [
        "model.compile(loss=tf.keras.losses.BinaryCrossentropy(from_logits=True),\n",
        "              optimizer=tf.keras.optimizers.Adam(1e-4),\n",
        "              metrics=['accuracy', tfa.metrics.F1Score(num_classes=2, average=\"micro\", threshold=0.5 )])"
      ],
      "execution_count": null,
      "outputs": []
    },
    {
      "cell_type": "code",
      "metadata": {
        "id": "qwTd3YL79GBi"
      },
      "source": [
        ""
      ],
      "execution_count": null,
      "outputs": []
    },
    {
      "cell_type": "code",
      "metadata": {
        "id": "zVrzxto9mfQ6",
        "colab": {
          "base_uri": "https://localhost:8080/"
        },
        "outputId": "51e45deb-9e07-4d6c-fde7-0160b0b57e7d"
      },
      "source": [
        "history = model.fit(train_dataset, epochs=10,\n",
        "                    validation_data=test_dataset, \n",
        "                    validation_steps=30)"
      ],
      "execution_count": null,
      "outputs": [
        {
          "output_type": "stream",
          "text": [
            "Epoch 1/10\n",
            "1241/1241 [==============================] - 671s 541ms/step - loss: 0.4234 - accuracy: 0.7708 - f1_score: 0.7301 - val_loss: 0.2884 - val_accuracy: 0.8750 - val_f1_score: 0.8756\n",
            "Epoch 2/10\n",
            "1241/1241 [==============================] - 671s 541ms/step - loss: 0.2048 - accuracy: 0.9143 - f1_score: 0.9113 - val_loss: 0.2526 - val_accuracy: 0.8932 - val_f1_score: 0.8944\n",
            "Epoch 3/10\n",
            "1241/1241 [==============================] - 673s 542ms/step - loss: 0.1086 - accuracy: 0.9586 - f1_score: 0.9578 - val_loss: 0.2842 - val_accuracy: 0.8901 - val_f1_score: 0.8887\n",
            "Epoch 4/10\n",
            "1241/1241 [==============================] - 671s 541ms/step - loss: 0.0531 - accuracy: 0.9814 - f1_score: 0.9812 - val_loss: 0.3347 - val_accuracy: 0.8875 - val_f1_score: 0.8889\n",
            "Epoch 5/10\n",
            "1241/1241 [==============================] - 674s 543ms/step - loss: 0.0275 - accuracy: 0.9909 - f1_score: 0.9909 - val_loss: 0.4118 - val_accuracy: 0.8828 - val_f1_score: 0.8826\n",
            "Epoch 6/10\n",
            "1241/1241 [==============================] - 671s 541ms/step - loss: 0.0157 - accuracy: 0.9951 - f1_score: 0.9951 - val_loss: 0.5209 - val_accuracy: 0.8833 - val_f1_score: 0.8830\n",
            "Epoch 7/10\n",
            "1241/1241 [==============================] - 679s 547ms/step - loss: 0.0117 - accuracy: 0.9964 - f1_score: 0.9963 - val_loss: 0.4884 - val_accuracy: 0.8844 - val_f1_score: 0.8870\n",
            "Epoch 8/10\n",
            "1241/1241 [==============================] - 706s 569ms/step - loss: 0.0077 - accuracy: 0.9980 - f1_score: 0.9980 - val_loss: 0.5884 - val_accuracy: 0.8828 - val_f1_score: 0.8837\n",
            "Epoch 9/10\n",
            "1241/1241 [==============================] - 708s 571ms/step - loss: 0.0062 - accuracy: 0.9982 - f1_score: 0.9982 - val_loss: 0.7353 - val_accuracy: 0.8734 - val_f1_score: 0.8697\n",
            "Epoch 10/10\n",
            "1241/1241 [==============================] - 713s 574ms/step - loss: 0.0063 - accuracy: 0.9982 - f1_score: 0.9982 - val_loss: 0.6183 - val_accuracy: 0.8750 - val_f1_score: 0.8767\n"
          ],
          "name": "stdout"
        }
      ]
    },
    {
      "cell_type": "code",
      "metadata": {
        "id": "eLhZQt3Dj3cm",
        "colab": {
          "base_uri": "https://localhost:8080/"
        },
        "outputId": "86d0e6b7-c0d5-476c-aaae-a308d860625a"
      },
      "source": [
        "test_loss, test_acc, test_f1_score = model.evaluate(test_dataset)\n",
        "\n",
        "print('Test Loss: {}'.format(test_loss))\n",
        "print('Test Accuracy: {}'.format(test_acc))"
      ],
      "execution_count": null,
      "outputs": [
        {
          "output_type": "stream",
          "text": [
            "311/311 [==============================] - 42s 135ms/step - loss: 0.6402 - accuracy: 0.8745 - f1_score: 0.8745\n",
            "Test Loss: 0.6401609778404236\n",
            "Test Accuracy: 0.8745275735855103\n"
          ],
          "name": "stdout"
        }
      ]
    },
    {
      "cell_type": "code",
      "metadata": {
        "id": "L9RfBeDJj37x",
        "colab": {
          "base_uri": "https://localhost:8080/"
        },
        "outputId": "3f9736bc-ad9f-468b-af06-53257585799e"
      },
      "source": [
        "plt.figure(figsize=(16,8))\n",
        "plt.subplot(1,2,1)\n",
        "plot_graphs(history, 'accuracy')\n",
        "plt.ylim(None,1)\n",
        "plt.subplot(1,2,2)\n",
        "plot_graphs(history, 'loss')\n",
        "plt.ylim(0,None)"
      ],
      "execution_count": null,
      "outputs": [
        {
          "output_type": "execute_result",
          "data": {
            "text/plain": [
              "(0.0, 0.7717186291236431)"
            ]
          },
          "metadata": {
            "tags": []
          },
          "execution_count": 37
        },
        {
          "output_type": "display_data",
          "data": {
            "image/png": "[encoded data removed]",
            "text/plain": [
              "<Figure size 1152x576 with 2 Axes>"
            ]
          },
          "metadata": {
            "tags": [],
            "needs_background": "light"
          }
        }
      ]
    },
    {
      "cell_type": "code",
      "metadata": {
        "id": "cP10fKeBkBjz",
        "colab": {
          "base_uri": "https://localhost:8080/"
        },
        "outputId": "8a10906a-abd1-4439-d21f-a69bff48856e"
      },
      "source": [
        "#saving a model in HDF5 format\n",
        "#model is a tf.keras.Model object created using any of the above methods\n",
        "model.save(\"/content/drive/My Drive/Colab_Notebooks/rnn_lstm_new.tf\", save_format='tf')"
      ],
      "execution_count": null,
      "outputs": [
        {
          "output_type": "stream",
          "text": [
            "WARNING:tensorflow:From /usr/local/lib/python3.6/dist-packages/tensorflow/python/training/tracking/tracking.py:111: Model.state_updates (from tensorflow.python.keras.engine.training) is deprecated and will be removed in a future version.\n",
            "Instructions for updating:\n",
            "This property should not be used in TensorFlow 2.0, as updates are applied automatically.\n",
            "WARNING:tensorflow:From /usr/local/lib/python3.6/dist-packages/tensorflow/python/training/tracking/tracking.py:111: Layer.updates (from tensorflow.python.keras.engine.base_layer) is deprecated and will be removed in a future version.\n",
            "Instructions for updating:\n",
            "This property should not be used in TensorFlow 2.0, as updates are applied automatically.\n",
            "INFO:tensorflow:Assets written to: /content/drive/My Drive/Colab_Notebooks/rnn_lstm_new.tf/assets\n"
          ],
          "name": "stdout"
        }
      ]
    },
    {
      "cell_type": "code",
      "metadata": {
        "id": "zwIMhpYBooeq",
        "colab": {
          "base_uri": "https://localhost:8080/",
          "height": 35
        },
        "outputId": "daddcad7-6f98-4776-a535-b568ed5c530e"
      },
      "source": [
        "tf.__version__"
      ],
      "execution_count": null,
      "outputs": [
        {
          "output_type": "execute_result",
          "data": {
            "application/vnd.google.colaboratory.intrinsic+json": {
              "type": "string"
            },
            "text/plain": [
              "'2.3.0'"
            ]
          },
          "metadata": {
            "tags": []
          },
          "execution_count": 39
        }
      ]
    },
    {
      "cell_type": "code",
      "metadata": {
        "id": "WoutmX1lMuH3"
      },
      "source": [
        ""
      ],
      "execution_count": 32,
      "outputs": []
    },
    {
      "cell_type": "code",
      "metadata": {
        "id": "zXWma97sM0c-"
      },
      "source": [
        ""
      ],
      "execution_count": 32,
      "outputs": []
    },
    {
      "cell_type": "code",
      "metadata": {
        "id": "OKQY5E7bM2rj"
      },
      "source": [
        ""
      ],
      "execution_count": 32,
      "outputs": []
    },
    {
      "cell_type": "markdown",
      "metadata": {
        "id": "lxGt1Vy_qlVu"
      },
      "source": [
        "**Stacking more LSTM layers**"
      ]
    },
    {
      "cell_type": "code",
      "metadata": {
        "id": "r5AWIag8qRWj"
      },
      "source": [
        "model2 = tf.keras.Sequential([\n",
        "    encoder,\n",
        "    tf.keras.layers.Embedding(len(encoder.get_vocabulary()), 64, mask_zero=True),\n",
        "    tf.keras.layers.Bidirectional(tf.keras.layers.LSTM(64,  return_sequences=True)),\n",
        "    tf.keras.layers.Bidirectional(tf.keras.layers.LSTM(32)),\n",
        "    tf.keras.layers.Dense(64, activation='relu'),\n",
        "    tf.keras.layers.Dropout(0.5),\n",
        "    tf.keras.layers.Dense(1)\n",
        "])"
      ],
      "execution_count": 33,
      "outputs": []
    },
    {
      "cell_type": "code",
      "metadata": {
        "id": "sBLwM7pMqtd_"
      },
      "source": [
        "model2.compile(loss=tf.keras.losses.BinaryCrossentropy(from_logits=True),\n",
        "              optimizer=tf.keras.optimizers.Adam(1e-4),\n",
        "              metrics=['accuracy', tfa.metrics.F1Score(num_classes=2, average=\"micro\", threshold=0.5 )])"
      ],
      "execution_count": 34,
      "outputs": []
    },
    {
      "cell_type": "code",
      "metadata": {
        "id": "Iup3oqb4qyPn",
        "colab": {
          "base_uri": "https://localhost:8080/"
        },
        "outputId": "0a5390e5-c346-4142-d6a4-2f548231b97f"
      },
      "source": [
        "history2 = model2.fit(train_dataset, epochs=10,\n",
        "                    validation_data=test_dataset,\n",
        "                    validation_steps=30)"
      ],
      "execution_count": 35,
      "outputs": [
        {
          "output_type": "stream",
          "text": [
            "Epoch 1/10\n",
            "1241/1241 [==============================] - 972s 784ms/step - loss: 0.4263 - accuracy: 0.7700 - f1_score: 0.7272 - val_loss: 0.2943 - val_accuracy: 0.8568 - val_f1_score: 0.8480\n",
            "Epoch 2/10\n",
            "1241/1241 [==============================] - 970s 781ms/step - loss: 0.2056 - accuracy: 0.9159 - f1_score: 0.9132 - val_loss: 0.2697 - val_accuracy: 0.8797 - val_f1_score: 0.8756\n",
            "Epoch 3/10\n",
            "1241/1241 [==============================] - 963s 776ms/step - loss: 0.1080 - accuracy: 0.9600 - f1_score: 0.9593 - val_loss: 0.3666 - val_accuracy: 0.8745 - val_f1_score: 0.8706\n",
            "Epoch 4/10\n",
            "1241/1241 [==============================] - 950s 766ms/step - loss: 0.0534 - accuracy: 0.9820 - f1_score: 0.9818 - val_loss: 0.4808 - val_accuracy: 0.8729 - val_f1_score: 0.8683\n",
            "Epoch 5/10\n",
            "1241/1241 [==============================] - 951s 767ms/step - loss: 0.0322 - accuracy: 0.9894 - f1_score: 0.9893 - val_loss: 0.5513 - val_accuracy: 0.8740 - val_f1_score: 0.8729\n",
            "Epoch 6/10\n",
            "1241/1241 [==============================] - 943s 760ms/step - loss: 0.0198 - accuracy: 0.9939 - f1_score: 0.9938 - val_loss: 0.6535 - val_accuracy: 0.8719 - val_f1_score: 0.8697\n",
            "Epoch 7/10\n",
            "1241/1241 [==============================] - 941s 758ms/step - loss: 0.0150 - accuracy: 0.9955 - f1_score: 0.9954 - val_loss: 0.6598 - val_accuracy: 0.8740 - val_f1_score: 0.8728\n",
            "Epoch 8/10\n",
            "1241/1241 [==============================] - 942s 759ms/step - loss: 0.0102 - accuracy: 0.9970 - f1_score: 0.9970 - val_loss: 0.7601 - val_accuracy: 0.8672 - val_f1_score: 0.8681\n",
            "Epoch 9/10\n",
            "1241/1241 [==============================] - 960s 774ms/step - loss: 0.0097 - accuracy: 0.9972 - f1_score: 0.9972 - val_loss: 0.7885 - val_accuracy: 0.8693 - val_f1_score: 0.8667\n",
            "Epoch 10/10\n",
            "1241/1241 [==============================] - 958s 772ms/step - loss: 0.0072 - accuracy: 0.9978 - f1_score: 0.9978 - val_loss: 0.8306 - val_accuracy: 0.8781 - val_f1_score: 0.8789\n"
          ],
          "name": "stdout"
        }
      ]
    },
    {
      "cell_type": "code",
      "metadata": {
        "id": "1vf4DL7mrA18",
        "colab": {
          "base_uri": "https://localhost:8080/"
        },
        "outputId": "7aeaabfa-2b56-4818-a4b8-2a3d8741b0a5"
      },
      "source": [
        "test_loss, test_acc, test_f1_score = model2.evaluate(test_dataset)\n",
        "\n",
        "print('Test Loss: {}'.format(test_loss))\n",
        "print('Test Accuracy: {}'.format(test_acc))"
      ],
      "execution_count": 36,
      "outputs": [
        {
          "output_type": "stream",
          "text": [
            "311/311 [==============================] - 75s 241ms/step - loss: 0.8352 - accuracy: 0.8756 - f1_score: 0.8740\n",
            "Test Loss: 0.8351673483848572\n",
            "Test Accuracy: 0.8756361603736877\n"
          ],
          "name": "stdout"
        }
      ]
    },
    {
      "cell_type": "code",
      "metadata": {
        "id": "yXNLXTV14cd0",
        "colab": {
          "base_uri": "https://localhost:8080/",
          "height": 518
        },
        "outputId": "5f85f29f-b750-4c1b-b89d-2b5627345afe"
      },
      "source": [
        "plt.figure(figsize=(16,8))\n",
        "plt.subplot(1,2,1)\n",
        "plot_graphs(history2, 'accuracy')\n",
        "plt.ylim(None,1)\n",
        "plt.subplot(1,2,2)\n",
        "plot_graphs(history2, 'loss')\n",
        "plt.ylim(0,None)"
      ],
      "execution_count": 37,
      "outputs": [
        {
          "output_type": "execute_result",
          "data": {
            "text/plain": [
              "(0.0, 0.8717250059591606)"
            ]
          },
          "metadata": {
            "tags": []
          },
          "execution_count": 37
        },
        {
          "output_type": "display_data",
          "data": {
            "image/png": "[encoded data removed]",
            "text/plain": [
              "<Figure size 1152x576 with 2 Axes>"
            ]
          },
          "metadata": {
            "tags": [],
            "needs_background": "light"
          }
        }
      ]
    },
    {
      "cell_type": "code",
      "metadata": {
        "id": "jkpsq_Ym4-70",
        "colab": {
          "base_uri": "https://localhost:8080/"
        },
        "outputId": "e6bff138-aabe-461e-a446-7ca26b7bc4c2"
      },
      "source": [
        "#saving a model in HDF5 format\n",
        "#model is a tf.keras.Model object created using any of the above methods\n",
        "model2.save(\"/content/drive/My Drive/Colab_Notebooks/rnn_lstm2_new.tf\", save_format='tf')"
      ],
      "execution_count": 39,
      "outputs": [
        {
          "output_type": "stream",
          "text": [
            "WARNING:tensorflow:From /usr/local/lib/python3.6/dist-packages/tensorflow/python/training/tracking/tracking.py:111: Model.state_updates (from tensorflow.python.keras.engine.training) is deprecated and will be removed in a future version.\n",
            "Instructions for updating:\n",
            "This property should not be used in TensorFlow 2.0, as updates are applied automatically.\n",
            "WARNING:tensorflow:From /usr/local/lib/python3.6/dist-packages/tensorflow/python/training/tracking/tracking.py:111: Layer.updates (from tensorflow.python.keras.engine.base_layer) is deprecated and will be removed in a future version.\n",
            "Instructions for updating:\n",
            "This property should not be used in TensorFlow 2.0, as updates are applied automatically.\n",
            "INFO:tensorflow:Assets written to: /content/drive/My Drive/Colab_Notebooks/rnn_lstm2_new.tf/assets\n"
          ],
          "name": "stdout"
        }
      ]
    },
    {
      "cell_type": "code",
      "metadata": {
        "id": "_F0tXzhe5J1F"
      },
      "source": [
        ""
      ],
      "execution_count": null,
      "outputs": []
    },
    {
      "cell_type": "markdown",
      "metadata": {
        "id": "5hwJEg3Kkth2"
      },
      "source": [
        "**GRU**"
      ]
    },
    {
      "cell_type": "code",
      "metadata": {
        "id": "8mSRjpBikxPa"
      },
      "source": [
        ""
      ],
      "execution_count": null,
      "outputs": []
    }
  ]
}