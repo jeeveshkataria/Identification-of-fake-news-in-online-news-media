{
  "nbformat": 4,
  "nbformat_minor": 0,
  "metadata": {
    "colab": {
      "name": "RNN.ipynb",
      "provenance": [],
      "collapsed_sections": [],
      "toc_visible": true
    },
    "kernelspec": {
      "name": "python3",
      "display_name": "Python 3"
    },
    "accelerator": "GPU"
  },
  "cells": [
    {
      "cell_type": "code",
      "metadata": {
        "id": "1RleMPLyoDGY",
        "outputId": "412db195-956b-4884-e7f0-9e9a30d3ffe7",
        "colab": {
          "base_uri": "https://localhost:8080/"
        }
      },
      "source": [
        "# !ln -sf /opt/bin/nvidia-smi /usr/bin/nvidia-smi\n",
        "# !pip install gputil\n",
        "# !pip install psutil\n",
        "# !pip install humanize\n",
        "# !pip install tensorflow-addons\n"
      ],
      "execution_count": 33,
      "outputs": [
        {
          "output_type": "stream",
          "text": [
            "Requirement already satisfied: tensorflow-addons in /usr/local/lib/python3.6/dist-packages (0.8.3)\n",
            "Requirement already satisfied: typeguard in /usr/local/lib/python3.6/dist-packages (from tensorflow-addons) (2.7.1)\n"
          ],
          "name": "stdout"
        }
      ]
    },
    {
      "cell_type": "code",
      "metadata": {
        "id": "H0QrXUq1VRxF",
        "outputId": "09ec9c63-4a16-4852-fdd3-2bbf0b1d92d0",
        "colab": {
          "base_uri": "https://localhost:8080/"
        }
      },
      "source": [
        "import numpy as np\n",
        "import tensorflow as tf\n",
        "import pandas as pd\n",
        "from sklearn.model_selection import train_test_split\n",
        "import tensorflow_addons as tfa\n",
        "\n",
        "# import psutil\n",
        "# import humanize\n",
        "# import os, time\n",
        "# import GPUtil as GPU\n",
        "\n",
        "print(tf.__version__)"
      ],
      "execution_count": 36,
      "outputs": [
        {
          "output_type": "stream",
          "text": [
            "2.3.0\n"
          ],
          "name": "stdout"
        }
      ]
    },
    {
      "cell_type": "code",
      "metadata": {
        "id": "TSUWBWD4wU5x"
      },
      "source": [
        "# GPUs = GPU.getGPUs()\n",
        "# # only one GPU on Colab and isn’t guaranteed\n",
        "# gpu = GPUs[0]\n",
        "# def worker():\n",
        "#   while True:\n",
        "#     process = psutil.Process(os.getpid())\n",
        "#     print(\"Gen RAM Free: \" + humanize.naturalsize( psutil.virtual_memory().available ), \" I Proc size: \" + humanize.naturalsize( process.memory_info().rss))\n",
        "#     print(\"GPU RAM Free: {0:.0f}MB | Used: {1:.0f}MB | Util {2:3.0f}% | Total {3:.0f}MB\".format(gpu.memoryFree, gpu.memoryUsed, gpu.memoryUtil*100, gpu.memoryTotal))\n",
        "#     time.sleep(6)\n",
        "\n",
        "# import threading\n",
        "# t = threading.Thread(target=worker, name='Monitor')\n",
        "# t.start()"
      ],
      "execution_count": 3,
      "outputs": []
    },
    {
      "cell_type": "code",
      "metadata": {
        "id": "Z8c5aFb38yHs"
      },
      "source": [
        "# import os\n",
        "# os.environ[\"TF_FORCE_GPU_ALLOW_GROWTH\"]=\"true\""
      ],
      "execution_count": 4,
      "outputs": []
    },
    {
      "cell_type": "code",
      "metadata": {
        "id": "T7hP3VByVZPw"
      },
      "source": [
        "import matplotlib.pyplot as plt\n",
        "def plot_graphs(history, metric):\n",
        "  plt.plot(history.history[metric])\n",
        "  plt.plot(history.history['val_'+metric], '')\n",
        "  plt.xlabel(\"Epochs\")\n",
        "  plt.ylabel(metric)\n",
        "  plt.legend([metric, 'val_'+metric])"
      ],
      "execution_count": 5,
      "outputs": []
    },
    {
      "cell_type": "code",
      "metadata": {
        "id": "adRStEm-cYgk"
      },
      "source": [
        "data_df = pd.read_csv(\"/content/drive/My Drive/Colab_Notebooks/nela10.csv\")"
      ],
      "execution_count": 6,
      "outputs": []
    },
    {
      "cell_type": "code",
      "metadata": {
        "id": "XkaTA1ZGz5Xn",
        "outputId": "9b4ce708-2d4e-4205-d456-5e25a1b71945",
        "colab": {
          "base_uri": "https://localhost:8080/"
        }
      },
      "source": [
        "data_df.Reliability.value_counts()"
      ],
      "execution_count": 7,
      "outputs": [
        {
          "output_type": "execute_result",
          "data": {
            "text/plain": [
              "0    44582\n",
              "2    12575\n",
              "Name: Reliability, dtype: int64"
            ]
          },
          "metadata": {
            "tags": []
          },
          "execution_count": 7
        }
      ]
    },
    {
      "cell_type": "code",
      "metadata": {
        "id": "WnTkuQRL0Jqy"
      },
      "source": [
        "data_df.Reliability = data_df.Reliability.map({0:0, 2:1})"
      ],
      "execution_count": 8,
      "outputs": []
    },
    {
      "cell_type": "code",
      "metadata": {
        "id": "r2fnabmcalTb",
        "outputId": "3acf0938-9441-4d08-b3a4-98a196c983bd",
        "colab": {
          "base_uri": "https://localhost:8080/"
        }
      },
      "source": [
        "data_df.shape"
      ],
      "execution_count": 9,
      "outputs": [
        {
          "output_type": "execute_result",
          "data": {
            "text/plain": [
              "(57157, 11)"
            ]
          },
          "metadata": {
            "tags": []
          },
          "execution_count": 9
        }
      ]
    },
    {
      "cell_type": "code",
      "metadata": {
        "id": "q5wl0-CBaoGf",
        "outputId": "e3f6484a-e717-4abf-9d79-34734bca006f",
        "colab": {
          "base_uri": "https://localhost:8080/"
        }
      },
      "source": [
        "data_df.content.drop_duplicates().shape"
      ],
      "execution_count": 10,
      "outputs": [
        {
          "output_type": "execute_result",
          "data": {
            "text/plain": [
              "(54823,)"
            ]
          },
          "metadata": {
            "tags": []
          },
          "execution_count": 10
        }
      ]
    },
    {
      "cell_type": "code",
      "metadata": {
        "id": "tbkpCudlauKw"
      },
      "source": [
        "data_df['content'] = data_df['content'].str.replace('\\n', ' ').str.strip()"
      ],
      "execution_count": 11,
      "outputs": []
    },
    {
      "cell_type": "code",
      "metadata": {
        "id": "_G9xePoyn4Sb",
        "outputId": "6167f595-e4d7-4732-a778-a36b09626617",
        "colab": {
          "base_uri": "https://localhost:8080/",
          "height": 908
        }
      },
      "source": [
        "data_df[(data_df.content.str.len()> 0) & (data_df.content.str.len()< 30)][['content','Reliability']]"
      ],
      "execution_count": 12,
      "outputs": [
        {
          "output_type": "execute_result",
          "data": {
            "text/html": [
              "<div>\n",
              "<style scoped>\n",
              "    .dataframe tbody tr th:only-of-type {\n",
              "        vertical-align: middle;\n",
              "    }\n",
              "\n",
              "    .dataframe tbody tr th {\n",
              "        vertical-align: top;\n",
              "    }\n",
              "\n",
              "    .dataframe thead th {\n",
              "        text-align: right;\n",
              "    }\n",
              "</style>\n",
              "<table border=\"1\" class=\"dataframe\">\n",
              "  <thead>\n",
              "    <tr style=\"text-align: right;\">\n",
              "      <th></th>\n",
              "      <th>content</th>\n",
              "      <th>Reliability</th>\n",
              "    </tr>\n",
              "  </thead>\n",
              "  <tbody>\n",
              "    <tr>\n",
              "      <th>4399</th>\n",
              "      <td># Rod Rosenstein to step down</td>\n",
              "      <td>0</td>\n",
              "    </tr>\n",
              "    <tr>\n",
              "      <th>4623</th>\n",
              "      <td># Veteran being held in Iran</td>\n",
              "      <td>0</td>\n",
              "    </tr>\n",
              "    <tr>\n",
              "      <th>16909</th>\n",
              "      <td># Democrats Without Clothes</td>\n",
              "      <td>0</td>\n",
              "    </tr>\n",
              "    <tr>\n",
              "      <th>17054</th>\n",
              "      <td>Visit the post for more.</td>\n",
              "      <td>0</td>\n",
              "    </tr>\n",
              "    <tr>\n",
              "      <th>17059</th>\n",
              "      <td># The Making of Amazon Prime</td>\n",
              "      <td>0</td>\n",
              "    </tr>\n",
              "    <tr>\n",
              "      <th>17109</th>\n",
              "      <td>Visit the post for more.</td>\n",
              "      <td>0</td>\n",
              "    </tr>\n",
              "    <tr>\n",
              "      <th>17133</th>\n",
              "      <td># End the War in Afghanistan</td>\n",
              "      <td>0</td>\n",
              "    </tr>\n",
              "    <tr>\n",
              "      <th>17354</th>\n",
              "      <td>The State of the Shutdown</td>\n",
              "      <td>0</td>\n",
              "    </tr>\n",
              "    <tr>\n",
              "      <th>17441</th>\n",
              "      <td># Trump's Not-So-Bully Pulpit</td>\n",
              "      <td>0</td>\n",
              "    </tr>\n",
              "    <tr>\n",
              "      <th>17534</th>\n",
              "      <td>The Art of the Fail?</td>\n",
              "      <td>0</td>\n",
              "    </tr>\n",
              "    <tr>\n",
              "      <th>17716</th>\n",
              "      <td>There Is No Coup in Venezuela</td>\n",
              "      <td>0</td>\n",
              "    </tr>\n",
              "    <tr>\n",
              "      <th>24880</th>\n",
              "      <td>We are all trying to be brave</td>\n",
              "      <td>0</td>\n",
              "    </tr>\n",
              "    <tr>\n",
              "      <th>28285</th>\n",
              "      <td>Clare fails to keep it snappy</td>\n",
              "      <td>0</td>\n",
              "    </tr>\n",
              "    <tr>\n",
              "      <th>29478</th>\n",
              "      <td># 403 - Forbidden</td>\n",
              "      <td>0</td>\n",
              "    </tr>\n",
              "    <tr>\n",
              "      <th>42570</th>\n",
              "      <td>Skip to main content</td>\n",
              "      <td>0</td>\n",
              "    </tr>\n",
              "    <tr>\n",
              "      <th>46453</th>\n",
              "      <td>read more at NewsBusters here</td>\n",
              "      <td>1</td>\n",
              "    </tr>\n",
              "    <tr>\n",
              "      <th>46660</th>\n",
              "      <td>Read more at NewsBusters here</td>\n",
              "      <td>1</td>\n",
              "    </tr>\n",
              "    <tr>\n",
              "      <th>46689</th>\n",
              "      <td>read more at NewsBusters here</td>\n",
              "      <td>1</td>\n",
              "    </tr>\n",
              "    <tr>\n",
              "      <th>46734</th>\n",
              "      <td>read more at NewsBusters here</td>\n",
              "      <td>1</td>\n",
              "    </tr>\n",
              "    <tr>\n",
              "      <th>46927</th>\n",
              "      <td>January 8, 2019 | 8:27 PM EST</td>\n",
              "      <td>1</td>\n",
              "    </tr>\n",
              "    <tr>\n",
              "      <th>46934</th>\n",
              "      <td>January 9, 2019 | 8:05 AM EST</td>\n",
              "      <td>1</td>\n",
              "    </tr>\n",
              "    <tr>\n",
              "      <th>46952</th>\n",
              "      <td>January 9, 2019 | 8:00 AM EST</td>\n",
              "      <td>1</td>\n",
              "    </tr>\n",
              "    <tr>\n",
              "      <th>46953</th>\n",
              "      <td>January 9, 2019 | 4:15 PM EST</td>\n",
              "      <td>1</td>\n",
              "    </tr>\n",
              "    <tr>\n",
              "      <th>46955</th>\n",
              "      <td>January 9, 2019 | 2:28 PM EST</td>\n",
              "      <td>1</td>\n",
              "    </tr>\n",
              "    <tr>\n",
              "      <th>46956</th>\n",
              "      <td>January 9, 2019 | 9:16 AM EST</td>\n",
              "      <td>1</td>\n",
              "    </tr>\n",
              "    <tr>\n",
              "      <th>46957</th>\n",
              "      <td>January 9, 2019 | 1:52 PM EST</td>\n",
              "      <td>1</td>\n",
              "    </tr>\n",
              "    <tr>\n",
              "      <th>47024</th>\n",
              "      <td>read more at NewsBusters here</td>\n",
              "      <td>1</td>\n",
              "    </tr>\n",
              "    <tr>\n",
              "      <th>47662</th>\n",
              "      <td>Copyright 2016 | DC Gazette</td>\n",
              "      <td>1</td>\n",
              "    </tr>\n",
              "  </tbody>\n",
              "</table>\n",
              "</div>"
            ],
            "text/plain": [
              "                             content  Reliability\n",
              "4399   # Rod Rosenstein to step down            0\n",
              "4623    # Veteran being held in Iran            0\n",
              "16909    # Democrats Without Clothes            0\n",
              "17054       Visit the post for more.            0\n",
              "17059   # The Making of Amazon Prime            0\n",
              "17109       Visit the post for more.            0\n",
              "17133   # End the War in Afghanistan            0\n",
              "17354      The State of the Shutdown            0\n",
              "17441  # Trump's Not-So-Bully Pulpit            0\n",
              "17534           The Art of the Fail?            0\n",
              "17716  There Is No Coup in Venezuela            0\n",
              "24880  We are all trying to be brave            0\n",
              "28285  Clare fails to keep it snappy            0\n",
              "29478              # 403 - Forbidden            0\n",
              "42570           Skip to main content            0\n",
              "46453  read more at NewsBusters here            1\n",
              "46660  Read more at NewsBusters here            1\n",
              "46689  read more at NewsBusters here            1\n",
              "46734  read more at NewsBusters here            1\n",
              "46927  January 8, 2019 | 8:27 PM EST            1\n",
              "46934  January 9, 2019 | 8:05 AM EST            1\n",
              "46952  January 9, 2019 | 8:00 AM EST            1\n",
              "46953  January 9, 2019 | 4:15 PM EST            1\n",
              "46955  January 9, 2019 | 2:28 PM EST            1\n",
              "46956  January 9, 2019 | 9:16 AM EST            1\n",
              "46957  January 9, 2019 | 1:52 PM EST            1\n",
              "47024  read more at NewsBusters here            1\n",
              "47662    Copyright 2016 | DC Gazette            1"
            ]
          },
          "metadata": {
            "tags": []
          },
          "execution_count": 12
        }
      ]
    },
    {
      "cell_type": "code",
      "metadata": {
        "id": "UMUikG0udB3-"
      },
      "source": [
        "data_df.drop( data_df[data_df.content.str.len() < 30].index, inplace=True)"
      ],
      "execution_count": 13,
      "outputs": []
    },
    {
      "cell_type": "code",
      "metadata": {
        "id": "0DrxPfASeAHV",
        "outputId": "d021ad4c-d0c3-46da-aaf6-9af73f89505c",
        "colab": {
          "base_uri": "https://localhost:8080/",
          "height": 202
        }
      },
      "source": [
        "data_df.head()"
      ],
      "execution_count": 14,
      "outputs": [
        {
          "output_type": "execute_result",
          "data": {
            "text/html": [
              "<div>\n",
              "<style scoped>\n",
              "    .dataframe tbody tr th:only-of-type {\n",
              "        vertical-align: middle;\n",
              "    }\n",
              "\n",
              "    .dataframe tbody tr th {\n",
              "        vertical-align: top;\n",
              "    }\n",
              "\n",
              "    .dataframe thead th {\n",
              "        text-align: right;\n",
              "    }\n",
              "</style>\n",
              "<table border=\"1\" class=\"dataframe\">\n",
              "  <thead>\n",
              "    <tr style=\"text-align: right;\">\n",
              "      <th></th>\n",
              "      <th>id</th>\n",
              "      <th>date</th>\n",
              "      <th>source</th>\n",
              "      <th>title</th>\n",
              "      <th>content</th>\n",
              "      <th>author</th>\n",
              "      <th>url</th>\n",
              "      <th>published</th>\n",
              "      <th>published_utc</th>\n",
              "      <th>collection_utc</th>\n",
              "      <th>Reliability</th>\n",
              "    </tr>\n",
              "  </thead>\n",
              "  <tbody>\n",
              "    <tr>\n",
              "      <th>0</th>\n",
              "      <td>abcnews--2019-01-30--Who is Stacey Abrams the ...</td>\n",
              "      <td>2019-01-30</td>\n",
              "      <td>abcnews</td>\n",
              "      <td>Who is Stacey Abrams, the Democrat who will re...</td>\n",
              "      <td>Last November, Stacey Abrams, a Democrat who r...</td>\n",
              "      <td>Cheyenne Haslett</td>\n",
              "      <td>https://abcnews.go.com/Politics/stacey-abrams-...</td>\n",
              "      <td>2019-01-30 19:10:47+00:00</td>\n",
              "      <td>1548893447</td>\n",
              "      <td>1567550233</td>\n",
              "      <td>0</td>\n",
              "    </tr>\n",
              "    <tr>\n",
              "      <th>1</th>\n",
              "      <td>abcnews--2019-01-30--Ban government shutdowns ...</td>\n",
              "      <td>2019-01-30</td>\n",
              "      <td>abcnews</td>\n",
              "      <td>Ban government shutdowns? Some Republicans and...</td>\n",
              "      <td>As lawmakers scramble to negotiate a border se...</td>\n",
              "      <td>Benjamin Siegel,\\nTrish Turner\\n</td>\n",
              "      <td>https://abcnews.go.com/Politics/ban-government...</td>\n",
              "      <td>2019-01-30 17:29:04+00:00</td>\n",
              "      <td>1548887344</td>\n",
              "      <td>1567550233</td>\n",
              "      <td>0</td>\n",
              "    </tr>\n",
              "    <tr>\n",
              "      <th>2</th>\n",
              "      <td>abcnews--2019-01-30--Democrats renew push for ...</td>\n",
              "      <td>2019-01-30</td>\n",
              "      <td>abcnews</td>\n",
              "      <td>Democrats renew push for equal pay for equal work</td>\n",
              "      <td>Ten years after President Barack Obama signed ...</td>\n",
              "      <td>John Parkinson</td>\n",
              "      <td>https://abcnews.go.com/Politics/dems-renew-pus...</td>\n",
              "      <td>2019-01-30 21:35:45+00:00</td>\n",
              "      <td>1548902145</td>\n",
              "      <td>1567550233</td>\n",
              "      <td>0</td>\n",
              "    </tr>\n",
              "    <tr>\n",
              "      <th>3</th>\n",
              "      <td>abcnews--2019-01-30--Trump attacks intel chief...</td>\n",
              "      <td>2019-01-30</td>\n",
              "      <td>abcnews</td>\n",
              "      <td>Trump attacks intel chiefs after they contradi...</td>\n",
              "      <td>President Donald Trump on Wednesday declared \"...</td>\n",
              "      <td>Meridith Mcgraw</td>\n",
              "      <td>https://abcnews.go.com/Politics/trump-attacks-...</td>\n",
              "      <td>2019-01-30 17:03:40+00:00</td>\n",
              "      <td>1548885820</td>\n",
              "      <td>1567550233</td>\n",
              "      <td>0</td>\n",
              "    </tr>\n",
              "    <tr>\n",
              "      <th>4</th>\n",
              "      <td>abcnews--2019-01-30--Border security battle be...</td>\n",
              "      <td>2019-01-30</td>\n",
              "      <td>abcnews</td>\n",
              "      <td>Border security battle begins as Congress grap...</td>\n",
              "      <td>Republicans and Democrats on the exclusive com...</td>\n",
              "      <td>John Parkinson,\\nBenjamin Siegel\\n</td>\n",
              "      <td>https://abcnews.go.com/Politics/border-securit...</td>\n",
              "      <td>2019-01-30 15:09:47+00:00</td>\n",
              "      <td>1548878987</td>\n",
              "      <td>1567550233</td>\n",
              "      <td>0</td>\n",
              "    </tr>\n",
              "  </tbody>\n",
              "</table>\n",
              "</div>"
            ],
            "text/plain": [
              "                                                  id  ... Reliability\n",
              "0  abcnews--2019-01-30--Who is Stacey Abrams the ...  ...           0\n",
              "1  abcnews--2019-01-30--Ban government shutdowns ...  ...           0\n",
              "2  abcnews--2019-01-30--Democrats renew push for ...  ...           0\n",
              "3  abcnews--2019-01-30--Trump attacks intel chief...  ...           0\n",
              "4  abcnews--2019-01-30--Border security battle be...  ...           0\n",
              "\n",
              "[5 rows x 11 columns]"
            ]
          },
          "metadata": {
            "tags": []
          },
          "execution_count": 14
        }
      ]
    },
    {
      "cell_type": "code",
      "metadata": {
        "id": "OliuCEEZecq8"
      },
      "source": [
        "#Keep only content, Reliability as columns\n",
        "data_df = data_df.drop(['id','date','source','title','author','url','published','published_utc','collection_utc'],axis=1)"
      ],
      "execution_count": 15,
      "outputs": []
    },
    {
      "cell_type": "code",
      "metadata": {
        "id": "dz0MN3rChTiP",
        "outputId": "6bbd19f0-af4b-4467-98b8-8e4cbbc83777",
        "colab": {
          "base_uri": "https://localhost:8080/",
          "height": 202
        }
      },
      "source": [
        "data_df.head()"
      ],
      "execution_count": 16,
      "outputs": [
        {
          "output_type": "execute_result",
          "data": {
            "text/html": [
              "<div>\n",
              "<style scoped>\n",
              "    .dataframe tbody tr th:only-of-type {\n",
              "        vertical-align: middle;\n",
              "    }\n",
              "\n",
              "    .dataframe tbody tr th {\n",
              "        vertical-align: top;\n",
              "    }\n",
              "\n",
              "    .dataframe thead th {\n",
              "        text-align: right;\n",
              "    }\n",
              "</style>\n",
              "<table border=\"1\" class=\"dataframe\">\n",
              "  <thead>\n",
              "    <tr style=\"text-align: right;\">\n",
              "      <th></th>\n",
              "      <th>content</th>\n",
              "      <th>Reliability</th>\n",
              "    </tr>\n",
              "  </thead>\n",
              "  <tbody>\n",
              "    <tr>\n",
              "      <th>0</th>\n",
              "      <td>Last November, Stacey Abrams, a Democrat who r...</td>\n",
              "      <td>0</td>\n",
              "    </tr>\n",
              "    <tr>\n",
              "      <th>1</th>\n",
              "      <td>As lawmakers scramble to negotiate a border se...</td>\n",
              "      <td>0</td>\n",
              "    </tr>\n",
              "    <tr>\n",
              "      <th>2</th>\n",
              "      <td>Ten years after President Barack Obama signed ...</td>\n",
              "      <td>0</td>\n",
              "    </tr>\n",
              "    <tr>\n",
              "      <th>3</th>\n",
              "      <td>President Donald Trump on Wednesday declared \"...</td>\n",
              "      <td>0</td>\n",
              "    </tr>\n",
              "    <tr>\n",
              "      <th>4</th>\n",
              "      <td>Republicans and Democrats on the exclusive com...</td>\n",
              "      <td>0</td>\n",
              "    </tr>\n",
              "  </tbody>\n",
              "</table>\n",
              "</div>"
            ],
            "text/plain": [
              "                                             content  Reliability\n",
              "0  Last November, Stacey Abrams, a Democrat who r...            0\n",
              "1  As lawmakers scramble to negotiate a border se...            0\n",
              "2  Ten years after President Barack Obama signed ...            0\n",
              "3  President Donald Trump on Wednesday declared \"...            0\n",
              "4  Republicans and Democrats on the exclusive com...            0"
            ]
          },
          "metadata": {
            "tags": []
          },
          "execution_count": 16
        }
      ]
    },
    {
      "cell_type": "code",
      "metadata": {
        "id": "7X9m_klY4e4A"
      },
      "source": [
        "# split the dataset into training and validation datasets \n",
        "train_x, valid_x, train_y, valid_y = train_test_split(data_df['content'], data_df['Reliability'], test_size=0.20, random_state=42)"
      ],
      "execution_count": 17,
      "outputs": []
    },
    {
      "cell_type": "code",
      "metadata": {
        "id": "kXgA6bdBzhcG",
        "outputId": "21de4f98-da27-408b-f1a7-f040b7d4cfd5",
        "colab": {
          "base_uri": "https://localhost:8080/"
        }
      },
      "source": [
        "train_y.value_counts(), valid_y.value_counts()"
      ],
      "execution_count": 18,
      "outputs": [
        {
          "output_type": "execute_result",
          "data": {
            "text/plain": [
              "(0    35609\n",
              " 1    10023\n",
              " Name: Reliability, dtype: int64, 0    8869\n",
              " 1    2539\n",
              " Name: Reliability, dtype: int64)"
            ]
          },
          "metadata": {
            "tags": []
          },
          "execution_count": 18
        }
      ]
    },
    {
      "cell_type": "code",
      "metadata": {
        "id": "qJldBnpL3913"
      },
      "source": [
        "train_dataset = tf.data.Dataset.from_tensor_slices((train_x.values, train_y.values))\n",
        "test_dataset = tf.data.Dataset.from_tensor_slices((valid_x.values, valid_y.values))"
      ],
      "execution_count": 19,
      "outputs": []
    },
    {
      "cell_type": "code",
      "metadata": {
        "id": "kxVWMY9r4L_E",
        "outputId": "8c817d1c-e72d-444f-ad16-54196f4fe2cb",
        "colab": {
          "base_uri": "https://localhost:8080/"
        }
      },
      "source": [
        "for feat, targ in train_dataset.take(5):\n",
        "  print ('Features: {}, Target: {}'.format(feat, targ))"
      ],
      "execution_count": 20,
      "outputs": [
        {
          "output_type": "stream",
          "text": [
            "Features: b'Thousands of festival-goers at Glastonbury formed Extinction Rebellion\\'s hourglass symbol in a bid to draw attention to climate change issues.  The protest group joined forces with long-time event partner Greenpeace in a call to join a climate-climate rebellion.  The campaigners marched through Worthy Farm led by Extinction Rebellion\\'s pink \"Tell the Truth\" boat, which was last seen in London\\'s Oxford Circus when the group brought parts of the British capital to a standstill in April.  They called on ordinary people to join a youth strike planned for September, which they said aimed to force government and business to take the climate emergency seriously.  Activist Lizzy Haughton said while sitting in the middle of the symbol: \"I think people are finally beginning to realise that, in order to tackle the climate and ecological emergency, we are going to have to be radical.\"  Gail Bradbrook, Extinction Rebellion co-founder, said the demonstration had been made particularly memorable by the presence of leaders from indigenous communities worldwide, such as Ecuadorian shaman Kurikindi.  She said that she hoped all corners of the festival, which was in full swing on Thursday ahead of the start of the main performances on Friday, would heed the protesters\\' message.  \"I\\'m hoping they hear this prayer,\" she said. \"There\\'s limited juiciness in hedonistic indifference. There\\'s something better on offer.\"  The event, a collaboration between Extinction Rebellion and Greenpeace, began at the Park Stage with speeches from 4pm.  Crowds with placards and flags, accompanied by models of insects and other species, made their way to the Stone Circle.  There they formed a large human sculpture of an hourglass to symbolise extinction, with music by folk singer Nick Mulvey.  Temperatures at the Somerset site, which spans 900 acres, reached 26C by Thursday afternoon.  Many taking part in the march wore hats or held umbrellas to shield themselves from the sunshine, while others stripped off to sunbathe.  Forecasters have warned that tents could become uncomfortably hot on Thursday night, as aerial images revealed how Worthy Farm has been transformed into a temporary city of 200,000 people  Student Ruairi Brogan from Belfast attended the march with a group of friends  \"I followed the ER procession and we thought it was important to show our support and be part of something we felt would make a mark on Glastonbury and history,\" Mr Brogan said.  \"I think it will be remembered as the start of something, of change.\"  Ashleigh Hodges, 28, from London, came to the Stone Circle after having a hand-fasting ceremony with her partner at Glastonbury Festival.  \"I missed this protest in London because I was working away and I was gutted so when I heard it was happening here I wanted to come,\" she said.  \"It\\'s been so lovely and its nice to see everyone connected for the right reasons and pushing for beautiful things to happen.  \"Everyone wants to save the world - it\\'s a really lovely thing.\"  Daryl Haines, 21, said that going to a festival could make people realise they did not need plastic bottles or cutlery or to shower every day.  \"People need to be taught that we can change. I think people really were listening today.  \"I hope the image of people standing in the Extinction Rebellion sign will really get that message across.\"  On Sunday, Extinction Rebellion will also join forces with the Wisdom Keepers to hold a minute silence on the Pyramid Stage, in memory of Make Ecocide Law founder Polly Jenkins.  Extinction Rebellion also has set up a \\xe2\\x80\\x9cRebel Rebel\\xe2\\x80\\x9d tent in the Green Futures field for the weekend with a program of talks on the \\xe2\\x80\\x9cclimate emergency\\xe2\\x80\\x9d.  Dr Gail Bradbrook said before the event: \\xe2\\x80\\x9cThe climate emergency is the most dangerous threat currently facing all life on earth.\"  \\xe2\\x80\\x9cIt is also important to acknowledge the people who have been standing up for us and for our planet for years,\\xe2\\x80\\x9d she added.  Organisers said more than 100,000 ticket holders were on site by\\xc2\\xa08am\\xc2\\xa0on Thursday morning, slightly up on the same time in 2017 when the festival was last held.  The main stages open on Friday, when\\xc2\\xa0Lauryn\\xc2\\xa0Hill and George Ezra are due to play the Pyramid stage before first headliner British rapper\\xc2\\xa0Stormzy.', Target: 0\n",
            "Features: b'A long anticipated map of mobile phone coverage blackspots across the State has been published by the Commission for Communications Regulation (ComReg).  The map, which is available at comreg.ie, will allow phone users to quickly establish the level of coverage where they work or live and will help them make more informed choices based on predicted coverage availability in their area.  Phone users can search and zoom into particular areas or addresses using either eircodes or local addresses with the zoom function allowing people to narrow down their search of a selected location to 10x10 metres.  The map has been generated using data provided by the all the mobile network operators \\xe2\\x80\\x93 Eir, Three Ireland and Vodafone. It also includes data for the mobile virtual network operators 48, Lycamobile, Postmobile, Tesco Mobile and Virgin Media.  Customers using 48, Tesco, Lycamobile and Virgin should check the Three Network. Post Mobile customers should check the Vodafone Network.  It is set out in a colour-coded format with dark brown showing very good coverage through to beige which shows fringe coverage.  It shows signal strength for all mobile service providers ranging from very good, good, fair, fringe and no coverage. It also offers the ability to check 2G (Voice), 3G (Data and Voice) and 4G (Data and Voice) coverage.  ComReg said it would update the map on a regular basis to reflect changes in coverage as operators expand their networks. ComReg will also launch a mobile phone app for the coverage map in due course.  \\xe2\\x80\\x9cComReg\\xe2\\x80\\x99s mobile phone coverage map gives users independent and consistent information about the coverage they can expect from different mobile networks at different locations,\\xe2\\x80\\x9d said ComReg Commissioner Jeremy Godfrey.  \\xe2\\x80\\x9cWe all have different requirements for coverage, depending on where we live, work, study and spend our leisure time. The map will enable users to identify providers that can best meet their individual needs. It will also strengthen the competitive advantage that operators can gain from expanding their coverage\\xe2\\x80\\x9d.', Target: 0\n",
            "Features: b'ST. CLAIRSVILLE, Ohio \\xe2\\x80\\x94 One thing you learn traveling through the Upper Midwest is that the various components of the oil and gas industries \\xe2\\x80\\x94 the pipelines, the storage wells \\xe2\\x80\\x94 often have gorgeously evocative names: Mountain Valley, Falcon, Plains, Atlantic Sunrise. These names are a kind of beautification project, like trees planted to obscure a municipal dump. A plant in Pennsboro, W.Va., called Clearwater treats fracking wastewater,\\xc2\\xa0which can remain radioactive even after treatment.  Skyhawk is the soaring name given to a smoothed-over patch of gravel at 67657 Clark Road in St. Clairsville, Ohio. On an overcast day last spring, it was nothing but an empty enclosure surrounded by heavy plastic fencing the height of a two-story building. Soon, the emptiness would be filled by wells that shoot high-pressure water and\\xc2\\xa0chemicals\\xc2\\xa0into the ground, forcing up reservoirs of natural gas and other valuable compounds. Skyhawk is a fracking pad.  The effects of hydraulic fracturing \\xe2\\x80\\x94 as fracking is formally known \\xe2\\x80\\x94 on human health are not yet fully known, but what is known so far is\\xc2\\xa0not terribly encouraging. The process seems especially damaging to expectant mothers, as well as to young children, with a 2017 study linking pollution from fracking wells to\\xc2\\xa0poor brain development. Asthma is another possible problem. So is cancer.  Only a few feet from Skyhawk\\xe2\\x80\\x99s edge stood another building, a low structure, with an outdoor area enclosed by chicken-wire fencing. Inside the fencing some plastic toys were visible. The building is home to Creative Learning Daycare and Preschool.  \\xe2\\x80\\x9cThat wall isn\\xe2\\x80\\x99t going to stop s***,\\xe2\\x80\\x9d says Bev Reed, activist from the Concerned Ohio River Residents.  Fracking and its associated industries \\xe2\\x80\\x94 some of which are potentially more hazardous to human health than fracking itself \\xe2\\x80\\x94 have taken over Appalachia. A facility to handle fracking waste stands next to a school in Belmont, Ohio. A few miles away, on a ridge above town, a fracking well looms over an Amish homestead. Children play in its long, ominous shadow.  On Tuesday, President Trump will visit Monaca, Pa., to tout the next step in fracking\\xe2\\x80\\x99s takeover of West Virginia, eastern Ohio and western Pennsylvania. The president will be visiting a plastics plant now rising on the banks of the Ohio River. That plant, being built by Shell, is the most advanced facet of an even bigger project known as the Appalachian Storage Hub, or ASH. A \\xe2\\x80\\x9cpetrochemical supermarket,\\xe2\\x80\\x9d as supporters call it, ASH will graft an entirely new industry \\xe2\\x80\\x94 plastics \\xe2\\x80\\x94 on a landscape already crowded with fracking pads like Skyhawk, not to mention a spreading spiderweb of pipelines and refineries.  To be an environmental activist in Appalachia has never been easy. Perhaps it has never been harder than in the age of Trump. \\xe2\\x80\\x9cWe\\xe2\\x80\\x99re surrounded,\\xe2\\x80\\x9d concluded Reed, a taciturn woman in her 20s. She is a native of Bridgeport, a scrappy little settlement on the western bank of the Ohio River. There, she works at a bike shop that her father opened in 1973, during the oil crisis. The store, expertly curated, would not look out of place in some pristine San Francisco suburb. But you are not in California. On the hillside above Reed\\xe2\\x80\\x99s store, coal mine runoff trickling down the street was a disconcertingly bright orange, with streaks of equally disconcerting white.  Another activist, Ted Auch of the FracTracker Alliance, sent a drone whizzing into the air. Many cottage industries have thrived in Appalachia since fracking took hold here about a decade ago.\\xc2\\xa0One of them is prostitution. Another is the mapping of fracking infrastructure onto the landscape, which is typically done with drones because the enormity of the infrastructure is hard to otherwise grasp. The effort is noble but ultimately frustrating, like trying to track a runaway cancer in the final, deadly stages of metastasis.  The drone disappeared into the sky, returning a few minutes later with images of the fracking pad and, virtually right next to it, the preschool. From above, the two seemed even closer than they did from the ground.  People who are perturbed by the fracking revolution are routinely reminded that as late as 2011, when the housing crisis was over for much of the country, Belmont County was still struggling with nearly 12 percent unemployment. It is nearly half that now. Just down the road from the Skyhawk site is an oil and gas safety supply store. It is decorated with an American flag mural on which are superimposed two black derricks spewing oil.  The promise of ASH is tremendous: 100,000 jobs, supporters claim, along with brighter prospects for West Virginia, the poorest state in the nation, and its struggling neighbors, the counties of eastern Ohio and western Pennsylvania. In a clear sign of the project\\xe2\\x80\\x99s significance, the Chinese have agreed to invest $84 billion in West Virginia, a secretive arrangement that remains both tantalizing and unrealized.  Critics say that ASH is closer to Appalachia\\xe2\\x80\\x99s death knell than its savior, that it will devastate the region even more thoroughly than coal did in decades past. They argue that the promise of 100,000 jobs is wildly inflated, the product of an industry study meant to sell the government on the plan. And they say that in the rush to secure Chinese funding and start building, the Trump administration could be endangering the very people it has promised to save.  Another concern for critics of the plan is that it represents an investment in fossil fuels at a time when climate science says the country should be divesting from them. \\xe2\\x80\\x9cThe climate crisis is getting untenable,\\xe2\\x80\\x9d says Varshini Prakash, a founder of the Sunrise Movement, a\\xc2\\xa0climate change\\xc2\\xa0advocacy group, and architect of the\\xc2\\xa0Green New Deal, an ambitious plan sponsored by Rep. Alexandria Ocasio-Cortez, D-N.Y.  Politicians from the region are divided. West Virginia Sen. Joe Manchin, a Democrat, thinks ASH is exactly what Appalachia needs. Ohio Sen. Sherrod Brown, also a Democrat, pointed to the \\xe2\\x80\\x9cmany questions about this project\\xe2\\x80\\x9d in a circumspect statement to Yahoo News. \\xe2\\x80\\x9cIf President Trump wants to support Appalachia,\\xe2\\x80\\x9d Brown said, \\xe2\\x80\\x9che should invest in rural broadband, good roads and the Appalachian Regional Commission, and stop threatening to take away Ohioans\\xe2\\x80\\x99 health care.\\xe2\\x80\\x9d Yet he did not condemn ASH outright.  Not everyone is so ambiguous. One supporter of fracking and the associated petrochemical industry is Rep. Bill Johnson, a Republican who represents eastern Ohio. In a recent conversation at his Capitol Hill office, he imagined a scenario in which American \\xe2\\x80\\x9cenergy diplomacy\\xe2\\x80\\x9d would see liquified natural gas used to exert pressure on adversaries like North Korea and Iran.  \\xe2\\x80\\x9cWhy not get into that market?\\xe2\\x80\\x9d Johnson said of those two countries, and of Russia, all of which are currently under U.S. and international sanctions.  Trump recently boosted the project\\xe2\\x80\\x99s prospects with\\xc2\\xa0an executive order on \\xe2\\x80\\x9cpromoting energy infrastructure,\\xe2\\x80\\x9d\\xc2\\xa0which he signed on April 10. The order gave the Department of Energy six months to produce a report \\xe2\\x80\\x9cdescribing opportunities, through the Federal Government or otherwise, to promote economic growth of the Appalachian region, including growth of petrochemical and other industries.\\xe2\\x80\\x9d  This was regarded by energy analysts as an effort to speed up the hub\\xe2\\x80\\x99s construction. As one such analyst\\xc2\\xa0told industry news site Kallanish Energy, the Department of Energy \\xe2\\x80\\x9chas definitely been given its marching orders.\\xe2\\x80\\x9d And those orders are to make ASH a reality soon, especially with Ohio and Pennsylvania among the most coveted prizes in the 2020 presidential election.  The scope of ASH is difficult to describe and just as difficult to understate. While a \\xe2\\x80\\x9cstorage hub\\xe2\\x80\\x9d sounds like it might be something small and innocuous \\xe2\\x80\\x94 a windowless warehouse, gleaming steel tanks \\xe2\\x80\\x94 ASH is anything but. ASH will feed into six new \\xe2\\x80\\x9ccracker\\xe2\\x80\\x9d plants, immense factories that turn fracking byproducts called natural gas liquids (also called \\xe2\\x80\\x9cwet gas,\\xe2\\x80\\x9d and not to be confused with \\xe2\\x80\\x9cdry\\xe2\\x80\\x9d natural gas, fracking\\xe2\\x80\\x99s main product) into plastic pellets. Those pellets in turn become many of the plastic goods ubiquitous in Americans\\xe2\\x80\\x99 lives.  About 500 miles of pipeline would bring those natural gas liquids from the fracking fields of the Marcellus and Utica Shale plays to cracker plants like the one now rising in Monaca, the one Trump is slated to visit on Tuesday. Some of the liquids would be stored in facilities that could hold a total of 3 million barrels. The storage chambers will be adjacent to, or right under, the Ohio River, one of the largest waterways in the United States.  ASH will turn the Ohio River Valley into the epicenter of the American petrochemical industry, whose operations are closely tied to the well-established but still-expanding fracking sector. This is what Trump promised when he promised to save Appalachia, even if there are some in Appalachia who do not want to be saved, at least not on what will amount to an immense raft of cheap plastic.  St. Clairsville is in the very eastern part of Ohio, where West Virginia\\xe2\\x80\\x99s northern panhandle pushes like a wedge toward the Great Lakes, and where the hills and hollows of Appalachia start to smooth out into the plains of the Midwest. Donald Trump came here on June 28, 2016, when he had all but eliminated his competition to become the Republican nominee for president. He spoke on the campus of Ohio University Eastern, a few miles from the Skyhawk fracking pad. Near the campus sit the headquarters of the Murray Energy Corporation, an energy company whose founder, Bob Murray, was and remains\\xc2\\xa0a significant Trump supporter and adviser.  Hillary Clinton had committed one of her worst rhetorical mistakes of the campaign when she\\xc2\\xa0told CNN\\xc2\\xa0that she would put coal miners out of work (she intended to move them into the renewable-energy sector, but that context\\xc2\\xa0was quickly stripped away\\xc2\\xa0by Trump and some media outlets). Trump was going to do the opposite for these \\xe2\\x80\\x9camazing people,\\xe2\\x80\\x9d as he called them. He described traveling through New England and the Midwest. \\xe2\\x80\\x9cThere\\xe2\\x80\\x99s no expansion,\\xe2\\x80\\x9d he said. \\xe2\\x80\\x9cWe\\xe2\\x80\\x99re getting the hell beat out of us. And it\\xe2\\x80\\x99s gonna stop.\\xe2\\x80\\x9d  Almost three years later, Trump seems to be making good on his promise to the people of the Ohio River Valley, as the unceasing construction in the region visibly suggests. ASH represents his most audacious and conspicuous bid to beat back what he calls \\xe2\\x80\\x9cthe war on coal\\xe2\\x80\\x9d and keep fossil fuels at the center of the American economy.  ASH appears to have had its origins in 2015, not long before the Army Corps of Engineers division in Omaha, Neb.,\\xc2\\xa0announced details\\xc2\\xa0of a plan to install a pipeline across the Missouri River in North Dakota, on the edge of the Sioux reservation of Standing Rock. That pipeline, Dakota Access, became the target of a prolonged protest that attracted international attention.  At the same time, a project of significantly greater scope than Dakota Access was taking shape in Appalachia, virtually without any public protest. By the time objections to ASH started to receive attention, several years later, it would be nearly too late.  In October of that year, officials from West Virginia, Ohio and Pennsylvania convened for the first Tri-State Shale Summit. Their goal was to \\xe2\\x80\\x9cmarket the region to petrochemical and other industries that can use shale gas for manufacturing,\\xe2\\x80\\x9d as a report from energy-related news site StateImpact Pennsylvania put it. The boosterism was truly bipartisan: among the speakers, by video, was Tom Wolf, the new Democratic governor of Pennsylvania. Appalachia, still reeling from the divestment of coal, would be the virgin soil for the petrochemical industry, which has historically been based along the Gulf of Mexico.  Industry took notice. Shell announced that it was building a cracker plant in Monaca in July 2016. The following month, a trade publication called Natural Gas Intelligence wondered, \\xe2\\x80\\x9cCan a revived petrochemical industry in the Appalachian Basin actually compete with the more established juggernaut on the Gulf Coast? Will this spark development of a chemical and plastics hub?\\xe2\\x80\\x9d  Nobody seemed to be working harder to make that happen than Brian J. Anderson, former director of the Energy Institute at West Virginia University and an endowed professor in plastics manufacturing. The latter position is funded by General Electric. According to\\xc2\\xa0reporting by Steve Horn of the DeSmog blog, an environmental news site, Anderson had also once worked for the Appalachian Development Group, the very same concern that now stands to potentially receive the $1.9 billion loan from the federal Department of Energy.  Anderson provided the scientific justification for the project, even as he appeared to stand to potentially benefit from the project\\xe2\\x80\\x99s realization (Anderson refused repeated requests to comment for this article).\\xc2\\xa0In a 2017 presentation, he argued that Appalachia could renew its economic prospects by focusing on the liquids that are the byproducts of fracking. These were the feedstock of the plastics industry, and they were being shipped to the Gulf Coast, a costly and inefficient enterprise. Anderson argued that the fracking byproducts should stay in Appalachia.  Some of the figures Anderson used in the 2017 presentation came from the American Chemistry Council, a lobbying group for the petrochemical industry that\\xc2\\xa0has had several strong links to the Trump administration. That same year, the council published a report that claimed, in what would prove its most widely publicized conclusion, that ASH would add 100,000 permanent jobs in the region. It would also \\xe2\\x80\\x9cmaximize America\\xe2\\x80\\x99s domestic energy and manufacturing potential,\\xe2\\x80\\x9d according to a press release from the council.  The promise of 100,000 jobs \\xe2\\x80\\x94 repeated by Anderson and many in the Trump administration \\xe2\\x80\\x94 has been central to the argument for ASH and is used to override concerns about human and environmental health. Cancer may be a possibility, but poverty is real. And how else was Appalachia going to climb out of its long slide into destitution? That is the argument you frequently hear.  The seemingly impressive employment number comes from IMPLAN, an algorithmic tool that allows users to calculate the economic impact of a potential project. IMPLAN models are often deployed by supporters of new sports arenas and other developments that need to be sold to a potentially skeptical taxpaying public. The promise of jobs always does the trick.  And yet,\\xc2\\xa0critics like Stanford economist Roger Noll argue\\xc2\\xa0that the sports arenas and entertainment complexes never seem to create many jobs beyond construction and, once those inevitably wind down, low-wage service work of the kind already available elsewhere.  IMPLAN and similar models use simplified input-output tables that radically distort the benefit of every dollar spent,\\xc2\\xa0according to a critique\\xc2\\xa0of economic impact models by the John Locke Foundation. The model, this critique argues, ignores the very real possibility \\xe2\\x80\\x94 the opportunity cost \\xe2\\x80\\x94 of that very same dollar being better spent in some other, potentially more publicly beneficial fashion.The model by design exaggerates the benefits of a projects while minimizing the benefit of doing something else \\xe2\\x80\\x94 or even nothing at all.  The author of that analysis, Locke Foundation senior economist Roy Cordato, says IMPLAN is an inherently \\xe2\\x80\\x9cpolitical model,\\xe2\\x80\\x9d one that is \\xe2\\x80\\x9cbiased\\xe2\\x80\\x9d in favor of job creation. \\xe2\\x80\\x9cEveryone knows it\\xe2\\x80\\x99s good for special interests,\\xe2\\x80\\x9d he said. \\xe2\\x80\\x9cIt misses very fundamental questions of economics.\\xe2\\x80\\x9d  In other words, IMPLAN is inherently sunny, which is why it is beloved by developers. It always give them the answer they want.  Another critic, sports economist Donald A. Coffin, has called IMPLAN models \\xe2\\x80\\x9cwildly unreasonable\\xe2\\x80\\x9d because of the \\xe2\\x80\\x9cmultiplier effects\\xe2\\x80\\x9d they predict as huge, inevitable benefits, not the incremental gains they usually turn out to be. Coffin has called IMPLAN \\xe2\\x80\\x9ca \\xe2\\x80\\x98model\\xe2\\x80\\x99 designed to generate large impact numbers to please a client who wants to lobby someone.\\xe2\\x80\\x9d The American Chemistry Council was precisely such a lobby. The \\xe2\\x80\\x9csomeone\\xe2\\x80\\x9d it sought to influence included public officials all over Appalachia, as well as the Trump administration.  In an interview, American Chemistry Council economist Martha Moore said she wasn\\xe2\\x80\\x99t sure how the much-touted 100,000 figure came to be, since she was relying on the model\\xe2\\x80\\x99s algorithms. \\xe2\\x80\\x9cI just used what IMPLAN provided,\\xe2\\x80\\x9d Moore said, explaining that the program has a \\xe2\\x80\\x9chuge back end\\xe2\\x80\\x9d that does much of the work.  Even a cursory knowledge of how the petrochemical industry works makes clear how the 100,000 figure simply doesn\\xe2\\x80\\x99t hold. A fully operational cracker plant doesn\\xe2\\x80\\x99t employ more than 600 or so people, at least according to what has been reported about the Shell facility in Monaca. As for pipelines and storage caverns, they will need minimal human staffing once fully built. That means that, at the very most, ASH would create around 4,000 jobs, just a little more than\\xc2\\xa0two Amazon warehouses recently opened in Ohio.  Of course, to claim 100,000 jobs is immensely tantalizing. And if the figure isn\\xe2\\x80\\x99t credible, it at least has the veneer of credibility, which in the age of \\xe2\\x80\\x9calternative facts\\xe2\\x80\\x9d is more than enough. The claim is also politically expedient. The president is widely beloved in West Virginia, but he will need to win the more difficult states of Ohio and Pennsylvania in 2020 to remain in the White House for four more years. ASH has proven a potent means of steering money to those states.  In the summer of 2017, Trump traveled to China, where he signed an $84 billion memorandum of understanding, or MOU, with the Chinese focused on the Appalachian Storage Hub. The MOU would \\xe2\\x80\\x9cextend over a 20-year period, covering projects for power generation, chemical manufacturing and the underground storage of liquefied natural gas,\\xe2\\x80\\x9d according to\\xc2\\xa0a Reuters report\\xc2\\xa0based on a West Virginia Department of Commerce statement.  The nature of the understanding spelled out in the memorandum is unclear, because the administration has not made that memorandum public. As the president continues with his anti-China trade campaign, there have been suggestions that the deal might be off. It seems to be on for now, part of $250 billion in arrangements Trump has made with China, even as he has decried that nation\\xe2\\x80\\x99s increasing economic influence.  There are other sources of funds, of course. The Department of Energy\\xc2\\xa0announced it was considering $1.9 billion in loan guarantees for ASH. The money came from\\xc2\\xa0Title XVII, an Obama-era program that was intended for clean energy projects. Rick Perry, Trump\\xe2\\x80\\x99s energy secretary, has refashioned it to bolster an \\xe2\\x80\\x9call-of-the-above energy portfolio,\\xe2\\x80\\x9d code for supporting fossil fuels.  Rep. Ilhan Omar, D-Minn., meanwhile,\\xc2\\xa0has moved to stop that loan, which has not been definitely approved. Her amendment recently passed the House, but is unlikely to pass in a GOP-controlled Senate.  But while the Chinese investment \\xe2\\x80\\x94 which extends to projects beyond ASH \\xe2\\x80\\x94 isn\\xe2\\x80\\x99t necessary, it is highly coveted, and officials in West Virginia are getting impatient for the promised billions to finally arrive. Jim Justice, the Republican governor of West Virginia, and a close Trump ally,\\xc2\\xa0said in January\\xc2\\xa0that ASH is his \\xe2\\x80\\x9cNo. 1 economic focus.\\xe2\\x80\\x9d Since then, the project\\xe2\\x80\\x99s critics have only grown louder, attracting critical scrutiny from outlets like\\xc2\\xa0ProPublica\\xc2\\xa0and CNBC.  In testimony before Congress earlier this spring, Perry complained about the pace with which ASH was coming together. \\xe2\\x80\\x9cIt\\xe2\\x80\\x99s not happening as fast as I\\xe2\\x80\\x99d like to see it,\\xe2\\x80\\x9d the energy secretary admitted.  The executive order Trump signed this spring was supposed to put the project into overdrive. The report from the Department of Energy \\xe2\\x80\\x94 which will almost certainly conclude that the project is feasible, considering the department has been open to making loan guarantees toward its completion \\xe2\\x80\\x94 will arrive near the end of 2019, as Trump\\xe2\\x80\\x99s reelection campaign begins in earnest.  Still, the sense that things are taking too long remains. At a Senate hearing in July, Manchin of West Virginia said that ASH could augur a \\xe2\\x80\\x9crenaissance in the chemical industry\\xe2\\x80\\x9d \\xe2\\x80\\x94 if only it were ever built. He asked one of the witnesses, a Department of Energy official, for \\xe2\\x80\\x9cany type of an update.\\xe2\\x80\\x9d He looked and sounded anxious.  That official, Shawn Bennett, is a former fossil fuel lobbyist. He is now the deputy assistant for oil and natural gas at the Department of Energy. Bennett assured Manchin that he was \\xe2\\x80\\x9chard at work\\xe2\\x80\\x9d on Trump\\xe2\\x80\\x99s executive order, promising a report in August. When Manchin complained about Chinese influence on the project, Bennett wisely ignored it.  But even as officials in Ohio, Pennsylvania and West Virginia \\xe2\\x80\\x94 as well as in Washington, D.C.\\xe2\\x80\\x94 push for final approval of the sprawling project\\xe2\\x80\\x99s constituent parts, critics think they can halt ASH. Their central argument is that Trump\\xe2\\x80\\x99s bid to save Appalachia will only hasten its demise.  To see the future of the Ohio River Valley, it is useful to travel down another river: the Mississippi, in particular where it winds and wends between Baton Rouge, La., and New Orleans before emptying into the Gulf Coast. This is sometimes called the nation\\xe2\\x80\\x99s \\xe2\\x80\\x9cpetrochemical corridor\\xe2\\x80\\x9d for its impressively dense concentration of oil refineries and chemical plants. Environmentalists, and some locals, have a different name for the place: Cancer Alley.  Approaching New Orleans, vast contraptions of steel rise on either side of the road. Chimneys spew smoke; trucks raise dust. There is evidence of immense activity, but few people visible. Small towns sit squeezed between the plants: Willow Glen, White Castle. These are so-called fenceline communities, which like their counterparts in West Virginia directly experience the pollution wealthier people have the privilege of avoiding.  In a disconcerting juxtaposition, old plantation manors stud the industrial landscape, faded vestiges of a past that refuses to fade away. They have been superseded by factories, which like the plantations, are corporate enterprises where brutal toil benefits the few.  Yet supporters of the plans for Appalachia, like Mark W. Menezes, an undersecretary at the Department of Energy, point to this region as a model. \\xe2\\x80\\x9cWhen you talk to people down there, they\\xe2\\x80\\x99re so appreciate of the high-paying jobs,\\xe2\\x80\\x9d he said of the Gulf region. \\xe2\\x80\\x9cThey revitalize whole communities.\\xe2\\x80\\x9d  Environmental activists call such revitalization efforts bribes, and dangerous ones at that. As an example, they took me to a warehouse in Martins Ferry, Ohio, that stored and processed radioactive fracking waste. Almost right next door was a new field for the local high school football team.  \\xe2\\x80\\x9cTheir quality of life has never been higher,\\xe2\\x80\\x9d Menezes said of Louisiana. The state ranks No. 42 in quality of life,\\xc2\\xa0at least according to one survey. That\\xe2\\x80\\x99s not exactly spectacular, but Pennsylvania and West Virginia are both even lower. Menezes would like to change that. \\xe2\\x80\\x9cIt just makes perfect sense to develop it there,\\xe2\\x80\\x9d he says of ASH.  True to its name, Cancer Alley has some of the worst health outcomes in the United States. Last year, a study of the Louisiana Tumor Registry found significantly elevated cancer rates\\xc2\\xa0along various parts of Cancer Alley. People who live there have suspected as much for years, but cancer clusters are notoriously difficult to prove (people move, as do toxins, which muddles the lines of causation). Each plant seems to bring its own potential ill: the carcinogen glyphosate from a Monsanto plant in St. Charles Parish, the carcinogen chloroprene from a Denka plant in St. John the Baptist Parish.  However dire the public health crisis is here, it is overshadowed by the one in Appalachia. Even as cancer rates across the rest of the nation are falling, they are rising in rural Appalachia, according to\\xc2\\xa0a 2016 research paper by University of Virginia epidemiologists. The reasons for this are many, and they are complex. Poverty is foremost among them. But industry also has its role.  Aaron Yao, one of the scientists responsible for the 2016 paper, said he did not blame industry for the elevated cancer risks, but he also refused to exculpate it. Asked if he would live in Appalachia, the cancer scholar answered frankly: \\xe2\\x80\\x9cI would say no.\\xe2\\x80\\x9d  Cancer Valley is what activists have already begun calling the Ohio River Valley, where, ironically enough,\\xc2\\xa0American winemaking got its start in the early 19th century. There are still a few wineries in the hills above the river, but they are far outnumbered by fracking pads. Even without the full Appalachian Storage Hub, oil and gas have taken over the landscape. Pipelines look like enormous pythons as they run up and down the hills that have been stripped of vegetation.  Jill Antares Hunkler, a local activist who has been fighting ASH, remembered when, several years ago, her sister saw a Halliburton truck rolling through Barnesville, Ohio. She promptly began to cry. \\xe2\\x80\\x9cYou know you\\xe2\\x80\\x99re in trouble when you see Halliburton trucks in your tiny little town,\\xe2\\x80\\x9d Hunkler explained.  Hunkler, who is partly Native American, grew up in southeastern Ohio. In a reflective essay she shared with me, she calls herself \\xe2\\x80\\x9ca fracking refugee. My home at the headwaters of the historically pristine Captina Creek watershed is now surrounded by oil and gas wells \\xe2\\x80\\x94 78 within a five-mile radius,\\xe2\\x80\\x9d Hunkler writes.  \\xe2\\x80\\x9cI never imagined my quiet, country, healthy way of life would disappear.\\xe2\\x80\\x9d  If the Gulf Coast already has a petrochemical empire, why build another in the Ohio River Valley? Supporters dance around this issue, but the logic can be teased out of a 2018 report by the Department of Energy,\\xc2\\xa0which argued for the necessity of building ASH. The report cites the need for \\xe2\\x80\\x9cgeographic diversity of petrochemical supply, which would be able to supply markets in case of supply interruptions in other regions.\\xe2\\x80\\x9d A little later, the same report references \\xe2\\x80\\x9cdisruptions caused by hurricanes.\\xe2\\x80\\x9d  In other words, the petrochemical industry is worried about climate change, which makes storms more frequent, more ferocious and less predictable. Rep. Johnson, the eastern Ohio congressman, was blunt about this. \\xe2\\x80\\x9cImagine what would happen if a hurricane \\xe2\\x80\\x94 like a\\xc2\\xa0Hurricane Michael, a Category 5 \\xe2\\x80\\x94 were to come through there and take our refining, importing-exporting, processing capability,\\xe2\\x80\\x9d Johnson said. \\xe2\\x80\\x9cIt can have devastating effects on America\\xe2\\x80\\x99s economy.\\xe2\\x80\\x9d  But there is some evidence that Appalachia could prove unsuitable for a project of this scope and size. It is relatively easy to lay pipeline across the flatlands of Texas and Oklahoma, much harder to do so across the hills and valleys of Appalachia, where the ground is less stable. That instability combined with the combustibility of what flows through those pipes can be a dangerous combination.  Last September, Chuck Belczyk woke up to an enormous explosion somewhere outside his hilltop house on Ivy Lane in Center Township, Pa., outside of Pittsburgh. An orange fireball blossomed in his backyard. Belczyk, who works in aviation, thought a jet had crashed. But this was another type of accident: the explosion of the Revolution pipeline behind the Belczyks\\xe2\\x80\\x99 house.  \\xe2\\x80\\x9cThe fire shot up 150 feet in the air, damaged power lines, and sent neighbors scrambling out of their homes,\\xe2\\x80\\x9d\\xc2\\xa0a report said at the time. Twenty-five homes had to be evacuated. Many months later, the hilltop remains scorched, the scar on the land visible from far away.  To keep the land under the pipelines from eroding, pipeline companies have been dusting the ground with pellets of EarthGuard, which is meant to stabilize soil. However,\\xc2\\xa0the pellets also contain acrylamide, a known human carcinogen.  It is not clear that storing natural gas liquids under the Ohio River is a good idea, either. The Ohio is\\xc2\\xa0already known as the nation\\xe2\\x80\\x99s dirtiest river, even as it provides drinking water to some 5 million people in the area, including to the residents of Cincinnati. The natural gas liquids would be stored in salt caverns along the river\\xe2\\x80\\x99s banks. The method, which is not new, is not quite as foolproof as supporters claim. Seven years ago, a salt cavern collapsed in Bayou Corne, La.,\\xc2\\xa0opening up a massive sinkhole that has effectively swallowed up the town. It was quickly discovered that\\xc2\\xa012 other salt caverns across Louisiana\\xc2\\xa0also had walls that were in danger of collapse.  Nobody wants cancer clusters and sinkholes; neither, however, do local communities want unemployment and rampant opioid addiction. But there are real questions about whether the Appalachian Storage Hub can fulfill the promises Trump and others have made to people in Ohio, West Virginia and Pennsylvania.  For one, a petrochemical industry in Appalachia only makes sense if the fracking industry remains as robust as it has been. It may, especially if it continues to receive support from a Republican Party eager to maintain a hold on the Upper Midwest. The irony of Trump\\xe2\\x80\\x99s \\xe2\\x80\\x9cenergy independence\\xe2\\x80\\x9d stance is that it makes the United States ever more dependent on fossil fuels.  Another irony is that, much as Trump derided \\xe2\\x80\\x9chedge fund guys\\xe2\\x80\\x9d during his presidential campaign for making money without adding value, the fracking industry has been propped up by financial speculators. Last year,\\xc2\\xa0an analysis for the Financial Times\\xc2\\xa0described fracking as \\xe2\\x80\\x9ca debt-fuelled pursuit of growth at any price,\\xe2\\x80\\x9d which sounded rather like a description of the U.S. housing market right before it collapsed in 2007 and \\xe2\\x80\\x9908.  And then there\\xe2\\x80\\x99s the plastics industry. Supporters of ASH and its associated project talk about petrochemicals, generally downplaying that the end product of their efforts will be more plastic, whose use is facing increasing opposition. According to Carroll Muffett of the Center for International Environmental Law, plastics will account for 56 gigatons of carbon emissions in the next 30 years. \\xe2\\x80\\x9cThe plastics crisis is a climate crisis hiding in plain sight,\\xe2\\x80\\x9d\\xc2\\xa0he recently told NPR.  That view is becoming consensus. One hundred twenty-seven countries\\xc2\\xa0have moved to regulate single-use plastic\\xc2\\xa0of the kind that would be churned out of Appalachia. Even Russia, where environmental regulation is infamously nonexistent,\\xc2\\xa0is considering banning plastic bags, while across the United States, plastic straws are becoming the new cigarettes a movement against plastics is building.  Johnson, the congressional representative from eastern Ohio, dismissed these concerns, estimating that support for ASH in his district runs as high as 90 percent, if not higher. He dismissed those who don\\xe2\\x80\\x99t support the project as agitators from somewhere else. \\xe2\\x80\\x9cIn many, many cases, when protesters show up, they\\xe2\\x80\\x99re not from our state, they\\xe2\\x80\\x99re not from our communities,\\xe2\\x80\\x9d he said.  Dustin White\\xe2\\x80\\x99s family has been in West Virginia for 11 generations. On his mother\\xe2\\x80\\x99s side, he is a descendant of John Cooke, who fought in the Revolutionary War and later became, with his wife, Nellie, the first European settler in what would come to be Wyoming County, in the southwestern part of West Virginia.  \\xe2\\x80\\x9cI grew up with a family of coal miners,\\xe2\\x80\\x9d White said. \\xe2\\x80\\x9cMost of the men in my direct family line have, at some point, worked in the industry.\\xe2\\x80\\x9d He estimates that that has been the case for the last five or six generations. And it was a tradition that ended with him.  White\\xe2\\x80\\x99s father gave his life to the Eastern Associated Coal mine. Coal broke his father, even as it sustained his family. \\xe2\\x80\\x9cIf it didn\\xe2\\x80\\x99t make you sick, it would cripple you,\\xe2\\x80\\x9d White says. His father died at 65 from bladder cancer,\\xc2\\xa0a common affliction for those who work in the coal industry. White had promised his father that he would graduate from college, which he did. But he did not want to leave West Virginia, returning home after finishing school. He became an activist only after a coal mining company tried to remove an ancestral cemetery on Cooke Mountain (the clash of funereal and corporate concerns\\xc2\\xa0is common in West Virginia).  During the fight to save the cemetery \\xe2\\x80\\x94 which was successful \\xe2\\x80\\x94 White and his mother took a helicopter trip over West Virginia\\xe2\\x80\\x99s coal country. The mountaintop mines looked like \\xe2\\x80\\x9cbig cancer clusters on the land,\\xe2\\x80\\x9d White recalls. Looking momentarily away from the scene, he saw that his mother, sitting next to him, was crying. \\xe2\\x80\\x9cI can no longer support this industry,\\xe2\\x80\\x9d he concluded. \\xe2\\x80\\x9cI\\xe2\\x80\\x99ve got to fight it.\\xe2\\x80\\x9d  In March, White and another Ohio Valley Environmental Coalition activist, Alex Cole, attending a meeting in New Martinsville, W.Va. On the agenda was an air quality permit for a chemical plant in nearby Natrium. Although the plant did not technically belong to the Appalachian Storage Hub, it was part of the broader petrochemical family the activists want to expel.  White had posted about the meeting on Facebook and hoped for a strong showing from activists. But when they showed up in the New Martinsville municipal chambers where the meeting was to be held, the room was virtually empty. A handful of public officials sat facing rows of unoccupied chairs. A projector was propped up on a board game.  Joe Kessler, a state air quality engineer, went through his presentation. The corporation had filed all the necessary paperwork. That paperwork had been vetted by the state. The whole thing was a done deal, and there was nothing he could do. Kessler spoke efficiently and without emotion. Perhaps everyone could still make it home in time for dinner.  There was time for public comment. \\xe2\\x80\\x9cPlease do not approve this permit,\\xe2\\x80\\x9d White said. Cole also spoke, concluding his remarks with a disgusted wave of the hand at the public officials. An older man, a local gadfly, then stood and began to rail against in what seemed like a hopeful development for the activists. But his argument was with a seemingly minor procedural matter of the hearing \\xe2\\x80\\x94 he thought the hearing had strayed from its published agenda \\xe2\\x80\\x94 not with the content itself. The public officials were used to this. They let the graying objector have his say, and the matter was concluded. The project would move forward.  \\xe2\\x80\\x9cI was really hoping we\\xe2\\x80\\x99d have more folks here,\\xe2\\x80\\x9d White said after the meeting adjourned. \\xe2\\x80\\x9cI\\xe2\\x80\\x99m very disappointed.\\xe2\\x80\\x9d At the same time, he did not fault people for not wanting to spend a spring evening listening about air quality permits. He understood why, when some people heard about the Appalachian Storage Hub, they wondered what the big deal was. Some people thought cracker plants made Saltines.  Later, at an outdoor bar, the two vented, as one does over beer. The beer was local, artisanal. The bar that purveyed those beers would not have been out of place in Brooklyn or any other place where young people with money congregate, but it seemed out of place here, in West Virginia, which is\\xc2\\xa0only one of two states\\xc2\\xa0that have seen a total population decline in the last decade. The other is Michigan. These states represent the 20th century economy, the economy that built the middle class but then steadily sputtered out. Trump won both.  West Virginia has increasingly marketed itself as a tourist destination. Driving there, you could see why. You could see how, in another world, West Virginia would have a Napa and Sonoma of its own, while Northern California would have coal mines and petrochemical refineries.  West Virginia was just recovering from coal and here was another industry, arriving from out of state, coming with promises, and leaving the mess for future generations to clean up. There was disgust in Cole\\xe2\\x80\\x99s voice as he spoke about the storage hub, and also resignation.  \\xe2\\x80\\x9cWhat a stupid place to put this thing,\\xe2\\x80\\x9d he said.  This article has been updated to more accurately reflect Rep. Johnson\\xe2\\x80\\x99s comments on energy diplomacy.  Download the Yahoo News app to customize your experience.', Target: 0\n",
            "Features: b'KHARTOUM, Sudan (AP) \\xe2\\x80\\x94 Sudan\\xe2\\x80\\x99s protesters are threatening a civil disobedience campaign if the ruling military refuses to hand over power to civilians.  The threat comes after a two-day strike meant to pressure the military showed no tangible effects.  The coalition representing the protesters and opposition groups \\xe2\\x80\\x94 known as Forces for the Declaration of Freedom and Change \\xe2\\x80\\x94 claims the strike was a success.  It also chastised the security forces for intimidating the strikers by firing warning shots. Gunfire killed a female street vendor late on Wednesday.  Saddiq Farouk, head of the Sudanese Professional Association that\\xe2\\x80\\x99s been behind the protests that drove longtime ruler Omar al-Bashir from power last month, said the military\\xe2\\x80\\x99s stand would lead to \\xe2\\x80\\x9cmore escalation.\\xe2\\x80\\x9d  Negotiations between the protesters and the military about the handover of power have stalled.', Target: 0\n",
            "Features: b'Claudio Ranieri has warned Fulham it is crucial they to sign an experienced defender and \\xe2\\x80\\x9ca leader\\xe2\\x80\\x9d during the January window as they targets a move for Gary Cahill.  Fulham want to sign Cahill from Chelsea and the Blues are willing to let the 32-year-old leave this month.  \\xe2\\x80\\x9cI need somebody who can help us,\\xe2\\x80\\x9d said Ranieri. \\xe2\\x80\\x9cWe have a very good team but without experience. We need somebody who has experience, is a leader, has good character, personality and then we can improve our team.\\xe2\\x80\\x9d  Fulham\\xe2\\x80\\x99s need for a new centre has intensified because Alfie Mawson is set for a spell out with a knee injury. Mawson is still being assessed by Fulham before they put a timescale on when he will be able to return.  Ranieri has warned Fulham they must sign reinforcements this month if they are to get out of trouble and avoid relegation in the Premier League.  \\xe2\\x80\\x9cWe have to bring somebody to survive,\\xe2\\x80\\x9d said the Italian, speaking ahead of Saturday\\xe2\\x80\\x99s crunch trip to Burnley. \\xe2\\x80\\x9cIt would be a very good boost for all of my players.  \"We are looking in every direction and we will see what happens. The transfer market is open and we are ready to take something that can help Fulham.\"  Ranieri also confirmed that Timothy Fosu-Mensah is set to return to Manchester United with Fulham set to cut short his loan deal at Craven Cottage.', Target: 0\n"
          ],
          "name": "stdout"
        }
      ]
    },
    {
      "cell_type": "code",
      "metadata": {
        "id": "s6fYR3fP4QTe"
      },
      "source": [
        "BUFFER_SIZE = 10000\n",
        "BATCH_SIZE = 64"
      ],
      "execution_count": 21,
      "outputs": []
    },
    {
      "cell_type": "code",
      "metadata": {
        "id": "eDsGt1JfhVOD"
      },
      "source": [
        "train_dataset = train_dataset.shuffle(BUFFER_SIZE).batch(BATCH_SIZE).prefetch(tf.data.experimental.AUTOTUNE)\n",
        "test_dataset = test_dataset.batch(BATCH_SIZE).prefetch(tf.data.experimental.AUTOTUNE)"
      ],
      "execution_count": 22,
      "outputs": []
    },
    {
      "cell_type": "code",
      "metadata": {
        "id": "DfNe4pP76FkY",
        "outputId": "5d14d117-5cd7-40a7-fe84-c8520d82390e",
        "colab": {
          "base_uri": "https://localhost:8080/"
        }
      },
      "source": [
        "for example, label in train_dataset.take(1):\n",
        "  print('texts: ', example.numpy()[:3])\n",
        "  print()\n",
        "  print('labels: ', label.numpy()[:3])"
      ],
      "execution_count": 23,
      "outputs": [
        {
          "output_type": "stream",
          "text": [
            "texts:  [b'If you\\xe2\\x80\\x99ve been following Peter Schiff for his prediction of the 2008 financial collapse or strictly because of his affinity for gold, then you\\xe2\\x80\\x99re probably aware that he is not a fan of Bitcoin, but would he be interested in gold-backed smart contracts?  The United States Federal Reserve cut interest rates by another quarter-point on Sept. 18 following the European Central Bank\\xe2\\x80\\x99s Sept. 12 announcement on its negative interest rates and decision to re-introduce quantitative easing. With negative-yielding bonds looking like a shaky refuge from the storm looming on the horizon, prominent investors such as Ray Dalio, Paul Tudor Jones and Stan Druckenmiller have been suggesting gold as a safe haven from what has been called a world war of currencies, with China and Russia appearing particularly keen to weaken the U.S. dollar\\xe2\\x80\\x99s political hegemony.  Meanwhile, central banks around the world have been on the largest gold-buying spree since Nixon took the dollar off the gold standard in 1971 \\xe2\\x80\\x94 but what about everyone else? How does one go about purchasing gold?  Although the easiest way to invest in gold today is through gold futures, exchange-traded funds or mining stocks, gold is usually bought under the assumption that it will act as a hedge against broad economic instability. If the institution that is trading or issuing these contracts becomes insolvent (such as Bear Stearns during the 2008 financial crisis), the value of their investors\\xe2\\x80\\x99 gold contracts subsequently disappears.  Many financial advisors suggest purchasing gold bullion instead of so-called \\xe2\\x80\\x9cpaper\\xe2\\x80\\x9d gold because the physical metal itself is not inextricably tied to the financial system. However, owning gold bullion comes with its fair share of inconveniences: physical gold is bulky and cumbersome, it\\xe2\\x80\\x99s not easily divisible nor is it easy to transport. The insurance required for transport is expensive and so are the costs of transforming a kilo of gold into smaller, more liquid chunks. In addition, many people do not want to store large quantities of gold at home, which results in having to find a vault or custodian that is trustworthy.  How do you know that the gold held in a vault is real and not counterfeit and that the people managing your gold aren\\xe2\\x80\\x99t exploiting their contract? It\\xe2\\x80\\x99s no one\\xe2\\x80\\x99s liability, as there\\xe2\\x80\\x99s no centralized authority for gold. If you take your gold to someone for appraisal, you really have to trust them not to swap your coins or undervalue them like with JPMorgan\\xe2\\x80\\x99s precious metals desk, or when we learned that there are millions of dollars in counterfeit gold circulating, some of which was also found in JPMorgan\\xe2\\x80\\x99s vaults.  While blockchain technology has been touted as a panacea for problems that are outside of its scope, transparent accounting for contracts is one function that it performs to a tee. PAX Gold (PAXG) \\xe2\\x80\\x94 recently cleared by New York\\xe2\\x80\\x99s Department of Financial Services \\xe2\\x80\\x94 as well as Digix Gold Tokens (DIGX) from Singapore and OneGram (OGC) are all digital representations of gold that is tied to physical gold optionally held by a bank or third party, but the record of gold ownership will always show how much an individual owns, and that cannot be negated.  \\xe2\\x80\\x94 first, a bullion exchange or mint certifies that a piece of gold held in its vault has a guaranteed purity of 99.9%. This certificate is then insured against the plethora of damages or liabilities that could ensue (such as being counterfeit), virtually guaranteeing that the certified value of gold will be backed in the event of any unforeseen events. These assurances are then programmed into a smart contract that is published on a public digital ledger. Since this process is encoded and executed using cryptography, the contents of the agreement remain private, thereby enabling the owner to independently verify and prove their legal title to ownership using public internet infrastructure without disclosing their personal information.  Instead of representing gold as a derivative, a gold smart contract is, in effect, a digital legally-bound title. By using a public network, a tangible asset like gold becomes untethered from its physical constraints and can enjoy the versatility afforded by digital assets such as being movable, divisible and tradeable with drastically less overhead. If a customer wanted to retrieve their physical gold bars or coins, they simply present their proof of title (using their private cryptographic keys) at the institution that is holding their gold, such as a bullion exchange or mint.  The marriage of blockchain technology\\xe2\\x80\\x99s open truthfulness with gold\\xe2\\x80\\x99s alluring scarcity makes for a highly transparent, secure and liquid financial instrument with which to hedge against currency depreciation, allowing average consumers and retail investors to hold onto the value of their savings. Going out and finding a buyer for physical gold can be arduous and time-consuming, but tokenizing gold under a legal smart contract increases its portability, giving the vendor immediate access to a worldwide market, which drastically increases its liquidity.  By leveraging blockchain technology, gold can be traded on cryptocurrency exchanges, opening new markets for the gold industry. As precious metals and cryptocurrencies share a common vision of hard money, the synthesis of these markets has the potential to create a powerful economic counter-force should currency devaluation continue unabated.'\n",
            " b'President Donald Trump said it was news to him that his former campaign chairman Paul Manafort was sharing campaign polling data with a Russian associate during the 2016 campaign.  \\xe2\\x80\\x9cI didn\\xe2\\x80\\x99t know anything about that,\\xe2\\x80\\x9d he said Thursday to assembled reporters before leaving for his border trip.'\n",
            " b'Today, the youngest member of the British Royal Family, Archie Harrison Mountbatten-Windsor was christened in an intimate ceremony in Windsor.  In the official images released by the Duke and Duchess of Sussex, their two-month-old son is seen dressed in the same christening outfit his cousins Prince George, Princess Charlotte and Prince Louis wore before him.  The ceremony was held in the Private Chapel at Windsor Castle today, and the Duchess of Cambridge was spotted wearing this season\\'s biggest accessory: a headband.  Kate\\'s always-lush locks were held in place by a satin-looking red headband, matching her red Gianvito Rossi pumps and offset by her diamond and pearl drop earrings from Collingwood jewellers . The Duchess also debuted another trend by clashing her red accessories with a pink Stella McCartney dress - the same dress she wore to the Queen\\'s 2018 Christmas lunch.  The Duchess of Sussex looked radiant in the official images released, holding Archie on a plush green velvet sofa wearing a bespoke white Dior dress, nude Dior pumps, Cartier earrings and a matching white fascinator.  Meghan wore her hair in a low chignon while Kate stuck to her signature loose waves.  In a statement released accompanying the Sussex\\'s Instagram post, they said: \"This morning, The Duke and Duchess of Sussex\\xe2\\x80\\x99s son, Archie Harrison Mountbatten-Windsor was christened in the Private Chapel at Windsor Castle at an intimate service officiated by the Archbishop of Canterbury, Justin Welby.  \"The Duke and Duchess of Sussex are so happy to share the joy of this day with members of the public who have been incredibly supportive since the birth of their son. They thank you for your kindness in welcoming their first born and celebrating this special moment.  \"Their Royal Highnesses feel fortunate to have enjoyed this day with family and the godparents of Archie.  \"Their son, Archie, was baptised wearing the handmade replica of the royal christening gown which has been worn by royal infants for the last 11 years. The original Royal Christening Robe, made of fine Honiton lace lined with white satin, was commissioned by Queen Victoria in 1841 and first worn by her eldest daughter. It was subsequently worn for generations of Royal christenings, including The Queen, her children and her grandchildren until 2004, when The Queen commissioned this handmade replica, in order for the fragile historic outfit to be preserved, and for the tradition to continue.\"  The official portrait also includes the Duke and Duchess of Cornwall, Meghan\\'s mother Doria Ragland in a stunning peach dress, coat and matching hairpiece, alongside Lady Sarah McCorquodale and Lady Jane Fellowes.']\n",
            "\n",
            "labels:  [1 0 0]\n"
          ],
          "name": "stdout"
        }
      ]
    },
    {
      "cell_type": "markdown",
      "metadata": {
        "id": "_PSKNqtaiq1Y"
      },
      "source": [
        "**Create the text encoder**"
      ]
    },
    {
      "cell_type": "code",
      "metadata": {
        "id": "Pi8fZwPXjA1P"
      },
      "source": [
        "VOCAB_SIZE=1000\n",
        "encoder = tf.keras.layers.experimental.preprocessing.TextVectorization(\n",
        "    max_tokens=VOCAB_SIZE)\n",
        "encoder.adapt(train_dataset.map(lambda text, label: text))"
      ],
      "execution_count": 24,
      "outputs": []
    },
    {
      "cell_type": "markdown",
      "metadata": {
        "id": "f9VCxRz3llqy"
      },
      "source": [
        "The .adapt method sets the layer's vocabulary. Here are the first 20 tokens. After the padding and unknown tokens they're sorted by frequency:"
      ]
    },
    {
      "cell_type": "code",
      "metadata": {
        "id": "OALVdLVxlW4e",
        "outputId": "1039c44b-fd30-4567-e2fe-425836b88973",
        "colab": {
          "base_uri": "https://localhost:8080/"
        }
      },
      "source": [
        "vocab = np.array(encoder.get_vocabulary())\n",
        "vocab[:20]"
      ],
      "execution_count": 25,
      "outputs": [
        {
          "output_type": "execute_result",
          "data": {
            "text/plain": [
              "array(['', '[UNK]', 'the', 'to', 'of', 'and', 'a', 'in', 'that', 'for',\n",
              "       'is', 'on', 'with', 'was', 'it', 'as', 'he', 'said', 'at', 'be'],\n",
              "      dtype='<U14')"
            ]
          },
          "metadata": {
            "tags": []
          },
          "execution_count": 25
        }
      ]
    },
    {
      "cell_type": "markdown",
      "metadata": {
        "id": "tHjLhmenl6w4"
      },
      "source": [
        "Once the vocabulary is set, the layer can encode text into indices. The tensors of indices are 0-padded to the longest sequence in the batch (unless you set a fixed output_sequence_length):"
      ]
    },
    {
      "cell_type": "code",
      "metadata": {
        "id": "wgz7O-WVl7a2",
        "outputId": "425d1d14-94d4-4000-a464-79e6e10de8c9",
        "colab": {
          "base_uri": "https://localhost:8080/"
        }
      },
      "source": [
        "encoded_example = encoder(train_x.to_list()[1])[:3].numpy()\n",
        "encoded_example"
      ],
      "execution_count": 26,
      "outputs": [
        {
          "output_type": "execute_result",
          "data": {
            "text/plain": [
              "array([  6, 203,   1])"
            ]
          },
          "metadata": {
            "tags": []
          },
          "execution_count": 26
        }
      ]
    },
    {
      "cell_type": "code",
      "metadata": {
        "id": "r_1vHL7nl-Jy"
      },
      "source": [
        "model = tf.keras.Sequential([\n",
        "    encoder,\n",
        "    tf.keras.layers.Embedding(\n",
        "        input_dim=len(encoder.get_vocabulary()),\n",
        "        output_dim=64,\n",
        "        # Use masking to handle the variable sequence lengths\n",
        "        mask_zero=True),\n",
        "    tf.keras.layers.Bidirectional(tf.keras.layers.LSTM(64)),\n",
        "    tf.keras.layers.Dense(64, activation='relu'),\n",
        "    tf.keras.layers.Dense(1)\n",
        "])"
      ],
      "execution_count": 27,
      "outputs": []
    },
    {
      "cell_type": "code",
      "metadata": {
        "id": "v68mAufw8_VB"
      },
      "source": [
        ""
      ],
      "execution_count": 27,
      "outputs": []
    },
    {
      "cell_type": "code",
      "metadata": {
        "id": "kxPWgWzu6i0b",
        "outputId": "7d8656ca-5269-4cda-e42b-7782c9d692bc",
        "colab": {
          "base_uri": "https://localhost:8080/"
        }
      },
      "source": [
        "print([layer.supports_masking for layer in model.layers])"
      ],
      "execution_count": 28,
      "outputs": [
        {
          "output_type": "stream",
          "text": [
            "[False, True, True, True, True]\n"
          ],
          "name": "stdout"
        }
      ]
    },
    {
      "cell_type": "code",
      "metadata": {
        "id": "nAwHmPFM6rpS"
      },
      "source": [
        "model.compile(loss=tf.keras.losses.BinaryCrossentropy(from_logits=True),\n",
        "              optimizer=tf.keras.optimizers.Adam(1e-4),\n",
        "              metrics=['accuracy', tfa.metrics.F1Score(num_classes=2, average=\"micro\", threshold=0.5 )])"
      ],
      "execution_count": 50,
      "outputs": []
    },
    {
      "cell_type": "code",
      "metadata": {
        "id": "qwTd3YL79GBi"
      },
      "source": [
        ""
      ],
      "execution_count": 50,
      "outputs": []
    },
    {
      "cell_type": "code",
      "metadata": {
        "id": "zVrzxto9mfQ6",
        "outputId": "90ee5df3-44a2-4d06-c8d3-fc982b135ff3",
        "colab": {
          "base_uri": "https://localhost:8080/"
        }
      },
      "source": [
        "history = model.fit(train_dataset, epochs=10,\n",
        "                    validation_data=test_dataset, \n",
        "                    validation_steps=30)"
      ],
      "execution_count": 52,
      "outputs": [
        {
          "output_type": "stream",
          "text": [
            "Epoch 1/10\n",
            "713/713 [==============================] - 167s 234ms/step - loss: 0.2868 - accuracy: 0.8789 - f1_score: 0.6597 - val_loss: 0.2964 - val_accuracy: 0.8740 - val_f1_score: 0.6533\n",
            "Epoch 2/10\n",
            "713/713 [==============================] - 167s 234ms/step - loss: 0.2785 - accuracy: 0.8824 - f1_score: 0.6747 - val_loss: 0.3041 - val_accuracy: 0.8854 - val_f1_score: 0.7179\n",
            "Epoch 3/10\n",
            "713/713 [==============================] - 165s 232ms/step - loss: 0.2734 - accuracy: 0.8864 - f1_score: 0.6872 - val_loss: 0.2962 - val_accuracy: 0.8844 - val_f1_score: 0.7094\n",
            "Epoch 4/10\n",
            "713/713 [==============================] - 170s 238ms/step - loss: 0.2676 - accuracy: 0.8872 - f1_score: 0.6893 - val_loss: 0.2956 - val_accuracy: 0.8854 - val_f1_score: 0.7150\n",
            "Epoch 5/10\n",
            "713/713 [==============================] - 170s 238ms/step - loss: 0.2630 - accuracy: 0.8899 - f1_score: 0.6981 - val_loss: 0.2887 - val_accuracy: 0.8885 - val_f1_score: 0.7060\n",
            "Epoch 6/10\n",
            "713/713 [==============================] - 169s 238ms/step - loss: 0.2583 - accuracy: 0.8928 - f1_score: 0.7071 - val_loss: 0.2854 - val_accuracy: 0.8880 - val_f1_score: 0.7099\n",
            "Epoch 7/10\n",
            "713/713 [==============================] - 171s 239ms/step - loss: 0.2531 - accuracy: 0.8955 - f1_score: 0.7159 - val_loss: 0.2858 - val_accuracy: 0.8906 - val_f1_score: 0.7258\n",
            "Epoch 8/10\n",
            "713/713 [==============================] - 171s 240ms/step - loss: 0.2492 - accuracy: 0.8971 - f1_score: 0.7218 - val_loss: 0.2811 - val_accuracy: 0.8859 - val_f1_score: 0.6988\n",
            "Epoch 9/10\n",
            "713/713 [==============================] - 172s 241ms/step - loss: 0.2452 - accuracy: 0.8997 - f1_score: 0.7298 - val_loss: 0.2833 - val_accuracy: 0.8818 - val_f1_score: 0.6743\n",
            "Epoch 10/10\n",
            "713/713 [==============================] - 168s 236ms/step - loss: 0.2423 - accuracy: 0.9004 - f1_score: 0.7320 - val_loss: 0.2867 - val_accuracy: 0.8870 - val_f1_score: 0.7126\n"
          ],
          "name": "stdout"
        }
      ]
    },
    {
      "cell_type": "code",
      "metadata": {
        "id": "eLhZQt3Dj3cm",
        "outputId": "c920733b-aa02-4e3f-9000-18c7dd70a8fa",
        "colab": {
          "base_uri": "https://localhost:8080/"
        }
      },
      "source": [
        "test_loss, test_acc, test_f1_score = model.evaluate(test_dataset)\n",
        "\n",
        "print('Test Loss: {}'.format(test_loss))\n",
        "print('Test Accuracy: {}'.format(test_acc))"
      ],
      "execution_count": 54,
      "outputs": [
        {
          "output_type": "stream",
          "text": [
            "179/179 [==============================] - 24s 132ms/step - loss: 0.2926 - accuracy: 0.8860 - f1_score: 0.6964\n",
            "Test Loss: 0.29258260130882263\n",
            "Test Accuracy: 0.8860448598861694\n"
          ],
          "name": "stdout"
        }
      ]
    },
    {
      "cell_type": "code",
      "metadata": {
        "id": "L9RfBeDJj37x",
        "outputId": "cd914299-3a14-4598-bfa7-2b8ea0733edf",
        "colab": {
          "base_uri": "https://localhost:8080/",
          "height": 518
        }
      },
      "source": [
        "plt.figure(figsize=(16,8))\n",
        "plt.subplot(1,2,1)\n",
        "plot_graphs(history, 'accuracy')\n",
        "plt.ylim(None,1)\n",
        "plt.subplot(1,2,2)\n",
        "plot_graphs(history, 'loss')\n",
        "plt.ylim(0,None)"
      ],
      "execution_count": 55,
      "outputs": [
        {
          "output_type": "execute_result",
          "data": {
            "text/plain": [
              "(0.0, 0.3071553952991962)"
            ]
          },
          "metadata": {
            "tags": []
          },
          "execution_count": 55
        },
        {
          "output_type": "display_data",
          "data": {
            "image/png": "[encoded data removed]",
            "text/plain": [
              "<Figure size 1152x576 with 2 Axes>"
            ]
          },
          "metadata": {
            "tags": [],
            "needs_background": "light"
          }
        }
      ]
    },
    {
      "cell_type": "code",
      "metadata": {
        "id": "cP10fKeBkBjz",
        "outputId": "039f267e-4f6c-4ac5-a7af-53cd572a2b15",
        "colab": {
          "base_uri": "https://localhost:8080/"
        }
      },
      "source": [
        "#saving a model in HDF5 format\n",
        "#model is a tf.keras.Model object created using any of the above methods\n",
        "model.save(\"/content/drive/My Drive/Colab_Notebooks/rnn_lstm_v1.tf\", save_format='tf')"
      ],
      "execution_count": 58,
      "outputs": [
        {
          "output_type": "stream",
          "text": [
            "INFO:tensorflow:Assets written to: /content/drive/My Drive/Colab_Notebooks/rnn_lstm_v1.tf/assets\n"
          ],
          "name": "stdout"
        }
      ]
    },
    {
      "cell_type": "code",
      "metadata": {
        "id": "zwIMhpYBooeq",
        "outputId": "83b24566-8aa3-42dd-9e9b-4c0396b9d7d4",
        "colab": {
          "base_uri": "https://localhost:8080/",
          "height": 34
        }
      },
      "source": [
        "tf.__version__"
      ],
      "execution_count": 57,
      "outputs": [
        {
          "output_type": "execute_result",
          "data": {
            "application/vnd.google.colaboratory.intrinsic+json": {
              "type": "string"
            },
            "text/plain": [
              "'2.3.0'"
            ]
          },
          "metadata": {
            "tags": []
          },
          "execution_count": 57
        }
      ]
    },
    {
      "cell_type": "code",
      "metadata": {
        "id": "WoutmX1lMuH3",
        "outputId": "194af37c-5a21-4b93-cd79-c0fe5e9c6eff",
        "colab": {
          "base_uri": "https://localhost:8080/"
        }
      },
      "source": [
        "history = model.fit(train_dataset, epochs=6,\n",
        "                    validation_data=test_dataset, \n",
        "                    validation_steps=30)"
      ],
      "execution_count": 67,
      "outputs": [
        {
          "output_type": "stream",
          "text": [
            "Epoch 1/6\n",
            "713/713 [==============================] - 160s 225ms/step - loss: 0.2386 - accuracy: 0.9027 - f1_score: 0.7390 - val_loss: 0.2818 - val_accuracy: 0.8865 - val_f1_score: 0.7086\n",
            "Epoch 2/6\n",
            "713/713 [==============================] - 162s 227ms/step - loss: 0.2363 - accuracy: 0.9036 - f1_score: 0.7424 - val_loss: 0.2780 - val_accuracy: 0.8891 - val_f1_score: 0.7133\n",
            "Epoch 3/6\n",
            "713/713 [==============================] - 161s 226ms/step - loss: 0.2328 - accuracy: 0.9055 - f1_score: 0.7480 - val_loss: 0.2998 - val_accuracy: 0.8844 - val_f1_score: 0.7032\n",
            "Epoch 4/6\n",
            "713/713 [==============================] - 161s 226ms/step - loss: 0.2297 - accuracy: 0.9081 - f1_score: 0.7562 - val_loss: 0.2830 - val_accuracy: 0.8901 - val_f1_score: 0.7291\n",
            "Epoch 5/6\n",
            "713/713 [==============================] - 160s 224ms/step - loss: 0.2287 - accuracy: 0.9076 - f1_score: 0.7543 - val_loss: 0.2800 - val_accuracy: 0.8906 - val_f1_score: 0.7147\n",
            "Epoch 6/6\n",
            "713/713 [==============================] - 162s 228ms/step - loss: 0.2279 - accuracy: 0.9081 - f1_score: 0.7551 - val_loss: 0.2804 - val_accuracy: 0.8875 - val_f1_score: 0.7008\n"
          ],
          "name": "stdout"
        }
      ]
    },
    {
      "cell_type": "code",
      "metadata": {
        "id": "zXWma97sM0c-",
        "outputId": "4df6e701-c5f0-4abd-edb0-d6e33f79ebb3",
        "colab": {
          "base_uri": "https://localhost:8080/"
        }
      },
      "source": [
        "test_loss, test_acc, test_f1_score = model.evaluate(test_dataset)\n",
        "\n",
        "print('Test Loss: {}'.format(test_loss))\n",
        "print('Test Accuracy: {}'.format(test_acc))"
      ],
      "execution_count": 68,
      "outputs": [
        {
          "output_type": "stream",
          "text": [
            "179/179 [==============================] - 23s 130ms/step - loss: 0.2931 - accuracy: 0.8821 - f1_score: 0.6722\n",
            "Test Loss: 0.29311513900756836\n",
            "Test Accuracy: 0.8821002840995789\n"
          ],
          "name": "stdout"
        }
      ]
    },
    {
      "cell_type": "code",
      "metadata": {
        "id": "OKQY5E7bM2rj",
        "outputId": "fd5514e2-5cc7-48aa-cb60-28e51cfcaa97",
        "colab": {
          "base_uri": "https://localhost:8080/",
          "height": 518
        }
      },
      "source": [
        "plt.figure(figsize=(16,8))\n",
        "plt.subplot(1,2,1)\n",
        "plot_graphs(history, 'accuracy')\n",
        "plt.ylim(None,1)\n",
        "plt.subplot(1,2,2)\n",
        "plot_graphs(history, 'loss')\n",
        "plt.ylim(0,None)"
      ],
      "execution_count": 69,
      "outputs": [
        {
          "output_type": "execute_result",
          "data": {
            "text/plain": [
              "(0.0, 0.30339077636599543)"
            ]
          },
          "metadata": {
            "tags": []
          },
          "execution_count": 69
        },
        {
          "output_type": "display_data",
          "data": {
            "image/png": "[encoded data removed]",
            "text/plain": [
              "<Figure size 1152x576 with 2 Axes>"
            ]
          },
          "metadata": {
            "tags": [],
            "needs_background": "light"
          }
        }
      ]
    },
    {
      "cell_type": "markdown",
      "metadata": {
        "id": "lxGt1Vy_qlVu"
      },
      "source": [
        "**Stacking more LSTM layers**"
      ]
    },
    {
      "cell_type": "code",
      "metadata": {
        "id": "r5AWIag8qRWj"
      },
      "source": [
        "model2 = tf.keras.Sequential([\n",
        "    encoder,\n",
        "    tf.keras.layers.Embedding(len(encoder.get_vocabulary()), 64, mask_zero=True),\n",
        "    tf.keras.layers.Bidirectional(tf.keras.layers.LSTM(64,  return_sequences=True)),\n",
        "    tf.keras.layers.Bidirectional(tf.keras.layers.LSTM(32)),\n",
        "    tf.keras.layers.Dense(64, activation='relu'),\n",
        "    tf.keras.layers.Dropout(0.5),\n",
        "    tf.keras.layers.Dense(1)\n",
        "])"
      ],
      "execution_count": 60,
      "outputs": []
    },
    {
      "cell_type": "code",
      "metadata": {
        "id": "sBLwM7pMqtd_"
      },
      "source": [
        "model2.compile(loss=tf.keras.losses.BinaryCrossentropy(from_logits=True),\n",
        "              optimizer=tf.keras.optimizers.Adam(1e-4),\n",
        "              metrics=['accuracy', tfa.metrics.F1Score(num_classes=2, average=\"micro\", threshold=0.5 )])"
      ],
      "execution_count": 61,
      "outputs": []
    },
    {
      "cell_type": "code",
      "metadata": {
        "id": "Iup3oqb4qyPn",
        "outputId": "ef5bc068-436e-47a2-d4f0-665ed0742877",
        "colab": {
          "base_uri": "https://localhost:8080/"
        }
      },
      "source": [
        "history2 = model2.fit(train_dataset, epochs=10,\n",
        "                    validation_data=test_dataset,\n",
        "                    validation_steps=30)"
      ],
      "execution_count": 62,
      "outputs": [
        {
          "output_type": "stream",
          "text": [
            "Epoch 1/10\n",
            "713/713 [==============================] - 312s 437ms/step - loss: 0.4958 - accuracy: 0.7824 - f1_score: 0.0194 - val_loss: 0.3882 - val_accuracy: 0.8135 - val_f1_score: 0.3194\n",
            "Epoch 2/10\n",
            "713/713 [==============================] - 310s 435ms/step - loss: 0.3680 - accuracy: 0.8361 - f1_score: 0.4601 - val_loss: 0.3366 - val_accuracy: 0.8573 - val_f1_score: 0.5994\n",
            "Epoch 3/10\n",
            "713/713 [==============================] - 304s 426ms/step - loss: 0.3306 - accuracy: 0.8571 - f1_score: 0.5741 - val_loss: 0.3213 - val_accuracy: 0.8714 - val_f1_score: 0.6545\n",
            "Epoch 4/10\n",
            "713/713 [==============================] - 304s 426ms/step - loss: 0.3133 - accuracy: 0.8672 - f1_score: 0.6163 - val_loss: 0.3158 - val_accuracy: 0.8755 - val_f1_score: 0.6766\n",
            "Epoch 5/10\n",
            "713/713 [==============================] - 303s 425ms/step - loss: 0.3024 - accuracy: 0.8714 - f1_score: 0.6320 - val_loss: 0.3051 - val_accuracy: 0.8740 - val_f1_score: 0.6483\n",
            "Epoch 6/10\n",
            "713/713 [==============================] - 298s 417ms/step - loss: 0.2990 - accuracy: 0.8736 - f1_score: 0.6368 - val_loss: 0.3002 - val_accuracy: 0.8745 - val_f1_score: 0.6532\n",
            "Epoch 7/10\n",
            "713/713 [==============================] - 296s 415ms/step - loss: 0.2877 - accuracy: 0.8796 - f1_score: 0.6608 - val_loss: 0.2960 - val_accuracy: 0.8719 - val_f1_score: 0.6393\n",
            "Epoch 8/10\n",
            "713/713 [==============================] - 297s 417ms/step - loss: 0.2824 - accuracy: 0.8818 - f1_score: 0.6680 - val_loss: 0.2922 - val_accuracy: 0.8734 - val_f1_score: 0.6453\n",
            "Epoch 9/10\n",
            "713/713 [==============================] - 297s 417ms/step - loss: 0.2755 - accuracy: 0.8853 - f1_score: 0.6791 - val_loss: 0.2935 - val_accuracy: 0.8740 - val_f1_score: 0.6503\n",
            "Epoch 10/10\n",
            "713/713 [==============================] - 296s 415ms/step - loss: 0.2703 - accuracy: 0.8882 - f1_score: 0.6900 - val_loss: 0.2925 - val_accuracy: 0.8823 - val_f1_score: 0.7034\n"
          ],
          "name": "stdout"
        }
      ]
    },
    {
      "cell_type": "code",
      "metadata": {
        "id": "1vf4DL7mrA18",
        "outputId": "6b21057d-3cc6-4e37-b6a6-e63a8248e2f4",
        "colab": {
          "base_uri": "https://localhost:8080/"
        }
      },
      "source": [
        "test_loss, test_acc, test_f1_score = model2.evaluate(test_dataset)\n",
        "\n",
        "print('Test Loss: {}'.format(test_loss))\n",
        "print('Test Accuracy: {}'.format(test_acc))"
      ],
      "execution_count": 64,
      "outputs": [
        {
          "output_type": "stream",
          "text": [
            "179/179 [==============================] - 42s 232ms/step - loss: 0.2913 - accuracy: 0.8840 - f1_score: 0.6982\n",
            "Test Loss: 0.29129236936569214\n",
            "Test Accuracy: 0.8840287327766418\n"
          ],
          "name": "stdout"
        }
      ]
    },
    {
      "cell_type": "code",
      "metadata": {
        "id": "yXNLXTV14cd0",
        "outputId": "48868876-9953-42e0-d46b-0640c72ab0f6",
        "colab": {
          "base_uri": "https://localhost:8080/",
          "height": 518
        }
      },
      "source": [
        "plt.figure(figsize=(16,8))\n",
        "plt.subplot(1,2,1)\n",
        "plot_graphs(history2, 'accuracy')\n",
        "plt.ylim(None,1)\n",
        "plt.subplot(1,2,2)\n",
        "plot_graphs(history2, 'loss')\n",
        "plt.ylim(0,None)"
      ],
      "execution_count": 65,
      "outputs": [
        {
          "output_type": "execute_result",
          "data": {
            "text/plain": [
              "(0.0, 0.5070985183119774)"
            ]
          },
          "metadata": {
            "tags": []
          },
          "execution_count": 65
        },
        {
          "output_type": "display_data",
          "data": {
            "image/png": "[encoded data removed]",
            "text/plain": [
              "<Figure size 1152x576 with 2 Axes>"
            ]
          },
          "metadata": {
            "tags": [],
            "needs_background": "light"
          }
        }
      ]
    },
    {
      "cell_type": "code",
      "metadata": {
        "id": "jkpsq_Ym4-70",
        "outputId": "4f5a207d-03ee-4343-9d2e-283ba51fead1",
        "colab": {
          "base_uri": "https://localhost:8080/"
        }
      },
      "source": [
        "#saving a model in HDF5 format\n",
        "#model is a tf.keras.Model object created using any of the above methods\n",
        "model.save(\"/content/drive/My Drive/Colab_Notebooks/rnn_lstm2_v1.tf\", save_format='tf')"
      ],
      "execution_count": 66,
      "outputs": [
        {
          "output_type": "stream",
          "text": [
            "INFO:tensorflow:Assets written to: /content/drive/My Drive/Colab_Notebooks/rnn_lstm2_v1.tf/assets\n"
          ],
          "name": "stdout"
        }
      ]
    },
    {
      "cell_type": "code",
      "metadata": {
        "id": "_F0tXzhe5J1F"
      },
      "source": [
        ""
      ],
      "execution_count": null,
      "outputs": []
    },
    {
      "cell_type": "markdown",
      "metadata": {
        "id": "5hwJEg3Kkth2"
      },
      "source": [
        "**GRU**"
      ]
    },
    {
      "cell_type": "code",
      "metadata": {
        "id": "8mSRjpBikxPa"
      },
      "source": [
        ""
      ],
      "execution_count": null,
      "outputs": []
    }
  ]
}