{
 "cells": [
  {
   "cell_type": "code",
   "execution_count": 1,
   "metadata": {
    "execution": {
     "iopub.execute_input": "2020-10-29T23:21:40.507990Z",
     "iopub.status.busy": "2020-10-29T23:21:40.507688Z",
     "iopub.status.idle": "2020-10-29T23:21:44.668476Z",
     "shell.execute_reply": "2020-10-29T23:21:44.667861Z",
     "shell.execute_reply.started": "2020-10-29T23:21:40.507944Z"
    }
   },
   "outputs": [],
   "source": [
    "# Insert code here.\n",
    "import pandas as pd\n",
    "import numpy as np\n",
    "import random\n",
    "import re\n",
    "import time\n",
    "import datetime\n",
    "from nltk.corpus import stopwords\n",
    "from nltk.tokenize import sent_tokenize\n",
    "from sklearn import model_selection, preprocessing, linear_model, naive_bayes, metrics, svm, neighbors\n",
    "from sklearn.preprocessing import LabelEncoder\n",
    "from transformers import AutoTokenizer\n",
    "import torch\n",
    "from torch.utils.data import TensorDataset, random_split, DataLoader, RandomSampler, SequentialSampler\n",
    "from transformers import AutoModelForSequenceClassification, AdamW, BertConfig\n",
    "from transformers import get_linear_schedule_with_warmup\n",
    "import matplotlib.pyplot as plt\n",
    "import seaborn as sns\n",
    "# from sentence_transformers import SentenceTransformer\n",
    "# sent_encoder = SentenceTransformer('bert-base-nli-mean-tokens')"
   ]
  },
  {
   "cell_type": "code",
   "execution_count": 2,
   "metadata": {
    "execution": {
     "iopub.execute_input": "2020-10-29T23:21:44.669635Z",
     "iopub.status.busy": "2020-10-29T23:21:44.669481Z",
     "iopub.status.idle": "2020-10-29T23:21:51.383105Z",
     "shell.execute_reply": "2020-10-29T23:21:51.382388Z",
     "shell.execute_reply.started": "2020-10-29T23:21:44.669615Z"
    }
   },
   "outputs": [],
   "source": [
    "models = ['bert-base-uncased', 'distilbert-base-uncased-finetuned-sst-2-english', 'textattack/roberta-base-SST-2', 'monologg/electra-small-finetuned-imdb', 'xlnet-base-cased', 'xlm-roberta-large']\n",
    "model_num = 2\n",
    "tokenizer = AutoTokenizer.from_pretrained(models[model_num])\n"
   ]
  },
  {
   "cell_type": "code",
   "execution_count": 3,
   "metadata": {
    "execution": {
     "iopub.execute_input": "2020-10-29T23:21:51.387140Z",
     "iopub.status.busy": "2020-10-29T23:21:51.386870Z",
     "iopub.status.idle": "2020-10-29T23:21:51.424631Z",
     "shell.execute_reply": "2020-10-29T23:21:51.423890Z",
     "shell.execute_reply.started": "2020-10-29T23:21:51.387099Z"
    }
   },
   "outputs": [
    {
     "name": "stdout",
     "output_type": "stream",
     "text": [
      "There are 4 GPU(s) available.\n",
      "We will use the GPU: GeForce RTX 2080 Ti\n"
     ]
    }
   ],
   "source": [
    "if torch.cuda.is_available():    \n",
    "\n",
    "    # Tell PyTorch to use the GPU.    \n",
    "    device = torch.device(\"cuda\")\n",
    "\n",
    "    print('There are %d GPU(s) available.' % torch.cuda.device_count())\n",
    "\n",
    "    print('We will use the GPU:', torch.cuda.get_device_name(0))\n",
    "\n",
    "# If not...\n",
    "else:\n",
    "    print('No GPU available, using the CPU instead.')\n",
    "    device = torch.device(\"cpu\")\n",
    "torch.cuda.empty_cache()"
   ]
  },
  {
   "cell_type": "code",
   "execution_count": 4,
   "metadata": {
    "execution": {
     "iopub.execute_input": "2020-10-29T23:21:51.425900Z",
     "iopub.status.busy": "2020-10-29T23:21:51.425698Z",
     "iopub.status.idle": "2020-10-29T23:21:51.625692Z",
     "shell.execute_reply": "2020-10-29T23:21:51.625161Z",
     "shell.execute_reply.started": "2020-10-29T23:21:51.425877Z"
    }
   },
   "outputs": [
    {
     "name": "stdout",
     "output_type": "stream",
     "text": [
      "Fri Oct 30 04:51:51 2020       \n",
      "+-----------------------------------------------------------------------------+\n",
      "| NVIDIA-SMI 440.95.01    Driver Version: 440.95.01    CUDA Version: 10.2     |\n",
      "|-------------------------------+----------------------+----------------------+\n",
      "| GPU  Name        Persistence-M| Bus-Id        Disp.A | Volatile Uncorr. ECC |\n",
      "| Fan  Temp  Perf  Pwr:Usage/Cap|         Memory-Usage | GPU-Util  Compute M. |\n",
      "|===============================+======================+======================|\n",
      "|   0  GeForce RTX 208...  Off  | 00000000:02:00.0 Off |                  N/A |\n",
      "| 41%   55C    P8    16W / 250W |     11MiB / 11019MiB |      0%      Default |\n",
      "+-------------------------------+----------------------+----------------------+\n",
      "|   1  GeForce RTX 208...  Off  | 00000000:03:00.0 Off |                  N/A |\n",
      "| 31%   28C    P8    20W / 250W |  10646MiB / 11019MiB |      0%      Default |\n",
      "+-------------------------------+----------------------+----------------------+\n",
      "|   2  GeForce RTX 208...  Off  | 00000000:82:00.0 Off |                  N/A |\n",
      "| 29%   24C    P8    10W / 250W |     11MiB / 11019MiB |      0%      Default |\n",
      "+-------------------------------+----------------------+----------------------+\n",
      "|   3  GeForce RTX 208...  Off  | 00000000:83:00.0 Off |                  N/A |\n",
      "| 30%   25C    P8    12W / 250W |     11MiB / 11019MiB |      0%      Default |\n",
      "+-------------------------------+----------------------+----------------------+\n",
      "                                                                               \n",
      "+-----------------------------------------------------------------------------+\n",
      "| Processes:                                                       GPU Memory |\n",
      "|  GPU       PID   Type   Process name                             Usage      |\n",
      "|=============================================================================|\n",
      "|    1     26699      C   ....raha/miniconda3/envs/fastai/bin/python 10635MiB |\n",
      "+-----------------------------------------------------------------------------+\n"
     ]
    }
   ],
   "source": [
    "torch.cuda.empty_cache()\n",
    "!nvidia-smi"
   ]
  },
  {
   "cell_type": "code",
   "execution_count": 5,
   "metadata": {
    "execution": {
     "iopub.execute_input": "2020-10-29T23:21:51.626755Z",
     "iopub.status.busy": "2020-10-29T23:21:51.626593Z",
     "iopub.status.idle": "2020-10-29T23:21:51.635324Z",
     "shell.execute_reply": "2020-10-29T23:21:51.634606Z",
     "shell.execute_reply.started": "2020-10-29T23:21:51.626734Z"
    }
   },
   "outputs": [],
   "source": [
    "DATASET_PATH = '../datasets/nela-gt/nela10.csv'"
   ]
  },
  {
   "cell_type": "code",
   "execution_count": 6,
   "metadata": {
    "execution": {
     "iopub.execute_input": "2020-10-29T23:21:51.636588Z",
     "iopub.status.busy": "2020-10-29T23:21:51.636412Z",
     "iopub.status.idle": "2020-10-29T23:21:53.466846Z",
     "shell.execute_reply": "2020-10-29T23:21:53.466273Z",
     "shell.execute_reply.started": "2020-10-29T23:21:51.636568Z"
    }
   },
   "outputs": [
    {
     "name": "stdout",
     "output_type": "stream",
     "text": [
      "Number of training sentences: 57,157\n",
      "\n"
     ]
    },
    {
     "data": {
      "text/html": [
       "<div>\n",
       "<style scoped>\n",
       "    .dataframe tbody tr th:only-of-type {\n",
       "        vertical-align: middle;\n",
       "    }\n",
       "\n",
       "    .dataframe tbody tr th {\n",
       "        vertical-align: top;\n",
       "    }\n",
       "\n",
       "    .dataframe thead th {\n",
       "        text-align: right;\n",
       "    }\n",
       "</style>\n",
       "<table border=\"1\" class=\"dataframe\">\n",
       "  <thead>\n",
       "    <tr style=\"text-align: right;\">\n",
       "      <th></th>\n",
       "      <th>id</th>\n",
       "      <th>date</th>\n",
       "      <th>source</th>\n",
       "      <th>title</th>\n",
       "      <th>content</th>\n",
       "      <th>author</th>\n",
       "      <th>url</th>\n",
       "      <th>published</th>\n",
       "      <th>published_utc</th>\n",
       "      <th>collection_utc</th>\n",
       "      <th>Reliability</th>\n",
       "    </tr>\n",
       "  </thead>\n",
       "  <tbody>\n",
       "    <tr>\n",
       "      <th>18969</th>\n",
       "      <td>skynewspolitics--2019-01-23--Polish-born MP ac...</td>\n",
       "      <td>2019-01-23</td>\n",
       "      <td>skynewspolitics</td>\n",
       "      <td>Polish-born MP accused of 'reckless' attempt t...</td>\n",
       "      <td>Daniel Kawczynski said he was trying to stop R...</td>\n",
       "      <td>NaN</td>\n",
       "      <td>http://news.sky.com/story/polish-born-mp-accus...</td>\n",
       "      <td>2019-01-23 14:54:00+00:00</td>\n",
       "      <td>1548273240</td>\n",
       "      <td>1567551184</td>\n",
       "      <td>0</td>\n",
       "    </tr>\n",
       "    <tr>\n",
       "      <th>1620</th>\n",
       "      <td>bbc--2019-07-06--Italy migrants New charity sh...</td>\n",
       "      <td>2019-07-06</td>\n",
       "      <td>bbc</td>\n",
       "      <td>Italy migrants: New charity ship docks despite...</td>\n",
       "      <td>A charity boat carrying 41 rescued migrants de...</td>\n",
       "      <td>NaN</td>\n",
       "      <td>https://www.bbc.co.uk/news/world-europe-48896038</td>\n",
       "      <td>2019-07-06 22:12:39+00:00</td>\n",
       "      <td>1562465559</td>\n",
       "      <td>1567536648</td>\n",
       "      <td>0</td>\n",
       "    </tr>\n",
       "    <tr>\n",
       "      <th>47698</th>\n",
       "      <td>dcgazette--2019-03-19--The Sting of Meritocracy</td>\n",
       "      <td>2019-03-19</td>\n",
       "      <td>dcgazette</td>\n",
       "      <td>The Sting of Meritocracy</td>\n",
       "      <td>I don’t think this scandal is really about how...</td>\n",
       "      <td>505335761211</td>\n",
       "      <td>https://dcgazette.com/2019/the-sting-of-merito...</td>\n",
       "      <td>2019-03-19 05:03:15+00:00</td>\n",
       "      <td>1552986195</td>\n",
       "      <td>1567545708</td>\n",
       "      <td>2</td>\n",
       "    </tr>\n",
       "    <tr>\n",
       "      <th>20446</th>\n",
       "      <td>spiegel--2019-01-17--Harald Schmidts Videokolu...</td>\n",
       "      <td>2019-01-17</td>\n",
       "      <td>spiegel</td>\n",
       "      <td>Harald Schmidts Videokolumne: Chouchou liebt e...</td>\n",
       "      <td>Sie haben keinen Zugang? Jetzt gratis testen!\\n\\n</td>\n",
       "      <td>NaN</td>\n",
       "      <td>http://www.spiegel.de/plus/harald-schmidt-uebe...</td>\n",
       "      <td>2019-01-17 15:04:04+00:00</td>\n",
       "      <td>1547755444</td>\n",
       "      <td>1567552123</td>\n",
       "      <td>0</td>\n",
       "    </tr>\n",
       "    <tr>\n",
       "      <th>12663</th>\n",
       "      <td>jerusalempost--2019-10-14--Spain finds Catalan...</td>\n",
       "      <td>2019-10-14</td>\n",
       "      <td>jerusalempost</td>\n",
       "      <td>Spain finds Catalan leaders guilty of sedition...</td>\n",
       "      <td>Spain's Supreme Court on Monday sentenced nine...</td>\n",
       "      <td>By REUTERS</td>\n",
       "      <td>https://www.jpost.com/Breaking-News/Spain-find...</td>\n",
       "      <td>Mon, 14 Oct 2019 08:14:00 GMT</td>\n",
       "      <td>1571055240</td>\n",
       "      <td>1571062755</td>\n",
       "      <td>0</td>\n",
       "    </tr>\n",
       "    <tr>\n",
       "      <th>43244</th>\n",
       "      <td>usnews--2019-10-14--Pinedale Man Arrested, Acc...</td>\n",
       "      <td>2019-10-14</td>\n",
       "      <td>usnews</td>\n",
       "      <td>Pinedale Man Arrested, Accused of Fatally Shoo...</td>\n",
       "      <td>PINEDALE, Ariz. (AP) — Navajo County Sheriff's...</td>\n",
       "      <td>Associated Press</td>\n",
       "      <td>https://www.usnews.com/news/best-states/arizon...</td>\n",
       "      <td>Mon, 14 Oct 2019 23:50:05 GMT</td>\n",
       "      <td>1571111405</td>\n",
       "      <td>1571098217</td>\n",
       "      <td>0</td>\n",
       "    </tr>\n",
       "    <tr>\n",
       "      <th>9945</th>\n",
       "      <td>eveningstandard--2019-09-10--Super Troupers Th...</td>\n",
       "      <td>2019-09-10</td>\n",
       "      <td>eveningstandard</td>\n",
       "      <td>Super Troupers The Exhibition: Major immersive...</td>\n",
       "      <td>Knowing me knowing you, ABBA fans will be exci...</td>\n",
       "      <td>Zoe Paskett</td>\n",
       "      <td>https://www.standard.co.uk/go/london/arts/abba...</td>\n",
       "      <td>2019-09-10 09:45:00+00:00</td>\n",
       "      <td>1568123100</td>\n",
       "      <td>1569330536</td>\n",
       "      <td>0</td>\n",
       "    </tr>\n",
       "    <tr>\n",
       "      <th>2791</th>\n",
       "      <td>bbc--2019-09-30--Boris Johnson touching row co...</td>\n",
       "      <td>2019-09-30</td>\n",
       "      <td>bbc</td>\n",
       "      <td>Boris Johnson 'touching' row continues at Tory...</td>\n",
       "      <td>Boris Johnson has insisted allegations about h...</td>\n",
       "      <td>NaN</td>\n",
       "      <td>https://www.bbc.co.uk/news/uk-politics-49877508</td>\n",
       "      <td>2019-09-30 16:50:57+00:00</td>\n",
       "      <td>1569876657</td>\n",
       "      <td>1570221907</td>\n",
       "      <td>0</td>\n",
       "    </tr>\n",
       "    <tr>\n",
       "      <th>4567</th>\n",
       "      <td>cbsnews--2019-01-17--Facebook shuts hundreds o...</td>\n",
       "      <td>2019-01-17</td>\n",
       "      <td>cbsnews</td>\n",
       "      <td>Facebook shuts hundreds of pages linked to Rus...</td>\n",
       "      <td>Facebook says it has removed hundreds of Russi...</td>\n",
       "      <td>NaN</td>\n",
       "      <td>http://www.cbsnews.com/news/facebook-shuts-hun...</td>\n",
       "      <td>2019-01-17 14:23:21+00:00</td>\n",
       "      <td>1547753001</td>\n",
       "      <td>1567552027</td>\n",
       "      <td>0</td>\n",
       "    </tr>\n",
       "    <tr>\n",
       "      <th>49609</th>\n",
       "      <td>naturalnews--2019-09-16--Liberals sign petitio...</td>\n",
       "      <td>2019-09-16</td>\n",
       "      <td>naturalnews</td>\n",
       "      <td>Liberals sign petition to protect unborn eagle...</td>\n",
       "      <td>(Natural News) In the wonderful world of Los A...</td>\n",
       "      <td>Lance D Johnson</td>\n",
       "      <td>http://www.naturalnews.com/2019-09-16-liberals...</td>\n",
       "      <td>2019-09-16 21:22:31+00:00</td>\n",
       "      <td>1568683351</td>\n",
       "      <td>1569330210</td>\n",
       "      <td>2</td>\n",
       "    </tr>\n",
       "  </tbody>\n",
       "</table>\n",
       "</div>"
      ],
      "text/plain": [
       "                                                      id        date  \\\n",
       "18969  skynewspolitics--2019-01-23--Polish-born MP ac...  2019-01-23   \n",
       "1620   bbc--2019-07-06--Italy migrants New charity sh...  2019-07-06   \n",
       "47698    dcgazette--2019-03-19--The Sting of Meritocracy  2019-03-19   \n",
       "20446  spiegel--2019-01-17--Harald Schmidts Videokolu...  2019-01-17   \n",
       "12663  jerusalempost--2019-10-14--Spain finds Catalan...  2019-10-14   \n",
       "43244  usnews--2019-10-14--Pinedale Man Arrested, Acc...  2019-10-14   \n",
       "9945   eveningstandard--2019-09-10--Super Troupers Th...  2019-09-10   \n",
       "2791   bbc--2019-09-30--Boris Johnson touching row co...  2019-09-30   \n",
       "4567   cbsnews--2019-01-17--Facebook shuts hundreds o...  2019-01-17   \n",
       "49609  naturalnews--2019-09-16--Liberals sign petitio...  2019-09-16   \n",
       "\n",
       "                source                                              title  \\\n",
       "18969  skynewspolitics  Polish-born MP accused of 'reckless' attempt t...   \n",
       "1620               bbc  Italy migrants: New charity ship docks despite...   \n",
       "47698        dcgazette                           The Sting of Meritocracy   \n",
       "20446          spiegel  Harald Schmidts Videokolumne: Chouchou liebt e...   \n",
       "12663    jerusalempost  Spain finds Catalan leaders guilty of sedition...   \n",
       "43244           usnews  Pinedale Man Arrested, Accused of Fatally Shoo...   \n",
       "9945   eveningstandard  Super Troupers The Exhibition: Major immersive...   \n",
       "2791               bbc  Boris Johnson 'touching' row continues at Tory...   \n",
       "4567           cbsnews  Facebook shuts hundreds of pages linked to Rus...   \n",
       "49609      naturalnews  Liberals sign petition to protect unborn eagle...   \n",
       "\n",
       "                                                 content            author  \\\n",
       "18969  Daniel Kawczynski said he was trying to stop R...               NaN   \n",
       "1620   A charity boat carrying 41 rescued migrants de...               NaN   \n",
       "47698  I don’t think this scandal is really about how...      505335761211   \n",
       "20446  Sie haben keinen Zugang? Jetzt gratis testen!\\n\\n               NaN   \n",
       "12663  Spain's Supreme Court on Monday sentenced nine...        By REUTERS   \n",
       "43244  PINEDALE, Ariz. (AP) — Navajo County Sheriff's...  Associated Press   \n",
       "9945   Knowing me knowing you, ABBA fans will be exci...       Zoe Paskett   \n",
       "2791   Boris Johnson has insisted allegations about h...               NaN   \n",
       "4567   Facebook says it has removed hundreds of Russi...               NaN   \n",
       "49609  (Natural News) In the wonderful world of Los A...   Lance D Johnson   \n",
       "\n",
       "                                                     url  \\\n",
       "18969  http://news.sky.com/story/polish-born-mp-accus...   \n",
       "1620    https://www.bbc.co.uk/news/world-europe-48896038   \n",
       "47698  https://dcgazette.com/2019/the-sting-of-merito...   \n",
       "20446  http://www.spiegel.de/plus/harald-schmidt-uebe...   \n",
       "12663  https://www.jpost.com/Breaking-News/Spain-find...   \n",
       "43244  https://www.usnews.com/news/best-states/arizon...   \n",
       "9945   https://www.standard.co.uk/go/london/arts/abba...   \n",
       "2791     https://www.bbc.co.uk/news/uk-politics-49877508   \n",
       "4567   http://www.cbsnews.com/news/facebook-shuts-hun...   \n",
       "49609  http://www.naturalnews.com/2019-09-16-liberals...   \n",
       "\n",
       "                           published  published_utc  collection_utc  \\\n",
       "18969      2019-01-23 14:54:00+00:00     1548273240      1567551184   \n",
       "1620       2019-07-06 22:12:39+00:00     1562465559      1567536648   \n",
       "47698      2019-03-19 05:03:15+00:00     1552986195      1567545708   \n",
       "20446      2019-01-17 15:04:04+00:00     1547755444      1567552123   \n",
       "12663  Mon, 14 Oct 2019 08:14:00 GMT     1571055240      1571062755   \n",
       "43244  Mon, 14 Oct 2019 23:50:05 GMT     1571111405      1571098217   \n",
       "9945       2019-09-10 09:45:00+00:00     1568123100      1569330536   \n",
       "2791       2019-09-30 16:50:57+00:00     1569876657      1570221907   \n",
       "4567       2019-01-17 14:23:21+00:00     1547753001      1567552027   \n",
       "49609      2019-09-16 21:22:31+00:00     1568683351      1569330210   \n",
       "\n",
       "       Reliability  \n",
       "18969            0  \n",
       "1620             0  \n",
       "47698            2  \n",
       "20446            0  \n",
       "12663            0  \n",
       "43244            0  \n",
       "9945             0  \n",
       "2791             0  \n",
       "4567             0  \n",
       "49609            2  "
      ]
     },
     "execution_count": 6,
     "metadata": {},
     "output_type": "execute_result"
    }
   ],
   "source": [
    "df = pd.read_csv(DATASET_PATH)\n",
    "print('Number of training sentences: {:,}\\n'.format(df.shape[0]))\n",
    "df.sample(10)"
   ]
  },
  {
   "cell_type": "code",
   "execution_count": 7,
   "metadata": {
    "execution": {
     "iopub.execute_input": "2020-10-29T23:21:53.468067Z",
     "iopub.status.busy": "2020-10-29T23:21:53.467858Z",
     "iopub.status.idle": "2020-10-29T23:21:53.471647Z",
     "shell.execute_reply": "2020-10-29T23:21:53.471065Z",
     "shell.execute_reply.started": "2020-10-29T23:21:53.468039Z"
    }
   },
   "outputs": [],
   "source": [
    "def count_words(text):\n",
    "    try:\n",
    "        return len(text.split())\n",
    "    except:\n",
    "        print(text)\n",
    "        return None"
   ]
  },
  {
   "cell_type": "code",
   "execution_count": 8,
   "metadata": {
    "execution": {
     "iopub.execute_input": "2020-10-29T23:21:53.474504Z",
     "iopub.status.busy": "2020-10-29T23:21:53.474307Z",
     "iopub.status.idle": "2020-10-29T23:21:53.479358Z",
     "shell.execute_reply": "2020-10-29T23:21:53.478820Z",
     "shell.execute_reply.started": "2020-10-29T23:21:53.474480Z"
    }
   },
   "outputs": [],
   "source": [
    "def change_rel(num):\n",
    "    if num == 2:\n",
    "        return 1\n",
    "    else:\n",
    "        return 0"
   ]
  },
  {
   "cell_type": "code",
   "execution_count": 9,
   "metadata": {
    "execution": {
     "iopub.execute_input": "2020-10-29T23:21:53.481154Z",
     "iopub.status.busy": "2020-10-29T23:21:53.480851Z",
     "iopub.status.idle": "2020-10-29T23:22:08.121762Z",
     "shell.execute_reply": "2020-10-29T23:22:08.121054Z",
     "shell.execute_reply.started": "2020-10-29T23:21:53.481098Z"
    }
   },
   "outputs": [],
   "source": [
    "df = df.reset_index(drop=True)\n",
    "REPLACE_BY_SPACE_RE = re.compile('[/(){}\\[\\]\\|@,;]')\n",
    "BAD_SYMBOLS_RE = re.compile('[^0-9a-z #+_]')\n",
    "STOPWORDS = []\n",
    "\n",
    "def clean_text(text):\n",
    "    \"\"\"\n",
    "        text: a string\n",
    "        \n",
    "        return: modified initial string\n",
    "    \"\"\"\n",
    "    text = str(text)\n",
    "    text = text.lower() # lowercase text\n",
    "    text = REPLACE_BY_SPACE_RE.sub(' ', text) # replace REPLACE_BY_SPACE_RE symbols by space in text. substitute the matched string in REPLACE_BY_SPACE_RE with space.\n",
    "    text = BAD_SYMBOLS_RE.sub('', text) # remove symbols which are in BAD_SYMBOLS_RE from text. substitute the matched string in BAD_SYMBOLS_RE with nothing. \n",
    "#    text = re.sub(r'\\W+', '', text)\n",
    "    text = ' '.join(word for word in text.split() if word not in STOPWORDS) # remove stopwors from text\n",
    "    return text\n",
    "df['content'] = df['content'].apply(clean_text)\n",
    "df['content'] = df['content'].str.replace('\\d+', '')\n",
    "df['Reliability'] = df['Reliability'].apply(change_rel)"
   ]
  },
  {
   "cell_type": "code",
   "execution_count": 10,
   "metadata": {
    "execution": {
     "iopub.execute_input": "2020-10-29T23:22:08.123010Z",
     "iopub.status.busy": "2020-10-29T23:22:08.122845Z",
     "iopub.status.idle": "2020-10-29T23:22:25.094694Z",
     "shell.execute_reply": "2020-10-29T23:22:25.093584Z",
     "shell.execute_reply.started": "2020-10-29T23:22:08.122988Z"
    }
   },
   "outputs": [],
   "source": [
    "def get_split(text1):\n",
    "    l_total = []\n",
    "    l_parcial = []\n",
    "    if len(text1.split())//150 >0:\n",
    "        n = len(text1.split())//150\n",
    "    else: \n",
    "        n = 1\n",
    "    for w in range(n):\n",
    "        if w == 0:\n",
    "            l_parcial = text1.split()[:200]\n",
    "            l_total.append(\" \".join(l_parcial))\n",
    "        else:\n",
    "            l_parcial = text1.split()[w*150:w*150 + 200]\n",
    "            l_total.append(\" \".join(l_parcial))\n",
    "    return l_total\n",
    "df['content_split'] = df['content'].apply(get_split)"
   ]
  },
  {
   "cell_type": "code",
   "execution_count": 11,
   "metadata": {
    "execution": {
     "iopub.execute_input": "2020-10-29T23:22:25.096270Z",
     "iopub.status.busy": "2020-10-29T23:22:25.096039Z",
     "iopub.status.idle": "2020-10-29T23:22:27.112622Z",
     "shell.execute_reply": "2020-10-29T23:22:27.112015Z",
     "shell.execute_reply.started": "2020-10-29T23:22:25.096243Z"
    }
   },
   "outputs": [
    {
     "data": {
      "text/plain": [
       "15183"
      ]
     },
     "execution_count": 11,
     "metadata": {},
     "output_type": "execute_result"
    }
   ],
   "source": [
    "df['content'].apply(count_words).max()"
   ]
  },
  {
   "cell_type": "code",
   "execution_count": 12,
   "metadata": {
    "execution": {
     "iopub.execute_input": "2020-10-29T23:22:27.113832Z",
     "iopub.status.busy": "2020-10-29T23:22:27.113644Z",
     "iopub.status.idle": "2020-10-29T23:22:27.153964Z",
     "shell.execute_reply": "2020-10-29T23:22:27.153463Z",
     "shell.execute_reply.started": "2020-10-29T23:22:27.113807Z"
    }
   },
   "outputs": [],
   "source": [
    "train_x, valid_x, train_y, valid_y = model_selection.train_test_split(df['content_split'], df['Reliability'], test_size=0.2, stratify=df['Reliability'])"
   ]
  },
  {
   "cell_type": "code",
   "execution_count": 13,
   "metadata": {
    "execution": {
     "iopub.execute_input": "2020-10-29T23:22:27.155048Z",
     "iopub.status.busy": "2020-10-29T23:22:27.154850Z",
     "iopub.status.idle": "2020-10-29T23:22:27.242299Z",
     "shell.execute_reply": "2020-10-29T23:22:27.241697Z",
     "shell.execute_reply.started": "2020-10-29T23:22:27.155025Z"
    }
   },
   "outputs": [
    {
     "data": {
      "text/plain": [
       "(139055, 139055)"
      ]
     },
     "execution_count": 13,
     "metadata": {},
     "output_type": "execute_result"
    }
   ],
   "source": [
    "train_l = []\n",
    "label_l = []\n",
    "index_l =[]\n",
    "for row,label in zip(train_x, train_y):\n",
    "    for l in row:\n",
    "        train_l.append(l)\n",
    "        label_l.append(label)\n",
    "len(train_l), len(label_l)"
   ]
  },
  {
   "cell_type": "code",
   "execution_count": 14,
   "metadata": {
    "execution": {
     "iopub.execute_input": "2020-10-29T23:22:27.243405Z",
     "iopub.status.busy": "2020-10-29T23:22:27.243194Z",
     "iopub.status.idle": "2020-10-29T23:22:27.268845Z",
     "shell.execute_reply": "2020-10-29T23:22:27.268263Z",
     "shell.execute_reply.started": "2020-10-29T23:22:27.243380Z"
    }
   },
   "outputs": [
    {
     "data": {
      "text/plain": [
       "(35029, 35029)"
      ]
     },
     "execution_count": 14,
     "metadata": {},
     "output_type": "execute_result"
    }
   ],
   "source": [
    "val_l = []\n",
    "val_label_l = []\n",
    "val_index_l = []\n",
    "for row,label in zip(valid_x, valid_y):\n",
    "    for l in row:\n",
    "        val_l.append(l)\n",
    "        val_label_l.append(label)\n",
    "len(val_l), len(val_label_l)"
   ]
  },
  {
   "cell_type": "code",
   "execution_count": 15,
   "metadata": {
    "execution": {
     "iopub.execute_input": "2020-10-29T23:22:27.269883Z",
     "iopub.status.busy": "2020-10-29T23:22:27.269702Z",
     "iopub.status.idle": "2020-10-29T23:22:27.272537Z",
     "shell.execute_reply": "2020-10-29T23:22:27.271956Z",
     "shell.execute_reply.started": "2020-10-29T23:22:27.269860Z"
    }
   },
   "outputs": [],
   "source": [
    "MAX_LENGTH = 220\n",
    "posts = train_l\n",
    "categories = label_l"
   ]
  },
  {
   "cell_type": "code",
   "execution_count": 16,
   "metadata": {
    "execution": {
     "iopub.execute_input": "2020-10-29T23:22:27.273668Z",
     "iopub.status.busy": "2020-10-29T23:22:27.273449Z",
     "iopub.status.idle": "2020-10-29T23:22:27.301234Z",
     "shell.execute_reply": "2020-10-29T23:22:27.300719Z",
     "shell.execute_reply.started": "2020-10-29T23:22:27.273644Z"
    }
   },
   "outputs": [
    {
     "name": "stderr",
     "output_type": "stream",
     "text": [
      "/home/tathagata.raha/miniconda3/envs/fastai/lib/python3.8/site-packages/transformers/tokenization_utils_base.py:1764: FutureWarning: The `pad_to_max_length` argument is deprecated and will be removed in a future version, use `padding=True` or `padding='longest'` to pad to the longest sequence in the batch, or use `padding='max_length'` to pad to a max length. In this case, you can give a specific length with `max_length` (e.g. `max_length=45`) or leave max_length to None to pad to the maximal input size of the model (e.g. 512 for Bert).\n",
      "  warnings.warn(\n"
     ]
    },
    {
     "data": {
      "text/plain": [
       "{'input_ids': tensor([[    0, 30191,    81, 24134,  6907,  1207, 23491,    16,     5,  2904,\n",
       "            13,   309,     7,     5, 38187,   260,  7705, 25776,   138, 16259,\n",
       "          1264,  1060, 34586, 30390,  3514, 24700,    32,     5,  5135,   477,\n",
       "            13, 10374,  3612,   102, 20902, 13686,  6152,   227,  8978,     8,\n",
       "         34022,  1207, 23491,    16,   161, 16259,  1264, 17380, 13315, 27206,\n",
       "             8,   301,  3707, 20277,     8,    40,  3495,    62,    11,  2734,\n",
       "          4002,  1808,     8,  3222, 10327,  1328,     5,    76,  9178,  6294,\n",
       "            24,    16,    45,    10,  5548,    19,  1521, 30016, 14847, 14926,\n",
       "         28459,  1021,   571,  3194, 14897,   179,  2410,    15,     5,   263,\n",
       "          2158,   225,   998,    42, 13686,    16,  1622,   350, 22636, 24262,\n",
       "           833,  4520,     8, 23318,     7,    28, 18684, 19448,    79, 10648,\n",
       "         16063, 17654,   959,  6138,    24,   600,     5,  4570,  5976,  2734,\n",
       "          7716,     8,  7855,  1195,    87,  6347,     8,    98,   506,   281,\n",
       "          1421, 10196,   118,    56,   808,    21,    41,  2888, 15583,    77,\n",
       "            79,   682,  5328, 23491,   471,     7, 14934,    11,    92,  1423,\n",
       "          9657,    11,    10, 21166,  2253, 41647,  5223,  5867,    66,   506,\n",
       "          3119,  6295, 15061,  2603,   242,   606,    31,  4401,   811,   858,\n",
       "          1481,  7491,  1891,  3904,   736,    23,   385,   922,  7073,   385,\n",
       "           922,  7073,   438, 27486,  1207, 23491,    16,    10,  9869, 22534,\n",
       "          7705,    79,   161,    79, 37210,  2532,    63,   357, 14756,     7,\n",
       "          2734,    24, 13855,   160,    10,  4320,  1842,    47,   429,    45,\n",
       "           236,    14,    13,  6347,  2527,  2085,   304,    24,    13,     2]]), 'attention_mask': tensor([[1, 1, 1, 1, 1, 1, 1, 1, 1, 1, 1, 1, 1, 1, 1, 1, 1, 1, 1, 1, 1, 1, 1, 1,\n",
       "         1, 1, 1, 1, 1, 1, 1, 1, 1, 1, 1, 1, 1, 1, 1, 1, 1, 1, 1, 1, 1, 1, 1, 1,\n",
       "         1, 1, 1, 1, 1, 1, 1, 1, 1, 1, 1, 1, 1, 1, 1, 1, 1, 1, 1, 1, 1, 1, 1, 1,\n",
       "         1, 1, 1, 1, 1, 1, 1, 1, 1, 1, 1, 1, 1, 1, 1, 1, 1, 1, 1, 1, 1, 1, 1, 1,\n",
       "         1, 1, 1, 1, 1, 1, 1, 1, 1, 1, 1, 1, 1, 1, 1, 1, 1, 1, 1, 1, 1, 1, 1, 1,\n",
       "         1, 1, 1, 1, 1, 1, 1, 1, 1, 1, 1, 1, 1, 1, 1, 1, 1, 1, 1, 1, 1, 1, 1, 1,\n",
       "         1, 1, 1, 1, 1, 1, 1, 1, 1, 1, 1, 1, 1, 1, 1, 1, 1, 1, 1, 1, 1, 1, 1, 1,\n",
       "         1, 1, 1, 1, 1, 1, 1, 1, 1, 1, 1, 1, 1, 1, 1, 1, 1, 1, 1, 1, 1, 1, 1, 1,\n",
       "         1, 1, 1, 1, 1, 1, 1, 1, 1, 1, 1, 1, 1, 1, 1, 1, 1, 1, 1, 1, 1, 1, 1, 1,\n",
       "         1, 1, 1, 1]])}"
      ]
     },
     "execution_count": 16,
     "metadata": {},
     "output_type": "execute_result"
    }
   ],
   "source": [
    "encoded_dict = tokenizer.encode_plus(\n",
    "                        posts[0],                      # Sentence to encode.\n",
    "                        truncation=True,\n",
    "                        add_special_tokens = True, # Add '[CLS]' and '[SEP]'\n",
    "                        max_length = MAX_LENGTH,           # Pad & truncate all sentences.\n",
    "                        pad_to_max_length = True,\n",
    "                        return_attention_mask = True,   # Construct attn. masks.\n",
    "                        return_tensors = 'pt',     # Return pytorch tensors.\n",
    "                   )\n",
    "encoded_dict"
   ]
  },
  {
   "cell_type": "code",
   "execution_count": 17,
   "metadata": {
    "execution": {
     "iopub.execute_input": "2020-10-29T23:22:27.302349Z",
     "iopub.status.busy": "2020-10-29T23:22:27.302166Z",
     "iopub.status.idle": "2020-10-29T23:25:42.574908Z",
     "shell.execute_reply": "2020-10-29T23:25:42.574070Z",
     "shell.execute_reply.started": "2020-10-29T23:22:27.302326Z"
    }
   },
   "outputs": [],
   "source": [
    "input_ids = []\n",
    "attention_masks = []\n",
    "\n",
    "# For every sentence...\n",
    "for sent in posts:\n",
    "    # `encode_plus` will:\n",
    "    #   (1) Tokenize the sentence.\n",
    "    #   (2) Prepend the `[CLS]` token to the start.\n",
    "    #   (3) Append the `[SEP]` token to the end.\n",
    "    #   (4) Map tokens to their IDs.\n",
    "    #   (5) Pad or truncate the sentence to `max_length`\n",
    "    #   (6) Create attention masks for [PAD] tokens.\n",
    "    try:\n",
    "        encoded_dict = tokenizer.encode_plus(\n",
    "                            sent,                      # Sentence to encode.\n",
    "                            truncation=True,\n",
    "                            add_special_tokens = True, # Add '[CLS]' and '[SEP]'\n",
    "                            max_length = MAX_LENGTH,           # Pad & truncate all sentences.\n",
    "                            pad_to_max_length = True,\n",
    "                            return_attention_mask = True,   # Construct attn. masks.\n",
    "                            return_tensors = 'pt',     # Return pytorch tensors.\n",
    "                       )\n",
    "    except:\n",
    "        print(sent)\n",
    "    \n",
    "    # Add the encoded sentence to the list.    \n",
    "    input_ids.append(encoded_dict['input_ids'])\n",
    "    \n",
    "    # And its attention mask (simply differentiates padding from non-padding).\n",
    "    attention_masks.append(encoded_dict['attention_mask'])\n",
    "\n",
    "# Convert the lists into tensors.\n",
    "input_ids = torch.cat(input_ids, dim=0)\n",
    "attention_masks = torch.cat(attention_masks, dim=0)\n",
    "labels = torch.tensor(categories)"
   ]
  },
  {
   "cell_type": "code",
   "execution_count": 18,
   "metadata": {
    "execution": {
     "iopub.execute_input": "2020-10-29T23:25:42.576963Z",
     "iopub.status.busy": "2020-10-29T23:25:42.576769Z",
     "iopub.status.idle": "2020-10-29T23:25:42.599594Z",
     "shell.execute_reply": "2020-10-29T23:25:42.598954Z",
     "shell.execute_reply.started": "2020-10-29T23:25:42.576938Z"
    }
   },
   "outputs": [
    {
     "name": "stdout",
     "output_type": "stream",
     "text": [
      "121,673 training samples\n",
      "17,382 validation samples\n"
     ]
    }
   ],
   "source": [
    "dataset = TensorDataset(input_ids, attention_masks, labels)\n",
    "train_size = int(0.875 * len(dataset))\n",
    "val_size = len(dataset) - train_size\n",
    "\n",
    "# Divide the dataset by randomly selecting samples.\n",
    "train_dataset, val_dataset = random_split(dataset, [train_size, val_size])\n",
    "\n",
    "print('{:>5,} training samples'.format(train_size))\n",
    "print('{:>5,} validation samples'.format(val_size))\n"
   ]
  },
  {
   "cell_type": "code",
   "execution_count": 19,
   "metadata": {
    "execution": {
     "iopub.execute_input": "2020-10-29T23:25:42.600859Z",
     "iopub.status.busy": "2020-10-29T23:25:42.600631Z",
     "iopub.status.idle": "2020-10-29T23:25:42.605086Z",
     "shell.execute_reply": "2020-10-29T23:25:42.604469Z",
     "shell.execute_reply.started": "2020-10-29T23:25:42.600829Z"
    }
   },
   "outputs": [],
   "source": [
    "# The DataLoader needs to know our batch size for training, so we specify it \n",
    "# here. For fine-tuning BERT on a specific task, the authors recommend a batch \n",
    "# size of 16 or 32.\n",
    "batch_size = 32\n",
    "\n",
    "# Create the DataLoaders for our training and validation sets.\n",
    "# We'll take training samples in random order. \n",
    "train_dataloader = DataLoader(\n",
    "            train_dataset,  # The training samples.\n",
    "            sampler = RandomSampler(train_dataset), # Select batches randomly\n",
    "            batch_size = batch_size # Trains with this batch size.\n",
    "        )\n",
    "\n",
    "# For validation the order doesn't matter, so we'll just read them sequentially.\n",
    "validation_dataloader = DataLoader(\n",
    "            val_dataset, # The validation samples.\n",
    "            sampler = SequentialSampler(val_dataset), # Pull out batches sequentially.\n",
    "            batch_size = batch_size # Evaluate with this batch size.\n",
    "        )\n"
   ]
  },
  {
   "cell_type": "code",
   "execution_count": 20,
   "metadata": {
    "execution": {
     "iopub.execute_input": "2020-10-29T23:25:42.606281Z",
     "iopub.status.busy": "2020-10-29T23:25:42.606052Z",
     "iopub.status.idle": "2020-10-29T23:25:51.848820Z",
     "shell.execute_reply": "2020-10-29T23:25:51.848162Z",
     "shell.execute_reply.started": "2020-10-29T23:25:42.606252Z"
    }
   },
   "outputs": [
    {
     "data": {
      "text/plain": [
       "RobertaForSequenceClassification(\n",
       "  (roberta): RobertaModel(\n",
       "    (embeddings): RobertaEmbeddings(\n",
       "      (word_embeddings): Embedding(50265, 768, padding_idx=1)\n",
       "      (position_embeddings): Embedding(514, 768, padding_idx=1)\n",
       "      (token_type_embeddings): Embedding(1, 768)\n",
       "      (LayerNorm): LayerNorm((768,), eps=1e-05, elementwise_affine=True)\n",
       "      (dropout): Dropout(p=0.1, inplace=False)\n",
       "    )\n",
       "    (encoder): BertEncoder(\n",
       "      (layer): ModuleList(\n",
       "        (0): BertLayer(\n",
       "          (attention): BertAttention(\n",
       "            (self): BertSelfAttention(\n",
       "              (query): Linear(in_features=768, out_features=768, bias=True)\n",
       "              (key): Linear(in_features=768, out_features=768, bias=True)\n",
       "              (value): Linear(in_features=768, out_features=768, bias=True)\n",
       "              (dropout): Dropout(p=0.1, inplace=False)\n",
       "            )\n",
       "            (output): BertSelfOutput(\n",
       "              (dense): Linear(in_features=768, out_features=768, bias=True)\n",
       "              (LayerNorm): LayerNorm((768,), eps=1e-05, elementwise_affine=True)\n",
       "              (dropout): Dropout(p=0.1, inplace=False)\n",
       "            )\n",
       "          )\n",
       "          (intermediate): BertIntermediate(\n",
       "            (dense): Linear(in_features=768, out_features=3072, bias=True)\n",
       "          )\n",
       "          (output): BertOutput(\n",
       "            (dense): Linear(in_features=3072, out_features=768, bias=True)\n",
       "            (LayerNorm): LayerNorm((768,), eps=1e-05, elementwise_affine=True)\n",
       "            (dropout): Dropout(p=0.1, inplace=False)\n",
       "          )\n",
       "        )\n",
       "        (1): BertLayer(\n",
       "          (attention): BertAttention(\n",
       "            (self): BertSelfAttention(\n",
       "              (query): Linear(in_features=768, out_features=768, bias=True)\n",
       "              (key): Linear(in_features=768, out_features=768, bias=True)\n",
       "              (value): Linear(in_features=768, out_features=768, bias=True)\n",
       "              (dropout): Dropout(p=0.1, inplace=False)\n",
       "            )\n",
       "            (output): BertSelfOutput(\n",
       "              (dense): Linear(in_features=768, out_features=768, bias=True)\n",
       "              (LayerNorm): LayerNorm((768,), eps=1e-05, elementwise_affine=True)\n",
       "              (dropout): Dropout(p=0.1, inplace=False)\n",
       "            )\n",
       "          )\n",
       "          (intermediate): BertIntermediate(\n",
       "            (dense): Linear(in_features=768, out_features=3072, bias=True)\n",
       "          )\n",
       "          (output): BertOutput(\n",
       "            (dense): Linear(in_features=3072, out_features=768, bias=True)\n",
       "            (LayerNorm): LayerNorm((768,), eps=1e-05, elementwise_affine=True)\n",
       "            (dropout): Dropout(p=0.1, inplace=False)\n",
       "          )\n",
       "        )\n",
       "        (2): BertLayer(\n",
       "          (attention): BertAttention(\n",
       "            (self): BertSelfAttention(\n",
       "              (query): Linear(in_features=768, out_features=768, bias=True)\n",
       "              (key): Linear(in_features=768, out_features=768, bias=True)\n",
       "              (value): Linear(in_features=768, out_features=768, bias=True)\n",
       "              (dropout): Dropout(p=0.1, inplace=False)\n",
       "            )\n",
       "            (output): BertSelfOutput(\n",
       "              (dense): Linear(in_features=768, out_features=768, bias=True)\n",
       "              (LayerNorm): LayerNorm((768,), eps=1e-05, elementwise_affine=True)\n",
       "              (dropout): Dropout(p=0.1, inplace=False)\n",
       "            )\n",
       "          )\n",
       "          (intermediate): BertIntermediate(\n",
       "            (dense): Linear(in_features=768, out_features=3072, bias=True)\n",
       "          )\n",
       "          (output): BertOutput(\n",
       "            (dense): Linear(in_features=3072, out_features=768, bias=True)\n",
       "            (LayerNorm): LayerNorm((768,), eps=1e-05, elementwise_affine=True)\n",
       "            (dropout): Dropout(p=0.1, inplace=False)\n",
       "          )\n",
       "        )\n",
       "        (3): BertLayer(\n",
       "          (attention): BertAttention(\n",
       "            (self): BertSelfAttention(\n",
       "              (query): Linear(in_features=768, out_features=768, bias=True)\n",
       "              (key): Linear(in_features=768, out_features=768, bias=True)\n",
       "              (value): Linear(in_features=768, out_features=768, bias=True)\n",
       "              (dropout): Dropout(p=0.1, inplace=False)\n",
       "            )\n",
       "            (output): BertSelfOutput(\n",
       "              (dense): Linear(in_features=768, out_features=768, bias=True)\n",
       "              (LayerNorm): LayerNorm((768,), eps=1e-05, elementwise_affine=True)\n",
       "              (dropout): Dropout(p=0.1, inplace=False)\n",
       "            )\n",
       "          )\n",
       "          (intermediate): BertIntermediate(\n",
       "            (dense): Linear(in_features=768, out_features=3072, bias=True)\n",
       "          )\n",
       "          (output): BertOutput(\n",
       "            (dense): Linear(in_features=3072, out_features=768, bias=True)\n",
       "            (LayerNorm): LayerNorm((768,), eps=1e-05, elementwise_affine=True)\n",
       "            (dropout): Dropout(p=0.1, inplace=False)\n",
       "          )\n",
       "        )\n",
       "        (4): BertLayer(\n",
       "          (attention): BertAttention(\n",
       "            (self): BertSelfAttention(\n",
       "              (query): Linear(in_features=768, out_features=768, bias=True)\n",
       "              (key): Linear(in_features=768, out_features=768, bias=True)\n",
       "              (value): Linear(in_features=768, out_features=768, bias=True)\n",
       "              (dropout): Dropout(p=0.1, inplace=False)\n",
       "            )\n",
       "            (output): BertSelfOutput(\n",
       "              (dense): Linear(in_features=768, out_features=768, bias=True)\n",
       "              (LayerNorm): LayerNorm((768,), eps=1e-05, elementwise_affine=True)\n",
       "              (dropout): Dropout(p=0.1, inplace=False)\n",
       "            )\n",
       "          )\n",
       "          (intermediate): BertIntermediate(\n",
       "            (dense): Linear(in_features=768, out_features=3072, bias=True)\n",
       "          )\n",
       "          (output): BertOutput(\n",
       "            (dense): Linear(in_features=3072, out_features=768, bias=True)\n",
       "            (LayerNorm): LayerNorm((768,), eps=1e-05, elementwise_affine=True)\n",
       "            (dropout): Dropout(p=0.1, inplace=False)\n",
       "          )\n",
       "        )\n",
       "        (5): BertLayer(\n",
       "          (attention): BertAttention(\n",
       "            (self): BertSelfAttention(\n",
       "              (query): Linear(in_features=768, out_features=768, bias=True)\n",
       "              (key): Linear(in_features=768, out_features=768, bias=True)\n",
       "              (value): Linear(in_features=768, out_features=768, bias=True)\n",
       "              (dropout): Dropout(p=0.1, inplace=False)\n",
       "            )\n",
       "            (output): BertSelfOutput(\n",
       "              (dense): Linear(in_features=768, out_features=768, bias=True)\n",
       "              (LayerNorm): LayerNorm((768,), eps=1e-05, elementwise_affine=True)\n",
       "              (dropout): Dropout(p=0.1, inplace=False)\n",
       "            )\n",
       "          )\n",
       "          (intermediate): BertIntermediate(\n",
       "            (dense): Linear(in_features=768, out_features=3072, bias=True)\n",
       "          )\n",
       "          (output): BertOutput(\n",
       "            (dense): Linear(in_features=3072, out_features=768, bias=True)\n",
       "            (LayerNorm): LayerNorm((768,), eps=1e-05, elementwise_affine=True)\n",
       "            (dropout): Dropout(p=0.1, inplace=False)\n",
       "          )\n",
       "        )\n",
       "        (6): BertLayer(\n",
       "          (attention): BertAttention(\n",
       "            (self): BertSelfAttention(\n",
       "              (query): Linear(in_features=768, out_features=768, bias=True)\n",
       "              (key): Linear(in_features=768, out_features=768, bias=True)\n",
       "              (value): Linear(in_features=768, out_features=768, bias=True)\n",
       "              (dropout): Dropout(p=0.1, inplace=False)\n",
       "            )\n",
       "            (output): BertSelfOutput(\n",
       "              (dense): Linear(in_features=768, out_features=768, bias=True)\n",
       "              (LayerNorm): LayerNorm((768,), eps=1e-05, elementwise_affine=True)\n",
       "              (dropout): Dropout(p=0.1, inplace=False)\n",
       "            )\n",
       "          )\n",
       "          (intermediate): BertIntermediate(\n",
       "            (dense): Linear(in_features=768, out_features=3072, bias=True)\n",
       "          )\n",
       "          (output): BertOutput(\n",
       "            (dense): Linear(in_features=3072, out_features=768, bias=True)\n",
       "            (LayerNorm): LayerNorm((768,), eps=1e-05, elementwise_affine=True)\n",
       "            (dropout): Dropout(p=0.1, inplace=False)\n",
       "          )\n",
       "        )\n",
       "        (7): BertLayer(\n",
       "          (attention): BertAttention(\n",
       "            (self): BertSelfAttention(\n",
       "              (query): Linear(in_features=768, out_features=768, bias=True)\n",
       "              (key): Linear(in_features=768, out_features=768, bias=True)\n",
       "              (value): Linear(in_features=768, out_features=768, bias=True)\n",
       "              (dropout): Dropout(p=0.1, inplace=False)\n",
       "            )\n",
       "            (output): BertSelfOutput(\n",
       "              (dense): Linear(in_features=768, out_features=768, bias=True)\n",
       "              (LayerNorm): LayerNorm((768,), eps=1e-05, elementwise_affine=True)\n",
       "              (dropout): Dropout(p=0.1, inplace=False)\n",
       "            )\n",
       "          )\n",
       "          (intermediate): BertIntermediate(\n",
       "            (dense): Linear(in_features=768, out_features=3072, bias=True)\n",
       "          )\n",
       "          (output): BertOutput(\n",
       "            (dense): Linear(in_features=3072, out_features=768, bias=True)\n",
       "            (LayerNorm): LayerNorm((768,), eps=1e-05, elementwise_affine=True)\n",
       "            (dropout): Dropout(p=0.1, inplace=False)\n",
       "          )\n",
       "        )\n",
       "        (8): BertLayer(\n",
       "          (attention): BertAttention(\n",
       "            (self): BertSelfAttention(\n",
       "              (query): Linear(in_features=768, out_features=768, bias=True)\n",
       "              (key): Linear(in_features=768, out_features=768, bias=True)\n",
       "              (value): Linear(in_features=768, out_features=768, bias=True)\n",
       "              (dropout): Dropout(p=0.1, inplace=False)\n",
       "            )\n",
       "            (output): BertSelfOutput(\n",
       "              (dense): Linear(in_features=768, out_features=768, bias=True)\n",
       "              (LayerNorm): LayerNorm((768,), eps=1e-05, elementwise_affine=True)\n",
       "              (dropout): Dropout(p=0.1, inplace=False)\n",
       "            )\n",
       "          )\n",
       "          (intermediate): BertIntermediate(\n",
       "            (dense): Linear(in_features=768, out_features=3072, bias=True)\n",
       "          )\n",
       "          (output): BertOutput(\n",
       "            (dense): Linear(in_features=3072, out_features=768, bias=True)\n",
       "            (LayerNorm): LayerNorm((768,), eps=1e-05, elementwise_affine=True)\n",
       "            (dropout): Dropout(p=0.1, inplace=False)\n",
       "          )\n",
       "        )\n",
       "        (9): BertLayer(\n",
       "          (attention): BertAttention(\n",
       "            (self): BertSelfAttention(\n",
       "              (query): Linear(in_features=768, out_features=768, bias=True)\n",
       "              (key): Linear(in_features=768, out_features=768, bias=True)\n",
       "              (value): Linear(in_features=768, out_features=768, bias=True)\n",
       "              (dropout): Dropout(p=0.1, inplace=False)\n",
       "            )\n",
       "            (output): BertSelfOutput(\n",
       "              (dense): Linear(in_features=768, out_features=768, bias=True)\n",
       "              (LayerNorm): LayerNorm((768,), eps=1e-05, elementwise_affine=True)\n",
       "              (dropout): Dropout(p=0.1, inplace=False)\n",
       "            )\n",
       "          )\n",
       "          (intermediate): BertIntermediate(\n",
       "            (dense): Linear(in_features=768, out_features=3072, bias=True)\n",
       "          )\n",
       "          (output): BertOutput(\n",
       "            (dense): Linear(in_features=3072, out_features=768, bias=True)\n",
       "            (LayerNorm): LayerNorm((768,), eps=1e-05, elementwise_affine=True)\n",
       "            (dropout): Dropout(p=0.1, inplace=False)\n",
       "          )\n",
       "        )\n",
       "        (10): BertLayer(\n",
       "          (attention): BertAttention(\n",
       "            (self): BertSelfAttention(\n",
       "              (query): Linear(in_features=768, out_features=768, bias=True)\n",
       "              (key): Linear(in_features=768, out_features=768, bias=True)\n",
       "              (value): Linear(in_features=768, out_features=768, bias=True)\n",
       "              (dropout): Dropout(p=0.1, inplace=False)\n",
       "            )\n",
       "            (output): BertSelfOutput(\n",
       "              (dense): Linear(in_features=768, out_features=768, bias=True)\n",
       "              (LayerNorm): LayerNorm((768,), eps=1e-05, elementwise_affine=True)\n",
       "              (dropout): Dropout(p=0.1, inplace=False)\n",
       "            )\n",
       "          )\n",
       "          (intermediate): BertIntermediate(\n",
       "            (dense): Linear(in_features=768, out_features=3072, bias=True)\n",
       "          )\n",
       "          (output): BertOutput(\n",
       "            (dense): Linear(in_features=3072, out_features=768, bias=True)\n",
       "            (LayerNorm): LayerNorm((768,), eps=1e-05, elementwise_affine=True)\n",
       "            (dropout): Dropout(p=0.1, inplace=False)\n",
       "          )\n",
       "        )\n",
       "        (11): BertLayer(\n",
       "          (attention): BertAttention(\n",
       "            (self): BertSelfAttention(\n",
       "              (query): Linear(in_features=768, out_features=768, bias=True)\n",
       "              (key): Linear(in_features=768, out_features=768, bias=True)\n",
       "              (value): Linear(in_features=768, out_features=768, bias=True)\n",
       "              (dropout): Dropout(p=0.1, inplace=False)\n",
       "            )\n",
       "            (output): BertSelfOutput(\n",
       "              (dense): Linear(in_features=768, out_features=768, bias=True)\n",
       "              (LayerNorm): LayerNorm((768,), eps=1e-05, elementwise_affine=True)\n",
       "              (dropout): Dropout(p=0.1, inplace=False)\n",
       "            )\n",
       "          )\n",
       "          (intermediate): BertIntermediate(\n",
       "            (dense): Linear(in_features=768, out_features=3072, bias=True)\n",
       "          )\n",
       "          (output): BertOutput(\n",
       "            (dense): Linear(in_features=3072, out_features=768, bias=True)\n",
       "            (LayerNorm): LayerNorm((768,), eps=1e-05, elementwise_affine=True)\n",
       "            (dropout): Dropout(p=0.1, inplace=False)\n",
       "          )\n",
       "        )\n",
       "      )\n",
       "    )\n",
       "    (pooler): BertPooler(\n",
       "      (dense): Linear(in_features=768, out_features=768, bias=True)\n",
       "      (activation): Tanh()\n",
       "    )\n",
       "  )\n",
       "  (classifier): RobertaClassificationHead(\n",
       "    (dense): Linear(in_features=768, out_features=768, bias=True)\n",
       "    (dropout): Dropout(p=0.1, inplace=False)\n",
       "    (out_proj): Linear(in_features=768, out_features=2, bias=True)\n",
       "  )\n",
       ")"
      ]
     },
     "execution_count": 20,
     "metadata": {},
     "output_type": "execute_result"
    }
   ],
   "source": [
    "# Load BertForSequenceClassification, the pretrained BERT model with a single \n",
    "# linear classification layer on top. \n",
    "import torch.nn as nn\n",
    "model = AutoModelForSequenceClassification.from_pretrained(\n",
    "    models[model_num], # Use the 12-layer BERT model, with an uncased vocab.\n",
    "    num_labels = 2, # The number of output labels--2 for binary classification.\n",
    "                    # You can increase this for multi-class tasks.\n",
    "    output_attentions = False, # Whether the model returns attentions weights.\n",
    "    output_hidden_states = False, # Whether the model returns all hidden-states.\n",
    ")\n",
    "\n",
    "# Tell pytorch to run this model on the GPU.\n",
    "# model = nn.DataParallel(model)\n",
    "model.to(device)\n"
   ]
  },
  {
   "cell_type": "code",
   "execution_count": 21,
   "metadata": {
    "execution": {
     "iopub.execute_input": "2020-10-29T23:25:51.850218Z",
     "iopub.status.busy": "2020-10-29T23:25:51.850052Z",
     "iopub.status.idle": "2020-10-29T23:25:51.858512Z",
     "shell.execute_reply": "2020-10-29T23:25:51.858046Z",
     "shell.execute_reply.started": "2020-10-29T23:25:51.850196Z"
    }
   },
   "outputs": [
    {
     "name": "stdout",
     "output_type": "stream",
     "text": [
      "The BERT model has 203 different named parameters.\n",
      "\n",
      "==== Embedding Layer ====\n",
      "\n",
      "roberta.embeddings.word_embeddings.weight               (50265, 768)\n",
      "roberta.embeddings.position_embeddings.weight             (514, 768)\n",
      "roberta.embeddings.token_type_embeddings.weight             (1, 768)\n",
      "roberta.embeddings.LayerNorm.weight                           (768,)\n",
      "roberta.embeddings.LayerNorm.bias                             (768,)\n",
      "\n",
      "==== First Transformer ====\n",
      "\n",
      "roberta.encoder.layer.0.attention.self.query.weight       (768, 768)\n",
      "roberta.encoder.layer.0.attention.self.query.bias             (768,)\n",
      "roberta.encoder.layer.0.attention.self.key.weight         (768, 768)\n",
      "roberta.encoder.layer.0.attention.self.key.bias               (768,)\n",
      "roberta.encoder.layer.0.attention.self.value.weight       (768, 768)\n",
      "roberta.encoder.layer.0.attention.self.value.bias             (768,)\n",
      "roberta.encoder.layer.0.attention.output.dense.weight     (768, 768)\n",
      "roberta.encoder.layer.0.attention.output.dense.bias           (768,)\n",
      "roberta.encoder.layer.0.attention.output.LayerNorm.weight       (768,)\n",
      "roberta.encoder.layer.0.attention.output.LayerNorm.bias       (768,)\n",
      "roberta.encoder.layer.0.intermediate.dense.weight        (3072, 768)\n",
      "roberta.encoder.layer.0.intermediate.dense.bias              (3072,)\n",
      "roberta.encoder.layer.0.output.dense.weight              (768, 3072)\n",
      "roberta.encoder.layer.0.output.dense.bias                     (768,)\n",
      "roberta.encoder.layer.0.output.LayerNorm.weight               (768,)\n",
      "roberta.encoder.layer.0.output.LayerNorm.bias                 (768,)\n",
      "\n",
      "==== Output Layer ====\n",
      "\n",
      "classifier.dense.weight                                   (768, 768)\n",
      "classifier.dense.bias                                         (768,)\n",
      "classifier.out_proj.weight                                  (2, 768)\n",
      "classifier.out_proj.bias                                        (2,)\n"
     ]
    }
   ],
   "source": [
    "params = list(model.named_parameters())\n",
    "\n",
    "print('The BERT model has {:} different named parameters.\\n'.format(len(params)))\n",
    "\n",
    "print('==== Embedding Layer ====\\n')\n",
    "\n",
    "for p in params[0:5]:\n",
    "    print(\"{:<55} {:>12}\".format(p[0], str(tuple(p[1].size()))))\n",
    "\n",
    "print('\\n==== First Transformer ====\\n')\n",
    "\n",
    "for p in params[5:21]:\n",
    "    print(\"{:<55} {:>12}\".format(p[0], str(tuple(p[1].size()))))\n",
    "\n",
    "print('\\n==== Output Layer ====\\n')\n",
    "\n",
    "for p in params[-4:]:\n",
    "    print(\"{:<55} {:>12}\".format(p[0], str(tuple(p[1].size()))))\n"
   ]
  },
  {
   "cell_type": "code",
   "execution_count": 22,
   "metadata": {
    "execution": {
     "iopub.execute_input": "2020-10-29T23:25:51.859325Z",
     "iopub.status.busy": "2020-10-29T23:25:51.859187Z",
     "iopub.status.idle": "2020-10-29T23:25:51.862563Z",
     "shell.execute_reply": "2020-10-29T23:25:51.862121Z",
     "shell.execute_reply.started": "2020-10-29T23:25:51.859308Z"
    }
   },
   "outputs": [],
   "source": [
    "optimizer = AdamW(model.parameters(),\n",
    "                  lr = 5e-5, # args.learning_rate - default is 5e-5, our notebook had 2e-5\n",
    "                  eps = 1e-8 # args.adam_epsilon  - default is 1e-8.\n",
    "                )"
   ]
  },
  {
   "cell_type": "code",
   "execution_count": 23,
   "metadata": {
    "execution": {
     "iopub.execute_input": "2020-10-29T23:25:51.863375Z",
     "iopub.status.busy": "2020-10-29T23:25:51.863231Z",
     "iopub.status.idle": "2020-10-29T23:25:51.869444Z",
     "shell.execute_reply": "2020-10-29T23:25:51.868835Z",
     "shell.execute_reply.started": "2020-10-29T23:25:51.863357Z"
    }
   },
   "outputs": [],
   "source": [
    "# Number of training epochs. The BERT authors recommend between 2 and 4. \n",
    "# We chose to run for 4, but we'll see later that this may be over-fitting the\n",
    "# training data.\n",
    "epochs = 4\n",
    "\n",
    "# Total number of training steps is [number of batches] x [number of epochs]. \n",
    "# (Note that this is not the same as the number of training samples).\n",
    "total_steps = len(train_dataloader) * epochs\n",
    "\n",
    "# Create the learning rate scheduler.\n",
    "scheduler = get_linear_schedule_with_warmup(optimizer, \n",
    "                                            num_warmup_steps = 0, # Default value in run_glue.py\n",
    "                                            num_training_steps = total_steps)\n"
   ]
  },
  {
   "cell_type": "code",
   "execution_count": 24,
   "metadata": {
    "execution": {
     "iopub.execute_input": "2020-10-29T23:25:51.870388Z",
     "iopub.status.busy": "2020-10-29T23:25:51.870244Z",
     "iopub.status.idle": "2020-10-29T23:25:51.876184Z",
     "shell.execute_reply": "2020-10-29T23:25:51.875642Z",
     "shell.execute_reply.started": "2020-10-29T23:25:51.870371Z"
    }
   },
   "outputs": [],
   "source": [
    "# Function to calculate the accuracy of our predictions vs labels\n",
    "def flat_accuracy(preds, labels):\n",
    "    pred_flat = np.argmax(preds, axis=1).flatten()\n",
    "    labels_flat = labels.flatten()\n",
    "    return np.sum(pred_flat == labels_flat) / len(labels_flat)\n"
   ]
  },
  {
   "cell_type": "code",
   "execution_count": 25,
   "metadata": {
    "execution": {
     "iopub.execute_input": "2020-10-29T23:25:51.877059Z",
     "iopub.status.busy": "2020-10-29T23:25:51.876898Z",
     "iopub.status.idle": "2020-10-29T23:25:51.883402Z",
     "shell.execute_reply": "2020-10-29T23:25:51.882718Z",
     "shell.execute_reply.started": "2020-10-29T23:25:51.877041Z"
    }
   },
   "outputs": [],
   "source": [
    "def format_time(elapsed):\n",
    "    '''\n",
    "    Takes a time in seconds and returns a string hh:mm:ss\n",
    "    '''\n",
    "    # Round to the nearest second.\n",
    "    elapsed_rounded = int(round((elapsed)))\n",
    "    \n",
    "    # Format as hh:mm:ss\n",
    "    return str(datetime.timedelta(seconds=elapsed_rounded))\n",
    "\n"
   ]
  },
  {
   "cell_type": "code",
   "execution_count": 36,
   "metadata": {
    "execution": {
     "iopub.execute_input": "2020-10-30T00:58:08.976460Z",
     "iopub.status.busy": "2020-10-30T00:58:08.976175Z",
     "iopub.status.idle": "2020-10-30T01:33:41.131004Z",
     "shell.execute_reply": "2020-10-30T01:33:41.130280Z",
     "shell.execute_reply.started": "2020-10-30T00:58:08.976433Z"
    }
   },
   "outputs": [
    {
     "name": "stdout",
     "output_type": "stream",
     "text": [
      "\n",
      "======== Epoch 1 / 4 ========\n",
      "Training...\n",
      "  Batch    40  of  3,803.    Elapsed: 0:00:17.\n",
      "  Batch    80  of  3,803.    Elapsed: 0:00:35.\n",
      "  Batch   120  of  3,803.    Elapsed: 0:00:52.\n",
      "  Batch   160  of  3,803.    Elapsed: 0:01:10.\n",
      "  Batch   200  of  3,803.    Elapsed: 0:01:27.\n",
      "  Batch   240  of  3,803.    Elapsed: 0:01:45.\n",
      "  Batch   280  of  3,803.    Elapsed: 0:02:03.\n",
      "  Batch   320  of  3,803.    Elapsed: 0:02:21.\n",
      "  Batch   360  of  3,803.    Elapsed: 0:02:39.\n",
      "  Batch   400  of  3,803.    Elapsed: 0:02:57.\n",
      "  Batch   440  of  3,803.    Elapsed: 0:03:15.\n",
      "  Batch   480  of  3,803.    Elapsed: 0:03:33.\n",
      "  Batch   520  of  3,803.    Elapsed: 0:03:51.\n",
      "  Batch   560  of  3,803.    Elapsed: 0:04:09.\n",
      "  Batch   600  of  3,803.    Elapsed: 0:04:27.\n",
      "  Batch   640  of  3,803.    Elapsed: 0:04:45.\n",
      "  Batch   680  of  3,803.    Elapsed: 0:05:03.\n",
      "  Batch   720  of  3,803.    Elapsed: 0:05:21.\n",
      "  Batch   760  of  3,803.    Elapsed: 0:05:39.\n",
      "  Batch   800  of  3,803.    Elapsed: 0:05:57.\n",
      "  Batch   840  of  3,803.    Elapsed: 0:06:16.\n",
      "  Batch   880  of  3,803.    Elapsed: 0:06:34.\n",
      "  Batch   920  of  3,803.    Elapsed: 0:06:52.\n",
      "  Batch   960  of  3,803.    Elapsed: 0:07:10.\n",
      "  Batch 1,000  of  3,803.    Elapsed: 0:07:28.\n",
      "  Batch 1,040  of  3,803.    Elapsed: 0:07:46.\n",
      "  Batch 1,080  of  3,803.    Elapsed: 0:08:04.\n",
      "  Batch 1,120  of  3,803.    Elapsed: 0:08:22.\n",
      "  Batch 1,160  of  3,803.    Elapsed: 0:08:40.\n",
      "  Batch 1,200  of  3,803.    Elapsed: 0:08:58.\n",
      "  Batch 1,240  of  3,803.    Elapsed: 0:09:16.\n",
      "  Batch 1,280  of  3,803.    Elapsed: 0:09:34.\n",
      "  Batch 1,320  of  3,803.    Elapsed: 0:09:53.\n",
      "  Batch 1,360  of  3,803.    Elapsed: 0:10:11.\n",
      "  Batch 1,400  of  3,803.    Elapsed: 0:10:29.\n",
      "  Batch 1,440  of  3,803.    Elapsed: 0:10:47.\n",
      "  Batch 1,480  of  3,803.    Elapsed: 0:11:05.\n",
      "  Batch 1,520  of  3,803.    Elapsed: 0:11:23.\n",
      "  Batch 1,560  of  3,803.    Elapsed: 0:11:41.\n",
      "  Batch 1,600  of  3,803.    Elapsed: 0:11:59.\n",
      "  Batch 1,640  of  3,803.    Elapsed: 0:12:17.\n",
      "  Batch 1,680  of  3,803.    Elapsed: 0:12:35.\n",
      "  Batch 1,720  of  3,803.    Elapsed: 0:12:53.\n",
      "  Batch 1,760  of  3,803.    Elapsed: 0:13:12.\n",
      "  Batch 1,800  of  3,803.    Elapsed: 0:13:30.\n",
      "  Batch 1,840  of  3,803.    Elapsed: 0:13:48.\n",
      "  Batch 1,880  of  3,803.    Elapsed: 0:14:06.\n",
      "  Batch 1,920  of  3,803.    Elapsed: 0:14:24.\n",
      "  Batch 1,960  of  3,803.    Elapsed: 0:14:42.\n",
      "  Batch 2,000  of  3,803.    Elapsed: 0:15:00.\n",
      "  Batch 2,040  of  3,803.    Elapsed: 0:15:18.\n",
      "  Batch 2,080  of  3,803.    Elapsed: 0:15:36.\n",
      "  Batch 2,120  of  3,803.    Elapsed: 0:15:54.\n",
      "  Batch 2,160  of  3,803.    Elapsed: 0:16:12.\n",
      "  Batch 2,200  of  3,803.    Elapsed: 0:16:30.\n",
      "  Batch 2,240  of  3,803.    Elapsed: 0:16:48.\n",
      "  Batch 2,280  of  3,803.    Elapsed: 0:17:06.\n",
      "  Batch 2,320  of  3,803.    Elapsed: 0:17:25.\n",
      "  Batch 2,360  of  3,803.    Elapsed: 0:17:43.\n",
      "  Batch 2,400  of  3,803.    Elapsed: 0:18:01.\n",
      "  Batch 2,440  of  3,803.    Elapsed: 0:18:19.\n",
      "  Batch 2,480  of  3,803.    Elapsed: 0:18:37.\n",
      "  Batch 2,520  of  3,803.    Elapsed: 0:18:55.\n",
      "  Batch 2,560  of  3,803.    Elapsed: 0:19:13.\n",
      "  Batch 2,600  of  3,803.    Elapsed: 0:19:31.\n",
      "  Batch 2,640  of  3,803.    Elapsed: 0:19:49.\n",
      "  Batch 2,680  of  3,803.    Elapsed: 0:20:07.\n",
      "  Batch 2,720  of  3,803.    Elapsed: 0:20:25.\n",
      "  Batch 2,760  of  3,803.    Elapsed: 0:20:43.\n",
      "  Batch 2,800  of  3,803.    Elapsed: 0:21:01.\n",
      "  Batch 2,840  of  3,803.    Elapsed: 0:21:19.\n",
      "  Batch 2,880  of  3,803.    Elapsed: 0:21:37.\n",
      "  Batch 2,920  of  3,803.    Elapsed: 0:21:55.\n",
      "  Batch 2,960  of  3,803.    Elapsed: 0:22:14.\n",
      "  Batch 3,000  of  3,803.    Elapsed: 0:22:32.\n",
      "  Batch 3,040  of  3,803.    Elapsed: 0:22:50.\n",
      "  Batch 3,080  of  3,803.    Elapsed: 0:23:08.\n",
      "  Batch 3,120  of  3,803.    Elapsed: 0:23:26.\n",
      "  Batch 3,160  of  3,803.    Elapsed: 0:23:44.\n",
      "  Batch 3,200  of  3,803.    Elapsed: 0:24:02.\n",
      "  Batch 3,240  of  3,803.    Elapsed: 0:24:20.\n",
      "  Batch 3,280  of  3,803.    Elapsed: 0:24:38.\n",
      "  Batch 3,320  of  3,803.    Elapsed: 0:24:56.\n",
      "  Batch 3,360  of  3,803.    Elapsed: 0:25:14.\n",
      "  Batch 3,400  of  3,803.    Elapsed: 0:25:32.\n",
      "  Batch 3,440  of  3,803.    Elapsed: 0:25:50.\n",
      "  Batch 3,480  of  3,803.    Elapsed: 0:26:08.\n",
      "  Batch 3,520  of  3,803.    Elapsed: 0:26:27.\n",
      "  Batch 3,560  of  3,803.    Elapsed: 0:26:45.\n",
      "  Batch 3,600  of  3,803.    Elapsed: 0:27:03.\n",
      "  Batch 3,640  of  3,803.    Elapsed: 0:27:21.\n",
      "  Batch 3,680  of  3,803.    Elapsed: 0:27:39.\n",
      "  Batch 3,720  of  3,803.    Elapsed: 0:27:57.\n",
      "  Batch 3,760  of  3,803.    Elapsed: 0:28:15.\n",
      "  Batch 3,800  of  3,803.    Elapsed: 0:28:33.\n",
      "\n",
      "  Average training loss: 0.15\n",
      "  Training epcoh took: 0:28:34\n",
      "\n",
      "Running Validation...\n",
      "  Accuracy: 0.92\n",
      "  Validation Loss: 0.27\n",
      "  Validation took: 0:01:22\n"
     ]
    },
    {
     "name": "stdin",
     "output_type": "stream",
     "text": [
      " y\n"
     ]
    },
    {
     "name": "stdout",
     "output_type": "stream",
     "text": [
      "\n",
      "Training complete!\n",
      "Total training took 0:35:32 (h:mm:ss)\n"
     ]
    }
   ],
   "source": [
    "seed_val = 42\n",
    "torch.cuda.empty_cache()\n",
    "random.seed(seed_val)\n",
    "np.random.seed(seed_val)\n",
    "torch.manual_seed(seed_val)\n",
    "torch.cuda.manual_seed_all(seed_val)\n",
    "\n",
    "# We'll store a number of quantities such as training and validation loss, \n",
    "# validation accuracy, and timings.\n",
    "training_stats = []\n",
    "\n",
    "# Measure the total training time for the whole run.\n",
    "total_t0 = time.time()\n",
    "\n",
    "# For each epoch...\n",
    "for epoch_i in range(0, epochs):\n",
    "    \n",
    "    # ========================================\n",
    "    #               Training\n",
    "    # ========================================\n",
    "    \n",
    "    # Perform one full pass over the training set.\n",
    "\n",
    "    print(\"\")\n",
    "    print('======== Epoch {:} / {:} ========'.format(epoch_i + 1, epochs))\n",
    "    print('Training...')\n",
    "\n",
    "    # Measure how long the training epoch takes.\n",
    "    t0 = time.time()\n",
    "\n",
    "    # Reset the total loss for this epoch.\n",
    "    total_train_loss = 0\n",
    "\n",
    "    # Put the model into training mode. Don't be mislead--the call to \n",
    "    # `train` just changes the *mode*, it doesn't *perform* the training.\n",
    "    # `dropout` and `batchnorm` layers behave differently during training\n",
    "    # vs. test (source: https://stackoverflow.com/questions/51433378/what-does-model-train-do-in-pytorch)\n",
    "    model.train()\n",
    "\n",
    "    # For each batch of training data...\n",
    "    for step, batch in enumerate(train_dataloader):\n",
    "\n",
    "        # Progress update every 40 batches.\n",
    "        if step % 40 == 0 and not step == 0:\n",
    "            # Calculate elapsed time in minutes.\n",
    "            elapsed = format_time(time.time() - t0)\n",
    "            \n",
    "            # Report progress.\n",
    "            print('  Batch {:>5,}  of  {:>5,}.    Elapsed: {:}.'.format(step, len(train_dataloader), elapsed))\n",
    "\n",
    "        # Unpack this training batch from our dataloader. \n",
    "        #\n",
    "        # As we unpack the batch, we'll also copy each tensor to the GPU using the \n",
    "        # `to` method.\n",
    "        #\n",
    "        # `batch` contains three pytorch tensors:\n",
    "        #   [0]: input ids \n",
    "        #   [1]: attention masks\n",
    "        #   [2]: labels \n",
    "        b_input_ids = batch[0].to(device)\n",
    "        b_input_mask = batch[1].to(device)\n",
    "        b_labels = batch[2].to(device)\n",
    "\n",
    "        # Always clear any previously calculated gradients before performing a\n",
    "        # backward pass. PyTorch doesn't do this automatically because \n",
    "        # accumulating the gradients is \"convenient while training RNNs\". \n",
    "        # (source: https://stackoverflow.com/questions/48001598/why-do-we-need-to-call-zero-grad-in-pytorch)\n",
    "        model.zero_grad()        \n",
    "\n",
    "        # Perform a forward pass (evaluate the model on this training batch).\n",
    "        # The documentation for this `model` function is here: \n",
    "        # https://huggingface.co/transformers/v2.2.0/model_doc/bert.html#transformers.BertForSequenceClassification\n",
    "        # It returns different numbers of parameters depending on what arguments\n",
    "        # arge given and what flags are set. For our useage here, it returns\n",
    "        # the loss (because we provided labels) and the \"logits\"--the model\n",
    "        # outputs prior to activation.\n",
    "        loss, logits = model(b_input_ids, \n",
    "                             token_type_ids=None, \n",
    "                             attention_mask=b_input_mask, \n",
    "                             labels=b_labels)\n",
    "\n",
    "        # Accumulate the training loss over all of the batches so that we can\n",
    "        # calculate the average loss at the end. `loss` is a Tensor containing a\n",
    "        # single value; the `.item()` function just returns the Python value \n",
    "        # from the tensor.\n",
    "#         print(loss)\n",
    "        total_train_loss += loss.item()\n",
    "\n",
    "        # Perform a backward pass to calculate the gradients.\n",
    "        \n",
    "        loss.backward()\n",
    "\n",
    "        # Clip the norm of the gradients to 1.0.\n",
    "        # This is to help prevent the \"exploding gradients\" problem.\n",
    "        torch.nn.utils.clip_grad_norm_(model.parameters(), 1.0)\n",
    "\n",
    "        # Update parameters and take a step using the computed gradient.\n",
    "        # The optimizer dictates the \"update rule\"--how the parameters are\n",
    "        # modified based on their gradients, the learning rate, etc.\n",
    "        optimizer.step()\n",
    "\n",
    "        # Update the learning rate.\n",
    "        scheduler.step()\n",
    "\n",
    "    # Calculate the average loss over all of the batches.\n",
    "    avg_train_loss = total_train_loss / len(train_dataloader)            \n",
    "    \n",
    "    # Measure how long this epoch took.\n",
    "    training_time = format_time(time.time() - t0)\n",
    "\n",
    "    print(\"\")\n",
    "    print(\"  Average training loss: {0:.2f}\".format(avg_train_loss))\n",
    "    print(\"  Training epcoh took: {:}\".format(training_time))\n",
    "        \n",
    "    # ========================================\n",
    "    #               Validation\n",
    "    # ========================================\n",
    "    # After the completion of each training epoch, measure our performance on\n",
    "    # our validation set.\n",
    "\n",
    "    print(\"\")\n",
    "    print(\"Running Validation...\")\n",
    "\n",
    "    t0 = time.time()\n",
    "\n",
    "    # Put the model in evaluation mode--the dropout layers behave differently\n",
    "    # during evaluation.\n",
    "    model.eval()\n",
    "\n",
    "    # Tracking variables \n",
    "    total_eval_accuracy = 0\n",
    "    total_eval_loss = 0\n",
    "    nb_eval_steps = 0\n",
    "\n",
    "    # Evaluate data for one epoch\n",
    "    for batch in validation_dataloader:\n",
    "        \n",
    "        # Unpack this training batch from our dataloader. \n",
    "        #\n",
    "        # As we unpack the batch, we'll also copy each tensor to the GPU using \n",
    "        # the `to` method.\n",
    "        #\n",
    "        # `batch` contains three pytorch tensors:\n",
    "        #   [0]: input ids \n",
    "        #   [1]: attention masks\n",
    "        #   [2]: labels \n",
    "        b_input_ids = batch[0].to(device)\n",
    "        b_input_mask = batch[1].to(device)\n",
    "        b_labels = batch[2].to(device)\n",
    "        \n",
    "        # Tell pytorch not to bother with constructing the compute graph during\n",
    "        # the forward pass, since this is only needed for backprop (training).\n",
    "        with torch.no_grad():        \n",
    "\n",
    "            # Forward pass, calculate logit predictions.\n",
    "            # token_type_ids is the same as the \"segment ids\", which \n",
    "            # differentiates sentence 1 and 2 in 2-sentence tasks.\n",
    "            # The documentation for this `model` function is here: \n",
    "            # https://huggingface.co/transformers/v2.2.0/model_doc/bert.html#transformers.BertForSequenceClassification\n",
    "            # Get the \"logits\" output by the model. The \"logits\" are the output\n",
    "            # values prior to applying an activation function like the softmax.\n",
    "            (loss, logits) = model(b_input_ids, \n",
    "                                   token_type_ids=None, \n",
    "                                   attention_mask=b_input_mask,\n",
    "                                   labels=b_labels)\n",
    "            \n",
    "        # Accumulate the validation loss.\n",
    "        total_eval_loss += loss.item()\n",
    "\n",
    "        # Move logits and labels to CPU\n",
    "        logits = logits.detach().cpu().numpy()\n",
    "        label_ids = b_labels.to('cpu').numpy()\n",
    "\n",
    "        # Calculate the accuracy for this batch of test sentences, and\n",
    "        # accumulate it over all batches.\n",
    "        total_eval_accuracy += flat_accuracy(logits, label_ids)\n",
    "        \n",
    "\n",
    "    # Report the final accuracy for this validation run.\n",
    "    avg_val_accuracy = total_eval_accuracy / len(validation_dataloader)\n",
    "    print(\"  Accuracy: {0:.2f}\".format(avg_val_accuracy))\n",
    "\n",
    "    # Calculate the average loss over all of the batches.\n",
    "    avg_val_loss = total_eval_loss / len(validation_dataloader)\n",
    "    \n",
    "    # Measure how long the validation run took.\n",
    "    validation_time = format_time(time.time() - t0)\n",
    "    \n",
    "    print(\"  Validation Loss: {0:.2f}\".format(avg_val_loss))\n",
    "    print(\"  Validation took: {:}\".format(validation_time))\n",
    "    # Record all statistics from this epoch.\n",
    "    training_stats.append(\n",
    "        {\n",
    "            'epoch': epoch_i + 1,\n",
    "            'Training Loss': avg_train_loss,\n",
    "            'Valid. Loss': avg_val_loss,\n",
    "            'Valid. Accur.': avg_val_accuracy,\n",
    "            'Training Time': training_time,\n",
    "            'Validation Time': validation_time\n",
    "        }\n",
    "    )\n",
    "    if epoch_i >= 0:\n",
    "        inp = input()\n",
    "        if inp.startswith('y'):\n",
    "            break\n",
    "\n",
    "print(\"\")\n",
    "print(\"Training complete!\")\n",
    "\n",
    "print(\"Total training took {:} (h:mm:ss)\".format(format_time(time.time()-total_t0)))\n"
   ]
  },
  {
   "cell_type": "code",
   "execution_count": 37,
   "metadata": {
    "execution": {
     "iopub.execute_input": "2020-10-30T01:33:46.406375Z",
     "iopub.status.busy": "2020-10-30T01:33:46.406165Z",
     "iopub.status.idle": "2020-10-30T01:33:46.420827Z",
     "shell.execute_reply": "2020-10-30T01:33:46.420319Z",
     "shell.execute_reply.started": "2020-10-30T01:33:46.406348Z"
    }
   },
   "outputs": [
    {
     "data": {
      "text/html": [
       "<div>\n",
       "<style scoped>\n",
       "    .dataframe tbody tr th:only-of-type {\n",
       "        vertical-align: middle;\n",
       "    }\n",
       "\n",
       "    .dataframe tbody tr th {\n",
       "        vertical-align: top;\n",
       "    }\n",
       "\n",
       "    .dataframe thead th {\n",
       "        text-align: right;\n",
       "    }\n",
       "</style>\n",
       "<table border=\"1\" class=\"dataframe\">\n",
       "  <thead>\n",
       "    <tr style=\"text-align: right;\">\n",
       "      <th></th>\n",
       "      <th>Training Loss</th>\n",
       "      <th>Valid. Loss</th>\n",
       "      <th>Valid. Accur.</th>\n",
       "      <th>Training Time</th>\n",
       "      <th>Validation Time</th>\n",
       "    </tr>\n",
       "    <tr>\n",
       "      <th>epoch</th>\n",
       "      <th></th>\n",
       "      <th></th>\n",
       "      <th></th>\n",
       "      <th></th>\n",
       "      <th></th>\n",
       "    </tr>\n",
       "  </thead>\n",
       "  <tbody>\n",
       "    <tr>\n",
       "      <th>1</th>\n",
       "      <td>0.15</td>\n",
       "      <td>0.27</td>\n",
       "      <td>0.92</td>\n",
       "      <td>0:28:34</td>\n",
       "      <td>0:01:22</td>\n",
       "    </tr>\n",
       "  </tbody>\n",
       "</table>\n",
       "</div>"
      ],
      "text/plain": [
       "       Training Loss  Valid. Loss  Valid. Accur. Training Time Validation Time\n",
       "epoch                                                                         \n",
       "1               0.15         0.27           0.92       0:28:34         0:01:22"
      ]
     },
     "execution_count": 37,
     "metadata": {},
     "output_type": "execute_result"
    }
   ],
   "source": [
    "import pandas as pd\n",
    "\n",
    "# Display floats with two decimal places.\n",
    "pd.set_option('precision', 2)\n",
    "\n",
    "# Create a DataFrame from our training statistics.\n",
    "df_stats = pd.DataFrame(data=training_stats)\n",
    "\n",
    "# Use the 'epoch' as the row index.\"\"\n",
    "df_stats = df_stats.set_index('epoch')\n",
    "\n",
    "# A hack to force the column headers to wrap.\n",
    "#df = df.style.set_table_styles([dict(selector=\"th\",props=[('max-width', '70px')])])\n",
    "\n",
    "# Display the table.\n",
    "df_stats"
   ]
  },
  {
   "cell_type": "code",
   "execution_count": 38,
   "metadata": {
    "execution": {
     "iopub.execute_input": "2020-10-30T01:33:46.679300Z",
     "iopub.status.busy": "2020-10-30T01:33:46.679134Z",
     "iopub.status.idle": "2020-10-30T01:33:46.831535Z",
     "shell.execute_reply": "2020-10-30T01:33:46.831142Z",
     "shell.execute_reply.started": "2020-10-30T01:33:46.679280Z"
    }
   },
   "outputs": [
    {
     "data": {
      "image/png": "[encoded data removed]",
      "text/plain": [
       "<Figure size 864x432 with 1 Axes>"
      ]
     },
     "metadata": {},
     "output_type": "display_data"
    }
   ],
   "source": [
    "sns.set(style='darkgrid')\n",
    "\n",
    "# Increase the plot size and font size.\n",
    "sns.set(font_scale=1.5)\n",
    "plt.rcParams[\"figure.figsize\"] = (12,6)\n",
    "\n",
    "# Plot the learning curve.\n",
    "plt.plot(df_stats['Training Loss'], 'b-o', label=\"Training\")\n",
    "plt.plot(df_stats['Valid. Loss'], 'g-o', label=\"Validation\")\n",
    "\n",
    "# Label the plot.\n",
    "plt.title(\"Training & Validation Loss\")\n",
    "plt.xlabel(\"Epoch\")\n",
    "plt.ylabel(\"Loss\")\n",
    "plt.legend()\n",
    "plt.xticks([1, 2, 3, 4])\n",
    "\n",
    "plt.show()"
   ]
  },
  {
   "cell_type": "code",
   "execution_count": 39,
   "metadata": {
    "execution": {
     "iopub.execute_input": "2020-10-30T01:33:46.898148Z",
     "iopub.status.busy": "2020-10-30T01:33:46.897992Z",
     "iopub.status.idle": "2020-10-30T01:33:46.900902Z",
     "shell.execute_reply": "2020-10-30T01:33:46.900290Z",
     "shell.execute_reply.started": "2020-10-30T01:33:46.898129Z"
    }
   },
   "outputs": [],
   "source": [
    "posts = val_l\n",
    "categories = val_label_l"
   ]
  },
  {
   "cell_type": "code",
   "execution_count": 40,
   "metadata": {
    "execution": {
     "iopub.execute_input": "2020-10-30T01:33:47.139809Z",
     "iopub.status.busy": "2020-10-30T01:33:47.139654Z",
     "iopub.status.idle": "2020-10-30T01:34:16.942526Z",
     "shell.execute_reply": "2020-10-30T01:34:16.941805Z",
     "shell.execute_reply.started": "2020-10-30T01:33:47.139790Z"
    }
   },
   "outputs": [
    {
     "name": "stderr",
     "output_type": "stream",
     "text": [
      "/home/tathagata.raha/miniconda3/envs/fastai/lib/python3.8/site-packages/transformers/tokenization_utils_base.py:1764: FutureWarning: The `pad_to_max_length` argument is deprecated and will be removed in a future version, use `padding=True` or `padding='longest'` to pad to the longest sequence in the batch, or use `padding='max_length'` to pad to a max length. In this case, you can give a specific length with `max_length` (e.g. `max_length=45`) or leave max_length to None to pad to the maximal input size of the model (e.g. 512 for Bert).\n",
      "  warnings.warn(\n"
     ]
    }
   ],
   "source": [
    "input_ids = []\n",
    "attention_masks = []\n",
    "\n",
    "# For every sentence...\n",
    "for sent in posts:\n",
    "    # `encode_plus` will:\n",
    "    #   (1) Tokenize the sentence.\n",
    "    #   (2) Prepend the `[CLS]` token to the start.\n",
    "    #   (3) Append the `[SEP]` token to the end.\n",
    "    #   (4) Map tokens to their IDs.\n",
    "    #   (5) Pad or truncate the sentence to `max_length`\n",
    "    #   (6) Create attention masks for [PAD] tokens.\n",
    "    encoded_dict = tokenizer.encode_plus(\n",
    "                        sent,                      # Sentence to encode.\n",
    "                        truncation=True,\n",
    "                        add_special_tokens = True, # Add '[CLS]' and '[SEP]'\n",
    "                        max_length = MAX_LENGTH,           # Pad & truncate all sentences.\n",
    "                        pad_to_max_length = True,\n",
    "                        return_attention_mask = True,   # Construct attn. masks.\n",
    "                        return_tensors = 'pt',     # Return pytorch tensors.\n",
    "                   )\n",
    "    \n",
    "    # Add the encoded sentence to the list.    \n",
    "    input_ids.append(encoded_dict['input_ids'])\n",
    "    \n",
    "    # And its attention mask (simply differentiates padding from non-padding).\n",
    "    attention_masks.append(encoded_dict['attention_mask'])\n",
    "\n",
    "# Convert the lists into tensors.\n",
    "input_ids = torch.cat(input_ids, dim=0)\n",
    "attention_masks = torch.cat(attention_masks, dim=0)\n",
    "labels = torch.tensor(categories)\n",
    "\n",
    "# Set the batch size.  \n",
    "batch_size = 32\n",
    "\n",
    "# Create the DataLoader.\n",
    "prediction_data = TensorDataset(input_ids, attention_masks, labels)\n",
    "prediction_sampler = SequentialSampler(prediction_data)\n",
    "prediction_dataloader = DataLoader(prediction_data, sampler=prediction_sampler, batch_size=batch_size)\n"
   ]
  },
  {
   "cell_type": "code",
   "execution_count": 41,
   "metadata": {
    "execution": {
     "iopub.execute_input": "2020-10-30T01:34:16.943873Z",
     "iopub.status.busy": "2020-10-30T01:34:16.943661Z",
     "iopub.status.idle": "2020-10-30T01:36:57.157890Z",
     "shell.execute_reply": "2020-10-30T01:36:57.157308Z",
     "shell.execute_reply.started": "2020-10-30T01:34:16.943851Z"
    }
   },
   "outputs": [
    {
     "name": "stdout",
     "output_type": "stream",
     "text": [
      "Predicting labels for 35,029 test sentences...\n",
      "    DONE.\n"
     ]
    }
   ],
   "source": [
    "print('Predicting labels for {:,} test sentences...'.format(len(input_ids)))\n",
    "# Put model in evaluation mode\n",
    "model.eval()\n",
    "\n",
    "# Tracking variables \n",
    "predictions , true_labels = [], []\n",
    "\n",
    "# Predict \n",
    "for batch in prediction_dataloader:\n",
    "  # Add batch to GPU\n",
    "    batch = tuple(t.to(device) for t in batch)\n",
    "\n",
    "    # Unpack the inputs from our dataloader\n",
    "    b_input_ids, b_input_mask, b_labels = batch\n",
    "\n",
    "    # Telling the model not to compute or store gradients, saving memory and \n",
    "    # speeding up prediction\n",
    "    with torch.no_grad():\n",
    "      # Forward pass, calculate logit predictions\n",
    "      outputs = model(b_input_ids, token_type_ids=None, \n",
    "                      attention_mask=b_input_mask)\n",
    "\n",
    "    logits = outputs[0]\n",
    "\n",
    "    # Move logits and labels to CPU\n",
    "    logits = logits.detach().cpu().numpy()\n",
    "    label_ids = b_labels.to('cpu').numpy()\n",
    "\n",
    "    # Store predictions and true labels\n",
    "    predictions.append(logits)\n",
    "    true_labels.append(label_ids)\n",
    "\n",
    "print('    DONE.')\n"
   ]
  },
  {
   "cell_type": "code",
   "execution_count": 42,
   "metadata": {
    "execution": {
     "iopub.execute_input": "2020-10-30T01:36:57.159305Z",
     "iopub.status.busy": "2020-10-30T01:36:57.159130Z",
     "iopub.status.idle": "2020-10-30T01:36:57.164809Z",
     "shell.execute_reply": "2020-10-30T01:36:57.164273Z",
     "shell.execute_reply.started": "2020-10-30T01:36:57.159284Z"
    }
   },
   "outputs": [],
   "source": [
    "flat_predictions = np.concatenate(predictions, axis=0)\n",
    "\n",
    "# For each sample, pick the label (0 or 1) with the higher score.\n",
    "flat_predictions = np.argmax(flat_predictions, axis=1).flatten()\n",
    "\n",
    "# Combine the correct labels for each batch into a single list.\n",
    "flat_true_labels = np.concatenate(true_labels, axis=0)"
   ]
  },
  {
   "cell_type": "code",
   "execution_count": 43,
   "metadata": {
    "execution": {
     "iopub.execute_input": "2020-10-30T01:36:57.165683Z",
     "iopub.status.busy": "2020-10-30T01:36:57.165536Z",
     "iopub.status.idle": "2020-10-30T01:36:57.203177Z",
     "shell.execute_reply": "2020-10-30T01:36:57.202584Z",
     "shell.execute_reply.started": "2020-10-30T01:36:57.165665Z"
    }
   },
   "outputs": [
    {
     "name": "stdout",
     "output_type": "stream",
     "text": [
      "              precision    recall  f1-score   support\n",
      "\n",
      "           0       0.92      0.95      0.94     27156\n",
      "           1       0.82      0.73      0.77      7873\n",
      "\n",
      "    accuracy                           0.90     35029\n",
      "   macro avg       0.87      0.84      0.85     35029\n",
      "weighted avg       0.90      0.90      0.90     35029\n",
      "\n"
     ]
    }
   ],
   "source": [
    "from sklearn.metrics import classification_report\n",
    "print(classification_report(flat_true_labels, flat_predictions))"
   ]
  },
  {
   "cell_type": "code",
   "execution_count": 35,
   "metadata": {
    "execution": {
     "iopub.execute_input": "2020-10-30T00:56:38.915744Z",
     "iopub.status.busy": "2020-10-30T00:56:38.915462Z",
     "iopub.status.idle": "2020-10-30T00:56:39.888045Z",
     "shell.execute_reply": "2020-10-30T00:56:39.887502Z",
     "shell.execute_reply.started": "2020-10-30T00:56:38.915716Z"
    }
   },
   "outputs": [],
   "source": [
    "# torch.save(model, '/scratch/tathagataraha/nela-gt-article-cascadingRoberta-epoch'+str(epoch_i)+'.pt')"
   ]
  },
  {
   "cell_type": "code",
   "execution_count": 44,
   "metadata": {
    "execution": {
     "iopub.execute_input": "2020-10-30T01:36:57.204057Z",
     "iopub.status.busy": "2020-10-30T01:36:57.203907Z",
     "iopub.status.idle": "2020-10-30T01:36:57.208164Z",
     "shell.execute_reply": "2020-10-30T01:36:57.207431Z",
     "shell.execute_reply.started": "2020-10-30T01:36:57.204039Z"
    }
   },
   "outputs": [
    {
     "ename": "SyntaxError",
     "evalue": "EOL while scanning string literal (<ipython-input-44-6ae295bbf1d6>, line 1)",
     "output_type": "error",
     "traceback": [
      "\u001b[0;36m  File \u001b[0;32m\"<ipython-input-44-6ae295bbf1d6>\"\u001b[0;36m, line \u001b[0;32m1\u001b[0m\n\u001b[0;31m    torch.save(model, '/scratch/tathagataraha/nela-gt-article-cascadingRoberta-epoch3'.pt')\u001b[0m\n\u001b[0m                                                                                           ^\u001b[0m\n\u001b[0;31mSyntaxError\u001b[0m\u001b[0;31m:\u001b[0m EOL while scanning string literal\n"
     ]
    }
   ],
   "source": [
    "# torch.save(model, '/scratch/tathagataraha/nela-gt-article-cascadingRoberta-epoch3'.pt')"
   ]
  },
  {
   "cell_type": "code",
   "execution_count": null,
   "metadata": {},
   "outputs": [],
   "source": []
  }
 ],
 "metadata": {
  "kernelspec": {
   "display_name": "Python 3",
   "language": "python",
   "name": "python3"
  },
  "language_info": {
   "codemirror_mode": {
    "name": "ipython",
    "version": 3
   },
   "file_extension": ".py",
   "mimetype": "text/x-python",
   "name": "python",
   "nbconvert_exporter": "python",
   "pygments_lexer": "ipython3",
   "version": "3.8.5"
  }
 },
 "nbformat": 4,
 "nbformat_minor": 4
}
