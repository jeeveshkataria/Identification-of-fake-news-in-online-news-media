{
 "cells": [
  {
   "cell_type": "code",
   "execution_count": 1,
   "metadata": {
    "execution": {
     "iopub.execute_input": "2020-10-31T07:44:14.851488Z",
     "iopub.status.busy": "2020-10-31T07:44:14.851193Z",
     "iopub.status.idle": "2020-10-31T07:44:17.338780Z",
     "shell.execute_reply": "2020-10-31T07:44:17.338170Z",
     "shell.execute_reply.started": "2020-10-31T07:44:14.851443Z"
    }
   },
   "outputs": [],
   "source": [
    "# Insert code here.\n",
    "import pandas as pd\n",
    "import numpy as np\n",
    "import random\n",
    "import re\n",
    "import time\n",
    "import datetime\n",
    "from nltk.corpus import stopwords\n",
    "from nltk.tokenize import sent_tokenize\n",
    "from sklearn import model_selection, preprocessing, linear_model, naive_bayes, metrics, svm, neighbors\n",
    "from sklearn.preprocessing import LabelEncoder\n",
    "from transformers import AutoTokenizer\n",
    "import torch\n",
    "from torch.utils.data import TensorDataset, random_split, DataLoader, RandomSampler, SequentialSampler\n",
    "from transformers import AutoModelForSequenceClassification, AdamW, BertConfig\n",
    "from transformers import get_linear_schedule_with_warmup\n",
    "import matplotlib.pyplot as plt\n",
    "import seaborn as sns\n",
    "# from sentence_transformers import SentenceTransformer\n",
    "# sent_encoder = SentenceTransformer('bert-base-nli-mean-tokens')"
   ]
  },
  {
   "cell_type": "code",
   "execution_count": 2,
   "metadata": {
    "execution": {
     "iopub.execute_input": "2020-10-31T07:44:17.340042Z",
     "iopub.status.busy": "2020-10-31T07:44:17.339854Z",
     "iopub.status.idle": "2020-10-31T07:44:24.082359Z",
     "shell.execute_reply": "2020-10-31T07:44:24.081755Z",
     "shell.execute_reply.started": "2020-10-31T07:44:17.340017Z"
    }
   },
   "outputs": [],
   "source": [
    "models = ['bert-base-uncased', 'distilbert-base-uncased-finetuned-sst-2-english', 'textattack/roberta-base-SST-2', 'monologg/electra-small-finetuned-imdb', 'xlnet-base-cased', 'xlm-roberta-large']\n",
    "model_num = 2\n",
    "tokenizer = AutoTokenizer.from_pretrained(models[model_num])\n"
   ]
  },
  {
   "cell_type": "code",
   "execution_count": 3,
   "metadata": {
    "execution": {
     "iopub.execute_input": "2020-10-31T07:44:24.086062Z",
     "iopub.status.busy": "2020-10-31T07:44:24.085846Z",
     "iopub.status.idle": "2020-10-31T07:44:24.110847Z",
     "shell.execute_reply": "2020-10-31T07:44:24.110019Z",
     "shell.execute_reply.started": "2020-10-31T07:44:24.086038Z"
    }
   },
   "outputs": [
    {
     "name": "stdout",
     "output_type": "stream",
     "text": [
      "There are 3 GPU(s) available.\n",
      "We will use the GPU: GeForce RTX 2080 Ti\n"
     ]
    }
   ],
   "source": [
    "if torch.cuda.is_available():    \n",
    "\n",
    "    # Tell PyTorch to use the GPU.    \n",
    "    device = torch.device(\"cuda\")\n",
    "\n",
    "    print('There are %d GPU(s) available.' % torch.cuda.device_count())\n",
    "\n",
    "    print('We will use the GPU:', torch.cuda.get_device_name(0))\n",
    "\n",
    "# If not...\n",
    "else:\n",
    "    print('No GPU available, using the CPU instead.')\n",
    "    device = torch.device(\"cpu\")\n",
    "torch.cuda.empty_cache()"
   ]
  },
  {
   "cell_type": "code",
   "execution_count": 4,
   "metadata": {
    "execution": {
     "iopub.execute_input": "2020-10-31T07:44:24.112025Z",
     "iopub.status.busy": "2020-10-31T07:44:24.111811Z",
     "iopub.status.idle": "2020-10-31T07:44:24.295963Z",
     "shell.execute_reply": "2020-10-31T07:44:24.295450Z",
     "shell.execute_reply.started": "2020-10-31T07:44:24.112003Z"
    }
   },
   "outputs": [
    {
     "name": "stdout",
     "output_type": "stream",
     "text": [
      "Sat Oct 31 13:14:24 2020       \n",
      "+-----------------------------------------------------------------------------+\n",
      "| NVIDIA-SMI 440.95.01    Driver Version: 440.95.01    CUDA Version: 10.2     |\n",
      "|-------------------------------+----------------------+----------------------+\n",
      "| GPU  Name        Persistence-M| Bus-Id        Disp.A | Volatile Uncorr. ECC |\n",
      "| Fan  Temp  Perf  Pwr:Usage/Cap|         Memory-Usage | GPU-Util  Compute M. |\n",
      "|===============================+======================+======================|\n",
      "|   0  GeForce RTX 208...  Off  | 00000000:02:00.0 Off |                  N/A |\n",
      "| 31%   25C    P8    15W / 250W |    722MiB / 11019MiB |      0%      Default |\n",
      "+-------------------------------+----------------------+----------------------+\n",
      "|   1  GeForce RTX 208...  Off  | 00000000:03:00.0 Off |                  N/A |\n",
      "| 31%   24C    P8    20W / 250W |   1396MiB / 11019MiB |      0%      Default |\n",
      "+-------------------------------+----------------------+----------------------+\n",
      "|   2  GeForce RTX 208...  Off  | 00000000:82:00.0 Off |                  N/A |\n",
      "| 29%   25C    P8    10W / 250W |     11MiB / 11019MiB |      0%      Default |\n",
      "+-------------------------------+----------------------+----------------------+\n",
      "                                                                               \n",
      "+-----------------------------------------------------------------------------+\n",
      "| Processes:                                                       GPU Memory |\n",
      "|  GPU       PID   Type   Process name                             Usage      |\n",
      "|=============================================================================|\n",
      "|    0     29518      C   ....raha/miniconda3/envs/fastai/bin/python   711MiB |\n",
      "|    1     29518      C   ....raha/miniconda3/envs/fastai/bin/python  1385MiB |\n",
      "+-----------------------------------------------------------------------------+\n"
     ]
    }
   ],
   "source": [
    "torch.cuda.empty_cache()\n",
    "!nvidia-smi"
   ]
  },
  {
   "cell_type": "code",
   "execution_count": 5,
   "metadata": {
    "execution": {
     "iopub.execute_input": "2020-10-31T07:44:24.297237Z",
     "iopub.status.busy": "2020-10-31T07:44:24.296970Z",
     "iopub.status.idle": "2020-10-31T07:44:24.300538Z",
     "shell.execute_reply": "2020-10-31T07:44:24.299938Z",
     "shell.execute_reply.started": "2020-10-31T07:44:24.297213Z"
    }
   },
   "outputs": [],
   "source": [
    "DATASET_PATH = '../datasets/nela-gt/nela10.csv'"
   ]
  },
  {
   "cell_type": "code",
   "execution_count": 6,
   "metadata": {
    "execution": {
     "iopub.execute_input": "2020-10-31T07:44:24.301389Z",
     "iopub.status.busy": "2020-10-31T07:44:24.301225Z",
     "iopub.status.idle": "2020-10-31T07:44:25.961264Z",
     "shell.execute_reply": "2020-10-31T07:44:25.960381Z",
     "shell.execute_reply.started": "2020-10-31T07:44:24.301370Z"
    }
   },
   "outputs": [
    {
     "name": "stdout",
     "output_type": "stream",
     "text": [
      "Number of training sentences: 57,157\n",
      "\n"
     ]
    },
    {
     "data": {
      "text/html": [
       "<div>\n",
       "<style scoped>\n",
       "    .dataframe tbody tr th:only-of-type {\n",
       "        vertical-align: middle;\n",
       "    }\n",
       "\n",
       "    .dataframe tbody tr th {\n",
       "        vertical-align: top;\n",
       "    }\n",
       "\n",
       "    .dataframe thead th {\n",
       "        text-align: right;\n",
       "    }\n",
       "</style>\n",
       "<table border=\"1\" class=\"dataframe\">\n",
       "  <thead>\n",
       "    <tr style=\"text-align: right;\">\n",
       "      <th></th>\n",
       "      <th>id</th>\n",
       "      <th>date</th>\n",
       "      <th>source</th>\n",
       "      <th>title</th>\n",
       "      <th>content</th>\n",
       "      <th>author</th>\n",
       "      <th>url</th>\n",
       "      <th>published</th>\n",
       "      <th>published_utc</th>\n",
       "      <th>collection_utc</th>\n",
       "      <th>Reliability</th>\n",
       "    </tr>\n",
       "  </thead>\n",
       "  <tbody>\n",
       "    <tr>\n",
       "      <th>49231</th>\n",
       "      <td>liveaction--2019-10-04--Michigan coalition spe...</td>\n",
       "      <td>2019-10-04</td>\n",
       "      <td>liveaction</td>\n",
       "      <td>Michigan coalition spearheads petition to ban ...</td>\n",
       "      <td>The Michigan Values Life coalition, which incl...</td>\n",
       "      <td>Bridget Sielicki</td>\n",
       "      <td>https://www.liveaction.org/news/michigan-coali...</td>\n",
       "      <td>2019-10-04 19:22:26+00:00</td>\n",
       "      <td>1570231346</td>\n",
       "      <td>1570633618</td>\n",
       "      <td>2</td>\n",
       "    </tr>\n",
       "    <tr>\n",
       "      <th>42933</th>\n",
       "      <td>usnews--2019-10-12--West Va. Police: Man Kille...</td>\n",
       "      <td>2019-10-12</td>\n",
       "      <td>usnews</td>\n",
       "      <td>West Va. Police: Man Killed 2, Hid Bodies, Kil...</td>\n",
       "      <td>LIZEMORE, W.Va. (AP) — West Virginia State Pol...</td>\n",
       "      <td>Associated Press</td>\n",
       "      <td>https://www.usnews.com/news/best-states/west-v...</td>\n",
       "      <td>Sat, 12 Oct 2019 19:45:21 GMT</td>\n",
       "      <td>1570923921</td>\n",
       "      <td>1570924953</td>\n",
       "      <td>0</td>\n",
       "    </tr>\n",
       "    <tr>\n",
       "      <th>36714</th>\n",
       "      <td>theseattletimes--2019-07-06--Some deer urine l...</td>\n",
       "      <td>2019-07-06</td>\n",
       "      <td>theseattletimes</td>\n",
       "      <td>Some deer urine lures now legal again in Louis...</td>\n",
       "      <td>NEW ORLEANS (AP) — Louisiana has modified its ...</td>\n",
       "      <td>JANET McCONNAUGHEY</td>\n",
       "      <td>https://www.seattletimes.com/seattle-news/nort...</td>\n",
       "      <td>2019-07-06 13:00:24+00:00</td>\n",
       "      <td>1562432424</td>\n",
       "      <td>1567536699</td>\n",
       "      <td>0</td>\n",
       "    </tr>\n",
       "    <tr>\n",
       "      <th>27991</th>\n",
       "      <td>theguardianuk--2019-06-27--Sofa so bad as Scho...</td>\n",
       "      <td>2019-06-27</td>\n",
       "      <td>theguardianuk</td>\n",
       "      <td>Sofa so bad as Schofe and Amanda go to war ove...</td>\n",
       "      <td>There are several American towns that changed ...</td>\n",
       "      <td>Marina Hyde</td>\n",
       "      <td>https://www.theguardian.com/lifeandstyle/losti...</td>\n",
       "      <td>2019-06-27 17:10:17+00:00</td>\n",
       "      <td>1561669817</td>\n",
       "      <td>1567537905</td>\n",
       "      <td>0</td>\n",
       "    </tr>\n",
       "    <tr>\n",
       "      <th>21608</th>\n",
       "      <td>tass--2019-02-04--US diplomats to visit Paul W...</td>\n",
       "      <td>2019-02-04</td>\n",
       "      <td>tass</td>\n",
       "      <td>US diplomats to visit Paul Whelan on February ...</td>\n",
       "      <td>NEW YORK, February 4. /TASS/. US diplomats wil...</td>\n",
       "      <td>NaN</td>\n",
       "      <td>http://tass.com/world/1043201</td>\n",
       "      <td>2019-02-04 17:29:28+00:00</td>\n",
       "      <td>1549319368</td>\n",
       "      <td>1567549655</td>\n",
       "      <td>0</td>\n",
       "    </tr>\n",
       "    <tr>\n",
       "      <th>3927</th>\n",
       "      <td>bbcuk--2019-06-27--Preston bus station buildin...</td>\n",
       "      <td>2019-06-27</td>\n",
       "      <td>bbcuk</td>\n",
       "      <td>Preston bus station building in running for RI...</td>\n",
       "      <td>The refurbishment of a \"loved or loathed\" bus ...</td>\n",
       "      <td>NaN</td>\n",
       "      <td>https://www.bbc.co.uk/news/uk-england-lancashi...</td>\n",
       "      <td>2019-06-27 19:35:50+00:00</td>\n",
       "      <td>1561678550</td>\n",
       "      <td>1567537912</td>\n",
       "      <td>0</td>\n",
       "    </tr>\n",
       "    <tr>\n",
       "      <th>22459</th>\n",
       "      <td>tass--2019-09-16--Russia to face off with Ital...</td>\n",
       "      <td>2019-09-16</td>\n",
       "      <td>tass</td>\n",
       "      <td>Russia to face off with Italy, US at inaugural...</td>\n",
       "      <td>The tournament is scheduled for January 3-12, ...</td>\n",
       "      <td>NaN</td>\n",
       "      <td>https://tass.com/sport/1078259</td>\n",
       "      <td>2019-09-16 09:43:08+00:00</td>\n",
       "      <td>1568641388</td>\n",
       "      <td>1569330187</td>\n",
       "      <td>0</td>\n",
       "    </tr>\n",
       "    <tr>\n",
       "      <th>52852</th>\n",
       "      <td>sottnet--2019-08-12--BEST OF THE WEB Global co...</td>\n",
       "      <td>2019-08-12</td>\n",
       "      <td>sottnet</td>\n",
       "      <td>BEST OF THE WEB: Global cooling to replace war...</td>\n",
       "      <td>- but the mainland scientists behind the resea...</td>\n",
       "      <td>NaN</td>\n",
       "      <td>https://www.sott.net/article/418422-Global-coo...</td>\n",
       "      <td>2019-08-12 17:37:52+00:00</td>\n",
       "      <td>1565645872</td>\n",
       "      <td>1567534392</td>\n",
       "      <td>2</td>\n",
       "    </tr>\n",
       "    <tr>\n",
       "      <th>19822</th>\n",
       "      <td>slate--2019-05-31--What the Fate of Two Democr...</td>\n",
       "      <td>2019-05-31</td>\n",
       "      <td>slate</td>\n",
       "      <td>What the Fate of Two Democratic Attempts at He...</td>\n",
       "      <td>Since 2016, the conversation about health care...</td>\n",
       "      <td>Jordan Weissmann</td>\n",
       "      <td>https://slate.com/business/2019/05/health-care...</td>\n",
       "      <td>2019-05-31 15:14:17+00:00</td>\n",
       "      <td>1559330057</td>\n",
       "      <td>1567539503</td>\n",
       "      <td>0</td>\n",
       "    </tr>\n",
       "    <tr>\n",
       "      <th>9699</th>\n",
       "      <td>eveningstandard--2019-06-27--Two more boys arr...</td>\n",
       "      <td>2019-06-27</td>\n",
       "      <td>eveningstandard</td>\n",
       "      <td>Two more boys arrested over &amp;apos;appalling&amp;ap...</td>\n",
       "      <td>Two more boys have been arrested in connection...</td>\n",
       "      <td>Harriet Brewis</td>\n",
       "      <td>https://www.standard.co.uk/news/crime/two-teen...</td>\n",
       "      <td>2019-06-27 14:26:25+00:00</td>\n",
       "      <td>1561659985</td>\n",
       "      <td>1567537834</td>\n",
       "      <td>0</td>\n",
       "    </tr>\n",
       "  </tbody>\n",
       "</table>\n",
       "</div>"
      ],
      "text/plain": [
       "                                                      id        date  \\\n",
       "49231  liveaction--2019-10-04--Michigan coalition spe...  2019-10-04   \n",
       "42933  usnews--2019-10-12--West Va. Police: Man Kille...  2019-10-12   \n",
       "36714  theseattletimes--2019-07-06--Some deer urine l...  2019-07-06   \n",
       "27991  theguardianuk--2019-06-27--Sofa so bad as Scho...  2019-06-27   \n",
       "21608  tass--2019-02-04--US diplomats to visit Paul W...  2019-02-04   \n",
       "3927   bbcuk--2019-06-27--Preston bus station buildin...  2019-06-27   \n",
       "22459  tass--2019-09-16--Russia to face off with Ital...  2019-09-16   \n",
       "52852  sottnet--2019-08-12--BEST OF THE WEB Global co...  2019-08-12   \n",
       "19822  slate--2019-05-31--What the Fate of Two Democr...  2019-05-31   \n",
       "9699   eveningstandard--2019-06-27--Two more boys arr...  2019-06-27   \n",
       "\n",
       "                source                                              title  \\\n",
       "49231       liveaction  Michigan coalition spearheads petition to ban ...   \n",
       "42933           usnews  West Va. Police: Man Killed 2, Hid Bodies, Kil...   \n",
       "36714  theseattletimes  Some deer urine lures now legal again in Louis...   \n",
       "27991    theguardianuk  Sofa so bad as Schofe and Amanda go to war ove...   \n",
       "21608             tass  US diplomats to visit Paul Whelan on February ...   \n",
       "3927             bbcuk  Preston bus station building in running for RI...   \n",
       "22459             tass  Russia to face off with Italy, US at inaugural...   \n",
       "52852          sottnet  BEST OF THE WEB: Global cooling to replace war...   \n",
       "19822            slate  What the Fate of Two Democratic Attempts at He...   \n",
       "9699   eveningstandard  Two more boys arrested over &apos;appalling&ap...   \n",
       "\n",
       "                                                 content              author  \\\n",
       "49231  The Michigan Values Life coalition, which incl...    Bridget Sielicki   \n",
       "42933  LIZEMORE, W.Va. (AP) — West Virginia State Pol...    Associated Press   \n",
       "36714  NEW ORLEANS (AP) — Louisiana has modified its ...  JANET McCONNAUGHEY   \n",
       "27991  There are several American towns that changed ...         Marina Hyde   \n",
       "21608  NEW YORK, February 4. /TASS/. US diplomats wil...                 NaN   \n",
       "3927   The refurbishment of a \"loved or loathed\" bus ...                 NaN   \n",
       "22459  The tournament is scheduled for January 3-12, ...                 NaN   \n",
       "52852  - but the mainland scientists behind the resea...                 NaN   \n",
       "19822  Since 2016, the conversation about health care...    Jordan Weissmann   \n",
       "9699   Two more boys have been arrested in connection...      Harriet Brewis   \n",
       "\n",
       "                                                     url  \\\n",
       "49231  https://www.liveaction.org/news/michigan-coali...   \n",
       "42933  https://www.usnews.com/news/best-states/west-v...   \n",
       "36714  https://www.seattletimes.com/seattle-news/nort...   \n",
       "27991  https://www.theguardian.com/lifeandstyle/losti...   \n",
       "21608                      http://tass.com/world/1043201   \n",
       "3927   https://www.bbc.co.uk/news/uk-england-lancashi...   \n",
       "22459                     https://tass.com/sport/1078259   \n",
       "52852  https://www.sott.net/article/418422-Global-coo...   \n",
       "19822  https://slate.com/business/2019/05/health-care...   \n",
       "9699   https://www.standard.co.uk/news/crime/two-teen...   \n",
       "\n",
       "                           published  published_utc  collection_utc  \\\n",
       "49231      2019-10-04 19:22:26+00:00     1570231346      1570633618   \n",
       "42933  Sat, 12 Oct 2019 19:45:21 GMT     1570923921      1570924953   \n",
       "36714      2019-07-06 13:00:24+00:00     1562432424      1567536699   \n",
       "27991      2019-06-27 17:10:17+00:00     1561669817      1567537905   \n",
       "21608      2019-02-04 17:29:28+00:00     1549319368      1567549655   \n",
       "3927       2019-06-27 19:35:50+00:00     1561678550      1567537912   \n",
       "22459      2019-09-16 09:43:08+00:00     1568641388      1569330187   \n",
       "52852      2019-08-12 17:37:52+00:00     1565645872      1567534392   \n",
       "19822      2019-05-31 15:14:17+00:00     1559330057      1567539503   \n",
       "9699       2019-06-27 14:26:25+00:00     1561659985      1567537834   \n",
       "\n",
       "       Reliability  \n",
       "49231            2  \n",
       "42933            0  \n",
       "36714            0  \n",
       "27991            0  \n",
       "21608            0  \n",
       "3927             0  \n",
       "22459            0  \n",
       "52852            2  \n",
       "19822            0  \n",
       "9699             0  "
      ]
     },
     "execution_count": 6,
     "metadata": {},
     "output_type": "execute_result"
    }
   ],
   "source": [
    "df = pd.read_csv(DATASET_PATH)\n",
    "print('Number of training sentences: {:,}\\n'.format(df.shape[0]))\n",
    "df.sample(10)"
   ]
  },
  {
   "cell_type": "code",
   "execution_count": 7,
   "metadata": {
    "execution": {
     "iopub.execute_input": "2020-10-31T07:44:25.962616Z",
     "iopub.status.busy": "2020-10-31T07:44:25.962401Z",
     "iopub.status.idle": "2020-10-31T07:44:25.966049Z",
     "shell.execute_reply": "2020-10-31T07:44:25.965437Z",
     "shell.execute_reply.started": "2020-10-31T07:44:25.962595Z"
    }
   },
   "outputs": [],
   "source": [
    "def count_words(text):\n",
    "    try:\n",
    "        return len(text.split())\n",
    "    except:\n",
    "        print(text)\n",
    "        return None"
   ]
  },
  {
   "cell_type": "code",
   "execution_count": 8,
   "metadata": {
    "execution": {
     "iopub.execute_input": "2020-10-31T07:44:25.968578Z",
     "iopub.status.busy": "2020-10-31T07:44:25.968367Z",
     "iopub.status.idle": "2020-10-31T07:44:25.972932Z",
     "shell.execute_reply": "2020-10-31T07:44:25.972458Z",
     "shell.execute_reply.started": "2020-10-31T07:44:25.968558Z"
    }
   },
   "outputs": [],
   "source": [
    "def change_rel(num):\n",
    "    if num == 2:\n",
    "        return 1\n",
    "    else:\n",
    "        return 0"
   ]
  },
  {
   "cell_type": "code",
   "execution_count": 9,
   "metadata": {
    "execution": {
     "iopub.execute_input": "2020-10-31T07:44:25.974409Z",
     "iopub.status.busy": "2020-10-31T07:44:25.974241Z",
     "iopub.status.idle": "2020-10-31T07:44:37.646041Z",
     "shell.execute_reply": "2020-10-31T07:44:37.644996Z",
     "shell.execute_reply.started": "2020-10-31T07:44:25.974380Z"
    }
   },
   "outputs": [],
   "source": [
    "df = df.reset_index(drop=True)\n",
    "REPLACE_BY_SPACE_RE = re.compile('[/(){}\\[\\]\\|@,;]')\n",
    "BAD_SYMBOLS_RE = re.compile('[^0-9a-z #+_]')\n",
    "STOPWORDS = []\n",
    "\n",
    "def clean_text(text):\n",
    "    \"\"\"\n",
    "        text: a string\n",
    "        \n",
    "        return: modified initial string\n",
    "    \"\"\"\n",
    "    text = str(text)\n",
    "    text = text.lower() # lowercase text\n",
    "    text = REPLACE_BY_SPACE_RE.sub(' ', text) # replace REPLACE_BY_SPACE_RE symbols by space in text. substitute the matched string in REPLACE_BY_SPACE_RE with space.\n",
    "    text = BAD_SYMBOLS_RE.sub('', text) # remove symbols which are in BAD_SYMBOLS_RE from text. substitute the matched string in BAD_SYMBOLS_RE with nothing. \n",
    "#    text = re.sub(r'\\W+', '', text)\n",
    "    text = ' '.join(word for word in text.split() if word not in STOPWORDS) # remove stopwors from text\n",
    "    return text\n",
    "df['content'] = df['content'].apply(clean_text)\n",
    "df['content'] = df['content'].str.replace('\\d+', '')\n",
    "df['Reliability'] = df['Reliability'].apply(change_rel)"
   ]
  },
  {
   "cell_type": "code",
   "execution_count": 10,
   "metadata": {
    "execution": {
     "iopub.execute_input": "2020-10-31T07:44:37.647320Z",
     "iopub.status.busy": "2020-10-31T07:44:37.647145Z",
     "iopub.status.idle": "2020-10-31T07:44:50.105186Z",
     "shell.execute_reply": "2020-10-31T07:44:50.104628Z",
     "shell.execute_reply.started": "2020-10-31T07:44:37.647281Z"
    }
   },
   "outputs": [],
   "source": [
    "def get_split(text1):\n",
    "    l_total = []\n",
    "    l_parcial = []\n",
    "    if len(text1.split())//150 >0:\n",
    "        n = len(text1.split())//150\n",
    "    else: \n",
    "        n = 1\n",
    "    for w in range(n):\n",
    "        if w == 0:\n",
    "            l_parcial = text1.split()[:200]\n",
    "            l_total.append(\" \".join(l_parcial))\n",
    "        else:\n",
    "            l_parcial = text1.split()[w*150:w*150 + 200]\n",
    "            l_total.append(\" \".join(l_parcial))\n",
    "    return l_total\n",
    "df['content_split'] = df['content'].apply(get_split)"
   ]
  },
  {
   "cell_type": "code",
   "execution_count": 11,
   "metadata": {
    "execution": {
     "iopub.execute_input": "2020-10-31T07:44:50.106143Z",
     "iopub.status.busy": "2020-10-31T07:44:50.105990Z",
     "iopub.status.idle": "2020-10-31T07:44:51.328195Z",
     "shell.execute_reply": "2020-10-31T07:44:51.327436Z",
     "shell.execute_reply.started": "2020-10-31T07:44:50.106123Z"
    }
   },
   "outputs": [
    {
     "data": {
      "text/plain": [
       "15183"
      ]
     },
     "execution_count": 11,
     "metadata": {},
     "output_type": "execute_result"
    }
   ],
   "source": [
    "df['content'].apply(count_words).max()"
   ]
  },
  {
   "cell_type": "code",
   "execution_count": 12,
   "metadata": {
    "execution": {
     "iopub.execute_input": "2020-10-31T07:44:51.329171Z",
     "iopub.status.busy": "2020-10-31T07:44:51.328981Z",
     "iopub.status.idle": "2020-10-31T07:44:51.352864Z",
     "shell.execute_reply": "2020-10-31T07:44:51.352353Z",
     "shell.execute_reply.started": "2020-10-31T07:44:51.329151Z"
    }
   },
   "outputs": [],
   "source": [
    "train_x, valid_x, train_y, valid_y = model_selection.train_test_split(df['content_split'], df['Reliability'], test_size=0.2, stratify=df['Reliability'])"
   ]
  },
  {
   "cell_type": "code",
   "execution_count": 13,
   "metadata": {
    "execution": {
     "iopub.execute_input": "2020-10-31T07:44:51.353670Z",
     "iopub.status.busy": "2020-10-31T07:44:51.353523Z",
     "iopub.status.idle": "2020-10-31T07:44:51.442781Z",
     "shell.execute_reply": "2020-10-31T07:44:51.442153Z",
     "shell.execute_reply.started": "2020-10-31T07:44:51.353651Z"
    }
   },
   "outputs": [
    {
     "data": {
      "text/plain": [
       "(138946, 138946)"
      ]
     },
     "execution_count": 13,
     "metadata": {},
     "output_type": "execute_result"
    }
   ],
   "source": [
    "train_l = []\n",
    "label_l = []\n",
    "index_l =[]\n",
    "for row,label in zip(train_x, train_y):\n",
    "    for l in row:\n",
    "        train_l.append(l)\n",
    "        label_l.append(label)\n",
    "len(train_l), len(label_l)"
   ]
  },
  {
   "cell_type": "code",
   "execution_count": 14,
   "metadata": {
    "execution": {
     "iopub.execute_input": "2020-10-31T07:44:51.443734Z",
     "iopub.status.busy": "2020-10-31T07:44:51.443556Z",
     "iopub.status.idle": "2020-10-31T07:44:51.465316Z",
     "shell.execute_reply": "2020-10-31T07:44:51.464779Z",
     "shell.execute_reply.started": "2020-10-31T07:44:51.443714Z"
    }
   },
   "outputs": [
    {
     "data": {
      "text/plain": [
       "(35138, 35138)"
      ]
     },
     "execution_count": 14,
     "metadata": {},
     "output_type": "execute_result"
    }
   ],
   "source": [
    "val_l = []\n",
    "val_label_l = []\n",
    "val_index_l = []\n",
    "for row,label in zip(valid_x, valid_y):\n",
    "    for l in row:\n",
    "        val_l.append(l)\n",
    "        val_label_l.append(label)\n",
    "len(val_l), len(val_label_l)"
   ]
  },
  {
   "cell_type": "code",
   "execution_count": 15,
   "metadata": {
    "execution": {
     "iopub.execute_input": "2020-10-31T07:44:51.466136Z",
     "iopub.status.busy": "2020-10-31T07:44:51.465994Z",
     "iopub.status.idle": "2020-10-31T07:44:51.468556Z",
     "shell.execute_reply": "2020-10-31T07:44:51.468040Z",
     "shell.execute_reply.started": "2020-10-31T07:44:51.466118Z"
    }
   },
   "outputs": [],
   "source": [
    "MAX_LENGTH = 220\n",
    "posts = train_l\n",
    "categories = label_l"
   ]
  },
  {
   "cell_type": "code",
   "execution_count": 16,
   "metadata": {
    "execution": {
     "iopub.execute_input": "2020-10-31T07:44:51.469500Z",
     "iopub.status.busy": "2020-10-31T07:44:51.469327Z",
     "iopub.status.idle": "2020-10-31T07:44:51.486521Z",
     "shell.execute_reply": "2020-10-31T07:44:51.486057Z",
     "shell.execute_reply.started": "2020-10-31T07:44:51.469464Z"
    }
   },
   "outputs": [
    {
     "name": "stderr",
     "output_type": "stream",
     "text": [
      "/home/tathagata.raha/miniconda3/envs/fastai/lib/python3.8/site-packages/transformers/tokenization_utils_base.py:1764: FutureWarning: The `pad_to_max_length` argument is deprecated and will be removed in a future version, use `padding=True` or `padding='longest'` to pad to the longest sequence in the batch, or use `padding='max_length'` to pad to a max length. In this case, you can give a specific length with `max_length` (e.g. `max_length=45`) or leave max_length to None to pad to the maximal input size of the model (e.g. 512 for Bert).\n",
      "  warnings.warn(\n"
     ]
    },
    {
     "data": {
      "text/plain": [
       "{'input_ids': tensor([[    0,   627,  9288,    13,    10,  1800,   517,    66,     9,   784,\n",
       "         24639,    16,  2609,    10,  2259,   147,  6339,  1038,   850,     8,\n",
       "          3150,     5,   701,     9,     5, 17620,    40,    70, 17709,    62,\n",
       "         33791,  6152,   624,    41,  1946,     9,     5,   558,   147,   790,\n",
       "           850,    32,  3999,  6360,  3530,  5569, 18688,    32,   874,   674,\n",
       "             8,    89,    32,  2710,     9,  9869,  1611,     7,  2807,    31,\n",
       "          2704,   205, 16201,    15,     5, 25659,    64,  2045,   101,    10,\n",
       "         38201, 22379,   463,  4297,    10,   593,   892,     9,   358, 24279,\n",
       "          1973,   624,   728,  1504,     9,  2056,    34,  2006,    41,  6281,\n",
       "           333,     9,  6815,     8,  9365, 27183,    42,  4045,   990,     9,\n",
       "          4045,  5284,   571, 26875,  1827, 36579, 20902,     8, 18452,    42,\n",
       "           210,  1139,    16,  4555,    30,  8113,  5460,  2820,     8,    16,\n",
       "            67,   540,     9,    10,   410,   784, 24639,    87,     5,  3829,\n",
       "             9, 33665,  1193,  5229,    50, 40901,  1891,   697,    11,   385,\n",
       "          9657,   154,     8,    47,    40,  3127,   619,     5,  1149,   464,\n",
       "            31,   301,    11,     5,   812,   627, 17620,  1239,    41,   674,\n",
       "           728,     7,   514, 37521,   150,    41,  1013,   191,  3682,  1042,\n",
       "           939,   206,    63,  2868,    16,    14,  1135,     5,   754,    14,\n",
       "            24,    16,  1341,    10,   251, 17620,    47,    32,  1375,     7,\n",
       "           588, 19564,    11,   385,  9657,   154,    61,    16,  3758,   506,\n",
       "         19867,    30,     5,  8113,  5460, 14798,    98,    14,    89,    16,\n",
       "          1804,  7401,    13,     5,  1139,     7,  2292, 33889,   161,     2]]), 'attention_mask': tensor([[1, 1, 1, 1, 1, 1, 1, 1, 1, 1, 1, 1, 1, 1, 1, 1, 1, 1, 1, 1, 1, 1, 1, 1,\n",
       "         1, 1, 1, 1, 1, 1, 1, 1, 1, 1, 1, 1, 1, 1, 1, 1, 1, 1, 1, 1, 1, 1, 1, 1,\n",
       "         1, 1, 1, 1, 1, 1, 1, 1, 1, 1, 1, 1, 1, 1, 1, 1, 1, 1, 1, 1, 1, 1, 1, 1,\n",
       "         1, 1, 1, 1, 1, 1, 1, 1, 1, 1, 1, 1, 1, 1, 1, 1, 1, 1, 1, 1, 1, 1, 1, 1,\n",
       "         1, 1, 1, 1, 1, 1, 1, 1, 1, 1, 1, 1, 1, 1, 1, 1, 1, 1, 1, 1, 1, 1, 1, 1,\n",
       "         1, 1, 1, 1, 1, 1, 1, 1, 1, 1, 1, 1, 1, 1, 1, 1, 1, 1, 1, 1, 1, 1, 1, 1,\n",
       "         1, 1, 1, 1, 1, 1, 1, 1, 1, 1, 1, 1, 1, 1, 1, 1, 1, 1, 1, 1, 1, 1, 1, 1,\n",
       "         1, 1, 1, 1, 1, 1, 1, 1, 1, 1, 1, 1, 1, 1, 1, 1, 1, 1, 1, 1, 1, 1, 1, 1,\n",
       "         1, 1, 1, 1, 1, 1, 1, 1, 1, 1, 1, 1, 1, 1, 1, 1, 1, 1, 1, 1, 1, 1, 1, 1,\n",
       "         1, 1, 1, 1]])}"
      ]
     },
     "execution_count": 16,
     "metadata": {},
     "output_type": "execute_result"
    }
   ],
   "source": [
    "encoded_dict = tokenizer.encode_plus(\n",
    "                        posts[0],                      # Sentence to encode.\n",
    "                        truncation=True,\n",
    "                        add_special_tokens = True, # Add '[CLS]' and '[SEP]'\n",
    "                        max_length = MAX_LENGTH,           # Pad & truncate all sentences.\n",
    "                        pad_to_max_length = True,\n",
    "                        return_attention_mask = True,   # Construct attn. masks.\n",
    "                        return_tensors = 'pt',     # Return pytorch tensors.\n",
    "                   )\n",
    "encoded_dict"
   ]
  },
  {
   "cell_type": "code",
   "execution_count": 17,
   "metadata": {
    "execution": {
     "iopub.execute_input": "2020-10-31T07:44:51.487293Z",
     "iopub.status.busy": "2020-10-31T07:44:51.487150Z",
     "iopub.status.idle": "2020-10-31T07:47:26.177315Z",
     "shell.execute_reply": "2020-10-31T07:47:26.176550Z",
     "shell.execute_reply.started": "2020-10-31T07:44:51.487274Z"
    }
   },
   "outputs": [],
   "source": [
    "input_ids = []\n",
    "attention_masks = []\n",
    "\n",
    "# For every sentence...\n",
    "for sent in posts:\n",
    "    # `encode_plus` will:\n",
    "    #   (1) Tokenize the sentence.\n",
    "    #   (2) Prepend the `[CLS]` token to the start.\n",
    "    #   (3) Append the `[SEP]` token to the end.\n",
    "    #   (4) Map tokens to their IDs.\n",
    "    #   (5) Pad or truncate the sentence to `max_length`\n",
    "    #   (6) Create attention masks for [PAD] tokens.\n",
    "    try:\n",
    "        encoded_dict = tokenizer.encode_plus(\n",
    "                            sent,                      # Sentence to encode.\n",
    "                            truncation=True,\n",
    "                            add_special_tokens = True, # Add '[CLS]' and '[SEP]'\n",
    "                            max_length = MAX_LENGTH,           # Pad & truncate all sentences.\n",
    "                            pad_to_max_length = True,\n",
    "                            return_attention_mask = True,   # Construct attn. masks.\n",
    "                            return_tensors = 'pt',     # Return pytorch tensors.\n",
    "                       )\n",
    "    except:\n",
    "        print(sent)\n",
    "    \n",
    "    # Add the encoded sentence to the list.    \n",
    "    input_ids.append(encoded_dict['input_ids'])\n",
    "    \n",
    "    # And its attention mask (simply differentiates padding from non-padding).\n",
    "    attention_masks.append(encoded_dict['attention_mask'])\n",
    "\n",
    "# Convert the lists into tensors.\n",
    "input_ids = torch.cat(input_ids, dim=0)\n",
    "attention_masks = torch.cat(attention_masks, dim=0)\n",
    "labels = torch.tensor(categories)"
   ]
  },
  {
   "cell_type": "code",
   "execution_count": 18,
   "metadata": {
    "execution": {
     "iopub.execute_input": "2020-10-31T07:47:26.179535Z",
     "iopub.status.busy": "2020-10-31T07:47:26.179335Z",
     "iopub.status.idle": "2020-10-31T07:47:26.202710Z",
     "shell.execute_reply": "2020-10-31T07:47:26.201994Z",
     "shell.execute_reply.started": "2020-10-31T07:47:26.179508Z"
    }
   },
   "outputs": [
    {
     "name": "stdout",
     "output_type": "stream",
     "text": [
      "121,577 training samples\n",
      "17,369 validation samples\n"
     ]
    }
   ],
   "source": [
    "dataset = TensorDataset(input_ids, attention_masks, labels)\n",
    "train_size = int(0.875 * len(dataset))\n",
    "val_size = len(dataset) - train_size\n",
    "\n",
    "# Divide the dataset by randomly selecting samples.\n",
    "train_dataset, val_dataset = random_split(dataset, [train_size, val_size])\n",
    "\n",
    "print('{:>5,} training samples'.format(train_size))\n",
    "print('{:>5,} validation samples'.format(val_size))\n"
   ]
  },
  {
   "cell_type": "code",
   "execution_count": 19,
   "metadata": {
    "execution": {
     "iopub.execute_input": "2020-10-31T07:47:26.204096Z",
     "iopub.status.busy": "2020-10-31T07:47:26.203837Z",
     "iopub.status.idle": "2020-10-31T07:47:26.208748Z",
     "shell.execute_reply": "2020-10-31T07:47:26.207999Z",
     "shell.execute_reply.started": "2020-10-31T07:47:26.204062Z"
    }
   },
   "outputs": [],
   "source": [
    "# The DataLoader needs to know our batch size for training, so we specify it \n",
    "# here. For fine-tuning BERT on a specific task, the authors recommend a batch \n",
    "# size of 16 or 32.\n",
    "batch_size = 32\n",
    "\n",
    "# Create the DataLoaders for our training and validation sets.\n",
    "# We'll take training samples in random order. \n",
    "train_dataloader = DataLoader(\n",
    "            train_dataset,  # The training samples.\n",
    "            sampler = RandomSampler(train_dataset), # Select batches randomly\n",
    "            batch_size = batch_size # Trains with this batch size.\n",
    "        )\n",
    "\n",
    "# For validation the order doesn't matter, so we'll just read them sequentially.\n",
    "validation_dataloader = DataLoader(\n",
    "            val_dataset, # The validation samples.\n",
    "            sampler = SequentialSampler(val_dataset), # Pull out batches sequentially.\n",
    "            batch_size = batch_size # Evaluate with this batch size.\n",
    "        )\n"
   ]
  },
  {
   "cell_type": "code",
   "execution_count": 20,
   "metadata": {
    "execution": {
     "iopub.execute_input": "2020-10-31T07:47:26.210048Z",
     "iopub.status.busy": "2020-10-31T07:47:26.209792Z",
     "iopub.status.idle": "2020-10-31T07:47:36.028477Z",
     "shell.execute_reply": "2020-10-31T07:47:36.027857Z",
     "shell.execute_reply.started": "2020-10-31T07:47:26.210014Z"
    }
   },
   "outputs": [
    {
     "data": {
      "text/plain": [
       "RobertaForSequenceClassification(\n",
       "  (roberta): RobertaModel(\n",
       "    (embeddings): RobertaEmbeddings(\n",
       "      (word_embeddings): Embedding(50265, 768, padding_idx=1)\n",
       "      (position_embeddings): Embedding(514, 768, padding_idx=1)\n",
       "      (token_type_embeddings): Embedding(1, 768)\n",
       "      (LayerNorm): LayerNorm((768,), eps=1e-05, elementwise_affine=True)\n",
       "      (dropout): Dropout(p=0.1, inplace=False)\n",
       "    )\n",
       "    (encoder): BertEncoder(\n",
       "      (layer): ModuleList(\n",
       "        (0): BertLayer(\n",
       "          (attention): BertAttention(\n",
       "            (self): BertSelfAttention(\n",
       "              (query): Linear(in_features=768, out_features=768, bias=True)\n",
       "              (key): Linear(in_features=768, out_features=768, bias=True)\n",
       "              (value): Linear(in_features=768, out_features=768, bias=True)\n",
       "              (dropout): Dropout(p=0.1, inplace=False)\n",
       "            )\n",
       "            (output): BertSelfOutput(\n",
       "              (dense): Linear(in_features=768, out_features=768, bias=True)\n",
       "              (LayerNorm): LayerNorm((768,), eps=1e-05, elementwise_affine=True)\n",
       "              (dropout): Dropout(p=0.1, inplace=False)\n",
       "            )\n",
       "          )\n",
       "          (intermediate): BertIntermediate(\n",
       "            (dense): Linear(in_features=768, out_features=3072, bias=True)\n",
       "          )\n",
       "          (output): BertOutput(\n",
       "            (dense): Linear(in_features=3072, out_features=768, bias=True)\n",
       "            (LayerNorm): LayerNorm((768,), eps=1e-05, elementwise_affine=True)\n",
       "            (dropout): Dropout(p=0.1, inplace=False)\n",
       "          )\n",
       "        )\n",
       "        (1): BertLayer(\n",
       "          (attention): BertAttention(\n",
       "            (self): BertSelfAttention(\n",
       "              (query): Linear(in_features=768, out_features=768, bias=True)\n",
       "              (key): Linear(in_features=768, out_features=768, bias=True)\n",
       "              (value): Linear(in_features=768, out_features=768, bias=True)\n",
       "              (dropout): Dropout(p=0.1, inplace=False)\n",
       "            )\n",
       "            (output): BertSelfOutput(\n",
       "              (dense): Linear(in_features=768, out_features=768, bias=True)\n",
       "              (LayerNorm): LayerNorm((768,), eps=1e-05, elementwise_affine=True)\n",
       "              (dropout): Dropout(p=0.1, inplace=False)\n",
       "            )\n",
       "          )\n",
       "          (intermediate): BertIntermediate(\n",
       "            (dense): Linear(in_features=768, out_features=3072, bias=True)\n",
       "          )\n",
       "          (output): BertOutput(\n",
       "            (dense): Linear(in_features=3072, out_features=768, bias=True)\n",
       "            (LayerNorm): LayerNorm((768,), eps=1e-05, elementwise_affine=True)\n",
       "            (dropout): Dropout(p=0.1, inplace=False)\n",
       "          )\n",
       "        )\n",
       "        (2): BertLayer(\n",
       "          (attention): BertAttention(\n",
       "            (self): BertSelfAttention(\n",
       "              (query): Linear(in_features=768, out_features=768, bias=True)\n",
       "              (key): Linear(in_features=768, out_features=768, bias=True)\n",
       "              (value): Linear(in_features=768, out_features=768, bias=True)\n",
       "              (dropout): Dropout(p=0.1, inplace=False)\n",
       "            )\n",
       "            (output): BertSelfOutput(\n",
       "              (dense): Linear(in_features=768, out_features=768, bias=True)\n",
       "              (LayerNorm): LayerNorm((768,), eps=1e-05, elementwise_affine=True)\n",
       "              (dropout): Dropout(p=0.1, inplace=False)\n",
       "            )\n",
       "          )\n",
       "          (intermediate): BertIntermediate(\n",
       "            (dense): Linear(in_features=768, out_features=3072, bias=True)\n",
       "          )\n",
       "          (output): BertOutput(\n",
       "            (dense): Linear(in_features=3072, out_features=768, bias=True)\n",
       "            (LayerNorm): LayerNorm((768,), eps=1e-05, elementwise_affine=True)\n",
       "            (dropout): Dropout(p=0.1, inplace=False)\n",
       "          )\n",
       "        )\n",
       "        (3): BertLayer(\n",
       "          (attention): BertAttention(\n",
       "            (self): BertSelfAttention(\n",
       "              (query): Linear(in_features=768, out_features=768, bias=True)\n",
       "              (key): Linear(in_features=768, out_features=768, bias=True)\n",
       "              (value): Linear(in_features=768, out_features=768, bias=True)\n",
       "              (dropout): Dropout(p=0.1, inplace=False)\n",
       "            )\n",
       "            (output): BertSelfOutput(\n",
       "              (dense): Linear(in_features=768, out_features=768, bias=True)\n",
       "              (LayerNorm): LayerNorm((768,), eps=1e-05, elementwise_affine=True)\n",
       "              (dropout): Dropout(p=0.1, inplace=False)\n",
       "            )\n",
       "          )\n",
       "          (intermediate): BertIntermediate(\n",
       "            (dense): Linear(in_features=768, out_features=3072, bias=True)\n",
       "          )\n",
       "          (output): BertOutput(\n",
       "            (dense): Linear(in_features=3072, out_features=768, bias=True)\n",
       "            (LayerNorm): LayerNorm((768,), eps=1e-05, elementwise_affine=True)\n",
       "            (dropout): Dropout(p=0.1, inplace=False)\n",
       "          )\n",
       "        )\n",
       "        (4): BertLayer(\n",
       "          (attention): BertAttention(\n",
       "            (self): BertSelfAttention(\n",
       "              (query): Linear(in_features=768, out_features=768, bias=True)\n",
       "              (key): Linear(in_features=768, out_features=768, bias=True)\n",
       "              (value): Linear(in_features=768, out_features=768, bias=True)\n",
       "              (dropout): Dropout(p=0.1, inplace=False)\n",
       "            )\n",
       "            (output): BertSelfOutput(\n",
       "              (dense): Linear(in_features=768, out_features=768, bias=True)\n",
       "              (LayerNorm): LayerNorm((768,), eps=1e-05, elementwise_affine=True)\n",
       "              (dropout): Dropout(p=0.1, inplace=False)\n",
       "            )\n",
       "          )\n",
       "          (intermediate): BertIntermediate(\n",
       "            (dense): Linear(in_features=768, out_features=3072, bias=True)\n",
       "          )\n",
       "          (output): BertOutput(\n",
       "            (dense): Linear(in_features=3072, out_features=768, bias=True)\n",
       "            (LayerNorm): LayerNorm((768,), eps=1e-05, elementwise_affine=True)\n",
       "            (dropout): Dropout(p=0.1, inplace=False)\n",
       "          )\n",
       "        )\n",
       "        (5): BertLayer(\n",
       "          (attention): BertAttention(\n",
       "            (self): BertSelfAttention(\n",
       "              (query): Linear(in_features=768, out_features=768, bias=True)\n",
       "              (key): Linear(in_features=768, out_features=768, bias=True)\n",
       "              (value): Linear(in_features=768, out_features=768, bias=True)\n",
       "              (dropout): Dropout(p=0.1, inplace=False)\n",
       "            )\n",
       "            (output): BertSelfOutput(\n",
       "              (dense): Linear(in_features=768, out_features=768, bias=True)\n",
       "              (LayerNorm): LayerNorm((768,), eps=1e-05, elementwise_affine=True)\n",
       "              (dropout): Dropout(p=0.1, inplace=False)\n",
       "            )\n",
       "          )\n",
       "          (intermediate): BertIntermediate(\n",
       "            (dense): Linear(in_features=768, out_features=3072, bias=True)\n",
       "          )\n",
       "          (output): BertOutput(\n",
       "            (dense): Linear(in_features=3072, out_features=768, bias=True)\n",
       "            (LayerNorm): LayerNorm((768,), eps=1e-05, elementwise_affine=True)\n",
       "            (dropout): Dropout(p=0.1, inplace=False)\n",
       "          )\n",
       "        )\n",
       "        (6): BertLayer(\n",
       "          (attention): BertAttention(\n",
       "            (self): BertSelfAttention(\n",
       "              (query): Linear(in_features=768, out_features=768, bias=True)\n",
       "              (key): Linear(in_features=768, out_features=768, bias=True)\n",
       "              (value): Linear(in_features=768, out_features=768, bias=True)\n",
       "              (dropout): Dropout(p=0.1, inplace=False)\n",
       "            )\n",
       "            (output): BertSelfOutput(\n",
       "              (dense): Linear(in_features=768, out_features=768, bias=True)\n",
       "              (LayerNorm): LayerNorm((768,), eps=1e-05, elementwise_affine=True)\n",
       "              (dropout): Dropout(p=0.1, inplace=False)\n",
       "            )\n",
       "          )\n",
       "          (intermediate): BertIntermediate(\n",
       "            (dense): Linear(in_features=768, out_features=3072, bias=True)\n",
       "          )\n",
       "          (output): BertOutput(\n",
       "            (dense): Linear(in_features=3072, out_features=768, bias=True)\n",
       "            (LayerNorm): LayerNorm((768,), eps=1e-05, elementwise_affine=True)\n",
       "            (dropout): Dropout(p=0.1, inplace=False)\n",
       "          )\n",
       "        )\n",
       "        (7): BertLayer(\n",
       "          (attention): BertAttention(\n",
       "            (self): BertSelfAttention(\n",
       "              (query): Linear(in_features=768, out_features=768, bias=True)\n",
       "              (key): Linear(in_features=768, out_features=768, bias=True)\n",
       "              (value): Linear(in_features=768, out_features=768, bias=True)\n",
       "              (dropout): Dropout(p=0.1, inplace=False)\n",
       "            )\n",
       "            (output): BertSelfOutput(\n",
       "              (dense): Linear(in_features=768, out_features=768, bias=True)\n",
       "              (LayerNorm): LayerNorm((768,), eps=1e-05, elementwise_affine=True)\n",
       "              (dropout): Dropout(p=0.1, inplace=False)\n",
       "            )\n",
       "          )\n",
       "          (intermediate): BertIntermediate(\n",
       "            (dense): Linear(in_features=768, out_features=3072, bias=True)\n",
       "          )\n",
       "          (output): BertOutput(\n",
       "            (dense): Linear(in_features=3072, out_features=768, bias=True)\n",
       "            (LayerNorm): LayerNorm((768,), eps=1e-05, elementwise_affine=True)\n",
       "            (dropout): Dropout(p=0.1, inplace=False)\n",
       "          )\n",
       "        )\n",
       "        (8): BertLayer(\n",
       "          (attention): BertAttention(\n",
       "            (self): BertSelfAttention(\n",
       "              (query): Linear(in_features=768, out_features=768, bias=True)\n",
       "              (key): Linear(in_features=768, out_features=768, bias=True)\n",
       "              (value): Linear(in_features=768, out_features=768, bias=True)\n",
       "              (dropout): Dropout(p=0.1, inplace=False)\n",
       "            )\n",
       "            (output): BertSelfOutput(\n",
       "              (dense): Linear(in_features=768, out_features=768, bias=True)\n",
       "              (LayerNorm): LayerNorm((768,), eps=1e-05, elementwise_affine=True)\n",
       "              (dropout): Dropout(p=0.1, inplace=False)\n",
       "            )\n",
       "          )\n",
       "          (intermediate): BertIntermediate(\n",
       "            (dense): Linear(in_features=768, out_features=3072, bias=True)\n",
       "          )\n",
       "          (output): BertOutput(\n",
       "            (dense): Linear(in_features=3072, out_features=768, bias=True)\n",
       "            (LayerNorm): LayerNorm((768,), eps=1e-05, elementwise_affine=True)\n",
       "            (dropout): Dropout(p=0.1, inplace=False)\n",
       "          )\n",
       "        )\n",
       "        (9): BertLayer(\n",
       "          (attention): BertAttention(\n",
       "            (self): BertSelfAttention(\n",
       "              (query): Linear(in_features=768, out_features=768, bias=True)\n",
       "              (key): Linear(in_features=768, out_features=768, bias=True)\n",
       "              (value): Linear(in_features=768, out_features=768, bias=True)\n",
       "              (dropout): Dropout(p=0.1, inplace=False)\n",
       "            )\n",
       "            (output): BertSelfOutput(\n",
       "              (dense): Linear(in_features=768, out_features=768, bias=True)\n",
       "              (LayerNorm): LayerNorm((768,), eps=1e-05, elementwise_affine=True)\n",
       "              (dropout): Dropout(p=0.1, inplace=False)\n",
       "            )\n",
       "          )\n",
       "          (intermediate): BertIntermediate(\n",
       "            (dense): Linear(in_features=768, out_features=3072, bias=True)\n",
       "          )\n",
       "          (output): BertOutput(\n",
       "            (dense): Linear(in_features=3072, out_features=768, bias=True)\n",
       "            (LayerNorm): LayerNorm((768,), eps=1e-05, elementwise_affine=True)\n",
       "            (dropout): Dropout(p=0.1, inplace=False)\n",
       "          )\n",
       "        )\n",
       "        (10): BertLayer(\n",
       "          (attention): BertAttention(\n",
       "            (self): BertSelfAttention(\n",
       "              (query): Linear(in_features=768, out_features=768, bias=True)\n",
       "              (key): Linear(in_features=768, out_features=768, bias=True)\n",
       "              (value): Linear(in_features=768, out_features=768, bias=True)\n",
       "              (dropout): Dropout(p=0.1, inplace=False)\n",
       "            )\n",
       "            (output): BertSelfOutput(\n",
       "              (dense): Linear(in_features=768, out_features=768, bias=True)\n",
       "              (LayerNorm): LayerNorm((768,), eps=1e-05, elementwise_affine=True)\n",
       "              (dropout): Dropout(p=0.1, inplace=False)\n",
       "            )\n",
       "          )\n",
       "          (intermediate): BertIntermediate(\n",
       "            (dense): Linear(in_features=768, out_features=3072, bias=True)\n",
       "          )\n",
       "          (output): BertOutput(\n",
       "            (dense): Linear(in_features=3072, out_features=768, bias=True)\n",
       "            (LayerNorm): LayerNorm((768,), eps=1e-05, elementwise_affine=True)\n",
       "            (dropout): Dropout(p=0.1, inplace=False)\n",
       "          )\n",
       "        )\n",
       "        (11): BertLayer(\n",
       "          (attention): BertAttention(\n",
       "            (self): BertSelfAttention(\n",
       "              (query): Linear(in_features=768, out_features=768, bias=True)\n",
       "              (key): Linear(in_features=768, out_features=768, bias=True)\n",
       "              (value): Linear(in_features=768, out_features=768, bias=True)\n",
       "              (dropout): Dropout(p=0.1, inplace=False)\n",
       "            )\n",
       "            (output): BertSelfOutput(\n",
       "              (dense): Linear(in_features=768, out_features=768, bias=True)\n",
       "              (LayerNorm): LayerNorm((768,), eps=1e-05, elementwise_affine=True)\n",
       "              (dropout): Dropout(p=0.1, inplace=False)\n",
       "            )\n",
       "          )\n",
       "          (intermediate): BertIntermediate(\n",
       "            (dense): Linear(in_features=768, out_features=3072, bias=True)\n",
       "          )\n",
       "          (output): BertOutput(\n",
       "            (dense): Linear(in_features=3072, out_features=768, bias=True)\n",
       "            (LayerNorm): LayerNorm((768,), eps=1e-05, elementwise_affine=True)\n",
       "            (dropout): Dropout(p=0.1, inplace=False)\n",
       "          )\n",
       "        )\n",
       "      )\n",
       "    )\n",
       "    (pooler): BertPooler(\n",
       "      (dense): Linear(in_features=768, out_features=768, bias=True)\n",
       "      (activation): Tanh()\n",
       "    )\n",
       "  )\n",
       "  (classifier): RobertaClassificationHead(\n",
       "    (dense): Linear(in_features=768, out_features=768, bias=True)\n",
       "    (dropout): Dropout(p=0.1, inplace=False)\n",
       "    (out_proj): Linear(in_features=768, out_features=2, bias=True)\n",
       "  )\n",
       ")"
      ]
     },
     "execution_count": 20,
     "metadata": {},
     "output_type": "execute_result"
    }
   ],
   "source": [
    "# Load BertForSequenceClassification, the pretrained BERT model with a single \n",
    "# linear classification layer on top. \n",
    "import torch.nn as nn\n",
    "model = AutoModelForSequenceClassification.from_pretrained(\n",
    "    models[model_num], # Use the 12-layer BERT model, with an uncased vocab.\n",
    "    num_labels = 2, # The number of output labels--2 for binary classification.\n",
    "                    # You can increase this for multi-class tasks.\n",
    "    output_attentions = False, # Whether the model returns attentions weights.\n",
    "    output_hidden_states = False, # Whether the model returns all hidden-states.\n",
    ")\n",
    "\n",
    "# Tell pytorch to run this model on the GPU.\n",
    "# model = nn.DataParallel(model)\n",
    "model.to(device)\n"
   ]
  },
  {
   "cell_type": "code",
   "execution_count": 21,
   "metadata": {
    "execution": {
     "iopub.execute_input": "2020-10-31T07:47:36.029763Z",
     "iopub.status.busy": "2020-10-31T07:47:36.029512Z",
     "iopub.status.idle": "2020-10-31T07:47:36.038104Z",
     "shell.execute_reply": "2020-10-31T07:47:36.037619Z",
     "shell.execute_reply.started": "2020-10-31T07:47:36.029738Z"
    }
   },
   "outputs": [
    {
     "name": "stdout",
     "output_type": "stream",
     "text": [
      "The BERT model has 203 different named parameters.\n",
      "\n",
      "==== Embedding Layer ====\n",
      "\n",
      "roberta.embeddings.word_embeddings.weight               (50265, 768)\n",
      "roberta.embeddings.position_embeddings.weight             (514, 768)\n",
      "roberta.embeddings.token_type_embeddings.weight             (1, 768)\n",
      "roberta.embeddings.LayerNorm.weight                           (768,)\n",
      "roberta.embeddings.LayerNorm.bias                             (768,)\n",
      "\n",
      "==== First Transformer ====\n",
      "\n",
      "roberta.encoder.layer.0.attention.self.query.weight       (768, 768)\n",
      "roberta.encoder.layer.0.attention.self.query.bias             (768,)\n",
      "roberta.encoder.layer.0.attention.self.key.weight         (768, 768)\n",
      "roberta.encoder.layer.0.attention.self.key.bias               (768,)\n",
      "roberta.encoder.layer.0.attention.self.value.weight       (768, 768)\n",
      "roberta.encoder.layer.0.attention.self.value.bias             (768,)\n",
      "roberta.encoder.layer.0.attention.output.dense.weight     (768, 768)\n",
      "roberta.encoder.layer.0.attention.output.dense.bias           (768,)\n",
      "roberta.encoder.layer.0.attention.output.LayerNorm.weight       (768,)\n",
      "roberta.encoder.layer.0.attention.output.LayerNorm.bias       (768,)\n",
      "roberta.encoder.layer.0.intermediate.dense.weight        (3072, 768)\n",
      "roberta.encoder.layer.0.intermediate.dense.bias              (3072,)\n",
      "roberta.encoder.layer.0.output.dense.weight              (768, 3072)\n",
      "roberta.encoder.layer.0.output.dense.bias                     (768,)\n",
      "roberta.encoder.layer.0.output.LayerNorm.weight               (768,)\n",
      "roberta.encoder.layer.0.output.LayerNorm.bias                 (768,)\n",
      "\n",
      "==== Output Layer ====\n",
      "\n",
      "classifier.dense.weight                                   (768, 768)\n",
      "classifier.dense.bias                                         (768,)\n",
      "classifier.out_proj.weight                                  (2, 768)\n",
      "classifier.out_proj.bias                                        (2,)\n"
     ]
    }
   ],
   "source": [
    "params = list(model.named_parameters())\n",
    "\n",
    "print('The BERT model has {:} different named parameters.\\n'.format(len(params)))\n",
    "\n",
    "print('==== Embedding Layer ====\\n')\n",
    "\n",
    "for p in params[0:5]:\n",
    "    print(\"{:<55} {:>12}\".format(p[0], str(tuple(p[1].size()))))\n",
    "\n",
    "print('\\n==== First Transformer ====\\n')\n",
    "\n",
    "for p in params[5:21]:\n",
    "    print(\"{:<55} {:>12}\".format(p[0], str(tuple(p[1].size()))))\n",
    "\n",
    "print('\\n==== Output Layer ====\\n')\n",
    "\n",
    "for p in params[-4:]:\n",
    "    print(\"{:<55} {:>12}\".format(p[0], str(tuple(p[1].size()))))\n"
   ]
  },
  {
   "cell_type": "code",
   "execution_count": 22,
   "metadata": {
    "execution": {
     "iopub.execute_input": "2020-10-31T07:47:36.039231Z",
     "iopub.status.busy": "2020-10-31T07:47:36.039039Z",
     "iopub.status.idle": "2020-10-31T07:47:36.042812Z",
     "shell.execute_reply": "2020-10-31T07:47:36.042328Z",
     "shell.execute_reply.started": "2020-10-31T07:47:36.039209Z"
    }
   },
   "outputs": [],
   "source": [
    "optimizer = AdamW(model.parameters(),\n",
    "                  lr = 5e-5, # args.learning_rate - default is 5e-5, our notebook had 2e-5\n",
    "                  eps = 1e-8 # args.adam_epsilon  - default is 1e-8.\n",
    "                )"
   ]
  },
  {
   "cell_type": "code",
   "execution_count": 23,
   "metadata": {
    "execution": {
     "iopub.execute_input": "2020-10-31T07:47:36.043689Z",
     "iopub.status.busy": "2020-10-31T07:47:36.043539Z",
     "iopub.status.idle": "2020-10-31T07:47:36.049341Z",
     "shell.execute_reply": "2020-10-31T07:47:36.048775Z",
     "shell.execute_reply.started": "2020-10-31T07:47:36.043670Z"
    }
   },
   "outputs": [],
   "source": [
    "# Number of training epochs. The BERT authors recommend between 2 and 4. \n",
    "# We chose to run for 4, but we'll see later that this may be over-fitting the\n",
    "# training data.\n",
    "epochs = 4\n",
    "\n",
    "# Total number of training steps is [number of batches] x [number of epochs]. \n",
    "# (Note that this is not the same as the number of training samples).\n",
    "total_steps = len(train_dataloader) * epochs\n",
    "\n",
    "# Create the learning rate scheduler.\n",
    "scheduler = get_linear_schedule_with_warmup(optimizer, \n",
    "                                            num_warmup_steps = 0, # Default value in run_glue.py\n",
    "                                            num_training_steps = total_steps)\n"
   ]
  },
  {
   "cell_type": "code",
   "execution_count": 24,
   "metadata": {
    "execution": {
     "iopub.execute_input": "2020-10-31T07:47:36.050221Z",
     "iopub.status.busy": "2020-10-31T07:47:36.050070Z",
     "iopub.status.idle": "2020-10-31T07:47:36.055679Z",
     "shell.execute_reply": "2020-10-31T07:47:36.055229Z",
     "shell.execute_reply.started": "2020-10-31T07:47:36.050202Z"
    }
   },
   "outputs": [],
   "source": [
    "# Function to calculate the accuracy of our predictions vs labels\n",
    "def flat_accuracy(preds, labels):\n",
    "    pred_flat = np.argmax(preds, axis=1).flatten()\n",
    "    labels_flat = labels.flatten()\n",
    "    return np.sum(pred_flat == labels_flat) / len(labels_flat)\n"
   ]
  },
  {
   "cell_type": "code",
   "execution_count": 25,
   "metadata": {
    "execution": {
     "iopub.execute_input": "2020-10-31T07:47:36.056532Z",
     "iopub.status.busy": "2020-10-31T07:47:36.056391Z",
     "iopub.status.idle": "2020-10-31T07:47:36.062561Z",
     "shell.execute_reply": "2020-10-31T07:47:36.061959Z",
     "shell.execute_reply.started": "2020-10-31T07:47:36.056514Z"
    }
   },
   "outputs": [],
   "source": [
    "def format_time(elapsed):\n",
    "    '''\n",
    "    Takes a time in seconds and returns a string hh:mm:ss\n",
    "    '''\n",
    "    # Round to the nearest second.\n",
    "    elapsed_rounded = int(round((elapsed)))\n",
    "    \n",
    "    # Format as hh:mm:ss\n",
    "    return str(datetime.timedelta(seconds=elapsed_rounded))\n",
    "\n"
   ]
  },
  {
   "cell_type": "code",
   "execution_count": 26,
   "metadata": {
    "execution": {
     "iopub.execute_input": "2020-10-31T07:47:36.064806Z",
     "iopub.status.busy": "2020-10-31T07:47:36.064659Z",
     "iopub.status.idle": "2020-10-31T08:47:55.717558Z",
     "shell.execute_reply": "2020-10-31T08:47:55.716790Z",
     "shell.execute_reply.started": "2020-10-31T07:47:36.064787Z"
    }
   },
   "outputs": [
    {
     "name": "stdout",
     "output_type": "stream",
     "text": [
      "\n",
      "======== Epoch 1 / 4 ========\n",
      "Training...\n",
      "  Batch    40  of  3,800.    Elapsed: 0:00:17.\n",
      "  Batch    80  of  3,800.    Elapsed: 0:00:35.\n",
      "  Batch   120  of  3,800.    Elapsed: 0:00:52.\n",
      "  Batch   160  of  3,800.    Elapsed: 0:01:10.\n",
      "  Batch   200  of  3,800.    Elapsed: 0:01:28.\n",
      "  Batch   240  of  3,800.    Elapsed: 0:01:46.\n",
      "  Batch   280  of  3,800.    Elapsed: 0:02:03.\n",
      "  Batch   320  of  3,800.    Elapsed: 0:02:21.\n",
      "  Batch   360  of  3,800.    Elapsed: 0:02:39.\n",
      "  Batch   400  of  3,800.    Elapsed: 0:02:57.\n",
      "  Batch   440  of  3,800.    Elapsed: 0:03:15.\n",
      "  Batch   480  of  3,800.    Elapsed: 0:03:33.\n",
      "  Batch   520  of  3,800.    Elapsed: 0:03:51.\n",
      "  Batch   560  of  3,800.    Elapsed: 0:04:10.\n",
      "  Batch   600  of  3,800.    Elapsed: 0:04:28.\n",
      "  Batch   640  of  3,800.    Elapsed: 0:04:46.\n",
      "  Batch   680  of  3,800.    Elapsed: 0:05:04.\n",
      "  Batch   720  of  3,800.    Elapsed: 0:05:22.\n",
      "  Batch   760  of  3,800.    Elapsed: 0:05:40.\n",
      "  Batch   800  of  3,800.    Elapsed: 0:05:58.\n",
      "  Batch   840  of  3,800.    Elapsed: 0:06:16.\n",
      "  Batch   880  of  3,800.    Elapsed: 0:06:34.\n",
      "  Batch   920  of  3,800.    Elapsed: 0:06:52.\n",
      "  Batch   960  of  3,800.    Elapsed: 0:07:10.\n",
      "  Batch 1,000  of  3,800.    Elapsed: 0:07:29.\n",
      "  Batch 1,040  of  3,800.    Elapsed: 0:07:47.\n",
      "  Batch 1,080  of  3,800.    Elapsed: 0:08:05.\n",
      "  Batch 1,120  of  3,800.    Elapsed: 0:08:23.\n",
      "  Batch 1,160  of  3,800.    Elapsed: 0:08:41.\n",
      "  Batch 1,200  of  3,800.    Elapsed: 0:08:59.\n",
      "  Batch 1,240  of  3,800.    Elapsed: 0:09:17.\n",
      "  Batch 1,280  of  3,800.    Elapsed: 0:09:35.\n",
      "  Batch 1,320  of  3,800.    Elapsed: 0:09:53.\n",
      "  Batch 1,360  of  3,800.    Elapsed: 0:10:11.\n",
      "  Batch 1,400  of  3,800.    Elapsed: 0:10:29.\n",
      "  Batch 1,440  of  3,800.    Elapsed: 0:10:48.\n",
      "  Batch 1,480  of  3,800.    Elapsed: 0:11:06.\n",
      "  Batch 1,520  of  3,800.    Elapsed: 0:11:24.\n",
      "  Batch 1,560  of  3,800.    Elapsed: 0:11:42.\n",
      "  Batch 1,600  of  3,800.    Elapsed: 0:12:00.\n",
      "  Batch 1,640  of  3,800.    Elapsed: 0:12:18.\n",
      "  Batch 1,680  of  3,800.    Elapsed: 0:12:36.\n",
      "  Batch 1,720  of  3,800.    Elapsed: 0:12:54.\n",
      "  Batch 1,760  of  3,800.    Elapsed: 0:13:12.\n",
      "  Batch 1,800  of  3,800.    Elapsed: 0:13:30.\n",
      "  Batch 1,840  of  3,800.    Elapsed: 0:13:48.\n",
      "  Batch 1,880  of  3,800.    Elapsed: 0:14:06.\n",
      "  Batch 1,920  of  3,800.    Elapsed: 0:14:25.\n",
      "  Batch 1,960  of  3,800.    Elapsed: 0:14:43.\n",
      "  Batch 2,000  of  3,800.    Elapsed: 0:15:01.\n",
      "  Batch 2,040  of  3,800.    Elapsed: 0:15:19.\n",
      "  Batch 2,080  of  3,800.    Elapsed: 0:15:37.\n",
      "  Batch 2,120  of  3,800.    Elapsed: 0:15:55.\n",
      "  Batch 2,160  of  3,800.    Elapsed: 0:16:13.\n",
      "  Batch 2,200  of  3,800.    Elapsed: 0:16:31.\n",
      "  Batch 2,240  of  3,800.    Elapsed: 0:16:49.\n",
      "  Batch 2,280  of  3,800.    Elapsed: 0:17:07.\n",
      "  Batch 2,320  of  3,800.    Elapsed: 0:17:25.\n",
      "  Batch 2,360  of  3,800.    Elapsed: 0:17:43.\n",
      "  Batch 2,400  of  3,800.    Elapsed: 0:18:01.\n",
      "  Batch 2,440  of  3,800.    Elapsed: 0:18:20.\n",
      "  Batch 2,480  of  3,800.    Elapsed: 0:18:38.\n",
      "  Batch 2,520  of  3,800.    Elapsed: 0:18:56.\n",
      "  Batch 2,560  of  3,800.    Elapsed: 0:19:14.\n",
      "  Batch 2,600  of  3,800.    Elapsed: 0:19:32.\n",
      "  Batch 2,640  of  3,800.    Elapsed: 0:19:50.\n",
      "  Batch 2,680  of  3,800.    Elapsed: 0:20:08.\n",
      "  Batch 2,720  of  3,800.    Elapsed: 0:20:26.\n",
      "  Batch 2,760  of  3,800.    Elapsed: 0:20:44.\n",
      "  Batch 2,800  of  3,800.    Elapsed: 0:21:02.\n",
      "  Batch 2,840  of  3,800.    Elapsed: 0:21:20.\n",
      "  Batch 2,880  of  3,800.    Elapsed: 0:21:38.\n",
      "  Batch 2,920  of  3,800.    Elapsed: 0:21:56.\n",
      "  Batch 2,960  of  3,800.    Elapsed: 0:22:14.\n",
      "  Batch 3,000  of  3,800.    Elapsed: 0:22:32.\n",
      "  Batch 3,040  of  3,800.    Elapsed: 0:22:50.\n",
      "  Batch 3,080  of  3,800.    Elapsed: 0:23:08.\n",
      "  Batch 3,120  of  3,800.    Elapsed: 0:23:26.\n",
      "  Batch 3,160  of  3,800.    Elapsed: 0:23:45.\n",
      "  Batch 3,200  of  3,800.    Elapsed: 0:24:03.\n",
      "  Batch 3,240  of  3,800.    Elapsed: 0:24:21.\n",
      "  Batch 3,280  of  3,800.    Elapsed: 0:24:39.\n",
      "  Batch 3,320  of  3,800.    Elapsed: 0:24:57.\n",
      "  Batch 3,360  of  3,800.    Elapsed: 0:25:15.\n",
      "  Batch 3,400  of  3,800.    Elapsed: 0:25:33.\n",
      "  Batch 3,440  of  3,800.    Elapsed: 0:25:51.\n",
      "  Batch 3,480  of  3,800.    Elapsed: 0:26:09.\n",
      "  Batch 3,520  of  3,800.    Elapsed: 0:26:27.\n",
      "  Batch 3,560  of  3,800.    Elapsed: 0:26:45.\n",
      "  Batch 3,600  of  3,800.    Elapsed: 0:27:03.\n",
      "  Batch 3,640  of  3,800.    Elapsed: 0:27:21.\n",
      "  Batch 3,680  of  3,800.    Elapsed: 0:27:39.\n",
      "  Batch 3,720  of  3,800.    Elapsed: 0:27:58.\n",
      "  Batch 3,760  of  3,800.    Elapsed: 0:28:16.\n",
      "\n",
      "  Average training loss: 0.39\n",
      "  Training epcoh took: 0:28:33\n",
      "\n",
      "Running Validation...\n",
      "  Accuracy: 0.83\n",
      "  Validation Loss: 0.43\n",
      "  Validation took: 0:01:21\n"
     ]
    },
    {
     "name": "stdin",
     "output_type": "stream",
     "text": [
      " n\n"
     ]
    },
    {
     "name": "stdout",
     "output_type": "stream",
     "text": [
      "\n",
      "======== Epoch 2 / 4 ========\n",
      "Training...\n",
      "  Batch    40  of  3,800.    Elapsed: 0:00:18.\n",
      "  Batch    80  of  3,800.    Elapsed: 0:00:36.\n",
      "  Batch   120  of  3,800.    Elapsed: 0:00:53.\n",
      "  Batch   160  of  3,800.    Elapsed: 0:01:11.\n",
      "  Batch   200  of  3,800.    Elapsed: 0:01:29.\n",
      "  Batch   240  of  3,800.    Elapsed: 0:01:47.\n",
      "  Batch   280  of  3,800.    Elapsed: 0:02:05.\n",
      "  Batch   320  of  3,800.    Elapsed: 0:02:23.\n",
      "  Batch   360  of  3,800.    Elapsed: 0:02:41.\n",
      "  Batch   400  of  3,800.    Elapsed: 0:02:59.\n",
      "  Batch   440  of  3,800.    Elapsed: 0:03:18.\n",
      "  Batch   480  of  3,800.    Elapsed: 0:03:36.\n",
      "  Batch   520  of  3,800.    Elapsed: 0:03:54.\n",
      "  Batch   560  of  3,800.    Elapsed: 0:04:12.\n",
      "  Batch   600  of  3,800.    Elapsed: 0:04:30.\n",
      "  Batch   640  of  3,800.    Elapsed: 0:04:48.\n",
      "  Batch   680  of  3,800.    Elapsed: 0:05:06.\n",
      "  Batch   720  of  3,800.    Elapsed: 0:05:24.\n",
      "  Batch   760  of  3,800.    Elapsed: 0:05:42.\n",
      "  Batch   800  of  3,800.    Elapsed: 0:06:00.\n",
      "  Batch   840  of  3,800.    Elapsed: 0:06:18.\n",
      "  Batch   880  of  3,800.    Elapsed: 0:06:36.\n",
      "  Batch   920  of  3,800.    Elapsed: 0:06:54.\n",
      "  Batch   960  of  3,800.    Elapsed: 0:07:12.\n",
      "  Batch 1,000  of  3,800.    Elapsed: 0:07:30.\n",
      "  Batch 1,040  of  3,800.    Elapsed: 0:07:48.\n",
      "  Batch 1,080  of  3,800.    Elapsed: 0:08:06.\n",
      "  Batch 1,120  of  3,800.    Elapsed: 0:08:24.\n",
      "  Batch 1,160  of  3,800.    Elapsed: 0:08:42.\n",
      "  Batch 1,200  of  3,800.    Elapsed: 0:09:00.\n",
      "  Batch 1,240  of  3,800.    Elapsed: 0:09:18.\n",
      "  Batch 1,280  of  3,800.    Elapsed: 0:09:36.\n",
      "  Batch 1,320  of  3,800.    Elapsed: 0:09:54.\n",
      "  Batch 1,360  of  3,800.    Elapsed: 0:10:13.\n",
      "  Batch 1,400  of  3,800.    Elapsed: 0:10:31.\n",
      "  Batch 1,440  of  3,800.    Elapsed: 0:10:49.\n",
      "  Batch 1,480  of  3,800.    Elapsed: 0:11:07.\n",
      "  Batch 1,520  of  3,800.    Elapsed: 0:11:25.\n",
      "  Batch 1,560  of  3,800.    Elapsed: 0:11:43.\n",
      "  Batch 1,600  of  3,800.    Elapsed: 0:12:01.\n",
      "  Batch 1,640  of  3,800.    Elapsed: 0:12:19.\n",
      "  Batch 1,680  of  3,800.    Elapsed: 0:12:37.\n",
      "  Batch 1,720  of  3,800.    Elapsed: 0:12:55.\n",
      "  Batch 1,760  of  3,800.    Elapsed: 0:13:13.\n",
      "  Batch 1,800  of  3,800.    Elapsed: 0:13:31.\n",
      "  Batch 1,840  of  3,800.    Elapsed: 0:13:49.\n",
      "  Batch 1,880  of  3,800.    Elapsed: 0:14:07.\n",
      "  Batch 1,920  of  3,800.    Elapsed: 0:14:25.\n",
      "  Batch 1,960  of  3,800.    Elapsed: 0:14:43.\n",
      "  Batch 2,000  of  3,800.    Elapsed: 0:15:01.\n",
      "  Batch 2,040  of  3,800.    Elapsed: 0:15:19.\n",
      "  Batch 2,080  of  3,800.    Elapsed: 0:15:38.\n",
      "  Batch 2,120  of  3,800.    Elapsed: 0:15:56.\n",
      "  Batch 2,160  of  3,800.    Elapsed: 0:16:14.\n",
      "  Batch 2,200  of  3,800.    Elapsed: 0:16:32.\n",
      "  Batch 2,240  of  3,800.    Elapsed: 0:16:50.\n",
      "  Batch 2,280  of  3,800.    Elapsed: 0:17:08.\n",
      "  Batch 2,320  of  3,800.    Elapsed: 0:17:26.\n",
      "  Batch 2,360  of  3,800.    Elapsed: 0:17:44.\n",
      "  Batch 2,400  of  3,800.    Elapsed: 0:18:02.\n",
      "  Batch 2,440  of  3,800.    Elapsed: 0:18:20.\n",
      "  Batch 2,480  of  3,800.    Elapsed: 0:18:38.\n",
      "  Batch 2,520  of  3,800.    Elapsed: 0:18:56.\n",
      "  Batch 2,560  of  3,800.    Elapsed: 0:19:14.\n",
      "  Batch 2,600  of  3,800.    Elapsed: 0:19:32.\n",
      "  Batch 2,640  of  3,800.    Elapsed: 0:19:50.\n",
      "  Batch 2,680  of  3,800.    Elapsed: 0:20:08.\n",
      "  Batch 2,720  of  3,800.    Elapsed: 0:20:26.\n",
      "  Batch 2,760  of  3,800.    Elapsed: 0:20:45.\n",
      "  Batch 2,800  of  3,800.    Elapsed: 0:21:03.\n",
      "  Batch 2,840  of  3,800.    Elapsed: 0:21:21.\n",
      "  Batch 2,880  of  3,800.    Elapsed: 0:21:39.\n",
      "  Batch 2,920  of  3,800.    Elapsed: 0:21:57.\n",
      "  Batch 2,960  of  3,800.    Elapsed: 0:22:15.\n",
      "  Batch 3,000  of  3,800.    Elapsed: 0:22:33.\n",
      "  Batch 3,040  of  3,800.    Elapsed: 0:22:51.\n",
      "  Batch 3,080  of  3,800.    Elapsed: 0:23:09.\n",
      "  Batch 3,120  of  3,800.    Elapsed: 0:23:27.\n",
      "  Batch 3,160  of  3,800.    Elapsed: 0:23:45.\n",
      "  Batch 3,200  of  3,800.    Elapsed: 0:24:03.\n",
      "  Batch 3,240  of  3,800.    Elapsed: 0:24:21.\n",
      "  Batch 3,280  of  3,800.    Elapsed: 0:24:39.\n",
      "  Batch 3,320  of  3,800.    Elapsed: 0:24:57.\n",
      "  Batch 3,360  of  3,800.    Elapsed: 0:25:15.\n",
      "  Batch 3,400  of  3,800.    Elapsed: 0:25:33.\n",
      "  Batch 3,440  of  3,800.    Elapsed: 0:25:51.\n",
      "  Batch 3,480  of  3,800.    Elapsed: 0:26:09.\n",
      "  Batch 3,520  of  3,800.    Elapsed: 0:26:27.\n",
      "  Batch 3,560  of  3,800.    Elapsed: 0:26:45.\n",
      "  Batch 3,600  of  3,800.    Elapsed: 0:27:03.\n",
      "  Batch 3,640  of  3,800.    Elapsed: 0:27:21.\n",
      "  Batch 3,680  of  3,800.    Elapsed: 0:27:39.\n",
      "  Batch 3,720  of  3,800.    Elapsed: 0:27:57.\n",
      "  Batch 3,760  of  3,800.    Elapsed: 0:28:15.\n",
      "\n",
      "  Average training loss: 0.37\n",
      "  Training epcoh took: 0:28:33\n",
      "\n",
      "Running Validation...\n",
      "  Accuracy: 0.85\n",
      "  Validation Loss: 0.41\n",
      "  Validation took: 0:01:21\n"
     ]
    },
    {
     "name": "stdin",
     "output_type": "stream",
     "text": [
      " y\n"
     ]
    },
    {
     "name": "stdout",
     "output_type": "stream",
     "text": [
      "\n",
      "Training complete!\n",
      "Total training took 1:00:20 (h:mm:ss)\n"
     ]
    }
   ],
   "source": [
    "seed_val = 42\n",
    "torch.cuda.empty_cache()\n",
    "random.seed(seed_val)\n",
    "np.random.seed(seed_val)\n",
    "torch.manual_seed(seed_val)\n",
    "torch.cuda.manual_seed_all(seed_val)\n",
    "\n",
    "# We'll store a number of quantities such as training and validation loss, \n",
    "# validation accuracy, and timings.\n",
    "training_stats = []\n",
    "\n",
    "# Measure the total training time for the whole run.\n",
    "total_t0 = time.time()\n",
    "\n",
    "# For each epoch...\n",
    "for epoch_i in range(0, epochs):\n",
    "    \n",
    "    # ========================================\n",
    "    #               Training\n",
    "    # ========================================\n",
    "    \n",
    "    # Perform one full pass over the training set.\n",
    "\n",
    "    print(\"\")\n",
    "    print('======== Epoch {:} / {:} ========'.format(epoch_i + 1, epochs))\n",
    "    print('Training...')\n",
    "\n",
    "    # Measure how long the training epoch takes.\n",
    "    t0 = time.time()\n",
    "\n",
    "    # Reset the total loss for this epoch.\n",
    "    total_train_loss = 0\n",
    "\n",
    "    # Put the model into training mode. Don't be mislead--the call to \n",
    "    # `train` just changes the *mode*, it doesn't *perform* the training.\n",
    "    # `dropout` and `batchnorm` layers behave differently during training\n",
    "    # vs. test (source: https://stackoverflow.com/questions/51433378/what-does-model-train-do-in-pytorch)\n",
    "    model.train()\n",
    "\n",
    "    # For each batch of training data...\n",
    "    for step, batch in enumerate(train_dataloader):\n",
    "\n",
    "        # Progress update every 40 batches.\n",
    "        if step % 40 == 0 and not step == 0:\n",
    "            # Calculate elapsed time in minutes.\n",
    "            elapsed = format_time(time.time() - t0)\n",
    "            \n",
    "            # Report progress.\n",
    "            print('  Batch {:>5,}  of  {:>5,}.    Elapsed: {:}.'.format(step, len(train_dataloader), elapsed))\n",
    "\n",
    "        # Unpack this training batch from our dataloader. \n",
    "        #\n",
    "        # As we unpack the batch, we'll also copy each tensor to the GPU using the \n",
    "        # `to` method.\n",
    "        #\n",
    "        # `batch` contains three pytorch tensors:\n",
    "        #   [0]: input ids \n",
    "        #   [1]: attention masks\n",
    "        #   [2]: labels \n",
    "        b_input_ids = batch[0].to(device)\n",
    "        b_input_mask = batch[1].to(device)\n",
    "        b_labels = batch[2].to(device)\n",
    "\n",
    "        # Always clear any previously calculated gradients before performing a\n",
    "        # backward pass. PyTorch doesn't do this automatically because \n",
    "        # accumulating the gradients is \"convenient while training RNNs\". \n",
    "        # (source: https://stackoverflow.com/questions/48001598/why-do-we-need-to-call-zero-grad-in-pytorch)\n",
    "        model.zero_grad()        \n",
    "\n",
    "        # Perform a forward pass (evaluate the model on this training batch).\n",
    "        # The documentation for this `model` function is here: \n",
    "        # https://huggingface.co/transformers/v2.2.0/model_doc/bert.html#transformers.BertForSequenceClassification\n",
    "        # It returns different numbers of parameters depending on what arguments\n",
    "        # arge given and what flags are set. For our useage here, it returns\n",
    "        # the loss (because we provided labels) and the \"logits\"--the model\n",
    "        # outputs prior to activation.\n",
    "        loss, logits = model(b_input_ids, \n",
    "                             token_type_ids=None, \n",
    "                             attention_mask=b_input_mask, \n",
    "                             labels=b_labels)\n",
    "\n",
    "        # Accumulate the training loss over all of the batches so that we can\n",
    "        # calculate the average loss at the end. `loss` is a Tensor containing a\n",
    "        # single value; the `.item()` function just returns the Python value \n",
    "        # from the tensor.\n",
    "#         print(loss)\n",
    "        total_train_loss += loss.item()\n",
    "\n",
    "        # Perform a backward pass to calculate the gradients.\n",
    "        \n",
    "        loss.backward()\n",
    "\n",
    "        # Clip the norm of the gradients to 1.0.\n",
    "        # This is to help prevent the \"exploding gradients\" problem.\n",
    "        torch.nn.utils.clip_grad_norm_(model.parameters(), 1.0)\n",
    "\n",
    "        # Update parameters and take a step using the computed gradient.\n",
    "        # The optimizer dictates the \"update rule\"--how the parameters are\n",
    "        # modified based on their gradients, the learning rate, etc.\n",
    "        optimizer.step()\n",
    "\n",
    "        # Update the learning rate.\n",
    "        scheduler.step()\n",
    "\n",
    "    # Calculate the average loss over all of the batches.\n",
    "    avg_train_loss = total_train_loss / len(train_dataloader)            \n",
    "    \n",
    "    # Measure how long this epoch took.\n",
    "    training_time = format_time(time.time() - t0)\n",
    "\n",
    "    print(\"\")\n",
    "    print(\"  Average training loss: {0:.2f}\".format(avg_train_loss))\n",
    "    print(\"  Training epcoh took: {:}\".format(training_time))\n",
    "        \n",
    "    # ========================================\n",
    "    #               Validation\n",
    "    # ========================================\n",
    "    # After the completion of each training epoch, measure our performance on\n",
    "    # our validation set.\n",
    "\n",
    "    print(\"\")\n",
    "    print(\"Running Validation...\")\n",
    "\n",
    "    t0 = time.time()\n",
    "\n",
    "    # Put the model in evaluation mode--the dropout layers behave differently\n",
    "    # during evaluation.\n",
    "    model.eval()\n",
    "\n",
    "    # Tracking variables \n",
    "    total_eval_accuracy = 0\n",
    "    total_eval_loss = 0\n",
    "    nb_eval_steps = 0\n",
    "\n",
    "    # Evaluate data for one epoch\n",
    "    for batch in validation_dataloader:\n",
    "        \n",
    "        # Unpack this training batch from our dataloader. \n",
    "        #\n",
    "        # As we unpack the batch, we'll also copy each tensor to the GPU using \n",
    "        # the `to` method.\n",
    "        #\n",
    "        # `batch` contains three pytorch tensors:\n",
    "        #   [0]: input ids \n",
    "        #   [1]: attention masks\n",
    "        #   [2]: labels \n",
    "        b_input_ids = batch[0].to(device)\n",
    "        b_input_mask = batch[1].to(device)\n",
    "        b_labels = batch[2].to(device)\n",
    "        \n",
    "        # Tell pytorch not to bother with constructing the compute graph during\n",
    "        # the forward pass, since this is only needed for backprop (training).\n",
    "        with torch.no_grad():        \n",
    "\n",
    "            # Forward pass, calculate logit predictions.\n",
    "            # token_type_ids is the same as the \"segment ids\", which \n",
    "            # differentiates sentence 1 and 2 in 2-sentence tasks.\n",
    "            # The documentation for this `model` function is here: \n",
    "            # https://huggingface.co/transformers/v2.2.0/model_doc/bert.html#transformers.BertForSequenceClassification\n",
    "            # Get the \"logits\" output by the model. The \"logits\" are the output\n",
    "            # values prior to applying an activation function like the softmax.\n",
    "            (loss, logits) = model(b_input_ids, \n",
    "                                   token_type_ids=None, \n",
    "                                   attention_mask=b_input_mask,\n",
    "                                   labels=b_labels)\n",
    "            \n",
    "        # Accumulate the validation loss.\n",
    "        total_eval_loss += loss.item()\n",
    "\n",
    "        # Move logits and labels to CPU\n",
    "        logits = logits.detach().cpu().numpy()\n",
    "        label_ids = b_labels.to('cpu').numpy()\n",
    "\n",
    "        # Calculate the accuracy for this batch of test sentences, and\n",
    "        # accumulate it over all batches.\n",
    "        total_eval_accuracy += flat_accuracy(logits, label_ids)\n",
    "        \n",
    "\n",
    "    # Report the final accuracy for this validation run.\n",
    "    avg_val_accuracy = total_eval_accuracy / len(validation_dataloader)\n",
    "    print(\"  Accuracy: {0:.2f}\".format(avg_val_accuracy))\n",
    "\n",
    "    # Calculate the average loss over all of the batches.\n",
    "    avg_val_loss = total_eval_loss / len(validation_dataloader)\n",
    "    \n",
    "    # Measure how long the validation run took.\n",
    "    validation_time = format_time(time.time() - t0)\n",
    "    \n",
    "    print(\"  Validation Loss: {0:.2f}\".format(avg_val_loss))\n",
    "    print(\"  Validation took: {:}\".format(validation_time))\n",
    "    # Record all statistics from this epoch.\n",
    "    training_stats.append(\n",
    "        {\n",
    "            'epoch': epoch_i + 1,\n",
    "            'Training Loss': avg_train_loss,\n",
    "            'Valid. Loss': avg_val_loss,\n",
    "            'Valid. Accur.': avg_val_accuracy,\n",
    "            'Training Time': training_time,\n",
    "            'Validation Time': validation_time\n",
    "        }\n",
    "    )\n",
    "    if epoch_i >= 0:\n",
    "        inp = input()\n",
    "        if inp.startswith('y'):\n",
    "            break\n",
    "\n",
    "print(\"\")\n",
    "print(\"Training complete!\")\n",
    "\n",
    "print(\"Total training took {:} (h:mm:ss)\".format(format_time(time.time()-total_t0)))\n"
   ]
  },
  {
   "cell_type": "code",
   "execution_count": 27,
   "metadata": {
    "execution": {
     "iopub.execute_input": "2020-10-31T08:47:55.718998Z",
     "iopub.status.busy": "2020-10-31T08:47:55.718786Z",
     "iopub.status.idle": "2020-10-31T08:47:55.738659Z",
     "shell.execute_reply": "2020-10-31T08:47:55.737839Z",
     "shell.execute_reply.started": "2020-10-31T08:47:55.718969Z"
    }
   },
   "outputs": [
    {
     "data": {
      "text/html": [
       "<div>\n",
       "<style scoped>\n",
       "    .dataframe tbody tr th:only-of-type {\n",
       "        vertical-align: middle;\n",
       "    }\n",
       "\n",
       "    .dataframe tbody tr th {\n",
       "        vertical-align: top;\n",
       "    }\n",
       "\n",
       "    .dataframe thead th {\n",
       "        text-align: right;\n",
       "    }\n",
       "</style>\n",
       "<table border=\"1\" class=\"dataframe\">\n",
       "  <thead>\n",
       "    <tr style=\"text-align: right;\">\n",
       "      <th></th>\n",
       "      <th>Training Loss</th>\n",
       "      <th>Valid. Loss</th>\n",
       "      <th>Valid. Accur.</th>\n",
       "      <th>Training Time</th>\n",
       "      <th>Validation Time</th>\n",
       "    </tr>\n",
       "    <tr>\n",
       "      <th>epoch</th>\n",
       "      <th></th>\n",
       "      <th></th>\n",
       "      <th></th>\n",
       "      <th></th>\n",
       "      <th></th>\n",
       "    </tr>\n",
       "  </thead>\n",
       "  <tbody>\n",
       "    <tr>\n",
       "      <th>1</th>\n",
       "      <td>0.39</td>\n",
       "      <td>0.43</td>\n",
       "      <td>0.83</td>\n",
       "      <td>0:28:33</td>\n",
       "      <td>0:01:21</td>\n",
       "    </tr>\n",
       "    <tr>\n",
       "      <th>2</th>\n",
       "      <td>0.37</td>\n",
       "      <td>0.41</td>\n",
       "      <td>0.85</td>\n",
       "      <td>0:28:33</td>\n",
       "      <td>0:01:21</td>\n",
       "    </tr>\n",
       "  </tbody>\n",
       "</table>\n",
       "</div>"
      ],
      "text/plain": [
       "       Training Loss  Valid. Loss  Valid. Accur. Training Time Validation Time\n",
       "epoch                                                                         \n",
       "1               0.39         0.43           0.83       0:28:33         0:01:21\n",
       "2               0.37         0.41           0.85       0:28:33         0:01:21"
      ]
     },
     "execution_count": 27,
     "metadata": {},
     "output_type": "execute_result"
    }
   ],
   "source": [
    "import pandas as pd\n",
    "\n",
    "# Display floats with two decimal places.\n",
    "pd.set_option('precision', 2)\n",
    "\n",
    "# Create a DataFrame from our training statistics.\n",
    "df_stats = pd.DataFrame(data=training_stats)\n",
    "\n",
    "# Use the 'epoch' as the row index.\"\"\n",
    "df_stats = df_stats.set_index('epoch')\n",
    "\n",
    "# A hack to force the column headers to wrap.\n",
    "#df = df.style.set_table_styles([dict(selector=\"th\",props=[('max-width', '70px')])])\n",
    "\n",
    "# Display the table.\n",
    "df_stats"
   ]
  },
  {
   "cell_type": "code",
   "execution_count": 28,
   "metadata": {
    "execution": {
     "iopub.execute_input": "2020-10-31T08:47:55.740365Z",
     "iopub.status.busy": "2020-10-31T08:47:55.740050Z",
     "iopub.status.idle": "2020-10-31T08:47:56.081682Z",
     "shell.execute_reply": "2020-10-31T08:47:56.081279Z",
     "shell.execute_reply.started": "2020-10-31T08:47:55.740297Z"
    }
   },
   "outputs": [
    {
     "data": {
      "image/png": "[encoded data removed]",
      "text/plain": [
       "<Figure size 864x432 with 1 Axes>"
      ]
     },
     "metadata": {},
     "output_type": "display_data"
    }
   ],
   "source": [
    "sns.set(style='darkgrid')\n",
    "\n",
    "# Increase the plot size and font size.\n",
    "sns.set(font_scale=1.5)\n",
    "plt.rcParams[\"figure.figsize\"] = (12,6)\n",
    "\n",
    "# Plot the learning curve.\n",
    "plt.plot(df_stats['Training Loss'], 'b-o', label=\"Training\")\n",
    "plt.plot(df_stats['Valid. Loss'], 'g-o', label=\"Validation\")\n",
    "\n",
    "# Label the plot.\n",
    "plt.title(\"Training & Validation Loss\")\n",
    "plt.xlabel(\"Epoch\")\n",
    "plt.ylabel(\"Loss\")\n",
    "plt.legend()\n",
    "plt.xticks([1, 2, 3, 4])\n",
    "\n",
    "plt.show()"
   ]
  },
  {
   "cell_type": "code",
   "execution_count": 29,
   "metadata": {
    "execution": {
     "iopub.execute_input": "2020-10-31T08:47:56.082518Z",
     "iopub.status.busy": "2020-10-31T08:47:56.082369Z",
     "iopub.status.idle": "2020-10-31T08:47:56.084716Z",
     "shell.execute_reply": "2020-10-31T08:47:56.084301Z",
     "shell.execute_reply.started": "2020-10-31T08:47:56.082498Z"
    }
   },
   "outputs": [],
   "source": [
    "posts = val_l\n",
    "categories = val_label_l"
   ]
  },
  {
   "cell_type": "code",
   "execution_count": 30,
   "metadata": {
    "execution": {
     "iopub.execute_input": "2020-10-31T08:47:56.085532Z",
     "iopub.status.busy": "2020-10-31T08:47:56.085383Z",
     "iopub.status.idle": "2020-10-31T08:48:32.527616Z",
     "shell.execute_reply": "2020-10-31T08:48:32.526891Z",
     "shell.execute_reply.started": "2020-10-31T08:47:56.085512Z"
    }
   },
   "outputs": [
    {
     "name": "stderr",
     "output_type": "stream",
     "text": [
      "/home/tathagata.raha/miniconda3/envs/fastai/lib/python3.8/site-packages/transformers/tokenization_utils_base.py:1764: FutureWarning: The `pad_to_max_length` argument is deprecated and will be removed in a future version, use `padding=True` or `padding='longest'` to pad to the longest sequence in the batch, or use `padding='max_length'` to pad to a max length. In this case, you can give a specific length with `max_length` (e.g. `max_length=45`) or leave max_length to None to pad to the maximal input size of the model (e.g. 512 for Bert).\n",
      "  warnings.warn(\n"
     ]
    }
   ],
   "source": [
    "input_ids = []\n",
    "attention_masks = []\n",
    "\n",
    "# For every sentence...\n",
    "for sent in posts:\n",
    "    # `encode_plus` will:\n",
    "    #   (1) Tokenize the sentence.\n",
    "    #   (2) Prepend the `[CLS]` token to the start.\n",
    "    #   (3) Append the `[SEP]` token to the end.\n",
    "    #   (4) Map tokens to their IDs.\n",
    "    #   (5) Pad or truncate the sentence to `max_length`\n",
    "    #   (6) Create attention masks for [PAD] tokens.\n",
    "    encoded_dict = tokenizer.encode_plus(\n",
    "                        sent,                      # Sentence to encode.\n",
    "                        truncation=True,\n",
    "                        add_special_tokens = True, # Add '[CLS]' and '[SEP]'\n",
    "                        max_length = MAX_LENGTH,           # Pad & truncate all sentences.\n",
    "                        pad_to_max_length = True,\n",
    "                        return_attention_mask = True,   # Construct attn. masks.\n",
    "                        return_tensors = 'pt',     # Return pytorch tensors.\n",
    "                   )\n",
    "    \n",
    "    # Add the encoded sentence to the list.    \n",
    "    input_ids.append(encoded_dict['input_ids'])\n",
    "    \n",
    "    # And its attention mask (simply differentiates padding from non-padding).\n",
    "    attention_masks.append(encoded_dict['attention_mask'])\n",
    "\n",
    "# Convert the lists into tensors.\n",
    "input_ids = torch.cat(input_ids, dim=0)\n",
    "attention_masks = torch.cat(attention_masks, dim=0)\n",
    "labels = torch.tensor(categories)\n",
    "\n",
    "# Set the batch size.  \n",
    "batch_size = 32\n",
    "\n",
    "# Create the DataLoader.\n",
    "prediction_data = TensorDataset(input_ids, attention_masks, labels)\n",
    "prediction_sampler = SequentialSampler(prediction_data)\n",
    "prediction_dataloader = DataLoader(prediction_data, sampler=prediction_sampler, batch_size=batch_size)\n"
   ]
  },
  {
   "cell_type": "code",
   "execution_count": 31,
   "metadata": {
    "execution": {
     "iopub.execute_input": "2020-10-31T08:48:32.528860Z",
     "iopub.status.busy": "2020-10-31T08:48:32.528700Z",
     "iopub.status.idle": "2020-10-31T08:51:14.446702Z",
     "shell.execute_reply": "2020-10-31T08:51:14.446148Z",
     "shell.execute_reply.started": "2020-10-31T08:48:32.528838Z"
    }
   },
   "outputs": [
    {
     "name": "stdout",
     "output_type": "stream",
     "text": [
      "Predicting labels for 35,138 test sentences...\n",
      "    DONE.\n"
     ]
    }
   ],
   "source": [
    "print('Predicting labels for {:,} test sentences...'.format(len(input_ids)))\n",
    "# Put model in evaluation mode\n",
    "model.eval()\n",
    "\n",
    "# Tracking variables \n",
    "predictions , true_labels = [], []\n",
    "\n",
    "# Predict \n",
    "for batch in prediction_dataloader:\n",
    "  # Add batch to GPU\n",
    "    batch = tuple(t.to(device) for t in batch)\n",
    "\n",
    "    # Unpack the inputs from our dataloader\n",
    "    b_input_ids, b_input_mask, b_labels = batch\n",
    "\n",
    "    # Telling the model not to compute or store gradients, saving memory and \n",
    "    # speeding up prediction\n",
    "    with torch.no_grad():\n",
    "      # Forward pass, calculate logit predictions\n",
    "      outputs = model(b_input_ids, token_type_ids=None, \n",
    "                      attention_mask=b_input_mask)\n",
    "\n",
    "    logits = outputs[0]\n",
    "\n",
    "    # Move logits and labels to CPU\n",
    "    logits = logits.detach().cpu().numpy()\n",
    "    label_ids = b_labels.to('cpu').numpy()\n",
    "\n",
    "    # Store predictions and true labels\n",
    "    predictions.append(logits)\n",
    "    true_labels.append(label_ids)\n",
    "\n",
    "print('    DONE.')\n"
   ]
  },
  {
   "cell_type": "code",
   "execution_count": 32,
   "metadata": {
    "execution": {
     "iopub.execute_input": "2020-10-31T08:51:14.448072Z",
     "iopub.status.busy": "2020-10-31T08:51:14.447864Z",
     "iopub.status.idle": "2020-10-31T08:51:14.453875Z",
     "shell.execute_reply": "2020-10-31T08:51:14.453329Z",
     "shell.execute_reply.started": "2020-10-31T08:51:14.448031Z"
    }
   },
   "outputs": [],
   "source": [
    "flat_predictions = np.concatenate(predictions, axis=0)\n",
    "\n",
    "# For each sample, pick the label (0 or 1) with the higher score.\n",
    "flat_predictions = np.argmax(flat_predictions, axis=1).flatten()\n",
    "\n",
    "# Combine the correct labels for each batch into a single list.\n",
    "flat_true_labels = np.concatenate(true_labels, axis=0)"
   ]
  },
  {
   "cell_type": "code",
   "execution_count": 33,
   "metadata": {
    "execution": {
     "iopub.execute_input": "2020-10-31T08:51:14.454820Z",
     "iopub.status.busy": "2020-10-31T08:51:14.454607Z",
     "iopub.status.idle": "2020-10-31T08:51:14.493954Z",
     "shell.execute_reply": "2020-10-31T08:51:14.493307Z",
     "shell.execute_reply.started": "2020-10-31T08:51:14.454798Z"
    }
   },
   "outputs": [
    {
     "name": "stdout",
     "output_type": "stream",
     "text": [
      "              precision    recall  f1-score   support\n",
      "\n",
      "           0       0.85      0.98      0.91     27451\n",
      "           1       0.87      0.38      0.53      7687\n",
      "\n",
      "    accuracy                           0.85     35138\n",
      "   macro avg       0.86      0.68      0.72     35138\n",
      "weighted avg       0.85      0.85      0.83     35138\n",
      "\n"
     ]
    }
   ],
   "source": [
    "from sklearn.metrics import classification_report\n",
    "print(classification_report(flat_true_labels, flat_predictions))"
   ]
  },
  {
   "cell_type": "code",
   "execution_count": 34,
   "metadata": {
    "execution": {
     "iopub.execute_input": "2020-10-31T08:51:14.494873Z",
     "iopub.status.busy": "2020-10-31T08:51:14.494691Z",
     "iopub.status.idle": "2020-10-31T08:51:14.497325Z",
     "shell.execute_reply": "2020-10-31T08:51:14.496768Z",
     "shell.execute_reply.started": "2020-10-31T08:51:14.494839Z"
    }
   },
   "outputs": [],
   "source": [
    "# torch.save(model, '/scratch/tathagataraha/nela-gt-article-cascadingRoberta-epoch'+str(epoch_i)+'.pt')"
   ]
  },
  {
   "cell_type": "code",
   "execution_count": 35,
   "metadata": {
    "execution": {
     "iopub.execute_input": "2020-10-31T08:51:14.498266Z",
     "iopub.status.busy": "2020-10-31T08:51:14.498103Z",
     "iopub.status.idle": "2020-10-31T08:51:14.504026Z",
     "shell.execute_reply": "2020-10-31T08:51:14.503425Z",
     "shell.execute_reply.started": "2020-10-31T08:51:14.498246Z"
    }
   },
   "outputs": [],
   "source": [
    "# torch.save(model, '/scratch/tathagataraha/nela-gt-article-cascadingRoberta-epoch3'.pt')"
   ]
  },
  {
   "cell_type": "code",
   "execution_count": 36,
   "metadata": {
    "execution": {
     "iopub.execute_input": "2020-10-31T08:53:18.321733Z",
     "iopub.status.busy": "2020-10-31T08:53:18.321536Z",
     "iopub.status.idle": "2020-10-31T08:53:18.367341Z",
     "shell.execute_reply": "2020-10-31T08:53:18.366847Z",
     "shell.execute_reply.started": "2020-10-31T08:53:18.321708Z"
    }
   },
   "outputs": [
    {
     "data": {
      "text/plain": [
       "(35138, 35138)"
      ]
     },
     "execution_count": 36,
     "metadata": {},
     "output_type": "execute_result"
    }
   ],
   "source": [
    "val_l = []\n",
    "val_label_l = []\n",
    "val_index_l = []\n",
    "count = 0\n",
    "for row,label in zip(valid_x, valid_y):\n",
    "    for l in row:\n",
    "        val_l.append(l)\n",
    "        val_label_l.append(label)\n",
    "        val_index_l.append(count)\n",
    "    count += 1\n",
    "len(val_l), len(val_label_l)"
   ]
  },
  {
   "cell_type": "code",
   "execution_count": 41,
   "metadata": {
    "execution": {
     "iopub.execute_input": "2020-10-31T09:02:23.584214Z",
     "iopub.status.busy": "2020-10-31T09:02:23.583895Z",
     "iopub.status.idle": "2020-10-31T09:02:23.589095Z",
     "shell.execute_reply": "2020-10-31T09:02:23.588391Z",
     "shell.execute_reply.started": "2020-10-31T09:02:23.584183Z"
    }
   },
   "outputs": [],
   "source": [
    "uniq = list(set(val_index_l))"
   ]
  },
  {
   "cell_type": "code",
   "execution_count": 42,
   "metadata": {
    "execution": {
     "iopub.execute_input": "2020-10-31T09:02:54.861334Z",
     "iopub.status.busy": "2020-10-31T09:02:54.861128Z",
     "iopub.status.idle": "2020-10-31T09:02:59.543183Z",
     "shell.execute_reply": "2020-10-31T09:02:59.542426Z",
     "shell.execute_reply.started": "2020-10-31T09:02:54.861306Z"
    }
   },
   "outputs": [],
   "source": [
    "freq = {}\n",
    "for i in uniq:\n",
    "    freq[i] = val_index_l.count(i)"
   ]
  },
  {
   "cell_type": "code",
   "execution_count": 43,
   "metadata": {
    "execution": {
     "iopub.execute_input": "2020-10-31T09:03:47.077891Z",
     "iopub.status.busy": "2020-10-31T09:03:47.077500Z",
     "iopub.status.idle": "2020-10-31T09:03:47.084979Z",
     "shell.execute_reply": "2020-10-31T09:03:47.084244Z",
     "shell.execute_reply.started": "2020-10-31T09:03:47.077853Z"
    }
   },
   "outputs": [],
   "source": [
    "count = 0\n",
    "for i in freq.values():\n",
    "    if i % 2 == 0:\n",
    "        count += 1"
   ]
  },
  {
   "cell_type": "code",
   "execution_count": 45,
   "metadata": {
    "execution": {
     "iopub.execute_input": "2020-10-31T09:05:53.164100Z",
     "iopub.status.busy": "2020-10-31T09:05:53.163924Z",
     "iopub.status.idle": "2020-10-31T09:05:53.167708Z",
     "shell.execute_reply": "2020-10-31T09:05:53.167308Z",
     "shell.execute_reply.started": "2020-10-31T09:05:53.164078Z"
    }
   },
   "outputs": [
    {
     "data": {
      "text/plain": [
       "(35138, 35138)"
      ]
     },
     "execution_count": 45,
     "metadata": {},
     "output_type": "execute_result"
    }
   ],
   "source": [
    "len(flat_predictions), len(flat_true_labels)"
   ]
  },
  {
   "cell_type": "code",
   "execution_count": 47,
   "metadata": {
    "execution": {
     "iopub.execute_input": "2020-10-31T09:11:24.113299Z",
     "iopub.status.busy": "2020-10-31T09:11:24.112956Z",
     "iopub.status.idle": "2020-10-31T09:11:24.117400Z",
     "shell.execute_reply": "2020-10-31T09:11:24.116479Z",
     "shell.execute_reply.started": "2020-10-31T09:11:24.113268Z"
    }
   },
   "outputs": [],
   "source": [
    "from collections import defaultdict\n",
    "real = defaultdict(int)\n",
    "fake = defaultdict(int)"
   ]
  },
  {
   "cell_type": "code",
   "execution_count": 48,
   "metadata": {
    "execution": {
     "iopub.execute_input": "2020-10-31T09:11:25.285898Z",
     "iopub.status.busy": "2020-10-31T09:11:25.285672Z",
     "iopub.status.idle": "2020-10-31T09:11:25.307368Z",
     "shell.execute_reply": "2020-10-31T09:11:25.306783Z",
     "shell.execute_reply.started": "2020-10-31T09:11:25.285871Z"
    }
   },
   "outputs": [],
   "source": [
    "for i,j in zip(flat_predictions, val_index_l):\n",
    "    if i == 0:\n",
    "        real[j] += 1\n",
    "    else:\n",
    "        fake[j] += 1"
   ]
  },
  {
   "cell_type": "code",
   "execution_count": 58,
   "metadata": {
    "execution": {
     "iopub.execute_input": "2020-10-31T09:21:13.828012Z",
     "iopub.status.busy": "2020-10-31T09:21:13.827808Z",
     "iopub.status.idle": "2020-10-31T09:21:13.836823Z",
     "shell.execute_reply": "2020-10-31T09:21:13.836227Z",
     "shell.execute_reply.started": "2020-10-31T09:21:13.827987Z"
    }
   },
   "outputs": [
    {
     "data": {
      "text/plain": [
       "203"
      ]
     },
     "execution_count": 58,
     "metadata": {},
     "output_type": "execute_result"
    }
   ],
   "source": [
    "count = 0\n",
    "final_pred = []\n",
    "for i in uniq:\n",
    "    if real[i] == fake[i]:\n",
    "        count+=1\n",
    "    if real[i] > fake[i]:\n",
    "        final_pred.append(0)\n",
    "    else:\n",
    "        final_pred.append(1)\n",
    "count"
   ]
  },
  {
   "cell_type": "code",
   "execution_count": 59,
   "metadata": {
    "execution": {
     "iopub.execute_input": "2020-10-31T09:21:18.789035Z",
     "iopub.status.busy": "2020-10-31T09:21:18.788841Z",
     "iopub.status.idle": "2020-10-31T09:21:18.792551Z",
     "shell.execute_reply": "2020-10-31T09:21:18.792010Z",
     "shell.execute_reply.started": "2020-10-31T09:21:18.789009Z"
    }
   },
   "outputs": [
    {
     "data": {
      "text/plain": [
       "(11432, 11432)"
      ]
     },
     "execution_count": 59,
     "metadata": {},
     "output_type": "execute_result"
    }
   ],
   "source": [
    "len(final_pred), len(valid_y)"
   ]
  },
  {
   "cell_type": "code",
   "execution_count": 60,
   "metadata": {
    "execution": {
     "iopub.execute_input": "2020-10-31T09:21:18.793930Z",
     "iopub.status.busy": "2020-10-31T09:21:18.793729Z",
     "iopub.status.idle": "2020-10-31T09:21:18.820464Z",
     "shell.execute_reply": "2020-10-31T09:21:18.819950Z",
     "shell.execute_reply.started": "2020-10-31T09:21:18.793904Z"
    }
   },
   "outputs": [
    {
     "name": "stdout",
     "output_type": "stream",
     "text": [
      "              precision    recall  f1-score   support\n",
      "\n",
      "           0       0.86      0.99      0.92      8917\n",
      "           1       0.90      0.42      0.57      2515\n",
      "\n",
      "    accuracy                           0.86     11432\n",
      "   macro avg       0.88      0.70      0.75     11432\n",
      "weighted avg       0.87      0.86      0.84     11432\n",
      "\n"
     ]
    }
   ],
   "source": [
    "from sklearn.metrics import classification_report\n",
    "print(classification_report(valid_y, final_pred))"
   ]
  }
 ],
 "metadata": {
  "kernelspec": {
   "display_name": "Python 3",
   "language": "python",
   "name": "python3"
  },
  "language_info": {
   "codemirror_mode": {
    "name": "ipython",
    "version": 3
   },
   "file_extension": ".py",
   "mimetype": "text/x-python",
   "name": "python",
   "nbconvert_exporter": "python",
   "pygments_lexer": "ipython3",
   "version": "3.8.5"
  }
 },
 "nbformat": 4,
 "nbformat_minor": 4
}
