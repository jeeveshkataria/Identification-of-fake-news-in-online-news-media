{
 "cells": [
  {
   "cell_type": "code",
   "execution_count": 1,
   "metadata": {
    "execution": {
     "iopub.execute_input": "2020-10-30T00:08:56.371044Z",
     "iopub.status.busy": "2020-10-30T00:08:56.370858Z",
     "iopub.status.idle": "2020-10-30T00:08:58.382698Z",
     "shell.execute_reply": "2020-10-30T00:08:58.381865Z",
     "shell.execute_reply.started": "2020-10-30T00:08:56.370993Z"
    }
   },
   "outputs": [],
   "source": [
    "# Insert code here.\n",
    "import pandas as pd\n",
    "import numpy as np\n",
    "import random\n",
    "import re\n",
    "import time\n",
    "import datetime\n",
    "from nltk.corpus import stopwords\n",
    "from nltk.tokenize import sent_tokenize\n",
    "from sklearn import model_selection, preprocessing, linear_model, naive_bayes, metrics, svm, neighbors\n",
    "from sklearn.preprocessing import LabelEncoder\n",
    "from transformers import AutoTokenizer, AutoModelForSequenceClassification, AdamW, BertConfig\n",
    "import torch\n",
    "from torch.utils.data import TensorDataset, random_split, DataLoader, RandomSampler, SequentialSampler\n",
    "from transformers import BertForSequenceClassification\n",
    "from transformers import get_linear_schedule_with_warmup\n",
    "import matplotlib.pyplot as plt\n",
    "import seaborn as sns\n",
    "# from sentence_transformers import SentenceTransformer\n",
    "# sent_encoder = SentenceTransformer('bert-base-nli-mean-tokens')"
   ]
  },
  {
   "cell_type": "code",
   "execution_count": 2,
   "metadata": {
    "execution": {
     "iopub.execute_input": "2020-10-30T00:08:58.384512Z",
     "iopub.status.busy": "2020-10-30T00:08:58.384306Z",
     "iopub.status.idle": "2020-10-30T00:09:00.804138Z",
     "shell.execute_reply": "2020-10-30T00:09:00.803570Z",
     "shell.execute_reply.started": "2020-10-30T00:08:58.384476Z"
    }
   },
   "outputs": [],
   "source": [
    "models = ['bert-base-multilingual-cased', 'xlm-roberta-base', 'sagorsarker/bangla-bert-base']\n",
    "model_num = 1\n",
    "tokenizer = AutoTokenizer.from_pretrained(models[model_num])\n"
   ]
  },
  {
   "cell_type": "code",
   "execution_count": 3,
   "metadata": {
    "execution": {
     "iopub.execute_input": "2020-10-30T00:09:00.805611Z",
     "iopub.status.busy": "2020-10-30T00:09:00.805401Z",
     "iopub.status.idle": "2020-10-30T00:09:00.833401Z",
     "shell.execute_reply": "2020-10-30T00:09:00.832742Z",
     "shell.execute_reply.started": "2020-10-30T00:09:00.805587Z"
    }
   },
   "outputs": [
    {
     "name": "stdout",
     "output_type": "stream",
     "text": [
      "There are 4 GPU(s) available.\n",
      "We will use the GPU: GeForce RTX 2080 Ti\n"
     ]
    }
   ],
   "source": [
    "if torch.cuda.is_available():    \n",
    "\n",
    "    # Tell PyTorch to use the GPU.    \n",
    "    device = torch.device(\"cuda:1\")\n",
    "\n",
    "    print('There are %d GPU(s) available.' % torch.cuda.device_count())\n",
    "\n",
    "    print('We will use the GPU:', torch.cuda.get_device_name(0))\n",
    "\n",
    "# If not...\n",
    "else:\n",
    "    print('No GPU available, using the CPU instead.')\n",
    "    device = torch.device(\"cpu\")\n",
    "torch.cuda.empty_cache()"
   ]
  },
  {
   "cell_type": "code",
   "execution_count": 4,
   "metadata": {
    "execution": {
     "iopub.execute_input": "2020-10-30T00:09:00.834756Z",
     "iopub.status.busy": "2020-10-30T00:09:00.834533Z",
     "iopub.status.idle": "2020-10-30T00:09:00.841589Z",
     "shell.execute_reply": "2020-10-30T00:09:00.841151Z",
     "shell.execute_reply.started": "2020-10-30T00:09:00.834735Z"
    }
   },
   "outputs": [],
   "source": [
    "DATASET_PATH= '../datasets/banfake/LabeledAuthentic-7K.csv'"
   ]
  },
  {
   "cell_type": "code",
   "execution_count": 5,
   "metadata": {
    "execution": {
     "iopub.execute_input": "2020-10-30T00:09:00.842523Z",
     "iopub.status.busy": "2020-10-30T00:09:00.842338Z",
     "iopub.status.idle": "2020-10-30T00:09:01.126904Z",
     "shell.execute_reply": "2020-10-30T00:09:01.126456Z",
     "shell.execute_reply.started": "2020-10-30T00:09:00.842484Z"
    }
   },
   "outputs": [
    {
     "name": "stdout",
     "output_type": "stream",
     "text": [
      "Number of training sentences: 7,202\n",
      "\n"
     ]
    },
    {
     "data": {
      "text/html": [
       "<div>\n",
       "<style scoped>\n",
       "    .dataframe tbody tr th:only-of-type {\n",
       "        vertical-align: middle;\n",
       "    }\n",
       "\n",
       "    .dataframe tbody tr th {\n",
       "        vertical-align: top;\n",
       "    }\n",
       "\n",
       "    .dataframe thead th {\n",
       "        text-align: right;\n",
       "    }\n",
       "</style>\n",
       "<table border=\"1\" class=\"dataframe\">\n",
       "  <thead>\n",
       "    <tr style=\"text-align: right;\">\n",
       "      <th></th>\n",
       "      <th>articleID</th>\n",
       "      <th>domain</th>\n",
       "      <th>date</th>\n",
       "      <th>category</th>\n",
       "      <th>source</th>\n",
       "      <th>relation</th>\n",
       "      <th>headline</th>\n",
       "      <th>content</th>\n",
       "      <th>label</th>\n",
       "    </tr>\n",
       "  </thead>\n",
       "  <tbody>\n",
       "    <tr>\n",
       "      <th>3295</th>\n",
       "      <td>3498</td>\n",
       "      <td>risingbd.com</td>\n",
       "      <td>2018-09-22 18:28:16</td>\n",
       "      <td>National</td>\n",
       "      <td>পুলিশ</td>\n",
       "      <td>Related</td>\n",
       "      <td>পেট্রোল বোমাসহ ৫ শিবিরকর্মী গ্রেপ্তার</td>\n",
       "      <td>সিরাজগঞ্জ সংবাদদাতা : নাশকতার পরিকল্পনার অভিযো...</td>\n",
       "      <td>0.0</td>\n",
       "    </tr>\n",
       "    <tr>\n",
       "      <th>5650</th>\n",
       "      <td>6311</td>\n",
       "      <td>banglatribune.com</td>\n",
       "      <td>2018-09-19 19:16:05</td>\n",
       "      <td>Miscellaneous</td>\n",
       "      <td>দুদকের জনসংযোগ কর্মকর্তা,দুদকের মহাপরিচালক (প্...</td>\n",
       "      <td>Related</td>\n",
       "      <td>হঠাৎ বিএসটিআই কার্যালয়ে দুদক</td>\n",
       "      <td>বিভিন্ন ভোজ্যতেলের মান সঠিকভাবে নিরীক্ষিত হচ্ছ...</td>\n",
       "      <td>1.0</td>\n",
       "    </tr>\n",
       "    <tr>\n",
       "      <th>4297</th>\n",
       "      <td>4651</td>\n",
       "      <td>jugantor.com</td>\n",
       "      <td>2018-09-22 11:54:10</td>\n",
       "      <td>Editorial</td>\n",
       "      <td>reporter</td>\n",
       "      <td>Related</td>\n",
       "      <td>২২ সেপ্টেম্বর: ইতিহাসে আজকের এই দিনে</td>\n",
       "      <td>আজ ২২ সেপ্টেম্বর ২০১৮, শনিবার। ০৭ আশ্বিন, ১৪২৪...</td>\n",
       "      <td>0.0</td>\n",
       "    </tr>\n",
       "    <tr>\n",
       "      <th>6807</th>\n",
       "      <td>7757</td>\n",
       "      <td>jagonews24.com</td>\n",
       "      <td>2018-09-23 00:24:29</td>\n",
       "      <td>National</td>\n",
       "      <td>শরীয়তপুর পৌরসভার ৮নং ওয়ার্ডের কাউন্সিলর</td>\n",
       "      <td>Related</td>\n",
       "      <td>দক্ষিণ আফ্রিকায় ঘোড়ার কবলে পড়ে বাংলাদেশি যুবক ...</td>\n",
       "      <td>দক্ষিণ আফ্রিকায় ঘোড়ার কবলে পড়ে ফারুক হাওলাদার ...</td>\n",
       "      <td>1.0</td>\n",
       "    </tr>\n",
       "    <tr>\n",
       "      <th>6310</th>\n",
       "      <td>7139</td>\n",
       "      <td>jagonews24.com</td>\n",
       "      <td>2018-09-25 21:47:24</td>\n",
       "      <td>Crime</td>\n",
       "      <td>Reporter</td>\n",
       "      <td>Related</td>\n",
       "      <td>যমুনা টিভি ও যুগান্তরের বিরুদ্ধে প্রাণ-আরএফএল ...</td>\n",
       "      <td>মিথ্যা ও মানহানিকর সংবাদ প্রকাশের অভিযোগে যমুন...</td>\n",
       "      <td>1.0</td>\n",
       "    </tr>\n",
       "    <tr>\n",
       "      <th>4166</th>\n",
       "      <td>4499</td>\n",
       "      <td>somoynews.tv</td>\n",
       "      <td>2018-09-19 18:18:32</td>\n",
       "      <td>Sports</td>\n",
       "      <td>Reporter</td>\n",
       "      <td>Related</td>\n",
       "      <td>উইকেটের জন্য মরিয়া ভারত</td>\n",
       "      <td>বাচা-মরার লড়াইয়ে ভারতের বিপক্ষে কঠিন লড়াই করছে...</td>\n",
       "      <td>0.0</td>\n",
       "    </tr>\n",
       "    <tr>\n",
       "      <th>469</th>\n",
       "      <td>475</td>\n",
       "      <td>dailynayadiganta.com</td>\n",
       "      <td>2018-09-22 13:02:43</td>\n",
       "      <td>Politics</td>\n",
       "      <td>আওয়ামী লীগের সাধারণ সম্পাদক এবং সড়ক পরিবহন ও স...</td>\n",
       "      <td>Related</td>\n",
       "      <td>ঐক্যবদ্ধ থাকলে আগামী নির্বাচনেও বিজয়ী হবো : ওব...</td>\n",
       "      <td>আওয়ামী লীগের সাধারণ সম্পাদক এবং সড়ক পরিবহন ও স...</td>\n",
       "      <td>0.0</td>\n",
       "    </tr>\n",
       "    <tr>\n",
       "      <th>698</th>\n",
       "      <td>709</td>\n",
       "      <td>risingbd.com</td>\n",
       "      <td>2018-09-22 17:16:49</td>\n",
       "      <td>Miscellaneous</td>\n",
       "      <td>reporter</td>\n",
       "      <td>Related</td>\n",
       "      <td>মেয়েরা ঠিক যেখানে টিপ পরে</td>\n",
       "      <td>(ভিয়েতনামের পথে: ৪২তম পর্ব) ফেরদৌস জামান: দুই ...</td>\n",
       "      <td>0.0</td>\n",
       "    </tr>\n",
       "    <tr>\n",
       "      <th>2902</th>\n",
       "      <td>3073</td>\n",
       "      <td>banglatribune.com</td>\n",
       "      <td>2018-09-20 01:14:07</td>\n",
       "      <td>National</td>\n",
       "      <td>Reporter</td>\n",
       "      <td>Related</td>\n",
       "      <td>বরিশালে স্ত্রী হত্যায় একজনের যাবজ্জীবন</td>\n",
       "      <td>বরিশালে স্ত্রী হত্যার দায়ে মনোয়ার হোসেন হাওলাদ...</td>\n",
       "      <td>1.0</td>\n",
       "    </tr>\n",
       "    <tr>\n",
       "      <th>610</th>\n",
       "      <td>618</td>\n",
       "      <td>jagonews24.com</td>\n",
       "      <td>2018-09-21 16:36:31</td>\n",
       "      <td>Entertainment</td>\n",
       "      <td>Reporter</td>\n",
       "      <td>Related</td>\n",
       "      <td>কারিনার এই শার্টের দাম কত জানেন?</td>\n",
       "      <td>৩৮-এ বয়সে পা রাখলেন কারিনা কাপুর খান। গতকাল বৃ...</td>\n",
       "      <td>0.0</td>\n",
       "    </tr>\n",
       "  </tbody>\n",
       "</table>\n",
       "</div>"
      ],
      "text/plain": [
       "      articleID                domain                 date       category  \\\n",
       "3295       3498          risingbd.com  2018-09-22 18:28:16       National   \n",
       "5650       6311     banglatribune.com  2018-09-19 19:16:05  Miscellaneous   \n",
       "4297       4651          jugantor.com  2018-09-22 11:54:10      Editorial   \n",
       "6807       7757        jagonews24.com  2018-09-23 00:24:29       National   \n",
       "6310       7139        jagonews24.com  2018-09-25 21:47:24          Crime   \n",
       "4166       4499          somoynews.tv  2018-09-19 18:18:32         Sports   \n",
       "469         475  dailynayadiganta.com  2018-09-22 13:02:43       Politics   \n",
       "698         709          risingbd.com  2018-09-22 17:16:49  Miscellaneous   \n",
       "2902       3073     banglatribune.com  2018-09-20 01:14:07       National   \n",
       "610         618        jagonews24.com  2018-09-21 16:36:31  Entertainment   \n",
       "\n",
       "                                                 source relation  \\\n",
       "3295                                              পুলিশ  Related   \n",
       "5650  দুদকের জনসংযোগ কর্মকর্তা,দুদকের মহাপরিচালক (প্...  Related   \n",
       "4297                                           reporter  Related   \n",
       "6807            শরীয়তপুর পৌরসভার ৮নং ওয়ার্ডের কাউন্সিলর  Related   \n",
       "6310                                           Reporter  Related   \n",
       "4166                                           Reporter  Related   \n",
       "469   আওয়ামী লীগের সাধারণ সম্পাদক এবং সড়ক পরিবহন ও স...  Related   \n",
       "698                                            reporter  Related   \n",
       "2902                                           Reporter  Related   \n",
       "610                                            Reporter  Related   \n",
       "\n",
       "                                               headline  \\\n",
       "3295              পেট্রোল বোমাসহ ৫ শিবিরকর্মী গ্রেপ্তার   \n",
       "5650                       হঠাৎ বিএসটিআই কার্যালয়ে দুদক   \n",
       "4297               ২২ সেপ্টেম্বর: ইতিহাসে আজকের এই দিনে   \n",
       "6807  দক্ষিণ আফ্রিকায় ঘোড়ার কবলে পড়ে বাংলাদেশি যুবক ...   \n",
       "6310  যমুনা টিভি ও যুগান্তরের বিরুদ্ধে প্রাণ-আরএফএল ...   \n",
       "4166                            উইকেটের জন্য মরিয়া ভারত   \n",
       "469   ঐক্যবদ্ধ থাকলে আগামী নির্বাচনেও বিজয়ী হবো : ওব...   \n",
       "698                           মেয়েরা ঠিক যেখানে টিপ পরে   \n",
       "2902             বরিশালে স্ত্রী হত্যায় একজনের যাবজ্জীবন   \n",
       "610                    কারিনার এই শার্টের দাম কত জানেন?   \n",
       "\n",
       "                                                content  label  \n",
       "3295  সিরাজগঞ্জ সংবাদদাতা : নাশকতার পরিকল্পনার অভিযো...    0.0  \n",
       "5650  বিভিন্ন ভোজ্যতেলের মান সঠিকভাবে নিরীক্ষিত হচ্ছ...    1.0  \n",
       "4297  আজ ২২ সেপ্টেম্বর ২০১৮, শনিবার। ০৭ আশ্বিন, ১৪২৪...    0.0  \n",
       "6807  দক্ষিণ আফ্রিকায় ঘোড়ার কবলে পড়ে ফারুক হাওলাদার ...    1.0  \n",
       "6310  মিথ্যা ও মানহানিকর সংবাদ প্রকাশের অভিযোগে যমুন...    1.0  \n",
       "4166  বাচা-মরার লড়াইয়ে ভারতের বিপক্ষে কঠিন লড়াই করছে...    0.0  \n",
       "469   আওয়ামী লীগের সাধারণ সম্পাদক এবং সড়ক পরিবহন ও স...    0.0  \n",
       "698   (ভিয়েতনামের পথে: ৪২তম পর্ব) ফেরদৌস জামান: দুই ...    0.0  \n",
       "2902  বরিশালে স্ত্রী হত্যার দায়ে মনোয়ার হোসেন হাওলাদ...    1.0  \n",
       "610   ৩৮-এ বয়সে পা রাখলেন কারিনা কাপুর খান। গতকাল বৃ...    0.0  "
      ]
     },
     "execution_count": 5,
     "metadata": {},
     "output_type": "execute_result"
    }
   ],
   "source": [
    "df = pd.read_csv(DATASET_PATH)\n",
    "print('Number of training sentences: {:,}\\n'.format(df.shape[0]))\n",
    "df.sample(10)"
   ]
  },
  {
   "cell_type": "code",
   "execution_count": 6,
   "metadata": {
    "execution": {
     "iopub.execute_input": "2020-10-30T00:09:01.128003Z",
     "iopub.status.busy": "2020-10-30T00:09:01.127838Z",
     "iopub.status.idle": "2020-10-30T00:09:01.131228Z",
     "shell.execute_reply": "2020-10-30T00:09:01.130618Z",
     "shell.execute_reply.started": "2020-10-30T00:09:01.127981Z"
    }
   },
   "outputs": [],
   "source": [
    "def count_words(text):\n",
    "    try:\n",
    "        return len(text.split())\n",
    "    except:\n",
    "        print(text)\n",
    "        return None\n",
    "def change_rel(num):\n",
    "    return int(num)"
   ]
  },
  {
   "cell_type": "code",
   "execution_count": 7,
   "metadata": {
    "execution": {
     "iopub.execute_input": "2020-10-30T00:09:01.132271Z",
     "iopub.status.busy": "2020-10-30T00:09:01.132105Z",
     "iopub.status.idle": "2020-10-30T00:09:01.827316Z",
     "shell.execute_reply": "2020-10-30T00:09:01.826616Z",
     "shell.execute_reply.started": "2020-10-30T00:09:01.132251Z"
    }
   },
   "outputs": [],
   "source": [
    "df = df.reset_index(drop=True)\n",
    "REPLACE_BY_SPACE_RE = re.compile('[/(){}\\[\\]\\|@,;]')\n",
    "STOPWORDS = []\n",
    "\n",
    "def clean_text(text):\n",
    "    \"\"\"\n",
    "        text: a string\n",
    "        \n",
    "        return: modified initial string\n",
    "    \"\"\"\n",
    "    text = str(text)\n",
    "    text = REPLACE_BY_SPACE_RE.sub(' ', text) # replace REPLACE_BY_SPACE_RE symbols by space in text. substitute the matched string in REPLACE_BY_SPACE_RE with space.\n",
    "#     text = BAD_SYMBOLS_RE.sub('', text) # remove symbols which are in BAD_SYMBOLS_RE from text. substitute the matched string in BAD_SYMBOLS_RE with nothing. \n",
    "#    text = re.sub(r'\\W+', '', text)\n",
    "    text = ' '.join(word for word in text.split() if word not in STOPWORDS) # remove stopwors from text\n",
    "    return text\n",
    "df['content'] = df['content'].apply(clean_text)\n",
    "df['content'] = df['content'].str.replace('\\d+', '')\n",
    "df['label'] = df['label'].apply(change_rel)"
   ]
  },
  {
   "cell_type": "code",
   "execution_count": 8,
   "metadata": {
    "execution": {
     "iopub.execute_input": "2020-10-30T00:09:01.828742Z",
     "iopub.status.busy": "2020-10-30T00:09:01.828507Z",
     "iopub.status.idle": "2020-10-30T00:09:02.536683Z",
     "shell.execute_reply": "2020-10-30T00:09:02.536210Z",
     "shell.execute_reply.started": "2020-10-30T00:09:01.828691Z"
    }
   },
   "outputs": [],
   "source": [
    "def get_split(text1):\n",
    "    l_total = []\n",
    "    l_parcial = []\n",
    "    if len(text1.split())//120 >0:\n",
    "        n = len(text1.split())//120\n",
    "    else: \n",
    "        n = 1\n",
    "    for w in range(n):\n",
    "        if w == 0:\n",
    "            l_parcial = text1.split()[:160]\n",
    "            l_total.append(\" \".join(l_parcial))\n",
    "        else:\n",
    "            l_parcial = text1.split()[w*120:w*120 + 160]\n",
    "            l_total.append(\" \".join(l_parcial))\n",
    "    return l_total\n",
    "df['content_split'] = df['content'].apply(get_split)"
   ]
  },
  {
   "cell_type": "code",
   "execution_count": 9,
   "metadata": {
    "execution": {
     "iopub.execute_input": "2020-10-30T00:09:02.538859Z",
     "iopub.status.busy": "2020-10-30T00:09:02.538670Z",
     "iopub.status.idle": "2020-10-30T00:09:02.667268Z",
     "shell.execute_reply": "2020-10-30T00:09:02.666761Z",
     "shell.execute_reply.started": "2020-10-30T00:09:02.538822Z"
    }
   },
   "outputs": [
    {
     "data": {
      "text/plain": [
       "253.42793668425438"
      ]
     },
     "execution_count": 9,
     "metadata": {},
     "output_type": "execute_result"
    }
   ],
   "source": [
    "df['content'].apply(count_words).mean()"
   ]
  },
  {
   "cell_type": "code",
   "execution_count": 10,
   "metadata": {
    "execution": {
     "iopub.execute_input": "2020-10-30T00:09:02.668731Z",
     "iopub.status.busy": "2020-10-30T00:09:02.668558Z",
     "iopub.status.idle": "2020-10-30T00:09:02.677185Z",
     "shell.execute_reply": "2020-10-30T00:09:02.676702Z",
     "shell.execute_reply.started": "2020-10-30T00:09:02.668711Z"
    }
   },
   "outputs": [],
   "source": [
    "train_x, valid_x, train_y, valid_y = model_selection.train_test_split(df['content_split'], df['label'], test_size=0.2, stratify=df['label'])"
   ]
  },
  {
   "cell_type": "code",
   "execution_count": 11,
   "metadata": {
    "execution": {
     "iopub.execute_input": "2020-10-30T00:09:02.678275Z",
     "iopub.status.busy": "2020-10-30T00:09:02.678008Z",
     "iopub.status.idle": "2020-10-30T00:09:02.687952Z",
     "shell.execute_reply": "2020-10-30T00:09:02.687484Z",
     "shell.execute_reply.started": "2020-10-30T00:09:02.678251Z"
    }
   },
   "outputs": [
    {
     "data": {
      "text/plain": [
       "(10406, 10406)"
      ]
     },
     "execution_count": 11,
     "metadata": {},
     "output_type": "execute_result"
    }
   ],
   "source": [
    "train_l = []\n",
    "label_l = []\n",
    "index_l =[]\n",
    "for row,label in zip(train_x, train_y):\n",
    "    for l in row:\n",
    "        train_l.append(l)\n",
    "        label_l.append(label)\n",
    "len(train_l), len(label_l)"
   ]
  },
  {
   "cell_type": "code",
   "execution_count": 12,
   "metadata": {
    "execution": {
     "iopub.execute_input": "2020-10-30T00:09:02.688973Z",
     "iopub.status.busy": "2020-10-30T00:09:02.688805Z",
     "iopub.status.idle": "2020-10-30T00:09:02.695165Z",
     "shell.execute_reply": "2020-10-30T00:09:02.694738Z",
     "shell.execute_reply.started": "2020-10-30T00:09:02.688952Z"
    }
   },
   "outputs": [
    {
     "data": {
      "text/plain": [
       "(2621, 2621)"
      ]
     },
     "execution_count": 12,
     "metadata": {},
     "output_type": "execute_result"
    }
   ],
   "source": [
    "val_l = []\n",
    "val_label_l = []\n",
    "val_index_l = []\n",
    "for row,label in zip(valid_x, valid_y):\n",
    "    for l in row:\n",
    "        val_l.append(l)\n",
    "        val_label_l.append(label)\n",
    "len(val_l), len(val_label_l)"
   ]
  },
  {
   "cell_type": "code",
   "execution_count": 13,
   "metadata": {
    "execution": {
     "iopub.execute_input": "2020-10-30T00:09:02.696150Z",
     "iopub.status.busy": "2020-10-30T00:09:02.695960Z",
     "iopub.status.idle": "2020-10-30T00:09:02.701109Z",
     "shell.execute_reply": "2020-10-30T00:09:02.700608Z",
     "shell.execute_reply.started": "2020-10-30T00:09:02.696131Z"
    }
   },
   "outputs": [],
   "source": [
    "MAX_LENGTH = 220\n",
    "posts = train_l\n",
    "categories = label_l"
   ]
  },
  {
   "cell_type": "code",
   "execution_count": 14,
   "metadata": {
    "execution": {
     "iopub.execute_input": "2020-10-30T00:09:02.702029Z",
     "iopub.status.busy": "2020-10-30T00:09:02.701855Z",
     "iopub.status.idle": "2020-10-30T00:09:02.715894Z",
     "shell.execute_reply": "2020-10-30T00:09:02.715449Z",
     "shell.execute_reply.started": "2020-10-30T00:09:02.702009Z"
    }
   },
   "outputs": [
    {
     "name": "stderr",
     "output_type": "stream",
     "text": [
      "/home/tathagata.raha/miniconda3/envs/fastai/lib/python3.8/site-packages/transformers/tokenization_utils_base.py:1764: FutureWarning: The `pad_to_max_length` argument is deprecated and will be removed in a future version, use `padding=True` or `padding='longest'` to pad to the longest sequence in the batch, or use `padding='max_length'` to pad to a max length. In this case, you can give a specific length with `max_length` (e.g. `max_length=45`) or leave max_length to None to pad to the maximal input size of the model (e.g. 512 for Bert).\n",
      "  warnings.warn(\n"
     ]
    },
    {
     "data": {
      "text/plain": [
       "('গেল তিন বছরে ধারাবাহিক টাইগাররা টুর্নামেন্ট জেতার এটা উপযুক্ত সময় মাশরাফী-সাকিবদের বলেছেন সাবেক ভারতীয় পেইসার অজিত আগারকার। তার মতে সামর্থ্য বিবেচনায় বাংলাদেশের বড় কোন ট্রফি জয়ের প্রত্যাশা মোটেও বাড়াবাড়ি নয়। শাহরিয়ার নাফিস আশা দেখছেন বলেছেন খুব কময়ের মধ্যেই টুর্নামেন্ট জিতবে টাইগাররা। বাংলাদেশকে এখন খাটো করে দেখে না ভারত। সবশেষ ওডিআই সিরিজ হারের ক্ষত এখনো পোড়ায়। ওয়ার্ল্ড টি টোয়েন্টি কিংবা নিদাহাস ট্রফিতে টাইগার থাবা থেকে কোনমতে বেঁচেছে টিম ইন্ডিয়া। সাকিব-তামিমরাও খুব কাছে গিয়ে ট্রফি না জেতার আক্ষেপ বয়ে বেড়াচ্ছেন। ভারত-বাংলাদেশ ম্যাচ এখন দর্শক টানে। যারা একসময় নিন্দা করতেন তারাও টাইগারদের সমীহ করতে বাধ্য। সাবেকদের চোখে মাশরাফীর দলটা পরিণত। ধারাবাহিকতায় সময় এসেছে বড় কোন সাফল্যের। ভারতের সাবেক পেসার অজিত আগারকার বলেন ক্রিকেট ক্রেজি একটা নেশন বাংলাদেশকে নিয়ে প্রত্যাশা সবসময় বেশি। ওরা ধারাবাহিকভাবে ভালো করছে এখন একটা বড় টুর্নামেন্ট জিতবে সে আশা করাই যায়। ভালো খেলছে ঠিক আছে দারুন কিছু জয়ও পাচ্ছে কোয়ার্টার ফাইনাল কিংবা সেমিফাইনাল খেলছেন। তবে একটা সময় আসে যখন আপনাকে বড় টুর্নামেন্ট জিততে হবে। যে ধরণের ট্যালেন্ট আছে দলে আর',\n",
       " {'input_ids': tensor([[     0, 130001,  61885, 212543,      6,  33560,   5534, 100564,   9976,\n",
       "          240028,   5534,      6,  65935,  10567,   6155, 105354, 122474,  36775,\n",
       "           61901,  30007,  70739,  20895,  14767,   8377,   5534,  16460,   4091,\n",
       "               9,  16984,  26061,   4822,   5521,  89223, 147655, 162248,  44986,\n",
       "            2730,  62873,   6334, 172548,   4979, 193297,  17891,    125,  20340,\n",
       "           13705,   3495, 151261,  88585,  10413,   7277,  16550,  15845,  78676,\n",
       "           63278,  26200,  33237, 125931,  67720,  67206,    896,  10066,   3397,\n",
       "           14329,  37982, 169584, 108645, 168469, 231825,  39267,    125,  96063,\n",
       "             999, 104308,   4480,  67720,   3458, 116471,  67026,  37353,  89223,\n",
       "           69151,  34297,  48054,  21387,   2730,      6,  65935,  10567,   6155,\n",
       "          105354,      6, 172548,  16550, 240028,   5534,    125,  18566,   2937,\n",
       "           42854,  50442,  34523,   5507, 104157,   4480, 112982,    125,  30511,\n",
       "          207708,   2114,  28555,  87756, 174608, 105869,    896,      6,  11984,\n",
       "            3397, 220219,      6,  87728,  23703,   2801,    125,  79743,  10567,\n",
       "          149680,  34916,      6, 215745,   9755,  20404,  17455,  22268,  30010,\n",
       "           29432,   3458, 125931,  67720,   3495, 240028,      6,  56324,  17455,\n",
       "            6638,  33237,   4198,   3495,  37555,  11291,  92984,  12814,  34916,\n",
       "            4198,  10814,  36358,  49714,    125, 228712,      9,   7163,  30550,\n",
       "            4198,   5534,   4876,  69151,  72237, 103294, 125931,  67720,   4480,\n",
       "          122474,  36775,   4979,  11984,    956,   7498,  10947,  16926,  37555,\n",
       "           23703,  68896,   2145,    125, 112982,      9, 234068, 185618,  42854,\n",
       "               6, 133752,   2784,  98595,  15709,    125, 135544,   8339,   3458,\n",
       "           65724,  22268, 149368,  12173,   2145,  60902,   4876, 240028,   5521,\n",
       "           96755,   4091,  10062,  12173,  10947, 125891,    125, 147655,   5521,\n",
       "          157129,    956,  14767,      2]]), 'attention_mask': tensor([[1, 1, 1, 1, 1, 1, 1, 1, 1, 1, 1, 1, 1, 1, 1, 1, 1, 1, 1, 1, 1, 1, 1, 1,\n",
       "          1, 1, 1, 1, 1, 1, 1, 1, 1, 1, 1, 1, 1, 1, 1, 1, 1, 1, 1, 1, 1, 1, 1, 1,\n",
       "          1, 1, 1, 1, 1, 1, 1, 1, 1, 1, 1, 1, 1, 1, 1, 1, 1, 1, 1, 1, 1, 1, 1, 1,\n",
       "          1, 1, 1, 1, 1, 1, 1, 1, 1, 1, 1, 1, 1, 1, 1, 1, 1, 1, 1, 1, 1, 1, 1, 1,\n",
       "          1, 1, 1, 1, 1, 1, 1, 1, 1, 1, 1, 1, 1, 1, 1, 1, 1, 1, 1, 1, 1, 1, 1, 1,\n",
       "          1, 1, 1, 1, 1, 1, 1, 1, 1, 1, 1, 1, 1, 1, 1, 1, 1, 1, 1, 1, 1, 1, 1, 1,\n",
       "          1, 1, 1, 1, 1, 1, 1, 1, 1, 1, 1, 1, 1, 1, 1, 1, 1, 1, 1, 1, 1, 1, 1, 1,\n",
       "          1, 1, 1, 1, 1, 1, 1, 1, 1, 1, 1, 1, 1, 1, 1, 1, 1, 1, 1, 1, 1, 1, 1, 1,\n",
       "          1, 1, 1, 1, 1, 1, 1, 1, 1, 1, 1, 1, 1, 1, 1, 1, 1, 1, 1, 1, 1, 1, 1, 1,\n",
       "          1, 1, 1, 1]])})"
      ]
     },
     "execution_count": 14,
     "metadata": {},
     "output_type": "execute_result"
    }
   ],
   "source": [
    "encoded_dict = tokenizer.encode_plus(\n",
    "                        posts[0],                      # Sentence to encode.\n",
    "                        truncation=True,\n",
    "                        add_special_tokens = True, # Add '[CLS]' and '[SEP]'\n",
    "                        max_length = MAX_LENGTH,           # Pad & truncate all sentences.\n",
    "                        pad_to_max_length = True,\n",
    "                        return_attention_mask = True,   # Construct attn. masks.\n",
    "                        return_tensors = 'pt',     # Return pytorch tensors.\n",
    "                   )\n",
    "posts[0], encoded_dict"
   ]
  },
  {
   "cell_type": "code",
   "execution_count": 15,
   "metadata": {
    "execution": {
     "iopub.execute_input": "2020-10-30T00:09:02.716789Z",
     "iopub.status.busy": "2020-10-30T00:09:02.716636Z",
     "iopub.status.idle": "2020-10-30T00:09:13.517117Z",
     "shell.execute_reply": "2020-10-30T00:09:13.516297Z",
     "shell.execute_reply.started": "2020-10-30T00:09:02.716770Z"
    }
   },
   "outputs": [],
   "source": [
    "input_ids = []\n",
    "attention_masks = []\n",
    "\n",
    "# For every sentence...\n",
    "for sent in posts:\n",
    "    # `encode_plus` will:\n",
    "    #   (1) Tokenize the sentence.\n",
    "    #   (2) Prepend the `[CLS]` token to the start.\n",
    "    #   (3) Append the `[SEP]` token to the end.\n",
    "    #   (4) Map tokens to their IDs.\n",
    "    #   (5) Pad or truncate the sentence to `max_length`\n",
    "    #   (6) Create attention masks for [PAD] tokens.\n",
    "    encoded_dict = tokenizer.encode_plus(\n",
    "                        sent,                      # Sentence to encode.\n",
    "                        truncation=True,\n",
    "                        add_special_tokens = True, # Add '[CLS]' and '[SEP]'\n",
    "                        max_length = MAX_LENGTH,           # Pad & truncate all sentences.\n",
    "                        pad_to_max_length = True,\n",
    "                        return_attention_mask = True,   # Construct attn. masks.\n",
    "                        return_tensors = 'pt',     # Return pytorch tensors.\n",
    "                   )\n",
    "    \n",
    "    # Add the encoded sentence to the list.    \n",
    "    input_ids.append(encoded_dict['input_ids'])\n",
    "    \n",
    "    # And its attention mask (simply differentiates padding from non-padding).\n",
    "    attention_masks.append(encoded_dict['attention_mask'])\n",
    "\n",
    "# Convert the lists into tensors.\n",
    "input_ids = torch.cat(input_ids, dim=0)\n",
    "attention_masks = torch.cat(attention_masks, dim=0)\n",
    "labels = torch.tensor(categories)"
   ]
  },
  {
   "cell_type": "code",
   "execution_count": 16,
   "metadata": {
    "execution": {
     "iopub.execute_input": "2020-10-30T00:09:13.518409Z",
     "iopub.status.busy": "2020-10-30T00:09:13.518229Z",
     "iopub.status.idle": "2020-10-30T00:09:13.523659Z",
     "shell.execute_reply": "2020-10-30T00:09:13.523024Z",
     "shell.execute_reply.started": "2020-10-30T00:09:13.518387Z"
    }
   },
   "outputs": [
    {
     "name": "stdout",
     "output_type": "stream",
     "text": [
      "9,105 training samples\n",
      "1,301 validation samples\n"
     ]
    }
   ],
   "source": [
    "dataset = TensorDataset(input_ids, attention_masks, labels)\n",
    "train_size = int(0.875 * len(dataset))\n",
    "val_size = len(dataset) - train_size\n",
    "\n",
    "# Divide the dataset by randomly selecting samples.\n",
    "train_dataset, val_dataset = random_split(dataset, [train_size, val_size])\n",
    "\n",
    "print('{:>5,} training samples'.format(train_size))\n",
    "print('{:>5,} validation samples'.format(val_size))\n"
   ]
  },
  {
   "cell_type": "code",
   "execution_count": 17,
   "metadata": {
    "execution": {
     "iopub.execute_input": "2020-10-30T00:09:13.524598Z",
     "iopub.status.busy": "2020-10-30T00:09:13.524434Z",
     "iopub.status.idle": "2020-10-30T00:09:13.528787Z",
     "shell.execute_reply": "2020-10-30T00:09:13.528195Z",
     "shell.execute_reply.started": "2020-10-30T00:09:13.524577Z"
    }
   },
   "outputs": [],
   "source": [
    "# The DataLoader needs to know our batch size for training, so we specify it \n",
    "# here. For fine-tuning BERT on a specific task, the authors recommend a batch \n",
    "# size of 16 or 32.\n",
    "batch_size = 16\n",
    "\n",
    "# Create the DataLoaders for our training and validation sets.\n",
    "# We'll take training samples in random order. \n",
    "train_dataloader = DataLoader(\n",
    "            train_dataset,  # The training samples.\n",
    "            sampler = RandomSampler(train_dataset), # Select batches randomly\n",
    "            batch_size = batch_size # Trains with this batch size.\n",
    "        )\n",
    "\n",
    "# For validation the order doesn't matter, so we'll just read them sequentially.\n",
    "validation_dataloader = DataLoader(\n",
    "            val_dataset, # The validation samples.\n",
    "            sampler = SequentialSampler(val_dataset), # Pull out batches sequentially.\n",
    "            batch_size = batch_size # Evaluate with this batch size.\n",
    "        )\n"
   ]
  },
  {
   "cell_type": "code",
   "execution_count": 18,
   "metadata": {
    "execution": {
     "iopub.execute_input": "2020-10-30T00:09:13.529765Z",
     "iopub.status.busy": "2020-10-30T00:09:13.529529Z",
     "iopub.status.idle": "2020-10-30T00:09:33.197248Z",
     "shell.execute_reply": "2020-10-30T00:09:33.196661Z",
     "shell.execute_reply.started": "2020-10-30T00:09:13.529744Z"
    }
   },
   "outputs": [
    {
     "name": "stderr",
     "output_type": "stream",
     "text": [
      "Some weights of the model checkpoint at xlm-roberta-base were not used when initializing XLMRobertaForSequenceClassification: ['lm_head.bias', 'lm_head.dense.weight', 'lm_head.dense.bias', 'lm_head.layer_norm.weight', 'lm_head.layer_norm.bias', 'lm_head.decoder.weight']\n",
      "- This IS expected if you are initializing XLMRobertaForSequenceClassification from the checkpoint of a model trained on another task or with another architecture (e.g. initializing a BertForSequenceClassification model from a BertForPretraining model).\n",
      "- This IS NOT expected if you are initializing XLMRobertaForSequenceClassification from the checkpoint of a model that you expect to be exactly identical (initializing a BertForSequenceClassification model from a BertForSequenceClassification model).\n",
      "Some weights of XLMRobertaForSequenceClassification were not initialized from the model checkpoint at xlm-roberta-base and are newly initialized: ['classifier.dense.weight', 'classifier.dense.bias', 'classifier.out_proj.weight', 'classifier.out_proj.bias']\n",
      "You should probably TRAIN this model on a down-stream task to be able to use it for predictions and inference.\n"
     ]
    },
    {
     "data": {
      "text/plain": [
       "XLMRobertaForSequenceClassification(\n",
       "  (roberta): RobertaModel(\n",
       "    (embeddings): RobertaEmbeddings(\n",
       "      (word_embeddings): Embedding(250002, 768, padding_idx=1)\n",
       "      (position_embeddings): Embedding(514, 768, padding_idx=1)\n",
       "      (token_type_embeddings): Embedding(1, 768)\n",
       "      (LayerNorm): LayerNorm((768,), eps=1e-05, elementwise_affine=True)\n",
       "      (dropout): Dropout(p=0.1, inplace=False)\n",
       "    )\n",
       "    (encoder): BertEncoder(\n",
       "      (layer): ModuleList(\n",
       "        (0): BertLayer(\n",
       "          (attention): BertAttention(\n",
       "            (self): BertSelfAttention(\n",
       "              (query): Linear(in_features=768, out_features=768, bias=True)\n",
       "              (key): Linear(in_features=768, out_features=768, bias=True)\n",
       "              (value): Linear(in_features=768, out_features=768, bias=True)\n",
       "              (dropout): Dropout(p=0.1, inplace=False)\n",
       "            )\n",
       "            (output): BertSelfOutput(\n",
       "              (dense): Linear(in_features=768, out_features=768, bias=True)\n",
       "              (LayerNorm): LayerNorm((768,), eps=1e-05, elementwise_affine=True)\n",
       "              (dropout): Dropout(p=0.1, inplace=False)\n",
       "            )\n",
       "          )\n",
       "          (intermediate): BertIntermediate(\n",
       "            (dense): Linear(in_features=768, out_features=3072, bias=True)\n",
       "          )\n",
       "          (output): BertOutput(\n",
       "            (dense): Linear(in_features=3072, out_features=768, bias=True)\n",
       "            (LayerNorm): LayerNorm((768,), eps=1e-05, elementwise_affine=True)\n",
       "            (dropout): Dropout(p=0.1, inplace=False)\n",
       "          )\n",
       "        )\n",
       "        (1): BertLayer(\n",
       "          (attention): BertAttention(\n",
       "            (self): BertSelfAttention(\n",
       "              (query): Linear(in_features=768, out_features=768, bias=True)\n",
       "              (key): Linear(in_features=768, out_features=768, bias=True)\n",
       "              (value): Linear(in_features=768, out_features=768, bias=True)\n",
       "              (dropout): Dropout(p=0.1, inplace=False)\n",
       "            )\n",
       "            (output): BertSelfOutput(\n",
       "              (dense): Linear(in_features=768, out_features=768, bias=True)\n",
       "              (LayerNorm): LayerNorm((768,), eps=1e-05, elementwise_affine=True)\n",
       "              (dropout): Dropout(p=0.1, inplace=False)\n",
       "            )\n",
       "          )\n",
       "          (intermediate): BertIntermediate(\n",
       "            (dense): Linear(in_features=768, out_features=3072, bias=True)\n",
       "          )\n",
       "          (output): BertOutput(\n",
       "            (dense): Linear(in_features=3072, out_features=768, bias=True)\n",
       "            (LayerNorm): LayerNorm((768,), eps=1e-05, elementwise_affine=True)\n",
       "            (dropout): Dropout(p=0.1, inplace=False)\n",
       "          )\n",
       "        )\n",
       "        (2): BertLayer(\n",
       "          (attention): BertAttention(\n",
       "            (self): BertSelfAttention(\n",
       "              (query): Linear(in_features=768, out_features=768, bias=True)\n",
       "              (key): Linear(in_features=768, out_features=768, bias=True)\n",
       "              (value): Linear(in_features=768, out_features=768, bias=True)\n",
       "              (dropout): Dropout(p=0.1, inplace=False)\n",
       "            )\n",
       "            (output): BertSelfOutput(\n",
       "              (dense): Linear(in_features=768, out_features=768, bias=True)\n",
       "              (LayerNorm): LayerNorm((768,), eps=1e-05, elementwise_affine=True)\n",
       "              (dropout): Dropout(p=0.1, inplace=False)\n",
       "            )\n",
       "          )\n",
       "          (intermediate): BertIntermediate(\n",
       "            (dense): Linear(in_features=768, out_features=3072, bias=True)\n",
       "          )\n",
       "          (output): BertOutput(\n",
       "            (dense): Linear(in_features=3072, out_features=768, bias=True)\n",
       "            (LayerNorm): LayerNorm((768,), eps=1e-05, elementwise_affine=True)\n",
       "            (dropout): Dropout(p=0.1, inplace=False)\n",
       "          )\n",
       "        )\n",
       "        (3): BertLayer(\n",
       "          (attention): BertAttention(\n",
       "            (self): BertSelfAttention(\n",
       "              (query): Linear(in_features=768, out_features=768, bias=True)\n",
       "              (key): Linear(in_features=768, out_features=768, bias=True)\n",
       "              (value): Linear(in_features=768, out_features=768, bias=True)\n",
       "              (dropout): Dropout(p=0.1, inplace=False)\n",
       "            )\n",
       "            (output): BertSelfOutput(\n",
       "              (dense): Linear(in_features=768, out_features=768, bias=True)\n",
       "              (LayerNorm): LayerNorm((768,), eps=1e-05, elementwise_affine=True)\n",
       "              (dropout): Dropout(p=0.1, inplace=False)\n",
       "            )\n",
       "          )\n",
       "          (intermediate): BertIntermediate(\n",
       "            (dense): Linear(in_features=768, out_features=3072, bias=True)\n",
       "          )\n",
       "          (output): BertOutput(\n",
       "            (dense): Linear(in_features=3072, out_features=768, bias=True)\n",
       "            (LayerNorm): LayerNorm((768,), eps=1e-05, elementwise_affine=True)\n",
       "            (dropout): Dropout(p=0.1, inplace=False)\n",
       "          )\n",
       "        )\n",
       "        (4): BertLayer(\n",
       "          (attention): BertAttention(\n",
       "            (self): BertSelfAttention(\n",
       "              (query): Linear(in_features=768, out_features=768, bias=True)\n",
       "              (key): Linear(in_features=768, out_features=768, bias=True)\n",
       "              (value): Linear(in_features=768, out_features=768, bias=True)\n",
       "              (dropout): Dropout(p=0.1, inplace=False)\n",
       "            )\n",
       "            (output): BertSelfOutput(\n",
       "              (dense): Linear(in_features=768, out_features=768, bias=True)\n",
       "              (LayerNorm): LayerNorm((768,), eps=1e-05, elementwise_affine=True)\n",
       "              (dropout): Dropout(p=0.1, inplace=False)\n",
       "            )\n",
       "          )\n",
       "          (intermediate): BertIntermediate(\n",
       "            (dense): Linear(in_features=768, out_features=3072, bias=True)\n",
       "          )\n",
       "          (output): BertOutput(\n",
       "            (dense): Linear(in_features=3072, out_features=768, bias=True)\n",
       "            (LayerNorm): LayerNorm((768,), eps=1e-05, elementwise_affine=True)\n",
       "            (dropout): Dropout(p=0.1, inplace=False)\n",
       "          )\n",
       "        )\n",
       "        (5): BertLayer(\n",
       "          (attention): BertAttention(\n",
       "            (self): BertSelfAttention(\n",
       "              (query): Linear(in_features=768, out_features=768, bias=True)\n",
       "              (key): Linear(in_features=768, out_features=768, bias=True)\n",
       "              (value): Linear(in_features=768, out_features=768, bias=True)\n",
       "              (dropout): Dropout(p=0.1, inplace=False)\n",
       "            )\n",
       "            (output): BertSelfOutput(\n",
       "              (dense): Linear(in_features=768, out_features=768, bias=True)\n",
       "              (LayerNorm): LayerNorm((768,), eps=1e-05, elementwise_affine=True)\n",
       "              (dropout): Dropout(p=0.1, inplace=False)\n",
       "            )\n",
       "          )\n",
       "          (intermediate): BertIntermediate(\n",
       "            (dense): Linear(in_features=768, out_features=3072, bias=True)\n",
       "          )\n",
       "          (output): BertOutput(\n",
       "            (dense): Linear(in_features=3072, out_features=768, bias=True)\n",
       "            (LayerNorm): LayerNorm((768,), eps=1e-05, elementwise_affine=True)\n",
       "            (dropout): Dropout(p=0.1, inplace=False)\n",
       "          )\n",
       "        )\n",
       "        (6): BertLayer(\n",
       "          (attention): BertAttention(\n",
       "            (self): BertSelfAttention(\n",
       "              (query): Linear(in_features=768, out_features=768, bias=True)\n",
       "              (key): Linear(in_features=768, out_features=768, bias=True)\n",
       "              (value): Linear(in_features=768, out_features=768, bias=True)\n",
       "              (dropout): Dropout(p=0.1, inplace=False)\n",
       "            )\n",
       "            (output): BertSelfOutput(\n",
       "              (dense): Linear(in_features=768, out_features=768, bias=True)\n",
       "              (LayerNorm): LayerNorm((768,), eps=1e-05, elementwise_affine=True)\n",
       "              (dropout): Dropout(p=0.1, inplace=False)\n",
       "            )\n",
       "          )\n",
       "          (intermediate): BertIntermediate(\n",
       "            (dense): Linear(in_features=768, out_features=3072, bias=True)\n",
       "          )\n",
       "          (output): BertOutput(\n",
       "            (dense): Linear(in_features=3072, out_features=768, bias=True)\n",
       "            (LayerNorm): LayerNorm((768,), eps=1e-05, elementwise_affine=True)\n",
       "            (dropout): Dropout(p=0.1, inplace=False)\n",
       "          )\n",
       "        )\n",
       "        (7): BertLayer(\n",
       "          (attention): BertAttention(\n",
       "            (self): BertSelfAttention(\n",
       "              (query): Linear(in_features=768, out_features=768, bias=True)\n",
       "              (key): Linear(in_features=768, out_features=768, bias=True)\n",
       "              (value): Linear(in_features=768, out_features=768, bias=True)\n",
       "              (dropout): Dropout(p=0.1, inplace=False)\n",
       "            )\n",
       "            (output): BertSelfOutput(\n",
       "              (dense): Linear(in_features=768, out_features=768, bias=True)\n",
       "              (LayerNorm): LayerNorm((768,), eps=1e-05, elementwise_affine=True)\n",
       "              (dropout): Dropout(p=0.1, inplace=False)\n",
       "            )\n",
       "          )\n",
       "          (intermediate): BertIntermediate(\n",
       "            (dense): Linear(in_features=768, out_features=3072, bias=True)\n",
       "          )\n",
       "          (output): BertOutput(\n",
       "            (dense): Linear(in_features=3072, out_features=768, bias=True)\n",
       "            (LayerNorm): LayerNorm((768,), eps=1e-05, elementwise_affine=True)\n",
       "            (dropout): Dropout(p=0.1, inplace=False)\n",
       "          )\n",
       "        )\n",
       "        (8): BertLayer(\n",
       "          (attention): BertAttention(\n",
       "            (self): BertSelfAttention(\n",
       "              (query): Linear(in_features=768, out_features=768, bias=True)\n",
       "              (key): Linear(in_features=768, out_features=768, bias=True)\n",
       "              (value): Linear(in_features=768, out_features=768, bias=True)\n",
       "              (dropout): Dropout(p=0.1, inplace=False)\n",
       "            )\n",
       "            (output): BertSelfOutput(\n",
       "              (dense): Linear(in_features=768, out_features=768, bias=True)\n",
       "              (LayerNorm): LayerNorm((768,), eps=1e-05, elementwise_affine=True)\n",
       "              (dropout): Dropout(p=0.1, inplace=False)\n",
       "            )\n",
       "          )\n",
       "          (intermediate): BertIntermediate(\n",
       "            (dense): Linear(in_features=768, out_features=3072, bias=True)\n",
       "          )\n",
       "          (output): BertOutput(\n",
       "            (dense): Linear(in_features=3072, out_features=768, bias=True)\n",
       "            (LayerNorm): LayerNorm((768,), eps=1e-05, elementwise_affine=True)\n",
       "            (dropout): Dropout(p=0.1, inplace=False)\n",
       "          )\n",
       "        )\n",
       "        (9): BertLayer(\n",
       "          (attention): BertAttention(\n",
       "            (self): BertSelfAttention(\n",
       "              (query): Linear(in_features=768, out_features=768, bias=True)\n",
       "              (key): Linear(in_features=768, out_features=768, bias=True)\n",
       "              (value): Linear(in_features=768, out_features=768, bias=True)\n",
       "              (dropout): Dropout(p=0.1, inplace=False)\n",
       "            )\n",
       "            (output): BertSelfOutput(\n",
       "              (dense): Linear(in_features=768, out_features=768, bias=True)\n",
       "              (LayerNorm): LayerNorm((768,), eps=1e-05, elementwise_affine=True)\n",
       "              (dropout): Dropout(p=0.1, inplace=False)\n",
       "            )\n",
       "          )\n",
       "          (intermediate): BertIntermediate(\n",
       "            (dense): Linear(in_features=768, out_features=3072, bias=True)\n",
       "          )\n",
       "          (output): BertOutput(\n",
       "            (dense): Linear(in_features=3072, out_features=768, bias=True)\n",
       "            (LayerNorm): LayerNorm((768,), eps=1e-05, elementwise_affine=True)\n",
       "            (dropout): Dropout(p=0.1, inplace=False)\n",
       "          )\n",
       "        )\n",
       "        (10): BertLayer(\n",
       "          (attention): BertAttention(\n",
       "            (self): BertSelfAttention(\n",
       "              (query): Linear(in_features=768, out_features=768, bias=True)\n",
       "              (key): Linear(in_features=768, out_features=768, bias=True)\n",
       "              (value): Linear(in_features=768, out_features=768, bias=True)\n",
       "              (dropout): Dropout(p=0.1, inplace=False)\n",
       "            )\n",
       "            (output): BertSelfOutput(\n",
       "              (dense): Linear(in_features=768, out_features=768, bias=True)\n",
       "              (LayerNorm): LayerNorm((768,), eps=1e-05, elementwise_affine=True)\n",
       "              (dropout): Dropout(p=0.1, inplace=False)\n",
       "            )\n",
       "          )\n",
       "          (intermediate): BertIntermediate(\n",
       "            (dense): Linear(in_features=768, out_features=3072, bias=True)\n",
       "          )\n",
       "          (output): BertOutput(\n",
       "            (dense): Linear(in_features=3072, out_features=768, bias=True)\n",
       "            (LayerNorm): LayerNorm((768,), eps=1e-05, elementwise_affine=True)\n",
       "            (dropout): Dropout(p=0.1, inplace=False)\n",
       "          )\n",
       "        )\n",
       "        (11): BertLayer(\n",
       "          (attention): BertAttention(\n",
       "            (self): BertSelfAttention(\n",
       "              (query): Linear(in_features=768, out_features=768, bias=True)\n",
       "              (key): Linear(in_features=768, out_features=768, bias=True)\n",
       "              (value): Linear(in_features=768, out_features=768, bias=True)\n",
       "              (dropout): Dropout(p=0.1, inplace=False)\n",
       "            )\n",
       "            (output): BertSelfOutput(\n",
       "              (dense): Linear(in_features=768, out_features=768, bias=True)\n",
       "              (LayerNorm): LayerNorm((768,), eps=1e-05, elementwise_affine=True)\n",
       "              (dropout): Dropout(p=0.1, inplace=False)\n",
       "            )\n",
       "          )\n",
       "          (intermediate): BertIntermediate(\n",
       "            (dense): Linear(in_features=768, out_features=3072, bias=True)\n",
       "          )\n",
       "          (output): BertOutput(\n",
       "            (dense): Linear(in_features=3072, out_features=768, bias=True)\n",
       "            (LayerNorm): LayerNorm((768,), eps=1e-05, elementwise_affine=True)\n",
       "            (dropout): Dropout(p=0.1, inplace=False)\n",
       "          )\n",
       "        )\n",
       "      )\n",
       "    )\n",
       "    (pooler): BertPooler(\n",
       "      (dense): Linear(in_features=768, out_features=768, bias=True)\n",
       "      (activation): Tanh()\n",
       "    )\n",
       "  )\n",
       "  (classifier): RobertaClassificationHead(\n",
       "    (dense): Linear(in_features=768, out_features=768, bias=True)\n",
       "    (dropout): Dropout(p=0.1, inplace=False)\n",
       "    (out_proj): Linear(in_features=768, out_features=2, bias=True)\n",
       "  )\n",
       ")"
      ]
     },
     "execution_count": 18,
     "metadata": {},
     "output_type": "execute_result"
    }
   ],
   "source": [
    "# Load BertForSequenceClassification, the pretrained BERT model with a single \n",
    "# linear classification layer on top. \n",
    "model = AutoModelForSequenceClassification.from_pretrained(\n",
    "    models[model_num], # Use the 12-layer BERT model, with an uncased vocab.\n",
    "    num_labels = 2, # The number of output labels--2 for binary classification.\n",
    "                    # You can increase this for multi-class tasks.\n",
    "    output_attentions = False, # Whether the model returns attentions weights.\n",
    "    output_hidden_states = False, # Whether the model returns all hidden-states.\n",
    ")\n",
    "\n",
    "# Tell pytorch to run this model on the GPU.\n",
    "model.to(device)"
   ]
  },
  {
   "cell_type": "code",
   "execution_count": 19,
   "metadata": {
    "execution": {
     "iopub.execute_input": "2020-10-30T00:09:33.198324Z",
     "iopub.status.busy": "2020-10-30T00:09:33.198141Z",
     "iopub.status.idle": "2020-10-30T00:09:33.206433Z",
     "shell.execute_reply": "2020-10-30T00:09:33.205960Z",
     "shell.execute_reply.started": "2020-10-30T00:09:33.198287Z"
    }
   },
   "outputs": [
    {
     "name": "stdout",
     "output_type": "stream",
     "text": [
      "The BERT model has 203 different named parameters.\n",
      "\n",
      "==== Embedding Layer ====\n",
      "\n",
      "roberta.embeddings.word_embeddings.weight               (250002, 768)\n",
      "roberta.embeddings.position_embeddings.weight             (514, 768)\n",
      "roberta.embeddings.token_type_embeddings.weight             (1, 768)\n",
      "roberta.embeddings.LayerNorm.weight                           (768,)\n",
      "roberta.embeddings.LayerNorm.bias                             (768,)\n",
      "\n",
      "==== First Transformer ====\n",
      "\n",
      "roberta.encoder.layer.0.attention.self.query.weight       (768, 768)\n",
      "roberta.encoder.layer.0.attention.self.query.bias             (768,)\n",
      "roberta.encoder.layer.0.attention.self.key.weight         (768, 768)\n",
      "roberta.encoder.layer.0.attention.self.key.bias               (768,)\n",
      "roberta.encoder.layer.0.attention.self.value.weight       (768, 768)\n",
      "roberta.encoder.layer.0.attention.self.value.bias             (768,)\n",
      "roberta.encoder.layer.0.attention.output.dense.weight     (768, 768)\n",
      "roberta.encoder.layer.0.attention.output.dense.bias           (768,)\n",
      "roberta.encoder.layer.0.attention.output.LayerNorm.weight       (768,)\n",
      "roberta.encoder.layer.0.attention.output.LayerNorm.bias       (768,)\n",
      "roberta.encoder.layer.0.intermediate.dense.weight        (3072, 768)\n",
      "roberta.encoder.layer.0.intermediate.dense.bias              (3072,)\n",
      "roberta.encoder.layer.0.output.dense.weight              (768, 3072)\n",
      "roberta.encoder.layer.0.output.dense.bias                     (768,)\n",
      "roberta.encoder.layer.0.output.LayerNorm.weight               (768,)\n",
      "roberta.encoder.layer.0.output.LayerNorm.bias                 (768,)\n",
      "\n",
      "==== Output Layer ====\n",
      "\n",
      "classifier.dense.weight                                   (768, 768)\n",
      "classifier.dense.bias                                         (768,)\n",
      "classifier.out_proj.weight                                  (2, 768)\n",
      "classifier.out_proj.bias                                        (2,)\n"
     ]
    }
   ],
   "source": [
    "params = list(model.named_parameters())\n",
    "\n",
    "print('The BERT model has {:} different named parameters.\\n'.format(len(params)))\n",
    "\n",
    "print('==== Embedding Layer ====\\n')\n",
    "\n",
    "for p in params[0:5]:\n",
    "    print(\"{:<55} {:>12}\".format(p[0], str(tuple(p[1].size()))))\n",
    "\n",
    "print('\\n==== First Transformer ====\\n')\n",
    "\n",
    "for p in params[5:21]:\n",
    "    print(\"{:<55} {:>12}\".format(p[0], str(tuple(p[1].size()))))\n",
    "\n",
    "print('\\n==== Output Layer ====\\n')\n",
    "\n",
    "for p in params[-4:]:\n",
    "    print(\"{:<55} {:>12}\".format(p[0], str(tuple(p[1].size()))))\n"
   ]
  },
  {
   "cell_type": "code",
   "execution_count": 20,
   "metadata": {
    "execution": {
     "iopub.execute_input": "2020-10-30T00:09:33.207555Z",
     "iopub.status.busy": "2020-10-30T00:09:33.207342Z",
     "iopub.status.idle": "2020-10-30T00:09:33.211378Z",
     "shell.execute_reply": "2020-10-30T00:09:33.210814Z",
     "shell.execute_reply.started": "2020-10-30T00:09:33.207533Z"
    }
   },
   "outputs": [],
   "source": [
    "optimizer = AdamW(model.parameters(),\n",
    "                  lr = 5e-5, # args.learning_rate - default is 5e-5, our notebook had 2e-5\n",
    "                  eps = 1e-8 # args.adam_epsilon  - default is 1e-8.\n",
    "                )"
   ]
  },
  {
   "cell_type": "code",
   "execution_count": 21,
   "metadata": {
    "execution": {
     "iopub.execute_input": "2020-10-30T00:09:33.212432Z",
     "iopub.status.busy": "2020-10-30T00:09:33.212223Z",
     "iopub.status.idle": "2020-10-30T00:09:33.218142Z",
     "shell.execute_reply": "2020-10-30T00:09:33.217633Z",
     "shell.execute_reply.started": "2020-10-30T00:09:33.212410Z"
    }
   },
   "outputs": [],
   "source": [
    "# Number of training epochs. The BERT authors recommend between 2 and 4. \n",
    "# We chose to run for 4, but we'll see later that this may be over-fitting the\n",
    "# training data.\n",
    "epochs = 4\n",
    "\n",
    "# Total number of training steps is [number of batches] x [number of epochs]. \n",
    "# (Note that this is not the same as the number of training samples).\n",
    "total_steps = len(train_dataloader) * epochs\n",
    "\n",
    "# Create the learning rate scheduler.\n",
    "scheduler = get_linear_schedule_with_warmup(optimizer, \n",
    "                                            num_warmup_steps = 0, # Default value in run_glue.py\n",
    "                                            num_training_steps = total_steps)\n"
   ]
  },
  {
   "cell_type": "code",
   "execution_count": 22,
   "metadata": {
    "execution": {
     "iopub.execute_input": "2020-10-30T00:09:33.219177Z",
     "iopub.status.busy": "2020-10-30T00:09:33.218916Z",
     "iopub.status.idle": "2020-10-30T00:09:33.225372Z",
     "shell.execute_reply": "2020-10-30T00:09:33.224866Z",
     "shell.execute_reply.started": "2020-10-30T00:09:33.219137Z"
    }
   },
   "outputs": [],
   "source": [
    "# Function to calculate the accuracy of our predictions vs labels\n",
    "def flat_accuracy(preds, labels):\n",
    "    pred_flat = np.argmax(preds, axis=1).flatten()\n",
    "    labels_flat = labels.flatten()\n",
    "    return np.sum(pred_flat == labels_flat) / len(labels_flat)\n"
   ]
  },
  {
   "cell_type": "code",
   "execution_count": 23,
   "metadata": {
    "execution": {
     "iopub.execute_input": "2020-10-30T00:09:33.226340Z",
     "iopub.status.busy": "2020-10-30T00:09:33.226154Z",
     "iopub.status.idle": "2020-10-30T00:09:33.232018Z",
     "shell.execute_reply": "2020-10-30T00:09:33.231501Z",
     "shell.execute_reply.started": "2020-10-30T00:09:33.226319Z"
    }
   },
   "outputs": [],
   "source": [
    "def format_time(elapsed):\n",
    "    '''\n",
    "    Takes a time in seconds and returns a string hh:mm:ss\n",
    "    '''\n",
    "    # Round to the nearest second.\n",
    "    elapsed_rounded = int(round((elapsed)))\n",
    "    \n",
    "    # Format as hh:mm:ss\n",
    "    return str(datetime.timedelta(seconds=elapsed_rounded))\n",
    "\n"
   ]
  },
  {
   "cell_type": "code",
   "execution_count": 24,
   "metadata": {
    "execution": {
     "iopub.execute_input": "2020-10-30T00:09:33.233039Z",
     "iopub.status.busy": "2020-10-30T00:09:33.232876Z",
     "iopub.status.idle": "2020-10-30T00:15:02.360900Z",
     "shell.execute_reply": "2020-10-30T00:15:02.360231Z",
     "shell.execute_reply.started": "2020-10-30T00:09:33.233019Z"
    }
   },
   "outputs": [
    {
     "name": "stdout",
     "output_type": "stream",
     "text": [
      "\n",
      "======== Epoch 1 / 4 ========\n",
      "Training...\n",
      "  Batch    40  of    570.    Elapsed: 0:00:10.\n",
      "  Batch    80  of    570.    Elapsed: 0:00:21.\n",
      "  Batch   120  of    570.    Elapsed: 0:00:31.\n",
      "  Batch   160  of    570.    Elapsed: 0:00:41.\n",
      "  Batch   200  of    570.    Elapsed: 0:00:52.\n",
      "  Batch   240  of    570.    Elapsed: 0:01:02.\n",
      "  Batch   280  of    570.    Elapsed: 0:01:13.\n",
      "  Batch   320  of    570.    Elapsed: 0:01:23.\n",
      "  Batch   360  of    570.    Elapsed: 0:01:34.\n",
      "  Batch   400  of    570.    Elapsed: 0:01:44.\n",
      "  Batch   440  of    570.    Elapsed: 0:01:55.\n",
      "  Batch   480  of    570.    Elapsed: 0:02:06.\n",
      "  Batch   520  of    570.    Elapsed: 0:02:16.\n",
      "  Batch   560  of    570.    Elapsed: 0:02:27.\n",
      "\n",
      "  Average training loss: 0.70\n",
      "  Training epcoh took: 0:02:29\n",
      "\n",
      "Running Validation...\n",
      "  Accuracy: 0.44\n",
      "  Validation Loss: 0.69\n",
      "  Validation took: 0:00:06\n",
      "\n",
      "======== Epoch 2 / 4 ========\n",
      "Training...\n",
      "  Batch    40  of    570.    Elapsed: 0:00:11.\n",
      "  Batch    80  of    570.    Elapsed: 0:00:21.\n",
      "  Batch   120  of    570.    Elapsed: 0:00:32.\n",
      "  Batch   160  of    570.    Elapsed: 0:00:43.\n",
      "  Batch   200  of    570.    Elapsed: 0:00:53.\n",
      "  Batch   240  of    570.    Elapsed: 0:01:04.\n",
      "  Batch   280  of    570.    Elapsed: 0:01:15.\n",
      "  Batch   320  of    570.    Elapsed: 0:01:25.\n",
      "  Batch   360  of    570.    Elapsed: 0:01:36.\n",
      "  Batch   400  of    570.    Elapsed: 0:01:47.\n",
      "  Batch   440  of    570.    Elapsed: 0:01:57.\n",
      "  Batch   480  of    570.    Elapsed: 0:02:08.\n",
      "  Batch   520  of    570.    Elapsed: 0:02:18.\n",
      "  Batch   560  of    570.    Elapsed: 0:02:29.\n",
      "\n",
      "  Average training loss: 0.69\n",
      "  Training epcoh took: 0:02:31\n",
      "\n",
      "Running Validation...\n",
      "  Accuracy: 0.56\n",
      "  Validation Loss: 0.69\n",
      "  Validation took: 0:00:06\n"
     ]
    },
    {
     "name": "stdin",
     "output_type": "stream",
     "text": [
      " y\n"
     ]
    },
    {
     "name": "stdout",
     "output_type": "stream",
     "text": [
      "\n",
      "Training complete!\n",
      "Total training took 0:05:29 (h:mm:ss)\n"
     ]
    }
   ],
   "source": [
    "seed_val = 42\n",
    "torch.cuda.empty_cache()\n",
    "random.seed(seed_val)\n",
    "np.random.seed(seed_val)\n",
    "torch.manual_seed(seed_val)\n",
    "torch.cuda.manual_seed_all(seed_val)\n",
    "\n",
    "# We'll store a number of quantities such as training and validation loss, \n",
    "# validation accuracy, and timings.\n",
    "training_stats = []\n",
    "\n",
    "# Measure the total training time for the whole run.\n",
    "total_t0 = time.time()\n",
    "\n",
    "# For each epoch...\n",
    "for epoch_i in range(0, epochs):\n",
    "    \n",
    "    # ========================================\n",
    "    #               Training\n",
    "    # ========================================\n",
    "    \n",
    "    # Perform one full pass over the training set.\n",
    "\n",
    "    print(\"\")\n",
    "    print('======== Epoch {:} / {:} ========'.format(epoch_i + 1, epochs))\n",
    "    print('Training...')\n",
    "\n",
    "    # Measure how long the training epoch takes.\n",
    "    t0 = time.time()\n",
    "\n",
    "    # Reset the total loss for this epoch.\n",
    "    total_train_loss = 0\n",
    "\n",
    "    # Put the model into training mode. Don't be mislead--the call to \n",
    "    # `train` just changes the *mode*, it doesn't *perform* the training.\n",
    "    # `dropout` and `batchnorm` layers behave differently during training\n",
    "    # vs. test (source: https://stackoverflow.com/questions/51433378/what-does-model-train-do-in-pytorch)\n",
    "    model.train()\n",
    "\n",
    "    # For each batch of training data...\n",
    "    for step, batch in enumerate(train_dataloader):\n",
    "\n",
    "        # Progress update every 40 batches.\n",
    "        if step % 40 == 0 and not step == 0:\n",
    "            # Calculate elapsed time in minutes.\n",
    "            elapsed = format_time(time.time() - t0)\n",
    "            \n",
    "            # Report progress.\n",
    "            print('  Batch {:>5,}  of  {:>5,}.    Elapsed: {:}.'.format(step, len(train_dataloader), elapsed))\n",
    "\n",
    "        # Unpack this training batch from our dataloader. \n",
    "        #\n",
    "        # As we unpack the batch, we'll also copy each tensor to the GPU using the \n",
    "        # `to` method.\n",
    "        #\n",
    "        # `batch` contains three pytorch tensors:\n",
    "        #   [0]: input ids \n",
    "        #   [1]: attention masks\n",
    "        #   [2]: labels \n",
    "        b_input_ids = batch[0].to(device)\n",
    "        b_input_mask = batch[1].to(device)\n",
    "        b_labels = batch[2].to(device)\n",
    "\n",
    "        # Always clear any previously calculated gradients before performing a\n",
    "        # backward pass. PyTorch doesn't do this automatically because \n",
    "        # accumulating the gradients is \"convenient while training RNNs\". \n",
    "        # (source: https://stackoverflow.com/questions/48001598/why-do-we-need-to-call-zero-grad-in-pytorch)\n",
    "        model.zero_grad()        \n",
    "\n",
    "        # Perform a forward pass (evaluate the model on this training batch).\n",
    "        # The documentation for this `model` function is here: \n",
    "        # https://huggingface.co/transformers/v2.2.0/model_doc/bert.html#transformers.BertForSequenceClassification\n",
    "        # It returns different numbers of parameters depending on what arguments\n",
    "        # arge given and what flags are set. For our useage here, it returns\n",
    "        # the loss (because we provided labels) and the \"logits\"--the model\n",
    "        # outputs prior to activation.\n",
    "        loss, logits = model(b_input_ids, \n",
    "                             attention_mask=b_input_mask, \n",
    "                             labels=b_labels)\n",
    "\n",
    "        # Accumulate the training loss over all of the batches so that we can\n",
    "        # calculate the average loss at the end. `loss` is a Tensor containing a\n",
    "        # single value; the `.item()` function just returns the Python value \n",
    "        # from the tensor.\n",
    "        total_train_loss += loss.item()\n",
    "\n",
    "        # Perform a backward pass to calculate the gradients.\n",
    "        loss.backward()\n",
    "\n",
    "        # Clip the norm of the gradients to 1.0.\n",
    "        # This is to help prevent the \"exploding gradients\" problem.\n",
    "        torch.nn.utils.clip_grad_norm_(model.parameters(), 1.0)\n",
    "\n",
    "        # Update parameters and take a step using the computed gradient.\n",
    "        # The optimizer dictates the \"update rule\"--how the parameters are\n",
    "        # modified based on their gradients, the learning rate, etc.\n",
    "        optimizer.step()\n",
    "\n",
    "        # Update the learning rate.\n",
    "        scheduler.step()\n",
    "\n",
    "    # Calculate the average loss over all of the batches.\n",
    "    avg_train_loss = total_train_loss / len(train_dataloader)            \n",
    "    \n",
    "    # Measure how long this epoch took.\n",
    "    training_time = format_time(time.time() - t0)\n",
    "\n",
    "    print(\"\")\n",
    "    print(\"  Average training loss: {0:.2f}\".format(avg_train_loss))\n",
    "    print(\"  Training epcoh took: {:}\".format(training_time))\n",
    "        \n",
    "    # ========================================\n",
    "    #               Validation\n",
    "    # ========================================\n",
    "    # After the completion of each training epoch, measure our performance on\n",
    "    # our validation set.\n",
    "\n",
    "    print(\"\")\n",
    "    print(\"Running Validation...\")\n",
    "\n",
    "    t0 = time.time()\n",
    "\n",
    "    # Put the model in evaluation mode--the dropout layers behave differently\n",
    "    # during evaluation.\n",
    "    model.eval()\n",
    "\n",
    "    # Tracking variables \n",
    "    total_eval_accuracy = 0\n",
    "    total_eval_loss = 0\n",
    "    nb_eval_steps = 0\n",
    "\n",
    "    # Evaluate data for one epoch\n",
    "    for batch in validation_dataloader:\n",
    "        \n",
    "        # Unpack this training batch from our dataloader. \n",
    "        #\n",
    "        # As we unpack the batch, we'll also copy each tensor to the GPU using \n",
    "        # the `to` method.\n",
    "        #\n",
    "        # `batch` contains three pytorch tensors:\n",
    "        #   [0]: input ids \n",
    "        #   [1]: attention masks\n",
    "        #   [2]: labels \n",
    "        b_input_ids = batch[0].to(device)\n",
    "        b_input_mask = batch[1].to(device)\n",
    "        b_labels = batch[2].to(device)\n",
    "        \n",
    "        # Tell pytorch not to bother with constructing the compute graph during\n",
    "        # the forward pass, since this is only needed for backprop (training).\n",
    "        with torch.no_grad():        \n",
    "\n",
    "            # Forward pass, calculate logit predictions.\n",
    "            # token_type_ids is the same as the \"segment ids\", which \n",
    "            # differentiates sentence 1 and 2 in 2-sentence tasks.\n",
    "            # The documentation for this `model` function is here: \n",
    "            # https://huggingface.co/transformers/v2.2.0/model_doc/bert.html#transformers.BertForSequenceClassification\n",
    "            # Get the \"logits\" output by the model. The \"logits\" are the output\n",
    "            # values prior to applying an activation function like the softmax.\n",
    "            (loss, logits) = model(b_input_ids, \n",
    "                                   attention_mask=b_input_mask,\n",
    "                                   labels=b_labels)\n",
    "            \n",
    "        # Accumulate the validation loss.\n",
    "        total_eval_loss += loss.item()\n",
    "\n",
    "        # Move logits and labels to CPU\n",
    "        logits = logits.detach().cpu().numpy()\n",
    "        label_ids = b_labels.to('cpu').numpy()\n",
    "\n",
    "        # Calculate the accuracy for this batch of test sentences, and\n",
    "        # accumulate it over all batches.\n",
    "        total_eval_accuracy += flat_accuracy(logits, label_ids)\n",
    "        \n",
    "\n",
    "    # Report the final accuracy for this validation run.\n",
    "    avg_val_accuracy = total_eval_accuracy / len(validation_dataloader)\n",
    "    print(\"  Accuracy: {0:.2f}\".format(avg_val_accuracy))\n",
    "\n",
    "    # Calculate the average loss over all of the batches.\n",
    "    avg_val_loss = total_eval_loss / len(validation_dataloader)\n",
    "    \n",
    "    # Measure how long the validation run took.\n",
    "    validation_time = format_time(time.time() - t0)\n",
    "    \n",
    "    print(\"  Validation Loss: {0:.2f}\".format(avg_val_loss))\n",
    "    print(\"  Validation took: {:}\".format(validation_time))\n",
    "    # Record all statistics from this epoch.\n",
    "    training_stats.append(\n",
    "        {\n",
    "            'epoch': epoch_i + 1,\n",
    "            'Training Loss': avg_train_loss,\n",
    "            'Valid. Loss': avg_val_loss,\n",
    "            'Valid. Accur.': avg_val_accuracy,\n",
    "            'Training Time': training_time,\n",
    "            'Validation Time': validation_time\n",
    "        }\n",
    "    )\n",
    "    if epoch_i >= 1:\n",
    "        inp = input()\n",
    "        if inp.startswith('y'):\n",
    "            break\n",
    "\n",
    "print(\"\")\n",
    "print(\"Training complete!\")\n",
    "\n",
    "print(\"Total training took {:} (h:mm:ss)\".format(format_time(time.time()-total_t0)))\n"
   ]
  },
  {
   "cell_type": "code",
   "execution_count": 25,
   "metadata": {
    "execution": {
     "iopub.execute_input": "2020-10-30T00:15:02.361998Z",
     "iopub.status.busy": "2020-10-30T00:15:02.361754Z",
     "iopub.status.idle": "2020-10-30T00:15:02.374864Z",
     "shell.execute_reply": "2020-10-30T00:15:02.374369Z",
     "shell.execute_reply.started": "2020-10-30T00:15:02.361973Z"
    }
   },
   "outputs": [
    {
     "data": {
      "text/html": [
       "<div>\n",
       "<style scoped>\n",
       "    .dataframe tbody tr th:only-of-type {\n",
       "        vertical-align: middle;\n",
       "    }\n",
       "\n",
       "    .dataframe tbody tr th {\n",
       "        vertical-align: top;\n",
       "    }\n",
       "\n",
       "    .dataframe thead th {\n",
       "        text-align: right;\n",
       "    }\n",
       "</style>\n",
       "<table border=\"1\" class=\"dataframe\">\n",
       "  <thead>\n",
       "    <tr style=\"text-align: right;\">\n",
       "      <th></th>\n",
       "      <th>Training Loss</th>\n",
       "      <th>Valid. Loss</th>\n",
       "      <th>Valid. Accur.</th>\n",
       "      <th>Training Time</th>\n",
       "      <th>Validation Time</th>\n",
       "    </tr>\n",
       "    <tr>\n",
       "      <th>epoch</th>\n",
       "      <th></th>\n",
       "      <th></th>\n",
       "      <th></th>\n",
       "      <th></th>\n",
       "      <th></th>\n",
       "    </tr>\n",
       "  </thead>\n",
       "  <tbody>\n",
       "    <tr>\n",
       "      <th>1</th>\n",
       "      <td>0.70</td>\n",
       "      <td>0.69</td>\n",
       "      <td>0.44</td>\n",
       "      <td>0:02:29</td>\n",
       "      <td>0:00:06</td>\n",
       "    </tr>\n",
       "    <tr>\n",
       "      <th>2</th>\n",
       "      <td>0.69</td>\n",
       "      <td>0.69</td>\n",
       "      <td>0.56</td>\n",
       "      <td>0:02:31</td>\n",
       "      <td>0:00:06</td>\n",
       "    </tr>\n",
       "  </tbody>\n",
       "</table>\n",
       "</div>"
      ],
      "text/plain": [
       "       Training Loss  Valid. Loss  Valid. Accur. Training Time Validation Time\n",
       "epoch                                                                         \n",
       "1               0.70         0.69           0.44       0:02:29         0:00:06\n",
       "2               0.69         0.69           0.56       0:02:31         0:00:06"
      ]
     },
     "execution_count": 25,
     "metadata": {},
     "output_type": "execute_result"
    }
   ],
   "source": [
    "import pandas as pd\n",
    "\n",
    "# Display floats with two decimal places.\n",
    "pd.set_option('precision', 2)\n",
    "\n",
    "# Create a DataFrame from our training statistics.\n",
    "df_stats = pd.DataFrame(data=training_stats)\n",
    "\n",
    "# Use the 'epoch' as the row index.\"\"\n",
    "df_stats = df_stats.set_index('epoch')\n",
    "\n",
    "# A hack to force the column headers to wrap.\n",
    "#df = df.style.set_table_styles([dict(selector=\"th\",props=[('max-width', '70px')])])\n",
    "\n",
    "# Display the table.\n",
    "df_stats"
   ]
  },
  {
   "cell_type": "code",
   "execution_count": 26,
   "metadata": {
    "execution": {
     "iopub.execute_input": "2020-10-30T00:15:02.376098Z",
     "iopub.status.busy": "2020-10-30T00:15:02.375842Z",
     "iopub.status.idle": "2020-10-30T00:15:02.561583Z",
     "shell.execute_reply": "2020-10-30T00:15:02.561082Z",
     "shell.execute_reply.started": "2020-10-30T00:15:02.376055Z"
    }
   },
   "outputs": [
    {
     "data": {
      "image/png": "[encoded data removed]",
      "text/plain": [
       "<Figure size 864x432 with 1 Axes>"
      ]
     },
     "metadata": {},
     "output_type": "display_data"
    }
   ],
   "source": [
    "sns.set(style='darkgrid')\n",
    "\n",
    "# Increase the plot size and font size.\n",
    "sns.set(font_scale=1.5)\n",
    "plt.rcParams[\"figure.figsize\"] = (12,6)\n",
    "\n",
    "# Plot the learning curve.\n",
    "plt.plot(df_stats['Training Loss'], 'b-o', label=\"Training\")\n",
    "plt.plot(df_stats['Valid. Loss'], 'g-o', label=\"Validation\")\n",
    "\n",
    "# Label the plot.\n",
    "plt.title(\"Training & Validation Loss\")\n",
    "plt.xlabel(\"Epoch\")\n",
    "plt.ylabel(\"Loss\")\n",
    "plt.legend()\n",
    "plt.xticks([1, 2, 3, 4])\n",
    "\n",
    "plt.show()"
   ]
  },
  {
   "cell_type": "code",
   "execution_count": 27,
   "metadata": {
    "execution": {
     "iopub.execute_input": "2020-10-30T00:15:02.564105Z",
     "iopub.status.busy": "2020-10-30T00:15:02.563937Z",
     "iopub.status.idle": "2020-10-30T00:15:02.566593Z",
     "shell.execute_reply": "2020-10-30T00:15:02.566062Z",
     "shell.execute_reply.started": "2020-10-30T00:15:02.564084Z"
    }
   },
   "outputs": [],
   "source": [
    "posts = valid_x.values\n",
    "categories = valid_y.values"
   ]
  },
  {
   "cell_type": "code",
   "execution_count": 28,
   "metadata": {
    "execution": {
     "iopub.execute_input": "2020-10-30T00:15:02.567761Z",
     "iopub.status.busy": "2020-10-30T00:15:02.567591Z",
     "iopub.status.idle": "2020-10-30T00:15:02.759994Z",
     "shell.execute_reply": "2020-10-30T00:15:02.759507Z",
     "shell.execute_reply.started": "2020-10-30T00:15:02.567740Z"
    }
   },
   "outputs": [
    {
     "name": "stderr",
     "output_type": "stream",
     "text": [
      "/home/tathagata.raha/miniconda3/envs/fastai/lib/python3.8/site-packages/transformers/tokenization_utils_base.py:1764: FutureWarning: The `pad_to_max_length` argument is deprecated and will be removed in a future version, use `padding=True` or `padding='longest'` to pad to the longest sequence in the batch, or use `padding='max_length'` to pad to a max length. In this case, you can give a specific length with `max_length` (e.g. `max_length=45`) or leave max_length to None to pad to the maximal input size of the model (e.g. 512 for Bert).\n",
      "  warnings.warn(\n"
     ]
    }
   ],
   "source": [
    "input_ids = []\n",
    "attention_masks = []\n",
    "\n",
    "# For every sentence...\n",
    "for sent in posts:\n",
    "    # `encode_plus` will:\n",
    "    #   (1) Tokenize the sentence.\n",
    "    #   (2) Prepend the `[CLS]` token to the start.\n",
    "    #   (3) Append the `[SEP]` token to the end.\n",
    "    #   (4) Map tokens to their IDs.\n",
    "    #   (5) Pad or truncate the sentence to `max_length`\n",
    "    #   (6) Create attention masks for [PAD] tokens.\n",
    "    encoded_dict = tokenizer.encode_plus(\n",
    "                        sent,                      # Sentence to encode.\n",
    "                        truncation=True,\n",
    "                        add_special_tokens = True, # Add '[CLS]' and '[SEP]'\n",
    "                        max_length = MAX_LENGTH,           # Pad & truncate all sentences.\n",
    "                        pad_to_max_length = True,\n",
    "                        return_attention_mask = True,   # Construct attn. masks.\n",
    "                        return_tensors = 'pt',     # Return pytorch tensors.\n",
    "                   )\n",
    "    \n",
    "    # Add the encoded sentence to the list.    \n",
    "    input_ids.append(encoded_dict['input_ids'])\n",
    "    \n",
    "    # And its attention mask (simply differentiates padding from non-padding).\n",
    "    attention_masks.append(encoded_dict['attention_mask'])\n",
    "\n",
    "# Convert the lists into tensors.\n",
    "input_ids = torch.cat(input_ids, dim=0)\n",
    "attention_masks = torch.cat(attention_masks, dim=0)\n",
    "labels = torch.tensor(categories)\n",
    "\n",
    "# Set the batch size.  \n",
    "batch_size = 32\n",
    "\n",
    "# Create the DataLoader.\n",
    "prediction_data = TensorDataset(input_ids, attention_masks, labels)\n",
    "prediction_sampler = SequentialSampler(prediction_data)\n",
    "prediction_dataloader = DataLoader(prediction_data, sampler=prediction_sampler, batch_size=batch_size)\n"
   ]
  },
  {
   "cell_type": "code",
   "execution_count": 29,
   "metadata": {
    "execution": {
     "iopub.execute_input": "2020-10-30T00:15:02.760942Z",
     "iopub.status.busy": "2020-10-30T00:15:02.760784Z",
     "iopub.status.idle": "2020-10-30T00:15:09.131127Z",
     "shell.execute_reply": "2020-10-30T00:15:09.130539Z",
     "shell.execute_reply.started": "2020-10-30T00:15:02.760922Z"
    }
   },
   "outputs": [
    {
     "name": "stdout",
     "output_type": "stream",
     "text": [
      "Predicting labels for 1,441 test sentences...\n",
      "    DONE.\n"
     ]
    }
   ],
   "source": [
    "print('Predicting labels for {:,} test sentences...'.format(len(input_ids)))\n",
    "# Put model in evaluation mode\n",
    "model.eval()\n",
    "\n",
    "# Tracking variables \n",
    "predictions , true_labels = [], []\n",
    "\n",
    "# Predict \n",
    "for batch in prediction_dataloader:\n",
    "  # Add batch to GPU\n",
    "    batch = tuple(t.to(device) for t in batch)\n",
    "\n",
    "    # Unpack the inputs from our dataloader\n",
    "    b_input_ids, b_input_mask, b_labels = batch\n",
    "\n",
    "    # Telling the model not to compute or store gradients, saving memory and \n",
    "    # speeding up prediction\n",
    "    with torch.no_grad():\n",
    "      # Forward pass, calculate logit predictions\n",
    "      outputs = model(b_input_ids, token_type_ids=None, \n",
    "                      attention_mask=b_input_mask)\n",
    "\n",
    "    logits = outputs[0]\n",
    "\n",
    "    # Move logits and labels to CPU\n",
    "    logits = logits.detach().cpu().numpy()\n",
    "    label_ids = b_labels.to('cpu').numpy()\n",
    "\n",
    "    # Store predictions and true labels\n",
    "    predictions.append(logits)\n",
    "    true_labels.append(label_ids)\n",
    "\n",
    "print('    DONE.')\n"
   ]
  },
  {
   "cell_type": "code",
   "execution_count": 30,
   "metadata": {
    "execution": {
     "iopub.execute_input": "2020-10-30T00:15:09.132189Z",
     "iopub.status.busy": "2020-10-30T00:15:09.131927Z",
     "iopub.status.idle": "2020-10-30T00:15:09.170304Z",
     "shell.execute_reply": "2020-10-30T00:15:09.169778Z",
     "shell.execute_reply.started": "2020-10-30T00:15:09.132165Z"
    }
   },
   "outputs": [
    {
     "name": "stdout",
     "output_type": "stream",
     "text": [
      "Calculating Matthews Corr. Coef. for each batch...\n",
      "Accuracy: 0.5503122831367107\n"
     ]
    },
    {
     "name": "stderr",
     "output_type": "stream",
     "text": [
      "/home/tathagata.raha/miniconda3/envs/fastai/lib/python3.8/site-packages/sklearn/metrics/_classification.py:846: RuntimeWarning: invalid value encountered in double_scalars\n",
      "  mcc = cov_ytyp / np.sqrt(cov_ytyt * cov_ypyp)\n"
     ]
    }
   ],
   "source": [
    "from sklearn.metrics import matthews_corrcoef\n",
    "\n",
    "matthews_set = []\n",
    "predicts = []\n",
    "accurate = 0\n",
    "total_len = 0\n",
    "# Evaluate each test batch using Matthew's correlation coefficient\n",
    "print('Calculating Matthews Corr. Coef. for each batch...')\n",
    "\n",
    "# For each input batch...\n",
    "for i in range(len(true_labels)):\n",
    "    # The predictions for this batch are a 2-column ndarray (one column for \"0\" \n",
    "    # and one column for \"1\"). Pick the label with the highest value and turn this\n",
    "    # in to a list of 0s and 1s.\n",
    "    pred_labels_i = np.argmax(predictions[i], axis=1).flatten()\n",
    "    predicts.append(pred_labels_i)\n",
    "    # Calculate and store the coef for this batch.  \n",
    "    matthews = matthews_corrcoef(true_labels[i], pred_labels_i)\n",
    "\n",
    "    matthews_set.append(matthews)\n",
    "    for j in range(len(true_labels[i])):\n",
    "        if true_labels[i][j] == pred_labels_i[j]:\n",
    "            accurate+=1\n",
    "        total_len+=1\n",
    "print(\"Accuracy:\",accurate/total_len)"
   ]
  },
  {
   "cell_type": "code",
   "execution_count": 31,
   "metadata": {
    "execution": {
     "iopub.execute_input": "2020-10-30T00:15:09.171276Z",
     "iopub.status.busy": "2020-10-30T00:15:09.171118Z",
     "iopub.status.idle": "2020-10-30T00:15:09.174718Z",
     "shell.execute_reply": "2020-10-30T00:15:09.174186Z",
     "shell.execute_reply.started": "2020-10-30T00:15:09.171256Z"
    }
   },
   "outputs": [],
   "source": [
    "flat_predictions = np.concatenate(predictions, axis=0)\n",
    "\n",
    "# For each sample, pick the label (0 or 1) with the higher score.\n",
    "flat_predictions = np.argmax(flat_predictions, axis=1).flatten()\n",
    "\n",
    "# Combine the correct labels for each batch into a single list.\n",
    "flat_true_labels = np.concatenate(true_labels, axis=0)"
   ]
  },
  {
   "cell_type": "code",
   "execution_count": 32,
   "metadata": {
    "execution": {
     "iopub.execute_input": "2020-10-30T00:15:09.175803Z",
     "iopub.status.busy": "2020-10-30T00:15:09.175509Z",
     "iopub.status.idle": "2020-10-30T00:15:09.188294Z",
     "shell.execute_reply": "2020-10-30T00:15:09.187721Z",
     "shell.execute_reply.started": "2020-10-30T00:15:09.175780Z"
    }
   },
   "outputs": [
    {
     "name": "stdout",
     "output_type": "stream",
     "text": [
      "              precision    recall  f1-score   support\n",
      "\n",
      "           0       0.00      0.00      0.00       648\n",
      "           1       0.55      1.00      0.71       793\n",
      "\n",
      "    accuracy                           0.55      1441\n",
      "   macro avg       0.28      0.50      0.35      1441\n",
      "weighted avg       0.30      0.55      0.39      1441\n",
      "\n"
     ]
    },
    {
     "name": "stderr",
     "output_type": "stream",
     "text": [
      "/home/tathagata.raha/miniconda3/envs/fastai/lib/python3.8/site-packages/sklearn/metrics/_classification.py:1221: UndefinedMetricWarning: Precision and F-score are ill-defined and being set to 0.0 in labels with no predicted samples. Use `zero_division` parameter to control this behavior.\n",
      "  _warn_prf(average, modifier, msg_start, len(result))\n"
     ]
    }
   ],
   "source": [
    "from sklearn.metrics import classification_report\n",
    "print(classification_report(flat_true_labels, flat_predictions))"
   ]
  },
  {
   "cell_type": "code",
   "execution_count": null,
   "metadata": {},
   "outputs": [],
   "source": []
  },
  {
   "cell_type": "code",
   "execution_count": null,
   "metadata": {},
   "outputs": [],
   "source": []
  }
 ],
 "metadata": {
  "kernelspec": {
   "display_name": "Python 3",
   "language": "python",
   "name": "python3"
  },
  "language_info": {
   "codemirror_mode": {
    "name": "ipython",
    "version": 3
   },
   "file_extension": ".py",
   "mimetype": "text/x-python",
   "name": "python",
   "nbconvert_exporter": "python",
   "pygments_lexer": "ipython3",
   "version": "3.8.5"
  }
 },
 "nbformat": 4,
 "nbformat_minor": 4
}
