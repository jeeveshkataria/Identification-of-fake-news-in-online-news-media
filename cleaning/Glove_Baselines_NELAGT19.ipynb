{
 "cells": [
  {
   "cell_type": "markdown",
   "metadata": {},
   "source": [
    "# Perform Necessary Imports"
   ]
  },
  {
   "cell_type": "code",
   "execution_count": 1,
   "metadata": {},
   "outputs": [],
   "source": [
    "import pandas as pd\n",
    "import xgboost\n",
    "import re\n",
    "import numpy as np\n",
    "from sklearn import model_selection, preprocessing, linear_model, naive_bayes, metrics, svm\n",
    "from sklearn.feature_extraction.text import TfidfVectorizer, CountVectorizer\n",
    "from sklearn import decomposition, ensemble\n",
    "from sklearn.metrics import f1_score\n",
    "from keras.preprocessing import text, sequence\n",
    "import numpy as np\n"
   ]
  },
  {
   "cell_type": "code",
   "execution_count": 2,
   "metadata": {},
   "outputs": [],
   "source": [
    "%matplotlib inline  \n",
    "import pandas as pd\n",
    "import numpy as np\n",
    "import matplotlib.pyplot as plt\n",
    "from nltk.tokenize import word_tokenize\n",
    "from imblearn.under_sampling import RandomUnderSampler\n",
    "from imblearn.over_sampling import RandomOverSampler\n",
    "from sklearn.model_selection import GridSearchCV\n",
    "from sklearn.preprocessing import scale\n",
    "from sklearn.metrics import f1_score\n",
    "from sklearn.metrics import roc_curve\n",
    "from sklearn.base import TransformerMixin\n",
    "from sklearn.neural_network import MLPClassifier\n",
    "from sklearn.linear_model import LogisticRegression\n",
    "from sklearn.pipeline import Pipeline\n",
    "from sklearn.neighbors import KNeighborsClassifier\n",
    "from sklearn.tree import DecisionTreeClassifier\n",
    "from sklearn.metrics import roc_auc_score\n",
    "from sklearn.preprocessing import LabelEncoder\n",
    "from sklearn.model_selection import train_test_split\n",
    "from sklearn.feature_extraction.text import CountVectorizer\n",
    "from sklearn.feature_extraction.text import TfidfTransformer\n",
    "from sklearn.ensemble import RandomForestClassifier\n",
    "from sklearn.metrics import confusion_matrix\n",
    "from sklearn.naive_bayes import MultinomialNB\n",
    "from imblearn.over_sampling import RandomOverSampler\n",
    "from sklearn.svm import SVC\n",
    "from sklearn.svm import LinearSVC"
   ]
  },
  {
   "cell_type": "code",
   "execution_count": 3,
   "metadata": {},
   "outputs": [],
   "source": [
    "class MeanEmbeddingTransformer(TransformerMixin):\n",
    "    \n",
    "    def __init__(self):\n",
    "        self._vocab, self._E = self._load_words()\n",
    "        \n",
    "    \n",
    "    def _load_words(self):\n",
    "        E = {}\n",
    "        vocab = []\n",
    "\n",
    "        with open('glove.6B.50d.txt', 'r', encoding=\"utf8\") as file:\n",
    "            for i, line in enumerate(file):\n",
    "                l = line.split(' ')\n",
    "                if l[0].isalpha():\n",
    "                    v = [float(i) for i in l[1:]]\n",
    "                    E[l[0]] = np.array(v)\n",
    "                    vocab.append(l[0])\n",
    "        return np.array(vocab), E            \n",
    "\n",
    "    \n",
    "    def _get_word(self, v):\n",
    "        for i, emb in enumerate(self._E):\n",
    "            if np.array_equal(emb, v):\n",
    "                return self._vocab[i]\n",
    "        return None\n",
    "    \n",
    "    def _doc_mean(self, doc):\n",
    "        return np.mean(np.array([self._E[w.lower().strip()] for w in doc if w.lower().strip() in self._E]), axis=0)\n",
    "    \n",
    "    def fit(self, X, y=None):\n",
    "        return self\n",
    "    \n",
    "    def transform(self, X):\n",
    "        return np.array([self._doc_mean(doc) for doc in X])\n",
    "    \n",
    "    def fit_transform(self, X, y=None):\n",
    "        return self.fit(X).transform(X)"
   ]
  },
  {
   "cell_type": "markdown",
   "metadata": {},
   "source": [
    "# Read filtered Dataset"
   ]
  },
  {
   "cell_type": "code",
   "execution_count": 4,
   "metadata": {},
   "outputs": [],
   "source": [
    "totalData = pd.read_csv('../datasets/nela10.csv')"
   ]
  },
  {
   "cell_type": "markdown",
   "metadata": {},
   "source": [
    "# How it looks like?\n"
   ]
  },
  {
   "cell_type": "code",
   "execution_count": 5,
   "metadata": {},
   "outputs": [
    {
     "data": {
      "text/html": [
       "<div>\n",
       "<style scoped>\n",
       "    .dataframe tbody tr th:only-of-type {\n",
       "        vertical-align: middle;\n",
       "    }\n",
       "\n",
       "    .dataframe tbody tr th {\n",
       "        vertical-align: top;\n",
       "    }\n",
       "\n",
       "    .dataframe thead th {\n",
       "        text-align: right;\n",
       "    }\n",
       "</style>\n",
       "<table border=\"1\" class=\"dataframe\">\n",
       "  <thead>\n",
       "    <tr style=\"text-align: right;\">\n",
       "      <th></th>\n",
       "      <th>id</th>\n",
       "      <th>date</th>\n",
       "      <th>source</th>\n",
       "      <th>title</th>\n",
       "      <th>content</th>\n",
       "      <th>author</th>\n",
       "      <th>url</th>\n",
       "      <th>published</th>\n",
       "      <th>published_utc</th>\n",
       "      <th>collection_utc</th>\n",
       "      <th>Reliability</th>\n",
       "    </tr>\n",
       "  </thead>\n",
       "  <tbody>\n",
       "    <tr>\n",
       "      <th>0</th>\n",
       "      <td>abcnews--2019-01-30--Who is Stacey Abrams the ...</td>\n",
       "      <td>2019-01-30</td>\n",
       "      <td>abcnews</td>\n",
       "      <td>Who is Stacey Abrams, the Democrat who will re...</td>\n",
       "      <td>Last November, Stacey Abrams, a Democrat who r...</td>\n",
       "      <td>Cheyenne Haslett</td>\n",
       "      <td>https://abcnews.go.com/Politics/stacey-abrams-...</td>\n",
       "      <td>2019-01-30 19:10:47+00:00</td>\n",
       "      <td>1548893447</td>\n",
       "      <td>1567550233</td>\n",
       "      <td>0</td>\n",
       "    </tr>\n",
       "    <tr>\n",
       "      <th>1</th>\n",
       "      <td>abcnews--2019-01-30--Ban government shutdowns ...</td>\n",
       "      <td>2019-01-30</td>\n",
       "      <td>abcnews</td>\n",
       "      <td>Ban government shutdowns? Some Republicans and...</td>\n",
       "      <td>As lawmakers scramble to negotiate a border se...</td>\n",
       "      <td>Benjamin Siegel,\\nTrish Turner\\n</td>\n",
       "      <td>https://abcnews.go.com/Politics/ban-government...</td>\n",
       "      <td>2019-01-30 17:29:04+00:00</td>\n",
       "      <td>1548887344</td>\n",
       "      <td>1567550233</td>\n",
       "      <td>0</td>\n",
       "    </tr>\n",
       "    <tr>\n",
       "      <th>2</th>\n",
       "      <td>abcnews--2019-01-30--Democrats renew push for ...</td>\n",
       "      <td>2019-01-30</td>\n",
       "      <td>abcnews</td>\n",
       "      <td>Democrats renew push for equal pay for equal work</td>\n",
       "      <td>Ten years after President Barack Obama signed ...</td>\n",
       "      <td>John Parkinson</td>\n",
       "      <td>https://abcnews.go.com/Politics/dems-renew-pus...</td>\n",
       "      <td>2019-01-30 21:35:45+00:00</td>\n",
       "      <td>1548902145</td>\n",
       "      <td>1567550233</td>\n",
       "      <td>0</td>\n",
       "    </tr>\n",
       "    <tr>\n",
       "      <th>3</th>\n",
       "      <td>abcnews--2019-01-30--Trump attacks intel chief...</td>\n",
       "      <td>2019-01-30</td>\n",
       "      <td>abcnews</td>\n",
       "      <td>Trump attacks intel chiefs after they contradi...</td>\n",
       "      <td>President Donald Trump on Wednesday declared \"...</td>\n",
       "      <td>Meridith Mcgraw</td>\n",
       "      <td>https://abcnews.go.com/Politics/trump-attacks-...</td>\n",
       "      <td>2019-01-30 17:03:40+00:00</td>\n",
       "      <td>1548885820</td>\n",
       "      <td>1567550233</td>\n",
       "      <td>0</td>\n",
       "    </tr>\n",
       "    <tr>\n",
       "      <th>4</th>\n",
       "      <td>abcnews--2019-01-30--Border security battle be...</td>\n",
       "      <td>2019-01-30</td>\n",
       "      <td>abcnews</td>\n",
       "      <td>Border security battle begins as Congress grap...</td>\n",
       "      <td>Republicans and Democrats on the exclusive com...</td>\n",
       "      <td>John Parkinson,\\nBenjamin Siegel\\n</td>\n",
       "      <td>https://abcnews.go.com/Politics/border-securit...</td>\n",
       "      <td>2019-01-30 15:09:47+00:00</td>\n",
       "      <td>1548878987</td>\n",
       "      <td>1567550233</td>\n",
       "      <td>0</td>\n",
       "    </tr>\n",
       "    <tr>\n",
       "      <th>...</th>\n",
       "      <td>...</td>\n",
       "      <td>...</td>\n",
       "      <td>...</td>\n",
       "      <td>...</td>\n",
       "      <td>...</td>\n",
       "      <td>...</td>\n",
       "      <td>...</td>\n",
       "      <td>...</td>\n",
       "      <td>...</td>\n",
       "      <td>...</td>\n",
       "      <td>...</td>\n",
       "    </tr>\n",
       "    <tr>\n",
       "      <th>57152</th>\n",
       "      <td>zerohedge--2019-11-01--Hong Kong Officer Faces...</td>\n",
       "      <td>2019-11-01</td>\n",
       "      <td>zerohedge</td>\n",
       "      <td>Hong Kong Officer Faces Death Threats After Fi...</td>\n",
       "      <td>It's unclear exactly when it happened (the BBG...</td>\n",
       "      <td>Tyler Durden</td>\n",
       "      <td>http://feedproxy.google.com/~r/zerohedge/feed/...</td>\n",
       "      <td>Fri, 01 Nov 2019 22:45:00 +0000</td>\n",
       "      <td>1572662700</td>\n",
       "      <td>1572648625</td>\n",
       "      <td>2</td>\n",
       "    </tr>\n",
       "    <tr>\n",
       "      <th>57153</th>\n",
       "      <td>zerohedge--2019-11-01--Enough \"Quid Pro Quo\" G...</td>\n",
       "      <td>2019-11-01</td>\n",
       "      <td>zerohedge</td>\n",
       "      <td>Enough \"Quid Pro Quo\" Gaslighting!</td>\n",
       "      <td>Horse trading is the oxygen of politics; it is...</td>\n",
       "      <td>Tyler Durden</td>\n",
       "      <td>http://feedproxy.google.com/~r/zerohedge/feed/...</td>\n",
       "      <td>Fri, 01 Nov 2019 22:25:00 +0000</td>\n",
       "      <td>1572661500</td>\n",
       "      <td>1572648625</td>\n",
       "      <td>2</td>\n",
       "    </tr>\n",
       "    <tr>\n",
       "      <th>57154</th>\n",
       "      <td>zerohedge--2019-11-01--\"Born For This? I Don't...</td>\n",
       "      <td>2019-11-01</td>\n",
       "      <td>zerohedge</td>\n",
       "      <td>\"Born For This? I Don't Think So\" - Trump Mock...</td>\n",
       "      <td>Having plunged from over 10% to just 1% in the...</td>\n",
       "      <td>Tyler Durden</td>\n",
       "      <td>http://feedproxy.google.com/~r/zerohedge/feed/...</td>\n",
       "      <td>Fri, 01 Nov 2019 21:56:35 +0000</td>\n",
       "      <td>1572659795</td>\n",
       "      <td>1572648626</td>\n",
       "      <td>2</td>\n",
       "    </tr>\n",
       "    <tr>\n",
       "      <th>57155</th>\n",
       "      <td>zerohedge--2019-11-01--How Iran Used Google To...</td>\n",
       "      <td>2019-11-01</td>\n",
       "      <td>zerohedge</td>\n",
       "      <td>How Iran Used Google To Disrupt 5% Of Global O...</td>\n",
       "      <td>Officials at Saudi Aramco believe that Iran us...</td>\n",
       "      <td>Tyler Durden</td>\n",
       "      <td>http://feedproxy.google.com/~r/zerohedge/feed/...</td>\n",
       "      <td>Fri, 01 Nov 2019 21:45:00 +0000</td>\n",
       "      <td>1572659100</td>\n",
       "      <td>1572648627</td>\n",
       "      <td>2</td>\n",
       "    </tr>\n",
       "    <tr>\n",
       "      <th>57156</th>\n",
       "      <td>zerohedge--2019-11-01--Malaysia Rejects Goldma...</td>\n",
       "      <td>2019-11-01</td>\n",
       "      <td>zerohedge</td>\n",
       "      <td>Malaysia Rejects Goldman's Offer Of \"Less Than...</td>\n",
       "      <td>In an interview with the Financial Times, Mala...</td>\n",
       "      <td>Tyler Durden</td>\n",
       "      <td>http://feedproxy.google.com/~r/zerohedge/feed/...</td>\n",
       "      <td>Fri, 01 Nov 2019 21:25:00 +0000</td>\n",
       "      <td>1572657900</td>\n",
       "      <td>1572648625</td>\n",
       "      <td>2</td>\n",
       "    </tr>\n",
       "  </tbody>\n",
       "</table>\n",
       "<p>57157 rows × 11 columns</p>\n",
       "</div>"
      ],
      "text/plain": [
       "                                                      id        date  \\\n",
       "0      abcnews--2019-01-30--Who is Stacey Abrams the ...  2019-01-30   \n",
       "1      abcnews--2019-01-30--Ban government shutdowns ...  2019-01-30   \n",
       "2      abcnews--2019-01-30--Democrats renew push for ...  2019-01-30   \n",
       "3      abcnews--2019-01-30--Trump attacks intel chief...  2019-01-30   \n",
       "4      abcnews--2019-01-30--Border security battle be...  2019-01-30   \n",
       "...                                                  ...         ...   \n",
       "57152  zerohedge--2019-11-01--Hong Kong Officer Faces...  2019-11-01   \n",
       "57153  zerohedge--2019-11-01--Enough \"Quid Pro Quo\" G...  2019-11-01   \n",
       "57154  zerohedge--2019-11-01--\"Born For This? I Don't...  2019-11-01   \n",
       "57155  zerohedge--2019-11-01--How Iran Used Google To...  2019-11-01   \n",
       "57156  zerohedge--2019-11-01--Malaysia Rejects Goldma...  2019-11-01   \n",
       "\n",
       "          source                                              title  \\\n",
       "0        abcnews  Who is Stacey Abrams, the Democrat who will re...   \n",
       "1        abcnews  Ban government shutdowns? Some Republicans and...   \n",
       "2        abcnews  Democrats renew push for equal pay for equal work   \n",
       "3        abcnews  Trump attacks intel chiefs after they contradi...   \n",
       "4        abcnews  Border security battle begins as Congress grap...   \n",
       "...          ...                                                ...   \n",
       "57152  zerohedge  Hong Kong Officer Faces Death Threats After Fi...   \n",
       "57153  zerohedge                 Enough \"Quid Pro Quo\" Gaslighting!   \n",
       "57154  zerohedge  \"Born For This? I Don't Think So\" - Trump Mock...   \n",
       "57155  zerohedge  How Iran Used Google To Disrupt 5% Of Global O...   \n",
       "57156  zerohedge  Malaysia Rejects Goldman's Offer Of \"Less Than...   \n",
       "\n",
       "                                                 content  \\\n",
       "0      Last November, Stacey Abrams, a Democrat who r...   \n",
       "1      As lawmakers scramble to negotiate a border se...   \n",
       "2      Ten years after President Barack Obama signed ...   \n",
       "3      President Donald Trump on Wednesday declared \"...   \n",
       "4      Republicans and Democrats on the exclusive com...   \n",
       "...                                                  ...   \n",
       "57152  It's unclear exactly when it happened (the BBG...   \n",
       "57153  Horse trading is the oxygen of politics; it is...   \n",
       "57154  Having plunged from over 10% to just 1% in the...   \n",
       "57155  Officials at Saudi Aramco believe that Iran us...   \n",
       "57156  In an interview with the Financial Times, Mala...   \n",
       "\n",
       "                                   author  \\\n",
       "0                        Cheyenne Haslett   \n",
       "1        Benjamin Siegel,\\nTrish Turner\\n   \n",
       "2                          John Parkinson   \n",
       "3                         Meridith Mcgraw   \n",
       "4      John Parkinson,\\nBenjamin Siegel\\n   \n",
       "...                                   ...   \n",
       "57152                        Tyler Durden   \n",
       "57153                        Tyler Durden   \n",
       "57154                        Tyler Durden   \n",
       "57155                        Tyler Durden   \n",
       "57156                        Tyler Durden   \n",
       "\n",
       "                                                     url  \\\n",
       "0      https://abcnews.go.com/Politics/stacey-abrams-...   \n",
       "1      https://abcnews.go.com/Politics/ban-government...   \n",
       "2      https://abcnews.go.com/Politics/dems-renew-pus...   \n",
       "3      https://abcnews.go.com/Politics/trump-attacks-...   \n",
       "4      https://abcnews.go.com/Politics/border-securit...   \n",
       "...                                                  ...   \n",
       "57152  http://feedproxy.google.com/~r/zerohedge/feed/...   \n",
       "57153  http://feedproxy.google.com/~r/zerohedge/feed/...   \n",
       "57154  http://feedproxy.google.com/~r/zerohedge/feed/...   \n",
       "57155  http://feedproxy.google.com/~r/zerohedge/feed/...   \n",
       "57156  http://feedproxy.google.com/~r/zerohedge/feed/...   \n",
       "\n",
       "                             published  published_utc  collection_utc  \\\n",
       "0            2019-01-30 19:10:47+00:00     1548893447      1567550233   \n",
       "1            2019-01-30 17:29:04+00:00     1548887344      1567550233   \n",
       "2            2019-01-30 21:35:45+00:00     1548902145      1567550233   \n",
       "3            2019-01-30 17:03:40+00:00     1548885820      1567550233   \n",
       "4            2019-01-30 15:09:47+00:00     1548878987      1567550233   \n",
       "...                                ...            ...             ...   \n",
       "57152  Fri, 01 Nov 2019 22:45:00 +0000     1572662700      1572648625   \n",
       "57153  Fri, 01 Nov 2019 22:25:00 +0000     1572661500      1572648625   \n",
       "57154  Fri, 01 Nov 2019 21:56:35 +0000     1572659795      1572648626   \n",
       "57155  Fri, 01 Nov 2019 21:45:00 +0000     1572659100      1572648627   \n",
       "57156  Fri, 01 Nov 2019 21:25:00 +0000     1572657900      1572648625   \n",
       "\n",
       "       Reliability  \n",
       "0                0  \n",
       "1                0  \n",
       "2                0  \n",
       "3                0  \n",
       "4                0  \n",
       "...            ...  \n",
       "57152            2  \n",
       "57153            2  \n",
       "57154            2  \n",
       "57155            2  \n",
       "57156            2  \n",
       "\n",
       "[57157 rows x 11 columns]"
      ]
     },
     "execution_count": 5,
     "metadata": {},
     "output_type": "execute_result"
    }
   ],
   "source": [
    "totalData"
   ]
  },
  {
   "cell_type": "markdown",
   "metadata": {},
   "source": [
    "# Keep only content, Reliability as columns"
   ]
  },
  {
   "cell_type": "code",
   "execution_count": 6,
   "metadata": {},
   "outputs": [],
   "source": [
    "#Keep only content, Reliability as columns\n",
    "totalData = totalData.drop(['id','date','source','title','author','url','published','published_utc','collection_utc'],axis=1)"
   ]
  },
  {
   "cell_type": "code",
   "execution_count": 7,
   "metadata": {},
   "outputs": [
    {
     "data": {
      "text/plain": [
       "0    44582\n",
       "2    12575\n",
       "Name: Reliability, dtype: int64"
      ]
     },
     "execution_count": 7,
     "metadata": {},
     "output_type": "execute_result"
    }
   ],
   "source": [
    "totalData['Reliability'].value_counts()"
   ]
  },
  {
   "cell_type": "markdown",
   "metadata": {},
   "source": [
    "# Cleaning dataset"
   ]
  },
  {
   "cell_type": "code",
   "execution_count": 8,
   "metadata": {},
   "outputs": [],
   "source": [
    "totalData = totalData.reset_index(drop=True)\n",
    "REPLACE_BY_SPACE_RE = re.compile('[/(){}\\[\\]\\|@,;]')\n",
    "BAD_SYMBOLS_RE = re.compile('[^0-9a-z #+_]')\n",
    "STOPWORDS = []\n",
    "\n",
    "def clean_text(text):\n",
    "    \"\"\"\n",
    "        text: a string\n",
    "        \n",
    "        return: modified initial string\n",
    "    \"\"\"\n",
    "    text = text.lower() # lowercase text\n",
    "    text = REPLACE_BY_SPACE_RE.sub(' ', text) # replace REPLACE_BY_SPACE_RE symbols by space in text. substitute the matched string in REPLACE_BY_SPACE_RE with space.\n",
    "    text = BAD_SYMBOLS_RE.sub('', text) # remove symbols which are in BAD_SYMBOLS_RE from text. substitute the matched string in BAD_SYMBOLS_RE with nothing. \n",
    "#    text = re.sub(r'\\W+', '', text)\n",
    "    text = ' '.join(word for word in text.split() if word not in STOPWORDS) # remove stopwors from text\n",
    "    return text\n",
    "totalData.content = totalData.content.apply(clean_text)\n",
    "totalData.content = totalData.content.str.replace('\\d+', '')"
   ]
  },
  {
   "cell_type": "code",
   "execution_count": 9,
   "metadata": {},
   "outputs": [
    {
     "data": {
      "text/html": [
       "<div>\n",
       "<style scoped>\n",
       "    .dataframe tbody tr th:only-of-type {\n",
       "        vertical-align: middle;\n",
       "    }\n",
       "\n",
       "    .dataframe tbody tr th {\n",
       "        vertical-align: top;\n",
       "    }\n",
       "\n",
       "    .dataframe thead th {\n",
       "        text-align: right;\n",
       "    }\n",
       "</style>\n",
       "<table border=\"1\" class=\"dataframe\">\n",
       "  <thead>\n",
       "    <tr style=\"text-align: right;\">\n",
       "      <th></th>\n",
       "      <th>content</th>\n",
       "      <th>Reliability</th>\n",
       "    </tr>\n",
       "  </thead>\n",
       "  <tbody>\n",
       "    <tr>\n",
       "      <th>4014</th>\n",
       "      <td>the use of bailiffs to pursue drivers for unpa...</td>\n",
       "      <td>0</td>\n",
       "    </tr>\n",
       "    <tr>\n",
       "      <th>18625</th>\n",
       "      <td>pakistans supreme court is due to decide on ja...</td>\n",
       "      <td>0</td>\n",
       "    </tr>\n",
       "    <tr>\n",
       "      <th>26496</th>\n",
       "      <td>if youve ever had misgivings about yoga adam f...</td>\n",
       "      <td>0</td>\n",
       "    </tr>\n",
       "    <tr>\n",
       "      <th>54528</th>\n",
       "      <td>this is what the liberal media thinks of ameri...</td>\n",
       "      <td>2</td>\n",
       "    </tr>\n",
       "    <tr>\n",
       "      <th>45274</th>\n",
       "      <td>as the world waits to see what the mueller inv...</td>\n",
       "      <td>2</td>\n",
       "    </tr>\n",
       "  </tbody>\n",
       "</table>\n",
       "</div>"
      ],
      "text/plain": [
       "                                                 content  Reliability\n",
       "4014   the use of bailiffs to pursue drivers for unpa...            0\n",
       "18625  pakistans supreme court is due to decide on ja...            0\n",
       "26496  if youve ever had misgivings about yoga adam f...            0\n",
       "54528  this is what the liberal media thinks of ameri...            2\n",
       "45274  as the world waits to see what the mueller inv...            2"
      ]
     },
     "execution_count": 9,
     "metadata": {},
     "output_type": "execute_result"
    }
   ],
   "source": [
    "totalData.sample(5)"
   ]
  },
  {
   "cell_type": "code",
   "execution_count": 10,
   "metadata": {},
   "outputs": [],
   "source": [
    "X = totalData[['content']].to_numpy() #News content\n",
    "Y = totalData[['Reliability']].to_numpy() #Labels"
   ]
  },
  {
   "cell_type": "code",
   "execution_count": 10,
   "metadata": {},
   "outputs": [
    {
     "data": {
      "text/plain": [
       "array([['last november stacey abrams a democrat who ran for governor of georgia came close to becoming the first black woman to lead a state in us history and when democrats announced she would take on the challenging task of rebutting president donald trumps state of the union address on feb  she once again came into the national spotlightabrams grew up in mississippi the daughter of a college librarian and a shipyard worker they eventually decided to become united methodist ministers picking up and moving the family of eight to georgia abramss family wasnt well off but she went on to build an impressive resume including degrees from spellman university and yale law schoolmy mom likes to call it the genteel poor we had no money but we watched pbs and we read books said abrams in an interview with abc news in january  they really believed that where we started out was not going to dictate where we ended upabrams rose through the political ranks eventually becoming minority leader in the georgia house of representatives she was the first woman ever to lead a party in the georgia statehouse but also the first woman to lead a party in the history of the stateyou dont have role models who show you how to do it abrams said in the same  interview and theres an internal dynamic that ive seen among women that doesnt seem to exist among men where we believe we have to be experts before we stand for office men wake up some of them and look in the mirror and think im attractive i should be in charge of somethingalong the way she launched an effort called the new georgia project with a goal of registering tens of thousands of new voters that abrams said could make all the difference for democrats in a state with six million voters fair voter registration has been a theme of her career and was a central tenet in the battle for the georgia governors race in how the inroads made in georgia governors race set her apartabrams stepped down from her role in the statehouse to run for governor in the  midterm cycle though she lost she ran a race so close it was in limbo for days after the election as votes continued to come in her opponent now gov brian kemp rgeorgia won with  percent of the voteabrams who has said she will run for office again but not specified for what role will be the first in recent years to give a state of the union rebuttal speech without holding elected office with the exception of former gov steve beshear a kentucky democrat who did so in that abrams ran such a tight race was more impressive given that republicans have held the georgia governors mansion since  a woman has never been elected governor there and never before in us history has an african american woman been elected governor of any statedemocratic leaders credited her with leaving a playbook for the party in the trump era abrams saw endorsements from top democrats like former presidential candidate hillary clinton sen kamala harris dcalifornia and sen bernie sanders ivermont plus oprah winfrey showed up to help her door knockas a daughter of the south im very proud of stacey abrams the kind of campaign that shes run said former interim chair of the democratic national committee donna brazile on this week in november before the election stacey abrams understood that in order to win you had to bring a new energy in the party and shes done thata runoff election was narrowly avoided in the days after the election but led to a broader conversation on voting rights kemp who served as secretary of state for georgia until two days after election day was accused by abrams and others of purging voter records and suppressing votesto watch an elected official who claims to represent the people in the state baldly pin his hopes for election on suppression of the peoples democratic right to vote has been truly appalling said abrams in her eventual concession speech on nov abrams subsequently launched fair fight georgia a legal organization to pursue accountability in georgias elections and integrity in the process of maintaining our voting rolls according to a release from her gubernatorial campaignsenate minority leader chuck schumer who announced abrams as candidate for the rebuttal on tuesday said she has led the charge for voting rights which is at the root of just about everything elseschumer also called abrams a great spokesperson and an incredible leader who knows what working people go through'],\n",
       "       ['as lawmakers scramble to negotiate a border security compromise after the longest government shutdown in american history some republicans and democrats from freshmen to the most veteran legislators agree on one thing they dont want another onethats led to a flurry of bills aimed at outlawing government shutdowns amid concerns that a president at odds with congress could use the tactic capriciously at the expense of closing the government and hurting hundreds of thousands of federal workerssome are pushing to have such a measure added to any funding compromise this month something that would surely be seen as a rebuke to president trump who has threatened another shutdown in just about two weeks when temporary partial government funding is set to run out once moreone proposal gaining the most momentum comes from sen rob portman the ohio republican introduced the end government shutdowns act earlier this year it was the fifth time hes tried to permanently prevent government shutdowns but this time around portman has garnered  cosponsors just among his gop colleagues with democrats clamoring to sign on as well according to a portman spokesman perhaps most notably two of the four gop negotiators tapped to hammer out a government funding compromise by feb  have signed on to portmans effortunder portmans bill if congress fails to pass any of the  appropriations bills that fund the government each year the measure would create an automatic continuing resolution or stopgap funding bill which would fund the government at the previous years levels to motivate congressional action it would also continually reduce federal spending levels with acrosstheboard cuts while any budget impasse dragged onsen mark warner a virginia democrat whose constituents in the washington suburbs acutely felt the impact of the latest funding standoff introduced the stop stupidity act which would fund all aspects of the government except the executive office of the president and congress in the event of another shutdown to address any constitutional concerns a warner aide tells abc news that the bill formally called the shutdowns transferring unnecessary pain and inflicting damage in the coming years act would apply only to future congressesthis isnt just about us being stubborn about the wall this is really about protecting the institution and protecting those federal employees from constantly being held hostage rep gerry connolly another virginia democrat who supports aspects of warners proposal told abc newsand the virginia senators effort has the imprimatur of gop leadershiphouse minority leader kevin mccarthy rcalif gave a fullthroated endorsement of warners effort on sunday in an nbc interviewyou want to know how youll never have a shutdown again lets not pay the members of congress and senate mccarthy saidmeanwhile house speaker nancy pelosi dcalif a former appropriator put her considerable political influence behind a  proposal introduced by former rep dale kildee during a meeting with columnists last week to extend funding at previous levels until some sort of deal is reachedwe have to subject it to all the timing scrutiny and the rest of that but and what that bill said is any appropriation bill that does not get agreed upon in a timely fashion by the date you automatically are going to a cr until you do come to a conclusion she saidboth democratic and republican senate leaders while not endorsing a particular bill did say tuesday that they are behind the effort more generallythere certainly would be no education in the third kick of the mule mitch mcconnell rky said of shuttering the government i dont like shutdowns i dont think they work for anybody and i hope they will be avoided id be open to anything that we could agree on on a bipartisan basis that would make them pretty hard to occur againnew york sen chuck schumer the democratic leader told reporters we democrats want to negotiate in good faith and come to an agreement sothat the shutdown ends and then we look at other legislation so that we wouldnt have future shutdownsalso on tuesday a group of freshman house democrats introduced the shutdown to end all shutdowns act which in addition to funding the government at current levels during a shutdown would prohibit the use of federal funds for lawmaker travel and require congress to keep the floor open for business while also putting similar limitations on the use of federal funds by the white house and the administration except in cases of emergencythe bill from the freshmen including members who voluntarily gave up pay during the shutdown would also suspend wages for lawmakers and not hold it in escrow in the event of another shutdownbut despite the momentum behind these approaches they face resistance from some senior members of congress including the congressional appropriators who craft the spending bills directing billions of dollars in federal spending each year as part of capitol hills zealouslyguarded constitutional authority over federal spending and revenuescongress ought to do its job house majority leader steny hoyer dmd told reporters repeatedly dodging questions about what he might support saying he was reticent about proposals that would automatically fund the government in the event of negotiations breaking downim a little nervous about it rep hal rogers a kentucky republican and a senior member and former chairman of the house appropriations committee told abc news it would interfere with the appropriations process and would put an emphasis on not passing billssarah binder a political scientist at the brookings institution noted that republicans and not democrats would appear to benefit more from a proposal that would keep federal spending levels downi was a little surprised given that these automatic crs continuing resolutions arent great for democrats and proponents of increasing spending on domestic programs she said if democrats come to the table its because theyre worried about the president using this tactic again'],\n",
       "       ['ten years after president barack obama signed the lily ledbetter fair pay act into law house democrats rallied to renew the push towards equal pay for equal work stressing that while there has been progress towards pay equality women still earn just  cents to the dollar a man makes for the same workhouse speaker nancy pelosi says every member of her caucus signed onto an effort reintroducing the paycheck fairness act and with the partial government shutdown finally over her new majority is pressing on with its agendaits really important to know this is part of a fuller agenda of paid sick leave and access to quality affordable child care to make women in the workplace have the opportunities that we all should pelosi dcalif saidledbetter the plaintiff in a landmark employment discrimination case was onhand to mark the occasion and urged congress to step up againim here because equal pay for equal work is an american value ledbetter said and its time that we have american realitywomen who work full time in the united states are paid on average  percent of what men are paid according to a  study by the american association of university women an advocacy group that promotes equity and education for women and girls the analysis also found that disparities are even sharper among latinas at  percent and black women at  percent and range by state from a low of  percent in louisiana and utah to a high of  percent in new yorkthe political firepower that democratic women possess heading into the  presidential campaign continues to grow with a record number of women expected to seek the democratic nomination coupled with a record  women serving in congress though there is still a majority of white men serving in congress a recent abc news washington post poll found that nearly twothirds of women say they have already ruled out voting for president donald trump in ten years ago women earned just  cents to each dollar a man earned at the same jobthe bill designated as hr  would end socalled pay secrecy easing workers ability to individually or jointly challenge pay discrimination and strengthening the available remedies for wronged employees according to the bills sponsorsfreshman democrat alexandria ocasiocortez said that by prioritizing pay equality the caucus is sending a powerful message that says women matter that people of all gender identities should be treated equallywhether its a postit note that you discover in your managers office or whether its a google doc that you hide from your boss we implicitly recognize as women that the pay gap and wage gap is an injustice that persists through secrecy and its an injustice that persists to the present day ocasiocortez dny said we cannot ask for salary history and pay people depending on their salary history anymore because it is time that we pay people what they are worth and not how little they are desperate enough to accepthouse majority leader steny hoyer proclaimed that he backs the legislation not only to represent his three daughters three granddaughters and two greatgranddaughters but also stand for men who rely for their daily wellbeing on wages of their wives of their moms of their partnersthis is not just about women its about families and what america stands for hoyer dmd said it is the work that is performed it is the content of character the content of performance that ought to be the criteria not genderhoyer added that the issue is as much an economic issue as it is a social justice issue and pledged to schedule a vote on the bill soonwith democrats now the majority in the house we will be advancing legislation hoyer promised i bring bills to the floor this bill is coming the floor its coming to the floor soon and were going to pass itthe bill has  cosponsors in the house including every democrat and one republican and there are  democratic cosponsors on companion legislation in the senate led by sen patty murray of washington'],\n",
       "       ...,\n",
       "       ['having plunged from over  to just  in the predictit betting former texas congressman and failed texas senate seat contender beto orourke is dropping out of the race to become the democratic partys next presidential candidatequite a collapse since he entered the  primary in the middle of march with the aura of a celebrity cheered by rankandfile democrats to being among the lowest polling of the many candidates even after very strong fundraising efforts early onthe new york times reports that mr orourke made the decision to quit the race in the middle of this week on the eve of a gathering friday of democratic presidential candidates in iowa according to people familiar with his thinking he is not expected to run for any other office in  despite persistent efforts by party leaders and political donors to coax him into another bid for the senatea spokesman to mr orourke reiterated that stance on fridayhis campaign has been under extreme financial strain and mr orourkes advisers concluded that proceeding in the race might have meant making deep cuts to his staff in order to pay for advertising and other measures to compete in the early primary and caucus statewhat will the media do now that their oncefavorite is gonebut in a recent interview with politico mr orourke said that if he did not prevail in the  presidential primary he would not become a candidate againour campaign has been about seeing clearly speaking honestly and acting decisively in the best interests of america though it is difficult to accept it is clear to me now that this campaign does not have the means to move forward successfully my service to the country will not be as a candidate or as the nominee acknowledging this now is in the best interests of those in the campaign it is in the best interests of this party as we seek to unify around a nominee and it is in the best interests of the country i decided to run for president because i believed that i could help bring a divided country together in common cause to confront the greatest set of challenges weve ever faced i also knew that the most fundamental of them is fear the fear that donald trump wants us to feel about one another the very real fear that too many in this country live under and the fear we sometimes feel when it comes to doing the right thing especially when it runs counter to what is politically convenient or popular i knew and i still know that we can reject and overcome these fears and choose to instead be defined by our ambitions and our ability to achieve them i knew that we would have to be unafraid in how we ran the campaign wed have to run with nothing to lose and i knew that our success would depend not on pacs or corporations but upon the grassroots volunteers and supporters from everywhere especially from those places that had been overlooked or taken for granted we should be proud of what we fought for and what we were able to achieve together we were able to help change what is possible when it comes to the policies that we care about and the country we want to serve we released the first comprehensive plan to confront climate change of any of the presidential candidates we took the boldest approach to gun safety in american history we confronted institutional systemic racism and called out donald trump for his white supremacy and the violence that hes encouraged against communities that dont look like pray like or love like the majority in this country and we were one of the first to reject all pac money corporate contributions special interest donations and lobbyist help we proposed an economic program that focused on both equality and equity and would give every american the certainty that one job would be enough and a healthcare plan that would guarantee that every one of us is well enough to live to our full potential we knew the only way our country would live up to its promise is if everyone could stand up to be counted we released the most ambitious voter registration and voting rights plan one that would bring  million new voters into our democracy and remove barriers for those whove been silenced because of their race ethnicity or the fact that they live with a disability we spoke with pride about el paso and communities of immigrants we elevated the plight and the promise of refugees and asylum seekers and we proposed nothing short of rewriting this countrys immigration laws in our own image to forever free from fear more than  million of our fellow americans who should be able to contribute even more to our shared success and at this moment of truth for our country we laid bare the cost and consequence of donald trump the rise in hate crimes the terror attack in el paso the perversion of the constitution the diminished standing of the united states around the world but we also made clear the common responsibility to confront him to hold him accountable and ensure that he does not serve another term in office committing ourselves to this task not as democrats or republicans but as americans first before we are anything else i am grateful to each one of you and to all the people who made up the heart and soul of this campaign you were among the hundreds of thousands of our fellow americans who made a donation signed up to volunteer or spread the word about this campaign and our opportunity to help decide the election of our lifetime you have been with me from the beginning through it all i know that you did it not for me personally not for the democratic party but for our country at this defining moment though today we are suspending this campaign let us each continue our commitment to the country in whatever capacity we can let us continue to fearlessly champion the issues and causes that brought us together whether it is ending the epidemic of gun violence or dismantling structural racism or successfully confronting climate change before it is too late we will continue to organize and mobilize and act in the best interests of america we will work to ensure that the democratic nominee is successful in defeating donald trump in  i can tell you firsthand from having the chance to know the candidates we will be well served by any one of them and im going to be proud to support whoever that nominee is and proud to call them president in january  because they will win we must support them in the race against donald trump and support them in their administration afterwards do all that we can to help them heal a wounded country and bring us together in meeting the greatest set of challenges we have ever known im confident i will see you down the road and i look forward to that day thank you for making this campaign possible and for continuing to believe that we can turn this moment of great peril into a moment of great promise for america and the world with you always and forever gratefulmaybe a little more spanishspeaking a little more gungrabbing a few more dentist appointment videos and a little more swearing would have done the job hey you know what they say rd times the charm just ask hillary'],\n",
       "       ['officials at saudi aramco believe that iran used satellite maps from google maps to precisely attack the oil facilities in saudi arabia in the middle of september a us senator who visited the kingdom after the attacks said raising concerns that no energy infrastructure is safejoe manchin senator for west virginia visited saudi aramco facilities two weeks after the attacks the us senator spoke to aramco officials and shared part of his conversation during the north american infrastructure leadership forum in washington as carried by the washington examineron september  the abqaiq facility and the khurais oil field in saudi arabia were hit by attacks which resulted in the temporary suspension of  million bpd of saudi arabias crude oil production or around  percent of global daily oil supplyus president donald trump secretary of state mike pompeo and energy secretary rick perry all blamed iran for the attack saudi arabia has also pointed the finger at iransenator manchin was shown a video of the missile attacks in saudi arabia he said at the forumthe senator asked a saudi aramco official whether the oil giant is concerned about someone working at the facility getting the information or the coordinates of possible strikes to hostile actorsthe revelation that clear images on google maps can help terrorists target oil and gas facilities had senator manchin worried about the state of the us energy infrastructure especially natural gas pipelinesan attack on a single natural gas pipeline in the united states could lead to mass blackouts neil chatterjee chairman of the federal energy regulatory commission ferc said last month discussing americas energy infrastructure in the aftermath of the attacks in saudi arabia'],\n",
       "       ['in an interview with the financial times malaysian prime minister mahathir mohamad said hes not ready to kneel down and accept goldman sachss first offer in its attempt to settle a civil case stemming from the banks involvement in the mdb scandal one of the biggest financial frauds to rock the region in modern historyas was rumored in earlier reports goldman offered malaysia less than  billion to settle the suit in a series of three bond offerings goldman raised  billion for mdb a sovereign wealth fund that was supposed to finance major public works projects across malaysiabut the money never made it that fara group of senior government officials including former prime minister najib razak led by shadowy financier jho low looted billions from mdb and hid it from the people of malaysia how much did they take the doj put the number at  billion malaysia believes its closer to  billionmohamad said that malaysias negotiators led by ag tommy thomas are still talking with goldmanand hes not stopping there mohamad said malaysia has also reached out to db and ubs over their involvement with mdb as it strives to work with whatever banks it can to recoup any money stolen from mdb db has also found itself caught up in the criminal end of the scandal malaysia is investigating the recidivist german lender over whether it violated aml statutes while raising  billion for mdb back in  a deal that came after offerings underwritten by goldman ubs has been reprimanded by the swiss government over transactions related to mdb that the bank helped facilitategoldman earned more than  million in fees from the mdb deal and malaysia has made it clear that it wants every cent of that money returnedbut us prosecutors have already seized billions of dollars in assets pertaining to the case on thursday reports emerged claiming that low now a fugitive believed to be hiding in china under the communist partys protection has settled a flurry of civil suits with the doj agreeing to hand over more than  million mohamad said malaysia isnt in contact with low who admitted no guilt in his deal with the us malaysia doesnt know where low is hes not staying in any one placethe amount mr low embezzled from mdb is much bigger said mr mahathir if he had the full amount we would be very happywe are still going after the rest of the money the doj has indicated that if we can prove claim of ownership then we will be able to get the money for ourselvesgoldmans strong earnings over the past two quarters have helped ease investors worries about mdb and the scandal has largely faded into the background since late last year when revelations that senior goldman execs including lloyd blankfein had personally intervened to greenlight the mdb deals despite numerous red flags from compliance but we imagine that many insiders are waiting for the next shoe to drop right now prosecutors have the leverage goldman just might get stuck paying the bulk of malaysias askboth malaysia and the us have accused senior goldman bankers of bribing corrupt malaysian politicians to secure the bond deal business for the bank']],\n",
       "      dtype=object)"
      ]
     },
     "execution_count": 10,
     "metadata": {},
     "output_type": "execute_result"
    }
   ],
   "source": [
    "X"
   ]
  },
  {
   "cell_type": "code",
   "execution_count": 11,
   "metadata": {},
   "outputs": [
    {
     "data": {
      "text/plain": [
       "array([[0],\n",
       "       [0],\n",
       "       [0],\n",
       "       ...,\n",
       "       [2],\n",
       "       [2],\n",
       "       [2]])"
      ]
     },
     "execution_count": 11,
     "metadata": {},
     "output_type": "execute_result"
    }
   ],
   "source": [
    "Y"
   ]
  },
  {
   "cell_type": "code",
   "execution_count": 11,
   "metadata": {},
   "outputs": [
    {
     "name": "stderr",
     "output_type": "stream",
     "text": [
      "[nltk_data] Downloading package punkt to /home/aayush/nltk_data...\n",
      "[nltk_data]   Package punkt is already up-to-date!\n"
     ]
    },
    {
     "data": {
      "text/plain": [
       "True"
      ]
     },
     "execution_count": 11,
     "metadata": {},
     "output_type": "execute_result"
    }
   ],
   "source": [
    "import nltk\n",
    "nltk.download('punkt')"
   ]
  },
  {
   "cell_type": "code",
   "execution_count": 12,
   "metadata": {},
   "outputs": [],
   "source": [
    "def tokenize_and_transform(X, sample_size):\n",
    "    essays1 = X[:, 0]\n",
    "    #essays2 = X[:, 1]\n",
    "    tok_es1 = [word_tokenize(doc) for doc in essays1[:sample_size]]\n",
    "    #tok_es2 = [word_tokenize(doc) for doc in essays2[:sample_size]]\n",
    "    met = MeanEmbeddingTransformer()\n",
    "    X_transform =  met.fit_transform(tok_es1)\n",
    "    return X_transform"
   ]
  },
  {
   "cell_type": "code",
   "execution_count": 13,
   "metadata": {},
   "outputs": [
    {
     "name": "stderr",
     "output_type": "stream",
     "text": [
      "/home/aayush/.local/lib/python3.8/site-packages/numpy/core/fromnumeric.py:3372: RuntimeWarning: Mean of empty slice.\n",
      "  return _methods._mean(a, axis=axis, dtype=dtype,\n",
      "/home/aayush/.local/lib/python3.8/site-packages/numpy/core/_methods.py:170: RuntimeWarning: invalid value encountered in double_scalars\n",
      "  ret = ret.dtype.type(ret / rcount)\n",
      "<ipython-input-3-2f4be04e443f>:34: VisibleDeprecationWarning: Creating an ndarray from ragged nested sequences (which is a list-or-tuple of lists-or-tuples-or ndarrays with different lengths or shapes) is deprecated. If you meant to do this, you must specify 'dtype=object' when creating the ndarray\n",
      "  return np.array([self._doc_mean(doc) for doc in X])\n"
     ]
    }
   ],
   "source": [
    "X_transform = tokenize_and_transform(X, X.shape[0])\n"
   ]
  },
  {
   "cell_type": "code",
   "execution_count": 21,
   "metadata": {},
   "outputs": [],
   "source": [
    "X_transform=X_transform.reshape(-1,1)"
   ]
  },
  {
   "cell_type": "code",
   "execution_count": 22,
   "metadata": {},
   "outputs": [],
   "source": [
    "rus = RandomUnderSampler(random_state=0)\n",
    "X_resample, y_resample = rus.fit_sample(X_transform, Y[:X_transform.shape[0]])"
   ]
  },
  {
   "cell_type": "code",
   "execution_count": 15,
   "metadata": {},
   "outputs": [],
   "source": [
    "X_train, X_test, y_train, y_test = train_test_split(X_transform,\n",
    "                                                    Y, test_size=0.2, random_state=0)"
   ]
  },
  {
   "cell_type": "markdown",
   "metadata": {},
   "source": [
    "# Build model functions"
   ]
  },
  {
   "cell_type": "code",
   "execution_count": 16,
   "metadata": {},
   "outputs": [],
   "source": [
    "def train_model(classifier, feature_vector_train, label,  feature_vector_valid, valid_y,is_neural_net=False):\n",
    "    # fit the training dataset on the classifier\n",
    "    classifier.fit(feature_vector_train, label)    \n",
    "    # predict the labels on validation dataset\n",
    "    predictions = classifier.predict(feature_vector_valid)\n",
    "    \n",
    "    if is_neural_net:\n",
    "        predictions = predictions.argmax(axis=-1)\n",
    "    \n",
    "    #print(\"In Validation Data\",metrics.accuracy_score(predictions, valid_y))\n",
    "    print(\"f1 score: \",f1_score(valid_y,predictions,average='weighted'))        \n",
    "    return metrics.accuracy_score(valid_y,predictions)"
   ]
  },
  {
   "cell_type": "code",
   "execution_count": 25,
   "metadata": {},
   "outputs": [],
   "source": [
    "def print_scores(clf, X_train, y_train, X_test, y_test):\n",
    "    clf.fit(X_train, y_train)\n",
    "    y_pred = clf.predict(X_test)\n",
    "    print('F1 score: {:3f}'.format(f1_score(y_test, y_pred)))\n",
    "    print('AUC score: {:3f}'.format(roc_auc_score(y_test, y_pred)))"
   ]
  },
  {
   "cell_type": "markdown",
   "metadata": {},
   "source": [
    "# Naive Bayes"
   ]
  },
  {
   "cell_type": "code",
   "execution_count": 17,
   "metadata": {},
   "outputs": [
    {
     "name": "stdout",
     "output_type": "stream",
     "text": [
      "For Glove vectors using Naive Bayes\n"
     ]
    },
    {
     "ename": "ValueError",
     "evalue": "setting an array element with a sequence.",
     "output_type": "error",
     "traceback": [
      "\u001b[0;31m---------------------------------------------------------------------------\u001b[0m",
      "\u001b[0;31mTypeError\u001b[0m                                 Traceback (most recent call last)",
      "\u001b[0;31mTypeError\u001b[0m: only size-1 arrays can be converted to Python scalars",
      "\nThe above exception was the direct cause of the following exception:\n",
      "\u001b[0;31mValueError\u001b[0m                                Traceback (most recent call last)",
      "\u001b[0;32m<ipython-input-17-9a320222bb55>\u001b[0m in \u001b[0;36m<module>\u001b[0;34m\u001b[0m\n\u001b[1;32m      1\u001b[0m \u001b[0;31m# Naive Bayes on Word Level TF IDF Vectors\u001b[0m\u001b[0;34m\u001b[0m\u001b[0;34m\u001b[0m\u001b[0;34m\u001b[0m\u001b[0m\n\u001b[1;32m      2\u001b[0m \u001b[0mprint\u001b[0m\u001b[0;34m(\u001b[0m\u001b[0;34m\"For Glove vectors using Naive Bayes\"\u001b[0m\u001b[0;34m)\u001b[0m\u001b[0;34m\u001b[0m\u001b[0;34m\u001b[0m\u001b[0m\n\u001b[0;32m----> 3\u001b[0;31m \u001b[0maccuracy\u001b[0m \u001b[0;34m=\u001b[0m \u001b[0mtrain_model\u001b[0m\u001b[0;34m(\u001b[0m\u001b[0mnaive_bayes\u001b[0m\u001b[0;34m.\u001b[0m\u001b[0mMultinomialNB\u001b[0m\u001b[0;34m(\u001b[0m\u001b[0;34m)\u001b[0m\u001b[0;34m,\u001b[0m \u001b[0mX_train\u001b[0m\u001b[0;34m,\u001b[0m \u001b[0my_train\u001b[0m\u001b[0;34m,\u001b[0m \u001b[0mX_test\u001b[0m\u001b[0;34m,\u001b[0m \u001b[0my_test\u001b[0m\u001b[0;34m)\u001b[0m\u001b[0;34m\u001b[0m\u001b[0;34m\u001b[0m\u001b[0m\n\u001b[0m\u001b[1;32m      4\u001b[0m \u001b[0mprint\u001b[0m \u001b[0;34m(\u001b[0m\u001b[0;34m\"Accuracy: \"\u001b[0m\u001b[0;34m,\u001b[0m \u001b[0maccuracy\u001b[0m\u001b[0;34m)\u001b[0m\u001b[0;34m\u001b[0m\u001b[0;34m\u001b[0m\u001b[0m\n",
      "\u001b[0;32m<ipython-input-16-634899472a09>\u001b[0m in \u001b[0;36mtrain_model\u001b[0;34m(classifier, feature_vector_train, label, feature_vector_valid, valid_y, is_neural_net)\u001b[0m\n\u001b[1;32m      1\u001b[0m \u001b[0;32mdef\u001b[0m \u001b[0mtrain_model\u001b[0m\u001b[0;34m(\u001b[0m\u001b[0mclassifier\u001b[0m\u001b[0;34m,\u001b[0m \u001b[0mfeature_vector_train\u001b[0m\u001b[0;34m,\u001b[0m \u001b[0mlabel\u001b[0m\u001b[0;34m,\u001b[0m  \u001b[0mfeature_vector_valid\u001b[0m\u001b[0;34m,\u001b[0m \u001b[0mvalid_y\u001b[0m\u001b[0;34m,\u001b[0m\u001b[0mis_neural_net\u001b[0m\u001b[0;34m=\u001b[0m\u001b[0;32mFalse\u001b[0m\u001b[0;34m)\u001b[0m\u001b[0;34m:\u001b[0m\u001b[0;34m\u001b[0m\u001b[0;34m\u001b[0m\u001b[0m\n\u001b[1;32m      2\u001b[0m     \u001b[0;31m# fit the training dataset on the classifier\u001b[0m\u001b[0;34m\u001b[0m\u001b[0;34m\u001b[0m\u001b[0;34m\u001b[0m\u001b[0m\n\u001b[0;32m----> 3\u001b[0;31m     \u001b[0mclassifier\u001b[0m\u001b[0;34m.\u001b[0m\u001b[0mfit\u001b[0m\u001b[0;34m(\u001b[0m\u001b[0mfeature_vector_train\u001b[0m\u001b[0;34m,\u001b[0m \u001b[0mlabel\u001b[0m\u001b[0;34m)\u001b[0m\u001b[0;34m\u001b[0m\u001b[0;34m\u001b[0m\u001b[0m\n\u001b[0m\u001b[1;32m      4\u001b[0m     \u001b[0;31m# predict the labels on validation dataset\u001b[0m\u001b[0;34m\u001b[0m\u001b[0;34m\u001b[0m\u001b[0;34m\u001b[0m\u001b[0m\n\u001b[1;32m      5\u001b[0m     \u001b[0mpredictions\u001b[0m \u001b[0;34m=\u001b[0m \u001b[0mclassifier\u001b[0m\u001b[0;34m.\u001b[0m\u001b[0mpredict\u001b[0m\u001b[0;34m(\u001b[0m\u001b[0mfeature_vector_valid\u001b[0m\u001b[0;34m)\u001b[0m\u001b[0;34m\u001b[0m\u001b[0;34m\u001b[0m\u001b[0m\n",
      "\u001b[0;32m~/.local/lib/python3.8/site-packages/sklearn/naive_bayes.py\u001b[0m in \u001b[0;36mfit\u001b[0;34m(self, X, y, sample_weight)\u001b[0m\n\u001b[1;32m    613\u001b[0m         \u001b[0mself\u001b[0m \u001b[0;34m:\u001b[0m \u001b[0mobject\u001b[0m\u001b[0;34m\u001b[0m\u001b[0;34m\u001b[0m\u001b[0m\n\u001b[1;32m    614\u001b[0m         \"\"\"\n\u001b[0;32m--> 615\u001b[0;31m         \u001b[0mX\u001b[0m\u001b[0;34m,\u001b[0m \u001b[0my\u001b[0m \u001b[0;34m=\u001b[0m \u001b[0mself\u001b[0m\u001b[0;34m.\u001b[0m\u001b[0m_check_X_y\u001b[0m\u001b[0;34m(\u001b[0m\u001b[0mX\u001b[0m\u001b[0;34m,\u001b[0m \u001b[0my\u001b[0m\u001b[0;34m)\u001b[0m\u001b[0;34m\u001b[0m\u001b[0;34m\u001b[0m\u001b[0m\n\u001b[0m\u001b[1;32m    616\u001b[0m         \u001b[0m_\u001b[0m\u001b[0;34m,\u001b[0m \u001b[0mn_features\u001b[0m \u001b[0;34m=\u001b[0m \u001b[0mX\u001b[0m\u001b[0;34m.\u001b[0m\u001b[0mshape\u001b[0m\u001b[0;34m\u001b[0m\u001b[0;34m\u001b[0m\u001b[0m\n\u001b[1;32m    617\u001b[0m         \u001b[0mself\u001b[0m\u001b[0;34m.\u001b[0m\u001b[0mn_features_\u001b[0m \u001b[0;34m=\u001b[0m \u001b[0mn_features\u001b[0m\u001b[0;34m\u001b[0m\u001b[0;34m\u001b[0m\u001b[0m\n",
      "\u001b[0;32m~/.local/lib/python3.8/site-packages/sklearn/naive_bayes.py\u001b[0m in \u001b[0;36m_check_X_y\u001b[0;34m(self, X, y)\u001b[0m\n\u001b[1;32m    478\u001b[0m \u001b[0;34m\u001b[0m\u001b[0m\n\u001b[1;32m    479\u001b[0m     \u001b[0;32mdef\u001b[0m \u001b[0m_check_X_y\u001b[0m\u001b[0;34m(\u001b[0m\u001b[0mself\u001b[0m\u001b[0;34m,\u001b[0m \u001b[0mX\u001b[0m\u001b[0;34m,\u001b[0m \u001b[0my\u001b[0m\u001b[0;34m)\u001b[0m\u001b[0;34m:\u001b[0m\u001b[0;34m\u001b[0m\u001b[0;34m\u001b[0m\u001b[0m\n\u001b[0;32m--> 480\u001b[0;31m         \u001b[0;32mreturn\u001b[0m \u001b[0mself\u001b[0m\u001b[0;34m.\u001b[0m\u001b[0m_validate_data\u001b[0m\u001b[0;34m(\u001b[0m\u001b[0mX\u001b[0m\u001b[0;34m,\u001b[0m \u001b[0my\u001b[0m\u001b[0;34m,\u001b[0m \u001b[0maccept_sparse\u001b[0m\u001b[0;34m=\u001b[0m\u001b[0;34m'csr'\u001b[0m\u001b[0;34m)\u001b[0m\u001b[0;34m\u001b[0m\u001b[0;34m\u001b[0m\u001b[0m\n\u001b[0m\u001b[1;32m    481\u001b[0m \u001b[0;34m\u001b[0m\u001b[0m\n\u001b[1;32m    482\u001b[0m     \u001b[0;32mdef\u001b[0m \u001b[0m_update_class_log_prior\u001b[0m\u001b[0;34m(\u001b[0m\u001b[0mself\u001b[0m\u001b[0;34m,\u001b[0m \u001b[0mclass_prior\u001b[0m\u001b[0;34m=\u001b[0m\u001b[0;32mNone\u001b[0m\u001b[0;34m)\u001b[0m\u001b[0;34m:\u001b[0m\u001b[0;34m\u001b[0m\u001b[0;34m\u001b[0m\u001b[0m\n",
      "\u001b[0;32m~/.local/lib/python3.8/site-packages/sklearn/base.py\u001b[0m in \u001b[0;36m_validate_data\u001b[0;34m(self, X, y, reset, validate_separately, **check_params)\u001b[0m\n\u001b[1;32m    430\u001b[0m                 \u001b[0my\u001b[0m \u001b[0;34m=\u001b[0m \u001b[0mcheck_array\u001b[0m\u001b[0;34m(\u001b[0m\u001b[0my\u001b[0m\u001b[0;34m,\u001b[0m \u001b[0;34m**\u001b[0m\u001b[0mcheck_y_params\u001b[0m\u001b[0;34m)\u001b[0m\u001b[0;34m\u001b[0m\u001b[0;34m\u001b[0m\u001b[0m\n\u001b[1;32m    431\u001b[0m             \u001b[0;32melse\u001b[0m\u001b[0;34m:\u001b[0m\u001b[0;34m\u001b[0m\u001b[0;34m\u001b[0m\u001b[0m\n\u001b[0;32m--> 432\u001b[0;31m                 \u001b[0mX\u001b[0m\u001b[0;34m,\u001b[0m \u001b[0my\u001b[0m \u001b[0;34m=\u001b[0m \u001b[0mcheck_X_y\u001b[0m\u001b[0;34m(\u001b[0m\u001b[0mX\u001b[0m\u001b[0;34m,\u001b[0m \u001b[0my\u001b[0m\u001b[0;34m,\u001b[0m \u001b[0;34m**\u001b[0m\u001b[0mcheck_params\u001b[0m\u001b[0;34m)\u001b[0m\u001b[0;34m\u001b[0m\u001b[0;34m\u001b[0m\u001b[0m\n\u001b[0m\u001b[1;32m    433\u001b[0m             \u001b[0mout\u001b[0m \u001b[0;34m=\u001b[0m \u001b[0mX\u001b[0m\u001b[0;34m,\u001b[0m \u001b[0my\u001b[0m\u001b[0;34m\u001b[0m\u001b[0;34m\u001b[0m\u001b[0m\n\u001b[1;32m    434\u001b[0m \u001b[0;34m\u001b[0m\u001b[0m\n",
      "\u001b[0;32m~/.local/lib/python3.8/site-packages/sklearn/utils/validation.py\u001b[0m in \u001b[0;36minner_f\u001b[0;34m(*args, **kwargs)\u001b[0m\n\u001b[1;32m     70\u001b[0m                           FutureWarning)\n\u001b[1;32m     71\u001b[0m         \u001b[0mkwargs\u001b[0m\u001b[0;34m.\u001b[0m\u001b[0mupdate\u001b[0m\u001b[0;34m(\u001b[0m\u001b[0;34m{\u001b[0m\u001b[0mk\u001b[0m\u001b[0;34m:\u001b[0m \u001b[0marg\u001b[0m \u001b[0;32mfor\u001b[0m \u001b[0mk\u001b[0m\u001b[0;34m,\u001b[0m \u001b[0marg\u001b[0m \u001b[0;32min\u001b[0m \u001b[0mzip\u001b[0m\u001b[0;34m(\u001b[0m\u001b[0msig\u001b[0m\u001b[0;34m.\u001b[0m\u001b[0mparameters\u001b[0m\u001b[0;34m,\u001b[0m \u001b[0margs\u001b[0m\u001b[0;34m)\u001b[0m\u001b[0;34m}\u001b[0m\u001b[0;34m)\u001b[0m\u001b[0;34m\u001b[0m\u001b[0;34m\u001b[0m\u001b[0m\n\u001b[0;32m---> 72\u001b[0;31m         \u001b[0;32mreturn\u001b[0m \u001b[0mf\u001b[0m\u001b[0;34m(\u001b[0m\u001b[0;34m**\u001b[0m\u001b[0mkwargs\u001b[0m\u001b[0;34m)\u001b[0m\u001b[0;34m\u001b[0m\u001b[0;34m\u001b[0m\u001b[0m\n\u001b[0m\u001b[1;32m     73\u001b[0m     \u001b[0;32mreturn\u001b[0m \u001b[0minner_f\u001b[0m\u001b[0;34m\u001b[0m\u001b[0;34m\u001b[0m\u001b[0m\n\u001b[1;32m     74\u001b[0m \u001b[0;34m\u001b[0m\u001b[0m\n",
      "\u001b[0;32m~/.local/lib/python3.8/site-packages/sklearn/utils/validation.py\u001b[0m in \u001b[0;36mcheck_X_y\u001b[0;34m(X, y, accept_sparse, accept_large_sparse, dtype, order, copy, force_all_finite, ensure_2d, allow_nd, multi_output, ensure_min_samples, ensure_min_features, y_numeric, estimator)\u001b[0m\n\u001b[1;32m    793\u001b[0m         \u001b[0;32mraise\u001b[0m \u001b[0mValueError\u001b[0m\u001b[0;34m(\u001b[0m\u001b[0;34m\"y cannot be None\"\u001b[0m\u001b[0;34m)\u001b[0m\u001b[0;34m\u001b[0m\u001b[0;34m\u001b[0m\u001b[0m\n\u001b[1;32m    794\u001b[0m \u001b[0;34m\u001b[0m\u001b[0m\n\u001b[0;32m--> 795\u001b[0;31m     X = check_array(X, accept_sparse=accept_sparse,\n\u001b[0m\u001b[1;32m    796\u001b[0m                     \u001b[0maccept_large_sparse\u001b[0m\u001b[0;34m=\u001b[0m\u001b[0maccept_large_sparse\u001b[0m\u001b[0;34m,\u001b[0m\u001b[0;34m\u001b[0m\u001b[0;34m\u001b[0m\u001b[0m\n\u001b[1;32m    797\u001b[0m                     \u001b[0mdtype\u001b[0m\u001b[0;34m=\u001b[0m\u001b[0mdtype\u001b[0m\u001b[0;34m,\u001b[0m \u001b[0morder\u001b[0m\u001b[0;34m=\u001b[0m\u001b[0morder\u001b[0m\u001b[0;34m,\u001b[0m \u001b[0mcopy\u001b[0m\u001b[0;34m=\u001b[0m\u001b[0mcopy\u001b[0m\u001b[0;34m,\u001b[0m\u001b[0;34m\u001b[0m\u001b[0;34m\u001b[0m\u001b[0m\n",
      "\u001b[0;32m~/.local/lib/python3.8/site-packages/sklearn/utils/validation.py\u001b[0m in \u001b[0;36minner_f\u001b[0;34m(*args, **kwargs)\u001b[0m\n\u001b[1;32m     70\u001b[0m                           FutureWarning)\n\u001b[1;32m     71\u001b[0m         \u001b[0mkwargs\u001b[0m\u001b[0;34m.\u001b[0m\u001b[0mupdate\u001b[0m\u001b[0;34m(\u001b[0m\u001b[0;34m{\u001b[0m\u001b[0mk\u001b[0m\u001b[0;34m:\u001b[0m \u001b[0marg\u001b[0m \u001b[0;32mfor\u001b[0m \u001b[0mk\u001b[0m\u001b[0;34m,\u001b[0m \u001b[0marg\u001b[0m \u001b[0;32min\u001b[0m \u001b[0mzip\u001b[0m\u001b[0;34m(\u001b[0m\u001b[0msig\u001b[0m\u001b[0;34m.\u001b[0m\u001b[0mparameters\u001b[0m\u001b[0;34m,\u001b[0m \u001b[0margs\u001b[0m\u001b[0;34m)\u001b[0m\u001b[0;34m}\u001b[0m\u001b[0;34m)\u001b[0m\u001b[0;34m\u001b[0m\u001b[0;34m\u001b[0m\u001b[0m\n\u001b[0;32m---> 72\u001b[0;31m         \u001b[0;32mreturn\u001b[0m \u001b[0mf\u001b[0m\u001b[0;34m(\u001b[0m\u001b[0;34m**\u001b[0m\u001b[0mkwargs\u001b[0m\u001b[0;34m)\u001b[0m\u001b[0;34m\u001b[0m\u001b[0;34m\u001b[0m\u001b[0m\n\u001b[0m\u001b[1;32m     73\u001b[0m     \u001b[0;32mreturn\u001b[0m \u001b[0minner_f\u001b[0m\u001b[0;34m\u001b[0m\u001b[0;34m\u001b[0m\u001b[0m\n\u001b[1;32m     74\u001b[0m \u001b[0;34m\u001b[0m\u001b[0m\n",
      "\u001b[0;32m~/.local/lib/python3.8/site-packages/sklearn/utils/validation.py\u001b[0m in \u001b[0;36mcheck_array\u001b[0;34m(array, accept_sparse, accept_large_sparse, dtype, order, copy, force_all_finite, ensure_2d, allow_nd, ensure_min_samples, ensure_min_features, estimator)\u001b[0m\n\u001b[1;32m    596\u001b[0m                     \u001b[0marray\u001b[0m \u001b[0;34m=\u001b[0m \u001b[0marray\u001b[0m\u001b[0;34m.\u001b[0m\u001b[0mastype\u001b[0m\u001b[0;34m(\u001b[0m\u001b[0mdtype\u001b[0m\u001b[0;34m,\u001b[0m \u001b[0mcasting\u001b[0m\u001b[0;34m=\u001b[0m\u001b[0;34m\"unsafe\"\u001b[0m\u001b[0;34m,\u001b[0m \u001b[0mcopy\u001b[0m\u001b[0;34m=\u001b[0m\u001b[0;32mFalse\u001b[0m\u001b[0;34m)\u001b[0m\u001b[0;34m\u001b[0m\u001b[0;34m\u001b[0m\u001b[0m\n\u001b[1;32m    597\u001b[0m                 \u001b[0;32melse\u001b[0m\u001b[0;34m:\u001b[0m\u001b[0;34m\u001b[0m\u001b[0;34m\u001b[0m\u001b[0m\n\u001b[0;32m--> 598\u001b[0;31m                     \u001b[0marray\u001b[0m \u001b[0;34m=\u001b[0m \u001b[0mnp\u001b[0m\u001b[0;34m.\u001b[0m\u001b[0masarray\u001b[0m\u001b[0;34m(\u001b[0m\u001b[0marray\u001b[0m\u001b[0;34m,\u001b[0m \u001b[0morder\u001b[0m\u001b[0;34m=\u001b[0m\u001b[0morder\u001b[0m\u001b[0;34m,\u001b[0m \u001b[0mdtype\u001b[0m\u001b[0;34m=\u001b[0m\u001b[0mdtype\u001b[0m\u001b[0;34m)\u001b[0m\u001b[0;34m\u001b[0m\u001b[0;34m\u001b[0m\u001b[0m\n\u001b[0m\u001b[1;32m    599\u001b[0m             \u001b[0;32mexcept\u001b[0m \u001b[0mComplexWarning\u001b[0m\u001b[0;34m:\u001b[0m\u001b[0;34m\u001b[0m\u001b[0;34m\u001b[0m\u001b[0m\n\u001b[1;32m    600\u001b[0m                 raise ValueError(\"Complex data not supported\\n\"\n",
      "\u001b[0;32m~/.local/lib/python3.8/site-packages/numpy/core/_asarray.py\u001b[0m in \u001b[0;36masarray\u001b[0;34m(a, dtype, order)\u001b[0m\n\u001b[1;32m     81\u001b[0m \u001b[0;34m\u001b[0m\u001b[0m\n\u001b[1;32m     82\u001b[0m     \"\"\"\n\u001b[0;32m---> 83\u001b[0;31m     \u001b[0;32mreturn\u001b[0m \u001b[0marray\u001b[0m\u001b[0;34m(\u001b[0m\u001b[0ma\u001b[0m\u001b[0;34m,\u001b[0m \u001b[0mdtype\u001b[0m\u001b[0;34m,\u001b[0m \u001b[0mcopy\u001b[0m\u001b[0;34m=\u001b[0m\u001b[0;32mFalse\u001b[0m\u001b[0;34m,\u001b[0m \u001b[0morder\u001b[0m\u001b[0;34m=\u001b[0m\u001b[0morder\u001b[0m\u001b[0;34m)\u001b[0m\u001b[0;34m\u001b[0m\u001b[0;34m\u001b[0m\u001b[0m\n\u001b[0m\u001b[1;32m     84\u001b[0m \u001b[0;34m\u001b[0m\u001b[0m\n\u001b[1;32m     85\u001b[0m \u001b[0;34m\u001b[0m\u001b[0m\n",
      "\u001b[0;31mValueError\u001b[0m: setting an array element with a sequence."
     ]
    }
   ],
   "source": [
    "# Naive Bayes on Word Level TF IDF Vectors\n",
    "print(\"For Glove vectors using Naive Bayes\")\n",
    "accuracy = train_model(naive_bayes.MultinomialNB(), X_train, y_train, X_test, y_test)\n",
    "print (\"Accuracy: \", accuracy)\n"
   ]
  },
  {
   "cell_type": "markdown",
   "metadata": {},
   "source": [
    "# load the pre-trained word-embedding vectors \n"
   ]
  },
  {
   "cell_type": "code",
   "execution_count": null,
   "metadata": {},
   "outputs": [],
   "source": []
  },
  {
   "cell_type": "code",
   "execution_count": 17,
   "metadata": {},
   "outputs": [],
   "source": [
    "embeddings_dict = {}\n",
    "with open(\"glove.6B.300d.txt\", 'r', encoding=\"utf-8\") as f:\n",
    "    for line in f:\n",
    "        values = line.strip().split()\n",
    "        word = values[0]\n",
    "        vector = np.asarray(values[1:], dtype=\"float32\")\n",
    "        embeddings_dict[word] = vector"
   ]
  },
  {
   "cell_type": "markdown",
   "metadata": {},
   "source": [
    "# create a tokenizer \n"
   ]
  },
  {
   "cell_type": "code",
   "execution_count": 18,
   "metadata": {},
   "outputs": [],
   "source": [
    "token = text.Tokenizer()\n",
    "token.fit_on_texts(totalData['content'])\n",
    "word_index = token.word_index"
   ]
  },
  {
   "cell_type": "markdown",
   "metadata": {},
   "source": [
    "# Perform test train split"
   ]
  },
  {
   "cell_type": "code",
   "execution_count": 19,
   "metadata": {},
   "outputs": [],
   "source": [
    "# split the dataset into training and validation datasets \n",
    "from sklearn.model_selection import train_test_split\n",
    "# train_x, valid_x, train_y, valid_y = model_selection.train_test_split(train['tweet'], train['label'])\n",
    "train_x, valid_x, train_y, valid_y = train_test_split(totalData['content'], totalData['Reliability'], test_size=0.20)"
   ]
  },
  {
   "cell_type": "markdown",
   "metadata": {},
   "source": [
    "# convert text to sequence of tokens and pad them to ensure equal length vectors \n"
   ]
  },
  {
   "cell_type": "code",
   "execution_count": 30,
   "metadata": {},
   "outputs": [],
   "source": [
    "train_seq_x = sequence.pad_sequences(token.texts_to_sequences(train_x), maxlen=1000)\n",
    "valid_seq_x = sequence.pad_sequences(token.texts_to_sequences(valid_x), maxlen=1000)"
   ]
  },
  {
   "cell_type": "markdown",
   "metadata": {},
   "source": [
    "# create token-embedding mapping\n"
   ]
  },
  {
   "cell_type": "code",
   "execution_count": 32,
   "metadata": {},
   "outputs": [],
   "source": [
    "embedding_matrix = np.zeros((len(word_index) + 1, 300))\n",
    "for word, i in word_index.items():\n",
    "    embedding_vector = embeddings_dict.get(word)\n",
    "    if embedding_vector is not None:\n",
    "        embedding_matrix[i] = embedding_vector"
   ]
  },
  {
   "cell_type": "code",
   "execution_count": 34,
   "metadata": {},
   "outputs": [
    {
     "data": {
      "text/plain": [
       "array([-7.69470036e-02, -2.12110002e-02,  2.12709993e-01, -7.22320020e-01,\n",
       "       -1.39880002e-01, -1.22340001e-01, -1.75209999e-01,  1.21370003e-01,\n",
       "       -7.08660036e-02, -1.57210004e+00, -2.24639997e-01,  4.26900014e-02,\n",
       "       -4.01800007e-01,  2.10060000e-01,  1.42879998e-02,  4.16280001e-01,\n",
       "        1.71649996e-02,  7.17319995e-02,  6.92459987e-03,  1.81070000e-01,\n",
       "       -1.54119998e-01,  1.49330005e-01, -3.04930005e-02,  2.99180001e-01,\n",
       "        2.94790007e-02, -3.61469984e-02, -6.11249991e-02,  8.39179978e-02,\n",
       "       -1.23980001e-01, -1.00769997e-01, -5.41420002e-03,  3.37099999e-01,\n",
       "       -2.56119996e-01,  4.43879992e-01, -6.89220011e-01,  1.80199996e-01,\n",
       "        3.48980010e-01, -5.22839986e-02, -2.62259990e-01, -4.71089989e-01,\n",
       "        2.16470003e-01, -4.00200009e-01, -4.99860011e-02,  1.13760000e-02,\n",
       "        5.49939990e-01, -2.27909997e-01,  9.58729982e-02,  4.76929992e-01,\n",
       "       -5.67269996e-02, -1.78949997e-01,  1.17559999e-01,  1.46620005e-01,\n",
       "        4.89480011e-02,  1.35869995e-01, -9.38209966e-02,  4.59679991e-01,\n",
       "       -3.20620000e-01,  2.99109995e-01,  2.06560001e-01, -1.85029998e-01,\n",
       "       -2.76899993e-01, -2.25450005e-02,  7.06979990e-01, -2.38150001e-01,\n",
       "        1.64370000e-01, -5.50440013e-01, -1.06150005e-03,  1.22660004e-01,\n",
       "        1.18979998e-01,  2.39850000e-01,  2.98150003e-01,  1.32069997e-02,\n",
       "        1.63159996e-01, -6.13340020e-01, -3.70510012e-01,  1.94440007e-01,\n",
       "       -1.36209995e-01, -3.04259986e-01, -3.77149999e-01,  6.52989969e-02,\n",
       "       -1.59950003e-01, -5.65159976e-01,  7.46959969e-02,  4.01840001e-01,\n",
       "        1.93279997e-01,  4.18020003e-02,  2.05720007e-01,  2.89709985e-01,\n",
       "        3.47829998e-01,  3.38730007e-01, -1.00520000e-01, -1.63969994e-01,\n",
       "       -1.52360007e-01, -8.68149996e-02,  3.65220010e-01,  1.49690002e-01,\n",
       "       -4.08589989e-01,  2.31059998e-01,  1.71619996e-01, -6.05449975e-01,\n",
       "        8.60190019e-02,  3.70429993e-01,  1.79370001e-01, -4.02819991e-01,\n",
       "       -6.24710023e-01, -5.59189990e-02,  1.50920004e-01,  1.25540003e-01,\n",
       "       -4.53440011e-01,  3.44170004e-01,  4.00420010e-01, -4.95119989e-02,\n",
       "       -2.99690008e-01, -3.17609996e-01,  3.00229996e-01,  9.00290012e-02,\n",
       "        3.10600013e-01, -3.30770016e-02, -2.19950005e-01, -4.03959990e-01,\n",
       "       -3.44430000e-01, -2.12479994e-01, -3.76359999e-01,  2.18349993e-01,\n",
       "       -1.78499997e-01, -1.72610000e-01,  1.63910002e-01,  2.27530003e-01,\n",
       "        2.68599987e-01,  5.75410008e-01, -1.49120003e-01,  2.04129994e-01,\n",
       "        2.21870005e-01, -2.70139992e-01,  6.82530031e-02,  2.91150004e-01,\n",
       "       -6.79429993e-02,  1.06229998e-01, -1.62809998e-01,  1.99389994e-01,\n",
       "       -4.86129999e-01,  3.56880017e-02, -1.23729996e-01,  1.37070000e-01,\n",
       "        3.33590001e-01, -1.27130002e-01, -3.17110002e-01, -1.39620006e-01,\n",
       "       -4.28799987e-02, -1.46139995e-03,  7.68830001e-01, -4.17050004e-01,\n",
       "       -9.29109976e-02,  1.63149998e-01,  2.92019993e-01,  1.21189997e-01,\n",
       "       -7.66829997e-02,  1.41310006e-01, -9.34059992e-02, -4.27960008e-02,\n",
       "        1.37380004e-01,  1.42780002e-02,  1.19180001e-01, -3.42150003e-01,\n",
       "       -1.90760002e-01, -1.24990001e-01,  2.46480003e-01,  4.22589988e-01,\n",
       "        9.19660032e-02,  4.53509986e-01,  1.44370005e-01,  1.87800005e-01,\n",
       "       -8.58759999e-01,  5.96209988e-02, -3.22420001e-01,  2.86269993e-01,\n",
       "        1.24270000e-01,  9.09840036e-03, -1.89099997e-01,  1.66380003e-01,\n",
       "        9.98810008e-02, -4.85530011e-02, -2.62570009e-02,  9.99040008e-02,\n",
       "        1.24059997e-01, -1.54160000e-02, -2.97069997e-01, -4.04399991e-01,\n",
       "       -1.72580004e-01,  3.64679992e-01, -1.41179999e-02, -1.18890002e-01,\n",
       "       -1.16860002e-01, -1.41240001e-01,  2.80119985e-01,  6.76440001e-02,\n",
       "        1.48499995e-01, -3.57019991e-01,  2.96259999e-01,  3.60040009e-01,\n",
       "        1.01900005e+00, -6.73070028e-02, -1.15879998e-01, -2.17800006e-01,\n",
       "        7.01910034e-02,  2.31539994e-01, -1.38490006e-01,  2.64409989e-01,\n",
       "        2.87420005e-01,  1.94100007e-01, -6.05039997e-03,  4.41049993e-01,\n",
       "        1.24159999e-01, -2.77449995e-01, -2.57290006e-01,  1.09920003e-01,\n",
       "        1.83620006e-01, -3.45220000e-01, -2.18610004e-01, -1.88250005e-01,\n",
       "       -3.74540016e-02, -2.08619997e-01, -2.52160013e-01,  6.08419999e-02,\n",
       "        6.85949996e-02,  1.02750003e-01,  1.07450001e-01, -6.12879992e-02,\n",
       "        1.97249994e-01, -2.77390003e-01, -2.25590002e-02,  5.27939983e-02,\n",
       "       -2.40830004e-01,  9.19900015e-02,  3.09590012e-01,  5.49990013e-02,\n",
       "        6.36759996e-02, -8.73569995e-02, -3.44949991e-01,  2.27929994e-01,\n",
       "       -4.24050003e-01,  2.45360002e-01,  5.57079971e-01,  1.91259995e-01,\n",
       "       -7.96999991e-01, -2.04799995e-01,  3.25450003e-01,  9.23499987e-02,\n",
       "        8.47909972e-02, -1.64330006e-01, -6.65680021e-02, -9.92489979e-02,\n",
       "        3.15259993e-01, -4.44649994e-01,  8.72810036e-02,  3.28799993e-01,\n",
       "       -1.78089999e-02, -2.38550007e-01, -1.28480002e-01,  4.15089987e-02,\n",
       "        4.67280000e-01,  4.82140005e-01,  1.05480000e-01,  6.58050030e-02,\n",
       "        6.72210008e-02,  1.33210003e-01, -2.78560013e-01,  1.55320000e-02,\n",
       "        3.00260007e-01,  3.87479991e-01, -1.44010007e-01, -1.61310002e-01,\n",
       "        1.76780000e-01,  1.64480001e-01, -3.24400008e-01,  7.93700013e-03,\n",
       "       -2.28360009e+00,  9.69450027e-02,  6.61310017e-01,  1.68569997e-01,\n",
       "       -2.88769994e-02, -1.07910000e-01, -2.74449997e-02, -2.56949991e-01,\n",
       "        4.66860011e-02,  2.30869994e-01, -7.64579996e-02,  2.71270007e-01,\n",
       "        2.51850009e-01,  5.49470000e-02, -3.66730005e-01, -3.86029989e-01,\n",
       "        3.02899987e-01,  1.57469995e-02,  3.40359986e-01,  4.78410006e-01,\n",
       "        6.86170012e-02,  1.83510005e-01, -2.91830003e-01, -4.65329997e-02])"
      ]
     },
     "execution_count": 34,
     "metadata": {},
     "output_type": "execute_result"
    }
   ],
   "source": [
    "embedding_matrix[3]"
   ]
  },
  {
   "cell_type": "code",
   "execution_count": null,
   "metadata": {},
   "outputs": [],
   "source": []
  }
 ],
 "metadata": {
  "kernelspec": {
   "display_name": "Python 3",
   "language": "python",
   "name": "python3"
  },
  "language_info": {
   "codemirror_mode": {
    "name": "ipython",
    "version": 3
   },
   "file_extension": ".py",
   "mimetype": "text/x-python",
   "name": "python",
   "nbconvert_exporter": "python",
   "pygments_lexer": "ipython3",
   "version": "3.8.5"
  }
 },
 "nbformat": 4,
 "nbformat_minor": 4
}
