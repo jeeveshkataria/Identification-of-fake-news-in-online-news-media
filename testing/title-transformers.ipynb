{
 "cells": [
  {
   "cell_type": "code",
   "execution_count": 1,
   "metadata": {
    "execution": {
     "iopub.execute_input": "2020-10-31T13:06:07.037694Z",
     "iopub.status.busy": "2020-10-31T13:06:07.037402Z",
     "iopub.status.idle": "2020-10-31T13:06:10.383627Z",
     "shell.execute_reply": "2020-10-31T13:06:10.383059Z",
     "shell.execute_reply.started": "2020-10-31T13:06:07.037613Z"
    }
   },
   "outputs": [],
   "source": [
    "# Insert code here.\n",
    "import pandas as pd\n",
    "import numpy as np\n",
    "import random\n",
    "import re\n",
    "import time\n",
    "import datetime\n",
    "from nltk.corpus import stopwords\n",
    "from nltk.tokenize import sent_tokenize\n",
    "from sklearn import model_selection, preprocessing, linear_model, naive_bayes, metrics, svm, neighbors\n",
    "from sklearn.preprocessing import LabelEncoder\n",
    "from transformers import AutoTokenizer\n",
    "import torch\n",
    "from torch.utils.data import TensorDataset, random_split, DataLoader, RandomSampler, SequentialSampler\n",
    "from transformers import AutoModelForSequenceClassification, AdamW, BertConfig\n",
    "from transformers import get_linear_schedule_with_warmup\n",
    "import matplotlib.pyplot as plt\n",
    "import seaborn as sns\n",
    "# from sentence_transformers import SentenceTransformer\n",
    "# sent_encoder = SentenceTransformer('bert-base-nli-mean-tokens')"
   ]
  },
  {
   "cell_type": "code",
   "execution_count": 2,
   "metadata": {
    "execution": {
     "iopub.execute_input": "2020-10-31T13:06:10.384829Z",
     "iopub.status.busy": "2020-10-31T13:06:10.384670Z",
     "iopub.status.idle": "2020-10-31T13:06:17.309659Z",
     "shell.execute_reply": "2020-10-31T13:06:17.308959Z",
     "shell.execute_reply.started": "2020-10-31T13:06:10.384809Z"
    }
   },
   "outputs": [],
   "source": [
    "tokenizer = AutoTokenizer.from_pretrained('textattack/roberta-base-SST-2')"
   ]
  },
  {
   "cell_type": "code",
   "execution_count": 3,
   "metadata": {
    "execution": {
     "iopub.execute_input": "2020-10-31T13:06:17.311067Z",
     "iopub.status.busy": "2020-10-31T13:06:17.310849Z",
     "iopub.status.idle": "2020-10-31T13:06:17.538380Z",
     "shell.execute_reply": "2020-10-31T13:06:17.537757Z",
     "shell.execute_reply.started": "2020-10-31T13:06:17.311045Z"
    }
   },
   "outputs": [
    {
     "name": "stdout",
     "output_type": "stream",
     "text": [
      "There are 3 GPU(s) available.\n",
      "We will use the GPU: GeForce RTX 2080 Ti\n"
     ]
    }
   ],
   "source": [
    "if torch.cuda.is_available():    \n",
    "\n",
    "    # Tell PyTorch to use the GPU.    \n",
    "    device = torch.device(\"cuda:2\")\n",
    "\n",
    "    print('There are %d GPU(s) available.' % torch.cuda.device_count())\n",
    "\n",
    "    print('We will use the GPU:', torch.cuda.get_device_name(0))\n",
    "\n",
    "# If not...\n",
    "else:\n",
    "    print('No GPU available, using the CPU instead.')\n",
    "    device = torch.device(\"cpu\")\n",
    "torch.cuda.empty_cache()"
   ]
  },
  {
   "cell_type": "code",
   "execution_count": 5,
   "metadata": {
    "execution": {
     "iopub.execute_input": "2020-10-31T13:08:38.503435Z",
     "iopub.status.busy": "2020-10-31T13:08:38.503149Z",
     "iopub.status.idle": "2020-10-31T13:08:40.956238Z",
     "shell.execute_reply": "2020-10-31T13:08:40.955496Z",
     "shell.execute_reply.started": "2020-10-31T13:08:38.503406Z"
    }
   },
   "outputs": [],
   "source": [
    "with open('/scratch/tathagataraha/nela-gt-title-roberta.pt','rb') as f:\n",
    "    model = torch.load(f, map_location = device)"
   ]
  },
  {
   "cell_type": "code",
   "execution_count": 6,
   "metadata": {
    "execution": {
     "iopub.execute_input": "2020-10-31T13:08:49.300425Z",
     "iopub.status.busy": "2020-10-31T13:08:49.300128Z",
     "iopub.status.idle": "2020-10-31T13:08:49.306304Z",
     "shell.execute_reply": "2020-10-31T13:08:49.305789Z",
     "shell.execute_reply.started": "2020-10-31T13:08:49.300397Z"
    }
   },
   "outputs": [],
   "source": [
    "REPLACE_BY_SPACE_RE = re.compile('[/(){}\\[\\]\\|@,;]')\n",
    "BAD_SYMBOLS_RE = re.compile('[^0-9a-z #+_]')\n",
    "STOPWORDS = []\n",
    "def clean_text(text):\n",
    "    \"\"\"\n",
    "        text: a string\n",
    "        \n",
    "        return: modified initial string\n",
    "    \"\"\"\n",
    "    text = text.lower() # lowercase text\n",
    "    text = REPLACE_BY_SPACE_RE.sub(' ', text) # replace REPLACE_BY_SPACE_RE symbols by space in text. substitute the matched string in REPLACE_BY_SPACE_RE with space.\n",
    "    text = BAD_SYMBOLS_RE.sub('', text) # remove symbols which are in BAD_SYMBOLS_RE from text. substitute the matched string in BAD_SYMBOLS_RE with nothing. \n",
    "#    text = re.sub(r'\\W+', '', text)\n",
    "    text = ' '.join(word for word in text.split() if word not in STOPWORDS) # remove stopwors from text\n",
    "    return text"
   ]
  },
  {
   "cell_type": "code",
   "execution_count": 12,
   "metadata": {
    "execution": {
     "iopub.execute_input": "2020-10-31T13:10:04.484125Z",
     "iopub.status.busy": "2020-10-31T13:10:04.483889Z",
     "iopub.status.idle": "2020-10-31T13:10:04.490716Z",
     "shell.execute_reply": "2020-10-31T13:10:04.490150Z",
     "shell.execute_reply.started": "2020-10-31T13:10:04.484097Z"
    }
   },
   "outputs": [],
   "source": [
    "def predict(article, model):\n",
    "    article = clean_text(article)\n",
    "    article.replace('\\d+', '')\n",
    "    input_ids = []\n",
    "    attention_masks = []\n",
    "    MAX_LENGTH = 40\n",
    "    encoded_dict = tokenizer.encode_plus(\n",
    "                        article,                      # Sentence to encode.\n",
    "                        truncation=True,\n",
    "                        add_special_tokens = True, # Add '[CLS]' and '[SEP]'\n",
    "                        max_length = MAX_LENGTH,           # Pad & truncate all sentences.\n",
    "                        pad_to_max_length = True,\n",
    "                        return_attention_mask = True,   # Construct attn. masks.\n",
    "                        return_tensors = 'pt',     # Return pytorch tensors.\n",
    "                   )\n",
    "    input_ids.append(encoded_dict['input_ids'])\n",
    "    attention_masks.append(encoded_dict['attention_mask'])\n",
    "    input_ids = torch.cat(input_ids, dim=0)\n",
    "    attention_masks = torch.cat(attention_masks, dim=0)\n",
    "#     labels = torch.tensor(categories)\n",
    "    batch_size = 1\n",
    "    prediction_data = TensorDataset(input_ids, attention_masks)\n",
    "    prediction_sampler = SequentialSampler(prediction_data)\n",
    "    prediction_dataloader = DataLoader(prediction_data, sampler=prediction_sampler, batch_size=batch_size)\n",
    "    model.eval()\n",
    "    for batch in prediction_dataloader:\n",
    "  # Add batch to GPU\n",
    "        batch = tuple(t.to(device) for t in batch)\n",
    "\n",
    "        # Unpack the inputs from our dataloader\n",
    "        b_input_ids, b_input_mask = batch\n",
    "\n",
    "        # Telling the model not to compute or store gradients, saving memory and \n",
    "        # speeding up prediction\n",
    "        with torch.no_grad():\n",
    "          # Forward pass, calculate logit predictions\n",
    "          outputs = model(b_input_ids, token_type_ids=None, \n",
    "                          attention_mask=b_input_mask)\n",
    "\n",
    "        logits = outputs[0]\n",
    "\n",
    "        # Move logits and labels to CPU\n",
    "        logits = logits.detach().cpu().numpy()\n",
    "#         label_ids = b_labels.to('cpu').numpy()\n",
    "\n",
    "        # Store predictions and true labels\n",
    "        return np.argmax(logits[0])\n",
    "#         true_labels.append(label_ids)"
   ]
  },
  {
   "cell_type": "code",
   "execution_count": 13,
   "metadata": {
    "execution": {
     "iopub.execute_input": "2020-10-31T13:10:04.492153Z",
     "iopub.status.busy": "2020-10-31T13:10:04.491728Z",
     "iopub.status.idle": "2020-10-31T13:10:04.497394Z",
     "shell.execute_reply": "2020-10-31T13:10:04.496646Z",
     "shell.execute_reply.started": "2020-10-31T13:10:04.492126Z"
    }
   },
   "outputs": [],
   "source": [
    "def get_split(text1):\n",
    "    l_total = []\n",
    "    l_parcial = []\n",
    "    if len(text1.split())//150 >0:\n",
    "        n = len(text1.split())//150\n",
    "    else: \n",
    "        n = 1\n",
    "    for w in range(n):\n",
    "        if w == 0:\n",
    "            l_parcial = text1.split()[:200]\n",
    "            l_total.append(\" \".join(l_parcial))\n",
    "        else:\n",
    "            l_parcial = text1.split()[w*150:w*150 + 200]\n",
    "            l_total.append(\" \".join(l_parcial))\n",
    "    return l_total\n"
   ]
  },
  {
   "cell_type": "code",
   "execution_count": 14,
   "metadata": {
    "execution": {
     "iopub.execute_input": "2020-10-31T13:10:04.498729Z",
     "iopub.status.busy": "2020-10-31T13:10:04.498541Z",
     "iopub.status.idle": "2020-10-31T13:10:04.502959Z",
     "shell.execute_reply": "2020-10-31T13:10:04.502230Z",
     "shell.execute_reply.started": "2020-10-31T13:10:04.498705Z"
    }
   },
   "outputs": [],
   "source": [
    "# def predict(article):\n",
    "#     article = clean_text(article)\n",
    "#     article.replace('\\d+', '')\n",
    "#     vect = tfidf.transform([article])\n",
    "#     preds = model.predict(vect)\n",
    "#     if preds[0] == 0:\n",
    "#         return \"Real\"\n",
    "#     else:\n",
    "#         return \"Fake\""
   ]
  },
  {
   "cell_type": "code",
   "execution_count": 15,
   "metadata": {
    "execution": {
     "iopub.execute_input": "2020-10-31T13:10:04.504301Z",
     "iopub.status.busy": "2020-10-31T13:10:04.503890Z",
     "iopub.status.idle": "2020-10-31T13:10:04.510043Z",
     "shell.execute_reply": "2020-10-31T13:10:04.509485Z",
     "shell.execute_reply.started": "2020-10-31T13:10:04.504270Z"
    }
   },
   "outputs": [],
   "source": [
    "def pipeline(article, model):\n",
    "    if predict(article, model):\n",
    "        return \"FAKE\"\n",
    "    else:\n",
    "        return \"REAL\""
   ]
  },
  {
   "cell_type": "code",
   "execution_count": 16,
   "metadata": {
    "execution": {
     "iopub.execute_input": "2020-10-31T13:10:05.329471Z",
     "iopub.status.busy": "2020-10-31T13:10:05.329322Z",
     "iopub.status.idle": "2020-10-31T13:10:05.362992Z",
     "shell.execute_reply": "2020-10-31T13:10:05.362515Z",
     "shell.execute_reply.started": "2020-10-31T13:10:05.329452Z"
    }
   },
   "outputs": [
    {
     "data": {
      "text/plain": [
       "'REAL'"
      ]
     },
     "execution_count": 16,
     "metadata": {},
     "output_type": "execute_result"
    }
   ],
   "source": [
    "pipeline('The CDC currently reports 99031 deaths. In general the discrepancies in death counts between different sources are small and explicable. The death toll stands at roughly 100000 people today.', model)"
   ]
  },
  {
   "cell_type": "code",
   "execution_count": 20,
   "metadata": {
    "execution": {
     "iopub.execute_input": "2020-10-31T09:18:02.969123Z",
     "iopub.status.busy": "2020-10-31T09:18:02.968651Z",
     "iopub.status.idle": "2020-10-31T09:18:02.974762Z",
     "shell.execute_reply": "2020-10-31T09:18:02.974166Z",
     "shell.execute_reply.started": "2020-10-31T09:18:02.969087Z"
    }
   },
   "outputs": [
    {
     "data": {
      "text/plain": [
       "100"
      ]
     },
     "execution_count": 20,
     "metadata": {},
     "output_type": "execute_result"
    }
   ],
   "source": []
  },
  {
   "cell_type": "code",
   "execution_count": null,
   "metadata": {},
   "outputs": [],
   "source": []
  }
 ],
 "metadata": {
  "kernelspec": {
   "display_name": "Python 3",
   "language": "python",
   "name": "python3"
  },
  "language_info": {
   "codemirror_mode": {
    "name": "ipython",
    "version": 3
   },
   "file_extension": ".py",
   "mimetype": "text/x-python",
   "name": "python",
   "nbconvert_exporter": "python",
   "pygments_lexer": "ipython3",
   "version": "3.8.5"
  }
 },
 "nbformat": 4,
 "nbformat_minor": 4
}
