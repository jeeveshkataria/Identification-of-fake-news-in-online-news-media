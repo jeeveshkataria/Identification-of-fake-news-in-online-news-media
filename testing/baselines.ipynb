{
 "cells": [
  {
   "cell_type": "code",
   "execution_count": 23,
   "metadata": {
    "execution": {
     "iopub.execute_input": "2020-10-30T21:58:39.382451Z",
     "iopub.status.busy": "2020-10-30T21:58:39.382263Z",
     "iopub.status.idle": "2020-10-30T21:58:39.385454Z",
     "shell.execute_reply": "2020-10-30T21:58:39.384633Z",
     "shell.execute_reply.started": "2020-10-30T21:58:39.382426Z"
    }
   },
   "outputs": [],
   "source": [
    "import pickle\n",
    "import re"
   ]
  },
  {
   "cell_type": "code",
   "execution_count": 6,
   "metadata": {
    "execution": {
     "iopub.execute_input": "2020-10-30T21:52:45.413639Z",
     "iopub.status.busy": "2020-10-30T21:52:45.413359Z",
     "iopub.status.idle": "2020-10-30T21:52:45.703984Z",
     "shell.execute_reply": "2020-10-30T21:52:45.703314Z",
     "shell.execute_reply.started": "2020-10-30T21:52:45.413608Z"
    }
   },
   "outputs": [],
   "source": [
    "with open('/scratch/tathagataraha/nela-gt-tfidf-uni.pkl','rb') as f:\n",
    "    tfidf = pickle.load(f)"
   ]
  },
  {
   "cell_type": "code",
   "execution_count": 7,
   "metadata": {
    "execution": {
     "iopub.execute_input": "2020-10-30T21:52:45.751039Z",
     "iopub.status.busy": "2020-10-30T21:52:45.750871Z",
     "iopub.status.idle": "2020-10-30T21:52:45.764730Z",
     "shell.execute_reply": "2020-10-30T21:52:45.764160Z",
     "shell.execute_reply.started": "2020-10-30T21:52:45.751016Z"
    }
   },
   "outputs": [
    {
     "data": {
      "text/plain": [
       "<1x737804 sparse matrix of type '<class 'numpy.float64'>'\n",
       "\twith 5 stored elements in Compressed Sparse Row format>"
      ]
     },
     "execution_count": 7,
     "metadata": {},
     "output_type": "execute_result"
    }
   ],
   "source": [
    "tfidf.transform(['i am a good boy'])"
   ]
  },
  {
   "cell_type": "code",
   "execution_count": 8,
   "metadata": {
    "execution": {
     "iopub.execute_input": "2020-10-30T21:52:50.328884Z",
     "iopub.status.busy": "2020-10-30T21:52:50.328651Z",
     "iopub.status.idle": "2020-10-30T21:52:50.335897Z",
     "shell.execute_reply": "2020-10-30T21:52:50.335271Z",
     "shell.execute_reply.started": "2020-10-30T21:52:50.328855Z"
    }
   },
   "outputs": [],
   "source": [
    "with open('/scratch/tathagataraha/nela-gt-linear-uni.pkl','rb') as f:\n",
    "    model = pickle.load(f)"
   ]
  },
  {
   "cell_type": "code",
   "execution_count": 24,
   "metadata": {
    "execution": {
     "iopub.execute_input": "2020-10-30T21:58:41.633870Z",
     "iopub.status.busy": "2020-10-30T21:58:41.633682Z",
     "iopub.status.idle": "2020-10-30T21:58:41.638415Z",
     "shell.execute_reply": "2020-10-30T21:58:41.637540Z",
     "shell.execute_reply.started": "2020-10-30T21:58:41.633845Z"
    }
   },
   "outputs": [],
   "source": [
    "REPLACE_BY_SPACE_RE = re.compile('[/(){}\\[\\]\\|@,;]')\n",
    "BAD_SYMBOLS_RE = re.compile('[^0-9a-z #+_]')\n",
    "STOPWORDS = []\n",
    "def clean_text(text):\n",
    "    \"\"\"\n",
    "        text: a string\n",
    "        \n",
    "        return: modified initial string\n",
    "    \"\"\"\n",
    "    text = text.lower() # lowercase text\n",
    "    text = REPLACE_BY_SPACE_RE.sub(' ', text) # replace REPLACE_BY_SPACE_RE symbols by space in text. substitute the matched string in REPLACE_BY_SPACE_RE with space.\n",
    "    text = BAD_SYMBOLS_RE.sub('', text) # remove symbols which are in BAD_SYMBOLS_RE from text. substitute the matched string in BAD_SYMBOLS_RE with nothing. \n",
    "#    text = re.sub(r'\\W+', '', text)\n",
    "    text = ' '.join(word for word in text.split() if word not in STOPWORDS) # remove stopwors from text\n",
    "    return text"
   ]
  },
  {
   "cell_type": "code",
   "execution_count": 25,
   "metadata": {
    "execution": {
     "iopub.execute_input": "2020-10-30T21:58:42.692711Z",
     "iopub.status.busy": "2020-10-30T21:58:42.692523Z",
     "iopub.status.idle": "2020-10-30T21:58:42.696488Z",
     "shell.execute_reply": "2020-10-30T21:58:42.695601Z",
     "shell.execute_reply.started": "2020-10-30T21:58:42.692686Z"
    }
   },
   "outputs": [],
   "source": [
    "def predict(article):\n",
    "    article = clean_text(article)\n",
    "    article.replace('\\d+', '')\n",
    "    vect = tfidf.transform([article])\n",
    "    preds = model.predict(vect)\n",
    "    if preds[0] == 0:\n",
    "        return \"Real\"\n",
    "    else:\n",
    "        return \"Fake\""
   ]
  },
  {
   "cell_type": "code",
   "execution_count": 26,
   "metadata": {
    "execution": {
     "iopub.execute_input": "2020-10-30T21:58:43.749105Z",
     "iopub.status.busy": "2020-10-30T21:58:43.748913Z",
     "iopub.status.idle": "2020-10-30T21:58:43.763297Z",
     "shell.execute_reply": "2020-10-30T21:58:43.762484Z",
     "shell.execute_reply.started": "2020-10-30T21:58:43.749080Z"
    }
   },
   "outputs": [
    {
     "data": {
      "text/plain": [
       "'Fake'"
      ]
     },
     "execution_count": 26,
     "metadata": {},
     "output_type": "execute_result"
    }
   ],
   "source": [
    "predict('january am est')"
   ]
  },
  {
   "cell_type": "code",
   "execution_count": null,
   "metadata": {},
   "outputs": [],
   "source": []
  }
 ],
 "metadata": {
  "kernelspec": {
   "display_name": "Python 3",
   "language": "python",
   "name": "python3"
  },
  "language_info": {
   "codemirror_mode": {
    "name": "ipython",
    "version": 3
   },
   "file_extension": ".py",
   "mimetype": "text/x-python",
   "name": "python",
   "nbconvert_exporter": "python",
   "pygments_lexer": "ipython3",
   "version": "3.8.5"
  }
 },
 "nbformat": 4,
 "nbformat_minor": 4
}
