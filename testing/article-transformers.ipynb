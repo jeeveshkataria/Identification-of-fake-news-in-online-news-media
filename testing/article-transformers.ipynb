{
 "cells": [
  {
   "cell_type": "code",
   "execution_count": 25,
   "metadata": {
    "execution": {
     "iopub.execute_input": "2020-10-31T10:11:32.463134Z",
     "iopub.status.busy": "2020-10-31T10:11:32.462939Z",
     "iopub.status.idle": "2020-10-31T10:11:32.467397Z",
     "shell.execute_reply": "2020-10-31T10:11:32.466829Z",
     "shell.execute_reply.started": "2020-10-31T10:11:32.463109Z"
    }
   },
   "outputs": [],
   "source": [
    "# Insert code here.\n",
    "import pandas as pd\n",
    "import numpy as np\n",
    "import random\n",
    "import re\n",
    "import time\n",
    "import datetime\n",
    "from nltk.corpus import stopwords\n",
    "from nltk.tokenize import sent_tokenize\n",
    "from sklearn import model_selection, preprocessing, linear_model, naive_bayes, metrics, svm, neighbors\n",
    "from sklearn.preprocessing import LabelEncoder\n",
    "from transformers import AutoTokenizer\n",
    "import torch\n",
    "from torch.utils.data import TensorDataset, random_split, DataLoader, RandomSampler, SequentialSampler\n",
    "from transformers import AutoModelForSequenceClassification, AdamW, BertConfig\n",
    "from transformers import get_linear_schedule_with_warmup\n",
    "import matplotlib.pyplot as plt\n",
    "import seaborn as sns\n",
    "# from sentence_transformers import SentenceTransformer\n",
    "# sent_encoder = SentenceTransformer('bert-base-nli-mean-tokens')"
   ]
  },
  {
   "cell_type": "code",
   "execution_count": 26,
   "metadata": {
    "execution": {
     "iopub.execute_input": "2020-10-31T10:11:32.665514Z",
     "iopub.status.busy": "2020-10-31T10:11:32.665325Z",
     "iopub.status.idle": "2020-10-31T10:11:39.521683Z",
     "shell.execute_reply": "2020-10-31T10:11:39.521061Z",
     "shell.execute_reply.started": "2020-10-31T10:11:32.665489Z"
    }
   },
   "outputs": [],
   "source": [
    "tokenizer = AutoTokenizer.from_pretrained('textattack/roberta-base-SST-2')"
   ]
  },
  {
   "cell_type": "code",
   "execution_count": 27,
   "metadata": {
    "execution": {
     "iopub.execute_input": "2020-10-31T10:11:39.522900Z",
     "iopub.status.busy": "2020-10-31T10:11:39.522724Z",
     "iopub.status.idle": "2020-10-31T10:11:39.556826Z",
     "shell.execute_reply": "2020-10-31T10:11:39.556061Z",
     "shell.execute_reply.started": "2020-10-31T10:11:39.522878Z"
    }
   },
   "outputs": [
    {
     "name": "stdout",
     "output_type": "stream",
     "text": [
      "There are 3 GPU(s) available.\n",
      "We will use the GPU: GeForce RTX 2080 Ti\n"
     ]
    },
    {
     "ename": "RuntimeError",
     "evalue": "CUDA error: out of memory",
     "output_type": "error",
     "traceback": [
      "\u001b[0;31m---------------------------------------------------------------------------\u001b[0m",
      "\u001b[0;31mRuntimeError\u001b[0m                              Traceback (most recent call last)",
      "\u001b[0;32m<ipython-input-27-cf0d6d69139a>\u001b[0m in \u001b[0;36m<module>\u001b[0;34m\u001b[0m\n\u001b[1;32m     12\u001b[0m     \u001b[0mprint\u001b[0m\u001b[0;34m(\u001b[0m\u001b[0;34m'No GPU available, using the CPU instead.'\u001b[0m\u001b[0;34m)\u001b[0m\u001b[0;34m\u001b[0m\u001b[0;34m\u001b[0m\u001b[0m\n\u001b[1;32m     13\u001b[0m     \u001b[0mdevice\u001b[0m \u001b[0;34m=\u001b[0m \u001b[0mtorch\u001b[0m\u001b[0;34m.\u001b[0m\u001b[0mdevice\u001b[0m\u001b[0;34m(\u001b[0m\u001b[0;34m\"cpu\"\u001b[0m\u001b[0;34m)\u001b[0m\u001b[0;34m\u001b[0m\u001b[0;34m\u001b[0m\u001b[0m\n\u001b[0;32m---> 14\u001b[0;31m \u001b[0mtorch\u001b[0m\u001b[0;34m.\u001b[0m\u001b[0mcuda\u001b[0m\u001b[0;34m.\u001b[0m\u001b[0mempty_cache\u001b[0m\u001b[0;34m(\u001b[0m\u001b[0;34m)\u001b[0m\u001b[0;34m\u001b[0m\u001b[0;34m\u001b[0m\u001b[0m\n\u001b[0m",
      "\u001b[0;32m~/miniconda3/envs/fastai/lib/python3.8/site-packages/torch/cuda/memory.py\u001b[0m in \u001b[0;36mempty_cache\u001b[0;34m()\u001b[0m\n\u001b[1;32m     85\u001b[0m     \"\"\"\n\u001b[1;32m     86\u001b[0m     \u001b[0;32mif\u001b[0m \u001b[0mis_initialized\u001b[0m\u001b[0;34m(\u001b[0m\u001b[0;34m)\u001b[0m\u001b[0;34m:\u001b[0m\u001b[0;34m\u001b[0m\u001b[0;34m\u001b[0m\u001b[0m\n\u001b[0;32m---> 87\u001b[0;31m         \u001b[0mtorch\u001b[0m\u001b[0;34m.\u001b[0m\u001b[0m_C\u001b[0m\u001b[0;34m.\u001b[0m\u001b[0m_cuda_emptyCache\u001b[0m\u001b[0;34m(\u001b[0m\u001b[0;34m)\u001b[0m\u001b[0;34m\u001b[0m\u001b[0;34m\u001b[0m\u001b[0m\n\u001b[0m\u001b[1;32m     88\u001b[0m \u001b[0;34m\u001b[0m\u001b[0m\n\u001b[1;32m     89\u001b[0m \u001b[0;34m\u001b[0m\u001b[0m\n",
      "\u001b[0;31mRuntimeError\u001b[0m: CUDA error: out of memory"
     ]
    }
   ],
   "source": [
    "if torch.cuda.is_available():    \n",
    "\n",
    "    # Tell PyTorch to use the GPU.    \n",
    "    device = torch.device(\"cuda:2\")\n",
    "\n",
    "    print('There are %d GPU(s) available.' % torch.cuda.device_count())\n",
    "\n",
    "    print('We will use the GPU:', torch.cuda.get_device_name(0))\n",
    "\n",
    "# If not...\n",
    "else:\n",
    "    print('No GPU available, using the CPU instead.')\n",
    "    device = torch.device(\"cpu\")\n",
    "torch.cuda.empty_cache()"
   ]
  },
  {
   "cell_type": "code",
   "execution_count": 28,
   "metadata": {
    "execution": {
     "iopub.execute_input": "2020-10-31T10:11:52.195484Z",
     "iopub.status.busy": "2020-10-31T10:11:52.195287Z",
     "iopub.status.idle": "2020-10-31T10:11:54.727132Z",
     "shell.execute_reply": "2020-10-31T10:11:54.726397Z",
     "shell.execute_reply.started": "2020-10-31T10:11:52.195458Z"
    }
   },
   "outputs": [],
   "source": [
    "with open('/scratch/tathagataraha/nela-gt-article-cascadingRoberta-epoch2.pt','rb') as f:\n",
    "    model = torch.load(f, map_location = device)"
   ]
  },
  {
   "cell_type": "code",
   "execution_count": 29,
   "metadata": {
    "execution": {
     "iopub.execute_input": "2020-10-31T10:11:56.420631Z",
     "iopub.status.busy": "2020-10-31T10:11:56.420468Z",
     "iopub.status.idle": "2020-10-31T10:11:56.424417Z",
     "shell.execute_reply": "2020-10-31T10:11:56.423998Z",
     "shell.execute_reply.started": "2020-10-31T10:11:56.420609Z"
    }
   },
   "outputs": [],
   "source": [
    "REPLACE_BY_SPACE_RE = re.compile('[/(){}\\[\\]\\|@,;]')\n",
    "BAD_SYMBOLS_RE = re.compile('[^0-9a-z #+_]')\n",
    "STOPWORDS = []\n",
    "def clean_text(text):\n",
    "    \"\"\"\n",
    "        text: a string\n",
    "        \n",
    "        return: modified initial string\n",
    "    \"\"\"\n",
    "    text = text.lower() # lowercase text\n",
    "    text = REPLACE_BY_SPACE_RE.sub(' ', text) # replace REPLACE_BY_SPACE_RE symbols by space in text. substitute the matched string in REPLACE_BY_SPACE_RE with space.\n",
    "    text = BAD_SYMBOLS_RE.sub('', text) # remove symbols which are in BAD_SYMBOLS_RE from text. substitute the matched string in BAD_SYMBOLS_RE with nothing. \n",
    "#    text = re.sub(r'\\W+', '', text)\n",
    "    text = ' '.join(word for word in text.split() if word not in STOPWORDS) # remove stopwors from text\n",
    "    return text"
   ]
  },
  {
   "cell_type": "code",
   "execution_count": 30,
   "metadata": {
    "execution": {
     "iopub.execute_input": "2020-10-31T10:11:56.629211Z",
     "iopub.status.busy": "2020-10-31T10:11:56.629059Z",
     "iopub.status.idle": "2020-10-31T10:11:56.634856Z",
     "shell.execute_reply": "2020-10-31T10:11:56.634447Z",
     "shell.execute_reply.started": "2020-10-31T10:11:56.629192Z"
    }
   },
   "outputs": [],
   "source": [
    "def predict(article, model):\n",
    "    article = clean_text(article)\n",
    "    article.replace('\\d+', '')\n",
    "    input_ids = []\n",
    "    attention_masks = []\n",
    "    MAX_LENGTH = 220\n",
    "    encoded_dict = tokenizer.encode_plus(\n",
    "                        article,                      # Sentence to encode.\n",
    "                        truncation=True,\n",
    "                        add_special_tokens = True, # Add '[CLS]' and '[SEP]'\n",
    "                        max_length = MAX_LENGTH,           # Pad & truncate all sentences.\n",
    "                        pad_to_max_length = True,\n",
    "                        return_attention_mask = True,   # Construct attn. masks.\n",
    "                        return_tensors = 'pt',     # Return pytorch tensors.\n",
    "                   )\n",
    "    input_ids.append(encoded_dict['input_ids'])\n",
    "    attention_masks.append(encoded_dict['attention_mask'])\n",
    "    input_ids = torch.cat(input_ids, dim=0)\n",
    "    attention_masks = torch.cat(attention_masks, dim=0)\n",
    "#     labels = torch.tensor(categories)\n",
    "    batch_size = 1\n",
    "    prediction_data = TensorDataset(input_ids, attention_masks)\n",
    "    prediction_sampler = SequentialSampler(prediction_data)\n",
    "    prediction_dataloader = DataLoader(prediction_data, sampler=prediction_sampler, batch_size=batch_size)\n",
    "    model.eval()\n",
    "    for batch in prediction_dataloader:\n",
    "  # Add batch to GPU\n",
    "        batch = tuple(t.to(device) for t in batch)\n",
    "\n",
    "        # Unpack the inputs from our dataloader\n",
    "        b_input_ids, b_input_mask = batch\n",
    "\n",
    "        # Telling the model not to compute or store gradients, saving memory and \n",
    "        # speeding up prediction\n",
    "        with torch.no_grad():\n",
    "          # Forward pass, calculate logit predictions\n",
    "          outputs = model(b_input_ids, token_type_ids=None, \n",
    "                          attention_mask=b_input_mask)\n",
    "\n",
    "        logits = outputs[0]\n",
    "\n",
    "        # Move logits and labels to CPU\n",
    "        logits = logits.detach().cpu().numpy()\n",
    "#         label_ids = b_labels.to('cpu').numpy()\n",
    "\n",
    "        # Store predictions and true labels\n",
    "        return np.argmax(logits[0])\n",
    "#         true_labels.append(label_ids)"
   ]
  },
  {
   "cell_type": "code",
   "execution_count": 31,
   "metadata": {
    "execution": {
     "iopub.execute_input": "2020-10-31T10:11:56.855903Z",
     "iopub.status.busy": "2020-10-31T10:11:56.855740Z",
     "iopub.status.idle": "2020-10-31T10:11:56.859516Z",
     "shell.execute_reply": "2020-10-31T10:11:56.859042Z",
     "shell.execute_reply.started": "2020-10-31T10:11:56.855883Z"
    }
   },
   "outputs": [],
   "source": [
    "def get_split(text1):\n",
    "    l_total = []\n",
    "    l_parcial = []\n",
    "    if len(text1.split())//150 >0:\n",
    "        n = len(text1.split())//150\n",
    "    else: \n",
    "        n = 1\n",
    "    for w in range(n):\n",
    "        if w == 0:\n",
    "            l_parcial = text1.split()[:200]\n",
    "            l_total.append(\" \".join(l_parcial))\n",
    "        else:\n",
    "            l_parcial = text1.split()[w*150:w*150 + 200]\n",
    "            l_total.append(\" \".join(l_parcial))\n",
    "    return l_total\n"
   ]
  },
  {
   "cell_type": "code",
   "execution_count": 32,
   "metadata": {
    "execution": {
     "iopub.execute_input": "2020-10-31T10:11:58.071800Z",
     "iopub.status.busy": "2020-10-31T10:11:58.071634Z",
     "iopub.status.idle": "2020-10-31T10:11:58.073703Z",
     "shell.execute_reply": "2020-10-31T10:11:58.073296Z",
     "shell.execute_reply.started": "2020-10-31T10:11:58.071780Z"
    }
   },
   "outputs": [],
   "source": [
    "# def predict(article):\n",
    "#     article = clean_text(article)\n",
    "#     article.replace('\\d+', '')\n",
    "#     vect = tfidf.transform([article])\n",
    "#     preds = model.predict(vect)\n",
    "#     if preds[0] == 0:\n",
    "#         return \"Real\"\n",
    "#     else:\n",
    "#         return \"Fake\""
   ]
  },
  {
   "cell_type": "code",
   "execution_count": 38,
   "metadata": {
    "execution": {
     "iopub.execute_input": "2020-10-31T10:14:25.666958Z",
     "iopub.status.busy": "2020-10-31T10:14:25.666770Z",
     "iopub.status.idle": "2020-10-31T10:14:25.670420Z",
     "shell.execute_reply": "2020-10-31T10:14:25.669887Z",
     "shell.execute_reply.started": "2020-10-31T10:14:25.666933Z"
    }
   },
   "outputs": [],
   "source": [
    "def pipeline(article, model):\n",
    "    splits = get_split(article)\n",
    "    fake = 0\n",
    "    real = 0\n",
    "    for i in splits:\n",
    "        if predict(i, model):\n",
    "            fake += 1\n",
    "        else:\n",
    "            real += 1\n",
    "    if real > fake:\n",
    "        return \"REAL\"\n",
    "    else:\n",
    "        return \"FAKE\""
   ]
  },
  {
   "cell_type": "code",
   "execution_count": 39,
   "metadata": {
    "execution": {
     "iopub.execute_input": "2020-10-31T10:14:26.533569Z",
     "iopub.status.busy": "2020-10-31T10:14:26.533309Z",
     "iopub.status.idle": "2020-10-31T10:14:26.576765Z",
     "shell.execute_reply": "2020-10-31T10:14:26.576271Z",
     "shell.execute_reply.started": "2020-10-31T10:14:26.533541Z"
    }
   },
   "outputs": [
    {
     "data": {
      "text/plain": [
       "'FAKE'"
      ]
     },
     "execution_count": 39,
     "metadata": {},
     "output_type": "execute_result"
    }
   ],
   "source": [
    "pipeline('january am est', model)"
   ]
  },
  {
   "cell_type": "code",
   "execution_count": 20,
   "metadata": {
    "execution": {
     "iopub.execute_input": "2020-10-31T09:18:02.969123Z",
     "iopub.status.busy": "2020-10-31T09:18:02.968651Z",
     "iopub.status.idle": "2020-10-31T09:18:02.974762Z",
     "shell.execute_reply": "2020-10-31T09:18:02.974166Z",
     "shell.execute_reply.started": "2020-10-31T09:18:02.969087Z"
    }
   },
   "outputs": [
    {
     "data": {
      "text/plain": [
       "100"
      ]
     },
     "execution_count": 20,
     "metadata": {},
     "output_type": "execute_result"
    }
   ],
   "source": []
  },
  {
   "cell_type": "code",
   "execution_count": null,
   "metadata": {},
   "outputs": [],
   "source": []
  }
 ],
 "metadata": {
  "kernelspec": {
   "display_name": "Python 3",
   "language": "python",
   "name": "python3"
  },
  "language_info": {
   "codemirror_mode": {
    "name": "ipython",
    "version": 3
   },
   "file_extension": ".py",
   "mimetype": "text/x-python",
   "name": "python",
   "nbconvert_exporter": "python",
   "pygments_lexer": "ipython3",
   "version": "3.8.5"
  }
 },
 "nbformat": 4,
 "nbformat_minor": 4
}
